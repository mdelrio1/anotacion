{
 "cells": [
  {
   "cell_type": "markdown",
   "metadata": {},
   "source": [
    "# Actualización de las bases de datos del NCBI"
   ]
  },
  {
   "cell_type": "markdown",
   "metadata": {},
   "source": [
    "## Paquetes necesarios"
   ]
  },
  {
   "cell_type": "code",
   "execution_count": 5,
   "metadata": {},
   "outputs": [],
   "source": [
    "import os"
   ]
  },
  {
   "cell_type": "markdown",
   "metadata": {},
   "source": [
    "### Se requiere tener instalado el blast\n",
    "https://blast.ncbi.nlm.nih.gov/Blast.cgi?CMD=Web&PAGE_TYPE=BlastDocs&DOC_TYPE=Download\n",
    "ejecutar en el cmd\n",
    "blastn -version\n",
    "\n",
    "### se requiere tener instalado el lenguaje perl\n",
    "https://www.perl.org\n",
    "ejecutar en el cmd\n",
    "perl -version \n",
    "\n"
   ]
  },
  {
   "cell_type": "markdown",
   "metadata": {},
   "source": [
    "### se actualiza la base de datos utilizando un comando de perl"
   ]
  },
  {
   "cell_type": "code",
   "execution_count": 6,
   "metadata": {},
   "outputs": [
    {
     "name": "stdout",
     "output_type": "stream",
     "text": [
      "C:\\Users\\labgenac\\Desktop\\bigdata\n"
     ]
    }
   ],
   "source": [
    "cd \"~/Desktop/bigdata/\""
   ]
  },
  {
   "cell_type": "markdown",
   "metadata": {},
   "source": [
    "## verificar que está el archivo\n",
    "`update_blastdb.pl`\n"
   ]
  },
  {
   "cell_type": "code",
   "execution_count": 7,
   "metadata": {
    "scrolled": false
   },
   "outputs": [
    {
     "name": "stdout",
     "output_type": "stream",
     "text": [
      " El volumen de la unidad C es Windows\n",
      " El número de serie del volumen es: 40EA-5D95\n",
      "\n",
      " Directorio de C:\\Program Files\\NCBI\\blast2_7\\bin\n",
      "\n",
      "18/10/2017  07:40 p. m.            12,488 update_blastdb.pl\n",
      "               1 archivos         12,488 bytes\n",
      "               0 dirs  866,881,794,048 bytes libres\n"
     ]
    }
   ],
   "source": [
    "ls \"C:\\Program Files\\NCBI\\blast2_7\\bin\\update*.*\""
   ]
  },
  {
   "cell_type": "code",
   "execution_count": 8,
   "metadata": {},
   "outputs": [],
   "source": [
    "os.makedirs('16SMicrobial',exist_ok=True)"
   ]
  },
  {
   "cell_type": "code",
   "execution_count": 9,
   "metadata": {},
   "outputs": [
    {
     "name": "stdout",
     "output_type": "stream",
     "text": [
      "C:\\Users\\labgenac\\Desktop\\bigdata\\16SMicrobial\n"
     ]
    }
   ],
   "source": [
    "cd 16SMicrobial/"
   ]
  },
  {
   "cell_type": "code",
   "execution_count": 10,
   "metadata": {},
   "outputs": [
    {
     "name": "stdout",
     "output_type": "stream",
     "text": [
      "Connected to NCBI\n",
      "Downloading 16SMicrobial.tar.gz... [OK]\n"
     ]
    }
   ],
   "source": [
    "!perl \"C:\\Program Files\\NCBI\\blast2_7\\bin\\update_blastdb.pl\" --passive 16SMicrobial\n"
   ]
  },
  {
   "cell_type": "code",
   "execution_count": 11,
   "metadata": {},
   "outputs": [
    {
     "name": "stdout",
     "output_type": "stream",
     "text": [
      " El volumen de la unidad C es Windows\n",
      " El número de serie del volumen es: 40EA-5D95\n",
      "\n",
      " Directorio de C:\\Users\\labgenac\\Desktop\\bigdata\\16SMicrobial\n",
      "\n",
      "27/07/2018  09:00 p. m.    <DIR>          .\n",
      "27/07/2018  09:00 p. m.    <DIR>          ..\n",
      "27/07/2018  09:00 p. m.        29,984,873 16SMicrobial.tar.gz\n",
      "27/07/2018  09:00 p. m.                54 16SMicrobial.tar.gz.md5\n",
      "               2 archivos     29,984,927 bytes\n",
      "               2 dirs  866,843,246,592 bytes libres\n"
     ]
    }
   ],
   "source": [
    "ls"
   ]
  },
  {
   "cell_type": "markdown",
   "metadata": {},
   "source": [
    "## Ejecutar en el \"gitbash\""
   ]
  },
  {
   "cell_type": "raw",
   "metadata": {
    "collapsed": true
   },
   "source": [
    "cd ~/Desktop/bigdata/16SMicrobial/\n",
    "gunzip 16SMicrobial.tar.gz\n",
    "tar xvf  16SMicrobial.tar"
   ]
  },
  {
   "cell_type": "code",
   "execution_count": 13,
   "metadata": {},
   "outputs": [
    {
     "name": "stdout",
     "output_type": "stream",
     "text": [
      " El volumen de la unidad C es Windows\n",
      " El número de serie del volumen es: 40EA-5D95\n",
      "\n",
      " Directorio de C:\\Users\\labgenac\\Desktop\\bigdata\\16SMicrobial\n",
      "\n",
      "27/07/2018  09:03 p. m.    <DIR>          .\n",
      "27/07/2018  09:03 p. m.    <DIR>          ..\n",
      "21/07/2018  11:05 p. m.         3,248,555 16SMicrobial.nhr\n",
      "21/07/2018  11:05 p. m.           241,304 16SMicrobial.nin\n",
      "21/07/2018  11:05 p. m.           163,032 16SMicrobial.nnd\n",
      "21/07/2018  11:05 p. m.               684 16SMicrobial.nni\n",
      "21/07/2018  11:05 p. m.            80,436 16SMicrobial.nog\n",
      "21/07/2018  11:05 p. m.           670,258 16SMicrobial.nsd\n",
      "21/07/2018  11:05 p. m.            14,978 16SMicrobial.nsi\n",
      "21/07/2018  11:05 p. m.         7,421,058 16SMicrobial.nsq\n",
      "27/07/2018  09:00 p. m.       141,332,480 16SMicrobial.tar\n",
      "27/07/2018  09:00 p. m.                54 16SMicrobial.tar.gz.md5\n",
      "21/07/2018  11:05 p. m.       116,995,133 taxdb.btd\n",
      "21/07/2018  11:05 p. m.        12,478,792 taxdb.bti\n",
      "              12 archivos    282,646,764 bytes\n",
      "               2 dirs  866,338,136,064 bytes libres\n"
     ]
    }
   ],
   "source": [
    "ls"
   ]
  },
  {
   "cell_type": "code",
   "execution_count": 16,
   "metadata": {},
   "outputs": [
    {
     "name": "stdout",
     "output_type": "stream",
     "text": [
      "C:\\Users\\labgenac\\Desktop\\bigdata\n"
     ]
    }
   ],
   "source": [
    "cd ~/Desktop/bigdata/"
   ]
  },
  {
   "cell_type": "markdown",
   "metadata": {},
   "source": [
    "### Cómo serían los comandos para descargar y descomprimir las proteinas de referencia (swissprot)?\n"
   ]
  },
  {
   "cell_type": "code",
   "execution_count": 18,
   "metadata": {},
   "outputs": [],
   "source": [
    "os.makedirs('swissprot',exist_ok=True)"
   ]
  },
  {
   "cell_type": "code",
   "execution_count": 19,
   "metadata": {},
   "outputs": [
    {
     "name": "stdout",
     "output_type": "stream",
     "text": [
      "C:\\Users\\labgenac\\Desktop\\bigdata\\swissprot\n"
     ]
    }
   ],
   "source": [
    "cd swissprot"
   ]
  },
  {
   "cell_type": "code",
   "execution_count": 20,
   "metadata": {
    "scrolled": true
   },
   "outputs": [
    {
     "name": "stdout",
     "output_type": "stream",
     "text": [
      "Connected to NCBI\n",
      "Downloading swissprot.tar.gz... [OK]\n"
     ]
    }
   ],
   "source": [
    "!perl \"C:/Program Files/NCBI/blast/bin/update_blastdb.pl\" --passive swissprot"
   ]
  },
  {
   "cell_type": "markdown",
   "metadata": {},
   "source": [
    "## Ejecutar en el \"gitbash\""
   ]
  },
  {
   "cell_type": "raw",
   "metadata": {
    "collapsed": true
   },
   "source": [
    "cd ~/Desktop/bigdata/swissprot\n",
    "gunzip swissprot.tar.gz\n",
    "tar xvf  swissprot.tar"
   ]
  },
  {
   "cell_type": "code",
   "execution_count": 21,
   "metadata": {},
   "outputs": [
    {
     "name": "stdout",
     "output_type": "stream",
     "text": [
      " El volumen de la unidad C es Windows\n",
      " El número de serie del volumen es: 40EA-5D95\n",
      "\n",
      " Directorio de C:\\Users\\labgenac\\Desktop\\bigdata\\swissprot\n",
      "\n",
      "27/07/2018  09:13 p. m.    <DIR>          .\n",
      "27/07/2018  09:13 p. m.    <DIR>          ..\n",
      "26/07/2018  07:31 a. m.       123,875,090 swissprot.00.phr\n",
      "26/07/2018  07:31 a. m.         3,762,512 swissprot.00.pin\n",
      "26/07/2018  07:31 a. m.         4,464,104 swissprot.00.pnd\n",
      "26/07/2018  07:31 a. m.            17,484 swissprot.00.pni\n",
      "26/07/2018  07:31 a. m.         1,881,236 swissprot.00.pog\n",
      "26/07/2018  07:31 a. m.         3,762,408 swissprot.00.ppd\n",
      "26/07/2018  07:31 a. m.            14,748 swissprot.00.ppi\n",
      "26/07/2018  07:31 a. m.        26,459,399 swissprot.00.psd\n",
      "26/07/2018  07:31 a. m.           619,553 swissprot.00.psi\n",
      "26/07/2018  07:31 a. m.       177,897,982 swissprot.00.psq\n",
      "26/07/2018  07:31 a. m.                31 swissprot.pal\n",
      "27/07/2018  09:08 p. m.       473,661,440 swissprot.tar\n",
      "27/07/2018  09:08 p. m.                51 swissprot.tar.gz.md5\n",
      "26/07/2018  11:00 p. m.       118,279,953 taxdb.btd\n",
      "26/07/2018  11:00 p. m.        12,615,000 taxdb.bti\n",
      "              15 archivos    947,310,991 bytes\n",
      "               2 dirs  865,086,697,472 bytes libres\n"
     ]
    }
   ],
   "source": [
    "ls"
   ]
  },
  {
   "cell_type": "code",
   "execution_count": null,
   "metadata": {},
   "outputs": [],
   "source": []
  }
 ],
 "metadata": {
  "kernelspec": {
   "display_name": "Python 3",
   "language": "python",
   "name": "python3"
  },
  "language_info": {
   "codemirror_mode": {
    "name": "ipython",
    "version": 3
   },
   "file_extension": ".py",
   "mimetype": "text/x-python",
   "name": "python",
   "nbconvert_exporter": "python",
   "pygments_lexer": "ipython3",
   "version": "3.6.5"
  }
 },
 "nbformat": 4,
 "nbformat_minor": 2
}
