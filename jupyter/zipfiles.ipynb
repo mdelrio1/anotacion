{
 "cells": [
  {
   "cell_type": "markdown",
   "metadata": {
    "button": false,
    "deletable": true,
    "new_sheet": false,
    "run_control": {
     "read_only": false
    }
   },
   "source": [
    "# Procedimiento para comprimir las bitácoras de jupyter, los datos y poder descargar los archivos del servidor facilmente."
   ]
  },
  {
   "cell_type": "markdown",
   "metadata": {
    "button": false,
    "deletable": true,
    "new_sheet": false,
    "run_control": {
     "read_only": false
    }
   },
   "source": [
    "## este procedimiento comprime carpetas y archivos completos, sin seleccionar alguno en particular"
   ]
  },
  {
   "cell_type": "code",
   "execution_count": 1,
   "metadata": {
    "button": false,
    "collapsed": true,
    "deletable": true,
    "new_sheet": false,
    "run_control": {
     "read_only": false
    }
   },
   "outputs": [],
   "source": [
    "import shutil"
   ]
  },
  {
   "cell_type": "code",
   "execution_count": 7,
   "metadata": {
    "button": false,
    "collapsed": false,
    "deletable": true,
    "new_sheet": false,
    "run_control": {
     "read_only": false
    }
   },
   "outputs": [
    {
     "name": "stdout",
     "output_type": "stream",
     "text": [
      "/home/user1/Desktop\n"
     ]
    }
   ],
   "source": [
    "cd ~/Desktop/"
   ]
  },
  {
   "cell_type": "code",
   "execution_count": 10,
   "metadata": {
    "button": false,
    "collapsed": false,
    "deletable": true,
    "new_sheet": false,
    "run_control": {
     "read_only": false
    }
   },
   "outputs": [
    {
     "data": {
      "text/plain": [
       "'/home/user1/Desktop/zip_jupyter.zip'"
      ]
     },
     "execution_count": 10,
     "metadata": {},
     "output_type": "execute_result"
    }
   ],
   "source": [
    "shutil.make_archive(\"zip_jupyter\", 'zip', \"jupyter/\")"
   ]
  },
  {
   "cell_type": "markdown",
   "metadata": {
    "button": false,
    "deletable": true,
    "new_sheet": false,
    "run_control": {
     "read_only": false
    }
   },
   "source": [
    "### Para comprimir y posteriormente descargar el directorio `data`"
   ]
  },
  {
   "cell_type": "code",
   "execution_count": 11,
   "metadata": {
    "button": false,
    "collapsed": false,
    "deletable": true,
    "new_sheet": false,
    "run_control": {
     "read_only": false
    },
    "scrolled": true
   },
   "outputs": [
    {
     "data": {
      "text/plain": [
       "'/home/user1/Desktop/zip_data.zip'"
      ]
     },
     "execution_count": 11,
     "metadata": {},
     "output_type": "execute_result"
    }
   ],
   "source": [
    "shutil.make_archive(\"zip_data\", 'zip', \"data\")"
   ]
  },
  {
   "cell_type": "code",
   "execution_count": 12,
   "metadata": {
    "button": false,
    "collapsed": false,
    "deletable": true,
    "new_sheet": false,
    "run_control": {
     "read_only": false
    }
   },
   "outputs": [
    {
     "name": "stdout",
     "output_type": "stream",
     "text": [
      "\u001b[0m\u001b[01;34marticulos_y_manuales\u001b[0m/  \u001b[01;34mbigdata\u001b[0m/  \u001b[01;34mdata\u001b[0m/  \u001b[01;34mjupyter\u001b[0m/  zip_data.zip  zip_jupyter.zip\r\n"
     ]
    }
   ],
   "source": [
    "ls"
   ]
  },
  {
   "cell_type": "code",
   "execution_count": null,
   "metadata": {
    "button": false,
    "collapsed": true,
    "deletable": true,
    "new_sheet": false,
    "run_control": {
     "read_only": false
    }
   },
   "outputs": [],
   "source": []
  },
  {
   "cell_type": "code",
   "execution_count": null,
   "metadata": {
    "button": false,
    "collapsed": true,
    "deletable": true,
    "new_sheet": false,
    "run_control": {
     "read_only": false
    }
   },
   "outputs": [],
   "source": []
  },
  {
   "cell_type": "markdown",
   "metadata": {
    "button": false,
    "deletable": true,
    "new_sheet": false,
    "run_control": {
     "read_only": false
    }
   },
   "source": [
    "# Vaya al navegador de jupyter, al directorio `Desktop`, señale el archivo y descarguelo a su computadora"
   ]
  },
  {
   "cell_type": "code",
   "execution_count": null,
   "metadata": {
    "button": false,
    "collapsed": true,
    "deletable": true,
    "new_sheet": false,
    "run_control": {
     "read_only": false
    }
   },
   "outputs": [],
   "source": []
  },
  {
   "cell_type": "code",
   "execution_count": null,
   "metadata": {
    "button": false,
    "collapsed": true,
    "deletable": true,
    "new_sheet": false,
    "run_control": {
     "read_only": false
    }
   },
   "outputs": [],
   "source": []
  },
  {
   "cell_type": "markdown",
   "metadata": {
    "button": false,
    "deletable": true,
    "new_sheet": false,
    "run_control": {
     "read_only": false
    }
   },
   "source": [
    "# Verificando los archivos\n",
    "## avanzado"
   ]
  },
  {
   "cell_type": "code",
   "execution_count": 13,
   "metadata": {
    "button": false,
    "collapsed": true,
    "deletable": true,
    "new_sheet": false,
    "run_control": {
     "read_only": false
    }
   },
   "outputs": [],
   "source": [
    "import zipfile"
   ]
  },
  {
   "cell_type": "code",
   "execution_count": 14,
   "metadata": {
    "button": false,
    "collapsed": false,
    "deletable": true,
    "new_sheet": false,
    "run_control": {
     "read_only": false
    }
   },
   "outputs": [
    {
     "name": "stdout",
     "output_type": "stream",
     "text": [
      "File Name                                             Modified             Size\n",
      ".ipynb_checkpoints/                            2018-08-20 16:58:40            0\n",
      "img/                                           2018-08-18 00:57:22            0\n",
      "trinity/                                       2018-07-31 19:51:58            0\n",
      "03sistema_operativo_basico.ipynb               2018-07-26 20:04:50        15519\n",
      "00temario.ipynb                                2018-08-03 13:09:26         5221\n",
      "03actualizacion_bases_datos_ncbi.ipynb         2018-08-18 01:05:10        16755\n",
      "04_blast_secuencias.ipynb                      2018-08-18 00:52:26       137577\n",
      "05_1alineamiento.ipynb                         2018-08-14 04:04:54        34762\n",
      "zipfiles.ipynb                                 2018-08-20 17:15:08        13955\n",
      "zipbitacoras.ipynb                             2018-08-18 01:53:34        17194\n",
      "zip_jupyter_ipynb.zip                          2018-08-18 01:53:26      1045414\n",
      "Untitled.ipynb                                 2018-08-18 20:26:10         4121\n",
      "09_blastx-710.ipynb                            2018-08-14 01:51:44        44741\n",
      "03_descripcion_de_secuencias_tamano_GC_CpG.ipynb 2018-08-01 16:48:16        41465\n",
      "05_Python.ipynb                                2018-08-03 12:48:58         2151\n",
      "03_0_lenguajes.ipynb                           2018-08-03 12:35:18          777\n",
      "04_a_comandoslinux.ipynb                       2018-08-14 02:14:52         8890\n",
      "04_b_comandospython.ipynb                      2018-08-14 04:13:52        21068\n",
      "04_c_comandosR.ipynb                           2018-08-16 02:11:10         3513\n",
      "04_0_jupyter.ipynb                             2018-08-03 12:46:32          834\n",
      "06_0_biopython.ipynb                           2018-08-14 03:41:06         2456\n",
      "07_0_secuenciacionmasiva.ipynb                 2018-08-03 12:53:34         1098\n",
      "07_1_calidad_fastqc_trimming.ipynb             2018-08-18 01:05:20        23919\n",
      "07_1_cambio_nombre_contigs.ipynb               2018-08-02 14:32:20         7157\n",
      "07_2_ensamblaje.ipynb                          2018-08-02 18:17:04       394186\n",
      "09_1_blastn.ipynb                              2018-08-14 04:05:00       136545\n",
      "09_2_blastx.ipynb                              2018-08-14 01:52:06        90890\n",
      "chaetoceros.ipynb                              2018-08-18 23:10:32        15129\n",
      "blastn.ipynb                                   2018-07-24 14:32:16         4627\n",
      "04_d_especies_morfo.ipynb                      2018-08-20 15:41:06      1849499\n",
      ".ipynb_checkpoints/03sistema_operativo_basico-checkpoint.ipynb 2018-07-26 20:04:50        15519\n",
      ".ipynb_checkpoints/00temario-checkpoint.ipynb  2018-08-03 13:09:26         5221\n",
      ".ipynb_checkpoints/03actualizacion_bases_datos_ncbi-checkpoint.ipynb 2018-08-18 01:05:10        16755\n",
      ".ipynb_checkpoints/04_blast_secuencias-checkpoint.ipynb 2018-08-18 00:52:26       137577\n",
      ".ipynb_checkpoints/blastn-checkpoint.ipynb     2018-07-24 14:32:16         4627\n",
      ".ipynb_checkpoints/05_1alineamiento-checkpoint.ipynb 2018-08-14 04:04:54        34762\n",
      ".ipynb_checkpoints/zipfiles-checkpoint.ipynb   2018-07-30 17:14:56        14416\n",
      ".ipynb_checkpoints/zipbitacoras-checkpoint.ipynb 2018-08-18 01:53:34        17194\n",
      ".ipynb_checkpoints/Untitled-checkpoint.ipynb   2018-08-18 20:26:10         4121\n",
      ".ipynb_checkpoints/09_blastx-710-checkpoint.ipynb 2018-08-14 01:51:44        44741\n",
      ".ipynb_checkpoints/03_descripcion_de_secuencias_tamano_GC_CpG-checkpoint.ipynb 2018-08-01 16:48:16        41465\n",
      ".ipynb_checkpoints/05_Python-checkpoint.ipynb  2018-08-03 12:48:58         2151\n",
      ".ipynb_checkpoints/03_0_lenguajes-checkpoint.ipynb 2018-08-03 12:35:18          777\n",
      ".ipynb_checkpoints/04_a_comandoslinux-checkpoint.ipynb 2018-08-14 02:14:52         8890\n",
      ".ipynb_checkpoints/04_b_comandospython-checkpoint.ipynb 2018-08-14 04:13:52        21068\n",
      ".ipynb_checkpoints/04_c_comandosR-checkpoint.ipynb 2018-08-16 02:11:10         3513\n",
      ".ipynb_checkpoints/04_0_jupyter-checkpoint.ipynb 2018-08-03 12:46:32          834\n",
      ".ipynb_checkpoints/06_0_biopython-checkpoint.ipynb 2018-08-14 03:41:06         2456\n",
      ".ipynb_checkpoints/07_0_secuenciacionmasiva-checkpoint.ipynb 2018-08-03 12:53:34         1098\n",
      ".ipynb_checkpoints/07_1_calidad_fastqc_trimming-checkpoint.ipynb 2018-08-18 01:05:20        23919\n",
      ".ipynb_checkpoints/07_1_cambio_nombre_contigs-checkpoint.ipynb 2018-08-02 14:32:20         7157\n",
      ".ipynb_checkpoints/07_2_ensamblaje-checkpoint.ipynb 2018-08-02 18:17:04       394186\n",
      ".ipynb_checkpoints/09_1_blastn-checkpoint.ipynb 2018-08-14 04:05:00       136545\n",
      ".ipynb_checkpoints/09_2_blastx-checkpoint.ipynb 2018-08-14 01:52:06        90890\n",
      ".ipynb_checkpoints/chaetoceros-checkpoint.ipynb 2018-08-18 23:10:32        15129\n",
      ".ipynb_checkpoints/04_d_especies_morfo-checkpoint.ipynb 2018-08-20 15:41:06      1849499\n",
      "img/tab.png                                    2018-07-23 20:18:56         7310\n",
      "img/trim_galore.png                            2018-07-23 20:24:30       175248\n",
      "img/trim_galore2.png                           2018-07-23 20:24:30       214980\n",
      "img/fastqc2.png                                2018-07-23 20:28:08       148406\n",
      "img/fastqc1.png                                2018-07-23 20:28:10       129047\n",
      "img/trim_galore3.png                           2018-07-23 20:28:12       165903\n",
      "img/cmd_windows.png                            2018-07-30 02:07:02         8567\n",
      "img/gitbash.png                                2018-07-30 02:07:20       294861\n",
      "img/iOS.png                                    2018-07-30 02:07:20        30855\n",
      "img/jupyter_terminal.png                       2018-07-30 02:07:22        92958\n",
      "img/uniprot_1.png                              2018-08-18 00:57:20       585428\n",
      "img/uniprot_2.png                              2018-08-18 00:57:22       673937\n",
      "img/uniprot_3.png                              2018-08-18 00:57:22       113257\n"
     ]
    }
   ],
   "source": [
    "z = zipfile.ZipFile(\"zip_jupyter.zip\", \"r\")\n",
    "z.printdir()"
   ]
  },
  {
   "cell_type": "markdown",
   "metadata": {
    "button": false,
    "deletable": true,
    "new_sheet": false,
    "run_control": {
     "read_only": false
    }
   },
   "source": [
    "### también se puede usar este procedimiento"
   ]
  },
  {
   "cell_type": "code",
   "execution_count": 15,
   "metadata": {
    "button": false,
    "collapsed": false,
    "deletable": true,
    "new_sheet": false,
    "run_control": {
     "read_only": false
    }
   },
   "outputs": [
    {
     "name": "stdout",
     "output_type": "stream",
     "text": [
      ".ipynb_checkpoints/\n",
      "img/\n",
      "trinity/\n",
      "03sistema_operativo_basico.ipynb\n",
      "00temario.ipynb\n",
      "03actualizacion_bases_datos_ncbi.ipynb\n",
      "04_blast_secuencias.ipynb\n",
      "05_1alineamiento.ipynb\n",
      "zipfiles.ipynb\n",
      "zipbitacoras.ipynb\n",
      "zip_jupyter_ipynb.zip\n",
      "Untitled.ipynb\n",
      "09_blastx-710.ipynb\n",
      "03_descripcion_de_secuencias_tamano_GC_CpG.ipynb\n",
      "05_Python.ipynb\n",
      "03_0_lenguajes.ipynb\n",
      "04_a_comandoslinux.ipynb\n",
      "04_b_comandospython.ipynb\n",
      "04_c_comandosR.ipynb\n",
      "04_0_jupyter.ipynb\n",
      "06_0_biopython.ipynb\n",
      "07_0_secuenciacionmasiva.ipynb\n",
      "07_1_calidad_fastqc_trimming.ipynb\n",
      "07_1_cambio_nombre_contigs.ipynb\n",
      "07_2_ensamblaje.ipynb\n",
      "09_1_blastn.ipynb\n",
      "09_2_blastx.ipynb\n",
      "chaetoceros.ipynb\n",
      "blastn.ipynb\n",
      "04_d_especies_morfo.ipynb\n",
      ".ipynb_checkpoints/03sistema_operativo_basico-checkpoint.ipynb\n",
      ".ipynb_checkpoints/00temario-checkpoint.ipynb\n",
      ".ipynb_checkpoints/03actualizacion_bases_datos_ncbi-checkpoint.ipynb\n",
      ".ipynb_checkpoints/04_blast_secuencias-checkpoint.ipynb\n",
      ".ipynb_checkpoints/blastn-checkpoint.ipynb\n",
      ".ipynb_checkpoints/05_1alineamiento-checkpoint.ipynb\n",
      ".ipynb_checkpoints/zipfiles-checkpoint.ipynb\n",
      ".ipynb_checkpoints/zipbitacoras-checkpoint.ipynb\n",
      ".ipynb_checkpoints/Untitled-checkpoint.ipynb\n",
      ".ipynb_checkpoints/09_blastx-710-checkpoint.ipynb\n",
      ".ipynb_checkpoints/03_descripcion_de_secuencias_tamano_GC_CpG-checkpoint.ipynb\n",
      ".ipynb_checkpoints/05_Python-checkpoint.ipynb\n",
      ".ipynb_checkpoints/03_0_lenguajes-checkpoint.ipynb\n",
      ".ipynb_checkpoints/04_a_comandoslinux-checkpoint.ipynb\n",
      ".ipynb_checkpoints/04_b_comandospython-checkpoint.ipynb\n",
      ".ipynb_checkpoints/04_c_comandosR-checkpoint.ipynb\n",
      ".ipynb_checkpoints/04_0_jupyter-checkpoint.ipynb\n",
      ".ipynb_checkpoints/06_0_biopython-checkpoint.ipynb\n",
      ".ipynb_checkpoints/07_0_secuenciacionmasiva-checkpoint.ipynb\n",
      ".ipynb_checkpoints/07_1_calidad_fastqc_trimming-checkpoint.ipynb\n",
      ".ipynb_checkpoints/07_1_cambio_nombre_contigs-checkpoint.ipynb\n",
      ".ipynb_checkpoints/07_2_ensamblaje-checkpoint.ipynb\n",
      ".ipynb_checkpoints/09_1_blastn-checkpoint.ipynb\n",
      ".ipynb_checkpoints/09_2_blastx-checkpoint.ipynb\n",
      ".ipynb_checkpoints/chaetoceros-checkpoint.ipynb\n",
      ".ipynb_checkpoints/04_d_especies_morfo-checkpoint.ipynb\n",
      "img/tab.png\n",
      "img/trim_galore.png\n",
      "img/trim_galore2.png\n",
      "img/fastqc2.png\n",
      "img/fastqc1.png\n",
      "img/trim_galore3.png\n",
      "img/cmd_windows.png\n",
      "img/gitbash.png\n",
      "img/iOS.png\n",
      "img/jupyter_terminal.png\n",
      "img/uniprot_1.png\n",
      "img/uniprot_2.png\n",
      "img/uniprot_3.png\n"
     ]
    }
   ],
   "source": [
    "z = zipfile.ZipFile('zip_jupyter.zip', 'r')\n",
    "names = z.namelist()\n",
    "for name in names:\n",
    "    print (name)"
   ]
  },
  {
   "cell_type": "code",
   "execution_count": null,
   "metadata": {
    "button": false,
    "collapsed": true,
    "deletable": true,
    "new_sheet": false,
    "run_control": {
     "read_only": false
    }
   },
   "outputs": [],
   "source": []
  },
  {
   "cell_type": "code",
   "execution_count": null,
   "metadata": {
    "button": false,
    "collapsed": true,
    "deletable": true,
    "new_sheet": false,
    "run_control": {
     "read_only": false
    }
   },
   "outputs": [],
   "source": []
  },
  {
   "cell_type": "code",
   "execution_count": null,
   "metadata": {
    "button": false,
    "collapsed": true,
    "deletable": true,
    "new_sheet": false,
    "run_control": {
     "read_only": false
    }
   },
   "outputs": [],
   "source": []
  },
  {
   "cell_type": "code",
   "execution_count": null,
   "metadata": {
    "button": false,
    "collapsed": true,
    "deletable": true,
    "new_sheet": false,
    "run_control": {
     "read_only": false
    }
   },
   "outputs": [],
   "source": []
  },
  {
   "cell_type": "markdown",
   "metadata": {
    "button": false,
    "deletable": true,
    "new_sheet": false,
    "run_control": {
     "read_only": false
    }
   },
   "source": [
    "## Para comprimir solo unos archivos se puede usar el siguiente procedimiento"
   ]
  },
  {
   "cell_type": "code",
   "execution_count": 16,
   "metadata": {
    "button": false,
    "collapsed": true,
    "deletable": true,
    "new_sheet": false,
    "run_control": {
     "read_only": false
    }
   },
   "outputs": [],
   "source": [
    "import os, zipfile"
   ]
  },
  {
   "cell_type": "code",
   "execution_count": 17,
   "metadata": {
    "button": false,
    "collapsed": false,
    "deletable": true,
    "new_sheet": false,
    "run_control": {
     "read_only": false
    }
   },
   "outputs": [
    {
     "name": "stdout",
     "output_type": "stream",
     "text": [
      "/home/user1/Desktop/jupyter\n"
     ]
    }
   ],
   "source": [
    "cd jupyter/"
   ]
  },
  {
   "cell_type": "markdown",
   "metadata": {
    "button": false,
    "deletable": true,
    "new_sheet": false,
    "run_control": {
     "read_only": false
    }
   },
   "source": [
    "se van a seleccionar solo los archivos que tengan la extensión `.ipynb`"
   ]
  },
  {
   "cell_type": "code",
   "execution_count": 20,
   "metadata": {
    "button": false,
    "collapsed": false,
    "deletable": true,
    "new_sheet": false,
    "run_control": {
     "read_only": false
    },
    "scrolled": false
   },
   "outputs": [
    {
     "name": "stdout",
     "output_type": "stream",
     "text": [
      "00temario.ipynb\r\n",
      "03_0_lenguajes.ipynb\r\n",
      "03_descripcion_de_secuencias_tamano_GC_CpG.ipynb\r\n",
      "03actualizacion_bases_datos_ncbi.ipynb\r\n",
      "03sistema_operativo_basico.ipynb\r\n",
      "04_0_jupyter.ipynb\r\n",
      "04_a_comandoslinux.ipynb\r\n",
      "04_b_comandospython.ipynb\r\n",
      "04_blast_secuencias.ipynb\r\n",
      "04_c_comandosR.ipynb\r\n",
      "04_d_especies_morfo.ipynb\r\n",
      "05_1alineamiento.ipynb\r\n",
      "05_Python.ipynb\r\n",
      "06_0_biopython.ipynb\r\n",
      "07_0_secuenciacionmasiva.ipynb\r\n",
      "07_1_calidad_fastqc_trimming.ipynb\r\n",
      "07_1_cambio_nombre_contigs.ipynb\r\n",
      "07_2_ensamblaje.ipynb\r\n",
      "09_1_blastn.ipynb\r\n",
      "09_2_blastx.ipynb\r\n",
      "09_blastx-710.ipynb\r\n",
      "Untitled.ipynb\r\n",
      "blastn.ipynb\r\n",
      "chaetoceros.ipynb\r\n",
      "zipbitacoras.ipynb\r\n",
      "zipfiles.ipynb\r\n"
     ]
    }
   ],
   "source": [
    "ls *.ipynb "
   ]
  },
  {
   "cell_type": "code",
   "execution_count": 21,
   "metadata": {
    "button": false,
    "collapsed": false,
    "deletable": true,
    "new_sheet": false,
    "run_control": {
     "read_only": false
    }
   },
   "outputs": [
    {
     "name": "stdout",
     "output_type": "stream",
     "text": [
      "00temario.ipynb\n",
      "03_0_lenguajes.ipynb\n",
      "03_descripcion_de_secuencias_tamano_GC_CpG.ipynb\n",
      "03actualizacion_bases_datos_ncbi.ipynb\n",
      "03sistema_operativo_basico.ipynb\n",
      "04_0_jupyter.ipynb\n",
      "04_a_comandoslinux.ipynb\n",
      "04_b_comandospython.ipynb\n",
      "04_blast_secuencias.ipynb\n",
      "04_c_comandosR.ipynb\n",
      "04_d_especies_morfo.ipynb\n",
      "05_1alineamiento.ipynb\n",
      "05_Python.ipynb\n",
      "06_0_biopython.ipynb\n",
      "07_0_secuenciacionmasiva.ipynb\n",
      "07_1_calidad_fastqc_trimming.ipynb\n",
      "07_1_cambio_nombre_contigs.ipynb\n",
      "07_2_ensamblaje.ipynb\n",
      "09_1_blastn.ipynb\n",
      "09_2_blastx.ipynb\n",
      "09_blastx-710.ipynb\n",
      "Untitled.ipynb\n",
      "blastn.ipynb\n",
      "chaetoceros.ipynb\n",
      "zipbitacoras.ipynb\n",
      "zipfiles.ipynb\n"
     ]
    }
   ],
   "source": [
    "names = !ls  *.ipynb \n",
    "\n",
    "for name in names:\n",
    "    print(name)"
   ]
  },
  {
   "cell_type": "markdown",
   "metadata": {
    "button": false,
    "deletable": true,
    "new_sheet": false,
    "run_control": {
     "read_only": false
    }
   },
   "source": [
    "### Se comprimirán los archivos que terminan con \"*.ipynb \""
   ]
  },
  {
   "cell_type": "code",
   "execution_count": 22,
   "metadata": {
    "button": false,
    "collapsed": true,
    "deletable": true,
    "new_sheet": false,
    "run_control": {
     "read_only": false
    }
   },
   "outputs": [],
   "source": [
    "with zipfile.ZipFile('zip_jupyter_ipynb.zip', 'w') as myzip:\n",
    "    for name in names:\n",
    "        myzip.write(name)"
   ]
  },
  {
   "cell_type": "code",
   "execution_count": 23,
   "metadata": {
    "button": false,
    "collapsed": false,
    "deletable": true,
    "new_sheet": false,
    "run_control": {
     "read_only": false
    }
   },
   "outputs": [
    {
     "name": "stdout",
     "output_type": "stream",
     "text": [
      "00temario.ipynb\r\n",
      "03_0_lenguajes.ipynb\r\n",
      "03_descripcion_de_secuencias_tamano_GC_CpG.ipynb\r\n",
      "03actualizacion_bases_datos_ncbi.ipynb\r\n",
      "03sistema_operativo_basico.ipynb\r\n",
      "04_0_jupyter.ipynb\r\n",
      "04_a_comandoslinux.ipynb\r\n",
      "04_b_comandospython.ipynb\r\n",
      "04_blast_secuencias.ipynb\r\n",
      "04_c_comandosR.ipynb\r\n",
      "04_d_especies_morfo.ipynb\r\n",
      "05_1alineamiento.ipynb\r\n",
      "05_Python.ipynb\r\n",
      "06_0_biopython.ipynb\r\n",
      "07_0_secuenciacionmasiva.ipynb\r\n",
      "07_1_calidad_fastqc_trimming.ipynb\r\n",
      "07_1_cambio_nombre_contigs.ipynb\r\n",
      "07_2_ensamblaje.ipynb\r\n",
      "09_1_blastn.ipynb\r\n",
      "09_2_blastx.ipynb\r\n",
      "09_blastx-710.ipynb\r\n",
      "Untitled.ipynb\r\n",
      "blastn.ipynb\r\n",
      "chaetoceros.ipynb\r\n",
      "\u001b[0m\u001b[01;34mimg\u001b[0m/\r\n",
      "\u001b[01;34mtrinity\u001b[0m/\r\n",
      "zip_jupyter_ipynb.zip\r\n",
      "zipbitacoras.ipynb\r\n",
      "zipfiles.ipynb\r\n"
     ]
    }
   ],
   "source": [
    "ls"
   ]
  },
  {
   "cell_type": "code",
   "execution_count": null,
   "metadata": {
    "button": false,
    "collapsed": true,
    "deletable": true,
    "new_sheet": false,
    "run_control": {
     "read_only": false
    }
   },
   "outputs": [],
   "source": []
  },
  {
   "cell_type": "markdown",
   "metadata": {
    "button": false,
    "deletable": true,
    "new_sheet": false,
    "run_control": {
     "read_only": false
    }
   },
   "source": [
    "# Para comprimir archivos con formato `gz`"
   ]
  },
  {
   "cell_type": "code",
   "execution_count": 1,
   "metadata": {
    "button": false,
    "collapsed": true,
    "deletable": true,
    "new_sheet": false,
    "run_control": {
     "read_only": false
    }
   },
   "outputs": [],
   "source": [
    "import gzip"
   ]
  },
  {
   "cell_type": "code",
   "execution_count": 2,
   "metadata": {
    "button": false,
    "collapsed": true,
    "deletable": true,
    "new_sheet": false,
    "run_control": {
     "read_only": false
    }
   },
   "outputs": [],
   "source": [
    "? gzip"
   ]
  },
  {
   "cell_type": "code",
   "execution_count": 3,
   "metadata": {
    "button": false,
    "collapsed": false,
    "deletable": true,
    "new_sheet": false,
    "run_control": {
     "read_only": false
    }
   },
   "outputs": [
    {
     "name": "stdout",
     "output_type": "stream",
     "text": [
      "/Volumes/Secuenciastext/secuenciacion/SecuenciacionMasiva/sec2017\n"
     ]
    }
   ],
   "source": [
    "cd /Volumes/Secuenciastext/secuenciacion/SecuenciacionMasiva/sec2017/"
   ]
  },
  {
   "cell_type": "code",
   "execution_count": 6,
   "metadata": {
    "button": false,
    "collapsed": false,
    "deletable": true,
    "new_sheet": false,
    "run_control": {
     "read_only": false
    }
   },
   "outputs": [
    {
     "name": "stdout",
     "output_type": "stream",
     "text": [
      "OCRY32_R1_001.fastq              ONEL34_R2_001.fastq\r\n",
      "OCRY32_R2_001.fastq              Oncorhynchus_mtDNA_alignment.fa\r\n",
      "ONEL34_R1_001.fastq\r\n"
     ]
    }
   ],
   "source": [
    "ls"
   ]
  },
  {
   "cell_type": "code",
   "execution_count": 15,
   "metadata": {
    "button": false,
    "collapsed": false,
    "deletable": true,
    "new_sheet": false,
    "run_control": {
     "read_only": false
    }
   },
   "outputs": [
    {
     "name": "stdout",
     "output_type": "stream",
     "text": [
      "/Users/migueldelrio/Documents/SecuenciacionMasiva/sec2017/truchas\n"
     ]
    }
   ],
   "source": [
    "cd ~/Documents/SecuenciacionMasiva/sec2017/truchas"
   ]
  },
  {
   "cell_type": "code",
   "execution_count": 16,
   "metadata": {
    "button": false,
    "collapsed": true,
    "deletable": true,
    "new_sheet": false,
    "run_control": {
     "read_only": false
    }
   },
   "outputs": [],
   "source": [
    "!gzip -k9 ONEL34_R1_001.fastq"
   ]
  },
  {
   "cell_type": "code",
   "execution_count": 17,
   "metadata": {
    "button": false,
    "collapsed": true,
    "deletable": true,
    "new_sheet": false,
    "run_control": {
     "read_only": false
    }
   },
   "outputs": [],
   "source": [
    "# para comprobar la validez del archivo"
   ]
  },
  {
   "cell_type": "code",
   "execution_count": 23,
   "metadata": {
    "button": false,
    "collapsed": false,
    "deletable": true,
    "new_sheet": false,
    "run_control": {
     "read_only": false
    }
   },
   "outputs": [
    {
     "name": "stdout",
     "output_type": "stream",
     "text": [
      "ok\r\n"
     ]
    }
   ],
   "source": [
    "!gzip -t ONEL34_R1_001.fastq.gz && echo ok || echo bad"
   ]
  },
  {
   "cell_type": "code",
   "execution_count": 19,
   "metadata": {
    "button": false,
    "collapsed": true,
    "deletable": true,
    "new_sheet": false,
    "run_control": {
     "read_only": false
    }
   },
   "outputs": [],
   "source": [
    "!gzip -k9 ONEL34_R2_001.fastq"
   ]
  },
  {
   "cell_type": "code",
   "execution_count": 24,
   "metadata": {
    "button": false,
    "collapsed": false,
    "deletable": true,
    "new_sheet": false,
    "run_control": {
     "read_only": false
    }
   },
   "outputs": [
    {
     "name": "stdout",
     "output_type": "stream",
     "text": [
      "ok\r\n"
     ]
    }
   ],
   "source": [
    "!gzip -t ONEL34_R2_001.fastq.gz && echo ok || echo bad"
   ]
  },
  {
   "cell_type": "code",
   "execution_count": 20,
   "metadata": {
    "button": false,
    "collapsed": true,
    "deletable": true,
    "new_sheet": false,
    "run_control": {
     "read_only": false
    }
   },
   "outputs": [],
   "source": [
    "!gzip -k9 OCRY32_R1_001.fastq"
   ]
  },
  {
   "cell_type": "code",
   "execution_count": 25,
   "metadata": {
    "button": false,
    "collapsed": false,
    "deletable": true,
    "new_sheet": false,
    "run_control": {
     "read_only": false
    }
   },
   "outputs": [
    {
     "name": "stdout",
     "output_type": "stream",
     "text": [
      "ok\r\n"
     ]
    }
   ],
   "source": [
    "!gzip -t OCRY32_R1_001.fastq.gz && echo ok || echo bad"
   ]
  },
  {
   "cell_type": "code",
   "execution_count": 21,
   "metadata": {
    "button": false,
    "collapsed": true,
    "deletable": true,
    "new_sheet": false,
    "run_control": {
     "read_only": false
    }
   },
   "outputs": [],
   "source": [
    "!gzip -k9 OCRY32_R2_001.fastq"
   ]
  },
  {
   "cell_type": "code",
   "execution_count": 26,
   "metadata": {
    "button": false,
    "collapsed": false,
    "deletable": true,
    "new_sheet": false,
    "run_control": {
     "read_only": false
    }
   },
   "outputs": [
    {
     "name": "stdout",
     "output_type": "stream",
     "text": [
      "ok\r\n"
     ]
    }
   ],
   "source": [
    "!gzip -t OCRY32_R2_001.fastq.gz && echo ok || echo bad"
   ]
  },
  {
   "cell_type": "code",
   "execution_count": null,
   "metadata": {
    "button": false,
    "collapsed": true,
    "deletable": true,
    "new_sheet": false,
    "run_control": {
     "read_only": false
    }
   },
   "outputs": [],
   "source": []
  },
  {
   "cell_type": "code",
   "execution_count": 1,
   "metadata": {
    "button": false,
    "collapsed": false,
    "deletable": true,
    "new_sheet": false,
    "run_control": {
     "read_only": false
    }
   },
   "outputs": [
    {
     "name": "stdout",
     "output_type": "stream",
     "text": [
      "/Volumes/LaCie_Mac/SecuenciacionMasiva/sec2017\n"
     ]
    }
   ],
   "source": [
    "cd /Volumes/LaCie_Mac/SecuenciacionMasiva/sec2017/"
   ]
  },
  {
   "cell_type": "code",
   "execution_count": 3,
   "metadata": {
    "button": false,
    "collapsed": false,
    "deletable": true,
    "new_sheet": false,
    "run_control": {
     "read_only": false
    }
   },
   "outputs": [],
   "source": [
    "!gzip -d -c Faby_HCOCO12_R1_001.fastq.gz > md5sum"
   ]
  },
  {
   "cell_type": "code",
   "execution_count": 5,
   "metadata": {
    "button": false,
    "collapsed": false,
    "deletable": true,
    "new_sheet": false,
    "run_control": {
     "read_only": false
    }
   },
   "outputs": [
    {
     "name": "stdout",
     "output_type": "stream",
     "text": [
      "MD5 (Faby_HCOCO12_R1_001.fastq.gz) = 8d79c90b5df3d1649c417c02513705de\r\n"
     ]
    }
   ],
   "source": [
    "!md5 Faby_HCOCO12_R1_001.fastq.gz"
   ]
  },
  {
   "cell_type": "code",
   "execution_count": 6,
   "metadata": {
    "button": false,
    "collapsed": false,
    "deletable": true,
    "new_sheet": false,
    "run_control": {
     "read_only": false
    }
   },
   "outputs": [
    {
     "name": "stdout",
     "output_type": "stream",
     "text": [
      "8d79c90b5df3d1649c417c02513705de Faby_HCOCO12_R1_001.fastq.gz\r\n"
     ]
    }
   ],
   "source": [
    "!head Faby_HCOCO12_R1_001.fastq.gz.md5"
   ]
  },
  {
   "cell_type": "code",
   "execution_count": 31,
   "metadata": {
    "button": false,
    "collapsed": false,
    "deletable": true,
    "new_sheet": false,
    "run_control": {
     "read_only": false
    }
   },
   "outputs": [
    {
     "name": "stdout",
     "output_type": "stream",
     "text": [
      "18171b9c233198f4cf6c19eddbca00f4 Faby_ONEL34_R1_001.fastq.gz\r\n"
     ]
    }
   ],
   "source": [
    "!head md5/ONEL34_R1_001.fastq.gz.md5"
   ]
  },
  {
   "cell_type": "code",
   "execution_count": null,
   "metadata": {
    "button": false,
    "collapsed": true,
    "deletable": true,
    "new_sheet": false,
    "run_control": {
     "read_only": false
    }
   },
   "outputs": [],
   "source": [
    "!gzip -k9 HSOR8_R2_001.fastq"
   ]
  },
  {
   "cell_type": "code",
   "execution_count": null,
   "metadata": {
    "button": false,
    "collapsed": true,
    "deletable": true,
    "new_sheet": false,
    "run_control": {
     "read_only": false
    }
   },
   "outputs": [],
   "source": [
    "!gzip -d -c HSOR8_R2_001.fastq.gz | md5sum"
   ]
  },
  {
   "cell_type": "code",
   "execution_count": 32,
   "metadata": {
    "button": false,
    "collapsed": false,
    "deletable": true,
    "new_sheet": false,
    "run_control": {
     "read_only": false
    }
   },
   "outputs": [
    {
     "name": "stdout",
     "output_type": "stream",
     "text": [
      "MD5 (HSOR8_R2_001.fastq.gz) = 5ce59bccce0443a435d632cddf4b53ad\r\n"
     ]
    }
   ],
   "source": [
    "!md5 HSOR8_R2_001.fastq.gz"
   ]
  },
  {
   "cell_type": "code",
   "execution_count": 33,
   "metadata": {
    "button": false,
    "collapsed": false,
    "deletable": true,
    "new_sheet": false,
    "run_control": {
     "read_only": false
    }
   },
   "outputs": [
    {
     "name": "stdout",
     "output_type": "stream",
     "text": [
      "890ab624be10d8fa25f028e778bf0df8 Faby_HSOR8_R1_001.fastq.gz\r\n"
     ]
    }
   ],
   "source": [
    "!head md5/HSOR8_R1_001.fastq.gz.md5"
   ]
  },
  {
   "cell_type": "code",
   "execution_count": 8,
   "metadata": {
    "button": false,
    "collapsed": false,
    "deletable": true,
    "new_sheet": false,
    "run_control": {
     "read_only": false
    }
   },
   "outputs": [
    {
     "name": "stdout",
     "output_type": "stream",
     "text": [
      "/bin/sh: openss1: command not found\r\n"
     ]
    }
   ],
   "source": [
    "!openss1 md5 Faby_HCOCO12_R1_001.fastq.gz"
   ]
  },
  {
   "cell_type": "code",
   "execution_count": 11,
   "metadata": {
    "button": false,
    "collapsed": true,
    "deletable": true,
    "new_sheet": false,
    "run_control": {
     "read_only": false
    }
   },
   "outputs": [],
   "source": [
    "?hashlib\n"
   ]
  },
  {
   "cell_type": "code",
   "execution_count": 1,
   "metadata": {
    "button": false,
    "collapsed": true,
    "deletable": true,
    "new_sheet": false,
    "run_control": {
     "read_only": false
    }
   },
   "outputs": [],
   "source": [
    "import os"
   ]
  },
  {
   "cell_type": "code",
   "execution_count": 3,
   "metadata": {
    "collapsed": false,
    "run_control": {}
   },
   "outputs": [],
   "source": [
    "?os.path()"
   ]
  },
  {
   "cell_type": "code",
   "execution_count": null,
   "metadata": {
    "collapsed": true,
    "run_control": {}
   },
   "outputs": [],
   "source": []
  }
 ],
 "metadata": {
  "kernelspec": {
   "display_name": "Python 3",
   "language": "python",
   "name": "python3"
  },
  "language_info": {
   "codemirror_mode": {
    "name": "ipython",
    "version": 3
   },
   "file_extension": ".py",
   "mimetype": "text/x-python",
   "name": "python",
   "nbconvert_exporter": "python",
   "pygments_lexer": "ipython3",
   "version": "3.5.0"
  }
 },
 "nbformat": 4,
 "nbformat_minor": 2
}
