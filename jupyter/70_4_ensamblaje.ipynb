{
 "cells": [
  {
   "cell_type": "markdown",
   "metadata": {},
   "source": [
    "# Ensamblaje de contigs con Trinity\n",
    "https://github.com/trinityrnaseq/trinityrnaseq/wiki"
   ]
  },
  {
   "cell_type": "code",
   "execution_count": 1,
   "metadata": {},
   "outputs": [
    {
     "name": "stdout",
     "output_type": "stream",
     "text": [
      "/Users/migueldelrio/Desktop/curso/data/ejercicio_fastqc\n"
     ]
    }
   ],
   "source": [
    "cd ../data/ejercicio_fastqc/"
   ]
  },
  {
   "cell_type": "code",
   "execution_count": 2,
   "metadata": {},
   "outputs": [
    {
     "name": "stdout",
     "output_type": "stream",
     "text": [
      "\u001b[31m8_S356_L001_R1_001.fastq\u001b[m\u001b[m* jupiter.png\r\n",
      "\u001b[31m8_S356_L001_R2_001.fastq\u001b[m\u001b[m* \u001b[34mtrinity\u001b[m\u001b[m/\r\n"
     ]
    }
   ],
   "source": [
    "ls"
   ]
  },
  {
   "cell_type": "markdown",
   "metadata": {},
   "source": [
    "### Se requiere utilizar los archivos obtenidos con el trim_galore\n",
    "`\n",
    "8_S356_L001_R1_001_val_1.fq\n",
    "8_S356_L001_R2_001_val_2.fq`"
   ]
  },
  {
   "cell_type": "code",
   "execution_count": null,
   "metadata": {},
   "outputs": [],
   "source": [
    "%%bash\n",
    "Trinity \\\n",
    "--seqType fq \\\n",
    "--left  /Users/migueldelrio/Desktop/curso/data/ejercicio_fastqc/8_S356_L001_R1_001.fastq \\\n",
    "--right /Users/migueldelrio/Desktop/curso/data/ejercicio_fastqc/8_S356_L001_R2_001.fastq \\\n",
    "--min_contig_length 200 \\\n",
    "--output /Users/migueldelrio/Desktop/curso/data/ejercicio_fastqc/trinity "
   ]
  },
  {
   "cell_type": "code",
   "execution_count": 10,
   "metadata": {},
   "outputs": [
    {
     "name": "stdout",
     "output_type": "stream",
     "text": [
      "#######################################\n",
      "Running Java Tests\n",
      "CMD: java -jar /Users/migueldelrio/anaconda3/opt/trinity-date.2011_11_26/util/ExitTester.jar 0\n",
      "CMD: java -jar /Users/migueldelrio/anaconda3/opt/trinity-date.2011_11_26/util/ExitTester.jar 1\n",
      "-we properly captured the java failure status, as needed.  Looking good.\n",
      "Java tests succeeded.\n",
      "###################################\n",
      "\n",
      "CMD: /Users/migueldelrio/anaconda3/opt/trinity-date.2011_11_26/util/fastQ_to_fastA.pl -I /Users/migueldelrio/Desktop/curso/data/ejercicio_fastqc/8_S356_L001_R1_001.fastq > left.fa\n",
      "CMD: /Users/migueldelrio/anaconda3/opt/trinity-date.2011_11_26/util/fastQ_to_fastA.pl -I /Users/migueldelrio/Desktop/curso/data/ejercicio_fastqc/8_S356_L001_R2_001.fastq > right.fa\n",
      "CMD: sed  's/^>.*/>/' both.fa > both.fa.headless\n",
      "CMD: /Users/migueldelrio/anaconda3/opt/trinity-date.2011_11_26/trinity-plugins/kmer/meryl/meryl -v -B -m 25 -s both.fa.headless -o meryl_kmer_db -C\n"
     ]
    },
    {
     "name": "stderr",
     "output_type": "stream",
     "text": [
      "Use of uninitialized value $ENV{\"OSTYPE\"} in string eq at ./Trinity.pl line 196.\n",
      "-since butterfly will eventually be run, lets test for proper execution of java\n",
      "-java tests succeeded.\n",
      "\n",
      "\n",
      "fastaFile::constructIndex()-- stat mismatch.\n",
      "Have NO LIMITS!: mersPerBatch=1 segmentLimit=1\n",
      "basesPerBatch = 0\n",
      "Computing 1 segments using AS MUCH MEMORY AS NEEDED.\n",
      "  numMersActual      = 1\n",
      "  mersPerBatch       = 1\n",
      "  basesPerBatch      = 0\n",
      "  numBuckets         = 4 (2 bits)\n",
      "  bucketPointerWidth = 1\n",
      "  merDataWidth       = 48\n",
      " Allocating 0MB for mer storage (48 bits wide).\n",
      " Allocating 0MB for bucket pointer table (1 bits wide).\n",
      " Allocating 0MB for counting the size of each bucket.\n",
      "Assertion failed: (beg < end), function setBaseRange, file /anaconda/conda-bld/work/trinityrnaseq_r2011-11-26/trinity-plugins/kmer/libseq/merStream.C, line 45.\n",
      "Error, cmd: /Users/migueldelrio/anaconda3/opt/trinity-date.2011_11_26/trinity-plugins/kmer/meryl/meryl -v -B -m 25 -s both.fa.headless -o meryl_kmer_db -C died with ret 6 at ./Trinity.pl line 626.\n"
     ]
    }
   ],
   "source": [
    "%%bash\n",
    "Trinity \\\n",
    "--seqType fq \\\n",
    "--left /Users/migueldelrio/Desktop/curso/data/ejercicio_fastqc/8_S356_L001_R1_001.fastq \\\n",
    "--right /Users/migueldelrio/Desktop/curso/data/ejercicio_fastqc/8_S356_L001_R2_001.fastq \\\n",
    "--CPU 2 \\\n",
    "--min_contig_length 200 \\\n",
    "--output /Users/migueldelrio/Desktop/curso/data/ejercicio_fastqc/trinity"
   ]
  },
  {
   "cell_type": "markdown",
   "metadata": {},
   "source": [
    "# Ensamblaje con velvet"
   ]
  },
  {
   "cell_type": "code",
   "execution_count": 1,
   "metadata": {},
   "outputs": [
    {
     "ename": "SyntaxError",
     "evalue": "invalid syntax (<ipython-input-1-8faf87e6c766>, line 1)",
     "output_type": "error",
     "traceback": [
      "\u001b[0;36m  File \u001b[0;32m\"<ipython-input-1-8faf87e6c766>\"\u001b[0;36m, line \u001b[0;32m1\u001b[0m\n\u001b[0;31m    VelvetOptimiser.pl [options] -f 'velveth input line'\u001b[0m\n\u001b[0m                                                       ^\u001b[0m\n\u001b[0;31mSyntaxError\u001b[0m\u001b[0;31m:\u001b[0m invalid syntax\n"
     ]
    }
   ],
   "source": [
    "VelvetOptimiser.pl [options] -f 'velveth input line'"
   ]
  },
  {
   "cell_type": "code",
   "execution_count": 2,
   "metadata": {},
   "outputs": [
    {
     "name": "stderr",
     "output_type": "stream",
     "text": [
      "bash: line 1: VelvetOptimiser: command not found\n"
     ]
    }
   ],
   "source": [
    "%%bash\n",
    "VelvetOptimiser -s 27 -e 31 -f '-short -fastq 8_S356_L001_R1_001.fastq 8_S356_L001_R2_001.fastq ' -g 4.5 -t 8"
   ]
  },
  {
   "cell_type": "code",
   "execution_count": 6,
   "metadata": {},
   "outputs": [
    {
     "name": "stderr",
     "output_type": "stream",
     "text": [
      "bash: line 1: velvet: command not found\n"
     ]
    }
   ],
   "source": [
    "%%bash\n",
    "velvet"
   ]
  },
  {
   "cell_type": "code",
   "execution_count": null,
   "metadata": {},
   "outputs": [],
   "source": []
  }
 ],
 "metadata": {
  "kernelspec": {
   "display_name": "Python 3",
   "language": "python",
   "name": "python3"
  },
  "language_info": {
   "codemirror_mode": {
    "name": "ipython",
    "version": 3
   },
   "file_extension": ".py",
   "mimetype": "text/x-python",
   "name": "python",
   "nbconvert_exporter": "python",
   "pygments_lexer": "ipython3",
   "version": "3.6.5"
  }
 },
 "nbformat": 4,
 "nbformat_minor": 2
}
