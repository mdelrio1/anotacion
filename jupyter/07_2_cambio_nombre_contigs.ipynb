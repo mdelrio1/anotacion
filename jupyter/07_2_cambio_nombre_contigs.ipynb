{
 "cells": [
  {
   "cell_type": "markdown",
   "metadata": {},
   "source": [
    "# Procedimiento para cambiar de nombre a los contigs\n",
    "## se pondrá de `8_S356_contig000001` en adelante"
   ]
  },
  {
   "cell_type": "markdown",
   "metadata": {},
   "source": [
    "## Se utilizarán los contigs formados por el ensamblaje que se localizan en \n",
    "`~/Desktop/data/ejercicio_ensamblaje/trinity/Trinity.fasta`"
   ]
  },
  {
   "cell_type": "code",
   "execution_count": null,
   "metadata": {},
   "outputs": [],
   "source": [
    "ls ~/Desktop/data/ejercicio_ensamblaje/trinity/T*"
   ]
  },
  {
   "cell_type": "code",
   "execution_count": null,
   "metadata": {},
   "outputs": [],
   "source": [
    "cd ~/Desktop/data/ejercicio_ensamblaje/trinity/"
   ]
  },
  {
   "cell_type": "code",
   "execution_count": null,
   "metadata": {},
   "outputs": [],
   "source": [
    "!grep \">\" Trinity.fasta |wc -l"
   ]
  },
  {
   "cell_type": "code",
   "execution_count": null,
   "metadata": {},
   "outputs": [],
   "source": [
    "from Bio import SeqIO\n",
    "from Bio.SeqRecord import SeqRecord\n",
    "from Bio.Seq import Seq"
   ]
  },
  {
   "cell_type": "code",
   "execution_count": null,
   "metadata": {},
   "outputs": [],
   "source": [
    "# Celda Cambio de nombre\n",
    "n=0\n",
    "secuencias = []\n",
    "\n",
    "f = open(\"Trinity.fasta\", \"r\")\n",
    "for rec in SeqIO.parse(f, \"fasta\"):\n",
    "    n+=1\n",
    "    n1 =str(n).zfill(6)\n",
    "    sec = rec.seq\n",
    "    linea =SeqRecord(sec, id=\"8_S356_contig\"+ n1, description=rec.description)\n",
    "    #print (linea.id, \"\\t\", linea.description[:20], linea.seq[:10])\n",
    "    secuencias.append(linea)\n",
    "    if n%10==0:\n",
    "        print (\"procesando\", linea.id, \"\\t\", linea.description[:20], linea.seq[:10])\n",
    "print (\"procesando\", linea.id, \"\\t\", linea.description[:20], linea.seq[:10])"
   ]
  },
  {
   "cell_type": "code",
   "execution_count": null,
   "metadata": {},
   "outputs": [],
   "source": [
    "SeqIO.write(secuencias, '../8_S356_contigs.fa', 'fasta')"
   ]
  },
  {
   "cell_type": "code",
   "execution_count": null,
   "metadata": {},
   "outputs": [],
   "source": [
    "ls ../"
   ]
  },
  {
   "cell_type": "markdown",
   "metadata": {},
   "source": [
    "## Abra el archivo `../8_S356_contigs.fa` desde el navegador de Jupyter y observe los cambios"
   ]
  },
  {
   "cell_type": "markdown",
   "metadata": {},
   "source": [
    "## De qué otra forma podría observar los cambios?"
   ]
  },
  {
   "cell_type": "code",
   "execution_count": null,
   "metadata": {},
   "outputs": [],
   "source": []
  },
  {
   "cell_type": "markdown",
   "metadata": {},
   "source": [
    "### Cómo se podría cambiar el comando de la \n",
    "*# Celda Cambio de nombre*\n",
    "### para usar `8_S356_contig001` en adelante (que tenga tres cifras en vez de seis)?"
   ]
  },
  {
   "cell_type": "code",
   "execution_count": null,
   "metadata": {},
   "outputs": [],
   "source": []
  },
  {
   "cell_type": "code",
   "execution_count": null,
   "metadata": {},
   "outputs": [],
   "source": []
  }
 ],
 "metadata": {
  "kernelspec": {
   "display_name": "Python 3",
   "language": "python",
   "name": "python3"
  },
  "language_info": {
   "codemirror_mode": {
    "name": "ipython",
    "version": 3
   },
   "file_extension": ".py",
   "mimetype": "text/x-python",
   "name": "python",
   "nbconvert_exporter": "python",
   "pygments_lexer": "ipython3",
   "version": "3.6.5"
  }
 },
 "nbformat": 4,
 "nbformat_minor": 2
}
