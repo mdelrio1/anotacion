{
 "cells": [
  {
   "cell_type": "markdown",
   "metadata": {},
   "source": [
    "# Ensamblaje de contigs con Trinity\n",
    "https://github.com/trinityrnaseq/trinityrnaseq/wiki"
   ]
  },
  {
   "cell_type": "code",
   "execution_count": 2,
   "metadata": {},
   "outputs": [
    {
     "name": "stdout",
     "output_type": "stream",
     "text": [
      "/home/user1/Desktop/data/ejercicio_fastqc\n"
     ]
    }
   ],
   "source": [
    "cd ~/Desktop/data/ejercicio_fastqc/"
   ]
  },
  {
   "cell_type": "code",
   "execution_count": 3,
   "metadata": {},
   "outputs": [
    {
     "name": "stdout",
     "output_type": "stream",
     "text": [
      "8_S356_L001_R1_001.fastq\r\n",
      "8_S356_L001_R1_001.fastq_trimming_report.txt\r\n",
      "8_S356_L001_R1_001_fastqc.html\r\n",
      "8_S356_L001_R1_001_fastqc.zip\r\n",
      "8_S356_L001_R1_001_val_1.fq\r\n",
      "8_S356_L001_R1_001_val_1_fastqc.html\r\n",
      "8_S356_L001_R1_001_val_1_fastqc.zip\r\n",
      "8_S356_L001_R2_001.fastq\r\n",
      "8_S356_L001_R2_001.fastq_trimming_report.txt\r\n",
      "8_S356_L001_R2_001_fastqc.html\r\n",
      "8_S356_L001_R2_001_fastqc.zip\r\n",
      "8_S356_L001_R2_001_val_2.fq\r\n",
      "8_S356_L001_R2_001_val_2_fastqc.html\r\n",
      "8_S356_L001_R2_001_val_2_fastqc.zip\r\n",
      "\u001b[0m\u001b[01;34m8_S356_fastqc\u001b[0m/\r\n",
      "jupyter.png\r\n",
      "jupyter_navegador.png\r\n"
     ]
    }
   ],
   "source": [
    "ls "
   ]
  },
  {
   "cell_type": "markdown",
   "metadata": {},
   "source": [
    "### Se requiere utilizar los archivos obtenidos con el trim_galore\n",
    "`\n",
    "8_S356_L001_R1_001_val_1.fq\n",
    "8_S356_L001_R2_001_val_2.fq`"
   ]
  },
  {
   "cell_type": "code",
   "execution_count": 5,
   "metadata": {},
   "outputs": [
    {
     "name": "stdout",
     "output_type": "stream",
     "text": [
      "8_S356_L001_R1_001_val_1.fq  8_S356_L001_R2_001_val_2.fq\r\n"
     ]
    }
   ],
   "source": [
    "ls *.fq"
   ]
  },
  {
   "cell_type": "code",
   "execution_count": 6,
   "metadata": {},
   "outputs": [
    {
     "name": "stdout",
     "output_type": "stream",
     "text": [
      "\n",
      "\n",
      "     ______  ____   ____  ____   ____  ______  __ __\n",
      "    |      ||    \\ |    ||    \\ |    ||      ||  |  |\n",
      "    |      ||  D  ) |  | |  _  | |  | |      ||  |  |\n",
      "    |_|  |_||    /  |  | |  |  | |  | |_|  |_||  ~  |\n",
      "      |  |  |    \\  |  | |  |  | |  |   |  |  |___, |\n",
      "      |  |  |  .  \\ |  | |  |  | |  |   |  |  |     |\n",
      "      |__|  |__|\\_||____||__|__||____|  |__|  |____/\n",
      "\n",
      "\n",
      "Left read files: $VAR1 = [\n",
      "          '8_S356_L001_R1_001_val_1.fq'\n",
      "        ];\n",
      "Right read files: $VAR1 = [\n",
      "          '8_S356_L001_R2_001_val_2.fq'\n",
      "        ];\n",
      "Trinity version: Trinity-v2.6.6\n",
      "** NOTE: Latest version of Trinity is Trinity-v2.7.0-PRERELEASE, and can be obtained at:\n",
      "\thttps://github.com/trinityrnaseq/trinityrnaseq/releases\n",
      "\n",
      "Error, please install a version of salmon that is at least as new as version 0.9.  Get it here: https://combine-lab.github.io/salmon/ at /home/jupyter/miniconda3/bin/Trinity line 3693.\n"
     ]
    }
   ],
   "source": [
    "%%bash\n",
    "Trinity \\\n",
    "--seqType fq \\\n",
    "--max_memory 10G \\\n",
    "--CPU 4 \\\n",
    "--left  8_S356_L001_R1_001_val_1.fq \\\n",
    "--right 8_S356_L001_R2_001_val_2.fq \\\n",
    "--min_contig_length 200 \\\n",
    "--output ./trinity "
   ]
  },
  {
   "cell_type": "code",
   "execution_count": 7,
   "metadata": {},
   "outputs": [
    {
     "name": "stdout",
     "output_type": "stream",
     "text": [
      "\n",
      "\n",
      "     ______  ____   ____  ____   ____  ______  __ __\n",
      "    |      ||    \\ |    ||    \\ |    ||      ||  |  |\n",
      "    |      ||  D  ) |  | |  _  | |  | |      ||  |  |\n",
      "    |_|  |_||    /  |  | |  |  | |  | |_|  |_||  ~  |\n",
      "      |  |  |    \\  |  | |  |  | |  |   |  |  |___, |\n",
      "      |  |  |  .  \\ |  | |  |  | |  |   |  |  |     |\n",
      "      |__|  |__|\\_||____||__|__||____|  |__|  |____/\n",
      "\n",
      "\n",
      "Left read files: $VAR1 = [\n",
      "          '8_S356_L001_R1_001_val_1.fq'\n",
      "        ];\n",
      "Right read files: $VAR1 = [\n",
      "          '8_S356_L001_R2_001_val_2.fq'\n",
      "        ];\n",
      "Trinity version: Trinity-v2.6.6\n",
      "** NOTE: Latest version of Trinity is Trinity-v2.7.0-PRERELEASE, and can be obtained at:\n",
      "\thttps://github.com/trinityrnaseq/trinityrnaseq/releases\n",
      "\n",
      "Error, please install a version of salmon that is at least as new as version 0.9.  Get it here: https://combine-lab.github.io/salmon/ at /home/jupyter/miniconda3/bin/Trinity line 3693.\n"
     ]
    }
   ],
   "source": [
    "%%bash\n",
    "Trinity \\\n",
    "--seqType fq \\\n",
    "--max_memory 10G \\\n",
    "--CPU 4 \\\n",
    "--trimmomatic \\\n",
    "--left  8_S356_L001_R1_001_val_1.fq \\\n",
    "--right 8_S356_L001_R2_001_val_2.fq \\\n",
    "--min_contig_length 200 \\\n",
    "--output ../ejercicio_ensamblaje/trinity \\"
   ]
  },
  {
   "cell_type": "code",
   "execution_count": 9,
   "metadata": {},
   "outputs": [
    {
     "name": "stdout",
     "output_type": "stream",
     "text": [
      "8_S356_L001_R1_001.fastq\r\n",
      "8_S356_L001_R1_001.fastq_trimming_report.txt\r\n",
      "8_S356_L001_R1_001_fastqc.html\r\n",
      "8_S356_L001_R1_001_fastqc.zip\r\n",
      "8_S356_L001_R1_001_val_1.fq\r\n",
      "8_S356_L001_R1_001_val_1_fastqc.html\r\n",
      "8_S356_L001_R1_001_val_1_fastqc.zip\r\n",
      "8_S356_L001_R2_001.fastq\r\n",
      "8_S356_L001_R2_001.fastq_trimming_report.txt\r\n",
      "8_S356_L001_R2_001_fastqc.html\r\n",
      "8_S356_L001_R2_001_fastqc.zip\r\n",
      "8_S356_L001_R2_001_val_2.fq\r\n",
      "8_S356_L001_R2_001_val_2_fastqc.html\r\n",
      "8_S356_L001_R2_001_val_2_fastqc.zip\r\n",
      "\u001b[0m\u001b[01;34m8_S356_fastqc\u001b[0m/\r\n",
      "jupyter.png\r\n",
      "jupyter_navegador.png\r\n"
     ]
    }
   ],
   "source": [
    "ls "
   ]
  },
  {
   "cell_type": "code",
   "execution_count": null,
   "metadata": {},
   "outputs": [],
   "source": []
  },
  {
   "cell_type": "code",
   "execution_count": null,
   "metadata": {},
   "outputs": [],
   "source": []
  }
 ],
 "metadata": {
  "kernelspec": {
   "display_name": "Python 3",
   "language": "python",
   "name": "python3"
  },
  "language_info": {
   "codemirror_mode": {
    "name": "ipython",
    "version": 3
   },
   "file_extension": ".py",
   "mimetype": "text/x-python",
   "name": "python",
   "nbconvert_exporter": "python",
   "pygments_lexer": "ipython3",
   "version": "3.6.4"
  }
 },
 "nbformat": 4,
 "nbformat_minor": 2
}
