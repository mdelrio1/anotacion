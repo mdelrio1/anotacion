{
 "cells": [
  {
   "cell_type": "markdown",
   "metadata": {},
   "source": [
    "# Alineamiento de diferentes secuencias de un mismo locus con Biopython"
   ]
  },
  {
   "cell_type": "code",
   "execution_count": 1,
   "metadata": {},
   "outputs": [],
   "source": [
    "import os, pylab\n",
    "from Bio.Align.Applications import ClustalwCommandline\n",
    "from Bio import pairwise2, SeqIO, AlignIO, Phylo\n"
   ]
  },
  {
   "cell_type": "code",
   "execution_count": 2,
   "metadata": {},
   "outputs": [
    {
     "data": {
      "text/plain": [
       "'/home/user1/Desktop/jupyter'"
      ]
     },
     "execution_count": 2,
     "metadata": {},
     "output_type": "execute_result"
    }
   ],
   "source": [
    "pwd"
   ]
  },
  {
   "cell_type": "code",
   "execution_count": 3,
   "metadata": {},
   "outputs": [
    {
     "name": "stdout",
     "output_type": "stream",
     "text": [
      "/home/user1/Desktop/data/fasta\n"
     ]
    }
   ],
   "source": [
    "cd ../data/fasta/"
   ]
  },
  {
   "cell_type": "code",
   "execution_count": 4,
   "metadata": {},
   "outputs": [
    {
     "name": "stdout",
     "output_type": "stream",
     "text": [
      "Nav1_2_B_halotolerans \t Nav1_2_B_halotolerans Bacillus halotolerans\n",
      "Nav1_8_B_aquimaris \t Nav1_8_B_aquimaris Bacillus aquimaris\n",
      "Nav2_2_A_mediterranea \t Nav2_2_A_mediterranea Alteromonas mediterranea\n",
      "PET1_2_H_chejuensis \t PET1_2_H_chejuensis Hahella chejuensis\n",
      "PET1_8_P_oceani \t PET1_8_P_oceani Pseudomonas oceani\n",
      "PET2_2_A_mediterranea \t PET2_2_A_mediterranea Alteromonas mediterranea\n",
      "PET2_8_A_mediterranea \t PET2_8_A_mediterranea Alteromonas mediterranea\n",
      "PETsn1_2_A_mediterranea \t PETsn1_2_A_mediterranea Alteromonas mediterranea\n",
      "PETsn1_8_A_mediterranea \t PETsn1_8_A_mediterranea Alteromonas mediterranea\n",
      "PHBb1_2_L_janthinus \t PHBb1_2_L_janthinus Litoreibacter janthinus\n"
     ]
    }
   ],
   "source": [
    "# visualización de los nombres de las secuencias\n",
    "\n",
    "f= open(\"secuencias_anotadas.fasta\")\n",
    "n=0\n",
    "secuencias=[]\n",
    "for rec in SeqIO.parse(f, \"fasta\"):\n",
    "    print (rec.id, \"\\t\", rec.description)"
   ]
  },
  {
   "cell_type": "markdown",
   "metadata": {},
   "source": [
    "# Alineamiento"
   ]
  },
  {
   "cell_type": "code",
   "execution_count": 5,
   "metadata": {},
   "outputs": [],
   "source": [
    "# es necesario saber en qué directorio se localiza el programa clustalw2 que se instaló con conda\n",
    "# en este caso se encuentra en /home/jupyter/miniconda3/bin/clustalw2\n",
    "clustalw_exe = r\"/home/jupyter/miniconda3/bin/clustalw2\"\n",
    "clustalw_cline = ClustalwCommandline(clustalw_exe, infile=\"secuencias_anotadas.fasta\")\n",
    "assert os.path.isfile(clustalw_exe), \"Clustal W executable missing\"\n",
    "stdout, stderr = clustalw_cline()"
   ]
  },
  {
   "cell_type": "markdown",
   "metadata": {},
   "source": [
    "#### Se verifica la presencia de los archivos .aln y .dnd"
   ]
  },
  {
   "cell_type": "code",
   "execution_count": 6,
   "metadata": {},
   "outputs": [
    {
     "name": "stdout",
     "output_type": "stream",
     "text": [
      "\u001b[0m\u001b[01;34mimg\u001b[0m/              secuencias_anotadas.aln  secuencias_anotadas.fasta\r\n",
      "secuencias.fasta  secuencias_anotadas.dnd  secuencias_comp.fas\r\n"
     ]
    }
   ],
   "source": [
    "ls "
   ]
  },
  {
   "cell_type": "code",
   "execution_count": 7,
   "metadata": {},
   "outputs": [
    {
     "name": "stdout",
     "output_type": "stream",
     "text": [
      "SingleLetterAlphabet() alignment with 10 rows and 334 columns\n",
      "GACGTCAAGTCATCATGGCCCTTACGTGTAGGGCTACACACGTG...CCT PET2_2_A_mediterranea\n",
      "GACGTCAAGTCATCATGGCCCTTACGTGTAGGGCTACACACGTG...CCT PETsn1_2_A_mediterranea\n",
      "GACGTCAAGTCATCATGGCCCTTACGTGTAGGGCTACACACGTG...CCT Nav2_2_A_mediterranea\n",
      "GACGTCAAGTCATCATGGCCCTTACGTGTAGGGCTACACACGTG...CCT PET2_8_A_mediterranea\n",
      "GACGTCAAGTCATCATGGCCCTTACGTGTAGGGCTACACACGTG...CCT PETsn1_8_A_mediterranea\n",
      "GACGTCAAGTCATCATGGCCCTTACGGCCAGGGCTACACACGTG...CCT PET1_2_H_chejuensis\n",
      "GACGTCAAGTCATCATGGCCCTTACGGCCAGGGCTACACACGTG...CCT PET1_8_P_oceani\n",
      "GACGTCAAGTCCTCATGGCCCTTACGGGTTGGGCTACACACGTG...CCT PHBb1_2_L_janthinus\n",
      "GACGTCAAATCATCATGCCCCTTATGACCTGGGGTACACACGTG...GGT Nav1_2_B_halotolerans\n",
      "GACGTCAAATCATCATGCCCCTTATGACTTGGGCTACACACGTG...GGT Nav1_8_B_aquimaris\n",
      "\n"
     ]
    }
   ],
   "source": [
    "# para visualizar el alineamiento se ve el contenido del archivo .aln\n",
    "alignments = AlignIO.parse(\"secuencias_anotadas.aln\", \"clustal\")\n",
    "for alignment in alignments:\n",
    "    print(alignment)\n",
    "    print(\"\")"
   ]
  },
  {
   "cell_type": "code",
   "execution_count": 8,
   "metadata": {},
   "outputs": [
    {
     "name": "stdout",
     "output_type": "stream",
     "text": [
      "                                          ___________ Nav1_2_B_halotolerans\n",
      "                        _________________|\n",
      "                _______|                 |___ Nav1_8_B_aquimaris\n",
      "               |       |\n",
      "  _____________|       |__________ PHBb1_2_L_janthinus\n",
      " |             |\n",
      " |             |    ___ PET1_2_H_chejuensis\n",
      " |             |___|\n",
      " |                 |__ PET1_8_P_oceani\n",
      " |\n",
      " , PET2_8_A_mediterranea\n",
      " |\n",
      " | PETsn1_8_A_mediterranea\n",
      " |\n",
      "_| Nav2_2_A_mediterranea\n",
      " |\n",
      " | PET2_2_A_mediterranea\n",
      " |\n",
      " | PETsn1_2_A_mediterranea\n",
      "\n"
     ]
    }
   ],
   "source": [
    "# para visualizar el árbol generado en formato ascii, se ve el contenido del archivo .dnd\n",
    "tree = Phylo.read(\"secuencias_anotadas.dnd\", \"newick\")\n",
    "Phylo.draw_ascii(tree, file=None, column_width=80)"
   ]
  },
  {
   "cell_type": "code",
   "execution_count": 9,
   "metadata": {},
   "outputs": [
    {
     "data": {
      "image/png": "[encoded data removed]",
      "text/plain": [
       "<Figure size 432x288 with 1 Axes>"
      ]
     },
     "metadata": {},
     "output_type": "display_data"
    }
   ],
   "source": [
    "# La visualización del arbol en formato \n",
    "tree.rooted = True\n",
    "Phylo.draw(tree)"
   ]
  },
  {
   "cell_type": "markdown",
   "metadata": {},
   "source": [
    "### En caso de observar un mensaje parecido a \n",
    "`<Figure size 640x480 with 1 Axes>`\n",
    "### es necesario ejecutar de nuevo la celda"
   ]
  },
  {
   "cell_type": "code",
   "execution_count": null,
   "metadata": {},
   "outputs": [],
   "source": []
  },
  {
   "cell_type": "code",
   "execution_count": null,
   "metadata": {},
   "outputs": [],
   "source": []
  },
  {
   "cell_type": "code",
   "execution_count": null,
   "metadata": {},
   "outputs": [],
   "source": []
  },
  {
   "cell_type": "code",
   "execution_count": null,
   "metadata": {},
   "outputs": [],
   "source": []
  },
  {
   "cell_type": "code",
   "execution_count": 23,
   "metadata": {},
   "outputs": [],
   "source": []
  }
 ],
 "metadata": {
  "kernelspec": {
   "display_name": "Python 3",
   "language": "python",
   "name": "python3"
  },
  "language_info": {
   "codemirror_mode": {
    "name": "ipython",
    "version": 3
   },
   "file_extension": ".py",
   "mimetype": "text/x-python",
   "name": "python",
   "nbconvert_exporter": "python",
   "pygments_lexer": "ipython3",
   "version": "3.6.4"
  }
 },
 "nbformat": 4,
 "nbformat_minor": 2
}
