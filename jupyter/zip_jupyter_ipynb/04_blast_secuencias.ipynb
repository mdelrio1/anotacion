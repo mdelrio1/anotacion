{
 "cells": [
  {
   "cell_type": "markdown",
   "metadata": {},
   "source": [
    "# Bitacora para el manejo de secuencias fasta y busqueda basica de *Blastn* y *Blastx*\n"
   ]
  },
  {
   "cell_type": "markdown",
   "metadata": {},
   "source": [
    "## Para el siguiente ejercicio es necesario tener el Blast+ instalado en la computadora\n",
    "https://www.ncbi.nlm.nih.gov/guide/data-software/\n",
    "## y tener instalada las bases de datos 16s microbiano de taxonomica"
   ]
  },
  {
   "cell_type": "code",
   "execution_count": 1,
   "metadata": {},
   "outputs": [
    {
     "name": "stdout",
     "output_type": "stream",
     "text": [
      "16SMicrobial.nhr  16SMicrobial.nni  16SMicrobial.nsi  taxdb.btd\r\n",
      "16SMicrobial.nin  16SMicrobial.nog  16SMicrobial.nsq  taxdb.bti\r\n",
      "16SMicrobial.nnd  16SMicrobial.nsd  16SMicrobial.tar\r\n"
     ]
    }
   ],
   "source": [
    "ls ~/Desktop/bigdata/16SMicrobial/"
   ]
  },
  {
   "cell_type": "code",
   "execution_count": 2,
   "metadata": {},
   "outputs": [
    {
     "data": {
      "text/plain": [
       "'/home/user1/Desktop/jupyter'"
      ]
     },
     "execution_count": 2,
     "metadata": {},
     "output_type": "execute_result"
    }
   ],
   "source": [
    "pwd"
   ]
  },
  {
   "cell_type": "code",
   "execution_count": 3,
   "metadata": {},
   "outputs": [
    {
     "name": "stdout",
     "output_type": "stream",
     "text": [
      "/home/user1/Desktop/data/fasta\n"
     ]
    }
   ],
   "source": [
    "cd ../data/fasta/"
   ]
  },
  {
   "cell_type": "code",
   "execution_count": 4,
   "metadata": {},
   "outputs": [
    {
     "name": "stdout",
     "output_type": "stream",
     "text": [
      "\u001b[0m\u001b[01;34mimg\u001b[0m/              secuencias_anotadas.aln    secuencias_borrar.tab\r\n",
      "secuencias.fasta  secuencias_anotadas.dnd    secuencias_comp.fas\r\n",
      "secuencias.tab    secuencias_anotadas.fasta  secuencias_especies.csv\r\n"
     ]
    }
   ],
   "source": [
    "ls"
   ]
  },
  {
   "cell_type": "code",
   "execution_count": 5,
   "metadata": {
    "scrolled": false
   },
   "outputs": [
    {
     "name": "stdout",
     "output_type": "stream",
     "text": [
      ">Nav1.2F.seq\r\n",
      "GTGCTTCGACTTCCCCCAATCATCTGTCCCACCTTCGGCGGCTGGCTCCATAAAGGTTACCTCACCGACTTCGGGTGTTACAAACTCTCGTGGTGTGACGGGCGGTGTGTACAAGGCCCGGGAACGTATTCACCGCGGCATGCTGATCCGCAATTACAACCGATTCCAGCTTCACGCATTCAAGTTGCAAACTGCAATCCGAACTGAAAACAGATTTGTGGAATTGGCTTAACCTCCCGGTTTCCCTGCCCTTTGTTCTGTCCATTGTACCACGTGTGTACCCCAGGTCATAAGGGGCATGATGATTTGACGTCATCCCCATTCCCTCCAGTAA\r\n",
      ">Nav1.2R.seq\r\n",
      "TTATGCCATTTGACCTGGGCTACCACGTGCTACATGGACAGAACAAGGGCATCGAAACCGCGAGGTTAAGCCAATCCCACAAATCTGTTCTCAATTCGGATCGCAATCTGCAACTCGACTGCGTGAAGCTGGAATCGCTAGTAATCGCGGATCAGCATGCCGCGGTGAATACGTTCCCGGGCCTTGTACACACCGCCCGTCACACCACGAGAGTTTGTAACACCCGAAGTCGGTGAGGTAACCTTTATGGAGCCAGCCGCCGAAGGTGGGACAGATGATTGGGGTGAAGTCGTAACAAGGTAGCCGTATCGGAAGGTGCGGTAAACCCCCCTCCTA\r\n",
      ">Nav1.8F.seq\r\n",
      "NGATTTTGGCTACGACTTCCCCCAATCATCTGTCCCACCTTAGGCGGCTGGCTCCAAAAGGTTACCTCACCGACTTCGGGTGTTACAAACTCTCGTGGTGTGACGGGCGGTGTGTACAAGGCCCGGGAACGTATTCACCGCGGCATGCTGATCCGCGATTACTAGCGATTCCAACTTCATGTAGGCGAGTTGCAGCCTACAATCCGAACTGAGAACGGTTTTATGGGATTGGCTAAACCTCGCGGTCTTGCTGCCCTTTGTACCGTCCATTGTAGCACGTGTGTAGCCCAAGTCATAAGGGGCATGATGATTTGACGTCATCCCCACCTCCCTCCCGTTA\r\n",
      ">Nav1.8R.seq\r\n",
      "GGCCACCTTATGACCTGGGCTACACACGTGCTACAATGGACGGTACAAAGGGCAGCAAGACCGCGAGGTTTAGCCAATCCCATAAAACCGTTCTCAGTTCGGATTGTAAGCTGCAACTCGCCTACATGAAGCTGGAATCGCTAGTAATCGCGGATCAGCATGCCGCGGTGAATACGTTCCCGGGCCTTGTACACACCGCCCGTCACACCACGAGAGTTTGTAACACCCGAAGTCGGTGAGGTAACCTTTTGGAGCCAGCCGCCTAAGGTGGGACAGATGATTGGGGTGAAGTCGTAACAAGGTAACCGTATCGGAAGGTGCGGTTAGATCACCTCCTAA\r\n",
      ">Nav2.2F.seq\r\n",
      "CGACCTATCGCTTCGACTTCCCCCTTTCATGAAACACAAAGTGGTAATCGTCCTCCCGAAGGTTAGACTAACTACTTCTTTTGCATCCCACTCCCATGGTGTGACGGGCGGTGTGTACAAGGCCCGGGAACGTATTCACCGCAGTATTCTGACCTGCGATTACTAGCGATTCCGACTTCATGGAGTCGAGTTGCAGACTCCAATCCGGACTACGACATTCTTTAAGGGGTCCGCTCCACATCACTGTCTCGCTTCCCTCTGTAAATGCCATTGTAGCACGTGTGTAGCCCTACACGTAAGGGCCATGATGACTTGACGTCATCCCCACTTCCCTCCAGTTAAA\r\n"
     ]
    }
   ],
   "source": [
    "!head secuencias.fasta"
   ]
  },
  {
   "cell_type": "code",
   "execution_count": 6,
   "metadata": {},
   "outputs": [
    {
     "name": "stdout",
     "output_type": "stream",
     "text": [
      "10\r\n"
     ]
    }
   ],
   "source": [
    "# cuantas secuencias hay?\n",
    "# utilice el comando de linux \">\" para saber cuantas secuencias se tienen\n",
    "!grep \">\" secuencias_comp.fas |wc -l"
   ]
  },
  {
   "cell_type": "markdown",
   "metadata": {},
   "source": [
    "# Blastn"
   ]
  },
  {
   "cell_type": "markdown",
   "metadata": {},
   "source": [
    "## Revise el manual del Blast y describa qué realizan los siguientes comandos y describalos en las siguientes celdas\n",
    "https://www.ncbi.nlm.nih.gov/books/NBK279690/\n",
    "\n",
    "en pdf\n",
    "\n",
    "https://www.ncbi.nlm.nih.gov/books/NBK279690/pdf/Bookshelf_NBK279690.pdf\n"
   ]
  },
  {
   "cell_type": "code",
   "execution_count": 7,
   "metadata": {},
   "outputs": [
    {
     "name": "stdout",
     "output_type": "stream",
     "text": [
      "Fri Jul 27 18:12:12 UTC 2018\n",
      "Fri Jul 27 18:12:13 UTC 2018\n"
     ]
    }
   ],
   "source": [
    "%%bash\n",
    "export BLASTDB=~/Desktop/bigdata/16SMicrobial/\n",
    "date  \n",
    "blastn -query secuencias_comp.fas -db ~/Desktop/bigdata/16SMicrobial/16SMicrobial \\\n",
    "-out secuencias.tab -evalue 1E-6 -max_target_seqs 1 \\\n",
    "-num_threads 2 -outfmt \"6 std sskingdoms stitle staxids sscinames scomnames sblastnames\" \n",
    "date"
   ]
  },
  {
   "cell_type": "markdown",
   "metadata": {},
   "source": [
    "### Revise el manual del Blast y describa qué valores obtendrá en el archivo de salida\n",
    "busque '-outfmt'"
   ]
  },
  {
   "cell_type": "code",
   "execution_count": null,
   "metadata": {},
   "outputs": [],
   "source": []
  },
  {
   "cell_type": "code",
   "execution_count": 10,
   "metadata": {},
   "outputs": [
    {
     "name": "stdout",
     "output_type": "stream",
     "text": [
      "\u001b[0m\u001b[01;34mimg\u001b[0m/              secuencias_anotadas.aln    secuencias_borrar.tab\r\n",
      "secuencias.fasta  secuencias_anotadas.dnd    secuencias_comp.fas\r\n",
      "secuencias.tab    secuencias_anotadas.fasta  secuencias_especies.csv\r\n"
     ]
    }
   ],
   "source": [
    "ls "
   ]
  },
  {
   "cell_type": "code",
   "execution_count": 11,
   "metadata": {
    "scrolled": false
   },
   "outputs": [
    {
     "name": "stdout",
     "output_type": "stream",
     "text": [
      "Nav1_2\tNR_115063.1\t95.808\t334\t13\t1\t1\t333\t1187\t1520\t7.03e-153\t538\tBacteria\tBacillus halotolerans strain DSM 8802 16S ribosomal RNA, partial sequence\t260554\t[Brevibacterium] halotolerans\t[Brevibacterium] halotolerans\tfirmicutes\r\n",
      "Nav1_8\tNR_025241.1\t98.799\t333\t3\t1\t1\t332\t1173\t1505\t5.30e-169\t592\tBacteria\tBacillus aquimaris strain TF-12 16S ribosomal RNA gene, partial sequence\t189382\tBacillus aquimaris\tBacillus aquimaris\tfirmicutes\r\n",
      "Nav2_2\tNR_148756.1\t100.000\t333\t0\t0\t1\t333\t1180\t1512\t3.16e-176\t616\tBacteria\tAlteromonas mediterranea strain DE 16S ribosomal RNA, complete sequence\t314275\tAlteromonas macleodii str. 'Deep ecotype'\tAlteromonas macleodii str. 'Deep ecotype'\tg-proteobacteria\r\n",
      "PET1_2\tNR_074812.1\t97.598\t333\t8\t0\t1\t333\t1183\t1515\t6.93e-163\t571\tBacteria\tHahella chejuensis strain KCTC 2396 16S ribosomal RNA, complete sequence\t158327\tHahella chejuensis\tHahella chejuensis\tg-proteobacteria\r\n",
      "PET1_8\tNR_152090.1\t100.000\t318\t0\t0\t1\t318\t1178\t1495\t6.88e-168\t588\tBacteria\tPseudomonas oceani strain DSM 100277 16S ribosomal RNA, partial sequence\t1708783\tPseudomonas sp. DSM 100277\tPseudomonas sp. DSM 100277\tg-proteobacteria\r\n",
      "PET2_2\tNR_148756.1\t100.000\t333\t0\t0\t1\t333\t1180\t1512\t3.16e-176\t616\tBacteria\tAlteromonas mediterranea strain DE 16S ribosomal RNA, complete sequence\t314275\tAlteromonas macleodii str. 'Deep ecotype'\tAlteromonas macleodii str. 'Deep ecotype'\tg-proteobacteria\r\n",
      "PET2_8\tNR_148756.1\t99.700\t333\t1\t0\t1\t333\t1180\t1512\t1.47e-174\t610\tBacteria\tAlteromonas mediterranea strain DE 16S ribosomal RNA, complete sequence\t314275\tAlteromonas macleodii str. 'Deep ecotype'\tAlteromonas macleodii str. 'Deep ecotype'\tg-proteobacteria\r\n",
      "PETsn1_2\tNR_148756.1\t100.000\t333\t0\t0\t1\t333\t1180\t1512\t3.16e-176\t616\tBacteria\tAlteromonas mediterranea strain DE 16S ribosomal RNA, complete sequence\t314275\tAlteromonas macleodii str. 'Deep ecotype'\tAlteromonas macleodii str. 'Deep ecotype'\tg-proteobacteria\r\n",
      "PETsn1_8\tNR_148756.1\t99.401\t334\t1\t1\t1\t334\t1180\t1512\t6.86e-173\t604\tBacteria\tAlteromonas mediterranea strain DE 16S ribosomal RNA, complete sequence\t314275\tAlteromonas macleodii str. 'Deep ecotype'\tAlteromonas macleodii str. 'Deep ecotype'\tg-proteobacteria\r\n",
      "PHBb1_2\tNR_112983.1\t100.000\t311\t0\t0\t1\t311\t1117\t1427\t4.98e-164\t575\tBacteria\tLitoreibacter janthinus strain KMM 3842 16S ribosomal RNA gene, partial sequence\t670154\tLitoreibacter janthinus\tLitoreibacter janthinus\ta-proteobacteria\r\n"
     ]
    }
   ],
   "source": [
    "!head secuencias.tab"
   ]
  },
  {
   "cell_type": "markdown",
   "metadata": {},
   "source": [
    "## se requiere visualizar los datos, para ello se utiliza el manejo de bases de datos que tiene Python"
   ]
  },
  {
   "cell_type": "markdown",
   "metadata": {},
   "source": [
    "### se cargan la paquetería correspondientes"
   ]
  },
  {
   "cell_type": "code",
   "execution_count": 15,
   "metadata": {},
   "outputs": [],
   "source": [
    "from pandas import Series, DataFrame\n",
    "import pandas as pd\n",
    "from Bio import SeqIO, AlignIO, SeqRecord"
   ]
  },
  {
   "cell_type": "markdown",
   "metadata": {},
   "source": [
    "###  Blast da los resultados sin nombre de columnas, por lo que se asignan a la variable \"encabezado\""
   ]
  },
  {
   "cell_type": "code",
   "execution_count": 16,
   "metadata": {},
   "outputs": [],
   "source": [
    "encabezado =(\"qseqid\", \"sseqid\", \"pident\", \"length\", \"mismatch\", \"gapopen\",\"qstart\", \n",
    "             \"qend\", \"sstart\",\"send\", \"evalue\", \"bitscore\", \"sskingdoms\", \"stitle\", \n",
    "             \"staxids\", \"sscinames\", \"scomnames\", \"sblastnames\")"
   ]
  },
  {
   "cell_type": "markdown",
   "metadata": {},
   "source": [
    "### Se lee el archivo de salida y se asigna a la variable \"ftab\", con ello se pueden ver los resultados"
   ]
  },
  {
   "cell_type": "code",
   "execution_count": 17,
   "metadata": {
    "scrolled": false
   },
   "outputs": [
    {
     "data": {
      "text/html": [
       "<div>\n",
       "<style scoped>\n",
       "    .dataframe tbody tr th:only-of-type {\n",
       "        vertical-align: middle;\n",
       "    }\n",
       "\n",
       "    .dataframe tbody tr th {\n",
       "        vertical-align: top;\n",
       "    }\n",
       "\n",
       "    .dataframe thead th {\n",
       "        text-align: right;\n",
       "    }\n",
       "</style>\n",
       "<table border=\"1\" class=\"dataframe\">\n",
       "  <thead>\n",
       "    <tr style=\"text-align: right;\">\n",
       "      <th></th>\n",
       "      <th>qseqid</th>\n",
       "      <th>sseqid</th>\n",
       "      <th>pident</th>\n",
       "      <th>length</th>\n",
       "      <th>mismatch</th>\n",
       "      <th>gapopen</th>\n",
       "      <th>qstart</th>\n",
       "      <th>qend</th>\n",
       "      <th>sstart</th>\n",
       "      <th>send</th>\n",
       "      <th>evalue</th>\n",
       "      <th>bitscore</th>\n",
       "      <th>sskingdoms</th>\n",
       "      <th>stitle</th>\n",
       "      <th>staxids</th>\n",
       "      <th>sscinames</th>\n",
       "      <th>scomnames</th>\n",
       "      <th>sblastnames</th>\n",
       "    </tr>\n",
       "  </thead>\n",
       "  <tbody>\n",
       "    <tr>\n",
       "      <th>0</th>\n",
       "      <td>Nav1_2</td>\n",
       "      <td>NR_115063.1</td>\n",
       "      <td>95.808</td>\n",
       "      <td>334</td>\n",
       "      <td>13</td>\n",
       "      <td>1</td>\n",
       "      <td>1</td>\n",
       "      <td>333</td>\n",
       "      <td>1187</td>\n",
       "      <td>1520</td>\n",
       "      <td>7.030000e-153</td>\n",
       "      <td>538</td>\n",
       "      <td>Bacteria</td>\n",
       "      <td>Bacillus halotolerans strain DSM 8802 16S ribo...</td>\n",
       "      <td>260554</td>\n",
       "      <td>[Brevibacterium] halotolerans</td>\n",
       "      <td>[Brevibacterium] halotolerans</td>\n",
       "      <td>firmicutes</td>\n",
       "    </tr>\n",
       "    <tr>\n",
       "      <th>1</th>\n",
       "      <td>Nav1_8</td>\n",
       "      <td>NR_025241.1</td>\n",
       "      <td>98.799</td>\n",
       "      <td>333</td>\n",
       "      <td>3</td>\n",
       "      <td>1</td>\n",
       "      <td>1</td>\n",
       "      <td>332</td>\n",
       "      <td>1173</td>\n",
       "      <td>1505</td>\n",
       "      <td>5.300000e-169</td>\n",
       "      <td>592</td>\n",
       "      <td>Bacteria</td>\n",
       "      <td>Bacillus aquimaris strain TF-12 16S ribosomal ...</td>\n",
       "      <td>189382</td>\n",
       "      <td>Bacillus aquimaris</td>\n",
       "      <td>Bacillus aquimaris</td>\n",
       "      <td>firmicutes</td>\n",
       "    </tr>\n",
       "    <tr>\n",
       "      <th>2</th>\n",
       "      <td>Nav2_2</td>\n",
       "      <td>NR_148756.1</td>\n",
       "      <td>100.000</td>\n",
       "      <td>333</td>\n",
       "      <td>0</td>\n",
       "      <td>0</td>\n",
       "      <td>1</td>\n",
       "      <td>333</td>\n",
       "      <td>1180</td>\n",
       "      <td>1512</td>\n",
       "      <td>3.160000e-176</td>\n",
       "      <td>616</td>\n",
       "      <td>Bacteria</td>\n",
       "      <td>Alteromonas mediterranea strain DE 16S ribosom...</td>\n",
       "      <td>314275</td>\n",
       "      <td>Alteromonas macleodii str. 'Deep ecotype'</td>\n",
       "      <td>Alteromonas macleodii str. 'Deep ecotype'</td>\n",
       "      <td>g-proteobacteria</td>\n",
       "    </tr>\n",
       "    <tr>\n",
       "      <th>3</th>\n",
       "      <td>PET1_2</td>\n",
       "      <td>NR_074812.1</td>\n",
       "      <td>97.598</td>\n",
       "      <td>333</td>\n",
       "      <td>8</td>\n",
       "      <td>0</td>\n",
       "      <td>1</td>\n",
       "      <td>333</td>\n",
       "      <td>1183</td>\n",
       "      <td>1515</td>\n",
       "      <td>6.930000e-163</td>\n",
       "      <td>571</td>\n",
       "      <td>Bacteria</td>\n",
       "      <td>Hahella chejuensis strain KCTC 2396 16S riboso...</td>\n",
       "      <td>158327</td>\n",
       "      <td>Hahella chejuensis</td>\n",
       "      <td>Hahella chejuensis</td>\n",
       "      <td>g-proteobacteria</td>\n",
       "    </tr>\n",
       "    <tr>\n",
       "      <th>4</th>\n",
       "      <td>PET1_8</td>\n",
       "      <td>NR_152090.1</td>\n",
       "      <td>100.000</td>\n",
       "      <td>318</td>\n",
       "      <td>0</td>\n",
       "      <td>0</td>\n",
       "      <td>1</td>\n",
       "      <td>318</td>\n",
       "      <td>1178</td>\n",
       "      <td>1495</td>\n",
       "      <td>6.880000e-168</td>\n",
       "      <td>588</td>\n",
       "      <td>Bacteria</td>\n",
       "      <td>Pseudomonas oceani strain DSM 100277 16S ribos...</td>\n",
       "      <td>1708783</td>\n",
       "      <td>Pseudomonas sp. DSM 100277</td>\n",
       "      <td>Pseudomonas sp. DSM 100277</td>\n",
       "      <td>g-proteobacteria</td>\n",
       "    </tr>\n",
       "    <tr>\n",
       "      <th>5</th>\n",
       "      <td>PET2_2</td>\n",
       "      <td>NR_148756.1</td>\n",
       "      <td>100.000</td>\n",
       "      <td>333</td>\n",
       "      <td>0</td>\n",
       "      <td>0</td>\n",
       "      <td>1</td>\n",
       "      <td>333</td>\n",
       "      <td>1180</td>\n",
       "      <td>1512</td>\n",
       "      <td>3.160000e-176</td>\n",
       "      <td>616</td>\n",
       "      <td>Bacteria</td>\n",
       "      <td>Alteromonas mediterranea strain DE 16S ribosom...</td>\n",
       "      <td>314275</td>\n",
       "      <td>Alteromonas macleodii str. 'Deep ecotype'</td>\n",
       "      <td>Alteromonas macleodii str. 'Deep ecotype'</td>\n",
       "      <td>g-proteobacteria</td>\n",
       "    </tr>\n",
       "    <tr>\n",
       "      <th>6</th>\n",
       "      <td>PET2_8</td>\n",
       "      <td>NR_148756.1</td>\n",
       "      <td>99.700</td>\n",
       "      <td>333</td>\n",
       "      <td>1</td>\n",
       "      <td>0</td>\n",
       "      <td>1</td>\n",
       "      <td>333</td>\n",
       "      <td>1180</td>\n",
       "      <td>1512</td>\n",
       "      <td>1.470000e-174</td>\n",
       "      <td>610</td>\n",
       "      <td>Bacteria</td>\n",
       "      <td>Alteromonas mediterranea strain DE 16S ribosom...</td>\n",
       "      <td>314275</td>\n",
       "      <td>Alteromonas macleodii str. 'Deep ecotype'</td>\n",
       "      <td>Alteromonas macleodii str. 'Deep ecotype'</td>\n",
       "      <td>g-proteobacteria</td>\n",
       "    </tr>\n",
       "    <tr>\n",
       "      <th>7</th>\n",
       "      <td>PETsn1_2</td>\n",
       "      <td>NR_148756.1</td>\n",
       "      <td>100.000</td>\n",
       "      <td>333</td>\n",
       "      <td>0</td>\n",
       "      <td>0</td>\n",
       "      <td>1</td>\n",
       "      <td>333</td>\n",
       "      <td>1180</td>\n",
       "      <td>1512</td>\n",
       "      <td>3.160000e-176</td>\n",
       "      <td>616</td>\n",
       "      <td>Bacteria</td>\n",
       "      <td>Alteromonas mediterranea strain DE 16S ribosom...</td>\n",
       "      <td>314275</td>\n",
       "      <td>Alteromonas macleodii str. 'Deep ecotype'</td>\n",
       "      <td>Alteromonas macleodii str. 'Deep ecotype'</td>\n",
       "      <td>g-proteobacteria</td>\n",
       "    </tr>\n",
       "    <tr>\n",
       "      <th>8</th>\n",
       "      <td>PETsn1_8</td>\n",
       "      <td>NR_148756.1</td>\n",
       "      <td>99.401</td>\n",
       "      <td>334</td>\n",
       "      <td>1</td>\n",
       "      <td>1</td>\n",
       "      <td>1</td>\n",
       "      <td>334</td>\n",
       "      <td>1180</td>\n",
       "      <td>1512</td>\n",
       "      <td>6.860000e-173</td>\n",
       "      <td>604</td>\n",
       "      <td>Bacteria</td>\n",
       "      <td>Alteromonas mediterranea strain DE 16S ribosom...</td>\n",
       "      <td>314275</td>\n",
       "      <td>Alteromonas macleodii str. 'Deep ecotype'</td>\n",
       "      <td>Alteromonas macleodii str. 'Deep ecotype'</td>\n",
       "      <td>g-proteobacteria</td>\n",
       "    </tr>\n",
       "    <tr>\n",
       "      <th>9</th>\n",
       "      <td>PHBb1_2</td>\n",
       "      <td>NR_112983.1</td>\n",
       "      <td>100.000</td>\n",
       "      <td>311</td>\n",
       "      <td>0</td>\n",
       "      <td>0</td>\n",
       "      <td>1</td>\n",
       "      <td>311</td>\n",
       "      <td>1117</td>\n",
       "      <td>1427</td>\n",
       "      <td>4.980000e-164</td>\n",
       "      <td>575</td>\n",
       "      <td>Bacteria</td>\n",
       "      <td>Litoreibacter janthinus strain KMM 3842 16S ri...</td>\n",
       "      <td>670154</td>\n",
       "      <td>Litoreibacter janthinus</td>\n",
       "      <td>Litoreibacter janthinus</td>\n",
       "      <td>a-proteobacteria</td>\n",
       "    </tr>\n",
       "  </tbody>\n",
       "</table>\n",
       "</div>"
      ],
      "text/plain": [
       "     qseqid       sseqid   pident  length  mismatch  gapopen  qstart  qend  \\\n",
       "0    Nav1_2  NR_115063.1   95.808     334        13        1       1   333   \n",
       "1    Nav1_8  NR_025241.1   98.799     333         3        1       1   332   \n",
       "2    Nav2_2  NR_148756.1  100.000     333         0        0       1   333   \n",
       "3    PET1_2  NR_074812.1   97.598     333         8        0       1   333   \n",
       "4    PET1_8  NR_152090.1  100.000     318         0        0       1   318   \n",
       "5    PET2_2  NR_148756.1  100.000     333         0        0       1   333   \n",
       "6    PET2_8  NR_148756.1   99.700     333         1        0       1   333   \n",
       "7  PETsn1_2  NR_148756.1  100.000     333         0        0       1   333   \n",
       "8  PETsn1_8  NR_148756.1   99.401     334         1        1       1   334   \n",
       "9   PHBb1_2  NR_112983.1  100.000     311         0        0       1   311   \n",
       "\n",
       "   sstart  send         evalue  bitscore sskingdoms  \\\n",
       "0    1187  1520  7.030000e-153       538   Bacteria   \n",
       "1    1173  1505  5.300000e-169       592   Bacteria   \n",
       "2    1180  1512  3.160000e-176       616   Bacteria   \n",
       "3    1183  1515  6.930000e-163       571   Bacteria   \n",
       "4    1178  1495  6.880000e-168       588   Bacteria   \n",
       "5    1180  1512  3.160000e-176       616   Bacteria   \n",
       "6    1180  1512  1.470000e-174       610   Bacteria   \n",
       "7    1180  1512  3.160000e-176       616   Bacteria   \n",
       "8    1180  1512  6.860000e-173       604   Bacteria   \n",
       "9    1117  1427  4.980000e-164       575   Bacteria   \n",
       "\n",
       "                                              stitle  staxids  \\\n",
       "0  Bacillus halotolerans strain DSM 8802 16S ribo...   260554   \n",
       "1  Bacillus aquimaris strain TF-12 16S ribosomal ...   189382   \n",
       "2  Alteromonas mediterranea strain DE 16S ribosom...   314275   \n",
       "3  Hahella chejuensis strain KCTC 2396 16S riboso...   158327   \n",
       "4  Pseudomonas oceani strain DSM 100277 16S ribos...  1708783   \n",
       "5  Alteromonas mediterranea strain DE 16S ribosom...   314275   \n",
       "6  Alteromonas mediterranea strain DE 16S ribosom...   314275   \n",
       "7  Alteromonas mediterranea strain DE 16S ribosom...   314275   \n",
       "8  Alteromonas mediterranea strain DE 16S ribosom...   314275   \n",
       "9  Litoreibacter janthinus strain KMM 3842 16S ri...   670154   \n",
       "\n",
       "                                   sscinames  \\\n",
       "0              [Brevibacterium] halotolerans   \n",
       "1                         Bacillus aquimaris   \n",
       "2  Alteromonas macleodii str. 'Deep ecotype'   \n",
       "3                         Hahella chejuensis   \n",
       "4                 Pseudomonas sp. DSM 100277   \n",
       "5  Alteromonas macleodii str. 'Deep ecotype'   \n",
       "6  Alteromonas macleodii str. 'Deep ecotype'   \n",
       "7  Alteromonas macleodii str. 'Deep ecotype'   \n",
       "8  Alteromonas macleodii str. 'Deep ecotype'   \n",
       "9                    Litoreibacter janthinus   \n",
       "\n",
       "                                   scomnames       sblastnames  \n",
       "0              [Brevibacterium] halotolerans        firmicutes  \n",
       "1                         Bacillus aquimaris        firmicutes  \n",
       "2  Alteromonas macleodii str. 'Deep ecotype'  g-proteobacteria  \n",
       "3                         Hahella chejuensis  g-proteobacteria  \n",
       "4                 Pseudomonas sp. DSM 100277  g-proteobacteria  \n",
       "5  Alteromonas macleodii str. 'Deep ecotype'  g-proteobacteria  \n",
       "6  Alteromonas macleodii str. 'Deep ecotype'  g-proteobacteria  \n",
       "7  Alteromonas macleodii str. 'Deep ecotype'  g-proteobacteria  \n",
       "8  Alteromonas macleodii str. 'Deep ecotype'  g-proteobacteria  \n",
       "9                    Litoreibacter janthinus  a-proteobacteria  "
      ]
     },
     "execution_count": 17,
     "metadata": {},
     "output_type": "execute_result"
    }
   ],
   "source": [
    "ftab=pd.read_table(\"secuencias.tab\", header=None , names= encabezado)\n",
    "ftab"
   ]
  },
  {
   "cell_type": "markdown",
   "metadata": {},
   "source": [
    "### Describa que es lo que esta observando y qué puede decir de todas las secuencias "
   ]
  },
  {
   "cell_type": "code",
   "execution_count": null,
   "metadata": {},
   "outputs": [],
   "source": []
  },
  {
   "cell_type": "markdown",
   "metadata": {},
   "source": [
    "### Podrían eliminarse algunas columnas? Cuál(es)?"
   ]
  },
  {
   "cell_type": "code",
   "execution_count": null,
   "metadata": {},
   "outputs": [],
   "source": []
  },
  {
   "cell_type": "markdown",
   "metadata": {
    "collapsed": true
   },
   "source": [
    "# Qué ocurrirá su usa el comando `ftab.head()`?"
   ]
  },
  {
   "cell_type": "code",
   "execution_count": null,
   "metadata": {},
   "outputs": [],
   "source": [
    "ftab.head()"
   ]
  },
  {
   "cell_type": "code",
   "execution_count": null,
   "metadata": {},
   "outputs": [],
   "source": []
  },
  {
   "cell_type": "markdown",
   "metadata": {},
   "source": [
    "### Con el fin de resumir la informacion se agruparan considerando el nombre cientifico (sscinames), contando el numero de casos en donde se encontro una asignacion"
   ]
  },
  {
   "cell_type": "code",
   "execution_count": 19,
   "metadata": {},
   "outputs": [
    {
     "data": {
      "text/html": [
       "<div>\n",
       "<style scoped>\n",
       "    .dataframe tbody tr th:only-of-type {\n",
       "        vertical-align: middle;\n",
       "    }\n",
       "\n",
       "    .dataframe tbody tr th {\n",
       "        vertical-align: top;\n",
       "    }\n",
       "\n",
       "    .dataframe thead th {\n",
       "        text-align: right;\n",
       "    }\n",
       "</style>\n",
       "<table border=\"1\" class=\"dataframe\">\n",
       "  <thead>\n",
       "    <tr style=\"text-align: right;\">\n",
       "      <th></th>\n",
       "      <th>qseqid</th>\n",
       "    </tr>\n",
       "    <tr>\n",
       "      <th>sscinames</th>\n",
       "      <th></th>\n",
       "    </tr>\n",
       "  </thead>\n",
       "  <tbody>\n",
       "    <tr>\n",
       "      <th>Alteromonas macleodii str. 'Deep ecotype'</th>\n",
       "      <td>5</td>\n",
       "    </tr>\n",
       "    <tr>\n",
       "      <th>Bacillus aquimaris</th>\n",
       "      <td>1</td>\n",
       "    </tr>\n",
       "    <tr>\n",
       "      <th>Hahella chejuensis</th>\n",
       "      <td>1</td>\n",
       "    </tr>\n",
       "    <tr>\n",
       "      <th>Litoreibacter janthinus</th>\n",
       "      <td>1</td>\n",
       "    </tr>\n",
       "    <tr>\n",
       "      <th>Pseudomonas sp. DSM 100277</th>\n",
       "      <td>1</td>\n",
       "    </tr>\n",
       "    <tr>\n",
       "      <th>[Brevibacterium] halotolerans</th>\n",
       "      <td>1</td>\n",
       "    </tr>\n",
       "  </tbody>\n",
       "</table>\n",
       "</div>"
      ],
      "text/plain": [
       "                                           qseqid\n",
       "sscinames                                        \n",
       "Alteromonas macleodii str. 'Deep ecotype'       5\n",
       "Bacillus aquimaris                              1\n",
       "Hahella chejuensis                              1\n",
       "Litoreibacter janthinus                         1\n",
       "Pseudomonas sp. DSM 100277                      1\n",
       "[Brevibacterium] halotolerans                   1"
      ]
     },
     "execution_count": 19,
     "metadata": {},
     "output_type": "execute_result"
    }
   ],
   "source": [
    "ftab1= ftab.groupby(\"sscinames\")[\"qseqid\"].count()\n",
    "ftab1 = DataFrame(ftab1)\n",
    "ftab1"
   ]
  },
  {
   "cell_type": "markdown",
   "metadata": {},
   "source": [
    "## para guardar esta informacion se utiliza pandas para guardarlo con formato csv (valores separados por comas)"
   ]
  },
  {
   "cell_type": "code",
   "execution_count": 20,
   "metadata": {},
   "outputs": [],
   "source": [
    "ftab1.to_csv(\"secuencias_especies.csv\")"
   ]
  },
  {
   "cell_type": "code",
   "execution_count": 21,
   "metadata": {},
   "outputs": [
    {
     "name": "stdout",
     "output_type": "stream",
     "text": [
      "\u001b[0m\u001b[01;34mimg\u001b[0m/              secuencias_anotadas.aln    secuencias_borrar.tab\r\n",
      "secuencias.fasta  secuencias_anotadas.dnd    secuencias_comp.fas\r\n",
      "secuencias.tab    secuencias_anotadas.fasta  secuencias_especies.csv\r\n"
     ]
    }
   ],
   "source": [
    "ls"
   ]
  },
  {
   "cell_type": "markdown",
   "metadata": {},
   "source": [
    "### Que diferencia hay si solamente utiliza estos comandos?"
   ]
  },
  {
   "cell_type": "code",
   "execution_count": 22,
   "metadata": {},
   "outputs": [
    {
     "data": {
      "text/plain": [
       "sscinames\n",
       "Alteromonas macleodii str. 'Deep ecotype'    5\n",
       "Bacillus aquimaris                           1\n",
       "Hahella chejuensis                           1\n",
       "Litoreibacter janthinus                      1\n",
       "Pseudomonas sp. DSM 100277                   1\n",
       "[Brevibacterium] halotolerans                1\n",
       "Name: qseqid, dtype: int64"
      ]
     },
     "execution_count": 22,
     "metadata": {},
     "output_type": "execute_result"
    }
   ],
   "source": [
    "ftab1= ftab.groupby(\"sscinames\")[\"qseqid\"].count()\n",
    "ftab1"
   ]
  },
  {
   "cell_type": "code",
   "execution_count": null,
   "metadata": {},
   "outputs": [],
   "source": []
  },
  {
   "cell_type": "code",
   "execution_count": null,
   "metadata": {},
   "outputs": [],
   "source": []
  },
  {
   "cell_type": "markdown",
   "metadata": {
    "collapsed": true
   },
   "source": [
    "## cuál considera mas facil de leer?"
   ]
  },
  {
   "cell_type": "code",
   "execution_count": null,
   "metadata": {},
   "outputs": [],
   "source": []
  },
  {
   "cell_type": "code",
   "execution_count": null,
   "metadata": {},
   "outputs": [],
   "source": []
  },
  {
   "cell_type": "markdown",
   "metadata": {},
   "source": [
    "## Para graficar los resultados se cargan las bibliotecas pylab y matplotlib\n",
    "Ya vienen integrados con el python y no es necesario descargarlos. Si requiere información adicional:\n",
    "https://matplotlib.org\n"
   ]
  },
  {
   "cell_type": "code",
   "execution_count": 23,
   "metadata": {},
   "outputs": [],
   "source": [
    "import pylab\n",
    "import matplotlib.pyplot as plt\n",
    "%matplotlib inline"
   ]
  },
  {
   "cell_type": "markdown",
   "metadata": {},
   "source": [
    "## que hace al último comando?\n",
    "`%matplotlib inline`"
   ]
  },
  {
   "cell_type": "code",
   "execution_count": null,
   "metadata": {},
   "outputs": [],
   "source": []
  },
  {
   "cell_type": "markdown",
   "metadata": {},
   "source": [
    "## para graficar "
   ]
  },
  {
   "cell_type": "code",
   "execution_count": 24,
   "metadata": {},
   "outputs": [
    {
     "data": {
      "image/png": "[encoded data removed]",
      "text/plain": [
       "<Figure size 432x288 with 1 Axes>"
      ]
     },
     "metadata": {},
     "output_type": "display_data"
    }
   ],
   "source": [
    "plt.pie(ftab1, labels=ftab1.index)\n",
    "plt.show()"
   ]
  },
  {
   "cell_type": "markdown",
   "metadata": {},
   "source": [
    "### revise el manual del plt.pi y modifique los comandos para que en la grafica se observen una de las rebanadas salida"
   ]
  },
  {
   "cell_type": "code",
   "execution_count": 25,
   "metadata": {},
   "outputs": [],
   "source": [
    "?plt.pie"
   ]
  },
  {
   "cell_type": "code",
   "execution_count": 26,
   "metadata": {},
   "outputs": [
    {
     "name": "stdout",
     "output_type": "stream",
     "text": [
      "save figure\n"
     ]
    },
    {
     "data": {
      "image/png": "[encoded data removed]",
      "text/plain": [
       "<Figure size 432x288 with 1 Axes>"
      ]
     },
     "metadata": {},
     "output_type": "display_data"
    }
   ],
   "source": [
    "plt.pie(ftab1, labels=ftab1.index)\n",
    "yes = input(\"save figure\")\n",
    "if yes.lower()==\"y\":\n",
    "    plt.savefig('./img/secuencias_pie.png', \n",
    "                dpi=800, bbox_inches='tight')\n",
    "\n",
    "plt.show()\n",
    "\n"
   ]
  },
  {
   "cell_type": "markdown",
   "metadata": {},
   "source": [
    "### Si en vez de gráfica de pastel desea obtener una gráfica de barras use los siguientes comandos"
   ]
  },
  {
   "cell_type": "code",
   "execution_count": 27,
   "metadata": {},
   "outputs": [
    {
     "data": {
      "image/png": "[encoded data removed]",
      "text/plain": [
       "<Figure size 432x288 with 1 Axes>"
      ]
     },
     "metadata": {},
     "output_type": "display_data"
    }
   ],
   "source": [
    "ftab1.plot(kind='barh', color=list('gybr'))\n",
    "plt.axis([0, max (ftab1)+1, -1, len (ftab1.index)], label=None)\n",
    "pylab.xlabel(\"Frecuencia\")\n",
    "pylab.ylabel(\"Especies\")\n",
    "plt.show()"
   ]
  },
  {
   "cell_type": "markdown",
   "metadata": {},
   "source": [
    "#### Cómo modificaría el código anterior para guardar la gráfica como ./img/secuencias_barras.png "
   ]
  },
  {
   "cell_type": "code",
   "execution_count": null,
   "metadata": {},
   "outputs": [],
   "source": []
  },
  {
   "cell_type": "code",
   "execution_count": 28,
   "metadata": {},
   "outputs": [
    {
     "name": "stdout",
     "output_type": "stream",
     "text": [
      "secuencias_pie.png\r\n"
     ]
    }
   ],
   "source": [
    "ls ./img/"
   ]
  },
  {
   "cell_type": "code",
   "execution_count": null,
   "metadata": {},
   "outputs": [],
   "source": []
  },
  {
   "cell_type": "markdown",
   "metadata": {},
   "source": [
    "### describa lo que hacen las siguientes celdas"
   ]
  },
  {
   "cell_type": "code",
   "execution_count": 29,
   "metadata": {},
   "outputs": [
    {
     "data": {
      "text/plain": [
       "sscinames\n",
       "Bacillus aquimaris                           1\n",
       "Hahella chejuensis                           1\n",
       "Litoreibacter janthinus                      1\n",
       "Pseudomonas sp. DSM 100277                   1\n",
       "[Brevibacterium] halotolerans                1\n",
       "Alteromonas macleodii str. 'Deep ecotype'    5\n",
       "Name: qseqid, dtype: int64"
      ]
     },
     "execution_count": 29,
     "metadata": {},
     "output_type": "execute_result"
    }
   ],
   "source": [
    "ftab2 = ftab1.sort_values( ascending=True)\n",
    "ftab2\n"
   ]
  },
  {
   "cell_type": "code",
   "execution_count": 30,
   "metadata": {},
   "outputs": [
    {
     "data": {
      "image/png": "[encoded data removed]",
      "text/plain": [
       "<Figure size 432x288 with 1 Axes>"
      ]
     },
     "metadata": {},
     "output_type": "display_data"
    }
   ],
   "source": [
    "ftab2.plot(kind='barh', color=list('gybr'))\n",
    "plt.axis([0, max (ftab1)+1, -1, len (ftab1.index)], label=None)\n",
    "pylab.xlabel(\"Frecuencia\")\n",
    "pylab.ylabel(\"Especies\")\n",
    "plt.show()"
   ]
  },
  {
   "cell_type": "code",
   "execution_count": null,
   "metadata": {},
   "outputs": [],
   "source": []
  },
  {
   "cell_type": "markdown",
   "metadata": {
    "collapsed": true
   },
   "source": [
    "### Si en vez de utilizar \"sscinames\" se usa \"sblastnames\". Para ello revise la base de datos obtenida del blast"
   ]
  },
  {
   "cell_type": "code",
   "execution_count": 31,
   "metadata": {},
   "outputs": [
    {
     "data": {
      "text/plain": [
       "sblastnames\n",
       "a-proteobacteria    1\n",
       "firmicutes          2\n",
       "g-proteobacteria    7\n",
       "Name: qseqid, dtype: int64"
      ]
     },
     "execution_count": 31,
     "metadata": {},
     "output_type": "execute_result"
    }
   ],
   "source": [
    "ftab1= ftab.groupby(\"sblastnames\")[\"qseqid\"].count()\n",
    "ftab1"
   ]
  },
  {
   "cell_type": "code",
   "execution_count": 32,
   "metadata": {},
   "outputs": [
    {
     "data": {
      "text/plain": [
       "sblastnames\n",
       "g-proteobacteria    7\n",
       "firmicutes          2\n",
       "a-proteobacteria    1\n",
       "Name: qseqid, dtype: int64"
      ]
     },
     "execution_count": 32,
     "metadata": {},
     "output_type": "execute_result"
    }
   ],
   "source": [
    "ftab2 = ftab1.sort_values(ascending=False)\n",
    "ftab2\n"
   ]
  },
  {
   "cell_type": "code",
   "execution_count": 33,
   "metadata": {},
   "outputs": [
    {
     "data": {
      "image/png": "[encoded data removed]",
      "text/plain": [
       "<Figure size 432x288 with 1 Axes>"
      ]
     },
     "metadata": {},
     "output_type": "display_data"
    }
   ],
   "source": [
    "ftab2.plot(kind='barh', color=list('gybr'))\n",
    "plt.axis([0, max (ftab1)+1, -1, len (ftab1.index)], label=None)\n",
    "pylab.xlabel(\"Frecuencia\")\n",
    "pylab.ylabel(\"Especies\")\n",
    "plt.show()"
   ]
  },
  {
   "cell_type": "code",
   "execution_count": null,
   "metadata": {},
   "outputs": [],
   "source": []
  },
  {
   "cell_type": "markdown",
   "metadata": {},
   "source": [
    "## Procedimiento para asignar el nombre a las secuencias y crear un archivo fasta"
   ]
  },
  {
   "cell_type": "code",
   "execution_count": 34,
   "metadata": {},
   "outputs": [],
   "source": [
    "from Bio import pairwise2, SeqIO\n",
    "from Bio.pairwise2 import format_alignment\n",
    "from Bio import AlignIO\n",
    "from Bio.SeqRecord import SeqRecord\n"
   ]
  },
  {
   "cell_type": "code",
   "execution_count": 35,
   "metadata": {},
   "outputs": [
    {
     "data": {
      "text/html": [
       "<div>\n",
       "<style scoped>\n",
       "    .dataframe tbody tr th:only-of-type {\n",
       "        vertical-align: middle;\n",
       "    }\n",
       "\n",
       "    .dataframe tbody tr th {\n",
       "        vertical-align: top;\n",
       "    }\n",
       "\n",
       "    .dataframe thead th {\n",
       "        text-align: right;\n",
       "    }\n",
       "</style>\n",
       "<table border=\"1\" class=\"dataframe\">\n",
       "  <thead>\n",
       "    <tr style=\"text-align: right;\">\n",
       "      <th></th>\n",
       "      <th>qseqid</th>\n",
       "      <th>sseqid</th>\n",
       "      <th>pident</th>\n",
       "      <th>length</th>\n",
       "      <th>mismatch</th>\n",
       "      <th>gapopen</th>\n",
       "      <th>qstart</th>\n",
       "      <th>qend</th>\n",
       "      <th>sstart</th>\n",
       "      <th>send</th>\n",
       "      <th>evalue</th>\n",
       "      <th>bitscore</th>\n",
       "      <th>sskingdoms</th>\n",
       "      <th>stitle</th>\n",
       "      <th>staxids</th>\n",
       "      <th>sscinames</th>\n",
       "      <th>scomnames</th>\n",
       "      <th>sblastnames</th>\n",
       "    </tr>\n",
       "  </thead>\n",
       "  <tbody>\n",
       "    <tr>\n",
       "      <th>0</th>\n",
       "      <td>Nav1_2</td>\n",
       "      <td>NR_115063.1</td>\n",
       "      <td>95.808</td>\n",
       "      <td>334</td>\n",
       "      <td>13</td>\n",
       "      <td>1</td>\n",
       "      <td>1</td>\n",
       "      <td>333</td>\n",
       "      <td>1187</td>\n",
       "      <td>1520</td>\n",
       "      <td>7.030000e-153</td>\n",
       "      <td>538</td>\n",
       "      <td>Bacteria</td>\n",
       "      <td>Bacillus halotolerans strain DSM 8802 16S ribo...</td>\n",
       "      <td>260554</td>\n",
       "      <td>[Brevibacterium] halotolerans</td>\n",
       "      <td>[Brevibacterium] halotolerans</td>\n",
       "      <td>firmicutes</td>\n",
       "    </tr>\n",
       "    <tr>\n",
       "      <th>1</th>\n",
       "      <td>Nav1_8</td>\n",
       "      <td>NR_025241.1</td>\n",
       "      <td>98.799</td>\n",
       "      <td>333</td>\n",
       "      <td>3</td>\n",
       "      <td>1</td>\n",
       "      <td>1</td>\n",
       "      <td>332</td>\n",
       "      <td>1173</td>\n",
       "      <td>1505</td>\n",
       "      <td>5.300000e-169</td>\n",
       "      <td>592</td>\n",
       "      <td>Bacteria</td>\n",
       "      <td>Bacillus aquimaris strain TF-12 16S ribosomal ...</td>\n",
       "      <td>189382</td>\n",
       "      <td>Bacillus aquimaris</td>\n",
       "      <td>Bacillus aquimaris</td>\n",
       "      <td>firmicutes</td>\n",
       "    </tr>\n",
       "    <tr>\n",
       "      <th>2</th>\n",
       "      <td>Nav2_2</td>\n",
       "      <td>NR_148756.1</td>\n",
       "      <td>100.000</td>\n",
       "      <td>333</td>\n",
       "      <td>0</td>\n",
       "      <td>0</td>\n",
       "      <td>1</td>\n",
       "      <td>333</td>\n",
       "      <td>1180</td>\n",
       "      <td>1512</td>\n",
       "      <td>3.160000e-176</td>\n",
       "      <td>616</td>\n",
       "      <td>Bacteria</td>\n",
       "      <td>Alteromonas mediterranea strain DE 16S ribosom...</td>\n",
       "      <td>314275</td>\n",
       "      <td>Alteromonas macleodii str. 'Deep ecotype'</td>\n",
       "      <td>Alteromonas macleodii str. 'Deep ecotype'</td>\n",
       "      <td>g-proteobacteria</td>\n",
       "    </tr>\n",
       "    <tr>\n",
       "      <th>3</th>\n",
       "      <td>PET1_2</td>\n",
       "      <td>NR_074812.1</td>\n",
       "      <td>97.598</td>\n",
       "      <td>333</td>\n",
       "      <td>8</td>\n",
       "      <td>0</td>\n",
       "      <td>1</td>\n",
       "      <td>333</td>\n",
       "      <td>1183</td>\n",
       "      <td>1515</td>\n",
       "      <td>6.930000e-163</td>\n",
       "      <td>571</td>\n",
       "      <td>Bacteria</td>\n",
       "      <td>Hahella chejuensis strain KCTC 2396 16S riboso...</td>\n",
       "      <td>158327</td>\n",
       "      <td>Hahella chejuensis</td>\n",
       "      <td>Hahella chejuensis</td>\n",
       "      <td>g-proteobacteria</td>\n",
       "    </tr>\n",
       "    <tr>\n",
       "      <th>4</th>\n",
       "      <td>PET1_8</td>\n",
       "      <td>NR_152090.1</td>\n",
       "      <td>100.000</td>\n",
       "      <td>318</td>\n",
       "      <td>0</td>\n",
       "      <td>0</td>\n",
       "      <td>1</td>\n",
       "      <td>318</td>\n",
       "      <td>1178</td>\n",
       "      <td>1495</td>\n",
       "      <td>6.880000e-168</td>\n",
       "      <td>588</td>\n",
       "      <td>Bacteria</td>\n",
       "      <td>Pseudomonas oceani strain DSM 100277 16S ribos...</td>\n",
       "      <td>1708783</td>\n",
       "      <td>Pseudomonas sp. DSM 100277</td>\n",
       "      <td>Pseudomonas sp. DSM 100277</td>\n",
       "      <td>g-proteobacteria</td>\n",
       "    </tr>\n",
       "    <tr>\n",
       "      <th>5</th>\n",
       "      <td>PET2_2</td>\n",
       "      <td>NR_148756.1</td>\n",
       "      <td>100.000</td>\n",
       "      <td>333</td>\n",
       "      <td>0</td>\n",
       "      <td>0</td>\n",
       "      <td>1</td>\n",
       "      <td>333</td>\n",
       "      <td>1180</td>\n",
       "      <td>1512</td>\n",
       "      <td>3.160000e-176</td>\n",
       "      <td>616</td>\n",
       "      <td>Bacteria</td>\n",
       "      <td>Alteromonas mediterranea strain DE 16S ribosom...</td>\n",
       "      <td>314275</td>\n",
       "      <td>Alteromonas macleodii str. 'Deep ecotype'</td>\n",
       "      <td>Alteromonas macleodii str. 'Deep ecotype'</td>\n",
       "      <td>g-proteobacteria</td>\n",
       "    </tr>\n",
       "    <tr>\n",
       "      <th>6</th>\n",
       "      <td>PET2_8</td>\n",
       "      <td>NR_148756.1</td>\n",
       "      <td>99.700</td>\n",
       "      <td>333</td>\n",
       "      <td>1</td>\n",
       "      <td>0</td>\n",
       "      <td>1</td>\n",
       "      <td>333</td>\n",
       "      <td>1180</td>\n",
       "      <td>1512</td>\n",
       "      <td>1.470000e-174</td>\n",
       "      <td>610</td>\n",
       "      <td>Bacteria</td>\n",
       "      <td>Alteromonas mediterranea strain DE 16S ribosom...</td>\n",
       "      <td>314275</td>\n",
       "      <td>Alteromonas macleodii str. 'Deep ecotype'</td>\n",
       "      <td>Alteromonas macleodii str. 'Deep ecotype'</td>\n",
       "      <td>g-proteobacteria</td>\n",
       "    </tr>\n",
       "    <tr>\n",
       "      <th>7</th>\n",
       "      <td>PETsn1_2</td>\n",
       "      <td>NR_148756.1</td>\n",
       "      <td>100.000</td>\n",
       "      <td>333</td>\n",
       "      <td>0</td>\n",
       "      <td>0</td>\n",
       "      <td>1</td>\n",
       "      <td>333</td>\n",
       "      <td>1180</td>\n",
       "      <td>1512</td>\n",
       "      <td>3.160000e-176</td>\n",
       "      <td>616</td>\n",
       "      <td>Bacteria</td>\n",
       "      <td>Alteromonas mediterranea strain DE 16S ribosom...</td>\n",
       "      <td>314275</td>\n",
       "      <td>Alteromonas macleodii str. 'Deep ecotype'</td>\n",
       "      <td>Alteromonas macleodii str. 'Deep ecotype'</td>\n",
       "      <td>g-proteobacteria</td>\n",
       "    </tr>\n",
       "    <tr>\n",
       "      <th>8</th>\n",
       "      <td>PETsn1_8</td>\n",
       "      <td>NR_148756.1</td>\n",
       "      <td>99.401</td>\n",
       "      <td>334</td>\n",
       "      <td>1</td>\n",
       "      <td>1</td>\n",
       "      <td>1</td>\n",
       "      <td>334</td>\n",
       "      <td>1180</td>\n",
       "      <td>1512</td>\n",
       "      <td>6.860000e-173</td>\n",
       "      <td>604</td>\n",
       "      <td>Bacteria</td>\n",
       "      <td>Alteromonas mediterranea strain DE 16S ribosom...</td>\n",
       "      <td>314275</td>\n",
       "      <td>Alteromonas macleodii str. 'Deep ecotype'</td>\n",
       "      <td>Alteromonas macleodii str. 'Deep ecotype'</td>\n",
       "      <td>g-proteobacteria</td>\n",
       "    </tr>\n",
       "    <tr>\n",
       "      <th>9</th>\n",
       "      <td>PHBb1_2</td>\n",
       "      <td>NR_112983.1</td>\n",
       "      <td>100.000</td>\n",
       "      <td>311</td>\n",
       "      <td>0</td>\n",
       "      <td>0</td>\n",
       "      <td>1</td>\n",
       "      <td>311</td>\n",
       "      <td>1117</td>\n",
       "      <td>1427</td>\n",
       "      <td>4.980000e-164</td>\n",
       "      <td>575</td>\n",
       "      <td>Bacteria</td>\n",
       "      <td>Litoreibacter janthinus strain KMM 3842 16S ri...</td>\n",
       "      <td>670154</td>\n",
       "      <td>Litoreibacter janthinus</td>\n",
       "      <td>Litoreibacter janthinus</td>\n",
       "      <td>a-proteobacteria</td>\n",
       "    </tr>\n",
       "  </tbody>\n",
       "</table>\n",
       "</div>"
      ],
      "text/plain": [
       "     qseqid       sseqid   pident  length  mismatch  gapopen  qstart  qend  \\\n",
       "0    Nav1_2  NR_115063.1   95.808     334        13        1       1   333   \n",
       "1    Nav1_8  NR_025241.1   98.799     333         3        1       1   332   \n",
       "2    Nav2_2  NR_148756.1  100.000     333         0        0       1   333   \n",
       "3    PET1_2  NR_074812.1   97.598     333         8        0       1   333   \n",
       "4    PET1_8  NR_152090.1  100.000     318         0        0       1   318   \n",
       "5    PET2_2  NR_148756.1  100.000     333         0        0       1   333   \n",
       "6    PET2_8  NR_148756.1   99.700     333         1        0       1   333   \n",
       "7  PETsn1_2  NR_148756.1  100.000     333         0        0       1   333   \n",
       "8  PETsn1_8  NR_148756.1   99.401     334         1        1       1   334   \n",
       "9   PHBb1_2  NR_112983.1  100.000     311         0        0       1   311   \n",
       "\n",
       "   sstart  send         evalue  bitscore sskingdoms  \\\n",
       "0    1187  1520  7.030000e-153       538   Bacteria   \n",
       "1    1173  1505  5.300000e-169       592   Bacteria   \n",
       "2    1180  1512  3.160000e-176       616   Bacteria   \n",
       "3    1183  1515  6.930000e-163       571   Bacteria   \n",
       "4    1178  1495  6.880000e-168       588   Bacteria   \n",
       "5    1180  1512  3.160000e-176       616   Bacteria   \n",
       "6    1180  1512  1.470000e-174       610   Bacteria   \n",
       "7    1180  1512  3.160000e-176       616   Bacteria   \n",
       "8    1180  1512  6.860000e-173       604   Bacteria   \n",
       "9    1117  1427  4.980000e-164       575   Bacteria   \n",
       "\n",
       "                                              stitle  staxids  \\\n",
       "0  Bacillus halotolerans strain DSM 8802 16S ribo...   260554   \n",
       "1  Bacillus aquimaris strain TF-12 16S ribosomal ...   189382   \n",
       "2  Alteromonas mediterranea strain DE 16S ribosom...   314275   \n",
       "3  Hahella chejuensis strain KCTC 2396 16S riboso...   158327   \n",
       "4  Pseudomonas oceani strain DSM 100277 16S ribos...  1708783   \n",
       "5  Alteromonas mediterranea strain DE 16S ribosom...   314275   \n",
       "6  Alteromonas mediterranea strain DE 16S ribosom...   314275   \n",
       "7  Alteromonas mediterranea strain DE 16S ribosom...   314275   \n",
       "8  Alteromonas mediterranea strain DE 16S ribosom...   314275   \n",
       "9  Litoreibacter janthinus strain KMM 3842 16S ri...   670154   \n",
       "\n",
       "                                   sscinames  \\\n",
       "0              [Brevibacterium] halotolerans   \n",
       "1                         Bacillus aquimaris   \n",
       "2  Alteromonas macleodii str. 'Deep ecotype'   \n",
       "3                         Hahella chejuensis   \n",
       "4                 Pseudomonas sp. DSM 100277   \n",
       "5  Alteromonas macleodii str. 'Deep ecotype'   \n",
       "6  Alteromonas macleodii str. 'Deep ecotype'   \n",
       "7  Alteromonas macleodii str. 'Deep ecotype'   \n",
       "8  Alteromonas macleodii str. 'Deep ecotype'   \n",
       "9                    Litoreibacter janthinus   \n",
       "\n",
       "                                   scomnames       sblastnames  \n",
       "0              [Brevibacterium] halotolerans        firmicutes  \n",
       "1                         Bacillus aquimaris        firmicutes  \n",
       "2  Alteromonas macleodii str. 'Deep ecotype'  g-proteobacteria  \n",
       "3                         Hahella chejuensis  g-proteobacteria  \n",
       "4                 Pseudomonas sp. DSM 100277  g-proteobacteria  \n",
       "5  Alteromonas macleodii str. 'Deep ecotype'  g-proteobacteria  \n",
       "6  Alteromonas macleodii str. 'Deep ecotype'  g-proteobacteria  \n",
       "7  Alteromonas macleodii str. 'Deep ecotype'  g-proteobacteria  \n",
       "8  Alteromonas macleodii str. 'Deep ecotype'  g-proteobacteria  \n",
       "9                    Litoreibacter janthinus  a-proteobacteria  "
      ]
     },
     "execution_count": 35,
     "metadata": {},
     "output_type": "execute_result"
    }
   ],
   "source": [
    "ftab"
   ]
  },
  {
   "cell_type": "code",
   "execution_count": 36,
   "metadata": {},
   "outputs": [],
   "source": [
    "## Función para obtener la inicial del género y la especie para poderla agregar al \"id\" de la secuencia\n",
    "def genesp(desc):\n",
    "    genero1= desc[:1]\n",
    "    genero2= desc[desc.find(\" \")+1:]\n",
    "    genero2= genero2[:genero2.find(\" \")]\n",
    "    gen_especie = genero1+ \"_\" +genero2\n",
    "    return (gen_especie)"
   ]
  },
  {
   "cell_type": "code",
   "execution_count": 52,
   "metadata": {},
   "outputs": [],
   "source": [
    "## Función para obtener la inicial del género para poderla agregar al \"id\" de la secuencia\n",
    "def genero(desc):\n",
    "    genero1= desc[:desc.find(\" \")]\n",
    "    genero2= desc[desc.find(\" \")+1:]\n",
    "    genero2= genero2[:genero2.find(\" \")]\n",
    "    genero1= genero1 + \" \" + genero2\n",
    "    return (genero1)"
   ]
  },
  {
   "cell_type": "code",
   "execution_count": 57,
   "metadata": {},
   "outputs": [
    {
     "name": "stdout",
     "output_type": "stream",
     "text": [
      "Nav1_2_B_halotolerans \t Bacillus halotolerans\n",
      "Nav1_8_B_aquimaris \t Bacillus aquimaris\n",
      "Nav2_2_A_mediterranea \t Alteromonas mediterranea\n",
      "PET1_2_H_chejuensis \t Hahella chejuensis\n",
      "PET1_8_P_oceani \t Pseudomonas oceani\n",
      "PET2_2_A_mediterranea \t Alteromonas mediterranea\n",
      "PET2_8_A_mediterranea \t Alteromonas mediterranea\n",
      "PETsn1_2_A_mediterranea \t Alteromonas mediterranea\n",
      "PETsn1_8_A_mediterranea \t Alteromonas mediterranea\n",
      "PHBb1_2_L_janthinus \t Litoreibacter janthinus\n",
      "10 secuencias totales\n",
      "secuencias con anotacion: 10\n"
     ]
    }
   ],
   "source": [
    "f= open(\"secuencias_comp.fas\", 'r')\n",
    "f2= []\n",
    "linea=''\n",
    "n=0\n",
    "n1=0\n",
    "n2=1000  # para procesar todos n2=0, para procesar hasta un numero de secuencias dado, n2= numero deseado\n",
    "for rec in SeqIO.parse(f, \"fasta\"):\n",
    "    #print (rec.id, rec.description, rec.seq[0:50])\n",
    "    nombre = rec.id\n",
    "    row2=ftab.loc[ftab['qseqid']==nombre]\n",
    "    \n",
    "    try :\n",
    "        row3_1= row2['qseqid'].values[0]\n",
    "    except:\n",
    "        n+=1\n",
    "        n1+=1\n",
    "    else:\n",
    "        n+=1\n",
    "        descripcion = row2[\"stitle\"].values[0]\n",
    "        nombre = rec.id+ \"_\" +genesp(descripcion)\n",
    "        descripcion = genero(descripcion)\n",
    "        linea = SeqRecord(rec.seq, id=nombre, description= (descripcion)) \n",
    "        f2.append(linea)\n",
    "        print(linea.id, \"\\t\" , linea.description)\n",
    "        \n",
    "    if n==n2:\n",
    "        break\n",
    "print (str(n)+\" secuencias totales\" +\"\\n\" + \"secuencias con anotacion: \"+ str(n-n1))"
   ]
  },
  {
   "cell_type": "code",
   "execution_count": 58,
   "metadata": {},
   "outputs": [
    {
     "data": {
      "text/plain": [
       "10"
      ]
     },
     "execution_count": 58,
     "metadata": {},
     "output_type": "execute_result"
    }
   ],
   "source": [
    "SeqIO.write(f2, 'secuencias_anotadas.fasta','fasta')"
   ]
  },
  {
   "cell_type": "code",
   "execution_count": 59,
   "metadata": {},
   "outputs": [
    {
     "name": "stdout",
     "output_type": "stream",
     "text": [
      ">Nav1_2_B_halotolerans Bacillus halotolerans\r\n",
      "GACGTCAAATCATCATGCCCCTTATGACCTGGGGTACACACGTGGTACAATGGACAGAAC\r\n",
      "AAAGGGCAGGGAAACCGGGAGGTTAAGCCAATTCCACAAATCTGTTTTCAGTTCGGATTG\r\n",
      "CAGTTTGCAACTTGAATGCGTGAAGCTGGAATCGGTTGTAATTGCGGATCAGCATGCCGC\r\n",
      "GGTGAATACGTTCCCGGGCCTTGTACACACCGCCCGTCACACCACGAGAGTTTGTAACAC\r\n",
      "CCGAAGTCGGTGAGGTAACCTTTATGGAGCCAGCCGCCGAAGGTGGGACAGATGATTGGG\r\n",
      "GGAAGTCGTAACAAGGTAGCCGTATCGGAAGGT\r\n",
      ">Nav1_8_B_aquimaris Bacillus aquimaris\r\n",
      "GACGTCAAATCATCATGCCCCTTATGACTTGGGCTACACACGTGCTACAATGGACGGTAC\r\n",
      "AAAGGGCAGCAAGACCGCGAGGTTTAGCCAATCCCATAAAACCGTTCTCAGTTCGGATTG\r\n"
     ]
    }
   ],
   "source": [
    "!head secuencias_anotadas.fasta"
   ]
  },
  {
   "cell_type": "code",
   "execution_count": null,
   "metadata": {},
   "outputs": [],
   "source": []
  },
  {
   "cell_type": "code",
   "execution_count": null,
   "metadata": {},
   "outputs": [],
   "source": []
  }
 ],
 "metadata": {
  "kernelspec": {
   "display_name": "Python 3",
   "language": "python",
   "name": "python3"
  },
  "language_info": {
   "codemirror_mode": {
    "name": "ipython",
    "version": 3
   },
   "file_extension": ".py",
   "mimetype": "text/x-python",
   "name": "python",
   "nbconvert_exporter": "python",
   "pygments_lexer": "ipython3",
   "version": "3.6.4"
  }
 },
 "nbformat": 4,
 "nbformat_minor": 2
}
