{
 "cells": [
  {
   "cell_type": "code",
   "execution_count": 1,
   "metadata": {},
   "outputs": [
    {
     "name": "stdout",
     "output_type": "stream",
     "text": [
      "16SMicrobial.nhr  16SMicrobial.nni  16SMicrobial.nsi  taxdb.bti\r\n",
      "16SMicrobial.nin  16SMicrobial.nog  16SMicrobial.nsq\r\n",
      "16SMicrobial.nnd  16SMicrobial.nsd  taxdb.btd\r\n"
     ]
    }
   ],
   "source": [
    "ls ~/Desktop/bigdata/"
   ]
  },
  {
   "cell_type": "code",
   "execution_count": 2,
   "metadata": {},
   "outputs": [
    {
     "data": {
      "text/plain": [
       "'/home/user1/Desktop/jupyter'"
      ]
     },
     "execution_count": 2,
     "metadata": {},
     "output_type": "execute_result"
    }
   ],
   "source": [
    "pwd"
   ]
  },
  {
   "cell_type": "code",
   "execution_count": 3,
   "metadata": {},
   "outputs": [
    {
     "name": "stdout",
     "output_type": "stream",
     "text": [
      "16SMicrobial.nhr  16SMicrobial.nni  16SMicrobial.nsi  taxdb.bti\r\n",
      "16SMicrobial.nin  16SMicrobial.nog  16SMicrobial.nsq\r\n",
      "16SMicrobial.nnd  16SMicrobial.nsd  taxdb.btd\r\n"
     ]
    }
   ],
   "source": [
    "ls ../bigdata/"
   ]
  },
  {
   "cell_type": "code",
   "execution_count": 6,
   "metadata": {},
   "outputs": [
    {
     "name": "stdout",
     "output_type": "stream",
     "text": [
      "\u001b[0m\u001b[01;34mejercicio_fastqc\u001b[0m/  \u001b[01;34mfasta\u001b[0m/\r\n"
     ]
    }
   ],
   "source": [
    "ls ../data/"
   ]
  },
  {
   "cell_type": "code",
   "execution_count": 8,
   "metadata": {},
   "outputs": [
    {
     "name": "stdout",
     "output_type": "stream",
     "text": [
      "Tue Jul 24 14:18:52 UTC 2018\n",
      "Tue Jul 24 14:18:53 UTC 2018\n"
     ]
    }
   ],
   "source": [
    "%%bash\n",
    "export BLASTDB=~/Desktop/bigdata/\n",
    "date \n",
    "blastn \\\n",
    "-query ../data/fasta/secuencias.fasta \\\n",
    "-db ../bigdata/16SMicrobial \\\n",
    "-out ../data/fasta/secuencias_borrar.tab \\\n",
    "-evalue 1E-6 \\\n",
    "-max_target_seqs 1 \\\n",
    "-num_threads 6 \\\n",
    "-outfmt \"6 std stitle\"\n",
    "date"
   ]
  },
  {
   "cell_type": "code",
   "execution_count": 9,
   "metadata": {},
   "outputs": [
    {
     "name": "stdout",
     "output_type": "stream",
     "text": [
      "Nav1.2F.seq\tNR_151897.1\t95.570\t316\t13\t1\t7\t321\t1498\t1183\t7.03e-143\t505\tBacillus nakamurai strain NRRL B-41091 16S ribosomal RNA, partial sequence\r\n",
      "Nav1.2R.seq\tNR_115063.1\t97.222\t324\t4\t5\t3\t321\t1201\t1524\t1.50e-154\t544\tBacillus halotolerans strain DSM 8802 16S ribosomal RNA, partial sequence\r\n",
      "Nav1.8F.seq\tNR_025241.1\t98.485\t330\t4\t1\t11\t339\t1482\t1153\t1.16e-165\t580\tBacillus aquimaris strain TF-12 16S ribosomal RNA gene, partial sequence\r\n",
      "Nav1.8R.seq\tNR_025241.1\t99.062\t320\t2\t1\t2\t321\t1189\t1507\t1.93e-163\t573\tBacillus aquimaris strain TF-12 16S ribosomal RNA gene, partial sequence\r\n",
      "Nav2.2F.seq\tNR_148756.1\t97.866\t328\t6\t1\t14\t340\t1487\t1160\t3.27e-161\t566\tAlteromonas mediterranea strain DE 16S ribosomal RNA, complete sequence\r\n",
      "Nav2.2R.seq\tNR_148756.1\t99.083\t327\t3\t0\t21\t347\t1206\t1532\t7.44e-168\t588\tAlteromonas mediterranea strain DE 16S ribosomal RNA, complete sequence\r\n",
      "PET1.2F.seq\tNR_148798.1\t98.089\t314\t4\t2\t9\t320\t1468\t1155\t4.22e-155\t545\tPseudomonas populi strain KBL-4-9 16S ribosomal RNA, partial sequence\r\n",
      "PET1.2R.seq\tNR_074812.1\t97.444\t313\t8\t0\t11\t323\t1204\t1516\t9.26e-152\t534\tHahella chejuensis strain KCTC 2396 16S ribosomal RNA, complete sequence\r\n",
      "PET1.8F.seq\tNR_152090.1\t97.321\t336\t7\t2\t6\t340\t1492\t1158\t2.52e-162\t569\tPseudomonas oceani strain DSM 100277 16S ribosomal RNA, partial sequence\r\n",
      "PET1.8R.seq\tNR_152090.1\t99.663\t297\t1\t0\t12\t308\t1199\t1495\t1.54e-154\t544\tPseudomonas oceani strain DSM 100277 16S ribosomal RNA, partial sequence\r\n"
     ]
    }
   ],
   "source": [
    "!head ../data/fasta/secuencias_borrar.tab"
   ]
  },
  {
   "cell_type": "code",
   "execution_count": null,
   "metadata": {},
   "outputs": [],
   "source": []
  }
 ],
 "metadata": {
  "kernelspec": {
   "display_name": "Python 3",
   "language": "python",
   "name": "python3"
  },
  "language_info": {
   "codemirror_mode": {
    "name": "ipython",
    "version": 3
   },
   "file_extension": ".py",
   "mimetype": "text/x-python",
   "name": "python",
   "nbconvert_exporter": "python",
   "pygments_lexer": "ipython3",
   "version": "3.6.4"
  }
 },
 "nbformat": 4,
 "nbformat_minor": 2
}
