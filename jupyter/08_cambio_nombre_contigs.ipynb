{
 "cells": [
  {
   "cell_type": "markdown",
   "metadata": {},
   "source": [
    "# Procedimiento para cambiar de nombre a los contigs\n",
    "## se pondrá de `8_S356_contig000001` en adelante"
   ]
  },
  {
   "cell_type": "markdown",
   "metadata": {},
   "source": [
    "## Se utilizarán los contigs formados por el ensamblaje que se localizan en \n",
    "`~/Desktop/data/ejercicio_ensamblaje/trinity/Trinity.fasta`"
   ]
  },
  {
   "cell_type": "code",
   "execution_count": 1,
   "metadata": {},
   "outputs": [
    {
     "name": "stdout",
     "output_type": "stream",
     "text": [
      "/home/user1/Desktop/data/ejercicio_ensamblaje/trinity/Trinity.fasta\r\n",
      "/home/user1/Desktop/data/ejercicio_ensamblaje/trinity/Trinity.fasta.gene_trans_map\r\n",
      "/home/user1/Desktop/data/ejercicio_ensamblaje/trinity/Trinity.timing\r\n"
     ]
    }
   ],
   "source": [
    "ls ~/Desktop/data/ejercicio_ensamblaje/trinity/T*"
   ]
  },
  {
   "cell_type": "code",
   "execution_count": 2,
   "metadata": {},
   "outputs": [
    {
     "name": "stdout",
     "output_type": "stream",
     "text": [
      "/home/user1/Desktop/data/ejercicio_ensamblaje/trinity\n"
     ]
    }
   ],
   "source": [
    "cd ~/Desktop/data/ejercicio_ensamblaje/trinity/"
   ]
  },
  {
   "cell_type": "code",
   "execution_count": 3,
   "metadata": {},
   "outputs": [
    {
     "name": "stdout",
     "output_type": "stream",
     "text": [
      "321\r\n"
     ]
    }
   ],
   "source": [
    "!grep \">\" Trinity.fasta |wc -l"
   ]
  },
  {
   "cell_type": "code",
   "execution_count": 4,
   "metadata": {},
   "outputs": [],
   "source": [
    "from Bio import SeqIO\n",
    "from Bio.SeqRecord import SeqRecord\n",
    "from Bio.Seq import Seq"
   ]
  },
  {
   "cell_type": "code",
   "execution_count": 9,
   "metadata": {},
   "outputs": [
    {
     "name": "stdout",
     "output_type": "stream",
     "text": [
      "procesando 8_S356_contig000010 \t TRINITY_DN19_c0_g1_i CTATCAAATA\n",
      "procesando 8_S356_contig000020 \t TRINITY_DN58_c0_g2_i GCCCAATAGG\n",
      "procesando 8_S356_contig000030 \t TRINITY_DN16_c0_g1_i GAACAGAAGA\n",
      "procesando 8_S356_contig000040 \t TRINITY_DN64_c0_g1_i CAAGCGCAGT\n",
      "procesando 8_S356_contig000050 \t TRINITY_DN62_c0_g1_i TATGTACACT\n",
      "procesando 8_S356_contig000060 \t TRINITY_DN24_c0_g1_i AACAATCAGA\n",
      "procesando 8_S356_contig000070 \t TRINITY_DN13_c0_g1_i CCTATAATCT\n",
      "procesando 8_S356_contig000080 \t TRINITY_DN65_c2_g1_i GTAGACCCCA\n",
      "procesando 8_S356_contig000090 \t TRINITY_DN49_c1_g1_i AGCTGCTATA\n",
      "procesando 8_S356_contig000100 \t TRINITY_DN130_c0_g1_ GGACACATGC\n",
      "procesando 8_S356_contig000110 \t TRINITY_DN128_c0_g1_ GGAAAAATAA\n",
      "procesando 8_S356_contig000120 \t TRINITY_DN296_c0_g1_ GATGGAAGAA\n",
      "procesando 8_S356_contig000130 \t TRINITY_DN277_c1_g1_ ATCCAGTGTG\n",
      "procesando 8_S356_contig000140 \t TRINITY_DN387_c0_g1_ ATACATTATT\n",
      "procesando 8_S356_contig000150 \t TRINITY_DN355_c0_g1_ AAATAAAACC\n",
      "procesando 8_S356_contig000160 \t TRINITY_DN462_c0_g1_ GCTCCCTGTG\n",
      "procesando 8_S356_contig000170 \t TRINITY_DN532_c0_g1_ GATCACTGCA\n",
      "procesando 8_S356_contig000180 \t TRINITY_DN579_c0_g1_ CCTCTGATAG\n",
      "procesando 8_S356_contig000190 \t TRINITY_DN635_c0_g1_ GGCTGAGCTG\n",
      "procesando 8_S356_contig000200 \t TRINITY_DN702_c0_g1_ GTACTGTATC\n",
      "procesando 8_S356_contig000210 \t TRINITY_DN734_c0_g2_ CACAGATGCT\n",
      "procesando 8_S356_contig000220 \t TRINITY_DN813_c0_g1_ TACTGTCCCT\n",
      "procesando 8_S356_contig000230 \t TRINITY_DN964_c0_g1_ CGAAGGGTCG\n",
      "procesando 8_S356_contig000240 \t TRINITY_DN976_c0_g1_ AGTGGGCTCT\n",
      "procesando 8_S356_contig000250 \t TRINITY_DN969_c0_g1_ AGTCTAGCCT\n",
      "procesando 8_S356_contig000260 \t TRINITY_DN1023_c0_g1 ACTCCCTGCT\n",
      "procesando 8_S356_contig000270 \t TRINITY_DN1081_c0_g1 ATGTAGTCCA\n",
      "procesando 8_S356_contig000280 \t TRINITY_DN1163_c0_g1 ACACATTTCT\n",
      "procesando 8_S356_contig000290 \t TRINITY_DN1146_c0_g1 GTAAAATCAG\n",
      "procesando 8_S356_contig000300 \t TRINITY_DN1296_c0_g1 TAATAATACT\n",
      "procesando 8_S356_contig000310 \t TRINITY_DN1312_c0_g1 CCTCAACACA\n",
      "procesando 8_S356_contig000320 \t TRINITY_DN1423_c0_g1 CAATTTCACG\n",
      "procesando 8_S356_contig000321 \t TRINITY_DN1407_c0_g1 GAATATATTG\n"
     ]
    }
   ],
   "source": [
    "# Celda Cambio de nombre\n",
    "n=0\n",
    "secuencias = []\n",
    "\n",
    "f = open(\"Trinity.fasta\", \"r\")\n",
    "for rec in SeqIO.parse(f, \"fasta\"):\n",
    "    n+=1\n",
    "    n1 =str(n).zfill(6)\n",
    "    sec = rec.seq\n",
    "    linea =SeqRecord(sec, id=\"8_S356_contig\"+ n1, description=rec.description)\n",
    "    #print (linea.id, \"\\t\", linea.description[:20], linea.seq[:10])\n",
    "    secuencias.append(linea)\n",
    "    if n%10==0:\n",
    "        print (\"procesando\", linea.id, \"\\t\", linea.description[:20], linea.seq[:10])\n",
    "print (\"procesando\", linea.id, \"\\t\", linea.description[:20], linea.seq[:10])"
   ]
  },
  {
   "cell_type": "code",
   "execution_count": 10,
   "metadata": {},
   "outputs": [
    {
     "data": {
      "text/plain": [
       "321"
      ]
     },
     "execution_count": 10,
     "metadata": {},
     "output_type": "execute_result"
    }
   ],
   "source": [
    "SeqIO.write(secuencias, '../8_S356_contigs.fa', 'fasta')"
   ]
  },
  {
   "cell_type": "code",
   "execution_count": 11,
   "metadata": {},
   "outputs": [
    {
     "name": "stdout",
     "output_type": "stream",
     "text": [
      "8_S356_contigs.fa  \u001b[0m\u001b[01;34mtrinity\u001b[0m/\r\n"
     ]
    }
   ],
   "source": [
    "ls ../"
   ]
  },
  {
   "cell_type": "markdown",
   "metadata": {},
   "source": [
    "## Abra el archivo `../8_S356_contigs.fa` desde el navegador de Jupyter y observe los cambios"
   ]
  },
  {
   "cell_type": "markdown",
   "metadata": {},
   "source": [
    "## De qué otra forma podría observar los cambios?"
   ]
  },
  {
   "cell_type": "code",
   "execution_count": null,
   "metadata": {},
   "outputs": [],
   "source": []
  },
  {
   "cell_type": "markdown",
   "metadata": {},
   "source": [
    "### Cómo se podría cambiar el comando de la \n",
    "*# Celda Cambio de nombre*\n",
    "### para usar `8_S356_contig001` en adelante (que tenga tres cifras en vez de seis)?"
   ]
  },
  {
   "cell_type": "code",
   "execution_count": null,
   "metadata": {},
   "outputs": [],
   "source": []
  },
  {
   "cell_type": "code",
   "execution_count": null,
   "metadata": {},
   "outputs": [],
   "source": []
  }
 ],
 "metadata": {
  "kernelspec": {
   "display_name": "Python 3",
   "language": "python",
   "name": "python3"
  },
  "language_info": {
   "codemirror_mode": {
    "name": "ipython",
    "version": 3
   },
   "file_extension": ".py",
   "mimetype": "text/x-python",
   "name": "python",
   "nbconvert_exporter": "python",
   "pygments_lexer": "ipython3",
   "version": "3.6.4"
  }
 },
 "nbformat": 4,
 "nbformat_minor": 2
}
