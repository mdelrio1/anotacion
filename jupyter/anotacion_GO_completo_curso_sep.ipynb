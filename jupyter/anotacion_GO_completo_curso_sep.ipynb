{
 "cells": [
  {
   "cell_type": "code",
   "execution_count": 73,
   "metadata": {},
   "outputs": [],
   "source": [
    "## Importamos los paquetes requeridos\n",
    "from urllib.request import urlopen\n",
    "from bs4 import BeautifulSoup\n",
    "import requests\n",
    "from tqdm import tqdm\n",
    "tqdm.monitor_interval = 0\n",
    "import shutil, os\n",
    "from pandas import Series, DataFrame \n",
    "import pandas as pd\n",
    "import pathlib\n",
    "pd.set_option('max_rows',100000)\n",
    "pd.set_option('max_colwidth',100000)\n",
    "import urllib.request\n",
    "import webbrowser\n",
    "import re\n",
    "import numpy as np\n",
    "from time import sleep\n",
    "import subprocess\n",
    "from subprocess import Popen, PIPE, STDOUT\n",
    "import shutil\n",
    "from IPython.display import Image\n",
    "from IPython.core.display import HTML"
   ]
  },
  {
   "cell_type": "code",
   "execution_count": 74,
   "metadata": {},
   "outputs": [
    {
     "data": {
      "text/html": [
       "<img src=\"https://raw.githubusercontent.com/eduardo1011/Programas/master/Anotacion_funcional_diag.png\"/>"
      ],
      "text/plain": [
       "<IPython.core.display.Image object>"
      ]
     },
     "execution_count": 74,
     "metadata": {},
     "output_type": "execute_result"
    }
   ],
   "source": [
    "Image(url= \"https://raw.githubusercontent.com/eduardo1011/Programas/master/Anotacion_funcional_diag.png\")"
   ]
  },
  {
   "cell_type": "code",
   "execution_count": 75,
   "metadata": {},
   "outputs": [
    {
     "data": {
      "text/html": [
       "<img src=\"https://raw.githubusercontent.com/eduardo1011/Programas/master/Anotacion_funcional_GO.png\"/>"
      ],
      "text/plain": [
       "<IPython.core.display.Image object>"
      ]
     },
     "execution_count": 75,
     "metadata": {},
     "output_type": "execute_result"
    }
   ],
   "source": [
    "Image(url= \"https://raw.githubusercontent.com/eduardo1011/Programas/master/Anotacion_funcional_GO.png\")"
   ]
  },
  {
   "attachments": {
    "image.png": {
     "image/png": "[encoded data removed]"
    }
   },
   "cell_type": "markdown",
   "metadata": {},
   "source": [
    "![image.png](attachment:image.png)"
   ]
  },
  {
   "cell_type": "markdown",
   "metadata": {},
   "source": [
    "# 1. Anotacion de productos de genes\n",
    "# 2. Gráficos en R<br/>"
   ]
  },
  {
   "attachments": {
    "image.png": {
     "image/png": "[encoded data removed]"
    }
   },
   "cell_type": "markdown",
   "metadata": {},
   "source": [
    "![image.png](attachment:image.png)"
   ]
  },
  {
   "cell_type": "markdown",
   "metadata": {},
   "source": [
    "# IMPORTANTE\n",
    "## Archivos requeridos para la Ontologia \n",
    ">### 1.- go.obo\n",
    ">### 2.- OWLTools (Map2Slim)\n",
    ">### 3.- GO slim (Saccharomyces)\n",
    ">### 4.- Proteoma en estudio (IDs Uniprot)\n",
    ">### 5.- Archivo en formato GAF (Gene Association Format, GOC)"
   ]
  },
  {
   "cell_type": "code",
   "execution_count": 79,
   "metadata": {},
   "outputs": [],
   "source": [
    "## creamos dos directorios, uno para las descargas y otro para los resultados\n",
    "os.makedirs('data',exist_ok=True)\n",
    "os.makedirs('results',exist_ok=True)\n",
    "os.makedirs('programs',exist_ok=True)"
   ]
  },
  {
   "cell_type": "markdown",
   "metadata": {},
   "source": [
    "# 1.- Descargas (go.obo, OWLTools y GO slim)<br/>"
   ]
  },
  {
   "cell_type": "code",
   "execution_count": 80,
   "metadata": {},
   "outputs": [
    {
     "name": "stdout",
     "output_type": "stream",
     "text": [
      "■■■ El archivo go.obo ya existe, no se descargará de la red\n"
     ]
    }
   ],
   "source": [
    "if os.path.exists(\"./data/go.obo\"): \n",
    "    print ('■■■ El archivo go.obo ya existe, no se descargará de la red')\n",
    "else:\n",
    "    ## descarga de la ontologia de genes\n",
    "    output1=urllib.request.urlretrieve('http://snapshot.geneontology.org/ontology/go.obo','./data/go.obo')\n",
    "if os.path.exists(\"./programs/owltools\"):\n",
    "    print ('■■■ El programa owltools ya existe, no se descargará de la red')\n",
    "else: \n",
    "    ## descarga de owltools, una herramienta multitarea, una de ellas es hacer GO_slim\n",
    "    output2=urllib.request.urlretrieve('http://build.berkeleybop.org/userContent/owltools/owltools','./programs/owltools')\n",
    "    ## damos permisos de ejecucion a owltools\n",
    "    !chmod +x ./programs//owltools\n",
    "if os.path.exists(\"./data/goslim_yeast.txt\"):\n",
    "    print ('■■■ El archivo goslim_yeast.txt ya existe, no se descargará de la red')\n",
    "else:\n",
    "    ## descargamos el go-slim desde el Gene Ontology Consortium\n",
    "    output3=urllib.request.urlretrieve('ftp://ftp.geneontology.org/go/GO_slims/goslim_yeast.obo','./data/goslim_yeast.obo')\n",
    "    ## Ahora le hacemos una ligera edicion para obtener tres columnas: GO ID, término y aspecto\n",
    "    Popen(\"grep -e '^id: GO:' -e '^name: ' -e '^namespace: ' -e '.Typedef.' ./data/goslim_yeast.obo | sed 's/id:/#id:/g' | perl -p -e 's/\\n/\\t/g' | sed 's/.Typedef.*//g' | perl -p -e 's/#/\\n/g' | sed 's/id: //g; s/name: //g; s/namespace: //g' | sed '/^$/d' | sed 's/\\t$//g' | sed 's/biological_process/P/g; s/molecular_function/F/g; s/cellular_component/C/g' | grep -v -e '\\tC\\tC' -v -e '\\tF\\tF' -v -e '\\tP\\tP'  > ./data/goslim_yeast.txt\",\n",
    "          shell=True, stdin=PIPE, stdout=PIPE, stderr=STDOUT, close_fds=True).stdout.read()\n",
    "    if os.path.exists(\"./data/goslim_yeast.obo\"): os.remove(\"./data/goslim_yeast.obo\")\n"
   ]
  },
  {
   "cell_type": "code",
   "execution_count": null,
   "metadata": {},
   "outputs": [],
   "source": []
  },
  {
   "cell_type": "markdown",
   "metadata": {
    "collapsed": true
   },
   "source": [
    "# 2.- Proteoma en estudio (IDs Uniprot) \n",
    ">## La lista de IDs de proteinas se obtuvo del siguiente articulo (*Saccharomyces cerevisiae*, strain ATCC 204508 / S288c, Baker's yeast)\n",
    "https://www.ncbi.nlm.nih.gov/pubmed/29358734"
   ]
  },
  {
   "cell_type": "code",
   "execution_count": 81,
   "metadata": {},
   "outputs": [
    {
     "data": {
      "text/html": [
       "<img src=\"https://raw.githubusercontent.com/eduardo1011/Programas/master/Quantitative_proteomics.png\"/>"
      ],
      "text/plain": [
       "<IPython.core.display.Image object>"
      ]
     },
     "execution_count": 81,
     "metadata": {},
     "output_type": "execute_result"
    }
   ],
   "source": [
    "Image(url= \"https://raw.githubusercontent.com/eduardo1011/Programas/master/Quantitative_proteomics.png\")"
   ]
  },
  {
   "cell_type": "code",
   "execution_count": 82,
   "metadata": {},
   "outputs": [
    {
     "name": "stdout",
     "output_type": "stream",
     "text": [
      "\n",
      " Numero total de proteinas:  1500 \n",
      "\n",
      "        0\n",
      "1  O13329\n",
      "2  O13525\n",
      "3  O13539\n",
      "4  O13547\n",
      "5  O13563\n",
      "6  O13585\n",
      "7  O14464\n",
      "8  O74700\n",
      "9  P00044 \n",
      "..........\n",
      "\n"
     ]
    }
   ],
   "source": [
    "## contamos los IDs de las proteinas y vemos la lista \n",
    "proteome_list=pd.read_csv('proteome_list_sach.txt',header=None)\n",
    "print('\\n','Numero total de proteinas: ',proteome_list[0].count(),'\\n')\n",
    "print(proteome_list[1:10],'\\n..........\\n')"
   ]
  },
  {
   "cell_type": "markdown",
   "metadata": {},
   "source": [
    "## 3.- Obtencion del archivo GAF desde la base de datos de EMBL-EBI (Uniprot-GOA) y edicion (obtencion de ID y GO ID)"
   ]
  },
  {
   "cell_type": "code",
   "execution_count": 83,
   "metadata": {},
   "outputs": [
    {
     "data": {
      "image/jpeg": "[encoded data removed]",
      "text/plain": [
       "<IPython.core.display.Image object>"
      ]
     },
     "execution_count": 83,
     "metadata": {},
     "output_type": "execute_result"
    }
   ],
   "source": [
    "Image(\"https://i.ytimg.com/vi/Pa5Ll8WByr4/maxresdefault.jpg\")"
   ]
  },
  {
   "cell_type": "markdown",
   "metadata": {},
   "source": [
    "### Busqueda automatica del organismo en estudio<br/>"
   ]
  },
  {
   "cell_type": "code",
   "execution_count": 106,
   "metadata": {
    "scrolled": true
   },
   "outputs": [
    {
     "ename": "KeyError",
     "evalue": "0",
     "output_type": "error",
     "traceback": [
      "\u001b[0;31m------------------------------------------------------------\u001b[0m",
      "\u001b[0;31mKeyError\u001b[0m                   Traceback (most recent call last)",
      "\u001b[0;32m~/anaconda3/lib/python3.6/site-packages/pandas/core/indexes/base.py\u001b[0m in \u001b[0;36mget_loc\u001b[0;34m(self, key, method, tolerance)\u001b[0m\n\u001b[1;32m   2441\u001b[0m             \u001b[0;32mtry\u001b[0m\u001b[0;34m:\u001b[0m\u001b[0;34m\u001b[0m\u001b[0m\n\u001b[0;32m-> 2442\u001b[0;31m                 \u001b[0;32mreturn\u001b[0m \u001b[0mself\u001b[0m\u001b[0;34m.\u001b[0m\u001b[0m_engine\u001b[0m\u001b[0;34m.\u001b[0m\u001b[0mget_loc\u001b[0m\u001b[0;34m(\u001b[0m\u001b[0mkey\u001b[0m\u001b[0;34m)\u001b[0m\u001b[0;34m\u001b[0m\u001b[0m\n\u001b[0m\u001b[1;32m   2443\u001b[0m             \u001b[0;32mexcept\u001b[0m \u001b[0mKeyError\u001b[0m\u001b[0;34m:\u001b[0m\u001b[0;34m\u001b[0m\u001b[0m\n",
      "\u001b[0;32mpandas/_libs/index.pyx\u001b[0m in \u001b[0;36mpandas._libs.index.IndexEngine.get_loc\u001b[0;34m()\u001b[0m\n",
      "\u001b[0;32mpandas/_libs/index.pyx\u001b[0m in \u001b[0;36mpandas._libs.index.IndexEngine.get_loc\u001b[0;34m()\u001b[0m\n",
      "\u001b[0;32mpandas/_libs/hashtable_class_helper.pxi\u001b[0m in \u001b[0;36mpandas._libs.hashtable.PyObjectHashTable.get_item\u001b[0;34m()\u001b[0m\n",
      "\u001b[0;32mpandas/_libs/hashtable_class_helper.pxi\u001b[0m in \u001b[0;36mpandas._libs.hashtable.PyObjectHashTable.get_item\u001b[0;34m()\u001b[0m\n",
      "\u001b[0;31mKeyError\u001b[0m: 0",
      "\nDuring handling of the above exception, another exception occurred:\n",
      "\u001b[0;31mKeyError\u001b[0m                   Traceback (most recent call last)",
      "\u001b[0;32m<ipython-input-106-fda41eb69d90>\u001b[0m in \u001b[0;36m<module>\u001b[0;34m()\u001b[0m\n\u001b[1;32m      1\u001b[0m \u001b[0;31m## Se extrae el primer identificador de la lista de proteínas\u001b[0m\u001b[0;34m\u001b[0m\u001b[0;34m\u001b[0m\u001b[0m\n\u001b[0;32m----> 2\u001b[0;31m \u001b[0mfirst_entry\u001b[0m\u001b[0;34m=\u001b[0m\u001b[0mproteome_list\u001b[0m\u001b[0;34m[\u001b[0m\u001b[0;36m0\u001b[0m\u001b[0;34m]\u001b[0m\u001b[0;34m.\u001b[0m\u001b[0miloc\u001b[0m\u001b[0;34m[\u001b[0m\u001b[0;36m0\u001b[0m\u001b[0;34m]\u001b[0m\u001b[0;34m\u001b[0m\u001b[0m\n\u001b[0m\u001b[1;32m      3\u001b[0m \u001b[0;34m\u001b[0m\u001b[0m\n\u001b[1;32m      4\u001b[0m \u001b[0;31m## Con el identificador de la proteína obtenemos el \"organism\" y el \"id-organism\" desde Uniprot\u001b[0m\u001b[0;34m\u001b[0m\u001b[0;34m\u001b[0m\u001b[0m\n\u001b[1;32m      5\u001b[0m \u001b[0morganism\u001b[0m\u001b[0;34m=\u001b[0m\u001b[0mrequests\u001b[0m\u001b[0;34m.\u001b[0m\u001b[0mget\u001b[0m\u001b[0;34m(\u001b[0m\u001b[0;34m\"https://www.uniprot.org/uniprot/?query=\"\u001b[0m\u001b[0;34m+\u001b[0m\u001b[0mfirst_entry\u001b[0m\u001b[0;34m+\u001b[0m\u001b[0;34m\"&sort=score&columns=organism&format=tab&limit=1\"\u001b[0m\u001b[0;34m)\u001b[0m\u001b[0;34m.\u001b[0m\u001b[0mcontent\u001b[0m\u001b[0;34m.\u001b[0m\u001b[0mdecode\u001b[0m\u001b[0;34m(\u001b[0m\u001b[0;34m)\u001b[0m\u001b[0;34m\u001b[0m\u001b[0m\n",
      "\u001b[0;32m~/anaconda3/lib/python3.6/site-packages/pandas/core/frame.py\u001b[0m in \u001b[0;36m__getitem__\u001b[0;34m(self, key)\u001b[0m\n\u001b[1;32m   1962\u001b[0m             \u001b[0;32mreturn\u001b[0m \u001b[0mself\u001b[0m\u001b[0;34m.\u001b[0m\u001b[0m_getitem_multilevel\u001b[0m\u001b[0;34m(\u001b[0m\u001b[0mkey\u001b[0m\u001b[0;34m)\u001b[0m\u001b[0;34m\u001b[0m\u001b[0m\n\u001b[1;32m   1963\u001b[0m         \u001b[0;32melse\u001b[0m\u001b[0;34m:\u001b[0m\u001b[0;34m\u001b[0m\u001b[0m\n\u001b[0;32m-> 1964\u001b[0;31m             \u001b[0;32mreturn\u001b[0m \u001b[0mself\u001b[0m\u001b[0;34m.\u001b[0m\u001b[0m_getitem_column\u001b[0m\u001b[0;34m(\u001b[0m\u001b[0mkey\u001b[0m\u001b[0;34m)\u001b[0m\u001b[0;34m\u001b[0m\u001b[0m\n\u001b[0m\u001b[1;32m   1965\u001b[0m \u001b[0;34m\u001b[0m\u001b[0m\n\u001b[1;32m   1966\u001b[0m     \u001b[0;32mdef\u001b[0m \u001b[0m_getitem_column\u001b[0m\u001b[0;34m(\u001b[0m\u001b[0mself\u001b[0m\u001b[0;34m,\u001b[0m \u001b[0mkey\u001b[0m\u001b[0;34m)\u001b[0m\u001b[0;34m:\u001b[0m\u001b[0;34m\u001b[0m\u001b[0m\n",
      "\u001b[0;32m~/anaconda3/lib/python3.6/site-packages/pandas/core/frame.py\u001b[0m in \u001b[0;36m_getitem_column\u001b[0;34m(self, key)\u001b[0m\n\u001b[1;32m   1969\u001b[0m         \u001b[0;31m# get column\u001b[0m\u001b[0;34m\u001b[0m\u001b[0;34m\u001b[0m\u001b[0m\n\u001b[1;32m   1970\u001b[0m         \u001b[0;32mif\u001b[0m \u001b[0mself\u001b[0m\u001b[0;34m.\u001b[0m\u001b[0mcolumns\u001b[0m\u001b[0;34m.\u001b[0m\u001b[0mis_unique\u001b[0m\u001b[0;34m:\u001b[0m\u001b[0;34m\u001b[0m\u001b[0m\n\u001b[0;32m-> 1971\u001b[0;31m             \u001b[0;32mreturn\u001b[0m \u001b[0mself\u001b[0m\u001b[0;34m.\u001b[0m\u001b[0m_get_item_cache\u001b[0m\u001b[0;34m(\u001b[0m\u001b[0mkey\u001b[0m\u001b[0;34m)\u001b[0m\u001b[0;34m\u001b[0m\u001b[0m\n\u001b[0m\u001b[1;32m   1972\u001b[0m \u001b[0;34m\u001b[0m\u001b[0m\n\u001b[1;32m   1973\u001b[0m         \u001b[0;31m# duplicate columns & possible reduce dimensionality\u001b[0m\u001b[0;34m\u001b[0m\u001b[0;34m\u001b[0m\u001b[0m\n",
      "\u001b[0;32m~/anaconda3/lib/python3.6/site-packages/pandas/core/generic.py\u001b[0m in \u001b[0;36m_get_item_cache\u001b[0;34m(self, item)\u001b[0m\n\u001b[1;32m   1643\u001b[0m         \u001b[0mres\u001b[0m \u001b[0;34m=\u001b[0m \u001b[0mcache\u001b[0m\u001b[0;34m.\u001b[0m\u001b[0mget\u001b[0m\u001b[0;34m(\u001b[0m\u001b[0mitem\u001b[0m\u001b[0;34m)\u001b[0m\u001b[0;34m\u001b[0m\u001b[0m\n\u001b[1;32m   1644\u001b[0m         \u001b[0;32mif\u001b[0m \u001b[0mres\u001b[0m \u001b[0;32mis\u001b[0m \u001b[0;32mNone\u001b[0m\u001b[0;34m:\u001b[0m\u001b[0;34m\u001b[0m\u001b[0m\n\u001b[0;32m-> 1645\u001b[0;31m             \u001b[0mvalues\u001b[0m \u001b[0;34m=\u001b[0m \u001b[0mself\u001b[0m\u001b[0;34m.\u001b[0m\u001b[0m_data\u001b[0m\u001b[0;34m.\u001b[0m\u001b[0mget\u001b[0m\u001b[0;34m(\u001b[0m\u001b[0mitem\u001b[0m\u001b[0;34m)\u001b[0m\u001b[0;34m\u001b[0m\u001b[0m\n\u001b[0m\u001b[1;32m   1646\u001b[0m             \u001b[0mres\u001b[0m \u001b[0;34m=\u001b[0m \u001b[0mself\u001b[0m\u001b[0;34m.\u001b[0m\u001b[0m_box_item_values\u001b[0m\u001b[0;34m(\u001b[0m\u001b[0mitem\u001b[0m\u001b[0;34m,\u001b[0m \u001b[0mvalues\u001b[0m\u001b[0;34m)\u001b[0m\u001b[0;34m\u001b[0m\u001b[0m\n\u001b[1;32m   1647\u001b[0m             \u001b[0mcache\u001b[0m\u001b[0;34m[\u001b[0m\u001b[0mitem\u001b[0m\u001b[0;34m]\u001b[0m \u001b[0;34m=\u001b[0m \u001b[0mres\u001b[0m\u001b[0;34m\u001b[0m\u001b[0m\n",
      "\u001b[0;32m~/anaconda3/lib/python3.6/site-packages/pandas/core/internals.py\u001b[0m in \u001b[0;36mget\u001b[0;34m(self, item, fastpath)\u001b[0m\n\u001b[1;32m   3588\u001b[0m \u001b[0;34m\u001b[0m\u001b[0m\n\u001b[1;32m   3589\u001b[0m             \u001b[0;32mif\u001b[0m \u001b[0;32mnot\u001b[0m \u001b[0misnull\u001b[0m\u001b[0;34m(\u001b[0m\u001b[0mitem\u001b[0m\u001b[0;34m)\u001b[0m\u001b[0;34m:\u001b[0m\u001b[0;34m\u001b[0m\u001b[0m\n\u001b[0;32m-> 3590\u001b[0;31m                 \u001b[0mloc\u001b[0m \u001b[0;34m=\u001b[0m \u001b[0mself\u001b[0m\u001b[0;34m.\u001b[0m\u001b[0mitems\u001b[0m\u001b[0;34m.\u001b[0m\u001b[0mget_loc\u001b[0m\u001b[0;34m(\u001b[0m\u001b[0mitem\u001b[0m\u001b[0;34m)\u001b[0m\u001b[0;34m\u001b[0m\u001b[0m\n\u001b[0m\u001b[1;32m   3591\u001b[0m             \u001b[0;32melse\u001b[0m\u001b[0;34m:\u001b[0m\u001b[0;34m\u001b[0m\u001b[0m\n\u001b[1;32m   3592\u001b[0m                 \u001b[0mindexer\u001b[0m \u001b[0;34m=\u001b[0m \u001b[0mnp\u001b[0m\u001b[0;34m.\u001b[0m\u001b[0marange\u001b[0m\u001b[0;34m(\u001b[0m\u001b[0mlen\u001b[0m\u001b[0;34m(\u001b[0m\u001b[0mself\u001b[0m\u001b[0;34m.\u001b[0m\u001b[0mitems\u001b[0m\u001b[0;34m)\u001b[0m\u001b[0;34m)\u001b[0m\u001b[0;34m[\u001b[0m\u001b[0misnull\u001b[0m\u001b[0;34m(\u001b[0m\u001b[0mself\u001b[0m\u001b[0;34m.\u001b[0m\u001b[0mitems\u001b[0m\u001b[0;34m)\u001b[0m\u001b[0;34m]\u001b[0m\u001b[0;34m\u001b[0m\u001b[0m\n",
      "\u001b[0;32m~/anaconda3/lib/python3.6/site-packages/pandas/core/indexes/base.py\u001b[0m in \u001b[0;36mget_loc\u001b[0;34m(self, key, method, tolerance)\u001b[0m\n\u001b[1;32m   2442\u001b[0m                 \u001b[0;32mreturn\u001b[0m \u001b[0mself\u001b[0m\u001b[0;34m.\u001b[0m\u001b[0m_engine\u001b[0m\u001b[0;34m.\u001b[0m\u001b[0mget_loc\u001b[0m\u001b[0;34m(\u001b[0m\u001b[0mkey\u001b[0m\u001b[0;34m)\u001b[0m\u001b[0;34m\u001b[0m\u001b[0m\n\u001b[1;32m   2443\u001b[0m             \u001b[0;32mexcept\u001b[0m \u001b[0mKeyError\u001b[0m\u001b[0;34m:\u001b[0m\u001b[0;34m\u001b[0m\u001b[0m\n\u001b[0;32m-> 2444\u001b[0;31m                 \u001b[0;32mreturn\u001b[0m \u001b[0mself\u001b[0m\u001b[0;34m.\u001b[0m\u001b[0m_engine\u001b[0m\u001b[0;34m.\u001b[0m\u001b[0mget_loc\u001b[0m\u001b[0;34m(\u001b[0m\u001b[0mself\u001b[0m\u001b[0;34m.\u001b[0m\u001b[0m_maybe_cast_indexer\u001b[0m\u001b[0;34m(\u001b[0m\u001b[0mkey\u001b[0m\u001b[0;34m)\u001b[0m\u001b[0;34m)\u001b[0m\u001b[0;34m\u001b[0m\u001b[0m\n\u001b[0m\u001b[1;32m   2445\u001b[0m \u001b[0;34m\u001b[0m\u001b[0m\n\u001b[1;32m   2446\u001b[0m         \u001b[0mindexer\u001b[0m \u001b[0;34m=\u001b[0m \u001b[0mself\u001b[0m\u001b[0;34m.\u001b[0m\u001b[0mget_indexer\u001b[0m\u001b[0;34m(\u001b[0m\u001b[0;34m[\u001b[0m\u001b[0mkey\u001b[0m\u001b[0;34m]\u001b[0m\u001b[0;34m,\u001b[0m \u001b[0mmethod\u001b[0m\u001b[0;34m=\u001b[0m\u001b[0mmethod\u001b[0m\u001b[0;34m,\u001b[0m \u001b[0mtolerance\u001b[0m\u001b[0;34m=\u001b[0m\u001b[0mtolerance\u001b[0m\u001b[0;34m)\u001b[0m\u001b[0;34m\u001b[0m\u001b[0m\n",
      "\u001b[0;32mpandas/_libs/index.pyx\u001b[0m in \u001b[0;36mpandas._libs.index.IndexEngine.get_loc\u001b[0;34m()\u001b[0m\n",
      "\u001b[0;32mpandas/_libs/index.pyx\u001b[0m in \u001b[0;36mpandas._libs.index.IndexEngine.get_loc\u001b[0;34m()\u001b[0m\n",
      "\u001b[0;32mpandas/_libs/hashtable_class_helper.pxi\u001b[0m in \u001b[0;36mpandas._libs.hashtable.PyObjectHashTable.get_item\u001b[0;34m()\u001b[0m\n",
      "\u001b[0;32mpandas/_libs/hashtable_class_helper.pxi\u001b[0m in \u001b[0;36mpandas._libs.hashtable.PyObjectHashTable.get_item\u001b[0;34m()\u001b[0m\n",
      "\u001b[0;31mKeyError\u001b[0m: 0"
     ]
    }
   ],
   "source": [
    "## Se extrae el primer identificador de la lista de proteínas\n",
    "first_entry=proteome_list[0].iloc[0]\n",
    "\n",
    "## Con el identificador de la proteína obtenemos el \"organism\" y el \"id-organism\" desde Uniprot\n",
    "organism=requests.get(\"https://www.uniprot.org/uniprot/?query=\"+first_entry+\"&sort=score&columns=organism&format=tab&limit=1\").content.decode()\n",
    "organismo=DataFrame(re.findall('[A-Z].*',organism))[0].iloc[1]\n",
    "\n",
    "## id-organism (este id nos sirve para descargar el archivo GAF)\n",
    "id_organism = requests.get(\"https://www.uniprot.org/uniprot/?query=\"+first_entry+\"&sort=score&columns=organism-id,organism&format=tab&limit=1\").content.decode()\n",
    "id_organism=DataFrame(re.findall('[0-9]{1,30}',id_organism))[0].iloc[0]\n",
    "\n",
    "print('\\n',organismo,'\\n')\n",
    "print(id_organism,'\\n')"
   ]
  },
  {
   "cell_type": "markdown",
   "metadata": {},
   "source": [
    "### Han modificado la URL entonces por el momento este comando no corre, ejecutar el siguiente"
   ]
  },
  {
   "cell_type": "code",
   "execution_count": null,
   "metadata": {
    "scrolled": true
   },
   "outputs": [],
   "source": [
    "## Descarga del archivo con anotaciones (GAF)\n",
    "\n",
    "## Registra el total de organismos en la base de datos\n",
    "goa_proteomes = urllib.request.urlretrieve('https://www.ebi.ac.uk/inc/drupal/goa/proteomes_release.html', './data/goa_proteomes')\n",
    "\n",
    "## Conversión html a tsv\n",
    "out1 = Popen('sed \"s/\\t//g; s/<[^>]*>/#/g; s/#\\{1,7\\}/#/g; s/^[#]//g; 1,3d; s/#/\\t/g\" ./data/goa_proteomes | cut -f1-6 > ./data/salida',\n",
    "                shell=True, stdin=PIPE, stdout=PIPE, stderr=STDOUT, close_fds=True).stdout.read()\n",
    "\n",
    "## Encuentra el id-\"organism\" y más información como el directorio para descarga\n",
    "goa_id_organism = Popen('grep '+'^'+id_organism+' ./data/salida | cut -f3',\n",
    "                shell=True, stdin=PIPE, stdout=PIPE, stderr=STDOUT, close_fds=True).stdout.read().decode()\n",
    "goa_id_organism=re.sub(\"\\n\",'',goa_id_organism)\n",
    "##\n",
    "## Control de la descarga del archivo GAF desde Uniprot-GOA\n",
    "if goa_id_organism == '':\n",
    "    print('\\n!!!!!!! ID-Organism not found in GOA-Uniprot (Complete Annotation) !!!!!!!\\n')\n",
    "    if os.path.exists(\"./data/goa_proteomes\"): os.remove(\"./data/goa_proteomes\")\n",
    "    if os.path.exists(\"./data/salida\"): os.remove(\"./data/salida\")\n",
    "else:\n",
    "    ## Descarga del archivo GAF desde Uniprot-GOA\n",
    "    out2 =urllib.request.urlretrieve(\"ftp://ftp.ebi.ac.uk/pub/databases/GO/goa/proteomes/20180622/\"+goa_id_organism+'.gz', './data/'+goa_id_organism+'.gz')\n",
    "    out3 = Popen(\"gzip -d ./data/\"+goa_id_organism+\".gz\",\n",
    "                shell=True, stdin=PIPE, stdout=PIPE, stderr=STDOUT, close_fds=True).stdout.read()\n",
    "    ## removemos filas que empiezan con el caracter \"!\"\n",
    "    out3 = Popen(\"sed -i 's/^!.*//g;/^$/d' ./data/\"+goa_id_organism,\n",
    "                shell=True, stdin=PIPE, stdout=PIPE, stderr=STDOUT, close_fds=True).stdout.read()\n",
    "    if os.path.exists(\"./data/goa_proteomes\"): os.remove(\"./data/goa_proteomes\")\n",
    "    if os.path.exists(\"./data/salida\"): os.remove(\"./data/salida\")"
   ]
  },
  {
   "cell_type": "code",
   "execution_count": 85,
   "metadata": {},
   "outputs": [
    {
     "name": "stdout",
     "output_type": "stream",
     "text": [
      "--2018-07-20 11:32:47--  ftp://ftp.ebi.ac.uk/pub/databases/GO/goa/proteomes/20180622/71242.S_cerevisiae_ATCC_204508.goa.gz\n",
      "           => “./data/71242.S_cerevisiae_ATCC_204508.goa.gz”\n",
      "Resolviendo ftp.ebi.ac.uk (ftp.ebi.ac.uk)... 193.62.192.4\n",
      "Conectando con ftp.ebi.ac.uk (ftp.ebi.ac.uk)[193.62.192.4]:21... conectado.\n",
      "Accediendo como anonymous... ¡Sesión iniciada!\n",
      "==> SYST ... hecho.    ==> PWD ... hecho.\n",
      "==> TYPE I ... hecho.  ==> CWD (1) /pub/databases/GO/goa/proteomes/20180622 ... hecho.\n",
      "==> SIZE 71242.S_cerevisiae_ATCC_204508.goa.gz ... 1584080\n",
      "==> PASV ... hecho.    ==> RETR 71242.S_cerevisiae_ATCC_204508.goa.gz ... hecho.\n",
      "Longitud: 1584080 (1.5M) (no autenticado)\n",
      "\n",
      "71242.S_cerevisiae_ 100%[===================>]   1.51M   377KB/s    in 4.1s    \n",
      "\n",
      "2018-07-20 11:32:54 (377 KB/s) - “./data/71242.S_cerevisiae_ATCC_204508.goa.gz” guardado [1584080]\n",
      "\n"
     ]
    }
   ],
   "source": [
    "## plan B si el anterior no fuunciona (que no tenga contenido la URL)\n",
    "#wget ftp://ftp.geneontology.org/go/ontology/go.obo -O data/go.obo\n",
    "!wget \"ftp://ftp.ebi.ac.uk/pub/databases/GO/goa/proteomes/20180622/71242.S_cerevisiae_ATCC_204508.goa.gz\" -O ./data/71242.S_cerevisiae_ATCC_204508.goa.gz\n",
    "!gzip -d ./data/*.gz"
   ]
  },
  {
   "cell_type": "markdown",
   "metadata": {},
   "source": [
    "## 4.- Creando un GO slim usando Map2Slim: una opcion de OWLTools\n",
    ">### Map2slim usa un fichero GO slim y un fichero .GAF, el script mapea los terminos del .GAF (anotacion completa) en los terminos del  GO slim creando una version corta de la ontologia."
   ]
  },
  {
   "cell_type": "markdown",
   "metadata": {},
   "source": [
    "### A partir del fichero GAF (gene association files) creamos el GO slim buscando los padres de cada término"
   ]
  },
  {
   "cell_type": "code",
   "execution_count": 86,
   "metadata": {},
   "outputs": [],
   "source": [
    "## ejecutamos owltools\n",
    "goslim = Popen(\"./programs/owltools ./data/go.obo --gaf ./data/71242.S_cerevisiae_ATCC_204508.goa --map2slim --idfile ./data/goslim_yeast.txt --write-gaf ./data/my.gaf\", shell=True,\n",
    "                stdin=PIPE, stdout=PIPE, stderr=STDOUT, close_fds=True).stdout.read()"
   ]
  },
  {
   "cell_type": "code",
   "execution_count": 87,
   "metadata": {
    "scrolled": true
   },
   "outputs": [
    {
     "name": "stdout",
     "output_type": "stream",
     "text": [
      "Entry    38254\n",
      "GO       38254\n",
      "dtype: int64 \n",
      "\n",
      "         Entry          GO\n",
      "2   A0A0B7P3V8  GO:0003677\n",
      "3   A0A0B7P3V8  GO:0003723\n",
      "4   A0A0B7P3V8  GO:0016779\n",
      "8   A0A0B7P3V8  GO:0008233\n",
      "9   A0A0B7P3V8  GO:0004518\n",
      "12  A0A0B7P3V8  GO:0043167\n",
      "13  A0A0B7P3V8  GO:0005634\n",
      "15  A0A0B7P3V8  GO:0005737\n",
      "17  A0A0B7P3V8  GO:0006310\n"
     ]
    }
   ],
   "source": [
    "## filtramos filas sin ! (caracteristico de ficheros GAF) y extraemos las columnas 2 y 5 con qacc y GO\n",
    "output7 = Popen(\"grep -v '!' ./data/my.gaf | cut -f2,5 > ./data/slim\", shell=True,\n",
    "                stdin=PIPE, stdout=PIPE, stderr=STDOUT, close_fds=True).stdout.read()\n",
    "## abrimos el fichero slim y lo asignamos\n",
    "my_gaf_goslim=pd.read_table('./data/slim', names=['Entry','GO']).drop_duplicates()\n",
    "print(my_gaf_goslim.count(),'\\n')\n",
    "print(my_gaf_goslim[1:10])"
   ]
  },
  {
   "cell_type": "code",
   "execution_count": 88,
   "metadata": {},
   "outputs": [
    {
     "data": {
      "text/html": [
       "<div>\n",
       "<style>\n",
       "    .dataframe thead tr:only-child th {\n",
       "        text-align: right;\n",
       "    }\n",
       "\n",
       "    .dataframe thead th {\n",
       "        text-align: left;\n",
       "    }\n",
       "\n",
       "    .dataframe tbody tr th {\n",
       "        vertical-align: top;\n",
       "    }\n",
       "</style>\n",
       "<table border=\"1\" class=\"dataframe\">\n",
       "  <thead>\n",
       "    <tr style=\"text-align: right;\">\n",
       "      <th></th>\n",
       "      <th>GO</th>\n",
       "      <th>Term</th>\n",
       "      <th>Aspect</th>\n",
       "    </tr>\n",
       "  </thead>\n",
       "  <tbody>\n",
       "    <tr>\n",
       "      <th>0</th>\n",
       "      <td>GO:0000054</td>\n",
       "      <td>ribosomal subunit export from nucleus</td>\n",
       "      <td>P</td>\n",
       "    </tr>\n",
       "    <tr>\n",
       "      <th>1</th>\n",
       "      <td>GO:0000278</td>\n",
       "      <td>mitotic cell cycle</td>\n",
       "      <td>P</td>\n",
       "    </tr>\n",
       "    <tr>\n",
       "      <th>2</th>\n",
       "      <td>GO:0000746</td>\n",
       "      <td>conjugation</td>\n",
       "      <td>P</td>\n",
       "    </tr>\n",
       "    <tr>\n",
       "      <th>3</th>\n",
       "      <td>GO:0000902</td>\n",
       "      <td>cell morphogenesis</td>\n",
       "      <td>P</td>\n",
       "    </tr>\n",
       "    <tr>\n",
       "      <th>4</th>\n",
       "      <td>GO:0000910</td>\n",
       "      <td>cytokinesis</td>\n",
       "      <td>P</td>\n",
       "    </tr>\n",
       "  </tbody>\n",
       "</table>\n",
       "</div>"
      ],
      "text/plain": [
       "           GO                                   Term Aspect\n",
       "0  GO:0000054  ribosomal subunit export from nucleus      P\n",
       "1  GO:0000278                     mitotic cell cycle      P\n",
       "2  GO:0000746                            conjugation      P\n",
       "3  GO:0000902                     cell morphogenesis      P\n",
       "4  GO:0000910                            cytokinesis      P"
      ]
     },
     "execution_count": 88,
     "metadata": {},
     "output_type": "execute_result"
    }
   ],
   "source": [
    "## abrimos el GO slim especifico (yeast en este caso)y lo asignamos\n",
    "goslim_specific=pd.read_table('./data/goslim_yeast.txt',names=['GO','Term','Aspect'])\n",
    "goslim_specific.head()"
   ]
  },
  {
   "cell_type": "markdown",
   "metadata": {},
   "source": [
    "### Ahora le asignaremos el GO a cada proteina del proteoma en estudio"
   ]
  },
  {
   "cell_type": "code",
   "execution_count": 89,
   "metadata": {
    "scrolled": true
   },
   "outputs": [
    {
     "data": {
      "text/html": [
       "<div>\n",
       "<style>\n",
       "    .dataframe thead tr:only-child th {\n",
       "        text-align: right;\n",
       "    }\n",
       "\n",
       "    .dataframe thead th {\n",
       "        text-align: left;\n",
       "    }\n",
       "\n",
       "    .dataframe tbody tr th {\n",
       "        vertical-align: top;\n",
       "    }\n",
       "</style>\n",
       "<table border=\"1\" class=\"dataframe\">\n",
       "  <thead>\n",
       "    <tr style=\"text-align: right;\">\n",
       "      <th></th>\n",
       "      <th>Entry</th>\n",
       "      <th>GO</th>\n",
       "    </tr>\n",
       "  </thead>\n",
       "  <tbody>\n",
       "    <tr>\n",
       "      <th>0</th>\n",
       "      <td>O13297</td>\n",
       "      <td>GO:0016791</td>\n",
       "    </tr>\n",
       "    <tr>\n",
       "      <th>1</th>\n",
       "      <td>O13297</td>\n",
       "      <td>GO:0005634</td>\n",
       "    </tr>\n",
       "    <tr>\n",
       "      <th>2</th>\n",
       "      <td>O13297</td>\n",
       "      <td>GO:0006397</td>\n",
       "    </tr>\n",
       "    <tr>\n",
       "      <th>3</th>\n",
       "      <td>O13297</td>\n",
       "      <td>GO:0016787</td>\n",
       "    </tr>\n",
       "    <tr>\n",
       "      <th>4</th>\n",
       "      <td>O13297</td>\n",
       "      <td>GO:0006354</td>\n",
       "    </tr>\n",
       "  </tbody>\n",
       "</table>\n",
       "</div>"
      ],
      "text/plain": [
       "    Entry          GO\n",
       "0  O13297  GO:0016791\n",
       "1  O13297  GO:0005634\n",
       "2  O13297  GO:0006397\n",
       "3  O13297  GO:0016787\n",
       "4  O13297  GO:0006354"
      ]
     },
     "execution_count": 89,
     "metadata": {},
     "output_type": "execute_result"
    }
   ],
   "source": [
    "proteome_list=pd.read_csv('proteome_list_sach.txt',names=['Entry'])\n",
    "proteome_go=pd.merge(proteome_list,my_gaf_goslim,on=\"Entry\",how='left')\n",
    "proteome_go.head()"
   ]
  },
  {
   "cell_type": "code",
   "execution_count": 90,
   "metadata": {},
   "outputs": [
    {
     "data": {
      "text/plain": [
       "1500"
      ]
     },
     "execution_count": 90,
     "metadata": {},
     "output_type": "execute_result"
    }
   ],
   "source": [
    "proteome_go['Entry'].drop_duplicates().count()"
   ]
  },
  {
   "cell_type": "code",
   "execution_count": 91,
   "metadata": {},
   "outputs": [
    {
     "data": {
      "text/html": [
       "<div>\n",
       "<style>\n",
       "    .dataframe thead tr:only-child th {\n",
       "        text-align: right;\n",
       "    }\n",
       "\n",
       "    .dataframe thead th {\n",
       "        text-align: left;\n",
       "    }\n",
       "\n",
       "    .dataframe tbody tr th {\n",
       "        vertical-align: top;\n",
       "    }\n",
       "</style>\n",
       "<table border=\"1\" class=\"dataframe\">\n",
       "  <thead>\n",
       "    <tr style=\"text-align: right;\">\n",
       "      <th></th>\n",
       "      <th>Entry</th>\n",
       "      <th>GO</th>\n",
       "      <th>Term</th>\n",
       "      <th>Aspect</th>\n",
       "    </tr>\n",
       "  </thead>\n",
       "  <tbody>\n",
       "    <tr>\n",
       "      <th>0</th>\n",
       "      <td>O13297</td>\n",
       "      <td>GO:0016791</td>\n",
       "      <td>phosphatase activity</td>\n",
       "      <td>F</td>\n",
       "    </tr>\n",
       "    <tr>\n",
       "      <th>1</th>\n",
       "      <td>O13297</td>\n",
       "      <td>GO:0005634</td>\n",
       "      <td>nucleus</td>\n",
       "      <td>C</td>\n",
       "    </tr>\n",
       "    <tr>\n",
       "      <th>2</th>\n",
       "      <td>O13297</td>\n",
       "      <td>GO:0006397</td>\n",
       "      <td>mRNA processing</td>\n",
       "      <td>P</td>\n",
       "    </tr>\n",
       "    <tr>\n",
       "      <th>3</th>\n",
       "      <td>O13297</td>\n",
       "      <td>GO:0016787</td>\n",
       "      <td>hydrolase activity</td>\n",
       "      <td>F</td>\n",
       "    </tr>\n",
       "    <tr>\n",
       "      <th>4</th>\n",
       "      <td>O13297</td>\n",
       "      <td>GO:0006354</td>\n",
       "      <td>DNA-templated transcription, elongation</td>\n",
       "      <td>P</td>\n",
       "    </tr>\n",
       "  </tbody>\n",
       "</table>\n",
       "</div>"
      ],
      "text/plain": [
       "    Entry          GO                                     Term Aspect\n",
       "0  O13297  GO:0016791                     phosphatase activity      F\n",
       "1  O13297  GO:0005634                                  nucleus      C\n",
       "2  O13297  GO:0006397                          mRNA processing      P\n",
       "3  O13297  GO:0016787                       hydrolase activity      F\n",
       "4  O13297  GO:0006354  DNA-templated transcription, elongation      P"
      ]
     },
     "execution_count": 91,
     "metadata": {},
     "output_type": "execute_result"
    }
   ],
   "source": [
    "## asignacion de terminos y aspecto a cada proteina del proteoma en estudio\n",
    "proteome_go_term=pd.merge(proteome_go,goslim_specific,on=\"GO\",how='left').drop_duplicates()#.fillna('N')\n",
    "proteome_go_term.head()"
   ]
  },
  {
   "cell_type": "code",
   "execution_count": 92,
   "metadata": {},
   "outputs": [
    {
     "data": {
      "text/html": [
       "<div>\n",
       "<style>\n",
       "    .dataframe thead tr:only-child th {\n",
       "        text-align: right;\n",
       "    }\n",
       "\n",
       "    .dataframe thead th {\n",
       "        text-align: left;\n",
       "    }\n",
       "\n",
       "    .dataframe tbody tr th {\n",
       "        vertical-align: top;\n",
       "    }\n",
       "</style>\n",
       "<table border=\"1\" class=\"dataframe\">\n",
       "  <thead>\n",
       "    <tr style=\"text-align: right;\">\n",
       "      <th></th>\n",
       "      <th>Entry</th>\n",
       "      <th>GO</th>\n",
       "      <th>Term</th>\n",
       "      <th>Aspect</th>\n",
       "    </tr>\n",
       "  </thead>\n",
       "  <tbody>\n",
       "    <tr>\n",
       "      <th>count</th>\n",
       "      <td>11916</td>\n",
       "      <td>11904</td>\n",
       "      <td>11904</td>\n",
       "      <td>11904</td>\n",
       "    </tr>\n",
       "    <tr>\n",
       "      <th>unique</th>\n",
       "      <td>1500</td>\n",
       "      <td>155</td>\n",
       "      <td>155</td>\n",
       "      <td>3</td>\n",
       "    </tr>\n",
       "    <tr>\n",
       "      <th>top</th>\n",
       "      <td>P39940</td>\n",
       "      <td>GO:0005737</td>\n",
       "      <td>cytoplasm</td>\n",
       "      <td>P</td>\n",
       "    </tr>\n",
       "    <tr>\n",
       "      <th>freq</th>\n",
       "      <td>41</td>\n",
       "      <td>788</td>\n",
       "      <td>788</td>\n",
       "      <td>4937</td>\n",
       "    </tr>\n",
       "  </tbody>\n",
       "</table>\n",
       "</div>"
      ],
      "text/plain": [
       "         Entry          GO       Term Aspect\n",
       "count    11916       11904      11904  11904\n",
       "unique    1500         155        155      3\n",
       "top     P39940  GO:0005737  cytoplasm      P\n",
       "freq        41         788        788   4937"
      ]
     },
     "execution_count": 92,
     "metadata": {},
     "output_type": "execute_result"
    }
   ],
   "source": [
    "## analisis descriptivo\n",
    "proteome_go_term.describe(include='all')"
   ]
  },
  {
   "cell_type": "markdown",
   "metadata": {},
   "source": [
    "# Resultados\n",
    "### Ahora extraemos las proteinas y sus categorias<br/>"
   ]
  },
  {
   "cell_type": "markdown",
   "metadata": {},
   "source": [
    "## Funcion molecular"
   ]
  },
  {
   "cell_type": "code",
   "execution_count": 93,
   "metadata": {
    "scrolled": true
   },
   "outputs": [
    {
     "data": {
      "text/html": [
       "<div>\n",
       "<style>\n",
       "    .dataframe thead tr:only-child th {\n",
       "        text-align: right;\n",
       "    }\n",
       "\n",
       "    .dataframe thead th {\n",
       "        text-align: left;\n",
       "    }\n",
       "\n",
       "    .dataframe tbody tr th {\n",
       "        vertical-align: top;\n",
       "    }\n",
       "</style>\n",
       "<table border=\"1\" class=\"dataframe\">\n",
       "  <thead>\n",
       "    <tr style=\"text-align: right;\">\n",
       "      <th></th>\n",
       "      <th>GO</th>\n",
       "      <th>Molecular Function</th>\n",
       "      <th>Value</th>\n",
       "    </tr>\n",
       "  </thead>\n",
       "  <tbody>\n",
       "    <tr>\n",
       "      <th>0</th>\n",
       "      <td>GO:0043167</td>\n",
       "      <td>ion binding</td>\n",
       "      <td>642</td>\n",
       "    </tr>\n",
       "    <tr>\n",
       "      <th>1</th>\n",
       "      <td>GO:0016740</td>\n",
       "      <td>transferase activity</td>\n",
       "      <td>328</td>\n",
       "    </tr>\n",
       "    <tr>\n",
       "      <th>2</th>\n",
       "      <td>GO:0016787</td>\n",
       "      <td>hydrolase activity</td>\n",
       "      <td>243</td>\n",
       "    </tr>\n",
       "    <tr>\n",
       "      <th>3</th>\n",
       "      <td>GO:0003677</td>\n",
       "      <td>DNA binding</td>\n",
       "      <td>197</td>\n",
       "    </tr>\n",
       "    <tr>\n",
       "      <th>4</th>\n",
       "      <td>GO:0016491</td>\n",
       "      <td>oxidoreductase activity</td>\n",
       "      <td>171</td>\n",
       "    </tr>\n",
       "  </tbody>\n",
       "</table>\n",
       "</div>"
      ],
      "text/plain": [
       "           GO       Molecular Function  Value\n",
       "0  GO:0043167              ion binding    642\n",
       "1  GO:0016740     transferase activity    328\n",
       "2  GO:0016787       hydrolase activity    243\n",
       "3  GO:0003677              DNA binding    197\n",
       "4  GO:0016491  oxidoreductase activity    171"
      ]
     },
     "execution_count": 93,
     "metadata": {},
     "output_type": "execute_result"
    }
   ],
   "source": [
    "## Molecular Function\n",
    "func=proteome_go_term[['GO','Term','Aspect']].groupby(['Aspect']).get_group('F')\n",
    "function=func.groupby(['GO','Term']).count().reset_index().rename(columns={\"Term\": \"Molecular Function\",\"Aspect\": \"Value\"}).sort_values(by ='Value',ascending=False).reset_index(drop=True)\n",
    "function.to_csv('./results/Molecular_Function.csv',index=None)\n",
    "function.head()"
   ]
  },
  {
   "cell_type": "code",
   "execution_count": 95,
   "metadata": {},
   "outputs": [
    {
     "data": {
      "text/html": [
       "<div>\n",
       "<style>\n",
       "    .dataframe thead tr:only-child th {\n",
       "        text-align: right;\n",
       "    }\n",
       "\n",
       "    .dataframe thead th {\n",
       "        text-align: left;\n",
       "    }\n",
       "\n",
       "    .dataframe tbody tr th {\n",
       "        vertical-align: top;\n",
       "    }\n",
       "</style>\n",
       "<table border=\"1\" class=\"dataframe\">\n",
       "  <thead>\n",
       "    <tr style=\"text-align: right;\">\n",
       "      <th>GO</th>\n",
       "      <th>Entry</th>\n",
       "      <th>GO:0000988</th>\n",
       "      <th>GO:0003677</th>\n",
       "      <th>GO:0003682</th>\n",
       "      <th>GO:0003700</th>\n",
       "      <th>GO:0003723</th>\n",
       "      <th>GO:0003729</th>\n",
       "      <th>GO:0003735</th>\n",
       "      <th>GO:0003924</th>\n",
       "      <th>GO:0004386</th>\n",
       "      <th>...</th>\n",
       "      <th>GO:0016887</th>\n",
       "      <th>GO:0019843</th>\n",
       "      <th>GO:0019899</th>\n",
       "      <th>GO:0022857</th>\n",
       "      <th>GO:0030234</th>\n",
       "      <th>GO:0030674</th>\n",
       "      <th>GO:0032182</th>\n",
       "      <th>GO:0042393</th>\n",
       "      <th>GO:0043167</th>\n",
       "      <th>GO:0051082</th>\n",
       "    </tr>\n",
       "  </thead>\n",
       "  <tbody>\n",
       "    <tr>\n",
       "      <th>0</th>\n",
       "      <td>O13297</td>\n",
       "      <td>0</td>\n",
       "      <td>0</td>\n",
       "      <td>0</td>\n",
       "      <td>0</td>\n",
       "      <td>0</td>\n",
       "      <td>0</td>\n",
       "      <td>0</td>\n",
       "      <td>0</td>\n",
       "      <td>0</td>\n",
       "      <td>...</td>\n",
       "      <td>0</td>\n",
       "      <td>0</td>\n",
       "      <td>0</td>\n",
       "      <td>0</td>\n",
       "      <td>0</td>\n",
       "      <td>0</td>\n",
       "      <td>0</td>\n",
       "      <td>0</td>\n",
       "      <td>0</td>\n",
       "      <td>0</td>\n",
       "    </tr>\n",
       "    <tr>\n",
       "      <th>1</th>\n",
       "      <td>O13329</td>\n",
       "      <td>0</td>\n",
       "      <td>1</td>\n",
       "      <td>0</td>\n",
       "      <td>0</td>\n",
       "      <td>0</td>\n",
       "      <td>0</td>\n",
       "      <td>0</td>\n",
       "      <td>0</td>\n",
       "      <td>0</td>\n",
       "      <td>...</td>\n",
       "      <td>0</td>\n",
       "      <td>0</td>\n",
       "      <td>0</td>\n",
       "      <td>0</td>\n",
       "      <td>0</td>\n",
       "      <td>0</td>\n",
       "      <td>0</td>\n",
       "      <td>0</td>\n",
       "      <td>1</td>\n",
       "      <td>0</td>\n",
       "    </tr>\n",
       "    <tr>\n",
       "      <th>2</th>\n",
       "      <td>O13547</td>\n",
       "      <td>0</td>\n",
       "      <td>0</td>\n",
       "      <td>0</td>\n",
       "      <td>0</td>\n",
       "      <td>0</td>\n",
       "      <td>0</td>\n",
       "      <td>0</td>\n",
       "      <td>0</td>\n",
       "      <td>0</td>\n",
       "      <td>...</td>\n",
       "      <td>0</td>\n",
       "      <td>0</td>\n",
       "      <td>0</td>\n",
       "      <td>0</td>\n",
       "      <td>0</td>\n",
       "      <td>0</td>\n",
       "      <td>0</td>\n",
       "      <td>0</td>\n",
       "      <td>0</td>\n",
       "      <td>0</td>\n",
       "    </tr>\n",
       "    <tr>\n",
       "      <th>3</th>\n",
       "      <td>O13563</td>\n",
       "      <td>0</td>\n",
       "      <td>0</td>\n",
       "      <td>0</td>\n",
       "      <td>0</td>\n",
       "      <td>0</td>\n",
       "      <td>0</td>\n",
       "      <td>0</td>\n",
       "      <td>0</td>\n",
       "      <td>0</td>\n",
       "      <td>...</td>\n",
       "      <td>0</td>\n",
       "      <td>0</td>\n",
       "      <td>1</td>\n",
       "      <td>0</td>\n",
       "      <td>1</td>\n",
       "      <td>0</td>\n",
       "      <td>1</td>\n",
       "      <td>0</td>\n",
       "      <td>0</td>\n",
       "      <td>0</td>\n",
       "    </tr>\n",
       "    <tr>\n",
       "      <th>4</th>\n",
       "      <td>O14464</td>\n",
       "      <td>0</td>\n",
       "      <td>0</td>\n",
       "      <td>0</td>\n",
       "      <td>0</td>\n",
       "      <td>0</td>\n",
       "      <td>0</td>\n",
       "      <td>1</td>\n",
       "      <td>0</td>\n",
       "      <td>0</td>\n",
       "      <td>...</td>\n",
       "      <td>0</td>\n",
       "      <td>0</td>\n",
       "      <td>0</td>\n",
       "      <td>0</td>\n",
       "      <td>0</td>\n",
       "      <td>0</td>\n",
       "      <td>0</td>\n",
       "      <td>0</td>\n",
       "      <td>0</td>\n",
       "      <td>0</td>\n",
       "    </tr>\n",
       "  </tbody>\n",
       "</table>\n",
       "<p>5 rows × 41 columns</p>\n",
       "</div>"
      ],
      "text/plain": [
       "GO   Entry GO:0000988 GO:0003677 GO:0003682 GO:0003700 GO:0003723 GO:0003729  \\\n",
       "0   O13297          0          0          0          0          0          0   \n",
       "1   O13329          0          1          0          0          0          0   \n",
       "2   O13547          0          0          0          0          0          0   \n",
       "3   O13563          0          0          0          0          0          0   \n",
       "4   O14464          0          0          0          0          0          0   \n",
       "\n",
       "GO GO:0003735 GO:0003924 GO:0004386    ...     GO:0016887 GO:0019843  \\\n",
       "0           0          0          0    ...              0          0   \n",
       "1           0          0          0    ...              0          0   \n",
       "2           0          0          0    ...              0          0   \n",
       "3           0          0          0    ...              0          0   \n",
       "4           1          0          0    ...              0          0   \n",
       "\n",
       "GO GO:0019899 GO:0022857 GO:0030234 GO:0030674 GO:0032182 GO:0042393  \\\n",
       "0           0          0          0          0          0          0   \n",
       "1           0          0          0          0          0          0   \n",
       "2           0          0          0          0          0          0   \n",
       "3           1          0          1          0          1          0   \n",
       "4           0          0          0          0          0          0   \n",
       "\n",
       "GO GO:0043167 GO:0051082  \n",
       "0           0          0  \n",
       "1           1          0  \n",
       "2           0          0  \n",
       "3           0          0  \n",
       "4           0          0  \n",
       "\n",
       "[5 rows x 41 columns]"
      ]
     },
     "execution_count": 95,
     "metadata": {},
     "output_type": "execute_result"
    }
   ],
   "source": [
    "## matriz para ver intersecciones entre terminos\n",
    "up_function=proteome_go_term[proteome_go_term.Aspect.str.contains(\"F\")==True]\n",
    "upset_function=up_function.pivot_table(values=\"Term\",index=[\"Entry\"],aggfunc=len,columns=\"GO\").fillna('0').reset_index()\n",
    "upset_function.to_csv('./results/Molecular_Function_matrix.csv',index=None)\n",
    "upset_function.head()"
   ]
  },
  {
   "cell_type": "markdown",
   "metadata": {},
   "source": [
    "## Proceso biologico"
   ]
  },
  {
   "cell_type": "code",
   "execution_count": 96,
   "metadata": {
    "scrolled": true
   },
   "outputs": [
    {
     "data": {
      "text/html": [
       "<div>\n",
       "<style>\n",
       "    .dataframe thead tr:only-child th {\n",
       "        text-align: right;\n",
       "    }\n",
       "\n",
       "    .dataframe thead th {\n",
       "        text-align: left;\n",
       "    }\n",
       "\n",
       "    .dataframe tbody tr th {\n",
       "        vertical-align: top;\n",
       "    }\n",
       "</style>\n",
       "<table border=\"1\" class=\"dataframe\">\n",
       "  <thead>\n",
       "    <tr style=\"text-align: right;\">\n",
       "      <th></th>\n",
       "      <th>GO</th>\n",
       "      <th>Biological Process</th>\n",
       "      <th>Value</th>\n",
       "    </tr>\n",
       "  </thead>\n",
       "  <tbody>\n",
       "    <tr>\n",
       "      <th>0</th>\n",
       "      <td>GO:0042221</td>\n",
       "      <td>response to chemical</td>\n",
       "      <td>197</td>\n",
       "    </tr>\n",
       "    <tr>\n",
       "      <th>1</th>\n",
       "      <td>GO:0055085</td>\n",
       "      <td>transmembrane transport</td>\n",
       "      <td>179</td>\n",
       "    </tr>\n",
       "    <tr>\n",
       "      <th>2</th>\n",
       "      <td>GO:0006366</td>\n",
       "      <td>transcription by RNA polymerase II</td>\n",
       "      <td>160</td>\n",
       "    </tr>\n",
       "    <tr>\n",
       "      <th>3</th>\n",
       "      <td>GO:0023052</td>\n",
       "      <td>signaling</td>\n",
       "      <td>152</td>\n",
       "    </tr>\n",
       "    <tr>\n",
       "      <th>4</th>\n",
       "      <td>GO:0055086</td>\n",
       "      <td>nucleobase-containing small molecule metabolic process</td>\n",
       "      <td>137</td>\n",
       "    </tr>\n",
       "  </tbody>\n",
       "</table>\n",
       "</div>"
      ],
      "text/plain": [
       "           GO                                      Biological Process  Value\n",
       "0  GO:0042221                                    response to chemical    197\n",
       "1  GO:0055085                                 transmembrane transport    179\n",
       "2  GO:0006366                      transcription by RNA polymerase II    160\n",
       "3  GO:0023052                                               signaling    152\n",
       "4  GO:0055086  nucleobase-containing small molecule metabolic process    137"
      ]
     },
     "execution_count": 96,
     "metadata": {},
     "output_type": "execute_result"
    }
   ],
   "source": [
    "## Biological Process\n",
    "pros=proteome_go_term[['GO','Term','Aspect']].groupby(['Aspect']).get_group('P')\n",
    "process=pros.groupby(['GO','Term']).count().reset_index().rename(columns={\"Term\": \"Biological Process\",\"Aspect\": \"Value\"}).sort_values(by ='Value',ascending=False).reset_index(drop=True)\n",
    "process.to_csv('./results/Biological_Process.csv',index=None)\n",
    "process.head()"
   ]
  },
  {
   "cell_type": "code",
   "execution_count": 97,
   "metadata": {},
   "outputs": [
    {
     "data": {
      "text/html": [
       "<div>\n",
       "<style>\n",
       "    .dataframe thead tr:only-child th {\n",
       "        text-align: right;\n",
       "    }\n",
       "\n",
       "    .dataframe thead th {\n",
       "        text-align: left;\n",
       "    }\n",
       "\n",
       "    .dataframe tbody tr th {\n",
       "        vertical-align: top;\n",
       "    }\n",
       "</style>\n",
       "<table border=\"1\" class=\"dataframe\">\n",
       "  <thead>\n",
       "    <tr style=\"text-align: right;\">\n",
       "      <th>GO</th>\n",
       "      <th>Entry</th>\n",
       "      <th>GO:0000054</th>\n",
       "      <th>GO:0000746</th>\n",
       "      <th>GO:0000902</th>\n",
       "      <th>GO:0000910</th>\n",
       "      <th>GO:0001403</th>\n",
       "      <th>GO:0002181</th>\n",
       "      <th>GO:0005975</th>\n",
       "      <th>GO:0006091</th>\n",
       "      <th>GO:0006260</th>\n",
       "      <th>...</th>\n",
       "      <th>GO:0051186</th>\n",
       "      <th>GO:0051603</th>\n",
       "      <th>GO:0051604</th>\n",
       "      <th>GO:0051726</th>\n",
       "      <th>GO:0055085</th>\n",
       "      <th>GO:0055086</th>\n",
       "      <th>GO:0061025</th>\n",
       "      <th>GO:0070647</th>\n",
       "      <th>GO:0070925</th>\n",
       "      <th>GO:0071554</th>\n",
       "    </tr>\n",
       "  </thead>\n",
       "  <tbody>\n",
       "    <tr>\n",
       "      <th>0</th>\n",
       "      <td>O13297</td>\n",
       "      <td>0</td>\n",
       "      <td>0</td>\n",
       "      <td>0</td>\n",
       "      <td>0</td>\n",
       "      <td>0</td>\n",
       "      <td>0</td>\n",
       "      <td>0</td>\n",
       "      <td>0</td>\n",
       "      <td>0</td>\n",
       "      <td>...</td>\n",
       "      <td>0</td>\n",
       "      <td>0</td>\n",
       "      <td>0</td>\n",
       "      <td>0</td>\n",
       "      <td>0</td>\n",
       "      <td>0</td>\n",
       "      <td>0</td>\n",
       "      <td>0</td>\n",
       "      <td>0</td>\n",
       "      <td>0</td>\n",
       "    </tr>\n",
       "    <tr>\n",
       "      <th>1</th>\n",
       "      <td>O13329</td>\n",
       "      <td>0</td>\n",
       "      <td>0</td>\n",
       "      <td>0</td>\n",
       "      <td>0</td>\n",
       "      <td>0</td>\n",
       "      <td>0</td>\n",
       "      <td>0</td>\n",
       "      <td>0</td>\n",
       "      <td>1</td>\n",
       "      <td>...</td>\n",
       "      <td>0</td>\n",
       "      <td>0</td>\n",
       "      <td>0</td>\n",
       "      <td>0</td>\n",
       "      <td>0</td>\n",
       "      <td>0</td>\n",
       "      <td>0</td>\n",
       "      <td>0</td>\n",
       "      <td>0</td>\n",
       "      <td>0</td>\n",
       "    </tr>\n",
       "    <tr>\n",
       "      <th>2</th>\n",
       "      <td>O13525</td>\n",
       "      <td>0</td>\n",
       "      <td>0</td>\n",
       "      <td>0</td>\n",
       "      <td>0</td>\n",
       "      <td>0</td>\n",
       "      <td>0</td>\n",
       "      <td>0</td>\n",
       "      <td>0</td>\n",
       "      <td>0</td>\n",
       "      <td>...</td>\n",
       "      <td>1</td>\n",
       "      <td>0</td>\n",
       "      <td>0</td>\n",
       "      <td>0</td>\n",
       "      <td>0</td>\n",
       "      <td>0</td>\n",
       "      <td>0</td>\n",
       "      <td>0</td>\n",
       "      <td>0</td>\n",
       "      <td>0</td>\n",
       "    </tr>\n",
       "    <tr>\n",
       "      <th>3</th>\n",
       "      <td>O13539</td>\n",
       "      <td>0</td>\n",
       "      <td>0</td>\n",
       "      <td>0</td>\n",
       "      <td>0</td>\n",
       "      <td>0</td>\n",
       "      <td>0</td>\n",
       "      <td>0</td>\n",
       "      <td>0</td>\n",
       "      <td>0</td>\n",
       "      <td>...</td>\n",
       "      <td>0</td>\n",
       "      <td>0</td>\n",
       "      <td>0</td>\n",
       "      <td>0</td>\n",
       "      <td>0</td>\n",
       "      <td>0</td>\n",
       "      <td>0</td>\n",
       "      <td>0</td>\n",
       "      <td>1</td>\n",
       "      <td>0</td>\n",
       "    </tr>\n",
       "    <tr>\n",
       "      <th>4</th>\n",
       "      <td>O13547</td>\n",
       "      <td>0</td>\n",
       "      <td>0</td>\n",
       "      <td>0</td>\n",
       "      <td>0</td>\n",
       "      <td>0</td>\n",
       "      <td>0</td>\n",
       "      <td>0</td>\n",
       "      <td>0</td>\n",
       "      <td>0</td>\n",
       "      <td>...</td>\n",
       "      <td>0</td>\n",
       "      <td>0</td>\n",
       "      <td>0</td>\n",
       "      <td>0</td>\n",
       "      <td>0</td>\n",
       "      <td>0</td>\n",
       "      <td>0</td>\n",
       "      <td>0</td>\n",
       "      <td>0</td>\n",
       "      <td>1</td>\n",
       "    </tr>\n",
       "  </tbody>\n",
       "</table>\n",
       "<p>5 rows × 94 columns</p>\n",
       "</div>"
      ],
      "text/plain": [
       "GO   Entry GO:0000054 GO:0000746 GO:0000902 GO:0000910 GO:0001403 GO:0002181  \\\n",
       "0   O13297          0          0          0          0          0          0   \n",
       "1   O13329          0          0          0          0          0          0   \n",
       "2   O13525          0          0          0          0          0          0   \n",
       "3   O13539          0          0          0          0          0          0   \n",
       "4   O13547          0          0          0          0          0          0   \n",
       "\n",
       "GO GO:0005975 GO:0006091 GO:0006260    ...     GO:0051186 GO:0051603  \\\n",
       "0           0          0          0    ...              0          0   \n",
       "1           0          0          1    ...              0          0   \n",
       "2           0          0          0    ...              1          0   \n",
       "3           0          0          0    ...              0          0   \n",
       "4           0          0          0    ...              0          0   \n",
       "\n",
       "GO GO:0051604 GO:0051726 GO:0055085 GO:0055086 GO:0061025 GO:0070647  \\\n",
       "0           0          0          0          0          0          0   \n",
       "1           0          0          0          0          0          0   \n",
       "2           0          0          0          0          0          0   \n",
       "3           0          0          0          0          0          0   \n",
       "4           0          0          0          0          0          0   \n",
       "\n",
       "GO GO:0070925 GO:0071554  \n",
       "0           0          0  \n",
       "1           0          0  \n",
       "2           0          0  \n",
       "3           1          0  \n",
       "4           0          1  \n",
       "\n",
       "[5 rows x 94 columns]"
      ]
     },
     "execution_count": 97,
     "metadata": {},
     "output_type": "execute_result"
    }
   ],
   "source": [
    "## matriz para ver intersecciones entre terminos\n",
    "up_process=proteome_go_term[proteome_go_term.Aspect.str.contains(\"P\")==True]\n",
    "upset_process=up_process.pivot_table(values=\"Term\",index=[\"Entry\"],aggfunc=len,columns=\"GO\").fillna('0').reset_index()\n",
    "upset_process.to_csv('./results/Biological_Process_matrix.csv',index=None)\n",
    "upset_process.head()"
   ]
  },
  {
   "cell_type": "markdown",
   "metadata": {},
   "source": [
    "## Componente celular"
   ]
  },
  {
   "cell_type": "code",
   "execution_count": 98,
   "metadata": {
    "scrolled": true
   },
   "outputs": [
    {
     "data": {
      "text/html": [
       "<div>\n",
       "<style>\n",
       "    .dataframe thead tr:only-child th {\n",
       "        text-align: right;\n",
       "    }\n",
       "\n",
       "    .dataframe thead th {\n",
       "        text-align: left;\n",
       "    }\n",
       "\n",
       "    .dataframe tbody tr th {\n",
       "        vertical-align: top;\n",
       "    }\n",
       "</style>\n",
       "<table border=\"1\" class=\"dataframe\">\n",
       "  <thead>\n",
       "    <tr style=\"text-align: right;\">\n",
       "      <th></th>\n",
       "      <th>GO</th>\n",
       "      <th>Cellular Component</th>\n",
       "      <th>Value</th>\n",
       "    </tr>\n",
       "  </thead>\n",
       "  <tbody>\n",
       "    <tr>\n",
       "      <th>0</th>\n",
       "      <td>GO:0005737</td>\n",
       "      <td>cytoplasm</td>\n",
       "      <td>788</td>\n",
       "    </tr>\n",
       "    <tr>\n",
       "      <th>1</th>\n",
       "      <td>GO:0005634</td>\n",
       "      <td>nucleus</td>\n",
       "      <td>537</td>\n",
       "    </tr>\n",
       "    <tr>\n",
       "      <th>2</th>\n",
       "      <td>GO:0016020</td>\n",
       "      <td>membrane</td>\n",
       "      <td>365</td>\n",
       "    </tr>\n",
       "    <tr>\n",
       "      <th>3</th>\n",
       "      <td>GO:0005739</td>\n",
       "      <td>mitochondrion</td>\n",
       "      <td>311</td>\n",
       "    </tr>\n",
       "    <tr>\n",
       "      <th>4</th>\n",
       "      <td>GO:0005694</td>\n",
       "      <td>chromosome</td>\n",
       "      <td>178</td>\n",
       "    </tr>\n",
       "  </tbody>\n",
       "</table>\n",
       "</div>"
      ],
      "text/plain": [
       "           GO Cellular Component  Value\n",
       "0  GO:0005737          cytoplasm    788\n",
       "1  GO:0005634            nucleus    537\n",
       "2  GO:0016020           membrane    365\n",
       "3  GO:0005739      mitochondrion    311\n",
       "4  GO:0005694         chromosome    178"
      ]
     },
     "execution_count": 98,
     "metadata": {},
     "output_type": "execute_result"
    }
   ],
   "source": [
    "## Cellular Component\n",
    "comp=proteome_go_term[['GO','Term','Aspect']].groupby(['Aspect']).get_group('C')\n",
    "component=comp.groupby(['GO','Term']).count().reset_index().rename(columns={\"Term\": \"Cellular Component\",\"Aspect\": \"Value\"}).sort_values(by ='Value',ascending=False).reset_index(drop=True)\n",
    "component.to_csv('./results/Cellular_Component.csv',index=None)\n",
    "component.head()"
   ]
  },
  {
   "cell_type": "code",
   "execution_count": 99,
   "metadata": {},
   "outputs": [
    {
     "data": {
      "text/html": [
       "<div>\n",
       "<style>\n",
       "    .dataframe thead tr:only-child th {\n",
       "        text-align: right;\n",
       "    }\n",
       "\n",
       "    .dataframe thead th {\n",
       "        text-align: left;\n",
       "    }\n",
       "\n",
       "    .dataframe tbody tr th {\n",
       "        vertical-align: top;\n",
       "    }\n",
       "</style>\n",
       "<table border=\"1\" class=\"dataframe\">\n",
       "  <thead>\n",
       "    <tr style=\"text-align: right;\">\n",
       "      <th>GO</th>\n",
       "      <th>Entry</th>\n",
       "      <th>GO:0005576</th>\n",
       "      <th>GO:0005618</th>\n",
       "      <th>GO:0005634</th>\n",
       "      <th>GO:0005694</th>\n",
       "      <th>GO:0005730</th>\n",
       "      <th>GO:0005737</th>\n",
       "      <th>GO:0005739</th>\n",
       "      <th>GO:0005740</th>\n",
       "      <th>GO:0005773</th>\n",
       "      <th>...</th>\n",
       "      <th>GO:0005815</th>\n",
       "      <th>GO:0005840</th>\n",
       "      <th>GO:0005856</th>\n",
       "      <th>GO:0005886</th>\n",
       "      <th>GO:0005933</th>\n",
       "      <th>GO:0005938</th>\n",
       "      <th>GO:0012505</th>\n",
       "      <th>GO:0016020</th>\n",
       "      <th>GO:0030427</th>\n",
       "      <th>GO:0031410</th>\n",
       "    </tr>\n",
       "  </thead>\n",
       "  <tbody>\n",
       "    <tr>\n",
       "      <th>0</th>\n",
       "      <td>O13297</td>\n",
       "      <td>0</td>\n",
       "      <td>0</td>\n",
       "      <td>1</td>\n",
       "      <td>0</td>\n",
       "      <td>0</td>\n",
       "      <td>0</td>\n",
       "      <td>0</td>\n",
       "      <td>0</td>\n",
       "      <td>0</td>\n",
       "      <td>...</td>\n",
       "      <td>0</td>\n",
       "      <td>0</td>\n",
       "      <td>0</td>\n",
       "      <td>0</td>\n",
       "      <td>0</td>\n",
       "      <td>0</td>\n",
       "      <td>0</td>\n",
       "      <td>0</td>\n",
       "      <td>0</td>\n",
       "      <td>0</td>\n",
       "    </tr>\n",
       "    <tr>\n",
       "      <th>1</th>\n",
       "      <td>O13329</td>\n",
       "      <td>0</td>\n",
       "      <td>0</td>\n",
       "      <td>1</td>\n",
       "      <td>1</td>\n",
       "      <td>1</td>\n",
       "      <td>0</td>\n",
       "      <td>0</td>\n",
       "      <td>0</td>\n",
       "      <td>0</td>\n",
       "      <td>...</td>\n",
       "      <td>0</td>\n",
       "      <td>0</td>\n",
       "      <td>0</td>\n",
       "      <td>0</td>\n",
       "      <td>0</td>\n",
       "      <td>0</td>\n",
       "      <td>0</td>\n",
       "      <td>0</td>\n",
       "      <td>0</td>\n",
       "      <td>0</td>\n",
       "    </tr>\n",
       "    <tr>\n",
       "      <th>2</th>\n",
       "      <td>O13525</td>\n",
       "      <td>0</td>\n",
       "      <td>0</td>\n",
       "      <td>0</td>\n",
       "      <td>0</td>\n",
       "      <td>0</td>\n",
       "      <td>0</td>\n",
       "      <td>1</td>\n",
       "      <td>1</td>\n",
       "      <td>0</td>\n",
       "      <td>...</td>\n",
       "      <td>0</td>\n",
       "      <td>0</td>\n",
       "      <td>0</td>\n",
       "      <td>0</td>\n",
       "      <td>0</td>\n",
       "      <td>0</td>\n",
       "      <td>0</td>\n",
       "      <td>1</td>\n",
       "      <td>0</td>\n",
       "      <td>0</td>\n",
       "    </tr>\n",
       "    <tr>\n",
       "      <th>3</th>\n",
       "      <td>O13539</td>\n",
       "      <td>0</td>\n",
       "      <td>0</td>\n",
       "      <td>1</td>\n",
       "      <td>0</td>\n",
       "      <td>0</td>\n",
       "      <td>0</td>\n",
       "      <td>0</td>\n",
       "      <td>0</td>\n",
       "      <td>0</td>\n",
       "      <td>...</td>\n",
       "      <td>0</td>\n",
       "      <td>0</td>\n",
       "      <td>0</td>\n",
       "      <td>0</td>\n",
       "      <td>0</td>\n",
       "      <td>0</td>\n",
       "      <td>0</td>\n",
       "      <td>0</td>\n",
       "      <td>0</td>\n",
       "      <td>0</td>\n",
       "    </tr>\n",
       "    <tr>\n",
       "      <th>4</th>\n",
       "      <td>O13547</td>\n",
       "      <td>1</td>\n",
       "      <td>1</td>\n",
       "      <td>0</td>\n",
       "      <td>0</td>\n",
       "      <td>0</td>\n",
       "      <td>0</td>\n",
       "      <td>0</td>\n",
       "      <td>0</td>\n",
       "      <td>0</td>\n",
       "      <td>...</td>\n",
       "      <td>0</td>\n",
       "      <td>0</td>\n",
       "      <td>0</td>\n",
       "      <td>0</td>\n",
       "      <td>0</td>\n",
       "      <td>0</td>\n",
       "      <td>0</td>\n",
       "      <td>1</td>\n",
       "      <td>0</td>\n",
       "      <td>0</td>\n",
       "    </tr>\n",
       "  </tbody>\n",
       "</table>\n",
       "<p>5 rows × 23 columns</p>\n",
       "</div>"
      ],
      "text/plain": [
       "GO   Entry GO:0005576 GO:0005618 GO:0005634 GO:0005694 GO:0005730 GO:0005737  \\\n",
       "0   O13297          0          0          1          0          0          0   \n",
       "1   O13329          0          0          1          1          1          0   \n",
       "2   O13525          0          0          0          0          0          0   \n",
       "3   O13539          0          0          1          0          0          0   \n",
       "4   O13547          1          1          0          0          0          0   \n",
       "\n",
       "GO GO:0005739 GO:0005740 GO:0005773    ...     GO:0005815 GO:0005840  \\\n",
       "0           0          0          0    ...              0          0   \n",
       "1           0          0          0    ...              0          0   \n",
       "2           1          1          0    ...              0          0   \n",
       "3           0          0          0    ...              0          0   \n",
       "4           0          0          0    ...              0          0   \n",
       "\n",
       "GO GO:0005856 GO:0005886 GO:0005933 GO:0005938 GO:0012505 GO:0016020  \\\n",
       "0           0          0          0          0          0          0   \n",
       "1           0          0          0          0          0          0   \n",
       "2           0          0          0          0          0          1   \n",
       "3           0          0          0          0          0          0   \n",
       "4           0          0          0          0          0          1   \n",
       "\n",
       "GO GO:0030427 GO:0031410  \n",
       "0           0          0  \n",
       "1           0          0  \n",
       "2           0          0  \n",
       "3           0          0  \n",
       "4           0          0  \n",
       "\n",
       "[5 rows x 23 columns]"
      ]
     },
     "execution_count": 99,
     "metadata": {},
     "output_type": "execute_result"
    }
   ],
   "source": [
    "## matriz para ver intersecciones entre terminos\n",
    "up_component=proteome_go_term[proteome_go_term.Aspect.str.contains(\"C\")==True]\n",
    "upset_component=up_component.pivot_table(values=\"Term\",index=[\"Entry\"],aggfunc=len,columns=\"GO\").fillna('0').reset_index()\n",
    "upset_component.to_csv('./results/Cellular_Component_matrix.csv',index=None)\n",
    "upset_component.head()"
   ]
  },
  {
   "cell_type": "code",
   "execution_count": null,
   "metadata": {},
   "outputs": [],
   "source": []
  },
  {
   "cell_type": "markdown",
   "metadata": {},
   "source": [
    "## 5.- Proteinas anotadas y no anotadas"
   ]
  },
  {
   "cell_type": "code",
   "execution_count": 100,
   "metadata": {
    "scrolled": true
   },
   "outputs": [
    {
     "name": "stdout",
     "output_type": "stream",
     "text": [
      "Proteinas no anotadas:  12 \n",
      "\n",
      "    Entry\n",
      "1  P25654\n",
      "2  P32330\n",
      "3  P32460\n",
      "4  P32618\n",
      "5  P34246\n",
      "6  P36090\n",
      "7  P38201\n",
      "8  P38256\n",
      "9  P38321\n"
     ]
    }
   ],
   "source": [
    "## de todas las proteinas sabemos cuantas tienen anotacion en Uniprot\n",
    "nan=proteome_go_term[proteome_go_term['GO'].isnull()].reset_index(drop=True) ## proteinas que no tienen GO\n",
    "print('Proteinas no anotadas: ',nan['Entry'].drop_duplicates().count(),'\\n')\n",
    "print(nan[['Entry']][1:10])"
   ]
  },
  {
   "cell_type": "code",
   "execution_count": 101,
   "metadata": {},
   "outputs": [
    {
     "name": "stdout",
     "output_type": "stream",
     "text": [
      "Ptoreinas anotadas:  1488 \n",
      "\n",
      "    Entry\n",
      "1  O13297\n",
      "2  O13297\n",
      "3  O13297\n",
      "4  O13297\n",
      "5  O13297\n",
      "6  O13329\n",
      "7  O13329\n",
      "8  O13329\n",
      "9  O13329\n"
     ]
    }
   ],
   "source": [
    "## solo las proteinas que tienen GO\n",
    "no_nan=proteome_go_term[proteome_go_term['GO'].notnull()].reset_index(drop=True) \n",
    "print('Ptoreinas anotadas: ',no_nan['Entry'].drop_duplicates().count(),'\\n')\n",
    "print(no_nan[['Entry']][1:10])"
   ]
  },
  {
   "cell_type": "code",
   "execution_count": 102,
   "metadata": {},
   "outputs": [
    {
     "data": {
      "text/plain": [
       "Without GO      12\n",
       "Whith GO      1488\n",
       "dtype: int64"
      ]
     },
     "execution_count": 102,
     "metadata": {},
     "output_type": "execute_result"
    }
   ],
   "source": [
    "sin_con=[nan['Entry'].drop_duplicates().reset_index(drop=True).rename(),no_nan['Entry'].drop_duplicates().reset_index(drop=True).rename()]\n",
    "singo_congo=pd.concat(sin_con, axis=1,ignore_index=False).rename(columns={0:'Without GO',1:'Whith GO'},index=str, inplace=False)\n",
    "singo_congo.count().to_csv('./results//Anotadas.csv')\n",
    "singo_congo[['Without GO','Whith GO']].count()"
   ]
  },
  {
   "cell_type": "code",
   "execution_count": 103,
   "metadata": {
    "scrolled": true
   },
   "outputs": [
    {
     "data": {
      "text/plain": [
       "Aspect\n",
       "F    1338\n",
       "C    1397\n",
       "P    1423\n",
       "dtype: int64"
      ]
     },
     "execution_count": 103,
     "metadata": {},
     "output_type": "execute_result"
    }
   ],
   "source": [
    "sin_nan=no_nan[['Entry','GO','Term','Aspect']].drop_duplicates()\n",
    "frec=sin_nan.pivot_table(values=\"GO\",index=[\"Entry\"],aggfunc=len,columns=\"Aspect\").reset_index()\n",
    "#frec.to_csv('./results/Categories_frequences.csv',header=True,index=None)\n",
    "frec[['F','C','P']].count().to_csv('./results/Total_categories_CFP.csv',header=None)\n",
    "frec[['F','C','P']].count()"
   ]
  },
  {
   "cell_type": "code",
   "execution_count": 104,
   "metadata": {},
   "outputs": [],
   "source": [
    "# ================================================================================================="
   ]
  },
  {
   "cell_type": "code",
   "execution_count": 105,
   "metadata": {},
   "outputs": [
    {
     "data": {
      "text/html": [
       "<div>\n",
       "<style>\n",
       "    .dataframe thead tr:only-child th {\n",
       "        text-align: right;\n",
       "    }\n",
       "\n",
       "    .dataframe thead th {\n",
       "        text-align: left;\n",
       "    }\n",
       "\n",
       "    .dataframe tbody tr th {\n",
       "        vertical-align: top;\n",
       "    }\n",
       "</style>\n",
       "<table border=\"1\" class=\"dataframe\">\n",
       "  <thead>\n",
       "    <tr style=\"text-align: right;\">\n",
       "      <th></th>\n",
       "      <th>Process</th>\n",
       "      <th>Function</th>\n",
       "      <th>Component</th>\n",
       "    </tr>\n",
       "  </thead>\n",
       "  <tbody>\n",
       "    <tr>\n",
       "      <th>0</th>\n",
       "      <td>NaN</td>\n",
       "      <td>O13297</td>\n",
       "      <td>NaN</td>\n",
       "    </tr>\n",
       "    <tr>\n",
       "      <th>1</th>\n",
       "      <td>NaN</td>\n",
       "      <td>NaN</td>\n",
       "      <td>O13297</td>\n",
       "    </tr>\n",
       "    <tr>\n",
       "      <th>2</th>\n",
       "      <td>O13297</td>\n",
       "      <td>NaN</td>\n",
       "      <td>NaN</td>\n",
       "    </tr>\n",
       "    <tr>\n",
       "      <th>3</th>\n",
       "      <td>NaN</td>\n",
       "      <td>O13297</td>\n",
       "      <td>NaN</td>\n",
       "    </tr>\n",
       "    <tr>\n",
       "      <th>4</th>\n",
       "      <td>O13297</td>\n",
       "      <td>NaN</td>\n",
       "      <td>NaN</td>\n",
       "    </tr>\n",
       "  </tbody>\n",
       "</table>\n",
       "</div>"
      ],
      "text/plain": [
       "  Process Function Component\n",
       "0     NaN   O13297       NaN\n",
       "1     NaN      NaN    O13297\n",
       "2  O13297      NaN       NaN\n",
       "3     NaN   O13297       NaN\n",
       "4  O13297      NaN       NaN"
      ]
     },
     "execution_count": 105,
     "metadata": {},
     "output_type": "execute_result"
    }
   ],
   "source": [
    "## Archivo para generar un diagrama de Venn, intersecciones entre categorias, total de proteinas por categoria\n",
    "ff=proteome_go_term[proteome_go_term.Aspect.str.contains(\"F\")==True]\n",
    "pp=proteome_go_term[proteome_go_term.Aspect.str.contains(\"P\")==True]\n",
    "cc=proteome_go_term[proteome_go_term.Aspect.str.contains(\"C\")==True]\n",
    "cats=[pp[['Entry']],ff[['Entry']],cc[['Entry']]]\n",
    "categorias=pd.concat(cats, axis=1, ignore_index=True).rename(columns={0:\"Process\",1:'Function',2:'Component'},index=str).reset_index(drop=True)\n",
    "categorias.to_csv('./results/cats.csv',index=None) \n",
    "categorias.head()"
   ]
  },
  {
   "cell_type": "code",
   "execution_count": null,
   "metadata": {},
   "outputs": [],
   "source": []
  }
 ],
 "metadata": {
  "kernelspec": {
   "display_name": "Python 3",
   "language": "python",
   "name": "python3"
  },
  "language_info": {
   "codemirror_mode": {
    "name": "ipython",
    "version": 3
   },
   "file_extension": ".py",
   "mimetype": "text/x-python",
   "name": "python",
   "nbconvert_exporter": "python",
   "pygments_lexer": "ipython3",
   "version": "3.6.3"
  }
 },
 "nbformat": 4,
 "nbformat_minor": 2
}
