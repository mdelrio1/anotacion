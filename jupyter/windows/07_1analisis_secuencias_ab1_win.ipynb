{
 "cells": [
  {
   "cell_type": "markdown",
   "metadata": {},
   "source": [
    "# Bitacora para analizar archivos ab1\n",
    "tomado de \n",
    "http://biopython.org/wiki/ABI_traces"
   ]
  },
  {
   "cell_type": "code",
   "execution_count": 1,
   "metadata": {
    "collapsed": true
   },
   "outputs": [],
   "source": [
    "from Bio import SeqIO, SeqRecord \n",
    "from Bio.Alphabet import IUPAC #nomenclatura para la defincion de nucleotidos "
   ]
  },
  {
   "cell_type": "code",
   "execution_count": 2,
   "metadata": {
    "collapsed": true
   },
   "outputs": [],
   "source": [
    "from abifpy import Trace # utiliza los valores phred, probabilidad que el nucleotido dado es el correcto, \n",
    "from collections import defaultdict\n",
    "import matplotlib.pyplot as plt #importando la biblioteca matplotlib.pyplot como plt (renombrando)"
   ]
  },
  {
   "cell_type": "code",
   "execution_count": 3,
   "metadata": {},
   "outputs": [
    {
     "name": "stdout",
     "output_type": "stream",
     "text": [
      " El volumen de la unidad C no tiene etiqueta.\n",
      " El número de serie del volumen es: B09C-5CE4\n",
      "\n",
      " Directorio de C:\\Users\\SALA GRAL\\Desktop\\bioinformatica_aplicada\\data\\ab1\n",
      "\n",
      "08/01/2018  04:43 p. m.    <DIR>          .\n",
      "08/01/2018  04:43 p. m.    <DIR>          ..\n",
      "27/08/2014  10:55 a. m.           185,080 Nav1.2_(B9)-DG7A_E12_010.ab1\n",
      "27/08/2014  10:37 a. m.           184,346 Nav1.2_(D10)-RW01_F03_011.ab1\n",
      "27/08/2014  10:55 a. m.           184,570 Nav1.8_(B11)-DG7A_G12_014.ab1\n",
      "27/08/2014  10:37 a. m.           185,174 Nav1.8_(D12)-RW01_H03_015.ab1\n",
      "27/08/2014  10:55 a. m.           184,581 Nav2.2_(B10)-DG7A_F12_012.ab1\n",
      "27/08/2014  10:37 a. m.           186,928 Nav2.2_(D11)-RW01_G03_013.ab1\n",
      "08/01/2018  05:11 p. m.            37,776 PET1.2_(A1)-DG7A.scf\n",
      "27/08/2014  10:52 a. m.           212,099 PET1.2_(A1)-DG7A_A10_002.ab1\n",
      "08/01/2018  05:10 p. m.            37,124 PET1.2_(C2)-RW01.scf\n",
      "27/08/2014  10:58 a. m.           184,666 PET1.2_(C2)-RW01_B01_003.ab1\n",
      "27/08/2014  10:55 a. m.           184,420 PET1.8_(A12)-DG7A_D11_007.ab1\n",
      "27/08/2014  10:58 a. m.           184,578 PET1.8_(D1)-RW01_E02_010.ab1\n",
      "27/08/2014  10:52 a. m.           212,255 PET2.2_(A2)-DG7A_B10_004.ab1\n",
      "27/08/2014  10:58 a. m.           184,745 PET2.2_(C3)-RW01_C01_005.ab1\n",
      "27/08/2014  10:55 a. m.           184,838 PET2.8_(B1)-DG7A_E11_009.ab1\n",
      "27/08/2014  10:58 a. m.           184,853 PET2.8_(D2)-RW01_F02_012.ab1\n",
      "27/08/2014  10:52 a. m.           212,206 PETsn1.2_(A3)-DG7A_C10_006.ab1\n",
      "27/08/2014  10:58 a. m.           184,707 PETsn1.2_(C4)-RW01_D01_007.ab1\n",
      "27/08/2014  10:55 a. m.           185,018 PETsn1.8_(B2)-DG7A_F11_011.ab1\n",
      "27/08/2014  10:58 a. m.           187,081 PETsn1.8_(D3)-RW01_G02_014.ab1\n",
      "27/08/2014  10:52 a. m.           208,401 PHBb1.2_(A8)-DG7A_H10_016.ab1\n",
      "27/08/2014  10:58 a. m.           182,902 PHBb1.2_(C9)-RW01_A02_002.ab1\n",
      "08/01/2018  05:20 p. m.    <DIR>          secuencias_consenso\n",
      "              22 archivos      3,878,348 bytes\n",
      "               3 dirs  10,320,281,600 bytes libres\n"
     ]
    }
   ],
   "source": [
    "ls \"/Users/SALA GRAL/Desktop/bioinformatica_aplicada/data/ab1/\""
   ]
  },
  {
   "cell_type": "code",
   "execution_count": 4,
   "metadata": {},
   "outputs": [
    {
     "name": "stdout",
     "output_type": "stream",
     "text": [
      "C:\\Users\\SALA GRAL\\Desktop\\bioinformatica_aplicada\\data\\ab1\n"
     ]
    }
   ],
   "source": [
    "cd /Users/SALA GRAL/Desktop/bioinformatica_aplicada/data/ab1/"
   ]
  },
  {
   "cell_type": "markdown",
   "metadata": {},
   "source": [
    "# Obtencion de la secuencia eliminando valores de baja calidad \n",
    "# Trimming\n",
    "#### tomado de \n",
    "#### https://github.com/bow/abifpy"
   ]
  },
  {
   "cell_type": "code",
   "execution_count": 5,
   "metadata": {
    "collapsed": true
   },
   "outputs": [],
   "source": [
    "rec= Trace(\"Nav1.2_(B9)-DG7A_E12_010.ab1\")"
   ]
  },
  {
   "cell_type": "code",
   "execution_count": 6,
   "metadata": {
    "collapsed": true
   },
   "outputs": [],
   "source": [
    "rec1= Trace('Nav1.2_(B9)-DG7A_E12_010.ab1',  trimming=True)"
   ]
  },
  {
   "cell_type": "markdown",
   "metadata": {},
   "source": [
    "## Comparando las secuencias de manera visual"
   ]
  },
  {
   "cell_type": "code",
   "execution_count": 7,
   "metadata": {},
   "outputs": [
    {
     "name": "stdout",
     "output_type": "stream",
     "text": [
      "GTGCTTCGACTTCCCCCAATCATCTGTCCCACCTTCGGCGGCTGGCTCCATAAAGGTTACCTCACCGACTTCGGGTGTTACAAACTCTCGTGGTGTGACGGGCGGTGTGTACAAGGCCCGGGAACGTATTCACCGCGGCATGCTGATCCGCAATTACAACCGATTCCAGCTTCACGCATTCAAGTTGCAAACTGCAATCCGAACTGAAAACAGATTTGTGGAATTGGCTTAACCTCCCGGTTTCCCTGCCCTTTGTTCTGTCCATTGTACCACGTGTGTACCCCAGGTCATAAGGGGCATGATGATTTGACGTCATCCCCATTCCCTCCAGTAA \n",
      " CTTCCCCCAATCATCTGTCCCACCTTCGGCGGCTGGCTCCATAAAGGTTACCTCACCGACTTCGGGTGTTACAAACTCTCGTGGTGTGACGGGCGGTGTGTACAAGGCCCGGGAACGTATTCACCGCGGCATGCTGATCCGCAATTACAACCGATTCCAGCTTCACGCATTCAAGTTGCAAACTGCAATCCGAACTGAAAACAGATTTGTGGAATTGGCTTAACCTCCCGGTTTCCCTGCCCTTTGTTCTGTCCATTGTACCACGTGTGTACCCCAGGTCATAAGGGGCATGATGATTTGACGTCATC\n"
     ]
    }
   ],
   "source": [
    "print(rec.seq, \"\\n\", rec1.seq)"
   ]
  },
  {
   "cell_type": "markdown",
   "metadata": {},
   "source": [
    "## Observando los valores de calidad"
   ]
  },
  {
   "cell_type": "code",
   "execution_count": 8,
   "metadata": {},
   "outputs": [
    {
     "data": {
      "text/plain": [
       "\"'&&&&(*%)/26.*-E-.::-+925:3A;7;DK393,3??HE7G?9ELL3CRT5LOL232@<A;93-<9CC@CC89H9<@L9C89?H33+,C.4C38?9CL?8<4,<6<2?<BLOYIRC88.>8?49@C<;3C?343493CF.3399IC.3-<66?9+>)3.??<C8H38J?:33434+4?3L.=C?98<L;3C44J8=:=O@38???OCL;.G??@<8C8.C94C09=3@3F?4=+34=<RCC.<<?LI?8C@?4983<3H3-C@?-2-=9.3383949.G?.1-93834C6=F433./49..9-983?3+4903@<.*&&&),)+6)()+1,\""
      ]
     },
     "execution_count": 8,
     "metadata": {},
     "output_type": "execute_result"
    }
   ],
   "source": [
    "rec.qual"
   ]
  },
  {
   "cell_type": "code",
   "execution_count": 9,
   "metadata": {},
   "outputs": [
    {
     "data": {
      "text/plain": [
       "'/26.*-E-.::-+925:3A;7;DK393,3??HE7G?9ELL3CRT5LOL232@<A;93-<9CC@CC89H9<@L9C89?H33+,C.4C38?9CL?8<4,<6<2?<BLOYIRC88.>8?49@C<;3C?343493CF.3399IC.3-<66?9+>)3.??<C8H38J?:33434+4?3L.=C?98<L;3C44J8=:=O@38???OCL;.G??@<8C8.C94C09=3@3F?4=+34=<RCC.<<?LI?8C@?4983<3H3-C@?-2-=9.3383949.G?.1-93834C6=F433./49..9-983?3+4903@'"
      ]
     },
     "execution_count": 9,
     "metadata": {},
     "output_type": "execute_result"
    }
   ],
   "source": [
    "rec1.qual"
   ]
  },
  {
   "cell_type": "markdown",
   "metadata": {},
   "source": [
    "## cuántos nucleotidos eliminó el recorte (trimming)?"
   ]
  },
  {
   "cell_type": "code",
   "execution_count": 10,
   "metadata": {},
   "outputs": [
    {
     "name": "stdout",
     "output_type": "stream",
     "text": [
      "334 308\n"
     ]
    }
   ],
   "source": [
    "print (len(rec.seq), len(rec1.seq))"
   ]
  },
  {
   "cell_type": "markdown",
   "metadata": {},
   "source": [
    "## alineamiento de las secuencias para observar en donde se cortaron las secuencias"
   ]
  },
  {
   "cell_type": "code",
   "execution_count": 11,
   "metadata": {
    "collapsed": true
   },
   "outputs": [],
   "source": [
    "from Bio import pairwise2 #es una funcion que permite hacer alineamiento de dos secuencias\n",
    "from Bio.SubsMat.MatrixInfo import blosum62 #funcion que permite pequeñas graficas"
   ]
  },
  {
   "cell_type": "markdown",
   "metadata": {},
   "source": [
    "Se estan observando los datos de las secuencias de la posicion 1 hasta la 94 (recuerde Python inicia a contar desde 0) y se observan los nucleotidos que se eliminaron en rec1"
   ]
  },
  {
   "cell_type": "code",
   "execution_count": 12,
   "metadata": {},
   "outputs": [
    {
     "name": "stdout",
     "output_type": "stream",
     "text": [
      "GTGCTTCGACTTCCCCCAATCATCTGTCCCACCTTCGGCGGCTGGCTCCATAAAGGTTACCTCACCGACTTCGGGTGTTACAAACTCTCGTGG\n",
      "|||||||||||||||||||||||||||||||||||||||||||||||||||||||||||||||||||||||||||||||||||||||||||||\n",
      "---------CTTCCCCCAATCATCTGTCCCACCTTCGGCGGCTGGCTCCATAAAGGTTACCTCACCGACTTCGGGTGTTACAAACTCTCGTGG\n",
      "  Score=528\n",
      "\n"
     ]
    }
   ],
   "source": [
    "alignments = pairwise2.align.globalds(rec.seq[:93],rec1.seq[:84], blosum62, -10, -0.5)\n",
    "print(pairwise2.format_alignment(*alignments[0]))"
   ]
  },
  {
   "cell_type": "markdown",
   "metadata": {},
   "source": [
    "Observando las secuencias completas"
   ]
  },
  {
   "cell_type": "code",
   "execution_count": 13,
   "metadata": {},
   "outputs": [
    {
     "name": "stdout",
     "output_type": "stream",
     "text": [
      "GTGCTTCGACTTCCCCCAATCATCTGTCCCACCTTCGGCGGCTGGCTCCATAAAGGTTACCTCACCGACTTCGGGTGTTACAAACTCTCGTGGTGTGACGGGCGGTGTGTACAAGGCCCGGGAACGTATTCACCGCGGCATGCTGATCCGCAATTACAACCGATTCCAGCTTCACGCATTCAAGTTGCAAACTGCAATCCGAACTGAAAACAGATTTGTGGAATTGGCTTAACCTCCCGGTTTCCCTGCCCTTTGTTCTGTCCATTGTACCACGTGTGTACCCCAGGTCATAAGGGGCATGATGATTTGACGTCATCCCCATTCCCTCCAGTAA\n",
      "||||||||||||||||||||||||||||||||||||||||||||||||||||||||||||||||||||||||||||||||||||||||||||||||||||||||||||||||||||||||||||||||||||||||||||||||||||||||||||||||||||||||||||||||||||||||||||||||||||||||||||||||||||||||||||||||||||||||||||||||||||||||||||||||||||||||||||||||||||||||||||||||||||||||||||||||||||||||||||||||||||||||||||||\n",
      "---------CTTCCCCCAATCATCTGTCCCACCTTCGGCGGCTGGCTCCATAAAGGTTACCTCACCGACTTCGGGTGTTACAAACTCTCGTGGTGTGACGGGCGGTGTGTACAAGGCCCGGGAACGTATTCACCGCGGCATGCTGATCCGCAATTACAACCGATTCCAGCTTCACGCATTCAAGTTGCAAACTGCAATCCGAACTGAAAACAGATTTGTGGAATTGGCTTAACCTCCCGGTTTCCCTGCCCTTTGTTCTGTCCATTGTACCACGTGTGTACCCCAGGTCATAAGGGGCATGATGATTTGACGTCATC-----------------\n",
      "  Score=1873\n",
      "\n"
     ]
    }
   ],
   "source": [
    "alignments = pairwise2.align.globalds(rec.seq,rec1.seq, blosum62, -10, -0.5)\n",
    "print(pairwise2.format_alignment(*alignments[0]))"
   ]
  },
  {
   "cell_type": "markdown",
   "metadata": {},
   "source": [
    "Describa lo que observa"
   ]
  },
  {
   "cell_type": "code",
   "execution_count": null,
   "metadata": {
    "collapsed": true
   },
   "outputs": [],
   "source": []
  },
  {
   "cell_type": "code",
   "execution_count": 14,
   "metadata": {},
   "outputs": [
    {
     "name": "stdout",
     "output_type": "stream",
     "text": [
      "----AATTGGCTTAACCTCCCGGTTTCCCTGCCCTTTGTTCTGTCCATTGTACCACGTGTGTACCCCAGGTCATAAGGGGCATGATGATTTGACGTCATCCCCATTCCCTCCAGTAA\n",
      "|||||||||||||||||||||||||||||||||||||||||||||||||||||||||||||||||||||||||||||||||||||||||||||||||||||||||||||||||||||\n",
      "GTGGAATTGGCTTAACCTCCCGGTTTCCCTGCCCTTTGTTCTGTCCATTGTACCACGTGTGTACCCCAGGTCATAAGGGGCATGATGATTTGACGTCATC-----------------\n",
      "  Score=562.5\n",
      "\n"
     ]
    }
   ],
   "source": [
    "alignments = pairwise2.align.globalds(rec.seq[len(rec.seq)-113:],rec1.seq[len(rec1.seq)-100:], blosum62, -10, -0.5)\n",
    "print(pairwise2.format_alignment(*alignments[0]))"
   ]
  },
  {
   "cell_type": "markdown",
   "metadata": {},
   "source": [
    "### qué se está observando en el último comando"
   ]
  },
  {
   "cell_type": "code",
   "execution_count": null,
   "metadata": {
    "collapsed": true
   },
   "outputs": [],
   "source": []
  },
  {
   "cell_type": "code",
   "execution_count": null,
   "metadata": {
    "collapsed": true
   },
   "outputs": [],
   "source": []
  },
  {
   "cell_type": "markdown",
   "metadata": {},
   "source": [
    "### en los siguientes comandos, describa (haga la anotación correspondiente) qué información que se está obteniendo"
   ]
  },
  {
   "cell_type": "code",
   "execution_count": 15,
   "metadata": {},
   "outputs": [
    {
     "data": {
      "text/plain": [
       "'Nav1.2_(B9)-DG7A_E12_010'"
      ]
     },
     "execution_count": 15,
     "metadata": {},
     "output_type": "execute_result"
    }
   ],
   "source": [
    "rec1.id    #es el identificador de la secuencia"
   ]
  },
  {
   "cell_type": "code",
   "execution_count": 16,
   "metadata": {},
   "outputs": [
    {
     "name": "stdout",
     "output_type": "stream",
     "text": [
      "Nav1.2_(B9)-DG7A_E12_010 CTTCCCCCAATCATCTGTCCCACCTTCGGCGGCTGGCTCCATAAAGGTTACCTCACCGACTTCGGGTGTTACAAACTCTCGTGGTGTGACGGGCGGTGTGTACAAGGCCCGGGAACGTATTCACCGCGGCATGCTGATCCGCAATTACAACCGATTCCAGCTTCACGCATTCAAGTTGCAAACTGCAATCCGAACTGAAAACAGATTTGTGGAATTGGCTTAACCTCCCGGTTTCCCTGCCCTTTGTTCTGTCCATTGTACCACGTGTGTACCCCAGGTCATAAGGGGCATGATGATTTGACGTCATC\n"
     ]
    }
   ],
   "source": [
    "print(rec1.id, rec1.seq)  # imprime el identificador de la secuencia y la secuencia despues de haberla\n",
    "#recortado"
   ]
  },
  {
   "cell_type": "markdown",
   "metadata": {},
   "source": [
    "## para reconstruir la secuencia y poder guardarla"
   ]
  },
  {
   "cell_type": "code",
   "execution_count": 17,
   "metadata": {
    "collapsed": true
   },
   "outputs": [],
   "source": [
    "from Bio.Seq import Seq\n",
    "from Bio.SeqRecord import SeqRecord"
   ]
  },
  {
   "cell_type": "code",
   "execution_count": 18,
   "metadata": {},
   "outputs": [
    {
     "data": {
      "text/plain": [
       "SeqRecord(seq=Seq('CTTCCCCCAATCATCTGTCCCACCTTCGGCGGCTGGCTCCATAAAGGTTACCTC...ATC', Alphabet()), id='Nav1.2_(B9)-DG7A_E12_010', name='<unknown name>', description='Nav1.2_(B9)-DG7A_E12_010', dbxrefs=[])"
      ]
     },
     "execution_count": 18,
     "metadata": {},
     "output_type": "execute_result"
    }
   ],
   "source": [
    "secuencia = SeqRecord(Seq((rec1.seq)), id=rec1.id, description=rec1.id)\n",
    "secuencia"
   ]
  },
  {
   "cell_type": "markdown",
   "metadata": {},
   "source": []
  },
  {
   "cell_type": "code",
   "execution_count": 19,
   "metadata": {},
   "outputs": [
    {
     "data": {
      "text/plain": [
       "1"
      ]
     },
     "execution_count": 19,
     "metadata": {},
     "output_type": "execute_result"
    }
   ],
   "source": [
    "SeqIO.write(secuencia, \"../fasta/Nav1.2F.fa\", \"fasta\")\n"
   ]
  },
  {
   "cell_type": "code",
   "execution_count": 20,
   "metadata": {},
   "outputs": [
    {
     "name": "stdout",
     "output_type": "stream",
     "text": [
      ">Nav1.2_(B9)-DG7A_E12_010\n",
      "CTTCCCCCAATCATCTGTCCCACCTTCGGCGGCTGGCTCCATAAAGGTTACCTCACCGAC\n",
      "TTCGGGTGTTACAAACTCTCGTGGTGTGACGGGCGGTGTGTACAAGGCCCGGGAACGTAT\n",
      "TCACCGCGGCATGCTGATCCGCAATTACAACCGATTCCAGCTTCACGCATTCAAGTTGCA\n",
      "AACTGCAATCCGAACTGAAAACAGATTTGTGGAATTGGCTTAACCTCCCGGTTTCCCTGC\n",
      "CCTTTGTTCTGTCCATTGTACCACGTGTGTACCCCAGGTCATAAGGGGCATGATGATTTG\n",
      "ACGTCATC\n"
     ]
    }
   ],
   "source": [
    "!more \"../fasta/Nav1.2F.fa\""
   ]
  },
  {
   "cell_type": "markdown",
   "metadata": {},
   "source": [
    "## cambio del identificador (id) de la secuencia "
   ]
  },
  {
   "cell_type": "markdown",
   "metadata": {},
   "source": [
    "### Se tienen 20 archivos que hay que procesar"
   ]
  },
  {
   "cell_type": "code",
   "execution_count": 22,
   "metadata": {},
   "outputs": [
    {
     "data": {
      "text/plain": [
       "'Nav1.2_B9)-DG7A_E12_010'"
      ]
     },
     "execution_count": 22,
     "metadata": {},
     "output_type": "execute_result"
    }
   ],
   "source": [
    "identificador = rec1.id.replace(\"(\",\"\") # se reemplazo el parentesis ( por nada\n",
    "identificador"
   ]
  },
  {
   "cell_type": "code",
   "execution_count": 23,
   "metadata": {},
   "outputs": [
    {
     "data": {
      "text/plain": [
       "'Nav1.2_B9-DG7A_E12_010'"
      ]
     },
     "execution_count": 23,
     "metadata": {},
     "output_type": "execute_result"
    }
   ],
   "source": [
    "identificador = identificador.replace(\")\",\"\") # se reemplazo el parentesis ) por nada\n",
    "identificador"
   ]
  },
  {
   "cell_type": "code",
   "execution_count": 25,
   "metadata": {},
   "outputs": [
    {
     "data": {
      "text/plain": [
       "'Nav1.2_B9-DG7A'"
      ]
     },
     "execution_count": 25,
     "metadata": {},
     "output_type": "execute_result"
    }
   ],
   "source": [
    "identificador[:14] # observando los caracteres de \"identificador\" hasta la posición 14"
   ]
  },
  {
   "cell_type": "code",
   "execution_count": 29,
   "metadata": {},
   "outputs": [
    {
     "data": {
      "text/plain": [
       "'2_B'"
      ]
     },
     "execution_count": 29,
     "metadata": {},
     "output_type": "execute_result"
    }
   ],
   "source": [
    "identificador[5:8] # observando los caracteres de \"identificador\" de la posición 5 a la 8"
   ]
  },
  {
   "cell_type": "code",
   "execution_count": 26,
   "metadata": {},
   "outputs": [
    {
     "data": {
      "text/plain": [
       "'Nav1.2_B9-DG7A'"
      ]
     },
     "execution_count": 26,
     "metadata": {},
     "output_type": "execute_result"
    }
   ],
   "source": [
    "identificador = identificador[:14] # se asigna el segmento desde el inicio a las posición 14 a \"identificador\"\n",
    "identificador"
   ]
  },
  {
   "cell_type": "code",
   "execution_count": 27,
   "metadata": {},
   "outputs": [
    {
     "data": {
      "text/plain": [
       "SeqRecord(seq=Seq('CTTCCCCCAATCATCTGTCCCACCTTCGGCGGCTGGCTCCATAAAGGTTACCTC...ATC', Alphabet()), id='Nav1.2_B9-DG7A', name='<unknown name>', description='Nav1.2_(B9)-DG7A_E12_010', dbxrefs=[])"
      ]
     },
     "execution_count": 27,
     "metadata": {},
     "output_type": "execute_result"
    }
   ],
   "source": [
    "secuencia = SeqRecord(Seq((rec1.seq)), id=identificador, description=rec1.id)\n",
    "secuencia  # se reconstruyo la secuencia utilizando \"identificador con 14 caracteres"
   ]
  },
  {
   "cell_type": "code",
   "execution_count": 30,
   "metadata": {},
   "outputs": [
    {
     "data": {
      "text/plain": [
       "1"
      ]
     },
     "execution_count": 30,
     "metadata": {},
     "output_type": "execute_result"
    }
   ],
   "source": [
    "SeqIO.write(secuencia, \"../fasta/Nav1.2F.fa\", \"fasta\")\n"
   ]
  },
  {
   "cell_type": "markdown",
   "metadata": {},
   "source": [
    "### se utilizan los comandos del sistema operativo para leer archivos de directorios"
   ]
  },
  {
   "cell_type": "code",
   "execution_count": 31,
   "metadata": {
    "collapsed": true
   },
   "outputs": [],
   "source": [
    "import os#, sys"
   ]
  },
  {
   "cell_type": "code",
   "execution_count": 32,
   "metadata": {},
   "outputs": [
    {
     "data": {
      "text/plain": [
       "'C:\\\\Users\\\\SALA GRAL\\\\Desktop\\\\bioinformatica_aplicada\\\\data\\\\ab1'"
      ]
     },
     "execution_count": 32,
     "metadata": {},
     "output_type": "execute_result"
    }
   ],
   "source": [
    "pwd"
   ]
  },
  {
   "cell_type": "code",
   "execution_count": 33,
   "metadata": {},
   "outputs": [
    {
     "data": {
      "text/plain": [
       "['Nav1.2_(B9)-DG7A.scf',\n",
       " 'Nav1.2_(B9)-DG7A_E12_010.ab1',\n",
       " 'Nav1.2_(D10)-RW01.scf',\n",
       " 'Nav1.2_(D10)-RW01_F03_011.ab1',\n",
       " 'Nav1.8_(B11)-DG7A_G12_014.ab1',\n",
       " 'Nav1.8_(D12)-RW01_H03_015.ab1',\n",
       " 'Nav2.2_(B10)-DG7A_F12_012.ab1',\n",
       " 'Nav2.2_(D11)-RW01_G03_013.ab1',\n",
       " 'PET1.2_(A1)-DG7A.scf',\n",
       " 'PET1.2_(A1)-DG7A_A10_002.ab1',\n",
       " 'PET1.2_(C2)-RW01.scf',\n",
       " 'PET1.2_(C2)-RW01_B01_003.ab1',\n",
       " 'PET1.8_(A12)-DG7A_D11_007.ab1',\n",
       " 'PET1.8_(D1)-RW01_E02_010.ab1',\n",
       " 'PET2.2_(A2)-DG7A_B10_004.ab1',\n",
       " 'PET2.2_(C3)-RW01_C01_005.ab1',\n",
       " 'PET2.8_(B1)-DG7A_E11_009.ab1',\n",
       " 'PET2.8_(D2)-RW01_F02_012.ab1',\n",
       " 'PETsn1.2_(A3)-DG7A_C10_006.ab1',\n",
       " 'PETsn1.2_(C4)-RW01_D01_007.ab1',\n",
       " 'PETsn1.8_(B2)-DG7A_F11_011.ab1',\n",
       " 'PETsn1.8_(D3)-RW01_G02_014.ab1',\n",
       " 'PHBb1.2_(A8)-DG7A_H10_016.ab1',\n",
       " 'PHBb1.2_(C9)-RW01_A02_002.ab1',\n",
       " 'secuencias_consenso']"
      ]
     },
     "execution_count": 33,
     "metadata": {},
     "output_type": "execute_result"
    }
   ],
   "source": [
    "lista = os.listdir(path =\"./\")\n",
    "lista"
   ]
  },
  {
   "cell_type": "code",
   "execution_count": 36,
   "metadata": {},
   "outputs": [
    {
     "name": "stdout",
     "output_type": "stream",
     "text": [
      "Nav1.2_(B9)-DG7A_E12_010.ab1\n",
      "Nav1.2_(D10)-RW01_F03_011.ab1\n",
      "Nav1.8_(B11)-DG7A_G12_014.ab1\n",
      "Nav1.8_(D12)-RW01_H03_015.ab1\n",
      "Nav2.2_(B10)-DG7A_F12_012.ab1\n",
      "Nav2.2_(D11)-RW01_G03_013.ab1\n",
      "PET1.2_(A1)-DG7A_A10_002.ab1\n",
      "PET1.2_(C2)-RW01_B01_003.ab1\n",
      "PET1.8_(A12)-DG7A_D11_007.ab1\n",
      "PET1.8_(D1)-RW01_E02_010.ab1\n",
      "PET2.2_(A2)-DG7A_B10_004.ab1\n",
      "PET2.2_(C3)-RW01_C01_005.ab1\n",
      "PET2.8_(B1)-DG7A_E11_009.ab1\n",
      "PET2.8_(D2)-RW01_F02_012.ab1\n",
      "PETsn1.2_(A3)-DG7A_C10_006.ab1\n",
      "PETsn1.2_(C4)-RW01_D01_007.ab1\n",
      "PETsn1.8_(B2)-DG7A_F11_011.ab1\n",
      "PETsn1.8_(D3)-RW01_G02_014.ab1\n",
      "PHBb1.2_(A8)-DG7A_H10_016.ab1\n",
      "PHBb1.2_(C9)-RW01_A02_002.ab1\n",
      "20 archivos que se procesarán para eliminar secciones de baja calidad\n"
     ]
    }
   ],
   "source": [
    "n=0\n",
    "for row in lista:\n",
    "    if row[:1]!=\".\" and row[-3:]==\"ab1\": \n",
    "        n+=1\n",
    "        print (row)\n",
    "print (n, \"archivos que se procesarán para eliminar secciones de baja calidad\")\n"
   ]
  },
  {
   "cell_type": "markdown",
   "metadata": {},
   "source": [
    "# Ejercicio:\n",
    "### Utilizandola información de la presente bitácora haga un ciclo (loop) para recortar las secuencias eliminando las regiones de baja calidad\n",
    "### guarde los archivos de manera individual con extensión fasta"
   ]
  },
  {
   "cell_type": "code",
   "execution_count": 45,
   "metadata": {},
   "outputs": [
    {
     "name": "stdout",
     "output_type": "stream",
     "text": [
      "Nav1.2_(B9)-DG7A_E12_010.ab1\t../fasta/Nav1.2_(B9)-DG7A_E12_010.fasta\n",
      "Nav1.2_(D10)-RW01_F03_011.ab1\t../fasta/Nav1.2_(D10)-RW01_F03_011.fasta\n",
      "Nav1.8_(B11)-DG7A_G12_014.ab1\t../fasta/Nav1.8_(B11)-DG7A_G12_014.fasta\n",
      "Nav1.8_(D12)-RW01_H03_015.ab1\t../fasta/Nav1.8_(D12)-RW01_H03_015.fasta\n",
      "Nav2.2_(B10)-DG7A_F12_012.ab1\t../fasta/Nav2.2_(B10)-DG7A_F12_012.fasta\n",
      "Nav2.2_(D11)-RW01_G03_013.ab1\t../fasta/Nav2.2_(D11)-RW01_G03_013.fasta\n",
      "PET1.2_(A1)-DG7A_A10_002.ab1\t../fasta/PET1.2_(A1)-DG7A_A10_002.fasta\n",
      "PET1.2_(C2)-RW01_B01_003.ab1\t../fasta/PET1.2_(C2)-RW01_B01_003.fasta\n",
      "PET1.8_(A12)-DG7A_D11_007.ab1\t../fasta/PET1.8_(A12)-DG7A_D11_007.fasta\n",
      "PET1.8_(D1)-RW01_E02_010.ab1\t../fasta/PET1.8_(D1)-RW01_E02_010.fasta\n",
      "PET2.2_(A2)-DG7A_B10_004.ab1\t../fasta/PET2.2_(A2)-DG7A_B10_004.fasta\n",
      "PET2.2_(C3)-RW01_C01_005.ab1\t../fasta/PET2.2_(C3)-RW01_C01_005.fasta\n",
      "PET2.8_(B1)-DG7A_E11_009.ab1\t../fasta/PET2.8_(B1)-DG7A_E11_009.fasta\n",
      "PET2.8_(D2)-RW01_F02_012.ab1\t../fasta/PET2.8_(D2)-RW01_F02_012.fasta\n",
      "PETsn1.2_(A3)-DG7A_C10_006.ab1\t../fasta/PETsn1.2_(A3)-DG7A_C10_006.fasta\n",
      "PETsn1.2_(C4)-RW01_D01_007.ab1\t../fasta/PETsn1.2_(C4)-RW01_D01_007.fasta\n",
      "PETsn1.8_(B2)-DG7A_F11_011.ab1\t../fasta/PETsn1.8_(B2)-DG7A_F11_011.fasta\n",
      "PETsn1.8_(D3)-RW01_G02_014.ab1\t../fasta/PETsn1.8_(D3)-RW01_G02_014.fasta\n",
      "PHBb1.2_(A8)-DG7A_H10_016.ab1\t../fasta/PHBb1.2_(A8)-DG7A_H10_016.fasta\n",
      "PHBb1.2_(C9)-RW01_A02_002.ab1\t../fasta/PHBb1.2_(C9)-RW01_A02_002.fasta\n",
      "20 archivos\n"
     ]
    }
   ],
   "source": [
    "n=0\n",
    "for row in lista:\n",
    "    if row[:1]!=\".\" and row[-3:]==\"ab1\" :\n",
    "        n+=1\n",
    "        print (row, end =\"\\t\")\n",
    "        rec1= Trace(row,  trimming=True)\n",
    "        secuencia = SeqRecord(Seq((rec1.seq)), id=rec1.id, description=rec1.id)\n",
    "        archivo= \"../fasta/\"+ row[:-4] +\".fasta\"\n",
    "        print (archivo)\n",
    "        SeqIO.write(secuencia, archivo, \"fasta\")\n",
    "print (n, \"archivos\")\n",
    "\n",
    "\n"
   ]
  },
  {
   "cell_type": "code",
   "execution_count": 46,
   "metadata": {},
   "outputs": [
    {
     "name": "stdout",
     "output_type": "stream",
     "text": [
      ">Nav1.2F\n",
      "CTTCCCCCAATCATCTGTCCCACCTTCGGCGGCTGGCTCCATAAAGGTTACCTCACCGAC\n",
      "TTCGGGTGTTACAAACTCTCGTGGTGTGACGGGCGGTGTGTACAAGGCCCGGGAACGTAT\n",
      "TCACCGCGGCATGCTGATCCGCAATTACAACCGATTCCAGCTTCACGCATTCAAGTTGCA\n",
      "AACTGCAATCCGAACTGAAAACAGATTTGTGGAATTGGCTTAACCTCCCGGTTTCCCTGC\n",
      "CCTTTGTTCTGTCCATTGTACCACGTGTGTACCCCAGGTCATAAGGGGCATGATGATTTG\n",
      "ACGTCATC\n"
     ]
    }
   ],
   "source": [
    "!more \"../fasta/Nav1.2F.fasta\""
   ]
  },
  {
   "cell_type": "markdown",
   "metadata": {},
   "source": [
    "## guarde todos los archivos en un solo archivo fasta"
   ]
  },
  {
   "cell_type": "code",
   "execution_count": 47,
   "metadata": {},
   "outputs": [
    {
     "name": "stdout",
     "output_type": "stream",
     "text": [
      "Nav1.2_(B9)-DG7A_E12_010.ab1\n",
      "Nav1.2_(D10)-RW01_F03_011.ab1\n",
      "Nav1.8_(B11)-DG7A_G12_014.ab1\n",
      "Nav1.8_(D12)-RW01_H03_015.ab1\n",
      "Nav2.2_(B10)-DG7A_F12_012.ab1\n",
      "Nav2.2_(D11)-RW01_G03_013.ab1\n",
      "PET1.2_(A1)-DG7A_A10_002.ab1\n",
      "PET1.2_(C2)-RW01_B01_003.ab1\n",
      "PET1.8_(A12)-DG7A_D11_007.ab1\n",
      "PET1.8_(D1)-RW01_E02_010.ab1\n",
      "PET2.2_(A2)-DG7A_B10_004.ab1\n",
      "PET2.2_(C3)-RW01_C01_005.ab1\n",
      "PET2.8_(B1)-DG7A_E11_009.ab1\n",
      "PET2.8_(D2)-RW01_F02_012.ab1\n",
      "PETsn1.2_(A3)-DG7A_C10_006.ab1\n",
      "PETsn1.2_(C4)-RW01_D01_007.ab1\n",
      "PETsn1.8_(B2)-DG7A_F11_011.ab1\n",
      "PETsn1.8_(D3)-RW01_G02_014.ab1\n",
      "PHBb1.2_(A8)-DG7A_H10_016.ab1\n",
      "PHBb1.2_(C9)-RW01_A02_002.ab1\n",
      "../fasta/secuencias.fasta\n",
      "20 secuencias guardadas en un solo archivo\n"
     ]
    }
   ],
   "source": [
    "secuencias= []\n",
    "n=0\n",
    "for row in lista:\n",
    "    if row[:1]==\".\":\n",
    "        continue\n",
    "    elif row[-3:]!=\"ab1\":\n",
    "        continue\n",
    "    n+=1\n",
    "    print (row)\n",
    "    rec1= Trace(row,  trimming=True)\n",
    "    secuencia = SeqRecord(Seq(rec1.seq,\n",
    "       IUPAC.unambiguous_dna), id=rec1.id[:rec1.id.find(\")\")], description=rec1.id)\n",
    "    secuencias.append(secuencia)\n",
    "archivo= \"../fasta/secuencias.fasta\"\n",
    "print (archivo)\n",
    "SeqIO.write(secuencias, archivo, \"fasta\")\n",
    "print (n, \"secuencias guardadas en un solo archivo\")\n",
    "#secuencias"
   ]
  },
  {
   "cell_type": "code",
   "execution_count": 51,
   "metadata": {},
   "outputs": [
    {
     "name": "stdout",
     "output_type": "stream",
     "text": [
      "Nav1.2_(B9)-DG7A_E12_010.ab1\n"
     ]
    },
    {
     "ename": "AttributeError",
     "evalue": "'str' object has no attribute 'reverse_complement'",
     "output_type": "error",
     "traceback": [
      "\u001b[1;31m---------------------------------------------------------------------------\u001b[0m",
      "\u001b[1;31mAttributeError\u001b[0m                            Traceback (most recent call last)",
      "\u001b[1;32m<ipython-input-51-f0637fb0d579>\u001b[0m in \u001b[0;36m<module>\u001b[1;34m()\u001b[0m\n\u001b[0;32m     13\u001b[0m        IUPAC.unambiguous_dna), id=rec1.id[:rec1.id.find(\")\")], description=rec1.id)\n\u001b[0;32m     14\u001b[0m     \u001b[1;32melse\u001b[0m \u001b[1;33m:\u001b[0m\u001b[1;33m\u001b[0m\u001b[0m\n\u001b[1;32m---> 15\u001b[1;33m         secuencia = SeqRecord(Seq(rec1.seq.reverse_complement(),\n\u001b[0m\u001b[0;32m     16\u001b[0m        IUPAC.unambiguous_dna), id=rec1.id[:rec1.id.find(\")\")], description=rec1.id)\n\u001b[0;32m     17\u001b[0m     \u001b[0msecuencias\u001b[0m\u001b[1;33m.\u001b[0m\u001b[0mappend\u001b[0m\u001b[1;33m(\u001b[0m\u001b[0msecuencia\u001b[0m\u001b[1;33m)\u001b[0m\u001b[1;33m\u001b[0m\u001b[0m\n",
      "\u001b[1;31mAttributeError\u001b[0m: 'str' object has no attribute 'reverse_complement'"
     ]
    }
   ],
   "source": [
    "secuencias= []\n",
    "n=0\n",
    "for row in lista:\n",
    "    if row[:1]==\".\":\n",
    "        continue\n",
    "    elif row[-3:]!=\"ab1\":\n",
    "        continue\n",
    "    n+=1\n",
    "    print (row)\n",
    "    rec1= Trace(row,  trimming=True)\n",
    "    secuencia = SeqRecord(Seq(rec1.seq,\n",
    "                              IUPAC.unambiguous_dna), id=rec1.id[:rec1.id.find(\")\")], description=rec1.id)\n",
    "    if rec1.id.find(\"RW01\")>0:\n",
    "    else :\n",
    "    secuencias.append(secuencia)\n",
    "archivo= \"../fasta/secuencias_rc.fasta\"\n",
    "print (archivo)\n",
    "SeqIO.write(secuencias, archivo, \"fasta\")\n",
    "print (n, \"secuencias guardadas en un solo archivo\")\n",
    "#secuencias"
   ]
  },
  {
   "cell_type": "code",
   "execution_count": 50,
   "metadata": {},
   "outputs": [
    {
     "data": {
      "text/plain": [
       "13"
      ]
     },
     "execution_count": 50,
     "metadata": {},
     "output_type": "execute_result"
    }
   ],
   "source": [
    "rec1.id.find(\"RW01\")"
   ]
  },
  {
   "cell_type": "markdown",
   "metadata": {},
   "source": [
    "## corrobore el archivo secuencias.fasta"
   ]
  },
  {
   "cell_type": "code",
   "execution_count": 48,
   "metadata": {
    "scrolled": false
   },
   "outputs": [
    {
     "name": "stdout",
     "output_type": "stream",
     "text": [
      ">Nav1.2_(B9 Nav1.2_(B9)-DG7A_E12_010\n",
      "CTTCCCCCAATCATCTGTCCCACCTTCGGCGGCTGGCTCCATAAAGGTTACCTCACCGAC\n",
      "TTCGGGTGTTACAAACTCTCGTGGTGTGACGGGCGGTGTGTACAAGGCCCGGGAACGTAT\n",
      "TCACCGCGGCATGCTGATCCGCAATTACAACCGATTCCAGCTTCACGCATTCAAGTTGCA\n",
      "AACTGCAATCCGAACTGAAAACAGATTTGTGGAATTGGCTTAACCTCCCGGTTTCCCTGC\n",
      "CCTTTGTTCTGTCCATTGTACCACGTGTGTACCCCAGGTCATAAGGGGCATGATGATTTG\n",
      "ACGTCATC\n",
      ">Nav1.2_(D10 Nav1.2_(D10)-RW01_F03_011\n",
      "CCTGGGCTACCACGTGCTACATGGACAGAACAAGGGCATCGAAACCGCGAGGTTAAGCCA\n",
      "ATCCCACAAATCTGTTCTCAATTCGGATCGCAATCTGCAACTCGACTGCGTGAAGCTGGA\n",
      "ATCGCTAGTAATCGCGGATCAGCATGCCGCGGTGAATACGTTCCCGGGCCTTGTACACAC\n",
      "CGCCCGTCACACCACGAGAGTTTGTAACACCCGAAGTCGGTGAGGTAACCTTTATGGAGC\n",
      "CAGCCGCCGAAGGTGGGACAGATGATTGGGGTGAAGTCGTAACAAGGTAGCCGTATCGGA\n",
      "AGGTGC\n",
      ">Nav1.8_(B11 Nav1.8_(B11)-DG7A_G12_014\n",
      "ACTTCCCCCAATCATCTGTCCCACCTTAGGCGGCTGGCTCCAAAAGGTTACCTCACCGAC\n",
      "TTCGGGTGTTACAAACTCTCGTGGTGTGACGGGCGGTGTGTACAAGGCCCGGGAACGTAT\n",
      "TCACCGCGGCATGCTGATCCGCGATTACTAGCGATTCCAACTTCATGTAGGCGAGTTGCA\n",
      "GCCTACAATCCGAACTGAGAACGGTTTTATGGGATTGGCTAAACCTCGCGGTCTTGCTGC\n",
      "CCTTTGTACCGTCCATTGTAGCACGTGTGTAGCCCAAGTCATAAGGGGCATGATGATTTG\n",
      "ACGTCATCC\n",
      ">Nav1.8_(D12 Nav1.8_(D12)-RW01_H03_015\n",
      "GCTACACACGTGCTACAATGGACGGTACAAAGGGCAGCAAGACCGCGAGGTTTAGCCAAT\n",
      "CCCATAAAACCGTTCTCAGTTCGGATTGTAAGCTGCAACTCGCCTACATGAAGCTGGAAT\n",
      "CGCTAGTAATCGCGGATCAGCATGCCGCGGTGAATACGTTCCCGGGCCTTGTACACACCG\n",
      "CCCGTCACACCACGAGAGTTTGTAACACCCGAAGTCGGTGAGGTAACCTTTTGGAGCCAG\n",
      "CCGCCTAAGGTGGGACAGATGATTGGGGTGAAGTCGTAACAAGGTAACCGTATCGGAAGG\n",
      "TGC\n",
      ">Nav2.2_(B10 Nav2.2_(B10)-DG7A_F12_012\n",
      "TTCCCCCTTTCATGAAACACAAAGTGGTAATCGTCCTCCCGAAGGTTAGACTAACTACTT\n",
      "CTTTTGCATCCCACTCCCATGGTGTGACGGGCGGTGTGTACAAGGCCCGGGAACGTATTC\n",
      "ACCGCAGTATTCTGACCTGCGATTACTAGCGATTCCGACTTCATGGAGTCGAGTTGCAGA\n",
      "CTCCAATCCGGACTACGACATTCTTTAAGGGGTCCGCTCCACATCACTGTCTCGCTTCCC\n",
      "TCTGTAAATGCCATTGTAGCACGTGTGTAGCCCTACACGTAAGGGCCATGATGACTTGAC\n",
      "GTCATCCCCACTTCCCTCCAGTT\n",
      ">Nav2.2_(D11 Nav2.2_(D11)-RW01_G03_013\n",
      "CTACATACGTGCTACAATGGCATTTACAGAGGGAAGCGAGACAGTGATGTGGAGCGGACC\n",
      "CCTTAAAGAATGTCGTAGTCCGGATTGGAGTCTGCAACTCGACTCCATGAAGTCGGAATC\n",
      "GCTAGTAATCGCAGGTCAGAATACTGCGGTGAATACGTTCCCGGGCCTTGTACACACCGC\n",
      "CCGTCACACCATGGGAGTGGGATGCAAAAGAAGTAGTTAGTCTAACCTTCGGGAGGACGA\n",
      "TTACCACTTTGTGTTTCATGACTGGGGTGAAGTCGTAACAAGGTAACCCTAGGGGAACCT\n",
      "GCGG\n",
      ">PET1.2_(A1 PET1.2_(A1)-DG7A_A10_002\n",
      "ACTTCACCCCAGTCATGAATCACACCGTGGTAACCGTCCTCCCGAAGGTTAGACTAGCTA\n",
      "CTTCTGGTGCAACCCACTCCCATGGTGTGACGGGCGGTGTGTACAAGGCCCGGGAACGTA\n",
      "TTCACCGCGACGTTCTGATTCGCGATTACTAGCGATTCCGACTTCATGGAGTCGAGTTGC\n",
      "AGACTCCAATCCGGACTACGAGAGGCTTTTCGGGATTAGCTCCACCTCGCGGCTTGGCAA\n",
      "CCCTCTGTACCCCCCATTGTAGCACGTGTGTAGCCCTGGCCGTAAGGGCCATGATGACTT\n",
      "GACGTC\n",
      ">PET1.2_(C2 PET1.2_(C2)-RW01_B01_003\n",
      "TTACGGCCAGGGCTACACACGTGCTACAATGGGGGGTACAGAGGGTTGCCAAGCCGCGAG\n",
      "GTGGAGCTAATCCCGAAAAGCCTCTCGTAGTCCGGATTGGAGTCTGCAACTCGACTCCAT\n",
      "GAAGTCGGAATCGCTAGTAATCGCGAATCAGAACGTCGCGGTGAATACGTTCCCGGGCCT\n",
      "TGTACACACCGCCCGTCACACCATGGGAGTGGGTTGCACCAGAAGTAGCTAGTCTAACCT\n",
      "TCGGGAGGACGGTTACCACGGTGTGATTCATGACTGGGGTGAAGTCGTAACAAGGTAGCC\n",
      "GTAGGGGAACCT\n",
      ">PET1.8_(A12 PET1.8_(A12)-DG7A_D11_007\n",
      "CCCCCAGTCATGAATCACACCGTGGTAACCGTCCTCCCGAAGGTTAGACTAGCTACTTCT\n",
      "GGTGCAACCCACTCCCATGGTGTGACGGGCGGTGTGTACAAGGCCCGGGAACGTATTCAC\n",
      "CGTGGCATTCTGATCCACGATTACTAGCGATTCCGACTTCATGGAGTCGAGTTGCAGACT\n",
      "CCAATCCGGACTACGATCGGTTTTATGGGATTAGCTCCACCTCGCGGCTTGGCAACCCTC\n",
      "TGTACCGACCATTGTAGCACGTGTGTAGCCCTGGCCGTAAGGGCCATGATGACTTGACGT\n",
      "CAT\n",
      ">PET1.8_(D1 PET1.8_(D1)-RW01_E02_010\n",
      "TTACTGCCAGGGCTACACACGTGCTACAATGGTCGGTACAGAGGGTTGCCAAGCCGCGAG\n",
      "GTGGAGCTAATCCCATAAAACCGATCGTAGTCCGGATTGGAGTCTGCAACTCGACTCCAT\n",
      "GAAGTCGGAATCGCTAGTAATCGTGGATCAGAATGCCACGGTGAATACGTTCCCGGGCCT\n",
      "TGTACACACCGCCCGTCACACCATGGGAGTGGGTTGCACCAGAAGTAGCTAGTCTAACCT\n",
      "TCGGGAGGACGGTTACCACGGTGTGATTCATGACTGGGGTGAAGTCGTAACAAGGTAGCC\n",
      "GTAGGGGAACCTGCGGTTGATTCCACCTCCT\n",
      ">PET2.2_(A2 PET2.2_(A2)-DG7A_B10_004\n",
      "CACCCCAGTCATGAAACACAAAGTGGTAATCGTCCTCCCGAAGGTTAGACTAACTACTTC\n",
      "TTTTGCATCCCACTCCCATGGTGTGACGGGCGGTGTGTACAAGGCCCGGGAACGTATTCA\n",
      "CCGCAGTATTCTGACCTGCGATTACTAGCGATTCCGACTTCATGGAGTCGAGTTGCAGAC\n",
      "TCCAATCCGGACTACGACATTCTTTAAGGGGTCCGCTCCACATCACTGTCTCGCTTCCCT\n",
      "CTGTAAATGCCATTGTAGCACGTGTGTAGCCCTACACGTAAGGGCCATGATGACTTGACG\n",
      "TCATCCCCACCTTCCCTCCAGTTAA\n",
      ">PET2.2_(C3 PET2.2_(C3)-RW01_C01_005\n",
      "CACGTGCTACAATGGCATTTACAGAGGGAAGCGAGACAGTGATGTGGAGCGGACCCCTTA\n",
      "AAGAATGTCGTAGTCCGGATTGGAGTCTGCAACTCGACTCCATGAAGTCGGAATCGCTAG\n",
      "TAATCGCAGGTCAGAATACTGCGGTGAATACGTTCCCGGGCCTTGTACACACCGCCCGTC\n",
      "ACACCATGGGAGTGGGATGCAAAAGAAGTAGTTAGTCTAACCTTCGGGAGGACGATTACC\n",
      "ACTTTGTGTTTCATGACTGGGGTGAAGTCGTAACAAGGTAACCCTAGGGGAACCTGCGG\n",
      ">PET2.8_(B1 PET2.8_(B1)-DG7A_E11_009\n",
      "TTCCCCCAGTCATGATACACAAAGTGGTAATCGTCCTCCCGAAGGTTAGACTAACTACTT\n",
      "CTTTTGCATCCCACTCCCATGGTGTGACGGGCGGTGTGTACAAGGCCCGGGAACGTATTC\n",
      "ACCGCAGTATTCTGACCTGCGATTACTAGCGATTCCGACTTCATGGAGTCGAGTTGCAGA\n",
      "CTCCAATCCGGACTACGACATTCTTTAAGGGGTCCGCTCCACATCACTGTCTCGCTTCCC\n",
      "TCTGTAAATGCCATTGTAGCACGTGTGTAGCCCTACACGTAAGGGCCATGATGACTTGAC\n",
      "GTCATCCCCACCTCCCTCCAGTT\n",
      ">PET2.8_(D2 PET2.8_(D2)-RW01_F02_012\n",
      "GGCTACACACGTGCTACAATGGCATTTACAGAGGGAAGCGAGACAGTGATGTGGAGCGGA\n",
      "CCCCTTAAAGAATGTCGTAGTCCGGATTGGAGTCTGCAACTCGACTCCATGAAGTCGGAA\n",
      "TCGCTAGTAATCGCAGGTCAGAATACTGCGGTGAATACGTTCCCGGGCCTTGTACACACC\n",
      "GCCCGTCACACCATGGGAGTGGGATGCAAAAGAAGTAGTTAGTCTAACCTTCGGGAGGAC\n",
      "GATTACCACTTTGTGTTTCATGACTGGGGTGAAGTCGTAACAAGGTAACCCTAGGGGAAC\n",
      "CTGC\n",
      ">PETsn1.2_(A3 PETsn1.2_(A3)-DG7A_C10_006\n",
      "TTCACCCCAGTCATGAAACACAAAGTGGTAATCGTCCTCCCGAAGGTTAGACTAACTACT\n",
      "TCTTTTGCATCCCACTCCCATGGTGTGACGGGCGGTGTGTACAAGGCCCGGGAACGTATT\n",
      "CACCGCAGTATTCTGACCTGCGATTACTAGCGATTCCGACTTCATGGAGTCGAGTTGCAG\n",
      "ACTCCAATCCGGACTACGACATTCTTTAAGGGGTCCGCTCCACATCACTGTCTCGCTTCC\n",
      "CTCTGTAAATGCCATTGTAGCACGTGTGTAGCCCTACACGTAAGGGCCATGATGACTTGA\n",
      "CGTC\n",
      ">PETsn1.2_(C4 PETsn1.2_(C4)-RW01_D01_007\n",
      "GGGCTACACACGTGCTACAATGGCATTTACAGAGGGAAGCGAGACAGTGATGTGGAGCGG\n",
      "ACCCCTTAAAGAATGTCGTAGTCCGGATTGGAGTCTGCAACTCGACTCCATGAAGTCGGA\n",
      "ATCGCTAGTAATCGCAGGTCAGAATACTGCGGTGAATACGTTCCCGGGCCTTGTACACAC\n",
      "CGCCCGTCACACCATGGGAGTGGGATGCAAAAGAAGTAGTTAGTCTAACCTTCGGGAGGA\n",
      "CGATTACCACTTTGTGTTTCATGACTGGGGTGAAGTCGTAACAAGGTAACCCTAGGGGAA\n",
      "CCTGCG\n",
      ">PETsn1.8_(B2 PETsn1.8_(B2)-DG7A_F11_011\n",
      "GGATTTTGCCGGCTTCTCTCTCCTATTTCATGTATACACAAAGTGGTAATCGTCCTCCCG\n",
      "AAGGTTAGACTAACTACTTCTTTTGCATCCCACTCCCATGGTGTGACGGGCGGTGTGTAC\n",
      "AAGGCCCGGGAACGTATTCACCGCAGTATTCTGACCTGCGATTACTAGCGATTCCGACTT\n",
      "CATGGAGTCGAGTTGCAGACTCCAATCCGGACTACGACATTCTTTAAGGGGTCCGCTCCA\n",
      "CATCACTGTCTCGCTTCCCTCTGTAAATGCCATTGTAGCACGTGTGTAGCCCTACACGTA\n",
      "AGGGCCATGATGACTTGACGTCATCCCCACCTTCCCTCCAGTTA\n",
      ">PETsn1.8_(D3 PETsn1.8_(D3)-RW01_G02_014\n",
      "TACAATGGCATTTACCGAGGGAAGCGAGACAGTGATGTGGAGCGGACCCCTTAAAGAATG\n",
      "TCGTAGTCCGGATTGGAGTCTGCAACTCGACTCCATGAAGTCGGAATCGCTAGTAATCGC\n",
      "AGGTCAGAATACTGCGGTGAATACGTTCCCGGGCCTTGTACACACCGCCCGTCACACCAT\n",
      "GGGAGTGGGATGCAAAAGAAGTAGTTAGTCTAACCTTCGGGAGGACGATTACCACTTTGT\n",
      "GTTTCATGACTGGGGTGAAGTCGTAACAAGGTAACCCTAGGGGAACCTGCGGTTGGATCA\n",
      "CC\n",
      ">PHBb1.2_(A8 PHBb1.2_(A8)-DG7A_H10_016\n",
      "TCGACTTCACCCCAGTCGCTGATCCTACCGTGGCCGCCTGCCCCCCGAAGGTTAGCGCAG\n",
      "CGTCGTCGGGTAGAACCAACTCCCATGGTGTGACGGGCGGTGTGTACAAGGCCCGGGAAC\n",
      "GTATTCACCGCGTCATGCTGTTACGCGATTACTAGCGATTCCGACTTCATGGGGTCGAGT\n",
      "TGCAGACCCCAATCCGAACTGAGACAGCTTTTTGGGATTAACCCATTGTCACTGCCATTG\n",
      "TAGCACGTGTGTAGCCCAACCCGTAAGGGCCATGAGGACTTGACGTCAT\n",
      ">PHBb1.2_(C9 PHBb1.2_(C9)-RW01_A02_002\n",
      "TTACGAGGTTGGGCTACACACGTGCTACAATGGCAGTGACAATGGGTTAATCCCAAAAAG\n",
      "CTGTCTCAGTTCGGATTGGGGTCTGCAACTCGACCCCATGAAGTCGGAATCGCTAGTAAT\n",
      "CGCGTAACAGCATGACGCGGTGAATACGTTCCCGGGCCTTGTACACACCGCCCGTCACAC\n",
      "CATGGGAGTTGGTTCTACCCGACGACGCTGCGCTAACCTTCGGGGGGCAGGCGGCCACGG\n",
      "TAGGATCAGCGACTGGGGTGAAGTCGTAACAAGGTAGCCGTAGGGGAACCTGC\n"
     ]
    }
   ],
   "source": [
    "!more \"../fasta/secuencias.fasta\""
   ]
  },
  {
   "cell_type": "markdown",
   "metadata": {},
   "source": [
    "## de qué manera podría cambiarle los nombres de descripción a las secuencias?"
   ]
  },
  {
   "cell_type": "markdown",
   "metadata": {},
   "source": [
    "## utilice el Mega y compare sus resultados"
   ]
  },
  {
   "cell_type": "markdown",
   "metadata": {},
   "source": [
    "## guarde el archivo en formato del GenBank"
   ]
  },
  {
   "cell_type": "raw",
   "metadata": {
    "collapsed": true
   },
   "source": [
    "mkdir \"../genbank\""
   ]
  },
  {
   "cell_type": "code",
   "execution_count": 52,
   "metadata": {},
   "outputs": [
    {
     "data": {
      "text/plain": [
       "0"
      ]
     },
     "execution_count": 52,
     "metadata": {},
     "output_type": "execute_result"
    }
   ],
   "source": [
    "SeqIO.write(secuencias, \"../genbank/secuencias.gb\", \"genbank\")\n"
   ]
  },
  {
   "cell_type": "markdown",
   "metadata": {
    "collapsed": true
   },
   "source": [
    "### revise el archivo ../genbank/secuencias.gb, explique qué observa"
   ]
  },
  {
   "cell_type": "code",
   "execution_count": null,
   "metadata": {
    "collapsed": true,
    "scrolled": true
   },
   "outputs": [],
   "source": [
    "!more \"../genbank/secuencias.gb\""
   ]
  },
  {
   "cell_type": "code",
   "execution_count": null,
   "metadata": {
    "collapsed": true
   },
   "outputs": [],
   "source": []
  },
  {
   "cell_type": "code",
   "execution_count": null,
   "metadata": {
    "collapsed": true
   },
   "outputs": [],
   "source": []
  },
  {
   "cell_type": "markdown",
   "metadata": {},
   "source": [
    "## Graficado del electroferograma"
   ]
  },
  {
   "cell_type": "markdown",
   "metadata": {},
   "source": [
    "Seleccionar un archivo para leerlo"
   ]
  },
  {
   "cell_type": "code",
   "execution_count": null,
   "metadata": {
    "collapsed": true
   },
   "outputs": [],
   "source": [
    "record = SeqIO.read('Nav1.2_(B9)-DG7A_E12_010.ab1', 'abi')"
   ]
  },
  {
   "cell_type": "code",
   "execution_count": null,
   "metadata": {
    "collapsed": true
   },
   "outputs": [],
   "source": [
    "record.annotations.keys()\n",
    "record.annotations['abif_raw'].keys()\n",
    "channels = ['DATA9', 'DATA10', 'DATA11', 'DATA12']\n",
    "trace = defaultdict(list)"
   ]
  },
  {
   "cell_type": "markdown",
   "metadata": {},
   "source": [
    "## qué contiene la variable channels?"
   ]
  },
  {
   "cell_type": "code",
   "execution_count": null,
   "metadata": {
    "collapsed": true
   },
   "outputs": [],
   "source": []
  },
  {
   "cell_type": "code",
   "execution_count": null,
   "metadata": {
    "collapsed": true
   },
   "outputs": [],
   "source": []
  },
  {
   "cell_type": "code",
   "execution_count": null,
   "metadata": {
    "collapsed": true
   },
   "outputs": [],
   "source": [
    "for c in channels:\n",
    "    trace[c] = record.annotations['abif_raw'][c]"
   ]
  },
  {
   "cell_type": "code",
   "execution_count": null,
   "metadata": {
    "collapsed": true
   },
   "outputs": [],
   "source": [
    "plt.plot(trace['DATA9'], color='blue')\n",
    "plt.plot(trace['DATA10'], color='red')\n",
    "plt.plot(trace['DATA11'], color='green')\n",
    "plt.plot(trace['DATA12'], color='yellow')\n",
    "plt.show()"
   ]
  },
  {
   "cell_type": "markdown",
   "metadata": {},
   "source": [
    "### Describa qué hacen los siguientes comandos"
   ]
  },
  {
   "cell_type": "code",
   "execution_count": null,
   "metadata": {
    "collapsed": true
   },
   "outputs": [],
   "source": [
    "plt.figure(figsize=(16,4))\n",
    "plt.plot(trace['DATA9'], color='blue')\n",
    "plt.plot(trace['DATA10'], color='red')\n",
    "plt.plot(trace['DATA11'], color='green')\n",
    "plt.plot(trace['DATA12'], color='yellow')\n",
    "plt.xlim(0,1000)  # se utiliza valores de 1000 como maximo\n",
    "plt.show()"
   ]
  },
  {
   "cell_type": "code",
   "execution_count": null,
   "metadata": {
    "collapsed": true
   },
   "outputs": [],
   "source": [
    "plt.figure(figsize=(16,4))\n",
    "plt.plot(trace['DATA9'], color='blue')\n",
    "plt.plot(trace['DATA10'], color='red')\n",
    "plt.plot(trace['DATA11'], color='green')\n",
    "plt.plot(trace['DATA12'], color='yellow')\n",
    "plt.xlim(1000,2000)  # se utiliza valores de 1000 como maximo\n",
    "plt.show()"
   ]
  },
  {
   "cell_type": "code",
   "execution_count": null,
   "metadata": {
    "collapsed": true
   },
   "outputs": [],
   "source": [
    "def graficado(x1,x2):\n",
    "    plt.figure(figsize=(16,4))\n",
    "    plt.plot(trace['DATA9'], color='blue')\n",
    "    plt.plot(trace['DATA10'], color='red')\n",
    "    plt.plot(trace['DATA11'], color='green')\n",
    "    plt.plot(trace['DATA12'], color='yellow')\n",
    "    plt.xlim(x1,x2)  # se utiliza valores de 1000 como maximo\n",
    "    plt.show()"
   ]
  },
  {
   "cell_type": "code",
   "execution_count": null,
   "metadata": {
    "collapsed": true
   },
   "outputs": [],
   "source": [
    "graficado (2000,3000)"
   ]
  },
  {
   "cell_type": "code",
   "execution_count": null,
   "metadata": {
    "collapsed": true
   },
   "outputs": [],
   "source": [
    "intervalos = range(1000,6000,1000)\n",
    "intervalos"
   ]
  },
  {
   "cell_type": "code",
   "execution_count": null,
   "metadata": {
    "collapsed": true,
    "scrolled": false
   },
   "outputs": [],
   "source": [
    "for intervalo in intervalos:\n",
    "    graficado (intervalo-1000,intervalo)"
   ]
  },
  {
   "cell_type": "code",
   "execution_count": null,
   "metadata": {
    "collapsed": true
   },
   "outputs": [],
   "source": []
  },
  {
   "cell_type": "markdown",
   "metadata": {},
   "source": [
    "## Cómo se compara esta información con la observada con el MEGA?"
   ]
  },
  {
   "cell_type": "code",
   "execution_count": null,
   "metadata": {
    "collapsed": true
   },
   "outputs": [],
   "source": []
  }
 ],
 "metadata": {
  "kernelspec": {
   "display_name": "Python 3",
   "language": "python",
   "name": "python3"
  },
  "language_info": {
   "codemirror_mode": {
    "name": "ipython",
    "version": 3
   },
   "file_extension": ".py",
   "mimetype": "text/x-python",
   "name": "python",
   "nbconvert_exporter": "python",
   "pygments_lexer": "ipython3",
   "version": "3.6.3"
  }
 },
 "nbformat": 4,
 "nbformat_minor": 2
}
