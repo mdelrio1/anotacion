{
 "cells": [
  {
   "cell_type": "markdown",
   "metadata": {},
   "source": [
    "# Bitacora para el manejo de secuencias fasta y busqueda basica de *Blastn* y *Blastx*\n"
   ]
  },
  {
   "cell_type": "markdown",
   "metadata": {},
   "source": [
    "## se requiere tener instalado el blast en la maquina y la base de datos del 16s microbiano "
   ]
  },
  {
   "cell_type": "markdown",
   "metadata": {},
   "source": [
    "# Describir en la celda siguiente lo que realiza cada comando utilizando Markdown"
   ]
  },
  {
   "cell_type": "code",
   "execution_count": 1,
   "metadata": {},
   "outputs": [
    {
     "data": {
      "text/plain": [
       "'C:\\\\Users\\\\labgenac\\\\Desktop\\\\jupyter'"
      ]
     },
     "execution_count": 1,
     "metadata": {},
     "output_type": "execute_result"
    }
   ],
   "source": [
    "pwd"
   ]
  },
  {
   "cell_type": "code",
   "execution_count": null,
   "metadata": {
    "collapsed": true
   },
   "outputs": [],
   "source": [
    "cd "
   ]
  },
  {
   "cell_type": "code",
   "execution_count": null,
   "metadata": {
    "collapsed": true
   },
   "outputs": [],
   "source": [
    "pwd"
   ]
  },
  {
   "cell_type": "code",
   "execution_count": null,
   "metadata": {
    "collapsed": true,
    "scrolled": false
   },
   "outputs": [],
   "source": [
    "!more \"../data/fasta/secuencias.fasta\""
   ]
  },
  {
   "cell_type": "code",
   "execution_count": null,
   "metadata": {
    "collapsed": true
   },
   "outputs": [],
   "source": [
    "# cuantas secuencias hay?\n",
    "# utilice el comando de linux \">\" para saber cuantas secuencias se tienen\n",
    "!find \">\" \"../data/fasta/secuencias.fasta\""
   ]
  },
  {
   "cell_type": "markdown",
   "metadata": {},
   "source": [
    "# Blastn"
   ]
  },
  {
   "cell_type": "markdown",
   "metadata": {},
   "source": [
    "## Para el siguiente ejercicio es necesario tener el Blast+ instalado en la computadora\n",
    "https://www.ncbi.nlm.nih.gov/guide/data-software/\n",
    "## y tener instalada la base de datos de taxonomica"
   ]
  },
  {
   "cell_type": "code",
   "execution_count": null,
   "metadata": {
    "collapsed": true
   },
   "outputs": [],
   "source": [
    "ls \"../jupyter/img/\""
   ]
  },
  {
   "cell_type": "code",
   "execution_count": null,
   "metadata": {
    "collapsed": true
   },
   "outputs": [],
   "source": [
    "Image.open('../jupyter/img/blast00.png')"
   ]
  },
  {
   "cell_type": "markdown",
   "metadata": {},
   "source": [
    "## Revise el manual del Blast y describa qué realizan los siguientes comandos y describalos en las siguientes celdas\n",
    "https://www.ncbi.nlm.nih.gov/books/NBK279690/\n",
    "\n",
    "en pdf\n",
    "\n",
    "https://www.ncbi.nlm.nih.gov/books/NBK279690/pdf/Bookshelf_NBK279690.pdf\n"
   ]
  },
  {
   "cell_type": "markdown",
   "metadata": {},
   "source": [
    "### Corroborar que el archivo *secuencias.fasta* se encuentra en la dirección adecuada"
   ]
  },
  {
   "cell_type": "code",
   "execution_count": 2,
   "metadata": {},
   "outputs": [
    {
     "name": "stdout",
     "output_type": "stream",
     "text": [
      "C:\\Users\\labgenac\\Desktop\\bigdata\\16SMicrobial\n"
     ]
    }
   ],
   "source": [
    "cd \"C:\\Users\\labgenac\\Desktop\\bigdata\\16SMicrobial\\\""
   ]
  },
  {
   "cell_type": "code",
   "execution_count": 3,
   "metadata": {},
   "outputs": [
    {
     "name": "stdout",
     "output_type": "stream",
     "text": [
      " El volumen de la unidad C es Windows\n",
      " El número de serie del volumen es: 40EA-5D95\n",
      "\n",
      " Directorio de C:\\Users\\labgenac\\Desktop\\bigdata\\16SMicrobial\n",
      "\n",
      "24/07/2018  06:01 p. m.    <DIR>          .\n",
      "24/07/2018  06:01 p. m.    <DIR>          ..\n",
      "14/07/2018  11:05 p. m.         3,248,539 16SMicrobial.nhr\n",
      "14/07/2018  11:05 p. m.           241,304 16SMicrobial.nin\n",
      "14/07/2018  11:05 p. m.           163,032 16SMicrobial.nnd\n",
      "14/07/2018  11:05 p. m.               684 16SMicrobial.nni\n",
      "14/07/2018  11:05 p. m.            80,436 16SMicrobial.nog\n",
      "14/07/2018  11:05 p. m.           670,258 16SMicrobial.nsd\n",
      "14/07/2018  11:05 p. m.            14,978 16SMicrobial.nsi\n",
      "14/07/2018  11:05 p. m.         7,421,058 16SMicrobial.nsq\n",
      "18/07/2018  12:31 p. m.       140,605,440 16SMicrobial.tar\n",
      "17/07/2018  12:46 a. m.       116,995,133 taxdb.btd\n",
      "17/07/2018  12:46 a. m.        12,478,792 taxdb.bti\n",
      "19/07/2018  03:21 p. m.       129,484,800 taxdb.tar\n",
      "              12 archivos    411,404,454 bytes\n",
      "               2 dirs  872,305,758,208 bytes libres\n"
     ]
    }
   ],
   "source": [
    "ls"
   ]
  },
  {
   "cell_type": "code",
   "execution_count": 4,
   "metadata": {},
   "outputs": [
    {
     "name": "stdout",
     "output_type": "stream",
     "text": [
      " El volumen de la unidad C es Windows\n",
      " El número de serie del volumen es: 40EA-5D95\n",
      "\n",
      " Directorio de C:\\Users\\labgenac\\Desktop\\data\\fasta\n",
      "\n",
      "24/07/2018  06:01 p. m.    <DIR>          .\n",
      "24/07/2018  06:01 p. m.    <DIR>          ..\n",
      "10/01/2018  05:23 p. m.             7,220 secuencias.fasta\n",
      "23/07/2018  09:27 p. m.             6,032 secuencias_anotadas.aln\n",
      "23/07/2018  09:27 p. m.               389 secuencias_anotadas.dnd\n",
      "24/07/2018  09:26 a. m.             4,323 secuencias_anotadas.fasta\n",
      "24/07/2018  09:30 a. m.             4,836 secuencias_anotadas.masx\n",
      "24/07/2018  09:29 a. m.             4,485 secuencias_anotadas.meg\n",
      "23/07/2018  09:31 p. m.             4,843 secuencias_completas.aln\n",
      "23/07/2018  09:31 p. m.               253 secuencias_completas.dnd\n",
      "10/01/2018  10:06 p. m.             3,423 secuencias_completas.fas\n",
      "               9 archivos         35,804 bytes\n",
      "               2 dirs  872,305,500,160 bytes libres\n"
     ]
    }
   ],
   "source": [
    "ls \"../../data/fasta\""
   ]
  },
  {
   "cell_type": "code",
   "execution_count": 5,
   "metadata": {},
   "outputs": [],
   "source": [
    "!blastn -query ../../data/fasta/secuencias.fasta \\\n",
    "-db 16SMicrobial -out ../../data/fasta/secuencias.tab \\\n",
    "-evalue 1E-6 -max_target_seqs 1 -num_threads 2 \\\n",
    "-outfmt \"6 std sskingdoms stitle staxids sscinames scomnames sblastnames\" \n"
   ]
  },
  {
   "cell_type": "raw",
   "metadata": {
    "collapsed": true
   },
   "source": [
    "!blastn -query ../data/fasta/secuencias.fasta -db 16SMicrobial -out ../data/fasta/secuencias.tab -evalue 1E-6 -max_target_seqs 5 -num_threads 2 -outfmt \"6 std sskingdoms stitle staxids sscinames scomnames sblastnames\" \n"
   ]
  },
  {
   "cell_type": "code",
   "execution_count": 6,
   "metadata": {
    "scrolled": false
   },
   "outputs": [
    {
     "name": "stdout",
     "output_type": "stream",
     "text": [
      "Nav1.2_(B9      NR_151897.1     95.469  309     13      1       1       308     1495    1187    5.10e-139       492     Bacteria        Bacillus nakamurai strain NRRL B-41091 16S ribosomal RNA, partial sequence      1793963 Bacillus sp. NRRL B-41091       Bacillus sp. NRRL B-41091       firmicutes\n",
      "Nav1.2_(D10     NR_115063.1     98.058  309     3       3       1       306     1214    1522    8.30e-152       534     Bacteria        Bacillus halotolerans strain DSM 8802 16S ribosomal RNA, partial sequence       260554  [Brevibacterium] halotolerans   [Brevibacterium] halotolerans   firmicutes\n",
      "Nav1.8_(B11     NR_025241.1     99.032  310     2       1       1       309     1478    1169    6.44e-158       555     Bacteria        Bacillus aquimaris strain TF-12 16S ribosomal RNA gene, partial sequence        189382  Bacillus aquimaris      Bacillus aquimaris      firmicutes\n",
      "Nav1.8_(D12     NR_025241.1     99.340  303     2       0       1       303     1205    1507    2.93e-156       549     Bacteria        Bacillus aquimaris strain TF-12 16S ribosomal RNA gene, partial sequence        189382  Bacillus aquimaris      Bacillus aquimaris      firmicutes\n",
      "Nav2.2_(B10     NR_148756.1     97.840  324     6       1       1       323     1483    1160    5.22e-159       558     Bacteria        Alteromonas mediterranea strain DE 16S ribosomal RNA, complete sequence 314275  Alteromonas macleodii str. 'Deep ecotype'       Alteromonas macleodii str. 'Deep ecotype'       g-proteobacteria\n",
      "Nav2.2_(D11     NR_148756.1     99.668  301     1       0       1       301     1213    1513    8.19e-157       551     Bacteria        Alteromonas mediterranea strain DE 16S ribosomal RNA, complete sequence 314275  Alteromonas macleodii str. 'Deep ecotype'       Alteromonas macleodii str. 'Deep ecotype'       g-proteobacteria\n",
      "PET1.2_(A1      NR_148798.1     98.052  308     4       2       1       306     1466    1159    8.30e-152       534     Bacteria        Pseudomonas populi strain KBL-4-9 16S ribosomal RNA, partial sequence   1500966 Pseudomonas sp. KBL-4-9 Pseudomonas sp. KBL-4-9 g-proteobacteria\n",
      "PET1.2_(C2      NR_074812.1     97.436  312     8       0       1       312     1204    1515    3.05e-151       532     Bacteria        Hahella chejuensis strain KCTC 2396 16S ribosomal RNA, complete sequence        158327  Hahella chejuensis      Hahella chejuensis      g-proteobacteria\n",
      "PET1.8_(A12     NR_152090.1     100.000 302     0       0       2       303     1477    1176    4.87e-159       558     Bacteria        Pseudomonas oceani strain DSM 100277 16S ribosomal RNA, partial sequence        1708783 Pseudomonas sp. DSM 100277      Pseudomonas sp. DSM 100277      g-proteobacteria\n",
      "PET1.8_(D1      NR_152090.1     99.663  297     1       0       1       297     1199    1495    1.50e-154       544     Bacteria        Pseudomonas oceani strain DSM 100277 16S ribosomal RNA, partial sequence        1708783 Pseudomonas sp. DSM 100277      Pseudomonas sp. DSM 100277      g-proteobacteria\n",
      "PET2.2_(A2      NR_148756.1     99.071  323     2       1       1       323     1481    1160    4.04e-165       579     Bacteria        Alteromonas mediterranea strain DE 16S ribosomal RNA, complete sequence 314275  Alteromonas macleodii str. 'Deep ecotype'       Alteromonas macleodii str. 'Deep ecotype'       g-proteobacteria\n",
      "PET2.2_(C3      NR_148756.1     100.000 296     0       0       1       296     1218    1513    1.04e-155       547     Bacteria        Alteromonas mediterranea strain DE 16S ribosomal RNA, complete sequence 314275  Alteromonas macleodii str. 'Deep ecotype'       Alteromonas macleodii str. 'Deep ecotype'       g-proteobacteria\n",
      "PET2.8_(B1      NR_148756.1     98.457  324     4       1       1       323     1483    1160    2.41e-162       569     Bacteria        Alteromonas mediterranea strain DE 16S ribosomal RNA, complete sequence 314275  Alteromonas macleodii str. 'Deep ecotype'       Alteromonas macleodii str. 'Deep ecotype'       g-proteobacteria\n",
      "PET2.8_(D2      NR_148756.1     100.000 303     0       0       1       303     1211    1513    1.36e-159       560     Bacteria        Alteromonas mediterranea strain DE 16S ribosomal RNA, complete sequence 314275  Alteromonas macleodii str. 'Deep ecotype'       Alteromonas macleodii str. 'Deep ecotype'       g-proteobacteria\n",
      "PETsn1.2_(A3    NR_148756.1     100.000 304     0       0       1       304     1483    1180    3.78e-160       562     Bacteria        Alteromonas mediterranea strain DE 16S ribosomal RNA, complete sequence 314275  Alteromonas macleodii str. 'Deep ecotype'       Alteromonas macleodii str. 'Deep ecotype'       g-proteobacteria\n",
      "PETsn1.2_(C4    NR_148756.1     100.000 304     0       0       1       304     1210    1513    3.81e-160       562     Bacteria        Alteromonas mediterranea strain DE 16S ribosomal RNA, complete sequence 314275  Alteromonas macleodii str. 'Deep ecotype'       Alteromonas macleodii str. 'Deep ecotype'       g-proteobacteria\n",
      "PETsn1.8_(B2    NR_148756.1     98.418  316     3       2       28      343     1473    1160    7.23e-158       555     Bacteria        Alteromonas mediterranea strain DE 16S ribosomal RNA, complete sequence 314275  Alteromonas macleodii str. 'Deep ecotype'       Alteromonas macleodii str. 'Deep ecotype'       g-proteobacteria\n",
      "PETsn1.8_(D3    NR_148756.1     99.338  302     2       0       1       302     1225    1526    1.05e-155       547     Bacteria        Alteromonas mediterranea strain DE 16S ribosomal RNA, complete sequence 314275  Alteromonas macleodii str. 'Deep ecotype'       Alteromonas macleodii str. 'Deep ecotype'       g-proteobacteria\n",
      "PHBb1.2_(A8     NR_112983.1     100.000 288     0       0       2       289     1402    1115    2.81e-151       532     Bacteria        Litoreibacter janthinus strain KMM 3842 16S ribosomal RNA gene, partial sequence        670154  Litoreibacter janthinus Litoreibacter janthinus a-proteobacteria\n",
      "PHBb1.2_(C9     NR_112983.1     99.659  293     0       1       1       293     1138    1429    7.92e-152       534     Bacteria        Litoreibacter janthinus strain KMM 3842 16S ribosomal RNA gene, partial sequence        670154  Litoreibacter janthinus Litoreibacter janthinus a-proteobacteria\n"
     ]
    }
   ],
   "source": [
    "!more \"../../data/fasta/secuencias.tab\""
   ]
  },
  {
   "cell_type": "markdown",
   "metadata": {},
   "source": [
    "### Revise el manual del Blast y describa qué valores obtendrá en el archivo de salida"
   ]
  },
  {
   "cell_type": "code",
   "execution_count": null,
   "metadata": {},
   "outputs": [],
   "source": []
  },
  {
   "cell_type": "code",
   "execution_count": null,
   "metadata": {},
   "outputs": [],
   "source": []
  },
  {
   "cell_type": "code",
   "execution_count": null,
   "metadata": {},
   "outputs": [],
   "source": []
  },
  {
   "cell_type": "code",
   "execution_count": 7,
   "metadata": {},
   "outputs": [
    {
     "data": {
      "text/plain": [
       "'C:\\\\Users\\\\labgenac\\\\Desktop\\\\bigdata\\\\16SMicrobial'"
      ]
     },
     "execution_count": 7,
     "metadata": {},
     "output_type": "execute_result"
    }
   ],
   "source": [
    "pwd"
   ]
  },
  {
   "cell_type": "code",
   "execution_count": 8,
   "metadata": {},
   "outputs": [
    {
     "name": "stdout",
     "output_type": "stream",
     "text": [
      "C:\\Users\\labgenac\\Desktop\\data\\fasta\n"
     ]
    }
   ],
   "source": [
    "cd ~/Desktop/data/fasta"
   ]
  },
  {
   "cell_type": "code",
   "execution_count": 9,
   "metadata": {},
   "outputs": [
    {
     "name": "stdout",
     "output_type": "stream",
     "text": [
      " El volumen de la unidad C es Windows\n",
      " El número de serie del volumen es: 40EA-5D95\n",
      "\n",
      " Directorio de C:\\Users\\labgenac\\Desktop\\data\\fasta\n",
      "\n",
      "24/07/2018  08:02 p. m.    <DIR>          .\n",
      "24/07/2018  08:02 p. m.    <DIR>          ..\n",
      "10/01/2018  05:23 p. m.             7,220 secuencias.fasta\n",
      "24/07/2018  08:02 p. m.             4,828 secuencias.tab\n",
      "23/07/2018  09:27 p. m.             6,032 secuencias_anotadas.aln\n",
      "23/07/2018  09:27 p. m.               389 secuencias_anotadas.dnd\n",
      "24/07/2018  09:26 a. m.             4,323 secuencias_anotadas.fasta\n",
      "24/07/2018  09:30 a. m.             4,836 secuencias_anotadas.masx\n",
      "24/07/2018  09:29 a. m.             4,485 secuencias_anotadas.meg\n",
      "23/07/2018  09:31 p. m.             4,843 secuencias_completas.aln\n",
      "23/07/2018  09:31 p. m.               253 secuencias_completas.dnd\n",
      "10/01/2018  10:06 p. m.             3,423 secuencias_completas.fas\n",
      "              10 archivos         40,632 bytes\n",
      "               2 dirs  872,117,043,200 bytes libres\n"
     ]
    }
   ],
   "source": [
    "ls"
   ]
  },
  {
   "cell_type": "code",
   "execution_count": 10,
   "metadata": {
    "scrolled": false
   },
   "outputs": [
    {
     "name": "stdout",
     "output_type": "stream",
     "text": [
      "Nav1.2_(B9      NR_151897.1     95.469  309     13      1       1       308     1495    1187    5.10e-139       492     Bacteria        Bacillus nakamurai strain NRRL B-41091 16S ribosomal RNA, partial sequence      1793963 Bacillus sp. NRRL B-41091       Bacillus sp. NRRL B-41091       firmicutes\n",
      "Nav1.2_(D10     NR_115063.1     98.058  309     3       3       1       306     1214    1522    8.30e-152       534     Bacteria        Bacillus halotolerans strain DSM 8802 16S ribosomal RNA, partial sequence       260554  [Brevibacterium] halotolerans   [Brevibacterium] halotolerans   firmicutes\n",
      "Nav1.8_(B11     NR_025241.1     99.032  310     2       1       1       309     1478    1169    6.44e-158       555     Bacteria        Bacillus aquimaris strain TF-12 16S ribosomal RNA gene, partial sequence        189382  Bacillus aquimaris      Bacillus aquimaris      firmicutes\n",
      "Nav1.8_(D12     NR_025241.1     99.340  303     2       0       1       303     1205    1507    2.93e-156       549     Bacteria        Bacillus aquimaris strain TF-12 16S ribosomal RNA gene, partial sequence        189382  Bacillus aquimaris      Bacillus aquimaris      firmicutes\n",
      "Nav2.2_(B10     NR_148756.1     97.840  324     6       1       1       323     1483    1160    5.22e-159       558     Bacteria        Alteromonas mediterranea strain DE 16S ribosomal RNA, complete sequence 314275  Alteromonas macleodii str. 'Deep ecotype'       Alteromonas macleodii str. 'Deep ecotype'       g-proteobacteria\n",
      "Nav2.2_(D11     NR_148756.1     99.668  301     1       0       1       301     1213    1513    8.19e-157       551     Bacteria        Alteromonas mediterranea strain DE 16S ribosomal RNA, complete sequence 314275  Alteromonas macleodii str. 'Deep ecotype'       Alteromonas macleodii str. 'Deep ecotype'       g-proteobacteria\n",
      "PET1.2_(A1      NR_148798.1     98.052  308     4       2       1       306     1466    1159    8.30e-152       534     Bacteria        Pseudomonas populi strain KBL-4-9 16S ribosomal RNA, partial sequence   1500966 Pseudomonas sp. KBL-4-9 Pseudomonas sp. KBL-4-9 g-proteobacteria\n",
      "PET1.2_(C2      NR_074812.1     97.436  312     8       0       1       312     1204    1515    3.05e-151       532     Bacteria        Hahella chejuensis strain KCTC 2396 16S ribosomal RNA, complete sequence        158327  Hahella chejuensis      Hahella chejuensis      g-proteobacteria\n",
      "PET1.8_(A12     NR_152090.1     100.000 302     0       0       2       303     1477    1176    4.87e-159       558     Bacteria        Pseudomonas oceani strain DSM 100277 16S ribosomal RNA, partial sequence        1708783 Pseudomonas sp. DSM 100277      Pseudomonas sp. DSM 100277      g-proteobacteria\n",
      "PET1.8_(D1      NR_152090.1     99.663  297     1       0       1       297     1199    1495    1.50e-154       544     Bacteria        Pseudomonas oceani strain DSM 100277 16S ribosomal RNA, partial sequence        1708783 Pseudomonas sp. DSM 100277      Pseudomonas sp. DSM 100277      g-proteobacteria\n",
      "PET2.2_(A2      NR_148756.1     99.071  323     2       1       1       323     1481    1160    4.04e-165       579     Bacteria        Alteromonas mediterranea strain DE 16S ribosomal RNA, complete sequence 314275  Alteromonas macleodii str. 'Deep ecotype'       Alteromonas macleodii str. 'Deep ecotype'       g-proteobacteria\n",
      "PET2.2_(C3      NR_148756.1     100.000 296     0       0       1       296     1218    1513    1.04e-155       547     Bacteria        Alteromonas mediterranea strain DE 16S ribosomal RNA, complete sequence 314275  Alteromonas macleodii str. 'Deep ecotype'       Alteromonas macleodii str. 'Deep ecotype'       g-proteobacteria\n",
      "PET2.8_(B1      NR_148756.1     98.457  324     4       1       1       323     1483    1160    2.41e-162       569     Bacteria        Alteromonas mediterranea strain DE 16S ribosomal RNA, complete sequence 314275  Alteromonas macleodii str. 'Deep ecotype'       Alteromonas macleodii str. 'Deep ecotype'       g-proteobacteria\n",
      "PET2.8_(D2      NR_148756.1     100.000 303     0       0       1       303     1211    1513    1.36e-159       560     Bacteria        Alteromonas mediterranea strain DE 16S ribosomal RNA, complete sequence 314275  Alteromonas macleodii str. 'Deep ecotype'       Alteromonas macleodii str. 'Deep ecotype'       g-proteobacteria\n",
      "PETsn1.2_(A3    NR_148756.1     100.000 304     0       0       1       304     1483    1180    3.78e-160       562     Bacteria        Alteromonas mediterranea strain DE 16S ribosomal RNA, complete sequence 314275  Alteromonas macleodii str. 'Deep ecotype'       Alteromonas macleodii str. 'Deep ecotype'       g-proteobacteria\n",
      "PETsn1.2_(C4    NR_148756.1     100.000 304     0       0       1       304     1210    1513    3.81e-160       562     Bacteria        Alteromonas mediterranea strain DE 16S ribosomal RNA, complete sequence 314275  Alteromonas macleodii str. 'Deep ecotype'       Alteromonas macleodii str. 'Deep ecotype'       g-proteobacteria\n",
      "PETsn1.8_(B2    NR_148756.1     98.418  316     3       2       28      343     1473    1160    7.23e-158       555     Bacteria        Alteromonas mediterranea strain DE 16S ribosomal RNA, complete sequence 314275  Alteromonas macleodii str. 'Deep ecotype'       Alteromonas macleodii str. 'Deep ecotype'       g-proteobacteria\n",
      "PETsn1.8_(D3    NR_148756.1     99.338  302     2       0       1       302     1225    1526    1.05e-155       547     Bacteria        Alteromonas mediterranea strain DE 16S ribosomal RNA, complete sequence 314275  Alteromonas macleodii str. 'Deep ecotype'       Alteromonas macleodii str. 'Deep ecotype'       g-proteobacteria\n",
      "PHBb1.2_(A8     NR_112983.1     100.000 288     0       0       2       289     1402    1115    2.81e-151       532     Bacteria        Litoreibacter janthinus strain KMM 3842 16S ribosomal RNA gene, partial sequence        670154  Litoreibacter janthinus Litoreibacter janthinus a-proteobacteria\n",
      "PHBb1.2_(C9     NR_112983.1     99.659  293     0       1       1       293     1138    1429    7.92e-152       534     Bacteria        Litoreibacter janthinus strain KMM 3842 16S ribosomal RNA gene, partial sequence        670154  Litoreibacter janthinus Litoreibacter janthinus a-proteobacteria\n"
     ]
    }
   ],
   "source": [
    "!more secuencias.tab"
   ]
  },
  {
   "cell_type": "markdown",
   "metadata": {},
   "source": [
    "## se requiere visualizar los datos, para ello se utiliza el manejo de bases de datos que tiene Python"
   ]
  },
  {
   "cell_type": "markdown",
   "metadata": {},
   "source": [
    "### se cargan las bibliotecas correspondientes"
   ]
  },
  {
   "cell_type": "code",
   "execution_count": 11,
   "metadata": {},
   "outputs": [],
   "source": [
    "from pandas import Series, DataFrame\n",
    "import pandas as pd"
   ]
  },
  {
   "cell_type": "markdown",
   "metadata": {},
   "source": [
    "###  Blast da los resultados sin nombre de columnas, por lo que se asignan a la variable \"encabezado\""
   ]
  },
  {
   "cell_type": "code",
   "execution_count": 12,
   "metadata": {},
   "outputs": [],
   "source": [
    "encabezado =(\"qseqid\", \"sseqid\", \"pident\", \"length\", \"mismatch\", \"gapopen\",\"qstart\", \n",
    "             \"qend\", \"sstart\",\"send\", \"evalue\", \"bitscore\", \"sskingdoms\", \"stitle\", \n",
    "             \"staxids\", \"sscinames\", \"scomnames\", \"sblastnames\")"
   ]
  },
  {
   "cell_type": "markdown",
   "metadata": {},
   "source": [
    "### Se lee el archivo de salida y se asigna a la variable \"ftab\", con ello se pueden ver los resultados"
   ]
  },
  {
   "cell_type": "code",
   "execution_count": 13,
   "metadata": {
    "scrolled": false
   },
   "outputs": [
    {
     "data": {
      "text/html": [
       "<div>\n",
       "<style scoped>\n",
       "    .dataframe tbody tr th:only-of-type {\n",
       "        vertical-align: middle;\n",
       "    }\n",
       "\n",
       "    .dataframe tbody tr th {\n",
       "        vertical-align: top;\n",
       "    }\n",
       "\n",
       "    .dataframe thead th {\n",
       "        text-align: right;\n",
       "    }\n",
       "</style>\n",
       "<table border=\"1\" class=\"dataframe\">\n",
       "  <thead>\n",
       "    <tr style=\"text-align: right;\">\n",
       "      <th></th>\n",
       "      <th>qseqid</th>\n",
       "      <th>sseqid</th>\n",
       "      <th>pident</th>\n",
       "      <th>length</th>\n",
       "      <th>mismatch</th>\n",
       "      <th>gapopen</th>\n",
       "      <th>qstart</th>\n",
       "      <th>qend</th>\n",
       "      <th>sstart</th>\n",
       "      <th>send</th>\n",
       "      <th>evalue</th>\n",
       "      <th>bitscore</th>\n",
       "      <th>sskingdoms</th>\n",
       "      <th>stitle</th>\n",
       "      <th>staxids</th>\n",
       "      <th>sscinames</th>\n",
       "      <th>scomnames</th>\n",
       "      <th>sblastnames</th>\n",
       "    </tr>\n",
       "  </thead>\n",
       "  <tbody>\n",
       "    <tr>\n",
       "      <th>0</th>\n",
       "      <td>Nav1.2_(B9</td>\n",
       "      <td>NR_151897.1</td>\n",
       "      <td>95.469</td>\n",
       "      <td>309</td>\n",
       "      <td>13</td>\n",
       "      <td>1</td>\n",
       "      <td>1</td>\n",
       "      <td>308</td>\n",
       "      <td>1495</td>\n",
       "      <td>1187</td>\n",
       "      <td>5.100000e-139</td>\n",
       "      <td>492</td>\n",
       "      <td>Bacteria</td>\n",
       "      <td>Bacillus nakamurai strain NRRL B-41091 16S rib...</td>\n",
       "      <td>1793963</td>\n",
       "      <td>Bacillus sp. NRRL B-41091</td>\n",
       "      <td>Bacillus sp. NRRL B-41091</td>\n",
       "      <td>firmicutes</td>\n",
       "    </tr>\n",
       "    <tr>\n",
       "      <th>1</th>\n",
       "      <td>Nav1.2_(D10</td>\n",
       "      <td>NR_115063.1</td>\n",
       "      <td>98.058</td>\n",
       "      <td>309</td>\n",
       "      <td>3</td>\n",
       "      <td>3</td>\n",
       "      <td>1</td>\n",
       "      <td>306</td>\n",
       "      <td>1214</td>\n",
       "      <td>1522</td>\n",
       "      <td>8.300000e-152</td>\n",
       "      <td>534</td>\n",
       "      <td>Bacteria</td>\n",
       "      <td>Bacillus halotolerans strain DSM 8802 16S ribo...</td>\n",
       "      <td>260554</td>\n",
       "      <td>[Brevibacterium] halotolerans</td>\n",
       "      <td>[Brevibacterium] halotolerans</td>\n",
       "      <td>firmicutes</td>\n",
       "    </tr>\n",
       "    <tr>\n",
       "      <th>2</th>\n",
       "      <td>Nav1.8_(B11</td>\n",
       "      <td>NR_025241.1</td>\n",
       "      <td>99.032</td>\n",
       "      <td>310</td>\n",
       "      <td>2</td>\n",
       "      <td>1</td>\n",
       "      <td>1</td>\n",
       "      <td>309</td>\n",
       "      <td>1478</td>\n",
       "      <td>1169</td>\n",
       "      <td>6.440000e-158</td>\n",
       "      <td>555</td>\n",
       "      <td>Bacteria</td>\n",
       "      <td>Bacillus aquimaris strain TF-12 16S ribosomal ...</td>\n",
       "      <td>189382</td>\n",
       "      <td>Bacillus aquimaris</td>\n",
       "      <td>Bacillus aquimaris</td>\n",
       "      <td>firmicutes</td>\n",
       "    </tr>\n",
       "    <tr>\n",
       "      <th>3</th>\n",
       "      <td>Nav1.8_(D12</td>\n",
       "      <td>NR_025241.1</td>\n",
       "      <td>99.340</td>\n",
       "      <td>303</td>\n",
       "      <td>2</td>\n",
       "      <td>0</td>\n",
       "      <td>1</td>\n",
       "      <td>303</td>\n",
       "      <td>1205</td>\n",
       "      <td>1507</td>\n",
       "      <td>2.930000e-156</td>\n",
       "      <td>549</td>\n",
       "      <td>Bacteria</td>\n",
       "      <td>Bacillus aquimaris strain TF-12 16S ribosomal ...</td>\n",
       "      <td>189382</td>\n",
       "      <td>Bacillus aquimaris</td>\n",
       "      <td>Bacillus aquimaris</td>\n",
       "      <td>firmicutes</td>\n",
       "    </tr>\n",
       "    <tr>\n",
       "      <th>4</th>\n",
       "      <td>Nav2.2_(B10</td>\n",
       "      <td>NR_148756.1</td>\n",
       "      <td>97.840</td>\n",
       "      <td>324</td>\n",
       "      <td>6</td>\n",
       "      <td>1</td>\n",
       "      <td>1</td>\n",
       "      <td>323</td>\n",
       "      <td>1483</td>\n",
       "      <td>1160</td>\n",
       "      <td>5.220000e-159</td>\n",
       "      <td>558</td>\n",
       "      <td>Bacteria</td>\n",
       "      <td>Alteromonas mediterranea strain DE 16S ribosom...</td>\n",
       "      <td>314275</td>\n",
       "      <td>Alteromonas macleodii str. 'Deep ecotype'</td>\n",
       "      <td>Alteromonas macleodii str. 'Deep ecotype'</td>\n",
       "      <td>g-proteobacteria</td>\n",
       "    </tr>\n",
       "    <tr>\n",
       "      <th>5</th>\n",
       "      <td>Nav2.2_(D11</td>\n",
       "      <td>NR_148756.1</td>\n",
       "      <td>99.668</td>\n",
       "      <td>301</td>\n",
       "      <td>1</td>\n",
       "      <td>0</td>\n",
       "      <td>1</td>\n",
       "      <td>301</td>\n",
       "      <td>1213</td>\n",
       "      <td>1513</td>\n",
       "      <td>8.190000e-157</td>\n",
       "      <td>551</td>\n",
       "      <td>Bacteria</td>\n",
       "      <td>Alteromonas mediterranea strain DE 16S ribosom...</td>\n",
       "      <td>314275</td>\n",
       "      <td>Alteromonas macleodii str. 'Deep ecotype'</td>\n",
       "      <td>Alteromonas macleodii str. 'Deep ecotype'</td>\n",
       "      <td>g-proteobacteria</td>\n",
       "    </tr>\n",
       "    <tr>\n",
       "      <th>6</th>\n",
       "      <td>PET1.2_(A1</td>\n",
       "      <td>NR_148798.1</td>\n",
       "      <td>98.052</td>\n",
       "      <td>308</td>\n",
       "      <td>4</td>\n",
       "      <td>2</td>\n",
       "      <td>1</td>\n",
       "      <td>306</td>\n",
       "      <td>1466</td>\n",
       "      <td>1159</td>\n",
       "      <td>8.300000e-152</td>\n",
       "      <td>534</td>\n",
       "      <td>Bacteria</td>\n",
       "      <td>Pseudomonas populi strain KBL-4-9 16S ribosoma...</td>\n",
       "      <td>1500966</td>\n",
       "      <td>Pseudomonas sp. KBL-4-9</td>\n",
       "      <td>Pseudomonas sp. KBL-4-9</td>\n",
       "      <td>g-proteobacteria</td>\n",
       "    </tr>\n",
       "    <tr>\n",
       "      <th>7</th>\n",
       "      <td>PET1.2_(C2</td>\n",
       "      <td>NR_074812.1</td>\n",
       "      <td>97.436</td>\n",
       "      <td>312</td>\n",
       "      <td>8</td>\n",
       "      <td>0</td>\n",
       "      <td>1</td>\n",
       "      <td>312</td>\n",
       "      <td>1204</td>\n",
       "      <td>1515</td>\n",
       "      <td>3.050000e-151</td>\n",
       "      <td>532</td>\n",
       "      <td>Bacteria</td>\n",
       "      <td>Hahella chejuensis strain KCTC 2396 16S riboso...</td>\n",
       "      <td>158327</td>\n",
       "      <td>Hahella chejuensis</td>\n",
       "      <td>Hahella chejuensis</td>\n",
       "      <td>g-proteobacteria</td>\n",
       "    </tr>\n",
       "    <tr>\n",
       "      <th>8</th>\n",
       "      <td>PET1.8_(A12</td>\n",
       "      <td>NR_152090.1</td>\n",
       "      <td>100.000</td>\n",
       "      <td>302</td>\n",
       "      <td>0</td>\n",
       "      <td>0</td>\n",
       "      <td>2</td>\n",
       "      <td>303</td>\n",
       "      <td>1477</td>\n",
       "      <td>1176</td>\n",
       "      <td>4.870000e-159</td>\n",
       "      <td>558</td>\n",
       "      <td>Bacteria</td>\n",
       "      <td>Pseudomonas oceani strain DSM 100277 16S ribos...</td>\n",
       "      <td>1708783</td>\n",
       "      <td>Pseudomonas sp. DSM 100277</td>\n",
       "      <td>Pseudomonas sp. DSM 100277</td>\n",
       "      <td>g-proteobacteria</td>\n",
       "    </tr>\n",
       "    <tr>\n",
       "      <th>9</th>\n",
       "      <td>PET1.8_(D1</td>\n",
       "      <td>NR_152090.1</td>\n",
       "      <td>99.663</td>\n",
       "      <td>297</td>\n",
       "      <td>1</td>\n",
       "      <td>0</td>\n",
       "      <td>1</td>\n",
       "      <td>297</td>\n",
       "      <td>1199</td>\n",
       "      <td>1495</td>\n",
       "      <td>1.500000e-154</td>\n",
       "      <td>544</td>\n",
       "      <td>Bacteria</td>\n",
       "      <td>Pseudomonas oceani strain DSM 100277 16S ribos...</td>\n",
       "      <td>1708783</td>\n",
       "      <td>Pseudomonas sp. DSM 100277</td>\n",
       "      <td>Pseudomonas sp. DSM 100277</td>\n",
       "      <td>g-proteobacteria</td>\n",
       "    </tr>\n",
       "    <tr>\n",
       "      <th>10</th>\n",
       "      <td>PET2.2_(A2</td>\n",
       "      <td>NR_148756.1</td>\n",
       "      <td>99.071</td>\n",
       "      <td>323</td>\n",
       "      <td>2</td>\n",
       "      <td>1</td>\n",
       "      <td>1</td>\n",
       "      <td>323</td>\n",
       "      <td>1481</td>\n",
       "      <td>1160</td>\n",
       "      <td>4.040000e-165</td>\n",
       "      <td>579</td>\n",
       "      <td>Bacteria</td>\n",
       "      <td>Alteromonas mediterranea strain DE 16S ribosom...</td>\n",
       "      <td>314275</td>\n",
       "      <td>Alteromonas macleodii str. 'Deep ecotype'</td>\n",
       "      <td>Alteromonas macleodii str. 'Deep ecotype'</td>\n",
       "      <td>g-proteobacteria</td>\n",
       "    </tr>\n",
       "    <tr>\n",
       "      <th>11</th>\n",
       "      <td>PET2.2_(C3</td>\n",
       "      <td>NR_148756.1</td>\n",
       "      <td>100.000</td>\n",
       "      <td>296</td>\n",
       "      <td>0</td>\n",
       "      <td>0</td>\n",
       "      <td>1</td>\n",
       "      <td>296</td>\n",
       "      <td>1218</td>\n",
       "      <td>1513</td>\n",
       "      <td>1.040000e-155</td>\n",
       "      <td>547</td>\n",
       "      <td>Bacteria</td>\n",
       "      <td>Alteromonas mediterranea strain DE 16S ribosom...</td>\n",
       "      <td>314275</td>\n",
       "      <td>Alteromonas macleodii str. 'Deep ecotype'</td>\n",
       "      <td>Alteromonas macleodii str. 'Deep ecotype'</td>\n",
       "      <td>g-proteobacteria</td>\n",
       "    </tr>\n",
       "    <tr>\n",
       "      <th>12</th>\n",
       "      <td>PET2.8_(B1</td>\n",
       "      <td>NR_148756.1</td>\n",
       "      <td>98.457</td>\n",
       "      <td>324</td>\n",
       "      <td>4</td>\n",
       "      <td>1</td>\n",
       "      <td>1</td>\n",
       "      <td>323</td>\n",
       "      <td>1483</td>\n",
       "      <td>1160</td>\n",
       "      <td>2.410000e-162</td>\n",
       "      <td>569</td>\n",
       "      <td>Bacteria</td>\n",
       "      <td>Alteromonas mediterranea strain DE 16S ribosom...</td>\n",
       "      <td>314275</td>\n",
       "      <td>Alteromonas macleodii str. 'Deep ecotype'</td>\n",
       "      <td>Alteromonas macleodii str. 'Deep ecotype'</td>\n",
       "      <td>g-proteobacteria</td>\n",
       "    </tr>\n",
       "    <tr>\n",
       "      <th>13</th>\n",
       "      <td>PET2.8_(D2</td>\n",
       "      <td>NR_148756.1</td>\n",
       "      <td>100.000</td>\n",
       "      <td>303</td>\n",
       "      <td>0</td>\n",
       "      <td>0</td>\n",
       "      <td>1</td>\n",
       "      <td>303</td>\n",
       "      <td>1211</td>\n",
       "      <td>1513</td>\n",
       "      <td>1.360000e-159</td>\n",
       "      <td>560</td>\n",
       "      <td>Bacteria</td>\n",
       "      <td>Alteromonas mediterranea strain DE 16S ribosom...</td>\n",
       "      <td>314275</td>\n",
       "      <td>Alteromonas macleodii str. 'Deep ecotype'</td>\n",
       "      <td>Alteromonas macleodii str. 'Deep ecotype'</td>\n",
       "      <td>g-proteobacteria</td>\n",
       "    </tr>\n",
       "    <tr>\n",
       "      <th>14</th>\n",
       "      <td>PETsn1.2_(A3</td>\n",
       "      <td>NR_148756.1</td>\n",
       "      <td>100.000</td>\n",
       "      <td>304</td>\n",
       "      <td>0</td>\n",
       "      <td>0</td>\n",
       "      <td>1</td>\n",
       "      <td>304</td>\n",
       "      <td>1483</td>\n",
       "      <td>1180</td>\n",
       "      <td>3.780000e-160</td>\n",
       "      <td>562</td>\n",
       "      <td>Bacteria</td>\n",
       "      <td>Alteromonas mediterranea strain DE 16S ribosom...</td>\n",
       "      <td>314275</td>\n",
       "      <td>Alteromonas macleodii str. 'Deep ecotype'</td>\n",
       "      <td>Alteromonas macleodii str. 'Deep ecotype'</td>\n",
       "      <td>g-proteobacteria</td>\n",
       "    </tr>\n",
       "    <tr>\n",
       "      <th>15</th>\n",
       "      <td>PETsn1.2_(C4</td>\n",
       "      <td>NR_148756.1</td>\n",
       "      <td>100.000</td>\n",
       "      <td>304</td>\n",
       "      <td>0</td>\n",
       "      <td>0</td>\n",
       "      <td>1</td>\n",
       "      <td>304</td>\n",
       "      <td>1210</td>\n",
       "      <td>1513</td>\n",
       "      <td>3.810000e-160</td>\n",
       "      <td>562</td>\n",
       "      <td>Bacteria</td>\n",
       "      <td>Alteromonas mediterranea strain DE 16S ribosom...</td>\n",
       "      <td>314275</td>\n",
       "      <td>Alteromonas macleodii str. 'Deep ecotype'</td>\n",
       "      <td>Alteromonas macleodii str. 'Deep ecotype'</td>\n",
       "      <td>g-proteobacteria</td>\n",
       "    </tr>\n",
       "    <tr>\n",
       "      <th>16</th>\n",
       "      <td>PETsn1.8_(B2</td>\n",
       "      <td>NR_148756.1</td>\n",
       "      <td>98.418</td>\n",
       "      <td>316</td>\n",
       "      <td>3</td>\n",
       "      <td>2</td>\n",
       "      <td>28</td>\n",
       "      <td>343</td>\n",
       "      <td>1473</td>\n",
       "      <td>1160</td>\n",
       "      <td>7.230000e-158</td>\n",
       "      <td>555</td>\n",
       "      <td>Bacteria</td>\n",
       "      <td>Alteromonas mediterranea strain DE 16S ribosom...</td>\n",
       "      <td>314275</td>\n",
       "      <td>Alteromonas macleodii str. 'Deep ecotype'</td>\n",
       "      <td>Alteromonas macleodii str. 'Deep ecotype'</td>\n",
       "      <td>g-proteobacteria</td>\n",
       "    </tr>\n",
       "    <tr>\n",
       "      <th>17</th>\n",
       "      <td>PETsn1.8_(D3</td>\n",
       "      <td>NR_148756.1</td>\n",
       "      <td>99.338</td>\n",
       "      <td>302</td>\n",
       "      <td>2</td>\n",
       "      <td>0</td>\n",
       "      <td>1</td>\n",
       "      <td>302</td>\n",
       "      <td>1225</td>\n",
       "      <td>1526</td>\n",
       "      <td>1.050000e-155</td>\n",
       "      <td>547</td>\n",
       "      <td>Bacteria</td>\n",
       "      <td>Alteromonas mediterranea strain DE 16S ribosom...</td>\n",
       "      <td>314275</td>\n",
       "      <td>Alteromonas macleodii str. 'Deep ecotype'</td>\n",
       "      <td>Alteromonas macleodii str. 'Deep ecotype'</td>\n",
       "      <td>g-proteobacteria</td>\n",
       "    </tr>\n",
       "    <tr>\n",
       "      <th>18</th>\n",
       "      <td>PHBb1.2_(A8</td>\n",
       "      <td>NR_112983.1</td>\n",
       "      <td>100.000</td>\n",
       "      <td>288</td>\n",
       "      <td>0</td>\n",
       "      <td>0</td>\n",
       "      <td>2</td>\n",
       "      <td>289</td>\n",
       "      <td>1402</td>\n",
       "      <td>1115</td>\n",
       "      <td>2.810000e-151</td>\n",
       "      <td>532</td>\n",
       "      <td>Bacteria</td>\n",
       "      <td>Litoreibacter janthinus strain KMM 3842 16S ri...</td>\n",
       "      <td>670154</td>\n",
       "      <td>Litoreibacter janthinus</td>\n",
       "      <td>Litoreibacter janthinus</td>\n",
       "      <td>a-proteobacteria</td>\n",
       "    </tr>\n",
       "    <tr>\n",
       "      <th>19</th>\n",
       "      <td>PHBb1.2_(C9</td>\n",
       "      <td>NR_112983.1</td>\n",
       "      <td>99.659</td>\n",
       "      <td>293</td>\n",
       "      <td>0</td>\n",
       "      <td>1</td>\n",
       "      <td>1</td>\n",
       "      <td>293</td>\n",
       "      <td>1138</td>\n",
       "      <td>1429</td>\n",
       "      <td>7.920000e-152</td>\n",
       "      <td>534</td>\n",
       "      <td>Bacteria</td>\n",
       "      <td>Litoreibacter janthinus strain KMM 3842 16S ri...</td>\n",
       "      <td>670154</td>\n",
       "      <td>Litoreibacter janthinus</td>\n",
       "      <td>Litoreibacter janthinus</td>\n",
       "      <td>a-proteobacteria</td>\n",
       "    </tr>\n",
       "  </tbody>\n",
       "</table>\n",
       "</div>"
      ],
      "text/plain": [
       "          qseqid       sseqid   pident  length  mismatch  gapopen  qstart  \\\n",
       "0     Nav1.2_(B9  NR_151897.1   95.469     309        13        1       1   \n",
       "1    Nav1.2_(D10  NR_115063.1   98.058     309         3        3       1   \n",
       "2    Nav1.8_(B11  NR_025241.1   99.032     310         2        1       1   \n",
       "3    Nav1.8_(D12  NR_025241.1   99.340     303         2        0       1   \n",
       "4    Nav2.2_(B10  NR_148756.1   97.840     324         6        1       1   \n",
       "5    Nav2.2_(D11  NR_148756.1   99.668     301         1        0       1   \n",
       "6     PET1.2_(A1  NR_148798.1   98.052     308         4        2       1   \n",
       "7     PET1.2_(C2  NR_074812.1   97.436     312         8        0       1   \n",
       "8    PET1.8_(A12  NR_152090.1  100.000     302         0        0       2   \n",
       "9     PET1.8_(D1  NR_152090.1   99.663     297         1        0       1   \n",
       "10    PET2.2_(A2  NR_148756.1   99.071     323         2        1       1   \n",
       "11    PET2.2_(C3  NR_148756.1  100.000     296         0        0       1   \n",
       "12    PET2.8_(B1  NR_148756.1   98.457     324         4        1       1   \n",
       "13    PET2.8_(D2  NR_148756.1  100.000     303         0        0       1   \n",
       "14  PETsn1.2_(A3  NR_148756.1  100.000     304         0        0       1   \n",
       "15  PETsn1.2_(C4  NR_148756.1  100.000     304         0        0       1   \n",
       "16  PETsn1.8_(B2  NR_148756.1   98.418     316         3        2      28   \n",
       "17  PETsn1.8_(D3  NR_148756.1   99.338     302         2        0       1   \n",
       "18   PHBb1.2_(A8  NR_112983.1  100.000     288         0        0       2   \n",
       "19   PHBb1.2_(C9  NR_112983.1   99.659     293         0        1       1   \n",
       "\n",
       "    qend  sstart  send         evalue  bitscore sskingdoms  \\\n",
       "0    308    1495  1187  5.100000e-139       492   Bacteria   \n",
       "1    306    1214  1522  8.300000e-152       534   Bacteria   \n",
       "2    309    1478  1169  6.440000e-158       555   Bacteria   \n",
       "3    303    1205  1507  2.930000e-156       549   Bacteria   \n",
       "4    323    1483  1160  5.220000e-159       558   Bacteria   \n",
       "5    301    1213  1513  8.190000e-157       551   Bacteria   \n",
       "6    306    1466  1159  8.300000e-152       534   Bacteria   \n",
       "7    312    1204  1515  3.050000e-151       532   Bacteria   \n",
       "8    303    1477  1176  4.870000e-159       558   Bacteria   \n",
       "9    297    1199  1495  1.500000e-154       544   Bacteria   \n",
       "10   323    1481  1160  4.040000e-165       579   Bacteria   \n",
       "11   296    1218  1513  1.040000e-155       547   Bacteria   \n",
       "12   323    1483  1160  2.410000e-162       569   Bacteria   \n",
       "13   303    1211  1513  1.360000e-159       560   Bacteria   \n",
       "14   304    1483  1180  3.780000e-160       562   Bacteria   \n",
       "15   304    1210  1513  3.810000e-160       562   Bacteria   \n",
       "16   343    1473  1160  7.230000e-158       555   Bacteria   \n",
       "17   302    1225  1526  1.050000e-155       547   Bacteria   \n",
       "18   289    1402  1115  2.810000e-151       532   Bacteria   \n",
       "19   293    1138  1429  7.920000e-152       534   Bacteria   \n",
       "\n",
       "                                               stitle  staxids  \\\n",
       "0   Bacillus nakamurai strain NRRL B-41091 16S rib...  1793963   \n",
       "1   Bacillus halotolerans strain DSM 8802 16S ribo...   260554   \n",
       "2   Bacillus aquimaris strain TF-12 16S ribosomal ...   189382   \n",
       "3   Bacillus aquimaris strain TF-12 16S ribosomal ...   189382   \n",
       "4   Alteromonas mediterranea strain DE 16S ribosom...   314275   \n",
       "5   Alteromonas mediterranea strain DE 16S ribosom...   314275   \n",
       "6   Pseudomonas populi strain KBL-4-9 16S ribosoma...  1500966   \n",
       "7   Hahella chejuensis strain KCTC 2396 16S riboso...   158327   \n",
       "8   Pseudomonas oceani strain DSM 100277 16S ribos...  1708783   \n",
       "9   Pseudomonas oceani strain DSM 100277 16S ribos...  1708783   \n",
       "10  Alteromonas mediterranea strain DE 16S ribosom...   314275   \n",
       "11  Alteromonas mediterranea strain DE 16S ribosom...   314275   \n",
       "12  Alteromonas mediterranea strain DE 16S ribosom...   314275   \n",
       "13  Alteromonas mediterranea strain DE 16S ribosom...   314275   \n",
       "14  Alteromonas mediterranea strain DE 16S ribosom...   314275   \n",
       "15  Alteromonas mediterranea strain DE 16S ribosom...   314275   \n",
       "16  Alteromonas mediterranea strain DE 16S ribosom...   314275   \n",
       "17  Alteromonas mediterranea strain DE 16S ribosom...   314275   \n",
       "18  Litoreibacter janthinus strain KMM 3842 16S ri...   670154   \n",
       "19  Litoreibacter janthinus strain KMM 3842 16S ri...   670154   \n",
       "\n",
       "                                    sscinames  \\\n",
       "0                   Bacillus sp. NRRL B-41091   \n",
       "1               [Brevibacterium] halotolerans   \n",
       "2                          Bacillus aquimaris   \n",
       "3                          Bacillus aquimaris   \n",
       "4   Alteromonas macleodii str. 'Deep ecotype'   \n",
       "5   Alteromonas macleodii str. 'Deep ecotype'   \n",
       "6                     Pseudomonas sp. KBL-4-9   \n",
       "7                          Hahella chejuensis   \n",
       "8                  Pseudomonas sp. DSM 100277   \n",
       "9                  Pseudomonas sp. DSM 100277   \n",
       "10  Alteromonas macleodii str. 'Deep ecotype'   \n",
       "11  Alteromonas macleodii str. 'Deep ecotype'   \n",
       "12  Alteromonas macleodii str. 'Deep ecotype'   \n",
       "13  Alteromonas macleodii str. 'Deep ecotype'   \n",
       "14  Alteromonas macleodii str. 'Deep ecotype'   \n",
       "15  Alteromonas macleodii str. 'Deep ecotype'   \n",
       "16  Alteromonas macleodii str. 'Deep ecotype'   \n",
       "17  Alteromonas macleodii str. 'Deep ecotype'   \n",
       "18                    Litoreibacter janthinus   \n",
       "19                    Litoreibacter janthinus   \n",
       "\n",
       "                                    scomnames       sblastnames  \n",
       "0                   Bacillus sp. NRRL B-41091        firmicutes  \n",
       "1               [Brevibacterium] halotolerans        firmicutes  \n",
       "2                          Bacillus aquimaris        firmicutes  \n",
       "3                          Bacillus aquimaris        firmicutes  \n",
       "4   Alteromonas macleodii str. 'Deep ecotype'  g-proteobacteria  \n",
       "5   Alteromonas macleodii str. 'Deep ecotype'  g-proteobacteria  \n",
       "6                     Pseudomonas sp. KBL-4-9  g-proteobacteria  \n",
       "7                          Hahella chejuensis  g-proteobacteria  \n",
       "8                  Pseudomonas sp. DSM 100277  g-proteobacteria  \n",
       "9                  Pseudomonas sp. DSM 100277  g-proteobacteria  \n",
       "10  Alteromonas macleodii str. 'Deep ecotype'  g-proteobacteria  \n",
       "11  Alteromonas macleodii str. 'Deep ecotype'  g-proteobacteria  \n",
       "12  Alteromonas macleodii str. 'Deep ecotype'  g-proteobacteria  \n",
       "13  Alteromonas macleodii str. 'Deep ecotype'  g-proteobacteria  \n",
       "14  Alteromonas macleodii str. 'Deep ecotype'  g-proteobacteria  \n",
       "15  Alteromonas macleodii str. 'Deep ecotype'  g-proteobacteria  \n",
       "16  Alteromonas macleodii str. 'Deep ecotype'  g-proteobacteria  \n",
       "17  Alteromonas macleodii str. 'Deep ecotype'  g-proteobacteria  \n",
       "18                    Litoreibacter janthinus  a-proteobacteria  \n",
       "19                    Litoreibacter janthinus  a-proteobacteria  "
      ]
     },
     "execution_count": 13,
     "metadata": {},
     "output_type": "execute_result"
    }
   ],
   "source": [
    "ftab=pd.read_table(\"secuencias.tab\", header=None , names= encabezado)\n",
    "ftab"
   ]
  },
  {
   "cell_type": "markdown",
   "metadata": {},
   "source": [
    "### Describa que es lo que esta observando y qué puede decir de todas las secuencias "
   ]
  },
  {
   "cell_type": "code",
   "execution_count": null,
   "metadata": {},
   "outputs": [],
   "source": []
  },
  {
   "cell_type": "markdown",
   "metadata": {
    "collapsed": true
   },
   "source": [
    "# Qué ocurrirá su usa el comando \n",
    "ftab.head()"
   ]
  },
  {
   "cell_type": "code",
   "execution_count": null,
   "metadata": {},
   "outputs": [],
   "source": []
  },
  {
   "cell_type": "code",
   "execution_count": null,
   "metadata": {},
   "outputs": [],
   "source": []
  },
  {
   "cell_type": "markdown",
   "metadata": {},
   "source": [
    "### Con el fin de resumir la informacion se agruparan considerando el nombre cientifico (sscinames), contando el numero de casos en donde se encontro una asignacion"
   ]
  },
  {
   "cell_type": "code",
   "execution_count": 15,
   "metadata": {},
   "outputs": [
    {
     "data": {
      "text/html": [
       "<div>\n",
       "<style scoped>\n",
       "    .dataframe tbody tr th:only-of-type {\n",
       "        vertical-align: middle;\n",
       "    }\n",
       "\n",
       "    .dataframe tbody tr th {\n",
       "        vertical-align: top;\n",
       "    }\n",
       "\n",
       "    .dataframe thead th {\n",
       "        text-align: right;\n",
       "    }\n",
       "</style>\n",
       "<table border=\"1\" class=\"dataframe\">\n",
       "  <thead>\n",
       "    <tr style=\"text-align: right;\">\n",
       "      <th></th>\n",
       "      <th>qseqid</th>\n",
       "    </tr>\n",
       "    <tr>\n",
       "      <th>sscinames</th>\n",
       "      <th></th>\n",
       "    </tr>\n",
       "  </thead>\n",
       "  <tbody>\n",
       "    <tr>\n",
       "      <th>Alteromonas macleodii str. 'Deep ecotype'</th>\n",
       "      <td>10</td>\n",
       "    </tr>\n",
       "    <tr>\n",
       "      <th>Bacillus aquimaris</th>\n",
       "      <td>2</td>\n",
       "    </tr>\n",
       "    <tr>\n",
       "      <th>Bacillus sp. NRRL B-41091</th>\n",
       "      <td>1</td>\n",
       "    </tr>\n",
       "    <tr>\n",
       "      <th>Hahella chejuensis</th>\n",
       "      <td>1</td>\n",
       "    </tr>\n",
       "    <tr>\n",
       "      <th>Litoreibacter janthinus</th>\n",
       "      <td>2</td>\n",
       "    </tr>\n",
       "    <tr>\n",
       "      <th>Pseudomonas sp. DSM 100277</th>\n",
       "      <td>2</td>\n",
       "    </tr>\n",
       "    <tr>\n",
       "      <th>Pseudomonas sp. KBL-4-9</th>\n",
       "      <td>1</td>\n",
       "    </tr>\n",
       "    <tr>\n",
       "      <th>[Brevibacterium] halotolerans</th>\n",
       "      <td>1</td>\n",
       "    </tr>\n",
       "  </tbody>\n",
       "</table>\n",
       "</div>"
      ],
      "text/plain": [
       "                                           qseqid\n",
       "sscinames                                        \n",
       "Alteromonas macleodii str. 'Deep ecotype'      10\n",
       "Bacillus aquimaris                              2\n",
       "Bacillus sp. NRRL B-41091                       1\n",
       "Hahella chejuensis                              1\n",
       "Litoreibacter janthinus                         2\n",
       "Pseudomonas sp. DSM 100277                      2\n",
       "Pseudomonas sp. KBL-4-9                         1\n",
       "[Brevibacterium] halotolerans                   1"
      ]
     },
     "execution_count": 15,
     "metadata": {},
     "output_type": "execute_result"
    }
   ],
   "source": [
    "ftab1= ftab.groupby(\"sscinames\")[\"qseqid\"].count()\n",
    "ftab1 = DataFrame(ftab1)\n",
    "ftab1"
   ]
  },
  {
   "cell_type": "markdown",
   "metadata": {},
   "source": [
    "## para guardar esta informacion se utiliza pandas para guardarlo con formato csv (valores separados por comas)"
   ]
  },
  {
   "cell_type": "code",
   "execution_count": 16,
   "metadata": {},
   "outputs": [],
   "source": [
    "ftab1.to_csv(\"secuencias_especies.csv\")"
   ]
  },
  {
   "cell_type": "markdown",
   "metadata": {},
   "source": [
    "### Que diferencia hay si solamente utiliza estos comandos?"
   ]
  },
  {
   "cell_type": "code",
   "execution_count": 17,
   "metadata": {},
   "outputs": [
    {
     "data": {
      "text/plain": [
       "sscinames\n",
       "Alteromonas macleodii str. 'Deep ecotype'    10\n",
       "Bacillus aquimaris                            2\n",
       "Bacillus sp. NRRL B-41091                     1\n",
       "Hahella chejuensis                            1\n",
       "Litoreibacter janthinus                       2\n",
       "Pseudomonas sp. DSM 100277                    2\n",
       "Pseudomonas sp. KBL-4-9                       1\n",
       "[Brevibacterium] halotolerans                 1\n",
       "Name: qseqid, dtype: int64"
      ]
     },
     "execution_count": 17,
     "metadata": {},
     "output_type": "execute_result"
    }
   ],
   "source": [
    "ftab1= ftab.groupby(\"sscinames\")[\"qseqid\"].count()\n",
    "ftab1"
   ]
  },
  {
   "cell_type": "code",
   "execution_count": null,
   "metadata": {
    "collapsed": true
   },
   "outputs": [],
   "source": []
  },
  {
   "cell_type": "markdown",
   "metadata": {
    "collapsed": true
   },
   "source": [
    "## cuál considera mas facil de leer?"
   ]
  },
  {
   "cell_type": "code",
   "execution_count": null,
   "metadata": {
    "collapsed": true
   },
   "outputs": [],
   "source": []
  },
  {
   "cell_type": "code",
   "execution_count": null,
   "metadata": {
    "collapsed": true
   },
   "outputs": [],
   "source": []
  },
  {
   "cell_type": "markdown",
   "metadata": {},
   "source": [
    "## Para graficar los resultados se cargan las bibliotecas pylab y matplotlib\n",
    "Ya vienen integrados con el python y no es necesario descargarlos. Si requiere información adicional:\n",
    "https://matplotlib.org\n"
   ]
  },
  {
   "cell_type": "code",
   "execution_count": 20,
   "metadata": {},
   "outputs": [],
   "source": [
    "import pylab\n",
    "import matplotlib.pyplot as plt\n",
    "%matplotlib inline"
   ]
  },
  {
   "cell_type": "markdown",
   "metadata": {},
   "source": [
    "## que hace al último comando?\n",
    "%matplotlib inline"
   ]
  },
  {
   "cell_type": "code",
   "execution_count": null,
   "metadata": {},
   "outputs": [],
   "source": []
  },
  {
   "cell_type": "markdown",
   "metadata": {},
   "source": [
    "## para graficar "
   ]
  },
  {
   "cell_type": "code",
   "execution_count": 21,
   "metadata": {},
   "outputs": [
    {
     "data": {
      "image/png": "[encoded data removed]",
      "text/plain": [
       "<Figure size 432x288 with 1 Axes>"
      ]
     },
     "metadata": {},
     "output_type": "display_data"
    }
   ],
   "source": [
    "plt.pie(ftab1, labels=ftab1.index)\n",
    "plt.show()"
   ]
  },
  {
   "cell_type": "markdown",
   "metadata": {},
   "source": [
    "### revise el manual del plt.pi y modifique los comandos para que en la grafica se observen todas las leyendas sin traslaparse"
   ]
  },
  {
   "cell_type": "code",
   "execution_count": null,
   "metadata": {
    "collapsed": true
   },
   "outputs": [],
   "source": [
    "?plt.pie"
   ]
  },
  {
   "cell_type": "code",
   "execution_count": 22,
   "metadata": {},
   "outputs": [
    {
     "name": "stdout",
     "output_type": "stream",
     "text": [
      "save figurey\n"
     ]
    },
    {
     "data": {
      "image/png": "[encoded data removed]",
      "text/plain": [
       "<Figure size 432x288 with 1 Axes>"
      ]
     },
     "metadata": {},
     "output_type": "display_data"
    }
   ],
   "source": [
    "plt.pie(ftab1, labels=ftab1.index)\n",
    "yes = input(\"save figure\")\n",
    "if yes.lower()==\"y\":\n",
    "    plt.savefig('./img/secuencias_pie.png', \n",
    "                dpi=800, bbox_inches='tight')\n",
    "\n",
    "plt.show()\n",
    "\n"
   ]
  },
  {
   "cell_type": "code",
   "execution_count": 23,
   "metadata": {},
   "outputs": [
    {
     "data": {
      "image/png": "[encoded data removed]",
      "text/plain": [
       "<Figure size 432x288 with 1 Axes>"
      ]
     },
     "metadata": {},
     "output_type": "display_data"
    }
   ],
   "source": [
    "ftab1.plot(kind='barh', color=list('gybr'))\n",
    "plt.axis([0, max (ftab1)+1, -1, len (ftab1.index)], label=None)\n",
    "pylab.xlabel(\"Frecuencia\")\n",
    "pylab.ylabel(\"Especies\")\n",
    "plt.show()"
   ]
  },
  {
   "cell_type": "markdown",
   "metadata": {},
   "source": [
    "## Para ordenar las secuencias de mayor a menor"
   ]
  },
  {
   "cell_type": "code",
   "execution_count": 24,
   "metadata": {},
   "outputs": [
    {
     "data": {
      "text/plain": [
       "sscinames\n",
       "Bacillus sp. NRRL B-41091                     1\n",
       "Hahella chejuensis                            1\n",
       "Pseudomonas sp. KBL-4-9                       1\n",
       "[Brevibacterium] halotolerans                 1\n",
       "Bacillus aquimaris                            2\n",
       "Litoreibacter janthinus                       2\n",
       "Pseudomonas sp. DSM 100277                    2\n",
       "Alteromonas macleodii str. 'Deep ecotype'    10\n",
       "Name: qseqid, dtype: int64"
      ]
     },
     "execution_count": 24,
     "metadata": {},
     "output_type": "execute_result"
    }
   ],
   "source": [
    "ftab2 = ftab1.sort_values( ascending=True)\n",
    "ftab2\n"
   ]
  },
  {
   "cell_type": "code",
   "execution_count": 25,
   "metadata": {},
   "outputs": [
    {
     "data": {
      "image/png": "[encoded data removed]",
      "text/plain": [
       "<Figure size 432x288 with 1 Axes>"
      ]
     },
     "metadata": {},
     "output_type": "display_data"
    }
   ],
   "source": [
    "ftab2.plot(kind='barh', color=list('gybr'))\n",
    "plt.axis([0, max (ftab1)+1, -1, len (ftab1.index)], label=None)\n",
    "pylab.xlabel(\"Frecuencia\")\n",
    "pylab.ylabel(\"Especies\")\n",
    "plt.show()"
   ]
  },
  {
   "cell_type": "code",
   "execution_count": 26,
   "metadata": {},
   "outputs": [
    {
     "data": {
      "text/plain": [
       "sscinames\n",
       "Alteromonas macleodii str. 'Deep ecotype'    10\n",
       "Pseudomonas sp. DSM 100277                    2\n",
       "Litoreibacter janthinus                       2\n",
       "Bacillus aquimaris                            2\n",
       "[Brevibacterium] halotolerans                 1\n",
       "Pseudomonas sp. KBL-4-9                       1\n",
       "Hahella chejuensis                            1\n",
       "Bacillus sp. NRRL B-41091                     1\n",
       "Name: qseqid, dtype: int64"
      ]
     },
     "execution_count": 26,
     "metadata": {},
     "output_type": "execute_result"
    }
   ],
   "source": [
    "ftab2 = ftab1.sort_values( ascending=False)\n",
    "ftab2\n"
   ]
  },
  {
   "cell_type": "code",
   "execution_count": 27,
   "metadata": {},
   "outputs": [
    {
     "data": {
      "image/png": "[encoded data removed]",
      "text/plain": [
       "<Figure size 432x288 with 1 Axes>"
      ]
     },
     "metadata": {},
     "output_type": "display_data"
    }
   ],
   "source": [
    "ftab2.plot(kind='barh', color=list('gybr'))\n",
    "plt.axis([0, max (ftab1)+1, -1, len (ftab1.index)], label=None)\n",
    "pylab.xlabel(\"Frecuencia\")\n",
    "pylab.ylabel(\"Especies\")\n",
    "plt.show()"
   ]
  },
  {
   "cell_type": "code",
   "execution_count": null,
   "metadata": {
    "collapsed": true
   },
   "outputs": [],
   "source": []
  },
  {
   "cell_type": "code",
   "execution_count": null,
   "metadata": {
    "collapsed": true
   },
   "outputs": [],
   "source": []
  }
 ],
 "metadata": {
  "kernelspec": {
   "display_name": "Python 3",
   "language": "python",
   "name": "python3"
  },
  "language_info": {
   "codemirror_mode": {
    "name": "ipython",
    "version": 3
   },
   "file_extension": ".py",
   "mimetype": "text/x-python",
   "name": "python",
   "nbconvert_exporter": "python",
   "pygments_lexer": "ipython3",
   "version": "3.6.5"
  }
 },
 "nbformat": 4,
 "nbformat_minor": 2
}
