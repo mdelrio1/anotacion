{
 "cells": [
  {
   "cell_type": "markdown",
   "metadata": {},
   "source": [
    "# Bitácora para manejo de archivos y sistema operativo"
   ]
  },
  {
   "cell_type": "code",
   "execution_count": 1,
   "metadata": {},
   "outputs": [
    {
     "data": {
      "text/plain": [
       "'C:\\\\Users\\\\SalaD26\\\\Desktop\\\\Curso\\\\jupyter'"
      ]
     },
     "execution_count": 1,
     "metadata": {},
     "output_type": "execute_result"
    }
   ],
   "source": [
    "pwd # directorio de trabajo"
   ]
  },
  {
   "cell_type": "markdown",
   "metadata": {
    "collapsed": true
   },
   "source": [
    "#### cambio de directorio al \"home\""
   ]
  },
  {
   "cell_type": "code",
   "execution_count": 2,
   "metadata": {},
   "outputs": [
    {
     "name": "stdout",
     "output_type": "stream",
     "text": [
      "C:\\Users\\SalaD26\n"
     ]
    }
   ],
   "source": [
    "cd"
   ]
  },
  {
   "cell_type": "code",
   "execution_count": 3,
   "metadata": {},
   "outputs": [
    {
     "name": "stdout",
     "output_type": "stream",
     "text": [
      "C:\\Users\\SalaD26\\Desktop\n"
     ]
    }
   ],
   "source": [
    "cd Desktop/"
   ]
  },
  {
   "cell_type": "code",
   "execution_count": 4,
   "metadata": {},
   "outputs": [
    {
     "name": "stdout",
     "output_type": "stream",
     "text": [
      " El volumen de la unidad C no tiene etiqueta.\n",
      " El número de serie del volumen es: 4C69-5113\n",
      "\n",
      " Directorio de C:\\Users\\SalaD26\\Desktop\n",
      "\n",
      "20/07/2018  09:17 a. m.    <DIR>          .\n",
      "20/07/2018  09:17 a. m.    <DIR>          ..\n",
      "20/07/2018  09:17 a. m.             2,211 Anaconda Navigator.lnk\n",
      "18/07/2018  02:42 p. m.    <DIR>          Curso\n",
      "18/07/2018  03:20 p. m.             1,764 Git Bash.lnk\n",
      "16/07/2018  07:31 p. m.             1,417 Microsoft Edge.lnk\n",
      "               3 archivos          5,392 bytes\n",
      "               3 dirs  83,511,017,472 bytes libres\n"
     ]
    }
   ],
   "source": [
    "ls"
   ]
  },
  {
   "cell_type": "code",
   "execution_count": 5,
   "metadata": {},
   "outputs": [
    {
     "name": "stdout",
     "output_type": "stream",
     "text": [
      "C:\\Users\\SalaD26\\Desktop\\curso\n"
     ]
    }
   ],
   "source": [
    "cd curso"
   ]
  },
  {
   "cell_type": "code",
   "execution_count": 6,
   "metadata": {},
   "outputs": [
    {
     "name": "stdout",
     "output_type": "stream",
     "text": [
      " El volumen de la unidad C no tiene etiqueta.\n",
      " El número de serie del volumen es: 4C69-5113\n",
      "\n",
      " Directorio de C:\\Users\\SalaD26\\Desktop\\curso\n",
      "\n",
      "18/07/2018  02:42 p. m.    <DIR>          .\n",
      "18/07/2018  02:42 p. m.    <DIR>          ..\n",
      "17/07/2018  04:08 p. m.    <DIR>          .ipynb_checkpoints\n",
      "19/07/2018  03:31 p. m.    <DIR>          bigdata\n",
      "18/07/2018  12:05 p. m.    <DIR>          data\n",
      "19/07/2018  03:55 p. m.    <DIR>          documentos\n",
      "20/07/2018  09:25 a. m.    <DIR>          jupyter\n",
      "18/07/2018  02:41 p. m.    <DIR>          programas_bioinformatica\n",
      "               0 archivos              0 bytes\n",
      "               8 dirs  83,511,009,280 bytes libres\n"
     ]
    }
   ],
   "source": [
    "ls"
   ]
  },
  {
   "cell_type": "markdown",
   "metadata": {},
   "source": [
    "## en la siguiente celda describa los comandos\n",
    "`pwd` \n",
    "`cd` \n",
    "`ls`"
   ]
  },
  {
   "cell_type": "code",
   "execution_count": null,
   "metadata": {},
   "outputs": [],
   "source": []
  },
  {
   "cell_type": "markdown",
   "metadata": {},
   "source": [
    "### Para crear un directorio nuevo se utiliza el comando `mkdir`"
   ]
  },
  {
   "cell_type": "raw",
   "metadata": {
    "collapsed": true
   },
   "source": [
    "mkdir bioinformatica_aplicada"
   ]
  },
  {
   "cell_type": "markdown",
   "metadata": {},
   "source": [
    "### El listado de archivos en el directorio se obtiene con el comando `ls` "
   ]
  },
  {
   "cell_type": "code",
   "execution_count": 20,
   "metadata": {},
   "outputs": [
    {
     "name": "stdout",
     "output_type": "stream",
     "text": [
      " El volumen de la unidad C no tiene etiqueta.\n",
      " El número de serie del volumen es: 4C69-5113\n",
      "\n",
      " Directorio de C:\\Users\\SalaD26\\Desktop\\curso\n",
      "\n",
      "18/07/2018  02:42 p. m.    <DIR>          .\n",
      "18/07/2018  02:42 p. m.    <DIR>          ..\n",
      "17/07/2018  04:08 p. m.    <DIR>          .ipynb_checkpoints\n",
      "19/07/2018  03:31 p. m.    <DIR>          bigdata\n",
      "18/07/2018  12:05 p. m.    <DIR>          data\n",
      "19/07/2018  03:55 p. m.    <DIR>          documentos\n",
      "20/07/2018  09:29 a. m.    <DIR>          jupyter\n",
      "18/07/2018  02:41 p. m.    <DIR>          programas_bioinformatica\n",
      "               0 archivos              0 bytes\n",
      "               8 dirs  83,510,005,760 bytes libres\n"
     ]
    }
   ],
   "source": [
    "ls"
   ]
  },
  {
   "cell_type": "markdown",
   "metadata": {},
   "source": [
    "### se pueden visualizar los directorios sin necesidad de cambiar el directorio. Por ejemplo para listar los archivos del directorio `data` se utilza el comando \n",
    "`ls data\\`"
   ]
  },
  {
   "cell_type": "code",
   "execution_count": 23,
   "metadata": {},
   "outputs": [
    {
     "name": "stdout",
     "output_type": "stream",
     "text": [
      " El volumen de la unidad C no tiene etiqueta.\n",
      " El número de serie del volumen es: 4C69-5113\n",
      "\n",
      " Directorio de C:\\Users\\SalaD26\\Desktop\\curso\\data\n",
      "\n",
      "18/07/2018  12:05 p. m.    <DIR>          .\n",
      "18/07/2018  12:05 p. m.    <DIR>          ..\n",
      "06/07/2018  03:37 p. m.    <DIR>          fasta\n",
      "               0 archivos              0 bytes\n",
      "               3 dirs  83,508,355,072 bytes libres\n"
     ]
    }
   ],
   "source": [
    "ls data\\"
   ]
  },
  {
   "cell_type": "markdown",
   "metadata": {},
   "source": [
    "### Es posible también utilizar `ls data`, pero se recomienda utilizar \"\\\" al final con el fin de indicar que se desea listar los archivos del subdirectorio `data`"
   ]
  },
  {
   "cell_type": "markdown",
   "metadata": {
    "collapsed": true
   },
   "source": [
    "### También es posible listar los archivos de un directorio superior, en este caso `Desktop`"
   ]
  },
  {
   "cell_type": "code",
   "execution_count": 25,
   "metadata": {},
   "outputs": [
    {
     "name": "stdout",
     "output_type": "stream",
     "text": [
      " El volumen de la unidad C no tiene etiqueta.\n",
      " El número de serie del volumen es: 4C69-5113\n",
      "\n",
      " Directorio de C:\\Users\\SalaD26\\Desktop\n",
      "\n",
      "20/07/2018  09:17 a. m.    <DIR>          .\n",
      "20/07/2018  09:17 a. m.    <DIR>          ..\n",
      "20/07/2018  09:17 a. m.             2,211 Anaconda Navigator.lnk\n",
      "18/07/2018  02:42 p. m.    <DIR>          Curso\n",
      "18/07/2018  03:20 p. m.             1,764 Git Bash.lnk\n",
      "16/07/2018  07:31 p. m.             1,417 Microsoft Edge.lnk\n",
      "               3 archivos          5,392 bytes\n",
      "               3 dirs  83,508,834,304 bytes libres\n"
     ]
    }
   ],
   "source": [
    "ls .."
   ]
  },
  {
   "cell_type": "markdown",
   "metadata": {},
   "source": [
    "### ¿Cómo sería el comando para visualizar el directorio Users?\n",
    "Corrobore su respuesta en la siguiente celda."
   ]
  },
  {
   "cell_type": "code",
   "execution_count": null,
   "metadata": {},
   "outputs": [],
   "source": []
  },
  {
   "cell_type": "code",
   "execution_count": 27,
   "metadata": {},
   "outputs": [
    {
     "name": "stdout",
     "output_type": "stream",
     "text": [
      "C:\\Users\\SalaD26\n"
     ]
    }
   ],
   "source": [
    "cd "
   ]
  },
  {
   "cell_type": "code",
   "execution_count": 28,
   "metadata": {},
   "outputs": [
    {
     "name": "stdout",
     "output_type": "stream",
     "text": [
      " El volumen de la unidad C no tiene etiqueta.\n",
      " El número de serie del volumen es: 4C69-5113\n",
      "\n",
      " Directorio de C:\\Users\\SalaD26\n",
      "\n",
      "18/07/2018  02:41 p. m.    <DIR>          .\n",
      "18/07/2018  02:41 p. m.    <DIR>          ..\n",
      "17/07/2018  03:04 p. m.    <DIR>          .anaconda\n",
      "19/07/2018  03:33 p. m.               504 .bash_history\n",
      "20/07/2018  09:37 a. m.    <DIR>          .conda\n",
      "20/07/2018  09:17 a. m.                43 .condarc\n",
      "17/07/2018  04:09 p. m.    <DIR>          .ipython\n",
      "18/07/2018  12:23 p. m.    <DIR>          .jupyter\n",
      "17/07/2018  02:43 p. m.    <DIR>          .vscode\n",
      "18/07/2018  12:15 p. m.    <DIR>          3D Objects\n",
      "19/07/2018  03:44 p. m.    <DIR>          Anaconda3\n",
      "17/07/2018  02:57 p. m.    <DIR>          Application Data\n",
      "17/07/2018  02:57 p. m.    <DIR>          CLC_Data\n",
      "18/07/2018  12:15 p. m.    <DIR>          Contacts\n",
      "20/07/2018  09:17 a. m.    <DIR>          Desktop\n",
      "18/07/2018  02:42 p. m.    <DIR>          Documents\n",
      "18/07/2018  02:42 p. m.    <DIR>          Downloads\n",
      "18/07/2018  12:15 p. m.    <DIR>          Favorites\n",
      "18/07/2018  12:15 p. m.    <DIR>          Links\n",
      "18/07/2018  12:15 p. m.    <DIR>          Music\n",
      "16/07/2018  07:33 p. m.    <DIR>          OneDrive\n",
      "18/07/2018  12:15 p. m.    <DIR>          Pictures\n",
      "18/07/2018  12:15 p. m.    <DIR>          Saved Games\n",
      "18/07/2018  12:15 p. m.    <DIR>          Searches\n",
      "18/07/2018  12:15 p. m.    <DIR>          Videos\n",
      "               2 archivos            547 bytes\n",
      "              23 dirs  83,507,937,280 bytes libres\n"
     ]
    }
   ],
   "source": [
    "ls"
   ]
  },
  {
   "cell_type": "markdown",
   "metadata": {},
   "source": [
    "## Cambio al directorio `data` que se encuentra en el subdirectorio `Desktop\\curso`"
   ]
  },
  {
   "cell_type": "code",
   "execution_count": 30,
   "metadata": {},
   "outputs": [
    {
     "name": "stdout",
     "output_type": "stream",
     "text": [
      "C:\\Users\\SalaD26\\Desktop\\curso\\data\n"
     ]
    }
   ],
   "source": [
    "cd ~/Desktop/curso/data/"
   ]
  },
  {
   "cell_type": "code",
   "execution_count": 31,
   "metadata": {},
   "outputs": [
    {
     "name": "stdout",
     "output_type": "stream",
     "text": [
      " El volumen de la unidad C no tiene etiqueta.\n",
      " El número de serie del volumen es: 4C69-5113\n",
      "\n",
      " Directorio de C:\\Users\\SalaD26\\Desktop\\curso\\data\n",
      "\n",
      "18/07/2018  12:05 p. m.    <DIR>          .\n",
      "18/07/2018  12:05 p. m.    <DIR>          ..\n",
      "06/07/2018  03:37 p. m.    <DIR>          fasta\n",
      "               0 archivos              0 bytes\n",
      "               3 dirs  83,507,937,280 bytes libres\n"
     ]
    }
   ],
   "source": [
    "ls"
   ]
  },
  {
   "cell_type": "markdown",
   "metadata": {},
   "source": [
    "### El comando `pwd` indica el subdirectorio en el que se encuentra"
   ]
  },
  {
   "cell_type": "code",
   "execution_count": 32,
   "metadata": {},
   "outputs": [
    {
     "data": {
      "text/plain": [
       "'C:\\\\Users\\\\SalaD26\\\\Desktop\\\\curso\\\\data'"
      ]
     },
     "execution_count": 32,
     "metadata": {},
     "output_type": "execute_result"
    }
   ],
   "source": [
    "pwd"
   ]
  },
  {
   "cell_type": "markdown",
   "metadata": {},
   "source": [
    "### Para cambiar a un directorio superior (regresar a un directorio) se utiliza el comando \n",
    "`cd ..`"
   ]
  },
  {
   "cell_type": "code",
   "execution_count": 34,
   "metadata": {},
   "outputs": [
    {
     "name": "stdout",
     "output_type": "stream",
     "text": [
      "C:\\Users\\SalaD26\\Desktop\n"
     ]
    }
   ],
   "source": [
    "cd .."
   ]
  },
  {
   "cell_type": "code",
   "execution_count": 35,
   "metadata": {},
   "outputs": [
    {
     "name": "stdout",
     "output_type": "stream",
     "text": [
      "C:\\Users\\SalaD26\n"
     ]
    }
   ],
   "source": [
    "cd .."
   ]
  },
  {
   "cell_type": "code",
   "execution_count": 36,
   "metadata": {},
   "outputs": [
    {
     "name": "stdout",
     "output_type": "stream",
     "text": [
      "C:\\Users\\SalaD26\\Desktop\n"
     ]
    }
   ],
   "source": [
    "cd Desktop/"
   ]
  },
  {
   "cell_type": "code",
   "execution_count": 37,
   "metadata": {},
   "outputs": [
    {
     "name": "stdout",
     "output_type": "stream",
     "text": [
      " El volumen de la unidad C no tiene etiqueta.\n",
      " El número de serie del volumen es: 4C69-5113\n",
      "\n",
      " Directorio de C:\\Users\\SalaD26\\Desktop\n",
      "\n",
      "20/07/2018  09:17 a. m.    <DIR>          .\n",
      "20/07/2018  09:17 a. m.    <DIR>          ..\n",
      "20/07/2018  09:17 a. m.             2,211 Anaconda Navigator.lnk\n",
      "18/07/2018  02:42 p. m.    <DIR>          Curso\n",
      "18/07/2018  03:20 p. m.             1,764 Git Bash.lnk\n",
      "16/07/2018  07:31 p. m.             1,417 Microsoft Edge.lnk\n",
      "               3 archivos          5,392 bytes\n",
      "               3 dirs  83,507,191,808 bytes libres\n"
     ]
    }
   ],
   "source": [
    "ls"
   ]
  },
  {
   "cell_type": "markdown",
   "metadata": {},
   "source": [
    "### Los dos puntos `..` se utilizan para dar una dirección relativa al directorio de trabajo en el que se encuentra. Por ejemplo el comando \n",
    "`ls ..\\`\n",
    "\n",
    "dará la lista del directorio superior, mientras que\n",
    "\n",
    "`ls ..\\..\\`\n",
    "\n",
    "dará la lista de dos directorios \"arriba\" del directorio de trabajo"
   ]
  },
  {
   "cell_type": "code",
   "execution_count": 39,
   "metadata": {},
   "outputs": [
    {
     "name": "stdout",
     "output_type": "stream",
     "text": [
      " El volumen de la unidad C no tiene etiqueta.\n",
      " El número de serie del volumen es: 4C69-5113\n",
      "\n",
      " Directorio de C:\\Users\\SalaD26\n",
      "\n",
      "18/07/2018  02:41 p. m.    <DIR>          .\n",
      "18/07/2018  02:41 p. m.    <DIR>          ..\n",
      "17/07/2018  03:04 p. m.    <DIR>          .anaconda\n",
      "19/07/2018  03:33 p. m.               504 .bash_history\n",
      "20/07/2018  09:42 a. m.    <DIR>          .conda\n",
      "20/07/2018  09:17 a. m.                43 .condarc\n",
      "17/07/2018  04:09 p. m.    <DIR>          .ipython\n",
      "18/07/2018  12:23 p. m.    <DIR>          .jupyter\n",
      "17/07/2018  02:43 p. m.    <DIR>          .vscode\n",
      "18/07/2018  12:15 p. m.    <DIR>          3D Objects\n",
      "19/07/2018  03:44 p. m.    <DIR>          Anaconda3\n",
      "17/07/2018  02:57 p. m.    <DIR>          Application Data\n",
      "17/07/2018  02:57 p. m.    <DIR>          CLC_Data\n",
      "18/07/2018  12:15 p. m.    <DIR>          Contacts\n",
      "20/07/2018  09:17 a. m.    <DIR>          Desktop\n",
      "18/07/2018  02:42 p. m.    <DIR>          Documents\n",
      "18/07/2018  02:42 p. m.    <DIR>          Downloads\n",
      "18/07/2018  12:15 p. m.    <DIR>          Favorites\n",
      "18/07/2018  12:15 p. m.    <DIR>          Links\n",
      "18/07/2018  12:15 p. m.    <DIR>          Music\n",
      "16/07/2018  07:33 p. m.    <DIR>          OneDrive\n",
      "18/07/2018  12:15 p. m.    <DIR>          Pictures\n",
      "18/07/2018  12:15 p. m.    <DIR>          Saved Games\n",
      "18/07/2018  12:15 p. m.    <DIR>          Searches\n",
      "18/07/2018  12:15 p. m.    <DIR>          Videos\n",
      "               2 archivos            547 bytes\n",
      "              23 dirs  83,506,057,216 bytes libres\n"
     ]
    }
   ],
   "source": [
    "ls ..\\"
   ]
  },
  {
   "cell_type": "code",
   "execution_count": 40,
   "metadata": {},
   "outputs": [
    {
     "name": "stdout",
     "output_type": "stream",
     "text": [
      " El volumen de la unidad C no tiene etiqueta.\n",
      " El número de serie del volumen es: 4C69-5113\n",
      "\n",
      " Directorio de C:\\Users\n",
      "\n",
      "16/07/2018  07:47 p. m.    <DIR>          .\n",
      "16/07/2018  07:47 p. m.    <DIR>          ..\n",
      "16/07/2018  07:30 p. m.    <DIR>          Public\n",
      "18/07/2018  02:41 p. m.    <DIR>          SalaD26\n",
      "               0 archivos              0 bytes\n",
      "               4 dirs  83,506,057,216 bytes libres\n"
     ]
    }
   ],
   "source": [
    "ls ..\\..\\"
   ]
  },
  {
   "cell_type": "code",
   "execution_count": null,
   "metadata": {},
   "outputs": [],
   "source": []
  },
  {
   "cell_type": "code",
   "execution_count": 42,
   "metadata": {},
   "outputs": [
    {
     "name": "stdout",
     "output_type": "stream",
     "text": [
      "C:\\Users\\SalaD26\\Desktop\\curso\\data\n"
     ]
    }
   ],
   "source": [
    "cd ~/Desktop/curso/data/"
   ]
  },
  {
   "cell_type": "code",
   "execution_count": 43,
   "metadata": {},
   "outputs": [
    {
     "name": "stdout",
     "output_type": "stream",
     "text": [
      " El volumen de la unidad C no tiene etiqueta.\n",
      " El número de serie del volumen es: 4C69-5113\n",
      "\n",
      " Directorio de C:\\Users\\SalaD26\\Desktop\\curso\\data\n",
      "\n",
      "18/07/2018  12:05 p. m.    <DIR>          .\n",
      "18/07/2018  12:05 p. m.    <DIR>          ..\n",
      "06/07/2018  03:37 p. m.    <DIR>          fasta\n",
      "               0 archivos              0 bytes\n",
      "               3 dirs  83,513,647,104 bytes libres\n"
     ]
    }
   ],
   "source": [
    "ls"
   ]
  },
  {
   "cell_type": "markdown",
   "metadata": {},
   "source": [
    "### cambiar a un directorio con dirección relativa"
   ]
  },
  {
   "cell_type": "code",
   "execution_count": 44,
   "metadata": {},
   "outputs": [
    {
     "name": "stdout",
     "output_type": "stream",
     "text": [
      "C:\\Users\\SalaD26\\Desktop\\curso\n"
     ]
    }
   ],
   "source": [
    "cd .."
   ]
  },
  {
   "cell_type": "code",
   "execution_count": 47,
   "metadata": {},
   "outputs": [
    {
     "name": "stdout",
     "output_type": "stream",
     "text": [
      " El volumen de la unidad C no tiene etiqueta.\n",
      " El número de serie del volumen es: 4C69-5113\n",
      "\n",
      " Directorio de C:\\Users\\SalaD26\\Desktop\\curso\n",
      "\n",
      "20/07/2018  09:49 a. m.    <DIR>          .\n",
      "20/07/2018  09:49 a. m.    <DIR>          ..\n",
      "17/07/2018  04:08 p. m.    <DIR>          .ipynb_checkpoints\n",
      "19/07/2018  03:31 p. m.    <DIR>          bigdata\n",
      "18/07/2018  12:05 p. m.    <DIR>          data\n",
      "19/07/2018  03:55 p. m.    <DIR>          documentos\n",
      "20/07/2018  09:49 a. m.    <DIR>          img\n",
      "20/07/2018  09:44 a. m.    <DIR>          jupyter\n",
      "18/07/2018  02:41 p. m.    <DIR>          programas_bioinformatica\n",
      "               0 archivos              0 bytes\n",
      "               9 dirs  83,516,579,840 bytes libres\n"
     ]
    }
   ],
   "source": [
    "ls "
   ]
  },
  {
   "cell_type": "code",
   "execution_count": 58,
   "metadata": {},
   "outputs": [
    {
     "name": "stdout",
     "output_type": "stream",
     "text": [
      "C:\\Users\\SalaD26\\Desktop\\curso\\img\n"
     ]
    }
   ],
   "source": [
    "cd img/"
   ]
  },
  {
   "cell_type": "code",
   "execution_count": 59,
   "metadata": {},
   "outputs": [
    {
     "name": "stdout",
     "output_type": "stream",
     "text": [
      "C:\\Users\\SalaD26\\Desktop\\curso\\data\\ab1\n"
     ]
    }
   ],
   "source": [
    "cd ../data/ab1\n"
   ]
  },
  {
   "cell_type": "markdown",
   "metadata": {
    "collapsed": true
   },
   "source": [
    "#### cambiar directorio con direccion absoluta"
   ]
  },
  {
   "cell_type": "code",
   "execution_count": 61,
   "metadata": {},
   "outputs": [
    {
     "name": "stdout",
     "output_type": "stream",
     "text": [
      "C:\\Users\\SalaD26\n"
     ]
    }
   ],
   "source": [
    "cd "
   ]
  },
  {
   "cell_type": "code",
   "execution_count": 62,
   "metadata": {},
   "outputs": [
    {
     "name": "stdout",
     "output_type": "stream",
     "text": [
      "C:\\Users\\SalaD26\\Desktop\\curso\\data\n"
     ]
    }
   ],
   "source": [
    "cd /Users/SalaD26/Desktop/curso/data"
   ]
  },
  {
   "cell_type": "code",
   "execution_count": 27,
   "metadata": {},
   "outputs": [
    {
     "name": "stdout",
     "output_type": "stream",
     "text": [
      "C:\\Users\\SALA GRAL\\Desktop\\bioinformatica_aplicada\n"
     ]
    }
   ],
   "source": [
    "cd ~/Desktop/bioinformatica_aplicada/"
   ]
  },
  {
   "cell_type": "code",
   "execution_count": 28,
   "metadata": {},
   "outputs": [
    {
     "name": "stdout",
     "output_type": "stream",
     "text": [
      "C:\\Users\\SALA GRAL\n"
     ]
    }
   ],
   "source": [
    "cd"
   ]
  },
  {
   "cell_type": "markdown",
   "metadata": {},
   "source": [
    "### Utilice Markdown y explique en la siguiente celda para qué sirve la virgulilla \"~\" al inicio de una cadena de directorios y archivo?"
   ]
  },
  {
   "cell_type": "code",
   "execution_count": 63,
   "metadata": {},
   "outputs": [
    {
     "name": "stdout",
     "output_type": "stream",
     "text": [
      "C:\\Users\\SalaD26\n"
     ]
    }
   ],
   "source": [
    "cd ~"
   ]
  },
  {
   "cell_type": "code",
   "execution_count": 65,
   "metadata": {},
   "outputs": [
    {
     "name": "stdout",
     "output_type": "stream",
     "text": [
      "C:\\Users\\SalaD26\\Desktop\n"
     ]
    }
   ],
   "source": [
    "cd \"C:/Users/SalaD26/Desktop\""
   ]
  },
  {
   "cell_type": "code",
   "execution_count": 66,
   "metadata": {},
   "outputs": [
    {
     "name": "stdout",
     "output_type": "stream",
     "text": [
      " El volumen de la unidad C no tiene etiqueta.\n",
      " El número de serie del volumen es: 4C69-5113\n",
      "\n",
      " Directorio de C:\\Users\\SalaD26\\Desktop\\curso\\data\\ab1\n",
      "\n",
      "20/07/2018  09:51 a. m.    <DIR>          .\n",
      "20/07/2018  09:51 a. m.    <DIR>          ..\n",
      "               0 archivos              0 bytes\n",
      "               2 dirs  83,629,154,304 bytes libres\n"
     ]
    }
   ],
   "source": [
    "ls \"curso/data/ab1/\""
   ]
  },
  {
   "cell_type": "code",
   "execution_count": 68,
   "metadata": {},
   "outputs": [
    {
     "name": "stdout",
     "output_type": "stream",
     "text": [
      " El volumen de la unidad C no tiene etiqueta.\n",
      " El número de serie del volumen es: 4C69-5113\n",
      "\n",
      " Directorio de C:\\Users\\SalaD26\\Desktop\\curso\\data\\ab1\n",
      "\n",
      "20/07/2018  09:51 a. m.    <DIR>          .\n",
      "20/07/2018  09:51 a. m.    <DIR>          ..\n",
      "               0 archivos              0 bytes\n",
      "               2 dirs  83,629,150,208 bytes libres\n"
     ]
    }
   ],
   "source": [
    "ls curso\\data\\ab1\\"
   ]
  },
  {
   "cell_type": "markdown",
   "metadata": {
    "collapsed": true
   },
   "source": [
    "### directorio de trabajo"
   ]
  },
  {
   "cell_type": "code",
   "execution_count": 69,
   "metadata": {},
   "outputs": [
    {
     "data": {
      "text/plain": [
       "'C:\\\\Users\\\\SalaD26\\\\Desktop'"
      ]
     },
     "execution_count": 69,
     "metadata": {},
     "output_type": "execute_result"
    }
   ],
   "source": [
    "pwd"
   ]
  },
  {
   "cell_type": "code",
   "execution_count": 70,
   "metadata": {},
   "outputs": [
    {
     "name": "stdout",
     "output_type": "stream",
     "text": [
      "C:\\Users\\SalaD26\\Desktop\\curso\\data\\ab1\n"
     ]
    }
   ],
   "source": [
    "cd curso/data/ab1/"
   ]
  },
  {
   "cell_type": "code",
   "execution_count": 71,
   "metadata": {},
   "outputs": [
    {
     "name": "stdout",
     "output_type": "stream",
     "text": [
      " El volumen de la unidad C no tiene etiqueta.\n",
      " El número de serie del volumen es: 4C69-5113\n",
      "\n",
      " Directorio de C:\\Users\\SalaD26\\Desktop\\curso\\data\\ab1\n",
      "\n",
      "20/07/2018  09:51 a. m.    <DIR>          .\n",
      "20/07/2018  09:51 a. m.    <DIR>          ..\n",
      "               0 archivos              0 bytes\n",
      "               2 dirs  83,629,150,208 bytes libres\n"
     ]
    }
   ],
   "source": [
    "ls"
   ]
  },
  {
   "cell_type": "code",
   "execution_count": 72,
   "metadata": {},
   "outputs": [
    {
     "name": "stdout",
     "output_type": "stream",
     "text": [
      "C:\\Users\\SalaD26\\Desktop\n"
     ]
    }
   ],
   "source": [
    "cd \"C:/Users/SalaD26/Desktop\""
   ]
  },
  {
   "cell_type": "code",
   "execution_count": 73,
   "metadata": {},
   "outputs": [
    {
     "name": "stdout",
     "output_type": "stream",
     "text": [
      "C:\\Users\\SalaD26\\Desktop\\curso\\data\n"
     ]
    }
   ],
   "source": [
    "cd curso/data/"
   ]
  },
  {
   "cell_type": "code",
   "execution_count": 74,
   "metadata": {},
   "outputs": [
    {
     "name": "stdout",
     "output_type": "stream",
     "text": [
      " El volumen de la unidad C no tiene etiqueta.\n",
      " El número de serie del volumen es: 4C69-5113\n",
      "\n",
      " Directorio de C:\\Users\\SalaD26\\Desktop\\curso\\data\n",
      "\n",
      "20/07/2018  09:51 a. m.    <DIR>          .\n",
      "20/07/2018  09:51 a. m.    <DIR>          ..\n",
      "20/07/2018  09:51 a. m.    <DIR>          ab1\n",
      "06/07/2018  03:37 p. m.    <DIR>          fasta\n",
      "               0 archivos              0 bytes\n",
      "               4 dirs  83,628,630,016 bytes libres\n"
     ]
    }
   ],
   "source": [
    "ls"
   ]
  },
  {
   "cell_type": "code",
   "execution_count": 75,
   "metadata": {},
   "outputs": [
    {
     "name": "stdout",
     "output_type": "stream",
     "text": [
      " El volumen de la unidad C no tiene etiqueta.\n",
      " El número de serie del volumen es: 4C69-5113\n",
      "\n",
      " Directorio de C:\\Users\\SalaD26\\Desktop\\curso\\data\\fasta\n",
      "\n",
      "06/07/2018  03:37 p. m.    <DIR>          .\n",
      "06/07/2018  03:37 p. m.    <DIR>          ..\n",
      "               0 archivos              0 bytes\n",
      "               2 dirs  83,628,613,632 bytes libres\n"
     ]
    }
   ],
   "source": [
    "ls \"fasta/\""
   ]
  },
  {
   "cell_type": "markdown",
   "metadata": {},
   "source": [
    "### Explique qué hizo el comando anterior. Dé formato a su texto, use itálicas, negritas, encabezado y subrayado  "
   ]
  },
  {
   "cell_type": "markdown",
   "metadata": {
    "collapsed": true
   },
   "source": []
  },
  {
   "cell_type": "code",
   "execution_count": 76,
   "metadata": {},
   "outputs": [
    {
     "name": "stdout",
     "output_type": "stream",
     "text": [
      "C:\\Users\\SalaD26\\Desktop\\curso\\data\\fasta\n"
     ]
    }
   ],
   "source": [
    "cd fasta/"
   ]
  },
  {
   "cell_type": "code",
   "execution_count": 77,
   "metadata": {},
   "outputs": [
    {
     "name": "stdout",
     "output_type": "stream",
     "text": [
      "C:\\Users\\SalaD26\\Desktop\\curso\\data\n"
     ]
    }
   ],
   "source": [
    "cd .."
   ]
  },
  {
   "cell_type": "code",
   "execution_count": 78,
   "metadata": {},
   "outputs": [
    {
     "name": "stdout",
     "output_type": "stream",
     "text": [
      " El volumen de la unidad C no tiene etiqueta.\n",
      " El número de serie del volumen es: 4C69-5113\n",
      "\n",
      " Directorio de C:\\Users\\SalaD26\\Desktop\\curso\\data\n",
      "\n",
      "20/07/2018  09:51 a. m.    <DIR>          .\n",
      "20/07/2018  09:51 a. m.    <DIR>          ..\n",
      "20/07/2018  09:51 a. m.    <DIR>          ab1\n",
      "06/07/2018  03:37 p. m.    <DIR>          fasta\n",
      "               0 archivos              0 bytes\n",
      "               4 dirs  83,628,625,920 bytes libres\n"
     ]
    }
   ],
   "source": [
    "ls"
   ]
  },
  {
   "cell_type": "code",
   "execution_count": 79,
   "metadata": {},
   "outputs": [
    {
     "name": "stdout",
     "output_type": "stream",
     "text": [
      "C:\\Users\\SalaD26\\Desktop\\curso\n"
     ]
    }
   ],
   "source": [
    "cd .."
   ]
  },
  {
   "cell_type": "code",
   "execution_count": null,
   "metadata": {},
   "outputs": [],
   "source": []
  },
  {
   "cell_type": "code",
   "execution_count": null,
   "metadata": {},
   "outputs": [],
   "source": []
  },
  {
   "cell_type": "code",
   "execution_count": null,
   "metadata": {},
   "outputs": [],
   "source": []
  },
  {
   "cell_type": "code",
   "execution_count": null,
   "metadata": {},
   "outputs": [],
   "source": []
  },
  {
   "cell_type": "code",
   "execution_count": null,
   "metadata": {},
   "outputs": [],
   "source": []
  },
  {
   "cell_type": "code",
   "execution_count": null,
   "metadata": {},
   "outputs": [],
   "source": []
  },
  {
   "cell_type": "code",
   "execution_count": null,
   "metadata": {},
   "outputs": [],
   "source": []
  },
  {
   "cell_type": "code",
   "execution_count": null,
   "metadata": {},
   "outputs": [],
   "source": []
  },
  {
   "cell_type": "code",
   "execution_count": null,
   "metadata": {},
   "outputs": [],
   "source": []
  },
  {
   "cell_type": "code",
   "execution_count": null,
   "metadata": {},
   "outputs": [],
   "source": []
  },
  {
   "cell_type": "code",
   "execution_count": null,
   "metadata": {},
   "outputs": [],
   "source": []
  },
  {
   "cell_type": "code",
   "execution_count": null,
   "metadata": {},
   "outputs": [],
   "source": []
  },
  {
   "cell_type": "code",
   "execution_count": null,
   "metadata": {},
   "outputs": [],
   "source": []
  },
  {
   "cell_type": "markdown",
   "metadata": {},
   "source": [
    "### crear el directorio \"sistema_operativo\""
   ]
  },
  {
   "cell_type": "raw",
   "metadata": {
    "collapsed": true
   },
   "source": [
    "mkdir sistema_operativo"
   ]
  },
  {
   "cell_type": "code",
   "execution_count": null,
   "metadata": {
    "collapsed": true,
    "scrolled": true
   },
   "outputs": [],
   "source": [
    "ls"
   ]
  },
  {
   "cell_type": "code",
   "execution_count": null,
   "metadata": {
    "collapsed": true
   },
   "outputs": [],
   "source": [
    "cd sistema_operativo/"
   ]
  },
  {
   "cell_type": "markdown",
   "metadata": {},
   "source": [
    "### copia archivos entre directorios"
   ]
  },
  {
   "cell_type": "code",
   "execution_count": null,
   "metadata": {
    "collapsed": true
   },
   "outputs": [],
   "source": [
    "ls \"../data/seq/\""
   ]
  },
  {
   "cell_type": "code",
   "execution_count": null,
   "metadata": {
    "collapsed": true
   },
   "outputs": [],
   "source": [
    "pwd"
   ]
  },
  {
   "cell_type": "code",
   "execution_count": null,
   "metadata": {
    "collapsed": true
   },
   "outputs": [],
   "source": [
    "ls"
   ]
  },
  {
   "cell_type": "code",
   "execution_count": null,
   "metadata": {
    "collapsed": true
   },
   "outputs": [],
   "source": []
  },
  {
   "cell_type": "markdown",
   "metadata": {
    "collapsed": true
   },
   "source": [
    "### verificar que el archivo no se borró "
   ]
  },
  {
   "cell_type": "code",
   "execution_count": null,
   "metadata": {
    "collapsed": true,
    "scrolled": false
   },
   "outputs": [],
   "source": [
    "ls \"../data/seq/\""
   ]
  },
  {
   "cell_type": "markdown",
   "metadata": {},
   "source": [
    "# Otros ejercicios"
   ]
  },
  {
   "cell_type": "markdown",
   "metadata": {},
   "source": [
    "### cambio de nombre de archivos ab1"
   ]
  },
  {
   "cell_type": "code",
   "execution_count": null,
   "metadata": {
    "collapsed": true
   },
   "outputs": [],
   "source": [
    "import os, sys"
   ]
  },
  {
   "cell_type": "code",
   "execution_count": null,
   "metadata": {
    "collapsed": true
   },
   "outputs": [],
   "source": [
    "cd \"C:/Users/SALA GRAL/Desktop/bioinformatica_aplicada/\""
   ]
  },
  {
   "cell_type": "code",
   "execution_count": null,
   "metadata": {
    "collapsed": true
   },
   "outputs": [],
   "source": [
    "pwd"
   ]
  },
  {
   "cell_type": "code",
   "execution_count": null,
   "metadata": {
    "collapsed": true
   },
   "outputs": [],
   "source": [
    "ls \"data/ab1/\""
   ]
  },
  {
   "cell_type": "code",
   "execution_count": null,
   "metadata": {
    "collapsed": true
   },
   "outputs": [],
   "source": [
    "lista = os.listdir(path =\"data/ab1/\")\n",
    "lista"
   ]
  },
  {
   "cell_type": "code",
   "execution_count": null,
   "metadata": {
    "collapsed": true
   },
   "outputs": [],
   "source": [
    "#proceso para cambiar todos los archivos de subsubdirectorios a un subdirectorio\n",
    "# Se verifica con la impresion que son los archivos que se desean cambiar\n",
    "# entonces se elimina el simbolo de \"#\" de la linea \"os.rename (nom1, row1)\" para ejecutar el proceso\n",
    "n=0\n",
    "print (\"renaming             \",\"      \\t\",\"        to\" )\n",
    "\n",
    "for row in lista:\n",
    "    if row[0]==\".\":\n",
    "        continue\n",
    "    nom=row[:row.find(\"_\")]\n",
    "    if n%2!=0:\n",
    "        nom1=\"data/seq/\" +nom+\"R\"+row[-4:]\n",
    "    else:\n",
    "        nom1=\"data/seq/\" +nom+\"F\"+row[-4:]\n",
    "\n",
    "    #row = row.replace(\"(\", \"\\(\")\n",
    "    #row = row.replace(\")\", \"\\)\")\n",
    "    row = \"data/ab1/\"+row\n",
    "    print (row, \"      \\t\", nom1)\n",
    "    #os.rename (row, nom1)\n",
    "    n+=1\n",
    "print(\"finished\", n, \"files\")"
   ]
  },
  {
   "cell_type": "code",
   "execution_count": null,
   "metadata": {
    "collapsed": true,
    "scrolled": false
   },
   "outputs": [],
   "source": [
    "ls \"data/ab1/\""
   ]
  },
  {
   "cell_type": "code",
   "execution_count": null,
   "metadata": {
    "collapsed": true
   },
   "outputs": [],
   "source": [
    "ls \"data/seq/\""
   ]
  },
  {
   "cell_type": "markdown",
   "metadata": {},
   "source": [
    "### Describa qué ocurrió en los directorios \"data/ab1/\" y \"data/seq\""
   ]
  },
  {
   "cell_type": "code",
   "execution_count": null,
   "metadata": {
    "collapsed": true
   },
   "outputs": [],
   "source": []
  },
  {
   "cell_type": "code",
   "execution_count": null,
   "metadata": {
    "collapsed": true
   },
   "outputs": [],
   "source": []
  },
  {
   "cell_type": "code",
   "execution_count": null,
   "metadata": {
    "collapsed": true
   },
   "outputs": [],
   "source": [
    "ls"
   ]
  },
  {
   "cell_type": "code",
   "execution_count": null,
   "metadata": {
    "collapsed": true
   },
   "outputs": [],
   "source": []
  },
  {
   "cell_type": "code",
   "execution_count": null,
   "metadata": {
    "collapsed": true
   },
   "outputs": [],
   "source": [
    "from IPython.display import Image"
   ]
  },
  {
   "cell_type": "markdown",
   "metadata": {
    "collapsed": true
   },
   "source": [
    "# Manejo de archivos"
   ]
  },
  {
   "cell_type": "markdown",
   "metadata": {
    "collapsed": true
   },
   "source": [
    "## desafortunadamente Windows tiene otra forma de realizar el manejo de archivos, por lo que se utilizará la opción de bash para los siguientes ejercicios"
   ]
  },
  {
   "cell_type": "markdown",
   "metadata": {},
   "source": [
    "<center><img src=\"C:/Users/SALA GRAL/Desktop/bioinformatica_aplicada/data/img/git_bash.png\"/ width = 35%></center> \n"
   ]
  },
  {
   "cell_type": "code",
   "execution_count": null,
   "metadata": {
    "collapsed": true
   },
   "outputs": [],
   "source": [
    "cd \"C:/Users/SALA GRAL/Desktop/bioinformatica_aplicada/\""
   ]
  },
  {
   "cell_type": "code",
   "execution_count": null,
   "metadata": {
    "collapsed": true,
    "scrolled": false
   },
   "outputs": [],
   "source": [
    "Image(\"data/img/git_bash.png\")"
   ]
  },
  {
   "cell_type": "code",
   "execution_count": null,
   "metadata": {
    "collapsed": true
   },
   "outputs": [],
   "source": [
    "pwd\n"
   ]
  },
  {
   "cell_type": "code",
   "execution_count": null,
   "metadata": {
    "collapsed": true
   },
   "outputs": [],
   "source": [
    "ls \"C:/Users/SALA GRAL/Desktop/bioinformatica_aplicada/data/img/\""
   ]
  },
  {
   "cell_type": "code",
   "execution_count": null,
   "metadata": {
    "collapsed": true
   },
   "outputs": [],
   "source": [
    "pwd"
   ]
  },
  {
   "cell_type": "code",
   "execution_count": null,
   "metadata": {
    "collapsed": true
   },
   "outputs": [],
   "source": [
    "ls \"data/seq/\""
   ]
  },
  {
   "cell_type": "code",
   "execution_count": null,
   "metadata": {
    "collapsed": true
   },
   "outputs": [],
   "source": [
    "ls\n"
   ]
  },
  {
   "cell_type": "code",
   "execution_count": null,
   "metadata": {
    "collapsed": true
   },
   "outputs": [],
   "source": [
    "cd data"
   ]
  },
  {
   "cell_type": "code",
   "execution_count": null,
   "metadata": {
    "collapsed": true
   },
   "outputs": [],
   "source": [
    "# conteo de lineas del archivo"
   ]
  },
  {
   "cell_type": "code",
   "execution_count": null,
   "metadata": {
    "collapsed": true
   },
   "outputs": [],
   "source": [
    "!wc bacteria_NR_043902.fa"
   ]
  },
  {
   "cell_type": "code",
   "execution_count": null,
   "metadata": {
    "collapsed": true,
    "scrolled": false
   },
   "outputs": [],
   "source": [
    "!man wc"
   ]
  },
  {
   "cell_type": "code",
   "execution_count": null,
   "metadata": {
    "collapsed": true
   },
   "outputs": [],
   "source": [
    "!wc -l bacteria_NR_043902.fa # conteo de lineas"
   ]
  },
  {
   "cell_type": "code",
   "execution_count": null,
   "metadata": {
    "collapsed": true
   },
   "outputs": [],
   "source": [
    "!wc -w bacteria_NR_043902.fa # conteo de palabras"
   ]
  },
  {
   "cell_type": "code",
   "execution_count": null,
   "metadata": {
    "collapsed": true
   },
   "outputs": [],
   "source": [
    "!wc -c bacteria_NR_043902.fa # conteo de caracteres"
   ]
  },
  {
   "cell_type": "code",
   "execution_count": null,
   "metadata": {
    "collapsed": true
   },
   "outputs": [],
   "source": [
    "!grep \">\" bacteria_NR_043902.fa"
   ]
  },
  {
   "cell_type": "code",
   "execution_count": null,
   "metadata": {
    "collapsed": true
   },
   "outputs": [],
   "source": [
    "!grep \"A\" bacteria_NR_043902.fa| wc -c"
   ]
  },
  {
   "cell_type": "code",
   "execution_count": null,
   "metadata": {
    "collapsed": true,
    "scrolled": false
   },
   "outputs": [],
   "source": [
    "!man grep"
   ]
  },
  {
   "cell_type": "markdown",
   "metadata": {},
   "source": [
    "# Construcción de un archivo fasta con varias secuencias"
   ]
  },
  {
   "cell_type": "code",
   "execution_count": null,
   "metadata": {
    "collapsed": true
   },
   "outputs": [],
   "source": [
    "lista = os.listdir(path =\"seq/\")\n",
    "lista"
   ]
  },
  {
   "cell_type": "code",
   "execution_count": null,
   "metadata": {
    "collapsed": true,
    "scrolled": false
   },
   "outputs": [],
   "source": [
    "secuencias=[]    # crea una variable \n",
    "for row in lista:\n",
    "    if row[0]==\".\" or row[-3:]==\"ab1\":   # si el inicio de la linea es punto, pasa a la siguiente linea\n",
    "        continue\n",
    "    archivo = \"seq/\"+row\n",
    "    secuencia = \"\"\n",
    "    with open(archivo, 'r') as f:\n",
    "        for arc in f.readlines():  # lee lineas\n",
    "            secuencia += arc.strip()\n",
    "    linea = row,secuencia\n",
    "    secuencias.append(linea)    # agrega \n",
    "\n",
    "secuencias[:2]  "
   ]
  },
  {
   "cell_type": "code",
   "execution_count": null,
   "metadata": {
    "collapsed": true
   },
   "outputs": [],
   "source": [
    "for row in secuencias:\n",
    "    print (row[0], row[1][:20])"
   ]
  },
  {
   "cell_type": "markdown",
   "metadata": {},
   "source": [
    "# archivo fasta"
   ]
  },
  {
   "cell_type": "markdown",
   "metadata": {},
   "source": [
    "#### describa las caracteristicas de un archivo fasta"
   ]
  },
  {
   "cell_type": "code",
   "execution_count": null,
   "metadata": {
    "collapsed": true
   },
   "outputs": [],
   "source": []
  },
  {
   "cell_type": "code",
   "execution_count": null,
   "metadata": {
    "collapsed": true
   },
   "outputs": [],
   "source": [
    "for row in secuencias:\n",
    "    print (\">\" +row[0], \"\\n\"+ row[1][:20])"
   ]
  },
  {
   "cell_type": "code",
   "execution_count": null,
   "metadata": {
    "collapsed": true,
    "scrolled": false
   },
   "outputs": [],
   "source": [
    "f_out= open(\"secuencias.fasta\",'w')\n",
    "for row in secuencias:\n",
    "    lineas = \">\" +row[0]+ \"\\n\"+ row[1]+ \"\\n\"\n",
    "    print (lineas)\n",
    "    f_out.write(lineas)\n",
    "f_out.close()"
   ]
  },
  {
   "cell_type": "code",
   "execution_count": null,
   "metadata": {
    "collapsed": true
   },
   "outputs": [],
   "source": [
    "!more secuencias.fasta"
   ]
  },
  {
   "cell_type": "code",
   "execution_count": null,
   "metadata": {
    "collapsed": true
   },
   "outputs": [],
   "source": [
    "# correr en el bash\n",
    "#!grep \">\" secuencias.fasta"
   ]
  },
  {
   "cell_type": "code",
   "execution_count": null,
   "metadata": {
    "collapsed": true
   },
   "outputs": [],
   "source": [
    "# contar el numero de secuencias en el archivo"
   ]
  },
  {
   "cell_type": "raw",
   "metadata": {},
   "source": [
    "!grep \">\" secuencias.fasta |wc -l"
   ]
  },
  {
   "cell_type": "markdown",
   "metadata": {
    "collapsed": true
   },
   "source": [
    "# describa qué hace grep y wc"
   ]
  },
  {
   "cell_type": "code",
   "execution_count": null,
   "metadata": {
    "collapsed": true
   },
   "outputs": [],
   "source": []
  }
 ],
 "metadata": {
  "kernelspec": {
   "display_name": "Python 3",
   "language": "python",
   "name": "python3"
  },
  "language_info": {
   "codemirror_mode": {
    "name": "ipython",
    "version": 3
   },
   "file_extension": ".py",
   "mimetype": "text/x-python",
   "name": "python",
   "nbconvert_exporter": "python",
   "pygments_lexer": "ipython3",
   "version": "3.6.5"
  }
 },
 "nbformat": 4,
 "nbformat_minor": 2
}
