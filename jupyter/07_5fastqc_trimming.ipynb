{
 "cells": [
  {
   "cell_type": "markdown",
   "metadata": {},
   "source": [
    "# Procedimiento para analizar la calidad de las secuencias con FastQC y eliminación de las regiones de baja calidad."
   ]
  },
  {
   "cell_type": "markdown",
   "metadata": {},
   "source": [
    "# FastQC\n",
    "Se puede encontrar más información en las siguientes páginas"
   ]
  },
  {
   "cell_type": "markdown",
   "metadata": {},
   "source": [
    "http://www.bioinformatics.babraham.ac.uk/projects/fastqc/\n",
    "<img src=\"img/fastqc1.png\">\n"
   ]
  },
  {
   "cell_type": "markdown",
   "metadata": {},
   "source": [
    "http://www.bioinformatics.babraham.ac.uk/projects/download.html#fastqc\n",
    "<img src=\"img/fastqc2.png\">\n",
    "\n"
   ]
  },
  {
   "cell_type": "markdown",
   "metadata": {},
   "source": [
    "# Asimismo, las secuencias tienen adaptadores, los cuales debes ser removidos\n",
    "# Se utiliza el programa Trim_galore"
   ]
  },
  {
   "cell_type": "markdown",
   "metadata": {},
   "source": [
    "https://www.bioinformatics.babraham.ac.uk/projects/trim_galore/\n",
    "\n",
    "<img src=\"./img/trim_galore.png\">\n"
   ]
  },
  {
   "cell_type": "markdown",
   "metadata": {},
   "source": [
    "https://www.bioinformatics.babraham.ac.uk/projects/download.html#trim_galore\n",
    "\n",
    "<img src=\"img/trim_galore2.png\">\n"
   ]
  },
  {
   "cell_type": "markdown",
   "metadata": {},
   "source": [
    "#### al final de la página"
   ]
  },
  {
   "cell_type": "markdown",
   "metadata": {},
   "source": [
    "https://www.bioinformatics.babraham.ac.uk/projects/download.html#trim_galore\n",
    "<img src=\"img/trim_galore3.png\">\n"
   ]
  },
  {
   "cell_type": "code",
   "execution_count": 2,
   "metadata": {},
   "outputs": [],
   "source": [
    "import os\n",
    "import zipfile\n",
    "from IPython.display import display, Image"
   ]
  },
  {
   "cell_type": "code",
   "execution_count": 2,
   "metadata": {},
   "outputs": [
    {
     "data": {
      "text/plain": [
       "'/home/user1/Desktop/jupyter'"
      ]
     },
     "execution_count": 2,
     "metadata": {},
     "output_type": "execute_result"
    }
   ],
   "source": [
    "pwd"
   ]
  },
  {
   "cell_type": "code",
   "execution_count": 3,
   "metadata": {},
   "outputs": [
    {
     "name": "stdout",
     "output_type": "stream",
     "text": [
      "/home/user1/Desktop/data/ejercicio_fastqc\n"
     ]
    }
   ],
   "source": [
    "cd ~/Desktop/data/ejercicio_fastqc"
   ]
  },
  {
   "cell_type": "code",
   "execution_count": 4,
   "metadata": {},
   "outputs": [
    {
     "name": "stdout",
     "output_type": "stream",
     "text": [
      "8_S356_L001_R1_001.fastq\r\n",
      "8_S356_L001_R1_001.fastq_trimming_report.txt\r\n",
      "8_S356_L001_R1_001_fastqc.html\r\n",
      "8_S356_L001_R1_001_fastqc.zip\r\n",
      "8_S356_L001_R1_001_val_1.fq\r\n",
      "8_S356_L001_R1_001_val_1_fastqc.html\r\n",
      "8_S356_L001_R1_001_val_1_fastqc.zip\r\n",
      "8_S356_L001_R2_001.fastq\r\n",
      "8_S356_L001_R2_001.fastq_trimming_report.txt\r\n",
      "8_S356_L001_R2_001_fastqc.html\r\n",
      "8_S356_L001_R2_001_fastqc.zip\r\n",
      "8_S356_L001_R2_001_val_2.fq\r\n",
      "8_S356_L001_R2_001_val_2_fastqc.html\r\n",
      "8_S356_L001_R2_001_val_2_fastqc.zip\r\n",
      "\u001b[0m\u001b[01;34m8_S356_fastqc\u001b[0m/\r\n",
      "jupyter.png\r\n",
      "jupyter_navegador.png\r\n"
     ]
    }
   ],
   "source": [
    "ls"
   ]
  },
  {
   "cell_type": "code",
   "execution_count": 5,
   "metadata": {
    "scrolled": true
   },
   "outputs": [
    {
     "name": "stdout",
     "output_type": "stream",
     "text": [
      "Analysis complete for 8_S356_L001_R1_001.fastq\n",
      "Analysis complete for 8_S356_L001_R2_001.fastq\n"
     ]
    },
    {
     "name": "stderr",
     "output_type": "stream",
     "text": [
      "Started analysis of 8_S356_L001_R1_001.fastq\n",
      "Approx 15% complete for 8_S356_L001_R1_001.fastq\n",
      "Approx 30% complete for 8_S356_L001_R1_001.fastq\n",
      "Approx 45% complete for 8_S356_L001_R1_001.fastq\n",
      "Approx 60% complete for 8_S356_L001_R1_001.fastq\n",
      "Approx 75% complete for 8_S356_L001_R1_001.fastq\n",
      "Approx 90% complete for 8_S356_L001_R1_001.fastq\n",
      "Started analysis of 8_S356_L001_R2_001.fastq\n",
      "Approx 15% complete for 8_S356_L001_R2_001.fastq\n",
      "Approx 30% complete for 8_S356_L001_R2_001.fastq\n",
      "Approx 45% complete for 8_S356_L001_R2_001.fastq\n",
      "Approx 60% complete for 8_S356_L001_R2_001.fastq\n",
      "Approx 75% complete for 8_S356_L001_R2_001.fastq\n",
      "Approx 90% complete for 8_S356_L001_R2_001.fastq\n"
     ]
    }
   ],
   "source": [
    "%%bash\n",
    "fastqc 8_S356_L001_R1_001.fastq \n",
    "fastqc 8_S356_L001_R2_001.fastq "
   ]
  },
  {
   "cell_type": "code",
   "execution_count": 5,
   "metadata": {},
   "outputs": [
    {
     "name": "stdout",
     "output_type": "stream",
     "text": [
      "8_S356_L001_R1_001.fastq\r\n",
      "8_S356_L001_R1_001.fastq_trimming_report.txt\r\n",
      "8_S356_L001_R1_001_fastqc.html\r\n",
      "8_S356_L001_R1_001_fastqc.zip\r\n",
      "8_S356_L001_R1_001_val_1.fq\r\n",
      "8_S356_L001_R1_001_val_1_fastqc.html\r\n",
      "8_S356_L001_R1_001_val_1_fastqc.zip\r\n",
      "8_S356_L001_R2_001.fastq\r\n",
      "8_S356_L001_R2_001.fastq_trimming_report.txt\r\n",
      "8_S356_L001_R2_001_fastqc.html\r\n",
      "8_S356_L001_R2_001_fastqc.zip\r\n",
      "8_S356_L001_R2_001_val_2.fq\r\n",
      "8_S356_L001_R2_001_val_2_fastqc.html\r\n",
      "8_S356_L001_R2_001_val_2_fastqc.zip\r\n",
      "\u001b[0m\u001b[01;34m8_S356_fastqc\u001b[0m/\r\n",
      "jupyter.png\r\n",
      "jupyter_navegador.png\r\n"
     ]
    }
   ],
   "source": [
    "ls "
   ]
  },
  {
   "cell_type": "markdown",
   "metadata": {},
   "source": [
    "## Los resultados se visualizan abriendo lo archivos *.html* que se generaron\n",
    "### en este caso son: \n",
    "`8_S356_L001_R1_001_fastqc.html\n",
    "8_S356_L001_R2_001_fastqc.html`\n",
    "### abra los archivos desde el navegador de Jupyter"
   ]
  },
  {
   "cell_type": "markdown",
   "metadata": {},
   "source": [
    "## Analice sus resultados y discuta con sus compañeros"
   ]
  },
  {
   "cell_type": "code",
   "execution_count": null,
   "metadata": {},
   "outputs": [],
   "source": []
  },
  {
   "cell_type": "markdown",
   "metadata": {},
   "source": [
    "### Qué archivo tiene mejor calidad?"
   ]
  },
  {
   "cell_type": "code",
   "execution_count": null,
   "metadata": {},
   "outputs": [],
   "source": []
  },
  {
   "cell_type": "markdown",
   "metadata": {},
   "source": [
    "### Escriba sus conclusiones y qué análisis procederá"
   ]
  },
  {
   "cell_type": "code",
   "execution_count": null,
   "metadata": {},
   "outputs": [],
   "source": []
  },
  {
   "cell_type": "markdown",
   "metadata": {},
   "source": [
    "# Para usuarios avanzados se dan los siguientes comandos para visualizar los datos dentro de la bitácora sin necesidad de cambiar de pestañas. \n",
    "# Los archivos se guardarán en el subdirectorio\n",
    "`8_S356_fastqc/`"
   ]
  },
  {
   "cell_type": "code",
   "execution_count": null,
   "metadata": {},
   "outputs": [],
   "source": [
    "os.makedirs(\"8_S356_fastqc\", exist_ok = True)"
   ]
  },
  {
   "cell_type": "code",
   "execution_count": null,
   "metadata": {},
   "outputs": [],
   "source": [
    "ls"
   ]
  },
  {
   "cell_type": "code",
   "execution_count": null,
   "metadata": {},
   "outputs": [],
   "source": [
    "zip_ref = zipfile.ZipFile(\"8_S356_L001_R1_001_fastqc.zip\", 'r')\n",
    "zip_ref.extractall(\"8_S356_fastqc/\")\n",
    "zip_ref.close()"
   ]
  },
  {
   "cell_type": "code",
   "execution_count": null,
   "metadata": {},
   "outputs": [],
   "source": [
    "zip_ref = zipfile.ZipFile(\"8_S356_L001_R2_001_fastqc.zip\", 'r')\n",
    "zip_ref.extractall(\"8_S356_fastqc/\")\n",
    "zip_ref.close()"
   ]
  },
  {
   "cell_type": "code",
   "execution_count": null,
   "metadata": {},
   "outputs": [],
   "source": [
    "ls 8_S356_fastqc/"
   ]
  },
  {
   "cell_type": "code",
   "execution_count": null,
   "metadata": {},
   "outputs": [],
   "source": [
    "ls 8_S356_fastqc/8_S356_L001_R1_001_fastqc/"
   ]
  },
  {
   "cell_type": "code",
   "execution_count": null,
   "metadata": {},
   "outputs": [],
   "source": [
    "ls 8_S356_fastqc/8_S356_L001_R2_001_fastqc/"
   ]
  },
  {
   "cell_type": "code",
   "execution_count": null,
   "metadata": {
    "scrolled": false
   },
   "outputs": [],
   "source": [
    "names = !ls 8_S356_fastqc/8_S356_L001_R1_001_fastqc/Images/*.png\n",
    "\n",
    "for name in names:\n",
    "    display(Image(name, width=800))"
   ]
  },
  {
   "cell_type": "code",
   "execution_count": null,
   "metadata": {
    "scrolled": false
   },
   "outputs": [],
   "source": [
    "names = !ls 8_S356_fastqc/8_S356_L001_R2_001_fastqc/Images/*.png\n",
    "for name in names:\n",
    "    display(Image(name, width=800))"
   ]
  },
  {
   "cell_type": "code",
   "execution_count": null,
   "metadata": {},
   "outputs": [],
   "source": [
    "print(display(Image('8_S356_fastqc/8_S356_L001_R1_001_fastqc/Images/per_base_quality.png', width=400)),\n",
    "      display(Image('8_S356_fastqc/8_S356_L001_R2_001_fastqc/Images/per_base_quality.png', width=400)))"
   ]
  },
  {
   "cell_type": "code",
   "execution_count": null,
   "metadata": {},
   "outputs": [],
   "source": []
  },
  {
   "cell_type": "markdown",
   "metadata": {},
   "source": [
    "# Para la eliminación de adaptadores y zonas de baja calidad.\n",
    "# Se utiliza el programa Trim_galore, el cual creará otros archivos `.fq` que contienen las secuencias sin regiones de baja calidad."
   ]
  },
  {
   "cell_type": "markdown",
   "metadata": {},
   "source": [
    "### En caso de requerir ayuda del trim galore se puede visualizar el manual mediante el comando"
   ]
  },
  {
   "cell_type": "code",
   "execution_count": null,
   "metadata": {
    "scrolled": false
   },
   "outputs": [],
   "source": [
    "!trim_galore -help"
   ]
  },
  {
   "cell_type": "code",
   "execution_count": 7,
   "metadata": {},
   "outputs": [
    {
     "name": "stdout",
     "output_type": "stream",
     "text": [
      "8_S356_L001_R1_001.fastq\r\n",
      "8_S356_L001_R1_001.fastq_trimming_report.txt\r\n",
      "8_S356_L001_R1_001_fastqc.html\r\n",
      "8_S356_L001_R1_001_fastqc.zip\r\n",
      "8_S356_L001_R1_001_val_1.fq\r\n",
      "8_S356_L001_R1_001_val_1_fastqc.html\r\n",
      "8_S356_L001_R1_001_val_1_fastqc.zip\r\n",
      "8_S356_L001_R2_001.fastq\r\n",
      "8_S356_L001_R2_001.fastq_trimming_report.txt\r\n",
      "8_S356_L001_R2_001_fastqc.html\r\n",
      "8_S356_L001_R2_001_fastqc.zip\r\n",
      "8_S356_L001_R2_001_val_2.fq\r\n",
      "8_S356_L001_R2_001_val_2_fastqc.html\r\n",
      "8_S356_L001_R2_001_val_2_fastqc.zip\r\n",
      "\u001b[0m\u001b[01;34m8_S356_fastqc\u001b[0m/\r\n",
      "jupyter.png\r\n",
      "jupyter_navegador.png\r\n"
     ]
    }
   ],
   "source": [
    "ls"
   ]
  },
  {
   "cell_type": "code",
   "execution_count": 29,
   "metadata": {
    "scrolled": true
   },
   "outputs": [
    {
     "name": "stdout",
     "output_type": "stream",
     "text": [
      "No quality encoding type selected. Assuming that the data provided uses Sanger encoded Phred scores (default)\n",
      "\n",
      "Path to Cutadapt set as: 'cutadapt' (default)\n",
      "1.16\n",
      "Cutadapt seems to be working fine (tested command 'cutadapt --version')\n",
      "\n",
      "\n",
      "AUTO-DETECTING ADAPTER TYPE\n",
      "===========================\n",
      "Attempting to auto-detect adapter type from the first 1 million sequences of the first file (>> 8_S356_L001_R1_001.fastq <<)\n",
      "\n",
      "Found perfect matches for the following adapter sequences:\n",
      "Adapter type\tCount\tSequence\tSequences analysed\tPercentage\n",
      "Nextera\t2\tCTGTCTCTTATA\t6652\t0.03\n",
      "smallRNA\t0\tTGGAATTCTCGG\t6652\t0.00\n",
      "Illumina\t0\tAGATCGGAAGAGC\t6652\t0.00\n",
      "Using Nextera adapter for trimming (count: 2). Second best hit was smallRNA (count: 0)\n",
      "\n",
      "Writing report to '8_S356_L001_R1_001.fastq_trimming_report.txt'\n",
      "\n",
      "SUMMARISING RUN PARAMETERS\n",
      "==========================\n",
      "Input filename: 8_S356_L001_R1_001.fastq\n",
      "Trimming mode: paired-end\n",
      "Trim Galore version: 0.5.0\n",
      "Cutadapt version: 1.16\n",
      "Quality Phred score cutoff: 20\n",
      "Quality encoding type selected: ASCII+33\n",
      "Adapter sequence: 'CTGTCTCTTATA' (Nextera Transposase sequence; auto-detected)\n",
      "Maximum trimming error rate: 0.1 (default)\n",
      "Minimum required adapter overlap (stringency): 1 bp\n",
      "Minimum required sequence length for both reads before a sequence pair gets removed: 20 bp\n",
      "\n",
      "Writing final adapter and quality trimmed output to 8_S356_L001_R1_001_trimmed.fq\n",
      "\n",
      "\n",
      "  >>> Now performing quality (cutoff 20) and adapter trimming in a single pass for the adapter sequence: 'CTGTCTCTTATA' from file 8_S356_L001_R1_001.fastq <<< \n",
      "This is cutadapt 1.16 with Python 3.6.4\n",
      "Command line parameters: -f fastq -e 0.1 -q 20 -O 1 -a CTGTCTCTTATA 8_S356_L001_R1_001.fastq\n",
      "Running on 1 core\n",
      "Trimming 1 adapter with at most 10.0% errors in single-end mode ...\n",
      "Finished in 0.19 s (29 us/read; 2.10 M reads/minute).\n",
      "\n",
      "=== Summary ===\n",
      "\n",
      "Total reads processed:                   6,652\n",
      "Reads with adapters:                     1,627 (24.5%)\n",
      "Reads written (passing filters):         6,652 (100.0%)\n",
      "\n",
      "Total basepairs processed:     1,477,486 bp\n",
      "Quality-trimmed:                   8,177 bp (0.6%)\n",
      "Total written (filtered):      1,464,871 bp (99.1%)\n",
      "\n",
      "=== Adapter 1 ===\n",
      "\n",
      "Sequence: CTGTCTCTTATA; Type: regular 3'; Length: 12; Trimmed: 1627 times.\n",
      "\n",
      "No. of allowed errors:\n",
      "0-9 bp: 0; 10-12 bp: 1\n",
      "\n",
      "Bases preceding removed adapters:\n",
      "  A: 37.4%\n",
      "  C: 20.4%\n",
      "  G: 18.8%\n",
      "  T: 23.3%\n",
      "  none/other: 0.1%\n",
      "\n",
      "Overview of removed sequences\n",
      "length\tcount\texpect\tmax.err\terror counts\n",
      "1\t1315\t1663.0\t0\t1315\n",
      "2\t193\t415.8\t0\t193\n",
      "3\t76\t103.9\t0\t76\n",
      "4\t14\t26.0\t0\t14\n",
      "5\t6\t6.5\t0\t6\n",
      "6\t1\t1.6\t0\t1\n",
      "8\t1\t0.1\t0\t1\n",
      "14\t1\t0.0\t1\t0 1\n",
      "16\t1\t0.0\t1\t0 1\n",
      "29\t1\t0.0\t1\t0 1\n",
      "56\t1\t0.0\t1\t0 1\n",
      "59\t1\t0.0\t1\t0 1\n",
      "61\t1\t0.0\t1\t0 1\n",
      "65\t1\t0.0\t1\t1\n",
      "66\t1\t0.0\t1\t0 1\n",
      "71\t1\t0.0\t1\t0 1\n",
      "73\t1\t0.0\t1\t0 1\n",
      "111\t1\t0.0\t1\t0 1\n",
      "129\t1\t0.0\t1\t0 1\n",
      "144\t1\t0.0\t1\t0 1\n",
      "157\t1\t0.0\t1\t0 1\n",
      "167\t1\t0.0\t1\t0 1\n",
      "171\t1\t0.0\t1\t0 1\n",
      "177\t1\t0.0\t1\t0 1\n",
      "182\t1\t0.0\t1\t0 1\n",
      "211\t2\t0.0\t1\t0 2\n",
      "239\t1\t0.0\t1\t0 1\n",
      "\n",
      "\n",
      "RUN STATISTICS FOR INPUT FILE: 8_S356_L001_R1_001.fastq\n",
      "=============================================\n",
      "6652 sequences processed in total\n",
      "The length threshold of paired-end sequences gets evaluated later on (in the validation step)\n",
      "\n",
      "Writing report to '8_S356_L001_R2_001.fastq_trimming_report.txt'\n",
      "\n",
      "SUMMARISING RUN PARAMETERS\n",
      "==========================\n",
      "Input filename: 8_S356_L001_R2_001.fastq\n",
      "Trimming mode: paired-end\n",
      "Trim Galore version: 0.5.0\n",
      "Cutadapt version: 1.16\n",
      "Quality Phred score cutoff: 20\n",
      "Quality encoding type selected: ASCII+33\n",
      "Adapter sequence: 'CTGTCTCTTATA' (Nextera Transposase sequence; auto-detected)\n",
      "Maximum trimming error rate: 0.1 (default)\n",
      "Minimum required adapter overlap (stringency): 1 bp\n",
      "Minimum required sequence length for both reads before a sequence pair gets removed: 20 bp\n",
      "\n",
      "Writing final adapter and quality trimmed output to 8_S356_L001_R2_001_trimmed.fq\n",
      "\n",
      "\n",
      "  >>> Now performing quality (cutoff 20) and adapter trimming in a single pass for the adapter sequence: 'CTGTCTCTTATA' from file 8_S356_L001_R2_001.fastq <<< \n",
      "This is cutadapt 1.16 with Python 3.6.4\n",
      "Command line parameters: -f fastq -e 0.1 -q 20 -O 1 -a CTGTCTCTTATA 8_S356_L001_R2_001.fastq\n",
      "Running on 1 core\n",
      "Trimming 1 adapter with at most 10.0% errors in single-end mode ...\n",
      "Finished in 0.19 s (29 us/read; 2.07 M reads/minute).\n",
      "\n",
      "=== Summary ===\n",
      "\n",
      "Total reads processed:                   6,652\n",
      "Reads with adapters:                     1,909 (28.7%)\n",
      "Reads written (passing filters):         6,652 (100.0%)\n",
      "\n",
      "Total basepairs processed:     1,484,091 bp\n",
      "Quality-trimmed:                  51,380 bp (3.5%)\n",
      "Total written (filtered):      1,426,863 bp (96.1%)\n",
      "\n",
      "=== Adapter 1 ===\n",
      "\n",
      "Sequence: CTGTCTCTTATA; Type: regular 3'; Length: 12; Trimmed: 1909 times.\n",
      "\n",
      "No. of allowed errors:\n",
      "0-9 bp: 0; 10-12 bp: 1\n",
      "\n",
      "Bases preceding removed adapters:\n",
      "  A: 35.7%\n",
      "  C: 20.5%\n",
      "  G: 19.0%\n",
      "  T: 24.8%\n",
      "  none/other: 0.0%\n",
      "\n",
      "Overview of removed sequences\n",
      "length\tcount\texpect\tmax.err\terror counts\n",
      "1\t1474\t1663.0\t0\t1474\n",
      "2\t233\t415.8\t0\t233\n",
      "3\t102\t103.9\t0\t102\n",
      "4\t34\t26.0\t0\t34\n",
      "5\t7\t6.5\t0\t7\n",
      "6\t2\t1.6\t0\t2\n",
      "7\t5\t0.4\t0\t5\n",
      "9\t3\t0.0\t0\t2 1\n",
      "12\t2\t0.0\t1\t0 2\n",
      "14\t2\t0.0\t1\t0 2\n",
      "15\t5\t0.0\t1\t1 4\n",
      "16\t2\t0.0\t1\t0 2\n",
      "17\t2\t0.0\t1\t0 2\n",
      "18\t1\t0.0\t1\t0 1\n",
      "20\t1\t0.0\t1\t0 1\n",
      "22\t1\t0.0\t1\t0 1\n",
      "23\t1\t0.0\t1\t1\n",
      "25\t1\t0.0\t1\t0 1\n",
      "29\t1\t0.0\t1\t1\n",
      "35\t1\t0.0\t1\t0 1\n",
      "36\t1\t0.0\t1\t1\n",
      "37\t1\t0.0\t1\t0 1\n",
      "38\t1\t0.0\t1\t1\n",
      "39\t1\t0.0\t1\t0 1\n",
      "42\t2\t0.0\t1\t1 1\n",
      "44\t1\t0.0\t1\t1\n",
      "48\t1\t0.0\t1\t0 1\n",
      "50\t1\t0.0\t1\t1\n",
      "60\t1\t0.0\t1\t1\n",
      "62\t1\t0.0\t1\t0 1\n",
      "63\t1\t0.0\t1\t0 1\n",
      "71\t1\t0.0\t1\t0 1\n",
      "75\t1\t0.0\t1\t0 1\n",
      "83\t1\t0.0\t1\t0 1\n",
      "95\t1\t0.0\t1\t0 1\n",
      "113\t1\t0.0\t1\t0 1\n",
      "122\t1\t0.0\t1\t0 1\n",
      "125\t1\t0.0\t1\t1\n",
      "136\t2\t0.0\t1\t1 1\n",
      "140\t1\t0.0\t1\t0 1\n",
      "162\t1\t0.0\t1\t0 1\n",
      "169\t1\t0.0\t1\t0 1\n",
      "175\t1\t0.0\t1\t0 1\n",
      "195\t1\t0.0\t1\t0 1\n",
      "204\t1\t0.0\t1\t0 1\n",
      "212\t1\t0.0\t1\t0 1\n",
      "218\t1\t0.0\t1\t0 1\n",
      "\n",
      "\n",
      "RUN STATISTICS FOR INPUT FILE: 8_S356_L001_R2_001.fastq\n",
      "=============================================\n",
      "6652 sequences processed in total\n",
      "The length threshold of paired-end sequences gets evaluated later on (in the validation step)\n",
      "\n",
      "Validate paired-end files 8_S356_L001_R1_001_trimmed.fq and 8_S356_L001_R2_001_trimmed.fq\n",
      "file_1: 8_S356_L001_R1_001_trimmed.fq, file_2: 8_S356_L001_R2_001_trimmed.fq\n",
      "\n",
      "\n",
      ">>>>> Now validing the length of the 2 paired-end infiles: 8_S356_L001_R1_001_trimmed.fq and 8_S356_L001_R2_001_trimmed.fq <<<<<\n",
      "Writing validated paired-end read 1 reads to 8_S356_L001_R1_001_val_1.fq\n",
      "Writing validated paired-end read 2 reads to 8_S356_L001_R2_001_val_2.fq\n",
      "\n",
      "Total number of sequences analysed: 6652\n",
      "\n",
      "Number of sequence pairs removed because at least one read was shorter than the length cutoff (20 bp): 10 (0.15%)\n",
      "\n",
      "Deleting both intermediate output files 8_S356_L001_R1_001_trimmed.fq and 8_S356_L001_R2_001_trimmed.fq\n",
      "\n",
      "====================================================================================================\n",
      "\n"
     ]
    }
   ],
   "source": [
    "!trim_galore \\\n",
    "--paired \\\n",
    "8_S356_L001_R1_001.fastq \\\n",
    "8_S356_L001_R2_001.fastq"
   ]
  },
  {
   "cell_type": "markdown",
   "metadata": {},
   "source": [
    "## Se ejecuta nuevamente fastqc para revisar la calidad de las lecturas."
   ]
  },
  {
   "cell_type": "code",
   "execution_count": 30,
   "metadata": {},
   "outputs": [
    {
     "name": "stdout",
     "output_type": "stream",
     "text": [
      "Analysis complete for 8_S356_L001_R1_001_val_1.fq\n",
      "Analysis complete for 8_S356_L001_R2_001_val_2.fq\n"
     ]
    },
    {
     "name": "stderr",
     "output_type": "stream",
     "text": [
      "Started analysis of 8_S356_L001_R1_001_val_1.fq\n",
      "Approx 15% complete for 8_S356_L001_R1_001_val_1.fq\n",
      "Approx 30% complete for 8_S356_L001_R1_001_val_1.fq\n",
      "Approx 45% complete for 8_S356_L001_R1_001_val_1.fq\n",
      "Approx 60% complete for 8_S356_L001_R1_001_val_1.fq\n",
      "Approx 75% complete for 8_S356_L001_R1_001_val_1.fq\n",
      "Approx 90% complete for 8_S356_L001_R1_001_val_1.fq\n",
      "Started analysis of 8_S356_L001_R2_001_val_2.fq\n",
      "Approx 15% complete for 8_S356_L001_R2_001_val_2.fq\n",
      "Approx 30% complete for 8_S356_L001_R2_001_val_2.fq\n",
      "Approx 45% complete for 8_S356_L001_R2_001_val_2.fq\n",
      "Approx 60% complete for 8_S356_L001_R2_001_val_2.fq\n",
      "Approx 75% complete for 8_S356_L001_R2_001_val_2.fq\n",
      "Approx 90% complete for 8_S356_L001_R2_001_val_2.fq\n"
     ]
    }
   ],
   "source": [
    "%%bash \n",
    "fastqc 8_S356_L001_R1_001_val_1.fq\n",
    "fastqc 8_S356_L001_R2_001_val_2.fq"
   ]
  },
  {
   "cell_type": "markdown",
   "metadata": {},
   "source": [
    "### Revise los archivos \n",
    "**`8_S356_L001_R1_001_val_1_fastqc.html`**\n",
    "\n",
    "**`8_S356_L001_R2_001_val_2_fastqc.html`**\n",
    "\n",
    "abriendolos en la pestaña del manejador de archivos del Jupyter"
   ]
  },
  {
   "cell_type": "code",
   "execution_count": null,
   "metadata": {},
   "outputs": [],
   "source": []
  },
  {
   "cell_type": "markdown",
   "metadata": {},
   "source": [
    "## Mejoró la calidad de las lecturas?\n",
    "## Hubo cambios radicales?\n",
    "## Explique"
   ]
  },
  {
   "cell_type": "code",
   "execution_count": null,
   "metadata": {},
   "outputs": [],
   "source": []
  },
  {
   "cell_type": "code",
   "execution_count": null,
   "metadata": {},
   "outputs": [],
   "source": []
  },
  {
   "cell_type": "code",
   "execution_count": null,
   "metadata": {},
   "outputs": [],
   "source": []
  },
  {
   "cell_type": "code",
   "execution_count": null,
   "metadata": {},
   "outputs": [],
   "source": []
  }
 ],
 "metadata": {
  "kernelspec": {
   "display_name": "Python 3",
   "language": "python",
   "name": "python3"
  },
  "language_info": {
   "codemirror_mode": {
    "name": "ipython",
    "version": 3
   },
   "file_extension": ".py",
   "mimetype": "text/x-python",
   "name": "python",
   "nbconvert_exporter": "python",
   "pygments_lexer": "ipython3",
   "version": "3.6.4"
  }
 },
 "nbformat": 4,
 "nbformat_minor": 2
}
