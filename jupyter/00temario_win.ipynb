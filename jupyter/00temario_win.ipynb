{
 "cells": [
  {
   "cell_type": "markdown",
   "metadata": {},
   "source": [
    "# <div style=\"text-align: center\">Temario\n",
    "# <div style=\"text-align: center\">Secuenciación masiva: \n",
    "# <div style=\"text-align: center\">anotación de genes nucleares y genomas mitocondriales. </div>\n",
    "## <div style=\"text-align: center\">*UAM Iztapalapa* </div>"
   ]
  },
  {
   "cell_type": "markdown",
   "metadata": {},
   "source": [
    "## <div style=\"text-align: right\"> Dr. Miguel Angel del Río Portilla </div><div style=\"text-align: right\"> M. en C. Eduardo Zúñiga León </div> <div style=\"text-align: right\"> Ing. Biotec. Diamanda Tapia Gallardo</div>"
   ]
  },
  {
   "cell_type": "markdown",
   "metadata": {},
   "source": [
    "## I. Introducción \n",
    "1. Introducción \n",
    "2. ¿Qué es la bioinformática?\n",
    "3. Código Genético\n",
    "4. Secuenciación del DNA \n",
    "    1. Sanger\n",
    "    2. Masiva\n",
    "5. Archivos de información genética\n",
    "6. Páginas de información genética en la red"
   ]
  },
  {
   "cell_type": "markdown",
   "metadata": {},
   "source": [
    "## II. Secuenciación masiva\n",
    "1. Secuenciadores masivos\n",
    "2. Secuenciación genómica (WBS, RAD-seq, etc.)\n",
    "3. Secuenciación transcriptómica (RNA-seq)\n",
    "4. Archivos Fastq\n",
    "5. Lecturas (tamaño)\n"
   ]
  },
  {
   "cell_type": "markdown",
   "metadata": {},
   "source": [
    "## III. Lenguajes para el análisis de secuencias\n",
    "1. Linux\n",
    "2. Python \n",
    "3. R\n",
    "4. Instalación de programas\n"
   ]
  },
  {
   "cell_type": "markdown",
   "metadata": {},
   "source": [
    "## IV. Jupyter\n",
    "1. Creación de bitácoras electrónicas\n",
    "2. Markdown\n",
    "3. Ejecución de comandos en línea\n",
    "     1. Linux\n",
    "     2. Python\n",
    "     3. R\n"
   ]
  },
  {
   "cell_type": "markdown",
   "metadata": {},
   "source": [
    "## V. Python \n",
    "1. Variables\n",
    "2. Ciclos\n",
    "3. Manejo de imágenes\n",
    "4. Series y variables\n",
    "5. Pandas (manejo de datos tabulares)\n",
    "6. Graficado de datos tabulares\n"
   ]
  },
  {
   "cell_type": "markdown",
   "metadata": {},
   "source": [
    "## VI. Biopython\n",
    "1. Instalación\n",
    "2. Manejo de archivos de secuenciación\n",
    "3. Estadística descriptiva y graficado de datos de las secuencias\n",
    "4. Creación de archivos con formato fasta y GenBank\n",
    "5. Ejercicios con secuencias y datos tabulares\n",
    "6. Identificación de secuencias mitocondriales\n",
    "7. Optimización de procedimientos\n",
    "8. Adecuación de la presentación de la bitácora\n"
   ]
  },
  {
   "cell_type": "markdown",
   "metadata": {},
   "source": [
    "## VII Secuenciación masiva\n",
    "1. Calidad de las secuencias\n",
    "2. Ensamblaje\n"
   ]
  },
  {
   "cell_type": "markdown",
   "metadata": {},
   "source": [
    "## VIII. Anotación mediante Blast\n",
    "1. Instalación\n",
    "2. Descargado de bases de datos (nucleótidos y proteínas)\n",
    "3. Blastn\n",
    "4. Blastx\n",
    "5. Creación de bases de datos \n",
    "6. Manejo de archivos de salida del Blast\n",
    "7. Ejecución en línea de comandos"
   ]
  },
  {
   "cell_type": "markdown",
   "metadata": {},
   "source": [
    "## IX. Ontología genética (GO)\n",
    "1. Introducción\n",
    "2. Base de datos de GO\n",
    "3. Integración de la información de Blast con GO\n",
    "4. Graficado de los datos de GO"
   ]
  },
  {
   "cell_type": "markdown",
   "metadata": {},
   "source": [
    "## X. Anotación de genomas mitocondriales\n",
    "1. Dogma\n",
    "2. Mitos\n",
    "3. MitoFish"
   ]
  },
  {
   "cell_type": "markdown",
   "metadata": {},
   "source": [
    "## XI. Microsatélites y biopython\n",
    "1. Búsqueda de motivos de repetición\n",
    "2. msatCommander\n",
    "3. Manejo de archivos de salida del msatCommander\n",
    "4. Graficado de datos de salida\n",
    "5. Blast y, en su caso, anotación de las secuencias con microsatélites\n",
    "6. Marcos de lectura abiertos"
   ]
  },
  {
   "cell_type": "markdown",
   "metadata": {},
   "source": [
    "## XII. Excel\n",
    "1. Lectura de archivos de valores separado por comas\n",
    "2. Extracción de valores y creación de columnas especiales\n",
    "3. Búsqueda vertical y horizontal\n",
    "4. Tablas dinámicas\n",
    "5. Manipulación de archivos de salida del Blast\n"
   ]
  },
  {
   "cell_type": "markdown",
   "metadata": {},
   "source": [
    "## VIII MEGA\n",
    "1. Alineamiento y obtención de árboles filogenéticos\n"
   ]
  },
  {
   "cell_type": "code",
   "execution_count": null,
   "metadata": {
    "collapsed": true
   },
   "outputs": [],
   "source": []
  }
 ],
 "metadata": {
  "kernelspec": {
   "display_name": "Python 3",
   "language": "python",
   "name": "python3"
  },
  "language_info": {
   "codemirror_mode": {
    "name": "ipython",
    "version": 3
   },
   "file_extension": ".py",
   "mimetype": "text/x-python",
   "name": "python",
   "nbconvert_exporter": "python",
   "pygments_lexer": "ipython3",
   "version": "3.6.5"
  }
 },
 "nbformat": 4,
 "nbformat_minor": 2
}
