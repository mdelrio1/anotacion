{
 "cells": [
  {
   "cell_type": "markdown",
   "metadata": {},
   "source": [
    "# Bitacora para el manejo de secuencias ensambladas y búsqueda con *Blastx*"
   ]
  },
  {
   "cell_type": "markdown",
   "metadata": {},
   "source": [
    "## Para el siguiente ejercicio es necesario tener el Blast+ instalado en la computadora\n",
    "https://www.ncbi.nlm.nih.gov/guide/data-software/"
   ]
  },
  {
   "cell_type": "markdown",
   "metadata": {},
   "source": [
    "## Se utilizarán los contigs formados por el ensamblaje que se localizan en \n",
    "`~/Desktop/data/ejercicio_ensamblaje/8_S356_contigs.fa`"
   ]
  },
  {
   "cell_type": "code",
   "execution_count": 56,
   "metadata": {},
   "outputs": [],
   "source": [
    "from pandas import Series, DataFrame\n",
    "import pandas as pd\n",
    "from Bio import SeqIO, AlignIO, SeqRecord\n",
    "from Bio.SeqRecord import SeqRecord\n",
    "from Bio.Seq import Seq\n",
    "import matplotlib.pyplot as plt \n",
    "import os"
   ]
  },
  {
   "cell_type": "code",
   "execution_count": 59,
   "metadata": {},
   "outputs": [],
   "source": [
    "os.makedirs('img',exist_ok=True)"
   ]
  },
  {
   "cell_type": "code",
   "execution_count": 3,
   "metadata": {},
   "outputs": [
    {
     "name": "stdout",
     "output_type": "stream",
     "text": [
      "8_S356_contigs.fa  8_S356_contigs.tab  8_S356_contigs_blastn.csv  \u001b[0m\u001b[01;34mtrinity\u001b[0m/\r\n"
     ]
    }
   ],
   "source": [
    "ls ~/Desktop/data/ejercicio_ensamblaje/"
   ]
  },
  {
   "cell_type": "code",
   "execution_count": 4,
   "metadata": {},
   "outputs": [
    {
     "name": "stdout",
     "output_type": "stream",
     "text": [
      "/home/user1/Desktop/data/ejercicio_ensamblaje\n"
     ]
    }
   ],
   "source": [
    "cd ~/Desktop/data/ejercicio_ensamblaje/"
   ]
  },
  {
   "cell_type": "code",
   "execution_count": 5,
   "metadata": {},
   "outputs": [
    {
     "name": "stdout",
     "output_type": "stream",
     "text": [
      "321\r\n"
     ]
    }
   ],
   "source": [
    "!grep \">\" 8_S356_contigs.fa |wc -l"
   ]
  },
  {
   "cell_type": "markdown",
   "metadata": {},
   "source": [
    "# Se analizarán con blastx los contigs obtenidos a la base de datos *Swissprot*"
   ]
  },
  {
   "cell_type": "code",
   "execution_count": 6,
   "metadata": {},
   "outputs": [
    {
     "name": "stdout",
     "output_type": "stream",
     "text": [
      "Thu Aug  2 17:16:43 UTC 2018\n",
      "Thu Aug  2 17:20:51 UTC 2018\n"
     ]
    },
    {
     "name": "stderr",
     "output_type": "stream",
     "text": [
      "\n",
      "real\t4m7.935s\n",
      "user\t8m0.967s\n",
      "sys\t0m1.220s\n"
     ]
    }
   ],
   "source": [
    "%%bash\n",
    "export BLASTDB=/home/user1/DATA/swiss/\n",
    "\n",
    "date  \n",
    "time blastx -query 8_S356_contigs.fa  -db /home/user1/DATA/swiss/swissprot \\\n",
    "-out 8_S356_contigs_blastx.tab -evalue 1E-6 -max_target_seqs 1 \\\n",
    "-num_threads 2 -outfmt \"6 std stitle\" \n",
    "date"
   ]
  },
  {
   "cell_type": "code",
   "execution_count": 7,
   "metadata": {},
   "outputs": [
    {
     "name": "stdout",
     "output_type": "stream",
     "text": [
      "Thu Aug  2 17:20:51 UTC 2018\r\n"
     ]
    }
   ],
   "source": [
    "!date"
   ]
  },
  {
   "cell_type": "code",
   "execution_count": 8,
   "metadata": {},
   "outputs": [
    {
     "name": "stdout",
     "output_type": "stream",
     "text": [
      "8_S356_contig000023\tO00370.1\t27.848\t158\t109\t3\t96\t557\t615\t771\t3.21e-12\t68.2\tRecName: Full=LINE-1 retrotransposable element ORF2 protein; Short=ORF2p; Includes: RecName: Full=Reverse transcriptase; Includes: RecName: Full=Endonuclease\r\n",
      "8_S356_contig000027\tP03934.1\t41.860\t86\t50\t0\t102\t359\t45\t130\t1.62e-13\t67.8\tRecName: Full=Transposable element Tc1 transposase\r\n",
      "8_S356_contig000064\tP16423.1\t22.650\t468\t335\t13\t246\t1625\t310\t758\t4.23e-18\t92.4\tRecName: Full=Retrovirus-related Pol polyprotein from type-2 retrotransposable element R2DM; AltName: Full=Retrovirus-related Pol polyprotein from type II retrotransposable element R2DM; Includes: RecName: Full=Protease; Includes: RecName: Full=Reverse transcriptase; Includes: RecName: Full=Endonuclease\r\n",
      "8_S356_contig000067\tQ04202.1\t32.258\t217\t135\t5\t634\t5\t49\t260\t2.35e-20\t92.0\tRecName: Full=Transposable element Tcb2 transposase\r\n",
      "8_S356_contig000071\tQ95SX7.1\t25.622\t402\t282\t8\t1422\t256\t441\t838\t1.52e-20\t99.0\tRecName: Full=Probable RNA-directed DNA polymerase from transposon BS; AltName: Full=Reverse transcriptase\r\n",
      "8_S356_contig000078\tQ9NBX4.1\t29.278\t263\t175\t6\t957\t178\t511\t765\t2.52e-22\t102\tRecName: Full=Probable RNA-directed DNA polymerase from transposon X-element; AltName: Full=Reverse transcriptase\r\n",
      "8_S356_contig000081\tQ9NBX4.1\t39.041\t146\t87\t1\t672\t235\t511\t654\t6.76e-20\t92.8\tRecName: Full=Probable RNA-directed DNA polymerase from transposon X-element; AltName: Full=Reverse transcriptase\r\n",
      "8_S356_contig000084\tQ95SX7.1\t26.415\t159\t108\t2\t109\t558\t616\t774\t3.47e-11\t66.2\tRecName: Full=Probable RNA-directed DNA polymerase from transposon BS; AltName: Full=Reverse transcriptase\r\n",
      "8_S356_contig000090\tP35072.1\t38.767\t227\t134\t3\t8\t688\t52\t273\t8.25e-39\t139\tRecName: Full=Transposable element Tcb1 transposase; AltName: Full=Transposable element Barney transposase\r\n",
      "8_S356_contig000093\tQ9NBX4.1\t29.960\t247\t156\t6\t36\t743\t440\t680\t1.04e-22\t100\tRecName: Full=Probable RNA-directed DNA polymerase from transposon X-element; AltName: Full=Reverse transcriptase\r\n"
     ]
    }
   ],
   "source": [
    "!head 8_S356_contigs_blastx.tab"
   ]
  },
  {
   "cell_type": "code",
   "execution_count": 22,
   "metadata": {},
   "outputs": [],
   "source": [
    "encabezado =(\"qseqid\", \"sseqid\", \"pident\", \"length\", \"mismatch\", \"gapopen\",\"qstart\", \n",
    "             \"qend\", \"sstart\",\"send\", \"evalue\", \"bitscore\", \"stitle\")"
   ]
  },
  {
   "cell_type": "code",
   "execution_count": 23,
   "metadata": {
    "scrolled": false
   },
   "outputs": [
    {
     "data": {
      "text/html": [
       "<div>\n",
       "<style scoped>\n",
       "    .dataframe tbody tr th:only-of-type {\n",
       "        vertical-align: middle;\n",
       "    }\n",
       "\n",
       "    .dataframe tbody tr th {\n",
       "        vertical-align: top;\n",
       "    }\n",
       "\n",
       "    .dataframe thead th {\n",
       "        text-align: right;\n",
       "    }\n",
       "</style>\n",
       "<table border=\"1\" class=\"dataframe\">\n",
       "  <thead>\n",
       "    <tr style=\"text-align: right;\">\n",
       "      <th></th>\n",
       "      <th>qseqid</th>\n",
       "      <th>sseqid</th>\n",
       "      <th>pident</th>\n",
       "      <th>length</th>\n",
       "      <th>mismatch</th>\n",
       "      <th>gapopen</th>\n",
       "      <th>qstart</th>\n",
       "      <th>qend</th>\n",
       "      <th>sstart</th>\n",
       "      <th>send</th>\n",
       "      <th>evalue</th>\n",
       "      <th>bitscore</th>\n",
       "      <th>stitle</th>\n",
       "    </tr>\n",
       "  </thead>\n",
       "  <tbody>\n",
       "    <tr>\n",
       "      <th>0</th>\n",
       "      <td>8_S356_contig000023</td>\n",
       "      <td>O00370.1</td>\n",
       "      <td>27.848</td>\n",
       "      <td>158</td>\n",
       "      <td>109</td>\n",
       "      <td>3</td>\n",
       "      <td>96</td>\n",
       "      <td>557</td>\n",
       "      <td>615</td>\n",
       "      <td>771</td>\n",
       "      <td>3.210000e-12</td>\n",
       "      <td>68.2</td>\n",
       "      <td>RecName: Full=LINE-1 retrotransposable element...</td>\n",
       "    </tr>\n",
       "    <tr>\n",
       "      <th>1</th>\n",
       "      <td>8_S356_contig000027</td>\n",
       "      <td>P03934.1</td>\n",
       "      <td>41.860</td>\n",
       "      <td>86</td>\n",
       "      <td>50</td>\n",
       "      <td>0</td>\n",
       "      <td>102</td>\n",
       "      <td>359</td>\n",
       "      <td>45</td>\n",
       "      <td>130</td>\n",
       "      <td>1.620000e-13</td>\n",
       "      <td>67.8</td>\n",
       "      <td>RecName: Full=Transposable element Tc1 transpo...</td>\n",
       "    </tr>\n",
       "    <tr>\n",
       "      <th>2</th>\n",
       "      <td>8_S356_contig000064</td>\n",
       "      <td>P16423.1</td>\n",
       "      <td>22.650</td>\n",
       "      <td>468</td>\n",
       "      <td>335</td>\n",
       "      <td>13</td>\n",
       "      <td>246</td>\n",
       "      <td>1625</td>\n",
       "      <td>310</td>\n",
       "      <td>758</td>\n",
       "      <td>4.230000e-18</td>\n",
       "      <td>92.4</td>\n",
       "      <td>RecName: Full=Retrovirus-related Pol polyprote...</td>\n",
       "    </tr>\n",
       "    <tr>\n",
       "      <th>3</th>\n",
       "      <td>8_S356_contig000067</td>\n",
       "      <td>Q04202.1</td>\n",
       "      <td>32.258</td>\n",
       "      <td>217</td>\n",
       "      <td>135</td>\n",
       "      <td>5</td>\n",
       "      <td>634</td>\n",
       "      <td>5</td>\n",
       "      <td>49</td>\n",
       "      <td>260</td>\n",
       "      <td>2.350000e-20</td>\n",
       "      <td>92.0</td>\n",
       "      <td>RecName: Full=Transposable element Tcb2 transp...</td>\n",
       "    </tr>\n",
       "    <tr>\n",
       "      <th>4</th>\n",
       "      <td>8_S356_contig000071</td>\n",
       "      <td>Q95SX7.1</td>\n",
       "      <td>25.622</td>\n",
       "      <td>402</td>\n",
       "      <td>282</td>\n",
       "      <td>8</td>\n",
       "      <td>1422</td>\n",
       "      <td>256</td>\n",
       "      <td>441</td>\n",
       "      <td>838</td>\n",
       "      <td>1.520000e-20</td>\n",
       "      <td>99.0</td>\n",
       "      <td>RecName: Full=Probable RNA-directed DNA polyme...</td>\n",
       "    </tr>\n",
       "  </tbody>\n",
       "</table>\n",
       "</div>"
      ],
      "text/plain": [
       "                qseqid    sseqid  pident  length  mismatch  gapopen  qstart  \\\n",
       "0  8_S356_contig000023  O00370.1  27.848     158       109        3      96   \n",
       "1  8_S356_contig000027  P03934.1  41.860      86        50        0     102   \n",
       "2  8_S356_contig000064  P16423.1  22.650     468       335       13     246   \n",
       "3  8_S356_contig000067  Q04202.1  32.258     217       135        5     634   \n",
       "4  8_S356_contig000071  Q95SX7.1  25.622     402       282        8    1422   \n",
       "\n",
       "   qend  sstart  send        evalue  bitscore  \\\n",
       "0   557     615   771  3.210000e-12      68.2   \n",
       "1   359      45   130  1.620000e-13      67.8   \n",
       "2  1625     310   758  4.230000e-18      92.4   \n",
       "3     5      49   260  2.350000e-20      92.0   \n",
       "4   256     441   838  1.520000e-20      99.0   \n",
       "\n",
       "                                              stitle  \n",
       "0  RecName: Full=LINE-1 retrotransposable element...  \n",
       "1  RecName: Full=Transposable element Tc1 transpo...  \n",
       "2  RecName: Full=Retrovirus-related Pol polyprote...  \n",
       "3  RecName: Full=Transposable element Tcb2 transp...  \n",
       "4  RecName: Full=Probable RNA-directed DNA polyme...  "
      ]
     },
     "execution_count": 23,
     "metadata": {},
     "output_type": "execute_result"
    }
   ],
   "source": [
    "ftab=pd.read_table(\"8_S356_contigs_blastx.tab\", header=None , names= encabezado)\n",
    "ftab.head()"
   ]
  },
  {
   "cell_type": "code",
   "execution_count": 33,
   "metadata": {},
   "outputs": [
    {
     "data": {
      "text/html": [
       "<div>\n",
       "<style scoped>\n",
       "    .dataframe tbody tr th:only-of-type {\n",
       "        vertical-align: middle;\n",
       "    }\n",
       "\n",
       "    .dataframe tbody tr th {\n",
       "        vertical-align: top;\n",
       "    }\n",
       "\n",
       "    .dataframe thead th {\n",
       "        text-align: right;\n",
       "    }\n",
       "</style>\n",
       "<table border=\"1\" class=\"dataframe\">\n",
       "  <thead>\n",
       "    <tr style=\"text-align: right;\">\n",
       "      <th></th>\n",
       "      <th>qseqid</th>\n",
       "      <th>sseqid</th>\n",
       "      <th>pident</th>\n",
       "      <th>length</th>\n",
       "      <th>mismatch</th>\n",
       "      <th>gapopen</th>\n",
       "      <th>qstart</th>\n",
       "      <th>qend</th>\n",
       "      <th>sstart</th>\n",
       "      <th>send</th>\n",
       "      <th>evalue</th>\n",
       "      <th>bitscore</th>\n",
       "      <th>stitle</th>\n",
       "      <th>uniprotid</th>\n",
       "    </tr>\n",
       "  </thead>\n",
       "  <tbody>\n",
       "    <tr>\n",
       "      <th>0</th>\n",
       "      <td>8_S356_contig000023</td>\n",
       "      <td>O00370.1</td>\n",
       "      <td>27.848</td>\n",
       "      <td>158</td>\n",
       "      <td>109</td>\n",
       "      <td>3</td>\n",
       "      <td>96</td>\n",
       "      <td>557</td>\n",
       "      <td>615</td>\n",
       "      <td>771</td>\n",
       "      <td>3.210000e-12</td>\n",
       "      <td>68.2</td>\n",
       "      <td>RecName: Full=LINE-1 retrotransposable element...</td>\n",
       "      <td>O00370</td>\n",
       "    </tr>\n",
       "    <tr>\n",
       "      <th>1</th>\n",
       "      <td>8_S356_contig000027</td>\n",
       "      <td>P03934.1</td>\n",
       "      <td>41.860</td>\n",
       "      <td>86</td>\n",
       "      <td>50</td>\n",
       "      <td>0</td>\n",
       "      <td>102</td>\n",
       "      <td>359</td>\n",
       "      <td>45</td>\n",
       "      <td>130</td>\n",
       "      <td>1.620000e-13</td>\n",
       "      <td>67.8</td>\n",
       "      <td>RecName: Full=Transposable element Tc1 transpo...</td>\n",
       "      <td>P03934</td>\n",
       "    </tr>\n",
       "  </tbody>\n",
       "</table>\n",
       "</div>"
      ],
      "text/plain": [
       "                qseqid    sseqid  pident  length  mismatch  gapopen  qstart  \\\n",
       "0  8_S356_contig000023  O00370.1  27.848     158       109        3      96   \n",
       "1  8_S356_contig000027  P03934.1  41.860      86        50        0     102   \n",
       "\n",
       "   qend  sstart  send        evalue  bitscore  \\\n",
       "0   557     615   771  3.210000e-12      68.2   \n",
       "1   359      45   130  1.620000e-13      67.8   \n",
       "\n",
       "                                              stitle uniprotid  \n",
       "0  RecName: Full=LINE-1 retrotransposable element...    O00370  \n",
       "1  RecName: Full=Transposable element Tc1 transpo...    P03934  "
      ]
     },
     "execution_count": 33,
     "metadata": {},
     "output_type": "execute_result"
    }
   ],
   "source": [
    "ftab[\"uniprotid\"]=ftab[\"sseqid\"].astype(str).str[:6]\n",
    "ftab.head(2)"
   ]
  },
  {
   "cell_type": "code",
   "execution_count": 26,
   "metadata": {},
   "outputs": [
    {
     "name": "stdout",
     "output_type": "stream",
     "text": [
      "Thu Aug  2 17:50:58 UTC 2018\r\n"
     ]
    }
   ],
   "source": [
    "!date"
   ]
  },
  {
   "cell_type": "code",
   "execution_count": 27,
   "metadata": {},
   "outputs": [
    {
     "data": {
      "text/html": [
       "<div>\n",
       "<style scoped>\n",
       "    .dataframe tbody tr th:only-of-type {\n",
       "        vertical-align: middle;\n",
       "    }\n",
       "\n",
       "    .dataframe tbody tr th {\n",
       "        vertical-align: top;\n",
       "    }\n",
       "\n",
       "    .dataframe thead th {\n",
       "        text-align: right;\n",
       "    }\n",
       "</style>\n",
       "<table border=\"1\" class=\"dataframe\">\n",
       "  <thead>\n",
       "    <tr style=\"text-align: right;\">\n",
       "      <th></th>\n",
       "      <th>uniprotid</th>\n",
       "      <th>GO_id</th>\n",
       "    </tr>\n",
       "  </thead>\n",
       "  <tbody>\n",
       "    <tr>\n",
       "      <th>0</th>\n",
       "      <td>A0A000</td>\n",
       "      <td>GO:0003824</td>\n",
       "    </tr>\n",
       "    <tr>\n",
       "      <th>1</th>\n",
       "      <td>A0A000</td>\n",
       "      <td>GO:0003824</td>\n",
       "    </tr>\n",
       "  </tbody>\n",
       "</table>\n",
       "</div>"
      ],
      "text/plain": [
       "  uniprotid       GO_id\n",
       "0    A0A000  GO:0003824\n",
       "1    A0A000  GO:0003824"
      ]
     },
     "execution_count": 27,
     "metadata": {},
     "output_type": "execute_result"
    }
   ],
   "source": [
    "fspid = pd.read_csv('/home/user1/DATA/spidgo.csv')\n",
    "fspid.head(2)"
   ]
  },
  {
   "cell_type": "code",
   "execution_count": 28,
   "metadata": {},
   "outputs": [
    {
     "name": "stdout",
     "output_type": "stream",
     "text": [
      "Thu Aug  2 17:52:01 UTC 2018\r\n"
     ]
    }
   ],
   "source": [
    "!date"
   ]
  },
  {
   "cell_type": "code",
   "execution_count": 34,
   "metadata": {},
   "outputs": [
    {
     "data": {
      "text/html": [
       "<div>\n",
       "<style scoped>\n",
       "    .dataframe tbody tr th:only-of-type {\n",
       "        vertical-align: middle;\n",
       "    }\n",
       "\n",
       "    .dataframe tbody tr th {\n",
       "        vertical-align: top;\n",
       "    }\n",
       "\n",
       "    .dataframe thead th {\n",
       "        text-align: right;\n",
       "    }\n",
       "</style>\n",
       "<table border=\"1\" class=\"dataframe\">\n",
       "  <thead>\n",
       "    <tr style=\"text-align: right;\">\n",
       "      <th></th>\n",
       "      <th>qseqid</th>\n",
       "      <th>sseqid</th>\n",
       "      <th>pident</th>\n",
       "      <th>length</th>\n",
       "      <th>mismatch</th>\n",
       "      <th>gapopen</th>\n",
       "      <th>qstart</th>\n",
       "      <th>qend</th>\n",
       "      <th>sstart</th>\n",
       "      <th>send</th>\n",
       "      <th>evalue</th>\n",
       "      <th>bitscore</th>\n",
       "      <th>stitle</th>\n",
       "      <th>uniprotid</th>\n",
       "      <th>GO_id</th>\n",
       "    </tr>\n",
       "  </thead>\n",
       "  <tbody>\n",
       "    <tr>\n",
       "      <th>0</th>\n",
       "      <td>8_S356_contig000023</td>\n",
       "      <td>O00370.1</td>\n",
       "      <td>27.848</td>\n",
       "      <td>158</td>\n",
       "      <td>109</td>\n",
       "      <td>3</td>\n",
       "      <td>96</td>\n",
       "      <td>557</td>\n",
       "      <td>615</td>\n",
       "      <td>771</td>\n",
       "      <td>3.210000e-12</td>\n",
       "      <td>68.2</td>\n",
       "      <td>RecName: Full=LINE-1 retrotransposable element...</td>\n",
       "      <td>O00370</td>\n",
       "      <td>GO:0003723</td>\n",
       "    </tr>\n",
       "    <tr>\n",
       "      <th>1</th>\n",
       "      <td>8_S356_contig000023</td>\n",
       "      <td>O00370.1</td>\n",
       "      <td>27.848</td>\n",
       "      <td>158</td>\n",
       "      <td>109</td>\n",
       "      <td>3</td>\n",
       "      <td>96</td>\n",
       "      <td>557</td>\n",
       "      <td>615</td>\n",
       "      <td>771</td>\n",
       "      <td>3.210000e-12</td>\n",
       "      <td>68.2</td>\n",
       "      <td>RecName: Full=LINE-1 retrotransposable element...</td>\n",
       "      <td>O00370</td>\n",
       "      <td>GO:0003964</td>\n",
       "    </tr>\n",
       "  </tbody>\n",
       "</table>\n",
       "</div>"
      ],
      "text/plain": [
       "                qseqid    sseqid  pident  length  mismatch  gapopen  qstart  \\\n",
       "0  8_S356_contig000023  O00370.1  27.848     158       109        3      96   \n",
       "1  8_S356_contig000023  O00370.1  27.848     158       109        3      96   \n",
       "\n",
       "   qend  sstart  send        evalue  bitscore  \\\n",
       "0   557     615   771  3.210000e-12      68.2   \n",
       "1   557     615   771  3.210000e-12      68.2   \n",
       "\n",
       "                                              stitle uniprotid       GO_id  \n",
       "0  RecName: Full=LINE-1 retrotransposable element...    O00370  GO:0003723  \n",
       "1  RecName: Full=LINE-1 retrotransposable element...    O00370  GO:0003964  "
      ]
     },
     "execution_count": 34,
     "metadata": {},
     "output_type": "execute_result"
    }
   ],
   "source": [
    "f2=pd.merge(ftab,fspid, on =\"uniprotid\" , how='inner')\n",
    "f2.head(2)"
   ]
  },
  {
   "cell_type": "code",
   "execution_count": 36,
   "metadata": {},
   "outputs": [
    {
     "data": {
      "text/plain": [
       "''"
      ]
     },
     "execution_count": 36,
     "metadata": {},
     "output_type": "execute_result"
    }
   ],
   "source": [
    "fspid = ''\n",
    "fspid"
   ]
  },
  {
   "cell_type": "code",
   "execution_count": 37,
   "metadata": {},
   "outputs": [
    {
     "name": "stdout",
     "output_type": "stream",
     "text": [
      "Thu Aug  2 18:03:23 UTC 2018\r\n"
     ]
    }
   ],
   "source": [
    "!date"
   ]
  },
  {
   "cell_type": "code",
   "execution_count": 38,
   "metadata": {},
   "outputs": [
    {
     "data": {
      "text/html": [
       "<div>\n",
       "<style scoped>\n",
       "    .dataframe tbody tr th:only-of-type {\n",
       "        vertical-align: middle;\n",
       "    }\n",
       "\n",
       "    .dataframe tbody tr th {\n",
       "        vertical-align: top;\n",
       "    }\n",
       "\n",
       "    .dataframe thead th {\n",
       "        text-align: right;\n",
       "    }\n",
       "</style>\n",
       "<table border=\"1\" class=\"dataframe\">\n",
       "  <thead>\n",
       "    <tr style=\"text-align: right;\">\n",
       "      <th></th>\n",
       "      <th>GO_id</th>\n",
       "      <th>term</th>\n",
       "      <th>GOSlim_bin</th>\n",
       "      <th>aspect</th>\n",
       "      <th>clean</th>\n",
       "    </tr>\n",
       "  </thead>\n",
       "  <tbody>\n",
       "    <tr>\n",
       "      <th>0</th>\n",
       "      <td>GO:0000001</td>\n",
       "      <td>mitochondrion inheritance</td>\n",
       "      <td>cell organization and biogenesis</td>\n",
       "      <td>P</td>\n",
       "      <td>1</td>\n",
       "    </tr>\n",
       "    <tr>\n",
       "      <th>1</th>\n",
       "      <td>GO:0000002</td>\n",
       "      <td>mitochondrial genome maintenance</td>\n",
       "      <td>cell organization and biogenesis</td>\n",
       "      <td>P</td>\n",
       "      <td>1</td>\n",
       "    </tr>\n",
       "  </tbody>\n",
       "</table>\n",
       "</div>"
      ],
      "text/plain": [
       "        GO_id                              term  \\\n",
       "0  GO:0000001         mitochondrion inheritance   \n",
       "1  GO:0000002  mitochondrial genome maintenance   \n",
       "\n",
       "                         GOSlim_bin aspect  clean  \n",
       "0  cell organization and biogenesis      P      1  \n",
       "1  cell organization and biogenesis      P      1  "
      ]
     },
     "execution_count": 38,
     "metadata": {},
     "output_type": "execute_result"
    }
   ],
   "source": [
    "fgo = pd.read_csv('~/Desktop/bigdata/go_to_goslim.csv')\n",
    "fgo.head(2)"
   ]
  },
  {
   "cell_type": "code",
   "execution_count": 39,
   "metadata": {},
   "outputs": [
    {
     "name": "stdout",
     "output_type": "stream",
     "text": [
      "Thu Aug  2 18:03:24 UTC 2018\r\n"
     ]
    }
   ],
   "source": [
    "!date"
   ]
  },
  {
   "cell_type": "code",
   "execution_count": 40,
   "metadata": {},
   "outputs": [
    {
     "data": {
      "text/html": [
       "<div>\n",
       "<style scoped>\n",
       "    .dataframe tbody tr th:only-of-type {\n",
       "        vertical-align: middle;\n",
       "    }\n",
       "\n",
       "    .dataframe tbody tr th {\n",
       "        vertical-align: top;\n",
       "    }\n",
       "\n",
       "    .dataframe thead th {\n",
       "        text-align: right;\n",
       "    }\n",
       "</style>\n",
       "<table border=\"1\" class=\"dataframe\">\n",
       "  <thead>\n",
       "    <tr style=\"text-align: right;\">\n",
       "      <th></th>\n",
       "      <th>qseqid</th>\n",
       "      <th>sseqid</th>\n",
       "      <th>pident</th>\n",
       "      <th>length</th>\n",
       "      <th>mismatch</th>\n",
       "      <th>gapopen</th>\n",
       "      <th>qstart</th>\n",
       "      <th>qend</th>\n",
       "      <th>sstart</th>\n",
       "      <th>send</th>\n",
       "      <th>evalue</th>\n",
       "      <th>bitscore</th>\n",
       "      <th>stitle</th>\n",
       "      <th>uniprotid</th>\n",
       "      <th>GO_id</th>\n",
       "      <th>term</th>\n",
       "      <th>GOSlim_bin</th>\n",
       "      <th>aspect</th>\n",
       "      <th>clean</th>\n",
       "    </tr>\n",
       "  </thead>\n",
       "  <tbody>\n",
       "    <tr>\n",
       "      <th>0</th>\n",
       "      <td>8_S356_contig000023</td>\n",
       "      <td>O00370.1</td>\n",
       "      <td>27.848</td>\n",
       "      <td>158</td>\n",
       "      <td>109</td>\n",
       "      <td>3</td>\n",
       "      <td>96</td>\n",
       "      <td>557</td>\n",
       "      <td>615</td>\n",
       "      <td>771</td>\n",
       "      <td>3.210000e-12</td>\n",
       "      <td>68.2</td>\n",
       "      <td>RecName: Full=LINE-1 retrotransposable element...</td>\n",
       "      <td>O00370</td>\n",
       "      <td>GO:0003723</td>\n",
       "      <td>RNA binding</td>\n",
       "      <td>nucleic acid binding activity</td>\n",
       "      <td>F</td>\n",
       "      <td>1</td>\n",
       "    </tr>\n",
       "    <tr>\n",
       "      <th>1</th>\n",
       "      <td>8_S356_contig000099</td>\n",
       "      <td>O00370.1</td>\n",
       "      <td>29.469</td>\n",
       "      <td>207</td>\n",
       "      <td>142</td>\n",
       "      <td>2</td>\n",
       "      <td>139</td>\n",
       "      <td>759</td>\n",
       "      <td>6</td>\n",
       "      <td>208</td>\n",
       "      <td>4.140000e-21</td>\n",
       "      <td>95.5</td>\n",
       "      <td>RecName: Full=LINE-1 retrotransposable element...</td>\n",
       "      <td>O00370</td>\n",
       "      <td>GO:0003723</td>\n",
       "      <td>RNA binding</td>\n",
       "      <td>nucleic acid binding activity</td>\n",
       "      <td>F</td>\n",
       "      <td>1</td>\n",
       "    </tr>\n",
       "    <tr>\n",
       "      <th>2</th>\n",
       "      <td>8_S356_contig000064</td>\n",
       "      <td>P16423.1</td>\n",
       "      <td>22.650</td>\n",
       "      <td>468</td>\n",
       "      <td>335</td>\n",
       "      <td>13</td>\n",
       "      <td>246</td>\n",
       "      <td>1625</td>\n",
       "      <td>310</td>\n",
       "      <td>758</td>\n",
       "      <td>4.230000e-18</td>\n",
       "      <td>92.4</td>\n",
       "      <td>RecName: Full=Retrovirus-related Pol polyprote...</td>\n",
       "      <td>P16423</td>\n",
       "      <td>GO:0003723</td>\n",
       "      <td>RNA binding</td>\n",
       "      <td>nucleic acid binding activity</td>\n",
       "      <td>F</td>\n",
       "      <td>1</td>\n",
       "    </tr>\n",
       "    <tr>\n",
       "      <th>3</th>\n",
       "      <td>8_S356_contig000071</td>\n",
       "      <td>Q95SX7.1</td>\n",
       "      <td>25.622</td>\n",
       "      <td>402</td>\n",
       "      <td>282</td>\n",
       "      <td>8</td>\n",
       "      <td>1422</td>\n",
       "      <td>256</td>\n",
       "      <td>441</td>\n",
       "      <td>838</td>\n",
       "      <td>1.520000e-20</td>\n",
       "      <td>99.0</td>\n",
       "      <td>RecName: Full=Probable RNA-directed DNA polyme...</td>\n",
       "      <td>Q95SX7</td>\n",
       "      <td>GO:0003723</td>\n",
       "      <td>RNA binding</td>\n",
       "      <td>nucleic acid binding activity</td>\n",
       "      <td>F</td>\n",
       "      <td>1</td>\n",
       "    </tr>\n",
       "    <tr>\n",
       "      <th>4</th>\n",
       "      <td>8_S356_contig000084</td>\n",
       "      <td>Q95SX7.1</td>\n",
       "      <td>26.415</td>\n",
       "      <td>159</td>\n",
       "      <td>108</td>\n",
       "      <td>2</td>\n",
       "      <td>109</td>\n",
       "      <td>558</td>\n",
       "      <td>616</td>\n",
       "      <td>774</td>\n",
       "      <td>3.470000e-11</td>\n",
       "      <td>66.2</td>\n",
       "      <td>RecName: Full=Probable RNA-directed DNA polyme...</td>\n",
       "      <td>Q95SX7</td>\n",
       "      <td>GO:0003723</td>\n",
       "      <td>RNA binding</td>\n",
       "      <td>nucleic acid binding activity</td>\n",
       "      <td>F</td>\n",
       "      <td>1</td>\n",
       "    </tr>\n",
       "  </tbody>\n",
       "</table>\n",
       "</div>"
      ],
      "text/plain": [
       "                qseqid    sseqid  pident  length  mismatch  gapopen  qstart  \\\n",
       "0  8_S356_contig000023  O00370.1  27.848     158       109        3      96   \n",
       "1  8_S356_contig000099  O00370.1  29.469     207       142        2     139   \n",
       "2  8_S356_contig000064  P16423.1  22.650     468       335       13     246   \n",
       "3  8_S356_contig000071  Q95SX7.1  25.622     402       282        8    1422   \n",
       "4  8_S356_contig000084  Q95SX7.1  26.415     159       108        2     109   \n",
       "\n",
       "   qend  sstart  send        evalue  bitscore  \\\n",
       "0   557     615   771  3.210000e-12      68.2   \n",
       "1   759       6   208  4.140000e-21      95.5   \n",
       "2  1625     310   758  4.230000e-18      92.4   \n",
       "3   256     441   838  1.520000e-20      99.0   \n",
       "4   558     616   774  3.470000e-11      66.2   \n",
       "\n",
       "                                              stitle uniprotid       GO_id  \\\n",
       "0  RecName: Full=LINE-1 retrotransposable element...    O00370  GO:0003723   \n",
       "1  RecName: Full=LINE-1 retrotransposable element...    O00370  GO:0003723   \n",
       "2  RecName: Full=Retrovirus-related Pol polyprote...    P16423  GO:0003723   \n",
       "3  RecName: Full=Probable RNA-directed DNA polyme...    Q95SX7  GO:0003723   \n",
       "4  RecName: Full=Probable RNA-directed DNA polyme...    Q95SX7  GO:0003723   \n",
       "\n",
       "          term                     GOSlim_bin aspect  clean  \n",
       "0  RNA binding  nucleic acid binding activity      F      1  \n",
       "1  RNA binding  nucleic acid binding activity      F      1  \n",
       "2  RNA binding  nucleic acid binding activity      F      1  \n",
       "3  RNA binding  nucleic acid binding activity      F      1  \n",
       "4  RNA binding  nucleic acid binding activity      F      1  "
      ]
     },
     "execution_count": 40,
     "metadata": {},
     "output_type": "execute_result"
    }
   ],
   "source": [
    "f3=pd.merge(f2,fgo, on =\"GO_id\" , how='inner')\n",
    "f3.head()"
   ]
  },
  {
   "cell_type": "code",
   "execution_count": 41,
   "metadata": {},
   "outputs": [
    {
     "data": {
      "text/html": [
       "<div>\n",
       "<style scoped>\n",
       "    .dataframe tbody tr th:only-of-type {\n",
       "        vertical-align: middle;\n",
       "    }\n",
       "\n",
       "    .dataframe tbody tr th {\n",
       "        vertical-align: top;\n",
       "    }\n",
       "\n",
       "    .dataframe thead th {\n",
       "        text-align: right;\n",
       "    }\n",
       "</style>\n",
       "<table border=\"1\" class=\"dataframe\">\n",
       "  <thead>\n",
       "    <tr style=\"text-align: right;\">\n",
       "      <th></th>\n",
       "      <th>length</th>\n",
       "      <th>evalue</th>\n",
       "    </tr>\n",
       "  </thead>\n",
       "  <tbody>\n",
       "    <tr>\n",
       "      <th>count</th>\n",
       "      <td>63.000000</td>\n",
       "      <td>6.300000e+01</td>\n",
       "    </tr>\n",
       "    <tr>\n",
       "      <th>mean</th>\n",
       "      <td>161.365079</td>\n",
       "      <td>1.456939e-08</td>\n",
       "    </tr>\n",
       "    <tr>\n",
       "      <th>std</th>\n",
       "      <td>117.224943</td>\n",
       "      <td>5.503168e-08</td>\n",
       "    </tr>\n",
       "    <tr>\n",
       "      <th>min</th>\n",
       "      <td>23.000000</td>\n",
       "      <td>2.320000e-50</td>\n",
       "    </tr>\n",
       "    <tr>\n",
       "      <th>25%</th>\n",
       "      <td>70.000000</td>\n",
       "      <td>1.780000e-22</td>\n",
       "    </tr>\n",
       "    <tr>\n",
       "      <th>50%</th>\n",
       "      <td>146.000000</td>\n",
       "      <td>6.140000e-20</td>\n",
       "    </tr>\n",
       "    <tr>\n",
       "      <th>75%</th>\n",
       "      <td>223.000000</td>\n",
       "      <td>2.225000e-11</td>\n",
       "    </tr>\n",
       "    <tr>\n",
       "      <th>max</th>\n",
       "      <td>468.000000</td>\n",
       "      <td>3.080000e-07</td>\n",
       "    </tr>\n",
       "  </tbody>\n",
       "</table>\n",
       "</div>"
      ],
      "text/plain": [
       "           length        evalue\n",
       "count   63.000000  6.300000e+01\n",
       "mean   161.365079  1.456939e-08\n",
       "std    117.224943  5.503168e-08\n",
       "min     23.000000  2.320000e-50\n",
       "25%     70.000000  1.780000e-22\n",
       "50%    146.000000  6.140000e-20\n",
       "75%    223.000000  2.225000e-11\n",
       "max    468.000000  3.080000e-07"
      ]
     },
     "execution_count": 41,
     "metadata": {},
     "output_type": "execute_result"
    }
   ],
   "source": [
    "f4=f3.drop_duplicates(subset = ('qseqid', \"aspect\"), inplace = False)\n",
    "f4.describe()[['length','evalue']]"
   ]
  },
  {
   "cell_type": "code",
   "execution_count": 42,
   "metadata": {},
   "outputs": [],
   "source": [
    "f4.to_csv(\"8_S356_contigs_blastx_goslim.csv\", index =  None)"
   ]
  },
  {
   "cell_type": "code",
   "execution_count": 43,
   "metadata": {},
   "outputs": [
    {
     "data": {
      "text/html": [
       "<div>\n",
       "<style scoped>\n",
       "    .dataframe tbody tr th:only-of-type {\n",
       "        vertical-align: middle;\n",
       "    }\n",
       "\n",
       "    .dataframe tbody tr th {\n",
       "        vertical-align: top;\n",
       "    }\n",
       "\n",
       "    .dataframe thead th {\n",
       "        text-align: right;\n",
       "    }\n",
       "</style>\n",
       "<table border=\"1\" class=\"dataframe\">\n",
       "  <thead>\n",
       "    <tr style=\"text-align: right;\">\n",
       "      <th>aspect</th>\n",
       "      <th>C</th>\n",
       "      <th>F</th>\n",
       "      <th>P</th>\n",
       "    </tr>\n",
       "  </thead>\n",
       "  <tbody>\n",
       "    <tr>\n",
       "      <th>count</th>\n",
       "      <td>18.0</td>\n",
       "      <td>22.0</td>\n",
       "      <td>23.0</td>\n",
       "    </tr>\n",
       "    <tr>\n",
       "      <th>mean</th>\n",
       "      <td>1.0</td>\n",
       "      <td>1.0</td>\n",
       "      <td>1.0</td>\n",
       "    </tr>\n",
       "    <tr>\n",
       "      <th>std</th>\n",
       "      <td>0.0</td>\n",
       "      <td>0.0</td>\n",
       "      <td>0.0</td>\n",
       "    </tr>\n",
       "    <tr>\n",
       "      <th>min</th>\n",
       "      <td>1.0</td>\n",
       "      <td>1.0</td>\n",
       "      <td>1.0</td>\n",
       "    </tr>\n",
       "    <tr>\n",
       "      <th>25%</th>\n",
       "      <td>1.0</td>\n",
       "      <td>1.0</td>\n",
       "      <td>1.0</td>\n",
       "    </tr>\n",
       "    <tr>\n",
       "      <th>50%</th>\n",
       "      <td>1.0</td>\n",
       "      <td>1.0</td>\n",
       "      <td>1.0</td>\n",
       "    </tr>\n",
       "    <tr>\n",
       "      <th>75%</th>\n",
       "      <td>1.0</td>\n",
       "      <td>1.0</td>\n",
       "      <td>1.0</td>\n",
       "    </tr>\n",
       "    <tr>\n",
       "      <th>max</th>\n",
       "      <td>1.0</td>\n",
       "      <td>1.0</td>\n",
       "      <td>1.0</td>\n",
       "    </tr>\n",
       "  </tbody>\n",
       "</table>\n",
       "</div>"
      ],
      "text/plain": [
       "aspect     C     F     P\n",
       "count   18.0  22.0  23.0\n",
       "mean     1.0   1.0   1.0\n",
       "std      0.0   0.0   0.0\n",
       "min      1.0   1.0   1.0\n",
       "25%      1.0   1.0   1.0\n",
       "50%      1.0   1.0   1.0\n",
       "75%      1.0   1.0   1.0\n",
       "max      1.0   1.0   1.0"
      ]
     },
     "execution_count": 43,
     "metadata": {},
     "output_type": "execute_result"
    }
   ],
   "source": [
    "ftabpivot = f4.pivot_table(values=\"uniprotid\" , index=[\"qseqid\"], aggfunc=len, columns=\"aspect\")\n",
    "ftabpivot.describe()"
   ]
  },
  {
   "cell_type": "markdown",
   "metadata": {},
   "source": [
    "# Proceso para generar el diagama de Venn con la información de \n",
    "## Componentes celulares, funciones biologicas y procesos biologicos, C, F y P, respectivamente"
   ]
  },
  {
   "cell_type": "code",
   "execution_count": 44,
   "metadata": {},
   "outputs": [
    {
     "data": {
      "text/plain": [
       "(23, 23, 23)"
      ]
     },
     "execution_count": 44,
     "metadata": {},
     "output_type": "execute_result"
    }
   ],
   "source": [
    "lineaC =[] # data from C\n",
    "lineaF =[] # data from F\n",
    "lineaP =[] # data from P\n",
    "linea = \"\"\n",
    "n=1\n",
    "for row in ftabpivot.index:\n",
    "    row2=ftabpivot.loc[row]\n",
    "    if str(row2[\"C\"])==\"nan\" and str(row2[\"F\"])==\"nan\" and str(row2[\"P\"])==\"nan\" :\n",
    "        continue    \n",
    "    else:        \n",
    "        if str(row2[\"C\"]) !=\"nan\":\n",
    "            linea = row\n",
    "        else:\n",
    "            linea = \"\"\n",
    "        lineaC.append(linea)\n",
    "        if str(row2[\"F\"]) !=\"nan\":\n",
    "            linea = row\n",
    "        else:\n",
    "            linea = \"\"\n",
    "        lineaF.append(linea)\n",
    "\n",
    "        if str(row2[\"P\"]) !=\"nan\":\n",
    "            linea = row\n",
    "        else:\n",
    "            linea = \"\"\n",
    "        lineaP.append(linea)\n",
    "\n",
    "        n+=1\n",
    "        #if n==1000:\n",
    "        #    break\n",
    "\n",
    "len(lineaC), len(lineaF), len(lineaP)"
   ]
  },
  {
   "cell_type": "code",
   "execution_count": 45,
   "metadata": {},
   "outputs": [
    {
     "ename": "ImportError",
     "evalue": "/home/jupyter/miniconda3/bin/../lib/libm.so.6: symbol __get_cpu_features version GLIBC_PRIVATE not defined in file libc.so.6 with link time reference",
     "output_type": "error",
     "traceback": [
      "\u001b[0;31m---------------------------------------------------------------------------\u001b[0m",
      "\u001b[0;31mImportError\u001b[0m                               Traceback (most recent call last)",
      "\u001b[0;32m<ipython-input-45-7af9a0ad191f>\u001b[0m in \u001b[0;36m<module>\u001b[0;34m()\u001b[0m\n\u001b[0;32m----> 1\u001b[0;31m \u001b[0;32mfrom\u001b[0m \u001b[0mmatplotlib_venn\u001b[0m \u001b[0;32mimport\u001b[0m \u001b[0mvenn3_unweighted\u001b[0m\u001b[0;34m\u001b[0m\u001b[0m\n\u001b[0m",
      "\u001b[0;32m/home/jupyter/miniconda3/lib/python3.6/site-packages/matplotlib_venn/__init__.py\u001b[0m in \u001b[0;36m<module>\u001b[0;34m()\u001b[0m\n\u001b[1;32m     53\u001b[0m                 arrowprops=dict(arrowstyle='->', connectionstyle='arc3,rad=0.5',color='gray'))\n\u001b[1;32m     54\u001b[0m '''\n\u001b[0;32m---> 55\u001b[0;31m \u001b[0;32mfrom\u001b[0m \u001b[0mmatplotlib_venn\u001b[0m\u001b[0;34m.\u001b[0m\u001b[0m_venn2\u001b[0m \u001b[0;32mimport\u001b[0m \u001b[0mvenn2\u001b[0m\u001b[0;34m,\u001b[0m \u001b[0mvenn2_circles\u001b[0m\u001b[0;34m\u001b[0m\u001b[0m\n\u001b[0m\u001b[1;32m     56\u001b[0m \u001b[0;32mfrom\u001b[0m \u001b[0mmatplotlib_venn\u001b[0m\u001b[0;34m.\u001b[0m\u001b[0m_venn3\u001b[0m \u001b[0;32mimport\u001b[0m \u001b[0mvenn3\u001b[0m\u001b[0;34m,\u001b[0m \u001b[0mvenn3_circles\u001b[0m\u001b[0;34m\u001b[0m\u001b[0m\n\u001b[1;32m     57\u001b[0m \u001b[0;32mfrom\u001b[0m \u001b[0mmatplotlib_venn\u001b[0m\u001b[0;34m.\u001b[0m\u001b[0m_util\u001b[0m \u001b[0;32mimport\u001b[0m \u001b[0mvenn2_unweighted\u001b[0m\u001b[0;34m,\u001b[0m \u001b[0mvenn3_unweighted\u001b[0m\u001b[0;34m\u001b[0m\u001b[0m\n",
      "\u001b[0;32m/home/jupyter/miniconda3/lib/python3.6/site-packages/matplotlib_venn/_venn2.py\u001b[0m in \u001b[0;36m<module>\u001b[0;34m()\u001b[0m\n\u001b[1;32m     22\u001b[0m \u001b[0;32mfrom\u001b[0m \u001b[0mmatplotlib\u001b[0m\u001b[0;34m.\u001b[0m\u001b[0mpyplot\u001b[0m \u001b[0;32mimport\u001b[0m \u001b[0mgca\u001b[0m\u001b[0;34m\u001b[0m\u001b[0m\n\u001b[1;32m     23\u001b[0m \u001b[0;34m\u001b[0m\u001b[0m\n\u001b[0;32m---> 24\u001b[0;31m \u001b[0;32mfrom\u001b[0m \u001b[0mmatplotlib_venn\u001b[0m\u001b[0;34m.\u001b[0m\u001b[0m_math\u001b[0m \u001b[0;32mimport\u001b[0m \u001b[0;34m*\u001b[0m\u001b[0;34m\u001b[0m\u001b[0m\n\u001b[0m\u001b[1;32m     25\u001b[0m \u001b[0;32mfrom\u001b[0m \u001b[0mmatplotlib_venn\u001b[0m\u001b[0;34m.\u001b[0m\u001b[0m_common\u001b[0m \u001b[0;32mimport\u001b[0m \u001b[0;34m*\u001b[0m\u001b[0;34m\u001b[0m\u001b[0m\n\u001b[1;32m     26\u001b[0m \u001b[0;32mfrom\u001b[0m \u001b[0mmatplotlib_venn\u001b[0m\u001b[0;34m.\u001b[0m\u001b[0m_region\u001b[0m \u001b[0;32mimport\u001b[0m \u001b[0mVennCircleRegion\u001b[0m\u001b[0;34m\u001b[0m\u001b[0m\n",
      "\u001b[0;32m/home/jupyter/miniconda3/lib/python3.6/site-packages/matplotlib_venn/_math.py\u001b[0m in \u001b[0;36m<module>\u001b[0;34m()\u001b[0m\n\u001b[1;32m      9\u001b[0m '''\n\u001b[1;32m     10\u001b[0m \u001b[0;34m\u001b[0m\u001b[0m\n\u001b[0;32m---> 11\u001b[0;31m \u001b[0;32mfrom\u001b[0m \u001b[0mscipy\u001b[0m\u001b[0;34m.\u001b[0m\u001b[0moptimize\u001b[0m \u001b[0;32mimport\u001b[0m \u001b[0mbrentq\u001b[0m\u001b[0;34m\u001b[0m\u001b[0m\n\u001b[0m\u001b[1;32m     12\u001b[0m \u001b[0;32mimport\u001b[0m \u001b[0mnumpy\u001b[0m \u001b[0;32mas\u001b[0m \u001b[0mnp\u001b[0m\u001b[0;34m\u001b[0m\u001b[0m\n\u001b[1;32m     13\u001b[0m \u001b[0;34m\u001b[0m\u001b[0m\n",
      "\u001b[0;32m/home/jupyter/miniconda3/lib/python3.6/site-packages/scipy/optimize/__init__.py\u001b[0m in \u001b[0;36m<module>\u001b[0;34m()\u001b[0m\n\u001b[1;32m    269\u001b[0m \u001b[0;34m\u001b[0m\u001b[0m\n\u001b[1;32m    270\u001b[0m \u001b[0;32mfrom\u001b[0m \u001b[0;34m.\u001b[0m\u001b[0moptimize\u001b[0m \u001b[0;32mimport\u001b[0m \u001b[0;34m*\u001b[0m\u001b[0;34m\u001b[0m\u001b[0m\n\u001b[0;32m--> 271\u001b[0;31m \u001b[0;32mfrom\u001b[0m \u001b[0;34m.\u001b[0m\u001b[0m_minimize\u001b[0m \u001b[0;32mimport\u001b[0m \u001b[0;34m*\u001b[0m\u001b[0;34m\u001b[0m\u001b[0m\n\u001b[0m\u001b[1;32m    272\u001b[0m \u001b[0;32mfrom\u001b[0m \u001b[0;34m.\u001b[0m\u001b[0m_root\u001b[0m \u001b[0;32mimport\u001b[0m \u001b[0;34m*\u001b[0m\u001b[0;34m\u001b[0m\u001b[0m\n\u001b[1;32m    273\u001b[0m \u001b[0;32mfrom\u001b[0m \u001b[0;34m.\u001b[0m\u001b[0mminpack\u001b[0m \u001b[0;32mimport\u001b[0m \u001b[0;34m*\u001b[0m\u001b[0;34m\u001b[0m\u001b[0m\n",
      "\u001b[0;32m/home/jupyter/miniconda3/lib/python3.6/site-packages/scipy/optimize/_minimize.py\u001b[0m in \u001b[0;36m<module>\u001b[0;34m()\u001b[0m\n\u001b[1;32m     19\u001b[0m \u001b[0;32mfrom\u001b[0m \u001b[0mscipy\u001b[0m\u001b[0;34m.\u001b[0m\u001b[0m_lib\u001b[0m\u001b[0;34m.\u001b[0m\u001b[0msix\u001b[0m \u001b[0;32mimport\u001b[0m \u001b[0mcallable\u001b[0m\u001b[0;34m\u001b[0m\u001b[0m\n\u001b[1;32m     20\u001b[0m \u001b[0;34m\u001b[0m\u001b[0m\n\u001b[0;32m---> 21\u001b[0;31m \u001b[0;32mfrom\u001b[0m \u001b[0mscipy\u001b[0m\u001b[0;34m.\u001b[0m\u001b[0msparse\u001b[0m\u001b[0;34m.\u001b[0m\u001b[0mlinalg\u001b[0m \u001b[0;32mimport\u001b[0m \u001b[0mLinearOperator\u001b[0m\u001b[0;34m\u001b[0m\u001b[0m\n\u001b[0m\u001b[1;32m     22\u001b[0m \u001b[0;34m\u001b[0m\u001b[0m\n\u001b[1;32m     23\u001b[0m \u001b[0;31m# unconstrained minimization\u001b[0m\u001b[0;34m\u001b[0m\u001b[0;34m\u001b[0m\u001b[0m\n",
      "\u001b[0;32m/home/jupyter/miniconda3/lib/python3.6/site-packages/scipy/sparse/linalg/__init__.py\u001b[0m in \u001b[0;36m<module>\u001b[0;34m()\u001b[0m\n\u001b[1;32m    116\u001b[0m \u001b[0;32mfrom\u001b[0m \u001b[0;34m.\u001b[0m\u001b[0minterface\u001b[0m \u001b[0;32mimport\u001b[0m \u001b[0;34m*\u001b[0m\u001b[0;34m\u001b[0m\u001b[0m\n\u001b[1;32m    117\u001b[0m \u001b[0;32mfrom\u001b[0m \u001b[0;34m.\u001b[0m\u001b[0meigen\u001b[0m \u001b[0;32mimport\u001b[0m \u001b[0;34m*\u001b[0m\u001b[0;34m\u001b[0m\u001b[0m\n\u001b[0;32m--> 118\u001b[0;31m \u001b[0;32mfrom\u001b[0m \u001b[0;34m.\u001b[0m\u001b[0mmatfuncs\u001b[0m \u001b[0;32mimport\u001b[0m \u001b[0;34m*\u001b[0m\u001b[0;34m\u001b[0m\u001b[0m\n\u001b[0m\u001b[1;32m    119\u001b[0m \u001b[0;32mfrom\u001b[0m \u001b[0;34m.\u001b[0m\u001b[0m_onenormest\u001b[0m \u001b[0;32mimport\u001b[0m \u001b[0;34m*\u001b[0m\u001b[0;34m\u001b[0m\u001b[0m\n\u001b[1;32m    120\u001b[0m \u001b[0;32mfrom\u001b[0m \u001b[0;34m.\u001b[0m\u001b[0m_norm\u001b[0m \u001b[0;32mimport\u001b[0m \u001b[0;34m*\u001b[0m\u001b[0;34m\u001b[0m\u001b[0m\n",
      "\u001b[0;32m/home/jupyter/miniconda3/lib/python3.6/site-packages/scipy/sparse/linalg/matfuncs.py\u001b[0m in \u001b[0;36m<module>\u001b[0;34m()\u001b[0m\n\u001b[1;32m     17\u001b[0m \u001b[0;32mimport\u001b[0m \u001b[0mnumpy\u001b[0m \u001b[0;32mas\u001b[0m \u001b[0mnp\u001b[0m\u001b[0;34m\u001b[0m\u001b[0m\n\u001b[1;32m     18\u001b[0m \u001b[0;34m\u001b[0m\u001b[0m\n\u001b[0;32m---> 19\u001b[0;31m \u001b[0;32mimport\u001b[0m \u001b[0mscipy\u001b[0m\u001b[0;34m.\u001b[0m\u001b[0mspecial\u001b[0m\u001b[0;34m\u001b[0m\u001b[0m\n\u001b[0m\u001b[1;32m     20\u001b[0m \u001b[0;32mfrom\u001b[0m \u001b[0mscipy\u001b[0m\u001b[0;34m.\u001b[0m\u001b[0mlinalg\u001b[0m\u001b[0;34m.\u001b[0m\u001b[0mbasic\u001b[0m \u001b[0;32mimport\u001b[0m \u001b[0msolve\u001b[0m\u001b[0;34m,\u001b[0m \u001b[0msolve_triangular\u001b[0m\u001b[0;34m\u001b[0m\u001b[0m\n\u001b[1;32m     21\u001b[0m \u001b[0;34m\u001b[0m\u001b[0m\n",
      "\u001b[0;32m/home/jupyter/miniconda3/lib/python3.6/site-packages/scipy/special/__init__.py\u001b[0m in \u001b[0;36m<module>\u001b[0;34m()\u001b[0m\n\u001b[1;32m    638\u001b[0m \u001b[0;32mfrom\u001b[0m \u001b[0;34m.\u001b[0m\u001b[0msf_error\u001b[0m \u001b[0;32mimport\u001b[0m \u001b[0mSpecialFunctionWarning\u001b[0m\u001b[0;34m,\u001b[0m \u001b[0mSpecialFunctionError\u001b[0m\u001b[0;34m\u001b[0m\u001b[0m\n\u001b[1;32m    639\u001b[0m \u001b[0;34m\u001b[0m\u001b[0m\n\u001b[0;32m--> 640\u001b[0;31m \u001b[0;32mfrom\u001b[0m \u001b[0;34m.\u001b[0m\u001b[0m_ufuncs\u001b[0m \u001b[0;32mimport\u001b[0m \u001b[0;34m*\u001b[0m\u001b[0;34m\u001b[0m\u001b[0m\n\u001b[0m\u001b[1;32m    641\u001b[0m \u001b[0;34m\u001b[0m\u001b[0m\n\u001b[1;32m    642\u001b[0m \u001b[0;32mfrom\u001b[0m \u001b[0;34m.\u001b[0m\u001b[0mbasic\u001b[0m \u001b[0;32mimport\u001b[0m \u001b[0;34m*\u001b[0m\u001b[0;34m\u001b[0m\u001b[0m\n",
      "\u001b[0;31mImportError\u001b[0m: /home/jupyter/miniconda3/bin/../lib/libm.so.6: symbol __get_cpu_features version GLIBC_PRIVATE not defined in file libc.so.6 with link time reference"
     ]
    }
   ],
   "source": [
    "from matplotlib_venn import venn3_unweighted"
   ]
  },
  {
   "cell_type": "code",
   "execution_count": 61,
   "metadata": {},
   "outputs": [
    {
     "name": "stdout",
     "output_type": "stream",
     "text": [
      "save figure? y\n"
     ]
    },
    {
     "data": {
      "image/png": "[encoded data removed]",
      "text/plain": [
       "<Figure size 432x288 with 1 Axes>"
      ]
     },
     "metadata": {},
     "output_type": "display_data"
    }
   ],
   "source": [
    "fgo=f4.groupby('GOSlim_bin')[\"qseqid\"].count()\n",
    "#fgo\n",
    "\n",
    "fgo.sort_values(inplace = True, ascending=False)\n",
    "#fgo\n",
    "\n",
    "linea10=fgo[0:10]\n",
    "linea11=fgo[10:]\n",
    "#linea10\n",
    "\n",
    "#linea11\n",
    "otro=sum (linea11)\n",
    "#otro\n",
    "otros = pd.DataFrame({0:otro}, index=[\"Other\"])\n",
    "#otros\n",
    "linea10=linea10.append(otros)\n",
    "#linea10\n",
    "linea10.plot(kind='barh', color=list('ybg'))\n",
    "plt.axis([-1, max(linea10[0]+5), -1, 11], label=None)\n",
    "plt.xlabel(\"Count\")\n",
    "plt.ylabel(\"GOSlim bin\")\n",
    "plt.legend().set_visible(False)\n",
    "yes=\"n\"\n",
    "yes = input(\"save figure? \")\n",
    "if yes==\"y\":\n",
    "    plt.savefig(\"img/8_S356_contigs_blastx_GObar.png\", dpi=400, bbox_inches='tight')\n",
    "\n",
    "plt.show()"
   ]
  },
  {
   "cell_type": "code",
   "execution_count": null,
   "metadata": {},
   "outputs": [],
   "source": []
  },
  {
   "cell_type": "code",
   "execution_count": null,
   "metadata": {},
   "outputs": [],
   "source": []
  },
  {
   "cell_type": "code",
   "execution_count": null,
   "metadata": {},
   "outputs": [],
   "source": [
    "n=0\n",
    "for rec in ftab[\"stitle\"]:\n",
    "    print (rec)\n",
    "    n+=1\n",
    "    if n==20:\n",
    "        break"
   ]
  },
  {
   "cell_type": "code",
   "execution_count": null,
   "metadata": {},
   "outputs": [],
   "source": []
  }
 ],
 "metadata": {
  "kernelspec": {
   "display_name": "Python 3",
   "language": "python",
   "name": "python3"
  },
  "language_info": {
   "codemirror_mode": {
    "name": "ipython",
    "version": 3
   },
   "file_extension": ".py",
   "mimetype": "text/x-python",
   "name": "python",
   "nbconvert_exporter": "python",
   "pygments_lexer": "ipython3",
   "version": "3.6.4"
  }
 },
 "nbformat": 4,
 "nbformat_minor": 2
}
