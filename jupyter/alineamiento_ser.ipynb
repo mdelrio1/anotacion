{
 "cells": [
  {
   "cell_type": "markdown",
   "metadata": {},
   "source": [
    "# Alineamiento con Biopython"
   ]
  },
  {
   "cell_type": "markdown",
   "metadata": {},
   "source": [
    "## de la pagina\n",
    "https://medium.com/towards-data-science/pairwise-sequence-alignment-using-biopython-d1a9d0ba861f\n"
   ]
  },
  {
   "cell_type": "code",
   "execution_count": 5,
   "metadata": {},
   "outputs": [],
   "source": [
    "from Bio import pairwise2, SeqIO\n",
    "from Bio.pairwise2 import format_alignment\n",
    "from Bio import AlignIO"
   ]
  },
  {
   "cell_type": "code",
   "execution_count": 2,
   "metadata": {
    "collapsed": true
   },
   "outputs": [],
   "source": [
    "X = \"ACGGGT\""
   ]
  },
  {
   "cell_type": "code",
   "execution_count": 3,
   "metadata": {
    "collapsed": true
   },
   "outputs": [],
   "source": [
    "Y = \"ACG\""
   ]
  },
  {
   "cell_type": "code",
   "execution_count": 4,
   "metadata": {
    "collapsed": true
   },
   "outputs": [],
   "source": [
    "alignements = pairwise2.align.globalxx(X, Y)"
   ]
  },
  {
   "cell_type": "code",
   "execution_count": 5,
   "metadata": {},
   "outputs": [
    {
     "name": "stdout",
     "output_type": "stream",
     "text": [
      "ACGGGT\n",
      "||||||\n",
      "AC--G-\n",
      "  Score=3\n",
      "\n",
      "ACGGGT\n",
      "||||||\n",
      "AC-G--\n",
      "  Score=3\n",
      "\n",
      "ACGGGT\n",
      "||||||\n",
      "ACG---\n",
      "  Score=3\n",
      "\n"
     ]
    }
   ],
   "source": [
    "for a in alignements:\n",
    "    print (format_alignment(*a))"
   ]
  },
  {
   "cell_type": "code",
   "execution_count": 6,
   "metadata": {},
   "outputs": [
    {
     "name": "stdout",
     "output_type": "stream",
     "text": [
      "ACGGGT\n",
      "|||||\n",
      "AC--G-\n",
      "  Score=3\n",
      "\n",
      "ACGGGT\n",
      "||||\n",
      "AC-G--\n",
      "  Score=3\n",
      "\n",
      "ACGGGT\n",
      "|||\n",
      "ACG---\n",
      "  Score=3\n",
      "\n"
     ]
    }
   ],
   "source": [
    "alignements = pairwise2.align.localxx(X, Y)\n",
    "for a in alignements:\n",
    "    print (format_alignment(*a))"
   ]
  },
  {
   "cell_type": "code",
   "execution_count": 7,
   "metadata": {},
   "outputs": [
    {
     "name": "stdout",
     "output_type": "stream",
     "text": [
      "ACGGGT\n",
      "||||||\n",
      "ACG---\n",
      "  Score=5.3\n",
      "\n"
     ]
    }
   ],
   "source": [
    "alignements =  pairwise2.align.globalms(X, Y, 2, -1, -0.5, -0.1)\n",
    "for a in alignements:\n",
    "    print (format_alignment(*a))"
   ]
  },
  {
   "cell_type": "markdown",
   "metadata": {},
   "source": [
    "# example 1"
   ]
  },
  {
   "cell_type": "code",
   "execution_count": 8,
   "metadata": {},
   "outputs": [
    {
     "name": "stdout",
     "output_type": "stream",
     "text": [
      "ACGGGT\n",
      "||||||\n",
      "AC--G-\n",
      "  Score=3\n",
      "\n",
      "ACGGGT\n",
      "||||||\n",
      "AC-G--\n",
      "  Score=3\n",
      "\n",
      "ACGGGT\n",
      "||||||\n",
      "ACG---\n",
      "  Score=3\n",
      "\n"
     ]
    }
   ],
   "source": [
    "# Import pairwise2 module\n",
    "from Bio import pairwise2\n",
    "\n",
    "# Import format_alignment method\n",
    "from Bio.pairwise2 import format_alignment\n",
    "\n",
    "# Define two sequences to be aligned\n",
    "X = \"ACGGGT\"\n",
    "Y = \"ACG\"\n",
    "\n",
    "# Get a list of the global alignments between the two sequences ACGGGT and ACG\n",
    "# No parameters. Identical characters have score of 1, else 0.\n",
    "# No gap penalties.\n",
    "alignments = pairwise2.align.globalxx(X, Y)\n",
    "\n",
    "# Use format_alignment method to format the alignments in the list\n",
    "for a in alignments:\n",
    "    print(format_alignment(*a))"
   ]
  },
  {
   "cell_type": "markdown",
   "metadata": {},
   "source": [
    "# example 2"
   ]
  },
  {
   "cell_type": "code",
   "execution_count": 9,
   "metadata": {},
   "outputs": [
    {
     "name": "stdout",
     "output_type": "stream",
     "text": [
      "ACGGGT\n",
      "|||||\n",
      "AC--G-\n",
      "  Score=3\n",
      "\n",
      "ACGGGT\n",
      "||||\n",
      "AC-G--\n",
      "  Score=3\n",
      "\n",
      "ACGGGT\n",
      "|||\n",
      "ACG---\n",
      "  Score=3\n",
      "\n"
     ]
    }
   ],
   "source": [
    "# Import pairwise2 module\n",
    "from Bio import pairwise2\n",
    "\n",
    "# Import format_alignment method\n",
    "from Bio.pairwise2 import format_alignment\n",
    "\n",
    "# Define two sequences to be aligned\n",
    "X = \"ACGGGT\"\n",
    "Y = \"ACG\"\n",
    "\n",
    "# Get a list of the local alignments between the two sequences ACGGGT and ACG\n",
    "# No parameters. Identical characters have score of 1, else 0.\n",
    "# No gap penalties.\n",
    "alignments = pairwise2.align.localxx(X, Y)\n",
    "\n",
    "# Use format_alignment method to format the alignments in the list\n",
    "for a in alignments:\n",
    "    print(format_alignment(*a))\n"
   ]
  },
  {
   "cell_type": "markdown",
   "metadata": {},
   "source": [
    "# example 3"
   ]
  },
  {
   "cell_type": "code",
   "execution_count": 10,
   "metadata": {},
   "outputs": [
    {
     "name": "stdout",
     "output_type": "stream",
     "text": [
      "ACGGGT\n",
      "||||||\n",
      "ACG---\n",
      "  Score=5.3\n",
      "\n"
     ]
    }
   ],
   "source": [
    "# Import pairwise2 module\n",
    "from Bio import pairwise2\n",
    "\n",
    "# Import format_alignment method\n",
    "from Bio.pairwise2 import format_alignment\n",
    "\n",
    "# Define two sequences to be aligned\n",
    "X = \"ACGGGT\"\n",
    "Y = \"ACG\"\n",
    "\n",
    "# Get a list of the global alignments between the two sequences ACGGGT and ACG satisfying the given scoring\n",
    "# A match score is the score of identical chars, else mismatch score.\n",
    "# Same open and extend gap penalties for both sequences.\n",
    "alignments = pairwise2.align.globalms(X, Y, 2, -1, -0.5, -0.1)\n",
    "\n",
    "# Use format_alignment method to format the alignments in the list\n",
    "for a in alignments:\n",
    "    print(format_alignment(*a))\n",
    "    "
   ]
  },
  {
   "cell_type": "code",
   "execution_count": null,
   "metadata": {
    "collapsed": true
   },
   "outputs": [],
   "source": []
  },
  {
   "cell_type": "code",
   "execution_count": null,
   "metadata": {
    "collapsed": true
   },
   "outputs": [],
   "source": []
  },
  {
   "cell_type": "markdown",
   "metadata": {},
   "source": [
    "## Ejercicio"
   ]
  },
  {
   "cell_type": "code",
   "execution_count": 1,
   "metadata": {},
   "outputs": [
    {
     "data": {
      "text/plain": [
       "'/home/user1/Desktop/jupyter'"
      ]
     },
     "execution_count": 1,
     "metadata": {},
     "output_type": "execute_result"
    }
   ],
   "source": [
    "pwd"
   ]
  },
  {
   "cell_type": "code",
   "execution_count": 2,
   "metadata": {},
   "outputs": [
    {
     "name": "stdout",
     "output_type": "stream",
     "text": [
      "/home/user1/Desktop/data/fasta\n"
     ]
    }
   ],
   "source": [
    "cd ~/Desktop/data/fasta/"
   ]
  },
  {
   "cell_type": "code",
   "execution_count": 3,
   "metadata": {},
   "outputs": [],
   "source": [
    "from Bio.SeqRecord import SeqRecord"
   ]
  },
  {
   "cell_type": "code",
   "execution_count": 6,
   "metadata": {},
   "outputs": [
    {
     "name": "stdout",
     "output_type": "stream",
     "text": [
      "Nav1_2_B_halotolerans \t Nav1\n",
      "Nav1_8_B_aquimaris \t Nav1\n",
      "Nav2_2_A_mediterranea \t Nav2\n",
      "PET1_2_H_chejuensis \t PET1\n",
      "PET1_8_P_oceani \t PET1\n",
      "PET2_2_A_mediterranea \t PET2\n",
      "PET2_8_A_mediterranea \t PET2\n",
      "PETsn1_2_A_mediterranea \t PETsn1\n",
      "PETsn1_8_A_mediterranea \t PETsn1\n",
      "PHBb1_2_L_janthinus \t PHBb1\n"
     ]
    }
   ],
   "source": [
    "f= open(\"secuencias_anotadas.fasta\")\n",
    "n=0\n",
    "secuencias=[]\n",
    "for rec in SeqIO.parse(f, \"fasta\"):\n",
    "    rec1 = rec.id[:rec.id.find(\"_\")]\n",
    "    #rec.id = rec1\n",
    "    print (rec.id, \"\\t\", rec1)\n",
    "    linea =SeqRecord((rec.seq), id=rec1, description=rec.description)\n",
    "    secuencias.append(linea)\n",
    "\n",
    "\n",
    "    "
   ]
  },
  {
   "cell_type": "raw",
   "metadata": {},
   "source": [
    "f= open(\"secuencias.fasta\")\n",
    "n=0\n",
    "secuencias=[]\n",
    "for rec in SeqIO.parse(f, \"fasta\"):\n",
    "    print (rec.id, rec.description)"
   ]
  },
  {
   "cell_type": "raw",
   "metadata": {},
   "source": [
    "SeqIO.write(secuencias, \"secuencias_alinear.fasta\", \"fasta\")\n"
   ]
  },
  {
   "cell_type": "raw",
   "metadata": {},
   "source": [
    "f= open(\"secuencias_anotadas.fasta\")\n",
    "n=0\n",
    "secuencias=[]\n",
    "for rec in SeqIO.parse(f, \"fasta\"):\n",
    "\n",
    "    if rec.id[-1]==\"R\":\n",
    "        linea =SeqRecord((rec.seq.reverse_complement()), id=rec.id[:-1]+\"RC\", description=rec.description+\" RC\")\n",
    "    else:\n",
    "        linea =SeqRecord((rec.seq), id=rec.id, description=rec.description)\n",
    "    secuencias.append(linea)\n",
    "    print (linea.id)\n",
    "    "
   ]
  },
  {
   "cell_type": "raw",
   "metadata": {},
   "source": [
    "SeqIO.write(secuencias, \"../fasta/secuencias_alinear.fasta\", \"fasta\")\n"
   ]
  },
  {
   "cell_type": "markdown",
   "metadata": {},
   "source": [
    "# Alineamiento"
   ]
  },
  {
   "cell_type": "code",
   "execution_count": 7,
   "metadata": {},
   "outputs": [],
   "source": [
    "import os\n",
    "from Bio.Align.Applications import ClustalwCommandline"
   ]
  },
  {
   "cell_type": "raw",
   "metadata": {},
   "source": [
    "cline = ClustalwCommandline(\"clustalw2\", infile=\"secuencias_comp.fas\")\n",
    "print(cline)"
   ]
  },
  {
   "cell_type": "code",
   "execution_count": 9,
   "metadata": {},
   "outputs": [
    {
     "ename": "ApplicationError",
     "evalue": "Non-zero return code 126 from '/home/user1/Applications/clustalw/clustalw2 -infile=secuencias_anotadas.fasta', message '/bin/sh: 1: /home/user1/Applications/clustalw/clustalw2: Permission denied'",
     "output_type": "error",
     "traceback": [
      "\u001b[0;31m\u001b[0m",
      "\u001b[0;31mApplicationError\u001b[0mTraceback (most recent call last)",
      "\u001b[0;32m<ipython-input-9-daf128ed278b>\u001b[0m in \u001b[0;36m<module>\u001b[0;34m()\u001b[0m\n\u001b[1;32m      2\u001b[0m \u001b[0mclustalw_cline\u001b[0m \u001b[0;34m=\u001b[0m \u001b[0mClustalwCommandline\u001b[0m\u001b[0;34m(\u001b[0m\u001b[0mclustalw_exe\u001b[0m\u001b[0;34m,\u001b[0m \u001b[0minfile\u001b[0m\u001b[0;34m=\u001b[0m\u001b[0;34m\"secuencias_anotadas.fasta\"\u001b[0m\u001b[0;34m)\u001b[0m\u001b[0;34m\u001b[0m\u001b[0m\n\u001b[1;32m      3\u001b[0m \u001b[0;32massert\u001b[0m \u001b[0mos\u001b[0m\u001b[0;34m.\u001b[0m\u001b[0mpath\u001b[0m\u001b[0;34m.\u001b[0m\u001b[0misfile\u001b[0m\u001b[0;34m(\u001b[0m\u001b[0mclustalw_exe\u001b[0m\u001b[0;34m)\u001b[0m\u001b[0;34m,\u001b[0m \u001b[0;34m\"Clustal W executable missing\"\u001b[0m\u001b[0;34m\u001b[0m\u001b[0m\n\u001b[0;32m----> 4\u001b[0;31m \u001b[0mstdout\u001b[0m\u001b[0;34m,\u001b[0m \u001b[0mstderr\u001b[0m \u001b[0;34m=\u001b[0m \u001b[0mclustalw_cline\u001b[0m\u001b[0;34m(\u001b[0m\u001b[0;34m)\u001b[0m\u001b[0;34m\u001b[0m\u001b[0m\n\u001b[0m",
      "\u001b[0;32m/home/jupyter/miniconda3/lib/python3.6/site-packages/Bio/Application/__init__.py\u001b[0m in \u001b[0;36m__call__\u001b[0;34m(self, stdin, stdout, stderr, cwd, env)\u001b[0m\n\u001b[1;32m    521\u001b[0m         \u001b[0;32mif\u001b[0m \u001b[0mreturn_code\u001b[0m\u001b[0;34m:\u001b[0m\u001b[0;34m\u001b[0m\u001b[0m\n\u001b[1;32m    522\u001b[0m             raise ApplicationError(return_code, str(self),\n\u001b[0;32m--> 523\u001b[0;31m                                    stdout_str, stderr_str)\n\u001b[0m\u001b[1;32m    524\u001b[0m         \u001b[0;32mreturn\u001b[0m \u001b[0mstdout_str\u001b[0m\u001b[0;34m,\u001b[0m \u001b[0mstderr_str\u001b[0m\u001b[0;34m\u001b[0m\u001b[0m\n\u001b[1;32m    525\u001b[0m \u001b[0;34m\u001b[0m\u001b[0m\n",
      "\u001b[0;31mApplicationError\u001b[0m: Non-zero return code 126 from '/home/user1/Applications/clustalw/clustalw2 -infile=secuencias_anotadas.fasta', message '/bin/sh: 1: /home/user1/Applications/clustalw/clustalw2: Permission denied'"
     ]
    }
   ],
   "source": [
    "clustalw_exe = r\"/home/user1/Applications/clustalw/clustalw2\"\n",
    "clustalw_cline = ClustalwCommandline(clustalw_exe, infile=\"secuencias_anotadas.fasta\")\n",
    "assert os.path.isfile(clustalw_exe), \"Clustal W executable missing\"\n",
    "stdout, stderr = clustalw_cline()\n"
   ]
  },
  {
   "cell_type": "code",
   "execution_count": null,
   "metadata": {},
   "outputs": [],
   "source": []
  },
  {
   "cell_type": "code",
   "execution_count": 36,
   "metadata": {},
   "outputs": [
    {
     "ename": "ApplicationError",
     "evalue": "Non-zero return code 126 from '/home/user1/Applications/clustalw/clustalw2 -infile=secuencias_comp.fas', message '/bin/sh: 1: /home/user1/Applications/clustalw/clustalw2: Permission denied'",
     "output_type": "error",
     "traceback": [
      "\u001b[0;31m\u001b[0m",
      "\u001b[0;31mApplicationError\u001b[0mTraceback (most recent call last)",
      "\u001b[0;32m<ipython-input-36-b84c0ec8a6ae>\u001b[0m in \u001b[0;36m<module>\u001b[0;34m()\u001b[0m\n\u001b[1;32m      2\u001b[0m \u001b[0mclustalw_cline\u001b[0m \u001b[0;34m=\u001b[0m \u001b[0mClustalwCommandline\u001b[0m\u001b[0;34m(\u001b[0m\u001b[0mclustalw_exe\u001b[0m\u001b[0;34m,\u001b[0m \u001b[0minfile\u001b[0m\u001b[0;34m=\u001b[0m\u001b[0;34m\"secuencias_comp.fas\"\u001b[0m\u001b[0;34m)\u001b[0m\u001b[0;34m\u001b[0m\u001b[0m\n\u001b[1;32m      3\u001b[0m \u001b[0;32massert\u001b[0m \u001b[0mos\u001b[0m\u001b[0;34m.\u001b[0m\u001b[0mpath\u001b[0m\u001b[0;34m.\u001b[0m\u001b[0misfile\u001b[0m\u001b[0;34m(\u001b[0m\u001b[0mclustalw_exe\u001b[0m\u001b[0;34m)\u001b[0m\u001b[0;34m,\u001b[0m \u001b[0;34m\"Clustal W executable missing\"\u001b[0m\u001b[0;34m\u001b[0m\u001b[0m\n\u001b[0;32m----> 4\u001b[0;31m \u001b[0mstdout\u001b[0m\u001b[0;34m,\u001b[0m \u001b[0mstderr\u001b[0m \u001b[0;34m=\u001b[0m \u001b[0mclustalw_cline\u001b[0m\u001b[0;34m(\u001b[0m\u001b[0;34m)\u001b[0m\u001b[0;34m\u001b[0m\u001b[0m\n\u001b[0m",
      "\u001b[0;32m/home/jupyter/miniconda3/lib/python3.6/site-packages/Bio/Application/__init__.py\u001b[0m in \u001b[0;36m__call__\u001b[0;34m(self, stdin, stdout, stderr, cwd, env)\u001b[0m\n\u001b[1;32m    521\u001b[0m         \u001b[0;32mif\u001b[0m \u001b[0mreturn_code\u001b[0m\u001b[0;34m:\u001b[0m\u001b[0;34m\u001b[0m\u001b[0m\n\u001b[1;32m    522\u001b[0m             raise ApplicationError(return_code, str(self),\n\u001b[0;32m--> 523\u001b[0;31m                                    stdout_str, stderr_str)\n\u001b[0m\u001b[1;32m    524\u001b[0m         \u001b[0;32mreturn\u001b[0m \u001b[0mstdout_str\u001b[0m\u001b[0;34m,\u001b[0m \u001b[0mstderr_str\u001b[0m\u001b[0;34m\u001b[0m\u001b[0m\n\u001b[1;32m    525\u001b[0m \u001b[0;34m\u001b[0m\u001b[0m\n",
      "\u001b[0;31mApplicationError\u001b[0m: Non-zero return code 126 from '/home/user1/Applications/clustalw/clustalw2 -infile=secuencias_comp.fas', message '/bin/sh: 1: /home/user1/Applications/clustalw/clustalw2: Permission denied'"
     ]
    }
   ],
   "source": [
    "clustalw_exe = r\"/home/user1/Applications/clustalw/clustalw2\"\n",
    "clustalw_cline = ClustalwCommandline(clustalw_exe, infile=\"secuencias_comp.fas\")\n",
    "assert os.path.isfile(clustalw_exe), \"Clustal W executable missing\"\n",
    "stdout, stderr = clustalw_cline()"
   ]
  },
  {
   "cell_type": "code",
   "execution_count": 33,
   "metadata": {},
   "outputs": [
    {
     "name": "stdout",
     "output_type": "stream",
     "text": [
      "\u001b[0m\u001b[01;34mimg\u001b[0m/  secuencias_comp.fas\r\n"
     ]
    }
   ],
   "source": [
    "ls "
   ]
  },
  {
   "cell_type": "code",
   "execution_count": 30,
   "metadata": {},
   "outputs": [
    {
     "data": {
      "text/plain": [
       "True"
      ]
     },
     "execution_count": 30,
     "metadata": {},
     "output_type": "execute_result"
    }
   ],
   "source": [
    "os.path.isfile('/home/user1/Applications/clustalw/clustalw2')"
   ]
  },
  {
   "cell_type": "code",
   "execution_count": 27,
   "metadata": {},
   "outputs": [
    {
     "data": {
      "text/plain": [
       "'~/Applications/clustalw/clustalw2'"
      ]
     },
     "execution_count": 27,
     "metadata": {},
     "output_type": "execute_result"
    }
   ],
   "source": [
    "clustalw_exe\n"
   ]
  },
  {
   "cell_type": "code",
   "execution_count": null,
   "metadata": {},
   "outputs": [],
   "source": []
  },
  {
   "cell_type": "code",
   "execution_count": null,
   "metadata": {},
   "outputs": [],
   "source": [
    "alignments = AlignIO.parse(\"../fasta/secuencias_alinear.aln\", \"clustal\")\n",
    "for alignment in alignments:\n",
    "    print(alignment)\n",
    "    print(\"\")"
   ]
  },
  {
   "cell_type": "code",
   "execution_count": null,
   "metadata": {},
   "outputs": [],
   "source": []
  },
  {
   "cell_type": "markdown",
   "metadata": {
    "collapsed": true
   },
   "source": [
    "# para obtener ayuda en clustalw"
   ]
  },
  {
   "cell_type": "code",
   "execution_count": 12,
   "metadata": {},
   "outputs": [
    {
     "name": "stdout",
     "output_type": "stream",
     "text": [
      "\r\n",
      "\r\n",
      "\r\n",
      " CLUSTAL 2.1 Multiple Sequence Alignments\r\n",
      "\r\n",
      "\r\n",
      "                DATA (sequences)\r\n",
      "\r\n",
      "-INFILE=file.ext                             :input sequences.\r\n",
      "-PROFILE1=file.ext  and  -PROFILE2=file.ext  :profiles (old alignment).\r\n",
      "\r\n",
      "\r\n",
      "                VERBS (do things)\r\n",
      "\r\n",
      "-OPTIONS            :list the command line parameters\r\n",
      "-HELP  or -CHECK    :outline the command line params.\r\n",
      "-FULLHELP           :output full help content.\r\n",
      "-ALIGN              :do full multiple alignment.\r\n",
      "-TREE               :calculate NJ tree.\r\n",
      "-PIM                :output percent identity matrix (while calculating the tree)\r\n",
      "-BOOTSTRAP(=n)      :bootstrap a NJ tree (n= number of bootstraps; def. = 1000).\r\n",
      "-CONVERT            :output the input sequences in a different file format.\r\n",
      "\r\n",
      "\r\n",
      "                PARAMETERS (set things)\r\n",
      "\r\n",
      "***General settings:****\r\n",
      "-INTERACTIVE :read command line, then enter normal interactive menus\r\n",
      "-QUICKTREE   :use FAST algorithm for the alignment guide tree\r\n",
      "-TYPE=       :PROTEIN or DNA sequences\r\n",
      "-NEGATIVE    :protein alignment with negative values in matrix\r\n",
      "-OUTFILE=    :sequence alignment file name\r\n",
      "-OUTPUT=     :CLUSTAL(default), GCG, GDE, PHYLIP, PIR, NEXUS and FASTA\r\n",
      "-OUTORDER=   :INPUT or ALIGNED\r\n",
      "-CASE        :LOWER or UPPER (for GDE output only)\r\n",
      "-SEQNOS=     :OFF or ON (for Clustal output only)\r\n",
      "-SEQNO_RANGE=:OFF or ON (NEW: for all output formats)\r\n",
      "-RANGE=m,n   :sequence range to write starting m to m+n\r\n",
      "-MAXSEQLEN=n :maximum allowed input sequence length\r\n",
      "-QUIET       :Reduce console output to minimum\r\n",
      "-STATS=      :Log some alignents statistics to file\r\n",
      "\r\n",
      "***Fast Pairwise Alignments:***\r\n",
      "-KTUPLE=n    :word size\r\n",
      "-TOPDIAGS=n  :number of best diags.\r\n",
      "-WINDOW=n    :window around best diags.\r\n",
      "-PAIRGAP=n   :gap penalty\r\n",
      "-SCORE       :PERCENT or ABSOLUTE\r\n",
      "\r\n",
      "\r\n",
      "***Slow Pairwise Alignments:***\r\n",
      "-PWMATRIX=    :Protein weight matrix=BLOSUM, PAM, GONNET, ID or filename\r\n",
      "-PWDNAMATRIX= :DNA weight matrix=IUB, CLUSTALW or filename\r\n",
      "-PWGAPOPEN=f  :gap opening penalty        \r\n",
      "-PWGAPEXT=f   :gap opening penalty\r\n",
      "\r\n",
      "\r\n",
      "***Multiple Alignments:***\r\n",
      "-NEWTREE=      :file for new guide tree\r\n",
      "-USETREE=      :file for old guide tree\r\n",
      "-MATRIX=       :Protein weight matrix=BLOSUM, PAM, GONNET, ID or filename\r\n",
      "-DNAMATRIX=    :DNA weight matrix=IUB, CLUSTALW or filename\r\n",
      "-GAPOPEN=f     :gap opening penalty        \r\n",
      "-GAPEXT=f      :gap extension penalty\r\n",
      "-ENDGAPS       :no end gap separation pen. \r\n",
      "-GAPDIST=n     :gap separation pen. range\r\n",
      "-NOPGAP        :residue-specific gaps off  \r\n",
      "-NOHGAP        :hydrophilic gaps off\r\n",
      "-HGAPRESIDUES= :list hydrophilic res.    \r\n",
      "-MAXDIV=n      :% ident. for delay\r\n",
      "-TYPE=         :PROTEIN or DNA\r\n",
      "-TRANSWEIGHT=f :transitions weighting\r\n",
      "-ITERATION=    :NONE or TREE or ALIGNMENT\r\n",
      "-NUMITER=n     :maximum number of iterations to perform\r\n",
      "-NOWEIGHTS     :disable sequence weighting\r\n",
      "\r\n",
      "\r\n",
      "***Profile Alignments:***\r\n",
      "-PROFILE      :Merge two alignments by profile alignment\r\n",
      "-NEWTREE1=    :file for new guide tree for profile1\r\n",
      "-NEWTREE2=    :file for new guide tree for profile2\r\n",
      "-USETREE1=    :file for old guide tree for profile1\r\n",
      "-USETREE2=    :file for old guide tree for profile2\r\n",
      "\r\n",
      "\r\n",
      "***Sequence to Profile Alignments:***\r\n",
      "-SEQUENCES   :Sequentially add profile2 sequences to profile1 alignment\r\n",
      "-NEWTREE=    :file for new guide tree\r\n",
      "-USETREE=    :file for old guide tree\r\n",
      "\r\n",
      "\r\n",
      "***Structure Alignments:***\r\n",
      "-NOSECSTR1     :do not use secondary structure-gap penalty mask for profile 1 \r\n",
      "-NOSECSTR2     :do not use secondary structure-gap penalty mask for profile 2\r\n",
      "-SECSTROUT=STRUCTURE or MASK or BOTH or NONE   :output in alignment file\r\n",
      "-HELIXGAP=n    :gap penalty for helix core residues \r\n",
      "-STRANDGAP=n   :gap penalty for strand core residues\r\n",
      "-LOOPGAP=n     :gap penalty for loop regions\r\n",
      "-TERMINALGAP=n :gap penalty for structure termini\r\n",
      "-HELIXENDIN=n  :number of residues inside helix to be treated as terminal\r\n",
      "-HELIXENDOUT=n :number of residues outside helix to be treated as terminal\r\n",
      "-STRANDENDIN=n :number of residues inside strand to be treated as terminal\r\n",
      "-STRANDENDOUT=n:number of residues outside strand to be treated as terminal \r\n",
      "\r\n",
      "\r\n",
      "***Trees:***\r\n",
      "-OUTPUTTREE=nj OR phylip OR dist OR nexus\r\n",
      "-SEED=n        :seed number for bootstraps.\r\n",
      "-KIMURA        :use Kimura's correction.   \r\n",
      "-TOSSGAPS      :ignore positions with gaps.\r\n",
      "-BOOTLABELS=node OR branch :position of bootstrap values in tree display\r\n",
      "-CLUSTERING=   :NJ or UPGMA\r\n"
     ]
    }
   ],
   "source": [
    "!/Applications/clustalw/clustalw2 -help"
   ]
  },
  {
   "cell_type": "code",
   "execution_count": 13,
   "metadata": {},
   "outputs": [
    {
     "name": "stdout",
     "output_type": "stream",
     "text": [
      "Help on package Bio.AlignIO in Bio:\n",
      "\n",
      "NAME\n",
      "    Bio.AlignIO - Multiple sequence alignment input/output as alignment objects.\n",
      "\n",
      "DESCRIPTION\n",
      "    The Bio.AlignIO interface is deliberately very similar to Bio.SeqIO, and in\n",
      "    fact the two are connected internally.  Both modules use the same set of file\n",
      "    format names (lower case strings).  From the user's perspective, you can read\n",
      "    in a PHYLIP file containing one or more alignments using Bio.AlignIO, or you\n",
      "    can read in the sequences within these alignmenta using Bio.SeqIO.\n",
      "    \n",
      "    Bio.AlignIO is also documented at http://biopython.org/wiki/AlignIO and by\n",
      "    a whole chapter in our tutorial:\n",
      "    \n",
      "    * `HTML Tutorial`_\n",
      "    * `PDF Tutorial`_\n",
      "    \n",
      "    .. _`HTML Tutorial`: http://biopython.org/DIST/docs/tutorial/Tutorial.html\n",
      "    .. _`PDF Tutorial`: http://biopython.org/DIST/docs/tutorial/Tutorial.pdf\n",
      "    \n",
      "    Input\n",
      "    -----\n",
      "    For the typical special case when your file or handle contains one and only\n",
      "    one alignment, use the function Bio.AlignIO.read().  This takes an input file\n",
      "    handle (or in recent versions of Biopython a filename as a string), format\n",
      "    string and optional number of sequences per alignment.  It will return a single\n",
      "    MultipleSeqAlignment object (or raise an exception if there isn't just one\n",
      "    alignment):\n",
      "    \n",
      "    >>> from Bio import AlignIO\n",
      "    >>> align = AlignIO.read(\"Phylip/interlaced.phy\", \"phylip\")\n",
      "    >>> print(align)\n",
      "    SingleLetterAlphabet() alignment with 3 rows and 384 columns\n",
      "    -----MKVILLFVLAVFTVFVSS---------------RGIPPE...I-- CYS1_DICDI\n",
      "    MAHARVLLLALAVLATAAVAVASSSSFADSNPIRPVTDRAASTL...VAA ALEU_HORVU\n",
      "    ------MWATLPLLCAGAWLLGV--------PVCGAAELSVNSL...PLV CATH_HUMAN\n",
      "    \n",
      "    For the general case, when the handle could contain any number of alignments,\n",
      "    use the function Bio.AlignIO.parse(...) which takes the same arguments, but\n",
      "    returns an iterator giving MultipleSeqAlignment objects (typically used in a\n",
      "    for loop). If you want random access to the alignments by number, turn this\n",
      "    into a list:\n",
      "    \n",
      "    >>> from Bio import AlignIO\n",
      "    >>> alignments = list(AlignIO.parse(\"Emboss/needle.txt\", \"emboss\"))\n",
      "    >>> print(alignments[2])\n",
      "    SingleLetterAlphabet() alignment with 2 rows and 120 columns\n",
      "    -KILIVDDQYGIRILLNEVFNKEGYQTFQAANGLQALDIVTKER...--- ref_rec\n",
      "    LHIVVVDDDPGTCVYIESVFAELGHTCKSFVRPEAAEEYILTHP...HKE gi|94967506|receiver\n",
      "    \n",
      "    Most alignment file formats can be concatenated so as to hold as many\n",
      "    different multiple sequence alignments as possible.  One common example\n",
      "    is the output of the tool seqboot in the PHLYIP suite.  Sometimes there\n",
      "    can be a file header and footer, as seen in the EMBOSS alignment output.\n",
      "    \n",
      "    Output\n",
      "    ------\n",
      "    Use the function Bio.AlignIO.write(...), which takes a complete set of\n",
      "    Alignment objects (either as a list, or an iterator), an output file handle\n",
      "    (or filename in recent versions of Biopython) and of course the file format::\n",
      "    \n",
      "      from Bio import AlignIO\n",
      "      alignments = ...\n",
      "      count = SeqIO.write(alignments, \"example.faa\", \"fasta\")\n",
      "    \n",
      "    If using a handle make sure to close it to flush the data to the disk::\n",
      "    \n",
      "      from Bio import AlignIO\n",
      "      alignments = ...\n",
      "      with open(\"example.faa\", \"w\") as handle:\n",
      "        count = SeqIO.write(alignments, handle, \"fasta\")\n",
      "    \n",
      "    In general, you are expected to call this function once (with all your\n",
      "    alignments) and then close the file handle.  However, for file formats\n",
      "    like PHYLIP where multiple alignments are stored sequentially (with no file\n",
      "    header and footer), then multiple calls to the write function should work as\n",
      "    expected when using handles.\n",
      "    \n",
      "    If you are using a filename, the repeated calls to the write functions will\n",
      "    overwrite the existing file each time.\n",
      "    \n",
      "    Conversion\n",
      "    ----------\n",
      "    The Bio.AlignIO.convert(...) function allows an easy interface for simple\n",
      "    alignment file format conversions. Additionally, it may use file format\n",
      "    specific optimisations so this should be the fastest way too.\n",
      "    \n",
      "    In general however, you can combine the Bio.AlignIO.parse(...) function with\n",
      "    the Bio.AlignIO.write(...) function for sequence file conversion. Using\n",
      "    generator expressions provides a memory efficient way to perform filtering or\n",
      "    other extra operations as part of the process.\n",
      "    \n",
      "    File Formats\n",
      "    ------------\n",
      "    When specifying the file format, use lowercase strings.  The same format\n",
      "    names are also used in Bio.SeqIO and include the following:\n",
      "    \n",
      "      - clustal -   Output from Clustal W or X, see also the module Bio.Clustalw\n",
      "        which can be used to run the command line tool from Biopython.\n",
      "      - emboss    - EMBOSS tools' \"pairs\" and \"simple\" alignment formats.\n",
      "      - fasta     - The generic sequence file format where each record starts with\n",
      "        an identifer line starting with a \">\" character, followed by\n",
      "        lines of sequence.\n",
      "      - fasta-m10 - For the pairswise alignments output by Bill Pearson's FASTA\n",
      "        tools when used with the -m 10 command line option for machine\n",
      "        readable output.\n",
      "      - ig        - The IntelliGenetics file format, apparently the same as the\n",
      "        MASE alignment format.\n",
      "      - nexus     - Output from NEXUS, see also the module Bio.Nexus which can also\n",
      "        read any phylogenetic trees in these files.\n",
      "      - phylip    - Interlaced PHYLIP, as used by the PHLIP tools.\n",
      "      - phylip-sequential - Sequential PHYLIP.\n",
      "      - phylip-relaxed - PHYLIP like format allowing longer names.\n",
      "      - stockholm - A richly annotated alignment file format used by PFAM.\n",
      "    \n",
      "    Note that while Bio.AlignIO can read all the above file formats, it cannot\n",
      "    write to all of them.\n",
      "    \n",
      "    You can also use any file format supported by Bio.SeqIO, such as \"fasta\" or\n",
      "    \"ig\" (which are listed above), PROVIDED the sequences in your file are all the\n",
      "    same length.\n",
      "\n",
      "PACKAGE CONTENTS\n",
      "    ClustalIO\n",
      "    EmbossIO\n",
      "    FastaIO\n",
      "    Interfaces\n",
      "    MafIO\n",
      "    NexusIO\n",
      "    PhylipIO\n",
      "    StockholmIO\n",
      "\n",
      "FUNCTIONS\n",
      "    convert(in_file, in_format, out_file, out_format, alphabet=None)\n",
      "        Convert between two alignment files, returns number of alignments.\n",
      "        \n",
      "            - in_file - an input handle or filename\n",
      "            - in_format - input file format, lower case string\n",
      "            - output - an output handle or filename\n",
      "            - out_file - output file format, lower case string\n",
      "            - alphabet - optional alphabet to assume\n",
      "        \n",
      "        **NOTE** - If you provide an output filename, it will be opened which will\n",
      "        overwrite any existing file without warning. This may happen if even the\n",
      "        conversion is aborted (e.g. an invalid out_format name is given).\n",
      "    \n",
      "    parse(handle, format, seq_count=None, alphabet=None)\n",
      "        Iterate over an alignment file as MultipleSeqAlignment objects.\n",
      "        \n",
      "        Arguments:\n",
      "          - handle    - handle to the file, or the filename as a string\n",
      "            (note older versions of Biopython only took a handle).\n",
      "          - format    - string describing the file format.\n",
      "          - alphabet  - optional Alphabet object, useful when the sequence type\n",
      "            cannot be automatically inferred from the file itself\n",
      "            (e.g. fasta, phylip, clustal)\n",
      "          - seq_count - Optional integer, number of sequences expected in each\n",
      "            alignment.  Recommended for fasta format files.\n",
      "        \n",
      "        If you have the file name in a string 'filename', use:\n",
      "        \n",
      "        >>> from Bio import AlignIO\n",
      "        >>> filename = \"Emboss/needle.txt\"\n",
      "        >>> format = \"emboss\"\n",
      "        >>> for alignment in AlignIO.parse(filename, format):\n",
      "        ...     print(\"Alignment of length %i\" % alignment.get_alignment_length())\n",
      "        Alignment of length 124\n",
      "        Alignment of length 119\n",
      "        Alignment of length 120\n",
      "        Alignment of length 118\n",
      "        Alignment of length 125\n",
      "        \n",
      "        If you have a string 'data' containing the file contents, use::\n",
      "        \n",
      "          from Bio import AlignIO\n",
      "          from StringIO import StringIO\n",
      "          my_iterator = AlignIO.parse(StringIO(data), format)\n",
      "        \n",
      "        Use the Bio.AlignIO.read() function when you expect a single record only.\n",
      "    \n",
      "    read(handle, format, seq_count=None, alphabet=None)\n",
      "        Turns an alignment file into a single MultipleSeqAlignment object.\n",
      "        \n",
      "        Arguments:\n",
      "          - handle    - handle to the file, or the filename as a string\n",
      "            (note older versions of Biopython only took a handle).\n",
      "          - format    - string describing the file format.\n",
      "          - alphabet  - optional Alphabet object, useful when the sequence type\n",
      "            cannot be automatically inferred from the file itself\n",
      "            (e.g. fasta, phylip, clustal)\n",
      "          - seq_count - Optional integer, number of sequences expected in each\n",
      "            alignment.  Recommended for fasta format files.\n",
      "        \n",
      "        If the handle contains no alignments, or more than one alignment,\n",
      "        an exception is raised.  For example, using a PFAM/Stockholm file\n",
      "        containing one alignment:\n",
      "        \n",
      "        >>> from Bio import AlignIO\n",
      "        >>> filename = \"Clustalw/protein.aln\"\n",
      "        >>> format = \"clustal\"\n",
      "        >>> alignment = AlignIO.read(filename, format)\n",
      "        >>> print(\"Alignment of length %i\" % alignment.get_alignment_length())\n",
      "        Alignment of length 411\n",
      "        \n",
      "        If however you want the first alignment from a file containing\n",
      "        multiple alignments this function would raise an exception.\n",
      "        \n",
      "        >>> from Bio import AlignIO\n",
      "        >>> filename = \"Emboss/needle.txt\"\n",
      "        >>> format = \"emboss\"\n",
      "        >>> alignment = AlignIO.read(filename, format)\n",
      "        Traceback (most recent call last):\n",
      "            ...\n",
      "        ValueError: More than one record found in handle\n",
      "        \n",
      "        Instead use:\n",
      "        \n",
      "        >>> from Bio import AlignIO\n",
      "        >>> filename = \"Emboss/needle.txt\"\n",
      "        >>> format = \"emboss\"\n",
      "        >>> alignment = next(AlignIO.parse(filename, format))\n",
      "        >>> print(\"First alignment has length %i\" % alignment.get_alignment_length())\n",
      "        First alignment has length 124\n",
      "        \n",
      "        You must use the Bio.AlignIO.parse() function if you want to read multiple\n",
      "        records from the handle.\n",
      "    \n",
      "    write(alignments, handle, format)\n",
      "        Write complete set of alignments to a file.\n",
      "        \n",
      "        Arguments:\n",
      "          - alignments - A list (or iterator) of MultipleSeqAlignment objects,\n",
      "            or a single alignment object.\n",
      "          - handle    - File handle object to write to, or filename as string\n",
      "            (note older versions of Biopython only took a handle).\n",
      "          - format    - lower case string describing the file format to write.\n",
      "        \n",
      "        You should close the handle after calling this function.\n",
      "        \n",
      "        Returns the number of alignments written (as an integer).\n",
      "\n",
      "DATA\n",
      "    print_function = _Feature((2, 6, 0, 'alpha', 2), (3, 0, 0, 'alpha', 0)...\n",
      "\n",
      "FILE\n",
      "    /Users/migueldelrio/anaconda3/lib/python3.6/site-packages/Bio/AlignIO/__init__.py\n",
      "\n",
      "\n"
     ]
    }
   ],
   "source": [
    "help(AlignIO)"
   ]
  },
  {
   "cell_type": "code",
   "execution_count": 14,
   "metadata": {},
   "outputs": [
    {
     "name": "stdout",
     "output_type": "stream",
     "text": [
      "Nav1.2F.fa                PET1.8F.fasta             PETsn1.8R.fasta\r\n",
      "Nav1.2F.fasta             PET1.8R.fasta             PHBb1.2F.fasta\r\n",
      "Nav1.2R.fasta             PET2.2F.fasta             PHBb1.2R.fasta\r\n",
      "Nav1.8F.fasta             PET2.2R.fasta             secuencias.fasta\r\n",
      "Nav1.8R.fasta             PET2.8F.fasta             secuencias_alinear.aln\r\n",
      "Nav2.2F.fasta             PET2.8R.fasta             secuencias_alinear.dnd\r\n",
      "Nav2.2R.fasta             PETsn1.2F.fasta           secuencias_alinear.fasta\r\n",
      "PET1.2F.fasta             PETsn1.2R.fasta\r\n",
      "PET1.2R.fasta             PETsn1.8F.fasta\r\n"
     ]
    }
   ],
   "source": [
    "ls"
   ]
  },
  {
   "cell_type": "code",
   "execution_count": 19,
   "metadata": {},
   "outputs": [
    {
     "name": "stdout",
     "output_type": "stream",
     "text": [
      "SingleLetterAlphabet() alignment with 20 rows and 378 columns\n",
      "---------------CCGCAGGTTCCCCTAGGGTTACCTTGTTA...--- PET2.2RC\n",
      "-----GGTGATCCAACCGCAGGTTCCCCTAGGGTTACCTTGTTA...--- PETsn1.8RC\n",
      "---------------CCGCAGGTTCCCCTAGGGTTACCTTGTTA...--- Nav2.2RC\n",
      "----------------CGCAGGTTCCCCTAGGGTTACCTTGTTA...--- PETsn1.2RC\n",
      "-----------------GCAGGTTCCCCTAGGGTTACCTTGTTA...--- PET2.8RC\n",
      "--------------------------------------------...T-- Nav2.2F\n",
      "-------------------------------GGATTTTGCCGGC...TA- PETsn1.8F\n",
      "--------------------------------------------...T-- PET2.8F\n",
      "--------------------------------------------...TAA PET2.2F\n",
      "--------------------------------------------...--- PETsn1.2F\n",
      "--------------------------------------------...--- PET1.2F\n",
      "--------------------------------------------...--- PET1.8F\n",
      "-------------------AGGTTCCCCTACGGCTACCTTGTTA...--- PET1.2RC\n",
      "AGGAGGTGGAATCAACCGCAGGTTCCCCTACGGCTACCTTGTTA...--- PET1.8RC\n",
      "--------------------------------------------...--- Nav1.2F\n",
      "--------------------------------------------...--- Nav1.8F\n",
      "-----------------GCACCTTCCGATACGGCTACCTTGTTA...--- Nav1.2RC\n",
      "-----------------GCACCTTCCGATACGGTTACCTTGTTA...--- Nav1.8RC\n",
      "-------------------------------------------T...--- PHBb1.2F\n",
      "-----------------GCAGGTTCCCCTACGGCTACCTTGTTA...--- PHBb1.2RC\n",
      "\n"
     ]
    }
   ],
   "source": [
    "alignments = AlignIO.parse(\"secuencias_alinear.aln\", \"clustal\")\n",
    "for alignment in alignments:\n",
    "    print(alignment)\n",
    "    print(\"\")"
   ]
  },
  {
   "cell_type": "code",
   "execution_count": 10,
   "metadata": {},
   "outputs": [],
   "source": [
    "from Bio import Phylo"
   ]
  },
  {
   "cell_type": "code",
   "execution_count": 33,
   "metadata": {},
   "outputs": [
    {
     "name": "stdout",
     "output_type": "stream",
     "text": [
      "                                                   ______________ Nav1.2F\n",
      "                                             _____|\n",
      "                                            |     |_ Nav1.8F\n",
      "                                ____________|\n",
      "                               |            |     _______ Nav1.2RC\n",
      "                               |            |____|\n",
      "                      _________|                 |____ Nav1.8RC\n",
      "                     |         |\n",
      "                     |         |         _____ PHBb1.2F\n",
      "                     |         |________|\n",
      "           __________|                  |_______ PHBb1.2RC\n",
      "          |          |\n",
      "          |          |     ___ PET1.2F\n",
      "          |          | ___|\n",
      "          |          ||   |____ PET1.8F\n",
      "          |          ||\n",
      "          |           |    ___ PET1.2RC\n",
      "          |           |___|\n",
      "  ________|               |____ PET1.8RC\n",
      " |        |\n",
      " |        |           , Nav2.2F\n",
      " |        |          ,|\n",
      " |        |         _||__ PETsn1.8F\n",
      " |        |        | |\n",
      " |        |       ,| | PET2.8F\n",
      " |        |       ||\n",
      " |        |_______|| PET2.2F\n",
      " |                |\n",
      " |                | PETsn1.2F\n",
      " |\n",
      " | PET2.8RC\n",
      "_|\n",
      " |, Nav2.2RC\n",
      " ||\n",
      " |, PET2.2RC\n",
      " ||\n",
      " ||_____ PETsn1.8RC\n",
      " |\n",
      " | PETsn1.2RC\n",
      "\n"
     ]
    }
   ],
   "source": [
    "tree = Phylo.read(\"secuencias_alinear.dnd\", \"newick\")\n",
    "Phylo.draw_ascii(tree, file=None, column_width=80)"
   ]
  },
  {
   "cell_type": "code",
   "execution_count": 35,
   "metadata": {},
   "outputs": [
    {
     "data": {
      "image/png": "[encoded data removed]",
      "text/plain": [
       "<matplotlib.figure.Figure at 0x151132ce48>"
      ]
     },
     "metadata": {},
     "output_type": "display_data"
    }
   ],
   "source": [
    "tree.rooted = True\n",
    "Phylo.draw(tree)"
   ]
  },
  {
   "cell_type": "code",
   "execution_count": 11,
   "metadata": {},
   "outputs": [],
   "source": [
    "?Phylo.draw"
   ]
  },
  {
   "cell_type": "code",
   "execution_count": null,
   "metadata": {},
   "outputs": [],
   "source": []
  }
 ],
 "metadata": {
  "kernelspec": {
   "display_name": "Python 3",
   "language": "python",
   "name": "python3"
  },
  "language_info": {
   "codemirror_mode": {
    "name": "ipython",
    "version": 3
   },
   "file_extension": ".py",
   "mimetype": "text/x-python",
   "name": "python",
   "nbconvert_exporter": "python",
   "pygments_lexer": "ipython3",
   "version": "3.6.4"
  }
 },
 "nbformat": 4,
 "nbformat_minor": 2
}
