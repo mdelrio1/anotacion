{
 "cells": [
  {
   "cell_type": "markdown",
   "metadata": {},
   "source": [
    "# Alineamiento con Biopython"
   ]
  },
  {
   "cell_type": "markdown",
   "metadata": {},
   "source": [
    "## de la pagina\n",
    "https://medium.com/towards-data-science/pairwise-sequence-alignment-using-biopython-d1a9d0ba861f\n"
   ]
  },
  {
   "cell_type": "code",
   "execution_count": null,
   "metadata": {},
   "outputs": [],
   "source": [
    "from Bio import pairwise2, SeqIO\n",
    "from Bio.pairwise2 import format_alignment\n",
    "from Bio import AlignIO"
   ]
  },
  {
   "cell_type": "code",
   "execution_count": null,
   "metadata": {},
   "outputs": [],
   "source": [
    "X = \"ACGGGT\""
   ]
  },
  {
   "cell_type": "code",
   "execution_count": null,
   "metadata": {},
   "outputs": [],
   "source": [
    "Y = \"ACG\""
   ]
  },
  {
   "cell_type": "code",
   "execution_count": null,
   "metadata": {},
   "outputs": [],
   "source": [
    "alignements = pairwise2.align.globalxx(X, Y)"
   ]
  },
  {
   "cell_type": "code",
   "execution_count": null,
   "metadata": {},
   "outputs": [],
   "source": [
    "for a in alignements:\n",
    "    print (format_alignment(*a))"
   ]
  },
  {
   "cell_type": "code",
   "execution_count": null,
   "metadata": {},
   "outputs": [],
   "source": [
    "alignements = pairwise2.align.localxx(X, Y)\n",
    "for a in alignements:\n",
    "    print (format_alignment(*a))"
   ]
  },
  {
   "cell_type": "code",
   "execution_count": null,
   "metadata": {},
   "outputs": [],
   "source": [
    "alignements =  pairwise2.align.globalms(X, Y, 2, -1, -0.5, -0.1)\n",
    "for a in alignements:\n",
    "    print (format_alignment(*a))"
   ]
  },
  {
   "cell_type": "markdown",
   "metadata": {},
   "source": [
    "# example 1"
   ]
  },
  {
   "cell_type": "code",
   "execution_count": null,
   "metadata": {},
   "outputs": [],
   "source": [
    "# Import pairwise2 module\n",
    "from Bio import pairwise2\n",
    "\n",
    "# Import format_alignment method\n",
    "from Bio.pairwise2 import format_alignment\n",
    "\n",
    "# Define two sequences to be aligned\n",
    "X = \"ACGGGT\"\n",
    "Y = \"ACG\"\n",
    "\n",
    "# Get a list of the global alignments between the two sequences ACGGGT and ACG\n",
    "# No parameters. Identical characters have score of 1, else 0.\n",
    "# No gap penalties.\n",
    "alignments = pairwise2.align.globalxx(X, Y)\n",
    "\n",
    "# Use format_alignment method to format the alignments in the list\n",
    "for a in alignments:\n",
    "    print(format_alignment(*a))"
   ]
  },
  {
   "cell_type": "markdown",
   "metadata": {},
   "source": [
    "# example 2"
   ]
  },
  {
   "cell_type": "code",
   "execution_count": null,
   "metadata": {},
   "outputs": [],
   "source": [
    "# Import pairwise2 module\n",
    "from Bio import pairwise2\n",
    "\n",
    "# Import format_alignment method\n",
    "from Bio.pairwise2 import format_alignment\n",
    "\n",
    "# Define two sequences to be aligned\n",
    "X = \"ACGGGT\"\n",
    "Y = \"ACG\"\n",
    "\n",
    "# Get a list of the local alignments between the two sequences ACGGGT and ACG\n",
    "# No parameters. Identical characters have score of 1, else 0.\n",
    "# No gap penalties.\n",
    "alignments = pairwise2.align.localxx(X, Y)\n",
    "\n",
    "# Use format_alignment method to format the alignments in the list\n",
    "for a in alignments:\n",
    "    print(format_alignment(*a))\n"
   ]
  },
  {
   "cell_type": "markdown",
   "metadata": {},
   "source": [
    "# example 3"
   ]
  },
  {
   "cell_type": "code",
   "execution_count": null,
   "metadata": {},
   "outputs": [],
   "source": [
    "# Import pairwise2 module\n",
    "from Bio import pairwise2\n",
    "\n",
    "# Import format_alignment method\n",
    "from Bio.pairwise2 import format_alignment\n",
    "\n",
    "# Define two sequences to be aligned\n",
    "X = \"ACGGGT\"\n",
    "Y = \"ACG\"\n",
    "\n",
    "# Get a list of the global alignments between the two sequences ACGGGT and ACG satisfying the given scoring\n",
    "# A match score is the score of identical chars, else mismatch score.\n",
    "# Same open and extend gap penalties for both sequences.\n",
    "alignments = pairwise2.align.globalms(X, Y, 2, -1, -0.5, -0.1)\n",
    "\n",
    "# Use format_alignment method to format the alignments in the list\n",
    "for a in alignments:\n",
    "    print(format_alignment(*a))\n",
    "    "
   ]
  },
  {
   "cell_type": "code",
   "execution_count": null,
   "metadata": {},
   "outputs": [],
   "source": []
  },
  {
   "cell_type": "code",
   "execution_count": null,
   "metadata": {},
   "outputs": [],
   "source": []
  },
  {
   "cell_type": "markdown",
   "metadata": {},
   "source": [
    "## Ejercicio"
   ]
  },
  {
   "cell_type": "code",
   "execution_count": null,
   "metadata": {},
   "outputs": [],
   "source": [
    "pwd"
   ]
  },
  {
   "cell_type": "code",
   "execution_count": null,
   "metadata": {},
   "outputs": [],
   "source": [
    "cd ~/Desktop/data/fasta/"
   ]
  },
  {
   "cell_type": "code",
   "execution_count": null,
   "metadata": {},
   "outputs": [],
   "source": [
    "from Bio.SeqRecord import SeqRecord"
   ]
  },
  {
   "cell_type": "code",
   "execution_count": null,
   "metadata": {},
   "outputs": [],
   "source": [
    "f= open(\"secuencias_anotadas.fasta\")\n",
    "n=0\n",
    "secuencias=[]\n",
    "for rec in SeqIO.parse(f, \"fasta\"):\n",
    "    rec1 = rec.id[:rec.id.find(\"_\")]\n",
    "    #rec.id = rec1\n",
    "    print (rec.id, \"\\t\", rec1)\n",
    "    linea =SeqRecord((rec.seq), id=rec1, description=rec.description)\n",
    "    secuencias.append(linea)\n",
    "\n",
    "\n",
    "    "
   ]
  },
  {
   "cell_type": "raw",
   "metadata": {},
   "source": [
    "f= open(\"secuencias.fasta\")\n",
    "n=0\n",
    "secuencias=[]\n",
    "for rec in SeqIO.parse(f, \"fasta\"):\n",
    "    print (rec.id, rec.description)"
   ]
  },
  {
   "cell_type": "raw",
   "metadata": {},
   "source": [
    "SeqIO.write(secuencias, \"secuencias_alinear.fasta\", \"fasta\")\n"
   ]
  },
  {
   "cell_type": "raw",
   "metadata": {},
   "source": [
    "f= open(\"secuencias_anotadas.fasta\")\n",
    "n=0\n",
    "secuencias=[]\n",
    "for rec in SeqIO.parse(f, \"fasta\"):\n",
    "\n",
    "    if rec.id[-1]==\"R\":\n",
    "        linea =SeqRecord((rec.seq.reverse_complement()), id=rec.id[:-1]+\"RC\", description=rec.description+\" RC\")\n",
    "    else:\n",
    "        linea =SeqRecord((rec.seq), id=rec.id, description=rec.description)\n",
    "    secuencias.append(linea)\n",
    "    print (linea.id)\n",
    "    "
   ]
  },
  {
   "cell_type": "raw",
   "metadata": {},
   "source": [
    "SeqIO.write(secuencias, \"../fasta/secuencias_alinear.fasta\", \"fasta\")\n"
   ]
  },
  {
   "cell_type": "markdown",
   "metadata": {},
   "source": [
    "# Alineamiento"
   ]
  },
  {
   "cell_type": "code",
   "execution_count": null,
   "metadata": {},
   "outputs": [],
   "source": [
    "import os\n",
    "from Bio.Align.Applications import ClustalwCommandline"
   ]
  },
  {
   "cell_type": "raw",
   "metadata": {},
   "source": [
    "cline = ClustalwCommandline(\"clustalw2\", infile=\"secuencias_comp.fas\")\n",
    "print(cline)"
   ]
  },
  {
   "cell_type": "code",
   "execution_count": null,
   "metadata": {},
   "outputs": [],
   "source": [
    "clustalw_exe = r\"/home/user1/Applications/clustalw/clustalw2\"\n",
    "clustalw_cline = ClustalwCommandline(clustalw_exe, infile=\"secuencias_anotadas.fasta\")\n",
    "assert os.path.isfile(clustalw_exe), \"Clustal W executable missing\"\n",
    "stdout, stderr = clustalw_cline()\n"
   ]
  },
  {
   "cell_type": "code",
   "execution_count": null,
   "metadata": {},
   "outputs": [],
   "source": []
  },
  {
   "cell_type": "code",
   "execution_count": null,
   "metadata": {},
   "outputs": [],
   "source": [
    "clustalw_exe = r\"/home/user1/Applications/clustalw/clustalw2\"\n",
    "clustalw_cline = ClustalwCommandline(clustalw_exe, infile=\"secuencias_comp.fas\")\n",
    "assert os.path.isfile(clustalw_exe), \"Clustal W executable missing\"\n",
    "stdout, stderr = clustalw_cline()"
   ]
  },
  {
   "cell_type": "code",
   "execution_count": null,
   "metadata": {},
   "outputs": [],
   "source": [
    "ls "
   ]
  },
  {
   "cell_type": "code",
   "execution_count": null,
   "metadata": {},
   "outputs": [],
   "source": [
    "os.path.isfile('/home/user1/Applications/clustalw/clustalw2')"
   ]
  },
  {
   "cell_type": "code",
   "execution_count": null,
   "metadata": {},
   "outputs": [],
   "source": [
    "clustalw_exe\n"
   ]
  },
  {
   "cell_type": "code",
   "execution_count": null,
   "metadata": {},
   "outputs": [],
   "source": []
  },
  {
   "cell_type": "code",
   "execution_count": null,
   "metadata": {},
   "outputs": [],
   "source": [
    "alignments = AlignIO.parse(\"../fasta/secuencias_alinear.aln\", \"clustal\")\n",
    "for alignment in alignments:\n",
    "    print(alignment)\n",
    "    print(\"\")"
   ]
  },
  {
   "cell_type": "code",
   "execution_count": null,
   "metadata": {},
   "outputs": [],
   "source": []
  },
  {
   "cell_type": "markdown",
   "metadata": {
    "collapsed": true
   },
   "source": [
    "# para obtener ayuda en clustalw"
   ]
  },
  {
   "cell_type": "code",
   "execution_count": null,
   "metadata": {},
   "outputs": [],
   "source": [
    "!/Applications/clustalw/clustalw2 -help"
   ]
  },
  {
   "cell_type": "code",
   "execution_count": null,
   "metadata": {},
   "outputs": [],
   "source": [
    "help(AlignIO)"
   ]
  },
  {
   "cell_type": "code",
   "execution_count": null,
   "metadata": {},
   "outputs": [],
   "source": [
    "ls"
   ]
  },
  {
   "cell_type": "code",
   "execution_count": null,
   "metadata": {},
   "outputs": [],
   "source": [
    "alignments = AlignIO.parse(\"secuencias_alinear.aln\", \"clustal\")\n",
    "for alignment in alignments:\n",
    "    print(alignment)\n",
    "    print(\"\")"
   ]
  },
  {
   "cell_type": "code",
   "execution_count": null,
   "metadata": {},
   "outputs": [],
   "source": [
    "from Bio import Phylo"
   ]
  },
  {
   "cell_type": "code",
   "execution_count": null,
   "metadata": {},
   "outputs": [],
   "source": [
    "tree = Phylo.read(\"secuencias_alinear.dnd\", \"newick\")\n",
    "Phylo.draw_ascii(tree, file=None, column_width=80)"
   ]
  },
  {
   "cell_type": "code",
   "execution_count": null,
   "metadata": {},
   "outputs": [],
   "source": [
    "tree.rooted = True\n",
    "Phylo.draw(tree)"
   ]
  },
  {
   "cell_type": "code",
   "execution_count": null,
   "metadata": {},
   "outputs": [],
   "source": [
    "?Phylo.draw"
   ]
  },
  {
   "cell_type": "code",
   "execution_count": null,
   "metadata": {},
   "outputs": [],
   "source": []
  }
 ],
 "metadata": {
  "kernelspec": {
   "display_name": "Python 3",
   "language": "python",
   "name": "python3"
  },
  "language_info": {
   "codemirror_mode": {
    "name": "ipython",
    "version": 3
   },
   "file_extension": ".py",
   "mimetype": "text/x-python",
   "name": "python",
   "nbconvert_exporter": "python",
   "pygments_lexer": "ipython3",
   "version": "3.6.5"
  }
 },
 "nbformat": 4,
 "nbformat_minor": 2
}
