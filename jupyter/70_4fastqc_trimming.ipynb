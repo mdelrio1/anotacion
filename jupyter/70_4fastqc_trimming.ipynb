{
 "cells": [
  {
   "cell_type": "markdown",
   "metadata": {},
   "source": [
    "# procedimiento para analizar la calidad de las secuencias con FastQC"
   ]
  },
  {
   "cell_type": "markdown",
   "metadata": {},
   "source": [
    "# Las secuencias tienen adaptadores, los cuales debes ser removidos\n",
    "## descargar el programa Trim_galore"
   ]
  },
  {
   "cell_type": "markdown",
   "metadata": {},
   "source": [
    "https://www.bioinformatics.babraham.ac.uk/projects/trim_galore/\n",
    "\n",
    "<img src=\"./img/trim_galore.png\">\n"
   ]
  },
  {
   "cell_type": "markdown",
   "metadata": {},
   "source": [
    "https://www.bioinformatics.babraham.ac.uk/projects/download.html#trim_galore\n",
    "\n",
    "<img src=\"img/trim_galore2.png\">\n"
   ]
  },
  {
   "cell_type": "markdown",
   "metadata": {},
   "source": [
    "#### al final de la página"
   ]
  },
  {
   "cell_type": "markdown",
   "metadata": {},
   "source": [
    "https://www.bioinformatics.babraham.ac.uk/projects/download.html#trim_galore\n",
    "<img src=\"img/trim_galore3.png\">\n"
   ]
  },
  {
   "cell_type": "markdown",
   "metadata": {},
   "source": [
    "# FastQC"
   ]
  },
  {
   "cell_type": "markdown",
   "metadata": {},
   "source": [
    "http://www.bioinformatics.babraham.ac.uk/projects/fastqc/\n",
    "<img src=\"img/fastqc1.png\">\n"
   ]
  },
  {
   "cell_type": "markdown",
   "metadata": {},
   "source": [
    "http://www.bioinformatics.babraham.ac.uk/projects/download.html#fastqc\n",
    "<img src=\"img/fastqc2.png\">\n",
    "\n"
   ]
  },
  {
   "cell_type": "code",
   "execution_count": 1,
   "metadata": {},
   "outputs": [],
   "source": [
    "import os\n",
    "import zipfile\n",
    "from IPython.display import display, Image"
   ]
  },
  {
   "cell_type": "code",
   "execution_count": 2,
   "metadata": {},
   "outputs": [
    {
     "data": {
      "text/plain": [
       "'/home/user1/Desktop/jupyter'"
      ]
     },
     "execution_count": 2,
     "metadata": {},
     "output_type": "execute_result"
    }
   ],
   "source": [
    "pwd"
   ]
  },
  {
   "cell_type": "code",
   "execution_count": 3,
   "metadata": {},
   "outputs": [
    {
     "name": "stdout",
     "output_type": "stream",
     "text": [
      "/home/user1/Desktop/data/ejercicio_fastqc\n"
     ]
    }
   ],
   "source": [
    "cd ~/Desktop/data/ejercicio_fastqc"
   ]
  },
  {
   "cell_type": "code",
   "execution_count": 4,
   "metadata": {},
   "outputs": [
    {
     "name": "stdout",
     "output_type": "stream",
     "text": [
      "8_S356_L001_R1_001.fastq  8_S356_L001_R2_001.fastq  jupiter.png\r\n"
     ]
    }
   ],
   "source": [
    "ls"
   ]
  },
  {
   "cell_type": "code",
   "execution_count": 5,
   "metadata": {},
   "outputs": [
    {
     "name": "stdout",
     "output_type": "stream",
     "text": [
      "no existe, se crea el directorio\n"
     ]
    }
   ],
   "source": [
    "if os.path.exists(\"./8_S356_fastqc\"):\n",
    "    print (\"existe el directorio, se continua\")\n",
    "else:\n",
    "    print (\"no existe, se crea el directorio\")\n",
    "    !mkdir 8_S356_fastqc"
   ]
  },
  {
   "cell_type": "code",
   "execution_count": 6,
   "metadata": {},
   "outputs": [
    {
     "name": "stdout",
     "output_type": "stream",
     "text": [
      "8_S356_L001_R1_001.fastq  8_S356_L001_R2_001.fastq  \u001b[0m\u001b[01;34m8_S356_fastqc\u001b[0m/  jupiter.png\r\n"
     ]
    }
   ],
   "source": [
    "ls"
   ]
  },
  {
   "cell_type": "code",
   "execution_count": 7,
   "metadata": {},
   "outputs": [
    {
     "name": "stdout",
     "output_type": "stream",
     "text": [
      "Started analysis of 8_S356_L001_R1_001.fastq\n",
      "Approx 15% complete for 8_S356_L001_R1_001.fastq\n",
      "Approx 30% complete for 8_S356_L001_R1_001.fastq\n",
      "Approx 45% complete for 8_S356_L001_R1_001.fastq\n",
      "Approx 60% complete for 8_S356_L001_R1_001.fastq\n",
      "Approx 75% complete for 8_S356_L001_R1_001.fastq\n",
      "Approx 90% complete for 8_S356_L001_R1_001.fastq\n",
      "Analysis complete for 8_S356_L001_R1_001.fastq\n"
     ]
    }
   ],
   "source": [
    "!fastqc 8_S356_L001_R1_001.fastq "
   ]
  },
  {
   "cell_type": "code",
   "execution_count": 8,
   "metadata": {},
   "outputs": [
    {
     "name": "stdout",
     "output_type": "stream",
     "text": [
      "8_S356_L001_R1_001.fastq        8_S356_L001_R1_001_fastqc.zip  \u001b[0m\u001b[01;34m8_S356_fastqc\u001b[0m/\r\n",
      "8_S356_L001_R1_001_fastqc.html  8_S356_L001_R2_001.fastq       jupiter.png\r\n"
     ]
    }
   ],
   "source": [
    "ls "
   ]
  },
  {
   "cell_type": "code",
   "execution_count": 9,
   "metadata": {
    "scrolled": true
   },
   "outputs": [
    {
     "name": "stdout",
     "output_type": "stream",
     "text": [
      "Started analysis of 8_S356_L001_R2_001.fastq\n",
      "Approx 15% complete for 8_S356_L001_R2_001.fastq\n",
      "Approx 30% complete for 8_S356_L001_R2_001.fastq\n",
      "Approx 45% complete for 8_S356_L001_R2_001.fastq\n",
      "Approx 60% complete for 8_S356_L001_R2_001.fastq\n",
      "Approx 75% complete for 8_S356_L001_R2_001.fastq\n",
      "Approx 90% complete for 8_S356_L001_R2_001.fastq\n",
      "Analysis complete for 8_S356_L001_R2_001.fastq\n"
     ]
    }
   ],
   "source": [
    "!fastqc 8_S356_L001_R2_001.fastq "
   ]
  },
  {
   "cell_type": "markdown",
   "metadata": {},
   "source": [
    "### Revise los archivos \n",
    "**`8_S356_L001_R1_001_fastqc.html`**\n",
    "\n",
    "**`8_S356_L001_R2_001_fastqc.html`**\n",
    "\n",
    "abriendolos en la pestaña del manejador de archivos del Jupyter"
   ]
  },
  {
   "cell_type": "code",
   "execution_count": null,
   "metadata": {},
   "outputs": [],
   "source": []
  },
  {
   "cell_type": "markdown",
   "metadata": {},
   "source": [
    "### Que archivo tiene mejor calidad?"
   ]
  },
  {
   "cell_type": "code",
   "execution_count": null,
   "metadata": {},
   "outputs": [],
   "source": []
  },
  {
   "cell_type": "code",
   "execution_count": null,
   "metadata": {},
   "outputs": [],
   "source": []
  },
  {
   "cell_type": "markdown",
   "metadata": {},
   "source": [
    "### Si desea descomprimir los archivos para visualizarlos, puede utilizar los siguientes comandos para guardar los archivos en el subdirectorio\n",
    "`8_S356_fastqc/`"
   ]
  },
  {
   "cell_type": "code",
   "execution_count": null,
   "metadata": {},
   "outputs": [],
   "source": [
    "cd ~/Desktop/data/ejercicio_fastqc/"
   ]
  },
  {
   "cell_type": "code",
   "execution_count": null,
   "metadata": {},
   "outputs": [],
   "source": [
    "if os.path.exists(\"./8_S356_fastqc\"):\n",
    "    print (\"existe el directorio, se continua\")\n",
    "else:\n",
    "    print (\"no existe, se crea el directorio\")\n",
    "    !mkdir 8_S356_fastqc\n",
    "\n",
    "zip_ref = zipfile.ZipFile(\"8_S356_L001_R1_001_fastqc.zip\", 'r')\n",
    "zip_ref.extractall(\"8_S356_fastqc/\")\n",
    "zip_ref.close()"
   ]
  },
  {
   "cell_type": "code",
   "execution_count": null,
   "metadata": {},
   "outputs": [],
   "source": [
    "ls 8_S356_fastqc/8_S356_L001_R1_001_fastqc/"
   ]
  },
  {
   "cell_type": "code",
   "execution_count": null,
   "metadata": {},
   "outputs": [],
   "source": [
    "zip_ref = zipfile.ZipFile(\"8_S356_L001_R2_001_fastqc.zip\", 'r')\n",
    "zip_ref.extractall(\"8_S356_fastqc/\")\n",
    "zip_ref.close()"
   ]
  },
  {
   "cell_type": "code",
   "execution_count": null,
   "metadata": {},
   "outputs": [],
   "source": [
    "ls 8_S356_fastqc/8_S356_L001_R2_001_fastqc/"
   ]
  },
  {
   "cell_type": "code",
   "execution_count": null,
   "metadata": {
    "scrolled": false
   },
   "outputs": [],
   "source": [
    "names = !ls 8_S356_fastqc/8_S356_L001_R1_001_fastqc/Images/*.png\n",
    "\n",
    "for name in names:\n",
    "    display(Image(name, width=800))"
   ]
  },
  {
   "cell_type": "code",
   "execution_count": null,
   "metadata": {
    "scrolled": false
   },
   "outputs": [],
   "source": [
    "names = !ls 8_S356_fastqc/8_S356_L001_R2_001_fastqc/Images/*.png\n",
    "for name in names:\n",
    "    display(Image(name, width=800))"
   ]
  },
  {
   "cell_type": "code",
   "execution_count": null,
   "metadata": {},
   "outputs": [],
   "source": [
    "print(display(Image('8_S356_fastqc/8_S356_L001_R1_001_fastqc/Images/per_base_quality.png', width=400)),\n",
    "      display(Image('8_S356_fastqc/8_S356_L001_R2_001_fastqc/Images/per_base_quality.png', width=400)))"
   ]
  },
  {
   "cell_type": "code",
   "execution_count": null,
   "metadata": {},
   "outputs": [],
   "source": []
  },
  {
   "cell_type": "markdown",
   "metadata": {},
   "source": [
    "# Eliminación de adaptadores y zonas de baja calidad.\n",
    "## se crearán otros archivos `.fq`"
   ]
  },
  {
   "cell_type": "markdown",
   "metadata": {},
   "source": [
    "#### Ayuda del trim galore"
   ]
  },
  {
   "cell_type": "code",
   "execution_count": 20,
   "metadata": {
    "scrolled": true
   },
   "outputs": [
    {
     "name": "stdout",
     "output_type": "stream",
     "text": [
      "\r\n",
      " USAGE:\r\n",
      "\r\n",
      "trim_galore [options] <filename(s)>\r\n",
      "\r\n",
      "\r\n",
      "-h/--help               Print this help message and exits.\r\n",
      "\r\n",
      "-v/--version            Print the version information and exits.\r\n",
      "\r\n",
      "-q/--quality <INT>      Trim low-quality ends from reads in addition to adapter removal. For\r\n",
      "                        RRBS samples, quality trimming will be performed first, and adapter\r\n",
      "                        trimming is carried in a second round. Other files are quality and adapter\r\n",
      "                        trimmed in a single pass. The algorithm is the same as the one used by BWA\r\n",
      "                        (Subtract INT from all qualities; compute partial sums from all indices\r\n",
      "                        to the end of the sequence; cut sequence at the index at which the sum is\r\n",
      "                        minimal). Default Phred score: 20.\r\n",
      "\r\n",
      "--phred33               Instructs Cutadapt to use ASCII+33 quality scores as Phred scores\r\n",
      "                        (Sanger/Illumina 1.9+ encoding) for quality trimming. Default: ON.\r\n",
      "\r\n",
      "--phred64               Instructs Cutadapt to use ASCII+64 quality scores as Phred scores\r\n",
      "                        (Illumina 1.5 encoding) for quality trimming.\r\n",
      "\r\n",
      "--fastqc                Run FastQC in the default mode on the FastQ file once trimming is complete.\r\n",
      "\r\n",
      "--fastqc_args \"<ARGS>\"  Passes extra arguments to FastQC. If more than one argument is to be passed\r\n",
      "                        to FastQC they must be in the form \"arg1 arg2 etc.\". An example would be:\r\n",
      "                        --fastqc_args \"--nogroup --outdir /home/\". Passing extra arguments will\r\n",
      "                        automatically invoke FastQC, so --fastqc does not have to be specified\r\n",
      "                        separately.\r\n",
      "\r\n",
      "-a/--adapter <STRING>   Adapter sequence to be trimmed. If not specified explicitly, Trim Galore will\r\n",
      "                        try to auto-detect whether the Illumina universal, Nextera transposase or Illumina\r\n",
      "                        small RNA adapter sequence was used. Also see '--illumina', '--nextera' and\r\n",
      "                        '--small_rna'. If no adapter can be detected within the first 1 million sequences\r\n",
      "                        of the first file specified Trim Galore defaults to '--illumina'. A single base\r\n",
      "                        may also be given as e.g. -a A{10}, to be expanded to -a AAAAAAAAAA.\r\n",
      "\r\n",
      "-a2/--adapter2 <STRING> Optional adapter sequence to be trimmed off read 2 of paired-end files. This\r\n",
      "                        option requires '--paired' to be specified as well. If the libraries to be trimmed\r\n",
      "                        are smallRNA then a2 will be set to the Illumina small RNA 5' adapter automatically\r\n",
      "                        (GATCGTCGGACT). A single base may also be given as e.g. -a2 A{10}, to be expanded\r\n",
      "                        to -a2 AAAAAAAAAA.\r\n",
      "\r\n",
      "--illumina              Adapter sequence to be trimmed is the first 13bp of the Illumina universal adapter\r\n",
      "                        'AGATCGGAAGAGC' instead of the default auto-detection of adapter sequence.\r\n",
      "\r\n",
      "--nextera               Adapter sequence to be trimmed is the first 12bp of the Nextera adapter\r\n",
      "                        'CTGTCTCTTATA' instead of the default auto-detection of adapter sequence.\r\n",
      "\r\n",
      "--small_rna             Adapter sequence to be trimmed is the first 12bp of the Illumina Small RNA 3' Adapter\r\n",
      "                        'TGGAATTCTCGG' instead of the default auto-detection of adapter sequence. Selecting\r\n",
      "                        to trim smallRNA adapters will also lower the --length value to 18bp. If the smallRNA\r\n",
      "                        libraries are paired-end then a2 will be set to the Illumina small RNA 5' adapter\r\n",
      "                        automatically (GATCGTCGGACT) unless -a 2 had been defined explicitly.\r\n",
      "\r\n",
      "--max_length <INT>      Discard reads that are longer than <INT> bp after trimming. This is only advised for\r\n",
      "                        smallRNA sequencing to remove non-small RNA sequences.\r\n",
      "\r\n",
      "\r\n",
      "--stringency <INT>      Overlap with adapter sequence required to trim a sequence. Defaults to a\r\n",
      "                        very stringent setting of 1, i.e. even a single bp of overlapping sequence\r\n",
      "                        will be trimmed off from the 3' end of any read.\r\n",
      "\r\n",
      "-e <ERROR RATE>         Maximum allowed error rate (no. of errors divided by the length of the matching\r\n",
      "                        region) (default: 0.1)\r\n",
      "\r\n",
      "--gzip                  Compress the output file with GZIP. If the input files are GZIP-compressed\r\n",
      "                        the output files will automatically be GZIP compressed as well. As of v0.2.8 the\r\n",
      "                        compression will take place on the fly.\r\n",
      "\r\n",
      "--dont_gzip             Output files won't be compressed with GZIP. This option overrides --gzip.\r\n",
      "\r\n",
      "--length <INT>          Discard reads that became shorter than length INT because of either\r\n",
      "                        quality or adapter trimming. A value of '0' effectively disables\r\n",
      "                        this behaviour. Default: 20 bp.\r\n",
      "\r\n",
      "                        For paired-end files, both reads of a read-pair need to be longer than\r\n",
      "                        <INT> bp to be printed out to validated paired-end files (see option --paired).\r\n",
      "                        If only one read became too short there is the possibility of keeping such\r\n",
      "                        unpaired single-end reads (see --retain_unpaired). Default pair-cutoff: 20 bp.\r\n",
      "\r\n",
      "--max_n COUNT           The total number of Ns (as integer) a read may contain before it will be removed altogether.\r\n",
      "                        In a paired-end setting, either read exceeding this limit will result in the entire\r\n",
      "                        pair being removed from the trimmed output files.\r\n",
      "\r\n",
      "--trim-n                Removes Ns from either side of the read. This option does currently not work in RRBS mode.\r\n",
      "\r\n",
      "-o/--output_dir <DIR>   If specified all output will be written to this directory instead of the current\r\n",
      "                        directory.\r\n",
      "\r\n",
      "--no_report_file        If specified no report file will be generated.\r\n",
      "\r\n",
      "--suppress_warn         If specified any output to STDOUT or STDERR will be suppressed.\r\n",
      "\r\n",
      "--clip_R1 <int>         Instructs Trim Galore to remove <int> bp from the 5' end of read 1 (or single-end\r\n",
      "                        reads). This may be useful if the qualities were very poor, or if there is some\r\n",
      "                        sort of unwanted bias at the 5' end. Default: OFF.\r\n",
      "\r\n",
      "--clip_R2 <int>         Instructs Trim Galore to remove <int> bp from the 5' end of read 2 (paired-end reads\r\n",
      "                        only). This may be useful if the qualities were very poor, or if there is some sort\r\n",
      "                        of unwanted bias at the 5' end. For paired-end BS-Seq, it is recommended to remove\r\n",
      "                        the first few bp because the end-repair reaction may introduce a bias towards low\r\n",
      "                        methylation. Please refer to the M-bias plot section in the Bismark User Guide for\r\n",
      "                        some examples. Default: OFF.\r\n",
      "\r\n",
      "--three_prime_clip_R1 <int>     Instructs Trim Galore to remove <int> bp from the 3' end of read 1 (or single-end\r\n",
      "                        reads) AFTER adapter/quality trimming has been performed. This may remove some unwanted\r\n",
      "                        bias from the 3' end that is not directly related to adapter sequence or basecall quality.\r\n",
      "                        Default: OFF.\r\n",
      "\r\n",
      "--three_prime_clip_R2 <int>     Instructs Trim Galore to remove <int> bp from the 3' end of read 2 AFTER\r\n",
      "                        adapter/quality trimming has been performed. This may remove some unwanted bias from\r\n",
      "                        the 3' end that is not directly related to adapter sequence or basecall quality.\r\n",
      "                        Default: OFF.\r\n",
      "\r\n",
      "                     \r\n",
      "\r\n",
      "--path_to_cutadapt </path/to/cutadapt>     You may use this option to specify a path to the Cutadapt executable,\r\n",
      "                        e.g. /my/home/cutadapt-1.7.1/bin/cutadapt. Else it is assumed that Cutadapt is in\r\n",
      "                        the PATH.\r\n",
      "\r\n",
      "SPECIFIC TRIMMING - without adapter/quality trimming\r\n",
      "\r\n",
      "--hardtrim5 <int>       Instead of performing adapter-/quality trimming, this option will simply hard-trim sequences\r\n",
      "                        to <int> bp from the 5'-end. Once hard-trimming of files is complete, Trim Galore will exit.\r\n",
      "                        Hard-trimmed output files will end in .<int>.fq(.gz).\r\n",
      "  \r\n",
      "--clock                 In this mode, reads are trimmed in a specific way that is currently used for the Mouse\r\n",
      "                        Epigenetic Clock (see here: Multi-tissue DNA methylation age predictor in mouse, Stubbs et al.,\r\n",
      "                        Genome Biology, 2017 18:68 https://doi.org/10.1186/s13059-017-1203-5). Following this, Trim Galore\r\n",
      "                        will exit.\r\n",
      "\r\n",
      "                        In it's current implementation, the dual-UMI RRBS reads come in the following format:\r\n",
      "\r\n",
      "                        Read 1  5' UUUUUUUU CAGTA FFFFFFFFFFFFFFFFFFFFFFFFFFFFFFFFFFFF TACTG UUUUUUUU 3'\r\n",
      "\t\t\tRead 2  3' UUUUUUUU GTCAT FFFFFFFFFFFFFFFFFFFFFFFFFFFFFFFFFFFF ATGAC UUUUUUUU 5'\r\n",
      "\r\n",
      "                        Where UUUUUUUU is a random 8-mer unique molecular identifier (UMI), CAGTA is a constant region,\r\n",
      "                        and FFFFFFF... is the actual RRBS-Fragment to be sequenced. The UMIs for Read 1 (R1) and\r\n",
      "                        Read 2 (R2), as well as the fixed sequences (F1 or F2), are written into the read ID and \r\n",
      "                        removed from the actual sequence. Here is an example:\r\n",
      "                   \r\n",
      "                        R1: @HWI-D00436:407:CCAETANXX:1:1101:4105:1905 1:N:0: CGATGTTT\r\n",
      "                            ATCTAGTTCAGTACGGTGTTTTCGAATTAGAAAAATATGTATAGAGGAAATAGATATAAAGGCGTATTCGTTATTG\r\n",
      "                        R2: @HWI-D00436:407:CCAETANXX:1:1101:4105:1905 3:N:0: CGATGTTT\r\n",
      "                            CAATTTTGCAGTACAAAAATAATACCTCCTCTATTTATCCAAAATCACAAAAAACCACCCACTTAACTTTCCCTAA\r\n",
      "\r\n",
      "                        R1: @HWI-D00436:407:CCAETANXX:1:1101:4105:1905 1:N:0: CGATGTTT:R1:ATCTAGTT:R2:CAATTTTG:F1:CAGT:F2:CAGT\r\n",
      "                                         CGGTGTTTTCGAATTAGAAAAATATGTATAGAGGAAATAGATATAAAGGCGTATTCGTTATTG\r\n",
      "                        R2: @HWI-D00436:407:CCAETANXX:1:1101:4105:1905 3:N:0: CGATGTTT:R1:ATCTAGTT:R2:CAATTTTG:F1:CAGT:F2:CAGT\r\n",
      "                                         CAAAAATAATACCTCCTCTATTTATCCAAAATCACAAAAAACCACCCACTTAACTTTCCCTAA\r\n",
      "\r\n",
      "                        Following clock trimming, the resulting files (.clock_UMI.R1.fq(.gz) and .clock_UMI.R2.fq(.gz))\r\n",
      "                        should be adapter- and quality trimmed with Trim Galore as usual. In addition, reads need to be trimmed\r\n",
      "                        by 15bp from their 3' end to get rid of potential UMI and fixed sequences. The command is:\r\n",
      "\r\n",
      "                        trim_galore --paired --three_prime_clip_R1 15 --three_prime_clip_R2 15 *.clock_UMI.R1.fq.gz *.clock_UMI.R2.fq.gz\r\n",
      "\r\n",
      "                        Following this, reads should be aligned with Bismark and deduplicated with UmiBam \r\n",
      "                        in '--dual_index' mode (see here: https://github.com/FelixKrueger/Umi-Grinder). UmiBam recognises\r\n",
      "                        the UMIs within this pattern: R1:(ATCTAGTT):R2:(CAATTTTG): as (UMI R1) and (UMI R2).\r\n",
      "\r\n",
      "RRBS-specific options (MspI digested material):\r\n",
      "\r\n",
      "--rrbs                  Specifies that the input file was an MspI digested RRBS sample (recognition\r\n",
      "                        site: CCGG). Single-end or Read 1 sequences (paired-end) which were adapter-trimmed\r\n",
      "                        will have a further 2 bp removed from their 3' end. Sequences which were merely\r\n",
      "                        trimmed because of poor quality will not be shortened further. Read 2 of paired-end\r\n",
      "                        libraries will in addition have the first 2 bp removed from the 5' end (by setting \r\n",
      "                        '--clip_r2 2'). This is to avoid using artificial methylation calls from the filled-in\r\n",
      "                        cytosine positions close to the 3' MspI site in sequenced fragments. \r\n",
      "                        This option is not recommended for users of the NuGEN ovation RRBS System 1-16\r\n",
      "                        kit (see below).\r\n",
      "\r\n",
      "--non_directional       Selecting this option for non-directional RRBS libraries will screen\r\n",
      "                        quality-trimmed sequences for 'CAA' or 'CGA' at the start of the read\r\n",
      "                        and, if found, removes the first two basepairs. Like with the option\r\n",
      "                        '--rrbs' this avoids using cytosine positions that were filled-in\r\n",
      "                        during the end-repair step. '--non_directional' requires '--rrbs' to\r\n",
      "                        be specified as well. Note that this option does not set '--clip_r2 2' in\r\n",
      "                        paired-end mode.\r\n",
      "\r\n",
      "--keep                  Keep the quality trimmed intermediate file. Default: off, which means\r\n",
      "                        the temporary file is being deleted after adapter trimming. Only has\r\n",
      "                        an effect for RRBS samples since other FastQ files are not trimmed\r\n",
      "                        for poor qualities separately.\r\n",
      "\r\n",
      "\r\n",
      "Note for RRBS using the NuGEN Ovation RRBS System 1-16 kit:\r\n",
      "\r\n",
      "Owing to the fact that the NuGEN Ovation kit attaches a varying number of nucleotides (0-3) after each MspI\r\n",
      "site Trim Galore should be run WITHOUT the option --rrbs. This trimming is accomplished in a subsequent \r\n",
      "diversity trimming step afterwards (see their manual).\r\n",
      "\r\n",
      "\r\n",
      "\r\n",
      "Note for RRBS using MseI:\r\n",
      "\r\n",
      "If your DNA material was digested with MseI (recognition motif: TTAA) instead of MspI it is NOT necessary\r\n",
      "to specify --rrbs or --non_directional since virtually all reads should start with the sequence\r\n",
      "'TAA', and this holds true for both directional and non-directional libraries. As the end-repair of 'TAA'\r\n",
      "restricted sites does not involve any cytosines it does not need to be treated especially. Instead, simply\r\n",
      "run Trim Galore! in the standard (i.e. non-RRBS) mode.\r\n",
      "\r\n",
      "\r\n",
      "\r\n",
      "\r\n",
      "Paired-end specific options:\r\n",
      "\r\n",
      "--paired                This option performs length trimming of quality/adapter/RRBS trimmed reads for\r\n",
      "                        paired-end files. To pass the validation test, both sequences of a sequence pair\r\n",
      "                        are required to have a certain minimum length which is governed by the option\r\n",
      "                        --length (see above). If only one read passes this length threshold the\r\n",
      "                        other read can be rescued (see option --retain_unpaired). Using this option lets\r\n",
      "                        you discard too short read pairs without disturbing the sequence-by-sequence order\r\n",
      "                        of FastQ files which is required by many aligners.\r\n",
      "\r\n",
      "                        Trim Galore! expects paired-end files to be supplied in a pairwise fashion, e.g.\r\n",
      "                        file1_1.fq file1_2.fq SRR2_1.fq.gz SRR2_2.fq.gz ... .\r\n",
      "\r\n",
      "-t/--trim1              Trims 1 bp off every read from its 3' end. This may be needed for FastQ files that\r\n",
      "                        are to be aligned as paired-end data with Bowtie. This is because Bowtie (1) regards\r\n",
      "                        alignments like this:\r\n",
      "\r\n",
      "                          R1 --------------------------->     or this:    ----------------------->  R1\r\n",
      "                          R2 <---------------------------                       <-----------------  R2\r\n",
      "\r\n",
      "                        as invalid (whenever a start/end coordinate is contained within the other read).\r\n",
      "                        NOTE: If you are planning to use Bowtie2, BWA etc. you don't need to specify this option.\r\n",
      "\r\n",
      "--retain_unpaired       If only one of the two paired-end reads became too short, the longer\r\n",
      "                        read will be written to either '.unpaired_1.fq' or '.unpaired_2.fq'\r\n",
      "                        output files. The length cutoff for unpaired single-end reads is\r\n",
      "                        governed by the parameters -r1/--length_1 and -r2/--length_2. Default: OFF.\r\n",
      "\r\n",
      "-r1/--length_1 <INT>    Unpaired single-end read length cutoff needed for read 1 to be written to\r\n",
      "                        '.unpaired_1.fq' output file. These reads may be mapped in single-end mode.\r\n",
      "                        Default: 35 bp.\r\n",
      "\r\n",
      "-r2/--length_2 <INT>    Unpaired single-end read length cutoff needed for read 2 to be written to\r\n",
      "                        '.unpaired_2.fq' output file. These reads may be mapped in single-end mode.\r\n",
      "                        Default: 35 bp.\r\n",
      "\r\n",
      "\r\n",
      "Last modified on 28 June 2018.\r\n",
      "\r\n"
     ]
    }
   ],
   "source": [
    "!trim_galore -help"
   ]
  },
  {
   "cell_type": "code",
   "execution_count": 19,
   "metadata": {},
   "outputs": [
    {
     "name": "stdout",
     "output_type": "stream",
     "text": [
      "8_S356_L001_R1_001.fastq        8_S356_L001_R2_001.fastq        \u001b[0m\u001b[01;34m8_S356_fastqc\u001b[0m/\r\n",
      "8_S356_L001_R1_001_fastqc.html  8_S356_L001_R2_001_fastqc.html  jupiter.png\r\n",
      "8_S356_L001_R1_001_fastqc.zip   8_S356_L001_R2_001_fastqc.zip\r\n"
     ]
    }
   ],
   "source": [
    "ls"
   ]
  },
  {
   "cell_type": "code",
   "execution_count": 31,
   "metadata": {
    "scrolled": true
   },
   "outputs": [
    {
     "name": "stdout",
     "output_type": "stream",
     "text": [
      "No quality encoding type selected. Assuming that the data provided uses Sanger encoded Phred scores (default)\n",
      "\n",
      "Path to Cutadapt set as: 'cutadapt' (default)\n",
      "1.16\n",
      "Cutadapt seems to be working fine (tested command 'cutadapt --version')\n",
      "\n",
      "\n",
      "AUTO-DETECTING ADAPTER TYPE\n",
      "===========================\n",
      "Attempting to auto-detect adapter type from the first 1 million sequences of the first file (>> 8_S356_L001_R1_001.fastq <<)\n",
      "\n",
      "Found perfect matches for the following adapter sequences:\n",
      "Adapter type\tCount\tSequence\tSequences analysed\tPercentage\n",
      "Nextera\t2\tCTGTCTCTTATA\t6652\t0.03\n",
      "Illumina\t0\tAGATCGGAAGAGC\t6652\t0.00\n",
      "smallRNA\t0\tTGGAATTCTCGG\t6652\t0.00\n",
      "Using Nextera adapter for trimming (count: 2). Second best hit was Illumina (count: 0)\n",
      "\n",
      "Writing report to '8_S356_L001_R1_001.fastq_trimming_report.txt'\n",
      "\n",
      "SUMMARISING RUN PARAMETERS\n",
      "==========================\n",
      "Input filename: 8_S356_L001_R1_001.fastq\n",
      "Trimming mode: paired-end\n",
      "Trim Galore version: 0.5.0\n",
      "Cutadapt version: 1.16\n",
      "Quality Phred score cutoff: 20\n",
      "Quality encoding type selected: ASCII+33\n",
      "Adapter sequence: 'CTGTCTCTTATA' (Nextera Transposase sequence; auto-detected)\n",
      "Maximum trimming error rate: 0.1 (default)\n",
      "Minimum required adapter overlap (stringency): 1 bp\n",
      "Minimum required sequence length for both reads before a sequence pair gets removed: 20 bp\n",
      "\n",
      "Writing final adapter and quality trimmed output to 8_S356_L001_R1_001_trimmed.fq\n",
      "\n",
      "\n",
      "  >>> Now performing quality (cutoff 20) and adapter trimming in a single pass for the adapter sequence: 'CTGTCTCTTATA' from file 8_S356_L001_R1_001.fastq <<< \n",
      "This is cutadapt 1.16 with Python 3.6.4\n",
      "Command line parameters: -f fastq -e 0.1 -q 20 -O 1 -a CTGTCTCTTATA 8_S356_L001_R1_001.fastq\n",
      "Running on 1 core\n",
      "Trimming 1 adapter with at most 10.0% errors in single-end mode ...\n",
      "Finished in 0.20 s (30 us/read; 2.03 M reads/minute).\n",
      "\n",
      "=== Summary ===\n",
      "\n",
      "Total reads processed:                   6,652\n",
      "Reads with adapters:                     1,627 (24.5%)\n",
      "Reads written (passing filters):         6,652 (100.0%)\n",
      "\n",
      "Total basepairs processed:     1,477,486 bp\n",
      "Quality-trimmed:                   8,177 bp (0.6%)\n",
      "Total written (filtered):      1,464,871 bp (99.1%)\n",
      "\n",
      "=== Adapter 1 ===\n",
      "\n",
      "Sequence: CTGTCTCTTATA; Type: regular 3'; Length: 12; Trimmed: 1627 times.\n",
      "\n",
      "No. of allowed errors:\n",
      "0-9 bp: 0; 10-12 bp: 1\n",
      "\n",
      "Bases preceding removed adapters:\n",
      "  A: 37.4%\n",
      "  C: 20.4%\n",
      "  G: 18.8%\n",
      "  T: 23.3%\n",
      "  none/other: 0.1%\n",
      "\n",
      "Overview of removed sequences\n",
      "length\tcount\texpect\tmax.err\terror counts\n",
      "1\t1315\t1663.0\t0\t1315\n",
      "2\t193\t415.8\t0\t193\n",
      "3\t76\t103.9\t0\t76\n",
      "4\t14\t26.0\t0\t14\n",
      "5\t6\t6.5\t0\t6\n",
      "6\t1\t1.6\t0\t1\n",
      "8\t1\t0.1\t0\t1\n",
      "14\t1\t0.0\t1\t0 1\n",
      "16\t1\t0.0\t1\t0 1\n",
      "29\t1\t0.0\t1\t0 1\n",
      "56\t1\t0.0\t1\t0 1\n",
      "59\t1\t0.0\t1\t0 1\n",
      "61\t1\t0.0\t1\t0 1\n",
      "65\t1\t0.0\t1\t1\n",
      "66\t1\t0.0\t1\t0 1\n",
      "71\t1\t0.0\t1\t0 1\n",
      "73\t1\t0.0\t1\t0 1\n",
      "111\t1\t0.0\t1\t0 1\n",
      "129\t1\t0.0\t1\t0 1\n",
      "144\t1\t0.0\t1\t0 1\n",
      "157\t1\t0.0\t1\t0 1\n",
      "167\t1\t0.0\t1\t0 1\n",
      "171\t1\t0.0\t1\t0 1\n",
      "177\t1\t0.0\t1\t0 1\n",
      "182\t1\t0.0\t1\t0 1\n",
      "211\t2\t0.0\t1\t0 2\n",
      "239\t1\t0.0\t1\t0 1\n",
      "\n",
      "\n",
      "RUN STATISTICS FOR INPUT FILE: 8_S356_L001_R1_001.fastq\n",
      "=============================================\n",
      "6652 sequences processed in total\n",
      "The length threshold of paired-end sequences gets evaluated later on (in the validation step)\n",
      "\n",
      "Writing report to '8_S356_L001_R2_001.fastq_trimming_report.txt'\n",
      "\n",
      "SUMMARISING RUN PARAMETERS\n",
      "==========================\n",
      "Input filename: 8_S356_L001_R2_001.fastq\n",
      "Trimming mode: paired-end\n",
      "Trim Galore version: 0.5.0\n",
      "Cutadapt version: 1.16\n",
      "Quality Phred score cutoff: 20\n",
      "Quality encoding type selected: ASCII+33\n",
      "Adapter sequence: 'CTGTCTCTTATA' (Nextera Transposase sequence; auto-detected)\n",
      "Maximum trimming error rate: 0.1 (default)\n",
      "Minimum required adapter overlap (stringency): 1 bp\n",
      "Minimum required sequence length for both reads before a sequence pair gets removed: 20 bp\n",
      "\n",
      "Writing final adapter and quality trimmed output to 8_S356_L001_R2_001_trimmed.fq\n",
      "\n",
      "\n",
      "  >>> Now performing quality (cutoff 20) and adapter trimming in a single pass for the adapter sequence: 'CTGTCTCTTATA' from file 8_S356_L001_R2_001.fastq <<< \n",
      "This is cutadapt 1.16 with Python 3.6.4\n",
      "Command line parameters: -f fastq -e 0.1 -q 20 -O 1 -a CTGTCTCTTATA 8_S356_L001_R2_001.fastq\n",
      "Running on 1 core\n",
      "Trimming 1 adapter with at most 10.0% errors in single-end mode ...\n",
      "Finished in 0.20 s (30 us/read; 2.01 M reads/minute).\n",
      "\n",
      "=== Summary ===\n",
      "\n",
      "Total reads processed:                   6,652\n",
      "Reads with adapters:                     1,909 (28.7%)\n",
      "Reads written (passing filters):         6,652 (100.0%)\n",
      "\n",
      "Total basepairs processed:     1,484,091 bp\n",
      "Quality-trimmed:                  51,380 bp (3.5%)\n",
      "Total written (filtered):      1,426,863 bp (96.1%)\n",
      "\n",
      "=== Adapter 1 ===\n",
      "\n",
      "Sequence: CTGTCTCTTATA; Type: regular 3'; Length: 12; Trimmed: 1909 times.\n",
      "\n",
      "No. of allowed errors:\n",
      "0-9 bp: 0; 10-12 bp: 1\n",
      "\n",
      "Bases preceding removed adapters:\n",
      "  A: 35.7%\n",
      "  C: 20.5%\n",
      "  G: 19.0%\n",
      "  T: 24.8%\n",
      "  none/other: 0.0%\n",
      "\n",
      "Overview of removed sequences\n",
      "length\tcount\texpect\tmax.err\terror counts\n",
      "1\t1474\t1663.0\t0\t1474\n",
      "2\t233\t415.8\t0\t233\n",
      "3\t102\t103.9\t0\t102\n",
      "4\t34\t26.0\t0\t34\n",
      "5\t7\t6.5\t0\t7\n",
      "6\t2\t1.6\t0\t2\n",
      "7\t5\t0.4\t0\t5\n",
      "9\t3\t0.0\t0\t2 1\n",
      "12\t2\t0.0\t1\t0 2\n",
      "14\t2\t0.0\t1\t0 2\n",
      "15\t5\t0.0\t1\t1 4\n",
      "16\t2\t0.0\t1\t0 2\n",
      "17\t2\t0.0\t1\t0 2\n",
      "18\t1\t0.0\t1\t0 1\n",
      "20\t1\t0.0\t1\t0 1\n",
      "22\t1\t0.0\t1\t0 1\n",
      "23\t1\t0.0\t1\t1\n",
      "25\t1\t0.0\t1\t0 1\n",
      "29\t1\t0.0\t1\t1\n",
      "35\t1\t0.0\t1\t0 1\n",
      "36\t1\t0.0\t1\t1\n",
      "37\t1\t0.0\t1\t0 1\n",
      "38\t1\t0.0\t1\t1\n",
      "39\t1\t0.0\t1\t0 1\n",
      "42\t2\t0.0\t1\t1 1\n",
      "44\t1\t0.0\t1\t1\n",
      "48\t1\t0.0\t1\t0 1\n",
      "50\t1\t0.0\t1\t1\n",
      "60\t1\t0.0\t1\t1\n",
      "62\t1\t0.0\t1\t0 1\n",
      "63\t1\t0.0\t1\t0 1\n",
      "71\t1\t0.0\t1\t0 1\n",
      "75\t1\t0.0\t1\t0 1\n",
      "83\t1\t0.0\t1\t0 1\n",
      "95\t1\t0.0\t1\t0 1\n",
      "113\t1\t0.0\t1\t0 1\n",
      "122\t1\t0.0\t1\t0 1\n",
      "125\t1\t0.0\t1\t1\n",
      "136\t2\t0.0\t1\t1 1\n",
      "140\t1\t0.0\t1\t0 1\n",
      "162\t1\t0.0\t1\t0 1\n",
      "169\t1\t0.0\t1\t0 1\n",
      "175\t1\t0.0\t1\t0 1\n",
      "195\t1\t0.0\t1\t0 1\n",
      "204\t1\t0.0\t1\t0 1\n",
      "212\t1\t0.0\t1\t0 1\n",
      "218\t1\t0.0\t1\t0 1\n",
      "\n",
      "\n",
      "RUN STATISTICS FOR INPUT FILE: 8_S356_L001_R2_001.fastq\n",
      "=============================================\n",
      "6652 sequences processed in total\n",
      "The length threshold of paired-end sequences gets evaluated later on (in the validation step)\n",
      "\n",
      "Validate paired-end files 8_S356_L001_R1_001_trimmed.fq and 8_S356_L001_R2_001_trimmed.fq\n",
      "file_1: 8_S356_L001_R1_001_trimmed.fq, file_2: 8_S356_L001_R2_001_trimmed.fq\n",
      "\n",
      "\n",
      ">>>>> Now validing the length of the 2 paired-end infiles: 8_S356_L001_R1_001_trimmed.fq and 8_S356_L001_R2_001_trimmed.fq <<<<<\n",
      "Writing validated paired-end read 1 reads to 8_S356_L001_R1_001_val_1.fq\n",
      "Writing validated paired-end read 2 reads to 8_S356_L001_R2_001_val_2.fq\n",
      "\n",
      "Total number of sequences analysed: 6652\n",
      "\n",
      "Number of sequence pairs removed because at least one read was shorter than the length cutoff (20 bp): 10 (0.15%)\n",
      "\n",
      "Deleting both intermediate output files 8_S356_L001_R1_001_trimmed.fq and 8_S356_L001_R2_001_trimmed.fq\n",
      "\n",
      "====================================================================================================\n",
      "\n"
     ]
    }
   ],
   "source": [
    "!trim_galore \\\n",
    "--paired \\\n",
    "8_S356_L001_R1_001.fastq \\\n",
    "8_S356_L001_R2_001.fastq"
   ]
  },
  {
   "cell_type": "markdown",
   "metadata": {},
   "source": [
    "## Se ejecuta nuevamente fastqc para revisar la calidad de las lecturas."
   ]
  },
  {
   "cell_type": "code",
   "execution_count": 33,
   "metadata": {},
   "outputs": [
    {
     "name": "stdout",
     "output_type": "stream",
     "text": [
      "Started analysis of 8_S356_L001_R1_001_val_1.fq\n",
      "Approx 15% complete for 8_S356_L001_R1_001_val_1.fq\n",
      "Approx 30% complete for 8_S356_L001_R1_001_val_1.fq\n",
      "Approx 45% complete for 8_S356_L001_R1_001_val_1.fq\n",
      "Approx 60% complete for 8_S356_L001_R1_001_val_1.fq\n",
      "Approx 75% complete for 8_S356_L001_R1_001_val_1.fq\n",
      "Approx 90% complete for 8_S356_L001_R1_001_val_1.fq\n",
      "Analysis complete for 8_S356_L001_R1_001_val_1.fq\n"
     ]
    }
   ],
   "source": [
    "!fastqc 8_S356_L001_R1_001_val_1.fq"
   ]
  },
  {
   "cell_type": "code",
   "execution_count": 35,
   "metadata": {},
   "outputs": [
    {
     "name": "stdout",
     "output_type": "stream",
     "text": [
      "Started analysis of 8_S356_L001_R2_001_val_2.fq\n",
      "Approx 15% complete for 8_S356_L001_R2_001_val_2.fq\n",
      "Approx 30% complete for 8_S356_L001_R2_001_val_2.fq\n",
      "Approx 45% complete for 8_S356_L001_R2_001_val_2.fq\n",
      "Approx 60% complete for 8_S356_L001_R2_001_val_2.fq\n",
      "Approx 75% complete for 8_S356_L001_R2_001_val_2.fq\n",
      "Approx 90% complete for 8_S356_L001_R2_001_val_2.fq\n",
      "Analysis complete for 8_S356_L001_R2_001_val_2.fq\n"
     ]
    }
   ],
   "source": [
    "!fastqc 8_S356_L001_R2_001_val_2.fq"
   ]
  },
  {
   "cell_type": "code",
   "execution_count": null,
   "metadata": {},
   "outputs": [],
   "source": [
    "8_S356_L001_R1_001_val_1_fastqc.html"
   ]
  },
  {
   "cell_type": "markdown",
   "metadata": {},
   "source": [
    "### Revise los archivos \n",
    "**`8_S356_L001_R1_001_val_1_fastqc.html`**\n",
    "\n",
    "**`8_S356_L001_R2_001_val_2_fastqc.html`**\n",
    "\n",
    "abriendolos en la pestaña del manejador de archivos del Jupyter"
   ]
  },
  {
   "cell_type": "markdown",
   "metadata": {},
   "source": [
    "## Mejoró la calidad de las lecturas?\n",
    "## Hubo cambios radicales?\n",
    "## Explique"
   ]
  },
  {
   "cell_type": "code",
   "execution_count": null,
   "metadata": {},
   "outputs": [],
   "source": []
  },
  {
   "cell_type": "code",
   "execution_count": null,
   "metadata": {},
   "outputs": [],
   "source": []
  },
  {
   "cell_type": "code",
   "execution_count": null,
   "metadata": {},
   "outputs": [],
   "source": []
  },
  {
   "cell_type": "code",
   "execution_count": null,
   "metadata": {},
   "outputs": [],
   "source": []
  }
 ],
 "metadata": {
  "kernelspec": {
   "display_name": "Python 3",
   "language": "python",
   "name": "python3"
  },
  "language_info": {
   "codemirror_mode": {
    "name": "ipython",
    "version": 3
   },
   "file_extension": ".py",
   "mimetype": "text/x-python",
   "name": "python",
   "nbconvert_exporter": "python",
   "pygments_lexer": "ipython3",
   "version": "3.6.4"
  }
 },
 "nbformat": 4,
 "nbformat_minor": 2
}
