{
 "cells": [
  {
   "cell_type": "code",
   "execution_count": 1,
   "metadata": {},
   "outputs": [],
   "source": [
    "from Bio import SeqIO, Entrez\n",
    "from pandas import Series, DataFrame\n",
    "import pandas as pd\n",
    "import pylab\n",
    "import matplotlib.pyplot as plt\n",
    "from Bio.SeqUtils import GC\n",
    "import numpy as np\n",
    "import pylab as pl\n",
    "from pylab import *\n",
    "import numpy as np"
   ]
  },
  {
   "cell_type": "code",
   "execution_count": 2,
   "metadata": {},
   "outputs": [
    {
     "data": {
      "text/plain": [
       "'/home/user1'"
      ]
     },
     "execution_count": 2,
     "metadata": {},
     "output_type": "execute_result"
    }
   ],
   "source": [
    "pwd"
   ]
  },
  {
   "cell_type": "code",
   "execution_count": 3,
   "metadata": {},
   "outputs": [
    {
     "name": "stdout",
     "output_type": "stream",
     "text": [
      "CpG.ipynb  \u001b[0m\u001b[01;34mDesktop\u001b[0m/  Genbank.ipynb  \u001b[01;34mabulon\u001b[0m/  \u001b[01;34mcursoSecuenciacion_masiva_mtdna\u001b[0m/\r\n"
     ]
    }
   ],
   "source": [
    "ls"
   ]
  },
  {
   "cell_type": "code",
   "execution_count": 4,
   "metadata": {},
   "outputs": [
    {
     "name": "stdout",
     "output_type": "stream",
     "text": [
      "8_S356_L001_R1_001.fastq  8_S356_L001_R2_001.fastq\r\n"
     ]
    }
   ],
   "source": [
    "ls cursoSecuenciacion_masiva_mtdna/data/"
   ]
  },
  {
   "cell_type": "code",
   "execution_count": 6,
   "metadata": {},
   "outputs": [
    {
     "name": "stdout",
     "output_type": "stream",
     "text": [
      "Abalone_vasa_HZ391319.fa              argonautas.gb\r\n",
      "Abalone_vasa_HZ391319.gb              argos.fas\r\n",
      "Hrufescens_mtDNASequence.csv          argos.gb\r\n",
      "Hrufescens_mtDNASequences_NCBI.fasta  idt014contig20.fasta\r\n",
      "argonautas.fasta\r\n"
     ]
    }
   ],
   "source": [
    "ls Desktop/data/"
   ]
  },
  {
   "cell_type": "code",
   "execution_count": 7,
   "metadata": {},
   "outputs": [],
   "source": [
    "# fasta file to calculate the CpG content per contig\n",
    "f = \"./Desktop/data/Hrufescens_mtDNASequences_NCBI.fasta\""
   ]
  },
  {
   "cell_type": "code",
   "execution_count": 8,
   "metadata": {},
   "outputs": [],
   "source": [
    "def cpg(secuencia):\n",
    "    g= secuencia.count(\"G\")\n",
    "    c= secuencia.count(\"C\")\n",
    "    cg= secuencia.count(\"CG\")\n",
    "    lar= len(secuencia)\n",
    "    cpG=0\n",
    "    try:\n",
    "        g*c==0\n",
    "    except:\n",
    "        cpG=0\n",
    "    else:\n",
    "        if g == 0 or c== 0:\n",
    "            cpG =0\n",
    "        else:\n",
    "            cpG=(round(cg/(g*c)*(lar**2/(lar-1)) ,8))\n",
    "    return (cpG)"
   ]
  },
  {
   "cell_type": "code",
   "execution_count": 10,
   "metadata": {},
   "outputs": [
    {
     "data": {
      "text/html": [
       "<div>\n",
       "<style scoped>\n",
       "    .dataframe tbody tr th:only-of-type {\n",
       "        vertical-align: middle;\n",
       "    }\n",
       "\n",
       "    .dataframe tbody tr th {\n",
       "        vertical-align: top;\n",
       "    }\n",
       "\n",
       "    .dataframe thead th {\n",
       "        text-align: right;\n",
       "    }\n",
       "</style>\n",
       "<table border=\"1\" class=\"dataframe\">\n",
       "  <thead>\n",
       "    <tr style=\"text-align: right;\">\n",
       "      <th></th>\n",
       "      <th>contigs</th>\n",
       "      <th>length</th>\n",
       "      <th>GC</th>\n",
       "      <th>CpG</th>\n",
       "    </tr>\n",
       "  </thead>\n",
       "  <tbody>\n",
       "    <tr>\n",
       "      <th>0</th>\n",
       "      <td>JF281275</td>\n",
       "      <td>470</td>\n",
       "      <td>43.4043</td>\n",
       "      <td>0.614577</td>\n",
       "    </tr>\n",
       "    <tr>\n",
       "      <th>1</th>\n",
       "      <td>JF281274</td>\n",
       "      <td>470</td>\n",
       "      <td>42.7660</td>\n",
       "      <td>0.638214</td>\n",
       "    </tr>\n",
       "    <tr>\n",
       "      <th>2</th>\n",
       "      <td>JF281273</td>\n",
       "      <td>470</td>\n",
       "      <td>42.7660</td>\n",
       "      <td>0.638214</td>\n",
       "    </tr>\n",
       "    <tr>\n",
       "      <th>3</th>\n",
       "      <td>JF281272</td>\n",
       "      <td>470</td>\n",
       "      <td>42.7660</td>\n",
       "      <td>0.638214</td>\n",
       "    </tr>\n",
       "    <tr>\n",
       "      <th>4</th>\n",
       "      <td>JF281271</td>\n",
       "      <td>470</td>\n",
       "      <td>42.7660</td>\n",
       "      <td>0.638214</td>\n",
       "    </tr>\n",
       "  </tbody>\n",
       "</table>\n",
       "</div>"
      ],
      "text/plain": [
       "    contigs  length       GC       CpG\n",
       "0  JF281275     470  43.4043  0.614577\n",
       "1  JF281274     470  42.7660  0.638214\n",
       "2  JF281273     470  42.7660  0.638214\n",
       "3  JF281272     470  42.7660  0.638214\n",
       "4  JF281271     470  42.7660  0.638214"
      ]
     },
     "execution_count": 10,
     "metadata": {},
     "output_type": "execute_result"
    }
   ],
   "source": [
    "sizes = [(rec.name, len(rec), round(GC(rec.seq),4), cpg(rec.seq)) for rec in SeqIO.parse(f, \"fasta\")]\n",
    "sizes = DataFrame(sizes,columns= [\"contigs\", \"length\", \"GC\", \"CpG\"])\n",
    "sizes.head()"
   ]
  },
  {
   "cell_type": "code",
   "execution_count": 11,
   "metadata": {},
   "outputs": [
    {
     "data": {
      "image/png": "[encoded data removed]",
      "text/plain": [
       "<matplotlib.figure.Figure at 0x7f37551a89e8>"
      ]
     },
     "metadata": {},
     "output_type": "display_data"
    }
   ],
   "source": [
    "pylab.hist(sizes['length'], bins=20)\n",
    "pylab.title(\"%i Hrufescens_mtDNASequences_NCBI.fasta\\nLengths %i to %i\" \\\n",
    "            % (len(sizes),min(sizes['length']),max(sizes['length'])))\n",
    "pylab.xlabel(\"Sequence length (bp)\")\n",
    "pylab.ylabel(\"Count\")\n",
    "#pylab.legend().set_visible(False)\n",
    "pylab.show()"
   ]
  },
  {
   "cell_type": "code",
   "execution_count": 12,
   "metadata": {},
   "outputs": [
    {
     "data": {
      "image/png": "[encoded data removed]",
      "text/plain": [
       "<matplotlib.figure.Figure at 0x7f37521411d0>"
      ]
     },
     "metadata": {},
     "output_type": "display_data"
    }
   ],
   "source": [
    "pylab.hist(sizes['GC'], bins=20)\n",
    "pylab.title(\"%i Hrufescens_mtDNASequences_NCBI.fasta\\nGC %i to %i\" \\\n",
    "            % (len(sizes),min(sizes['GC']),max(sizes['GC'])))\n",
    "pylab.xlabel(\"Sequence GC content\")\n",
    "pylab.ylabel(\"Count\")\n",
    "#pylab.legend().set_visible(False)\n",
    "pylab.show()"
   ]
  },
  {
   "cell_type": "code",
   "execution_count": 13,
   "metadata": {},
   "outputs": [
    {
     "data": {
      "image/png": "[encoded data removed]",
      "text/plain": [
       "<matplotlib.figure.Figure at 0x7f3751fea668>"
      ]
     },
     "metadata": {},
     "output_type": "display_data"
    }
   ],
   "source": [
    "pylab.hist(sizes['CpG'], bins=20)\n",
    "pylab.title(\"%i Hrufescens_mtDNASequences_NCBI.fasta\\nCpG %1.3f to %1.3f\" \\\n",
    "            % (len(sizes),min(sizes['CpG']),max(sizes['CpG'])))\n",
    "pylab.xlabel(\"Sequence CpG content\")\n",
    "pylab.ylabel(\"Count\")\n",
    "#pylab.legend().set_visible(False)\n",
    "pylab.show()"
   ]
  },
  {
   "cell_type": "code",
   "execution_count": 14,
   "metadata": {},
   "outputs": [],
   "source": [
    "# fasta file to calculate the CpG content per contig\n",
    "f = \"./Desktop/data/idt014contig20.fasta\""
   ]
  },
  {
   "cell_type": "code",
   "execution_count": 15,
   "metadata": {},
   "outputs": [
    {
     "data": {
      "text/html": [
       "<div>\n",
       "<style scoped>\n",
       "    .dataframe tbody tr th:only-of-type {\n",
       "        vertical-align: middle;\n",
       "    }\n",
       "\n",
       "    .dataframe tbody tr th {\n",
       "        vertical-align: top;\n",
       "    }\n",
       "\n",
       "    .dataframe thead th {\n",
       "        text-align: right;\n",
       "    }\n",
       "</style>\n",
       "<table border=\"1\" class=\"dataframe\">\n",
       "  <thead>\n",
       "    <tr style=\"text-align: right;\">\n",
       "      <th></th>\n",
       "      <th>contigs</th>\n",
       "      <th>length</th>\n",
       "      <th>GC</th>\n",
       "      <th>CpG</th>\n",
       "    </tr>\n",
       "  </thead>\n",
       "  <tbody>\n",
       "    <tr>\n",
       "      <th>0</th>\n",
       "      <td>idt014_contig_1</td>\n",
       "      <td>352</td>\n",
       "      <td>41.4773</td>\n",
       "      <td>1.987629</td>\n",
       "    </tr>\n",
       "    <tr>\n",
       "      <th>1</th>\n",
       "      <td>idt014_contig_2</td>\n",
       "      <td>248</td>\n",
       "      <td>36.6935</td>\n",
       "      <td>1.016343</td>\n",
       "    </tr>\n",
       "  </tbody>\n",
       "</table>\n",
       "</div>"
      ],
      "text/plain": [
       "           contigs  length       GC       CpG\n",
       "0  idt014_contig_1     352  41.4773  1.987629\n",
       "1  idt014_contig_2     248  36.6935  1.016343"
      ]
     },
     "execution_count": 15,
     "metadata": {},
     "output_type": "execute_result"
    }
   ],
   "source": [
    "sizes = [(rec.name, len(rec), round(GC(rec.seq),4), cpg(rec.seq)) for rec in SeqIO.parse(f, \"fasta\")]\n",
    "sizes = DataFrame(sizes,columns= [\"contigs\", \"length\", \"GC\", \"CpG\"])\n",
    "sizes.head(2)"
   ]
  },
  {
   "cell_type": "code",
   "execution_count": 16,
   "metadata": {},
   "outputs": [
    {
     "data": {
      "text/html": [
       "<div>\n",
       "<style scoped>\n",
       "    .dataframe tbody tr th:only-of-type {\n",
       "        vertical-align: middle;\n",
       "    }\n",
       "\n",
       "    .dataframe tbody tr th {\n",
       "        vertical-align: top;\n",
       "    }\n",
       "\n",
       "    .dataframe thead th {\n",
       "        text-align: right;\n",
       "    }\n",
       "</style>\n",
       "<table border=\"1\" class=\"dataframe\">\n",
       "  <thead>\n",
       "    <tr style=\"text-align: right;\">\n",
       "      <th></th>\n",
       "      <th>length</th>\n",
       "      <th>GC</th>\n",
       "      <th>CpG</th>\n",
       "    </tr>\n",
       "  </thead>\n",
       "  <tbody>\n",
       "    <tr>\n",
       "      <th>count</th>\n",
       "      <td>5.00000</td>\n",
       "      <td>5.000000</td>\n",
       "      <td>5.000000</td>\n",
       "    </tr>\n",
       "    <tr>\n",
       "      <th>mean</th>\n",
       "      <td>590.40000</td>\n",
       "      <td>34.553460</td>\n",
       "      <td>0.826032</td>\n",
       "    </tr>\n",
       "    <tr>\n",
       "      <th>std</th>\n",
       "      <td>651.31659</td>\n",
       "      <td>9.138561</td>\n",
       "      <td>0.734519</td>\n",
       "    </tr>\n",
       "    <tr>\n",
       "      <th>min</th>\n",
       "      <td>248.00000</td>\n",
       "      <td>18.624600</td>\n",
       "      <td>0.106781</td>\n",
       "    </tr>\n",
       "    <tr>\n",
       "      <th>25%</th>\n",
       "      <td>251.00000</td>\n",
       "      <td>36.529700</td>\n",
       "      <td>0.343726</td>\n",
       "    </tr>\n",
       "    <tr>\n",
       "      <th>50%</th>\n",
       "      <td>349.00000</td>\n",
       "      <td>36.693500</td>\n",
       "      <td>0.675681</td>\n",
       "    </tr>\n",
       "    <tr>\n",
       "      <th>75%</th>\n",
       "      <td>352.00000</td>\n",
       "      <td>39.442200</td>\n",
       "      <td>1.016343</td>\n",
       "    </tr>\n",
       "    <tr>\n",
       "      <th>max</th>\n",
       "      <td>1752.00000</td>\n",
       "      <td>41.477300</td>\n",
       "      <td>1.987629</td>\n",
       "    </tr>\n",
       "  </tbody>\n",
       "</table>\n",
       "</div>"
      ],
      "text/plain": [
       "           length         GC       CpG\n",
       "count     5.00000   5.000000  5.000000\n",
       "mean    590.40000  34.553460  0.826032\n",
       "std     651.31659   9.138561  0.734519\n",
       "min     248.00000  18.624600  0.106781\n",
       "25%     251.00000  36.529700  0.343726\n",
       "50%     349.00000  36.693500  0.675681\n",
       "75%     352.00000  39.442200  1.016343\n",
       "max    1752.00000  41.477300  1.987629"
      ]
     },
     "execution_count": 16,
     "metadata": {},
     "output_type": "execute_result"
    }
   ],
   "source": [
    "sizes.describe()"
   ]
  },
  {
   "cell_type": "code",
   "execution_count": 18,
   "metadata": {},
   "outputs": [
    {
     "data": {
      "text/plain": [
       "(-0.001, 100.0]     0\n",
       "(100.0, 200.0]      0\n",
       "(200.0, 300.0]      2\n",
       "(300.0, 400.0]      2\n",
       "(400.0, 500.0]      0\n",
       "(500.0, 600.0]      0\n",
       "(600.0, 700.0]      0\n",
       "(700.0, 800.0]      0\n",
       "(800.0, 900.0]      0\n",
       "(900.0, 1000.0]     0\n",
       "(1000.0, 1100.0]    0\n",
       "(1100.0, 1200.0]    0\n",
       "(1200.0, 1300.0]    0\n",
       "(1300.0, 1400.0]    0\n",
       "(1400.0, 1500.0]    0\n",
       "(1500.0, 1600.0]    0\n",
       "(1600.0, 1700.0]    0\n",
       "(1700.0, 1800.0]    1\n",
       "Name: length, dtype: int64"
      ]
     },
     "execution_count": 18,
     "metadata": {},
     "output_type": "execute_result"
    }
   ],
   "source": [
    "sizes1 = sizes['length'].value_counts(normalize=False, sort=False, ascending=False, \n",
    "                                  bins=range(0,sizes['length'].max()+100,100), dropna=True)\n",
    "sizes1"
   ]
  },
  {
   "cell_type": "code",
   "execution_count": 19,
   "metadata": {},
   "outputs": [
    {
     "data": {
      "text/plain": [
       "(-0.001, 10.0]    0\n",
       "(10.0, 20.0]      1\n",
       "(20.0, 30.0]      0\n",
       "(30.0, 40.0]      3\n",
       "(40.0, 50.0]      1\n",
       "Name: GC, dtype: int64"
      ]
     },
     "execution_count": 19,
     "metadata": {},
     "output_type": "execute_result"
    }
   ],
   "source": [
    "sizesgc = sizes['GC'].value_counts(normalize=False, sort=False, ascending=False, \n",
    "                                  bins=range(0,int(sizes['GC'].max()+10),10), dropna=True)\n",
    "sizesgc"
   ]
  },
  {
   "cell_type": "code",
   "execution_count": 20,
   "metadata": {},
   "outputs": [
    {
     "data": {
      "image/png": "[encoded data removed]",
      "text/plain": [
       "<matplotlib.figure.Figure at 0x7f3751f64898>"
      ]
     },
     "metadata": {},
     "output_type": "display_data"
    }
   ],
   "source": [
    "pylab.hist(sizes['length'], bins=20)\n",
    "pylab.title(\"%i idt014.fasta\\nLengths %i to %i\" \\\n",
    "            % (len(sizes),min(sizes['length']),max(sizes['length'])))\n",
    "pylab.xlabel(\"Sequence length (bp)\")\n",
    "pylab.ylabel(\"Count\")\n",
    "#pylab.legend().set_visible(False)\n",
    "pylab.show()"
   ]
  },
  {
   "cell_type": "code",
   "execution_count": 55,
   "metadata": {},
   "outputs": [],
   "source": [
    "# Secuencias de argonautas, nucleotidos\n",
    "lineas =\"AB191108, AY545104, HQ846022, HQ846036, KF017606, EU071435, JN800401, JN800402, AF369112, AF299267, AF299270, HM104247, AF299266\"\n"
   ]
  },
  {
   "cell_type": "code",
   "execution_count": 56,
   "metadata": {},
   "outputs": [
    {
     "name": "stdout",
     "output_type": "stream",
     "text": [
      "AB191108.1 Argonauta argo gene for 16S rRNA, partial sequence...\n",
      "Sequence length 503, 2 features, from: Argonauta argo\n",
      "AY545104.1 Argonauta nodosa 16S ribosomal RNA gene, partial s...\n",
      "Sequence length 497, 2 features, from: mitochondrion Argonauta nodosa\n",
      "HQ846022.1 Cistopus chinensis isolate L6 16S ribosomal RNA ge...\n",
      "Sequence length 514, 2 features, from: mitochondrion Cistopus chinensis\n",
      "HQ846036.1 Cistopus chinensis isolate P3 16S ribosomal RNA ge...\n",
      "Sequence length 514, 2 features, from: mitochondrion Cistopus chinensis\n",
      "KF017606.1 Cistopus chinensis mitochondrion, complete genome...\n",
      "Sequence length 15706, 53 features, from: mitochondrion Cistopus chinensis\n",
      "EU071435.1 Graneledone boreopacifica 16S ribosomal RNA gene, ...\n",
      "Sequence length 509, 2 features, from: mitochondrion Graneledone boreopacifica\n",
      "JN800401.1 Graneledone sp. CMI-2012 isolate A 16S ribosomal R...\n",
      "Sequence length 557, 2 features, from: mitochondrion Graneledone sp. CMI-2012\n",
      "JN800402.1 Graneledone sp. CMI-2012 isolate B 16S ribosomal R...\n",
      "Sequence length 557, 2 features, from: mitochondrion Graneledone sp. CMI-2012\n",
      "AF369112.1 Octopus variabilis 16S ribosomal RNA gene, partial...\n",
      "Sequence length 510, 2 features, from: mitochondrion Octopus variabilis\n",
      "AF299267.1 Pareledone charcoti 16S ribosomal RNA gene, partia...\n",
      "Sequence length 502, 2 features, from: mitochondrion Pareledone charcoti\n",
      "AF299270.1 Pareledone turqueti 16S ribosomal RNA gene, partia...\n",
      "Sequence length 502, 2 features, from: mitochondrion Pareledone turqueti\n",
      "HM104247.1 Praealtus paralbida 16S ribosomal RNA gene, partia...\n",
      "Sequence length 510, 2 features, from: mitochondrion Praealtus paralbida\n",
      "AF299266.1 Thaumeledone gunteri 16S ribosomal RNA gene, parti...\n",
      "Sequence length 501, 2 features, from: mitochondrion Thaumeledone gunteri\n"
     ]
    }
   ],
   "source": [
    "#nucleotidos\n",
    "secuencias= []\n",
    "Entrez.email = \"mdelrio@cicese.mx\"\n",
    "handle = Entrez.efetch(db=\"nucleotide\", rettype=\"gb\", retmode=\"text\", id=lineas)\n",
    "for seq_record in SeqIO.parse(handle, \"gb\"):\n",
    "    print(\"%s %s...\" % (seq_record.id, seq_record.description[:50]))\n",
    "    print(\"Sequence length %i, %i features, from: %s\"\n",
    "          % (len(seq_record), len(seq_record.features), seq_record.annotations[\"source\"]))\n",
    "    secuencias.append(seq_record)\n",
    "\n",
    "handle.close()"
   ]
  },
  {
   "cell_type": "code",
   "execution_count": 57,
   "metadata": {},
   "outputs": [
    {
     "data": {
      "text/plain": [
       "13"
      ]
     },
     "execution_count": 57,
     "metadata": {},
     "output_type": "execute_result"
    }
   ],
   "source": [
    "SeqIO.write(secuencias, \"./Desktop/data/argos.gb\", \"gb\")\n",
    "SeqIO.write(secuencias, \"./Desktop/data/argos.fas\", \"fasta\")\n",
    "\n"
   ]
  },
  {
   "cell_type": "code",
   "execution_count": 58,
   "metadata": {},
   "outputs": [
    {
     "name": "stdout",
     "output_type": "stream",
     "text": [
      "LOCUS       AB191108                 503 bp    DNA     linear   INV 23-MAR-2005\r\n",
      "DEFINITION  Argonauta argo gene for 16S rRNA, partial sequence.\r\n",
      "ACCESSION   AB191108\r\n",
      "VERSION     AB191108.1\r\n",
      "KEYWORDS    .\r\n",
      "SOURCE      Argonauta argo\r\n",
      "  ORGANISM  Argonauta argo\r\n",
      "            Eukaryota; Metazoa; Lophotrochozoa; Mollusca; Cephalopoda;\r\n",
      "            Coleoidea; Neocoleoidea; Octopodiformes; Octopoda; Incirrata;\r\n",
      "            Argonautidae; Argonauta.\r\n"
     ]
    }
   ],
   "source": [
    "!head -10 ./data/argos.gb"
   ]
  },
  {
   "cell_type": "code",
   "execution_count": 59,
   "metadata": {},
   "outputs": [
    {
     "name": "stdout",
     "output_type": "stream",
     "text": [
      ">AB191108.1 Argonauta argo gene for 16S rRNA, partial sequence\r\n",
      "GTCTCTTTGAGTGAAGATAATAAAGAGTTGGGCCTGCTCGGTGAATAAATTTTAACAGCT\r\n",
      "GCGGTTTAATATCTGTACTAAGGTAGCATAATAATTTGTCTTATAAATTGAGACTAGAAT\r\n",
      "GAATGGTTTGACGAAAATTATACTGTCTCTATTATATTTTTTTGAAATTAATTTTTAAAG\r\n",
      "TGAAAAAGCTTAAATTTTTTAAAGGGACGAGAAGACCCTATTGAGCTTATATTAATAAGA\r\n",
      "TAATATAATAAATTTATTATTTTTTTTTAATTTTGGTTGGGGTGATCAAGGAAATAAAAA\r\n",
      "TAAATAACTTCCTTAATTATATTTATCTGTTAGGATAATAAACAAAATGTATTTCTTTTA\r\n",
      "TGATAAGTTACCATAGGGATAACAGCGTAATTTCTTTTGAGAGTTCTTATTAAAAAAGAA\r\n",
      "GATTGCGACCTCGATGTTGGATTAAAATTAACCTTAAGGTGGAGAAGCTTTATTTGGTAA\r\n",
      "ATCTGTTCGATTTTTAAAATTTT\r\n",
      ">AY545104.1 Argonauta nodosa 16S ribosomal RNA gene, partial sequence; mitochondrial\r\n",
      "GTCTCTTTGATTTTTATAATAAAGAGTTGGGCCTGCTCAGTGATGAATTTAACAGCTGCG\r\n",
      "GTTAATAACTGTACTAAGGTAGCATAATAAATTGTCTTATAAATTGAGACTAGAATGAAT\r\n",
      "GGTTTGACGAAAGTTATACTGTCTCTATTATATTTTTTTGAAATTAATTTTTATAGTGAA\r\n",
      "AAAGCTTAAATTTTTTAAAGGGACGAAAAGACCCTATTGAGCTTTATATTAATAATTGAT\r\n",
      "AATTGAAAATTTATTATATTATTATTTTTAATTTTGGTTGGGGTGATCGAGGAATAAAAA\r\n",
      "AGAGATTAATAACTTCCTTAAATAGATTTCTTTTAGGTTAATAAACAAATATTTTTCTTT\r\n",
      "TATGATAAGTTACCATAGGGATAACAGCGTAATTTCTTTTGAGAGTTCTTATTAAAAAAG\r\n",
      "AAGATTGCGACCTCGATGTTGGATTAAAATTAACCTTAAGGTGGAGAAGCTTTATTTGGT\r\n",
      "AAATCTGTTCGATTTTT\r\n"
     ]
    }
   ],
   "source": [
    "!head -20 ./data/argos.fas"
   ]
  },
  {
   "cell_type": "code",
   "execution_count": 21,
   "metadata": {},
   "outputs": [],
   "source": [
    "# fasta file to calculate the CpG content per contig\n",
    "f = \"./Desktop/data/argos.fas\""
   ]
  },
  {
   "cell_type": "code",
   "execution_count": 22,
   "metadata": {},
   "outputs": [
    {
     "data": {
      "text/html": [
       "<div>\n",
       "<style scoped>\n",
       "    .dataframe tbody tr th:only-of-type {\n",
       "        vertical-align: middle;\n",
       "    }\n",
       "\n",
       "    .dataframe tbody tr th {\n",
       "        vertical-align: top;\n",
       "    }\n",
       "\n",
       "    .dataframe thead th {\n",
       "        text-align: right;\n",
       "    }\n",
       "</style>\n",
       "<table border=\"1\" class=\"dataframe\">\n",
       "  <thead>\n",
       "    <tr style=\"text-align: right;\">\n",
       "      <th></th>\n",
       "      <th>contigs</th>\n",
       "      <th>length</th>\n",
       "      <th>GC</th>\n",
       "      <th>CpG</th>\n",
       "    </tr>\n",
       "  </thead>\n",
       "  <tbody>\n",
       "    <tr>\n",
       "      <th>0</th>\n",
       "      <td>AB191108.1</td>\n",
       "      <td>503</td>\n",
       "      <td>26.2425</td>\n",
       "      <td>1.019215</td>\n",
       "    </tr>\n",
       "    <tr>\n",
       "      <th>1</th>\n",
       "      <td>AY545104.1</td>\n",
       "      <td>497</td>\n",
       "      <td>26.5594</td>\n",
       "      <td>1.007082</td>\n",
       "    </tr>\n",
       "  </tbody>\n",
       "</table>\n",
       "</div>"
      ],
      "text/plain": [
       "      contigs  length       GC       CpG\n",
       "0  AB191108.1     503  26.2425  1.019215\n",
       "1  AY545104.1     497  26.5594  1.007082"
      ]
     },
     "execution_count": 22,
     "metadata": {},
     "output_type": "execute_result"
    }
   ],
   "source": [
    "sizes = [(rec.name, len(rec), round(GC(rec.seq),4), cpg(rec.seq)) for rec in SeqIO.parse(f, \"fasta\")]\n",
    "sizes = DataFrame(sizes,columns= [\"contigs\", \"length\", \"GC\", \"CpG\"])\n",
    "sizes.head(2)"
   ]
  },
  {
   "cell_type": "code",
   "execution_count": 23,
   "metadata": {},
   "outputs": [
    {
     "data": {
      "text/html": [
       "<div>\n",
       "<style scoped>\n",
       "    .dataframe tbody tr th:only-of-type {\n",
       "        vertical-align: middle;\n",
       "    }\n",
       "\n",
       "    .dataframe tbody tr th {\n",
       "        vertical-align: top;\n",
       "    }\n",
       "\n",
       "    .dataframe thead th {\n",
       "        text-align: right;\n",
       "    }\n",
       "</style>\n",
       "<table border=\"1\" class=\"dataframe\">\n",
       "  <thead>\n",
       "    <tr style=\"text-align: right;\">\n",
       "      <th></th>\n",
       "      <th>length</th>\n",
       "      <th>GC</th>\n",
       "      <th>CpG</th>\n",
       "    </tr>\n",
       "  </thead>\n",
       "  <tbody>\n",
       "    <tr>\n",
       "      <th>count</th>\n",
       "      <td>13.000000</td>\n",
       "      <td>13.000000</td>\n",
       "      <td>13.000000</td>\n",
       "    </tr>\n",
       "    <tr>\n",
       "      <th>mean</th>\n",
       "      <td>1683.230769</td>\n",
       "      <td>26.792215</td>\n",
       "      <td>0.989518</td>\n",
       "    </tr>\n",
       "    <tr>\n",
       "      <th>std</th>\n",
       "      <td>4213.363446</td>\n",
       "      <td>1.111426</td>\n",
       "      <td>0.121388</td>\n",
       "    </tr>\n",
       "    <tr>\n",
       "      <th>min</th>\n",
       "      <td>497.000000</td>\n",
       "      <td>23.793500</td>\n",
       "      <td>0.637906</td>\n",
       "    </tr>\n",
       "    <tr>\n",
       "      <th>25%</th>\n",
       "      <td>502.000000</td>\n",
       "      <td>26.242500</td>\n",
       "      <td>0.942580</td>\n",
       "    </tr>\n",
       "    <tr>\n",
       "      <th>50%</th>\n",
       "      <td>510.000000</td>\n",
       "      <td>27.237400</td>\n",
       "      <td>1.019215</td>\n",
       "    </tr>\n",
       "    <tr>\n",
       "      <th>75%</th>\n",
       "      <td>514.000000</td>\n",
       "      <td>27.490000</td>\n",
       "      <td>1.038069</td>\n",
       "    </tr>\n",
       "    <tr>\n",
       "      <th>max</th>\n",
       "      <td>15706.000000</td>\n",
       "      <td>27.827600</td>\n",
       "      <td>1.124445</td>\n",
       "    </tr>\n",
       "  </tbody>\n",
       "</table>\n",
       "</div>"
      ],
      "text/plain": [
       "             length         GC        CpG\n",
       "count     13.000000  13.000000  13.000000\n",
       "mean    1683.230769  26.792215   0.989518\n",
       "std     4213.363446   1.111426   0.121388\n",
       "min      497.000000  23.793500   0.637906\n",
       "25%      502.000000  26.242500   0.942580\n",
       "50%      510.000000  27.237400   1.019215\n",
       "75%      514.000000  27.490000   1.038069\n",
       "max    15706.000000  27.827600   1.124445"
      ]
     },
     "execution_count": 23,
     "metadata": {},
     "output_type": "execute_result"
    }
   ],
   "source": [
    "sizes.describe()"
   ]
  },
  {
   "cell_type": "code",
   "execution_count": 24,
   "metadata": {},
   "outputs": [
    {
     "data": {
      "image/png": "[encoded data removed]",
      "text/plain": [
       "<matplotlib.figure.Figure at 0x7f3751f75b38>"
      ]
     },
     "metadata": {},
     "output_type": "display_data"
    }
   ],
   "source": [
    "pylab.hist(sizes['length'], bins=20)\n",
    "pylab.title(\"%i idt014.fasta\\nLengths %i to %i\" \\\n",
    "            % (len(sizes),min(sizes['length']),max(sizes['length'])))\n",
    "pylab.xlabel(\"Sequence length (bp)\")\n",
    "pylab.ylabel(\"Count\")\n",
    "#pylab.legend().set_visible(False)\n",
    "pylab.show()"
   ]
  },
  {
   "cell_type": "code",
   "execution_count": 25,
   "metadata": {},
   "outputs": [
    {
     "data": {
      "image/png": "[encoded data removed]",
      "text/plain": [
       "<matplotlib.figure.Figure at 0x7f3751f7ec50>"
      ]
     },
     "metadata": {},
     "output_type": "display_data"
    }
   ],
   "source": [
    "pylab.hist(sizes['GC'], bins=20)\n",
    "pylab.title(\"%i idt014.fasta\\nGC %i to %i\" \\\n",
    "            % (len(sizes),min(sizes['GC']),max(sizes['GC'])))\n",
    "pylab.xlabel(\"Sequence CG content\")\n",
    "pylab.ylabel(\"Count\")\n",
    "#pylab.legend().set_visible(False)\n",
    "pylab.show()"
   ]
  },
  {
   "cell_type": "code",
   "execution_count": 26,
   "metadata": {},
   "outputs": [
    {
     "data": {
      "image/png": "[encoded data removed]",
      "text/plain": [
       "<matplotlib.figure.Figure at 0x7f37521b7ac8>"
      ]
     },
     "metadata": {},
     "output_type": "display_data"
    }
   ],
   "source": [
    "pylab.hist(sizes['CpG'], bins=20)\n",
    "pylab.title(\"%i idt014.fasta\\nCpG %1.3f to %1.3f\" \\\n",
    "            % (len(sizes),min(sizes['CpG']),max(sizes['CpG'])))\n",
    "pylab.xlabel(\"Sequence CpG content\")\n",
    "pylab.ylabel(\"Count\")\n",
    "#pylab.legend().set_visible(False)\n",
    "pylab.show()"
   ]
  },
  {
   "cell_type": "code",
   "execution_count": null,
   "metadata": {},
   "outputs": [],
   "source": []
  },
  {
   "cell_type": "code",
   "execution_count": null,
   "metadata": {},
   "outputs": [],
   "source": []
  },
  {
   "cell_type": "code",
   "execution_count": null,
   "metadata": {},
   "outputs": [],
   "source": []
  },
  {
   "cell_type": "code",
   "execution_count": 27,
   "metadata": {},
   "outputs": [],
   "source": [
    "# fasta file to calculate the CpG content per contig\n",
    "handle = \"./Desktop/data/Hrufescens_mtDNASequences_NCBI.fasta\""
   ]
  },
  {
   "cell_type": "code",
   "execution_count": null,
   "metadata": {},
   "outputs": [],
   "source": []
  },
  {
   "cell_type": "code",
   "execution_count": 28,
   "metadata": {
    "scrolled": true
   },
   "outputs": [
    {
     "name": "stdout",
     "output_type": "stream",
     "text": [
      "JF281275 0.6146 0.434\n",
      "JF281274 0.6382 0.4277\n",
      "JF281273 0.6382 0.4277\n",
      "JF281272 0.6382 0.4277\n",
      "JF281271 0.6382 0.4277\n",
      "JF281270 0.6301 0.4298\n",
      "JF281269 0.6382 0.4277\n",
      "JF281268 0.6223 0.4319\n",
      "JF281267 0.6223 0.4319\n",
      "JF281266 0.6146 0.434\n"
     ]
    }
   ],
   "source": [
    "record_id = []\n",
    "n=0\n",
    "record_cpg, record_cg = [], []\n",
    "for record in SeqIO.parse(handle, \"fasta\") :\n",
    "    g= record.seq.count(\"G\")\n",
    "    c= record.seq.count(\"C\")\n",
    "    cg= record.seq.count(\"CG\")\n",
    "    lar= len(record.seq)\n",
    "    try:\n",
    "        g*c==0\n",
    "    except:\n",
    "        print (record.id)\n",
    "        record_id.append(record.id)\n",
    "        record_cpg.append(0.0000)\n",
    "        record_cg.append(round ((g+c)/lar,4))\n",
    "    else:\n",
    "        print (record.id, round(cg/(g*c)*(lar**2/(lar-1)) ,4), round((g+c)/lar,4))\n",
    "        record_id.append(record.id)\n",
    "        record_cpg.append(round(cg/(g*c)*(lar**2/(lar-1)) ,4))\n",
    "        record_cg.append(round ((g+c)/lar,4))\n",
    "    n+=1\n",
    "    if n==10:\n",
    "        break"
   ]
  },
  {
   "cell_type": "code",
   "execution_count": 29,
   "metadata": {
    "scrolled": true
   },
   "outputs": [
    {
     "data": {
      "text/html": [
       "<div>\n",
       "<style scoped>\n",
       "    .dataframe tbody tr th:only-of-type {\n",
       "        vertical-align: middle;\n",
       "    }\n",
       "\n",
       "    .dataframe tbody tr th {\n",
       "        vertical-align: top;\n",
       "    }\n",
       "\n",
       "    .dataframe thead th {\n",
       "        text-align: right;\n",
       "    }\n",
       "</style>\n",
       "<table border=\"1\" class=\"dataframe\">\n",
       "  <thead>\n",
       "    <tr style=\"text-align: right;\">\n",
       "      <th></th>\n",
       "      <th>id</th>\n",
       "      <th>CpG</th>\n",
       "      <th>CG</th>\n",
       "    </tr>\n",
       "  </thead>\n",
       "  <tbody>\n",
       "    <tr>\n",
       "      <th>0</th>\n",
       "      <td>JF281275</td>\n",
       "      <td>0.6146</td>\n",
       "      <td>0.4340</td>\n",
       "    </tr>\n",
       "    <tr>\n",
       "      <th>1</th>\n",
       "      <td>JF281274</td>\n",
       "      <td>0.6382</td>\n",
       "      <td>0.4277</td>\n",
       "    </tr>\n",
       "    <tr>\n",
       "      <th>2</th>\n",
       "      <td>JF281273</td>\n",
       "      <td>0.6382</td>\n",
       "      <td>0.4277</td>\n",
       "    </tr>\n",
       "    <tr>\n",
       "      <th>3</th>\n",
       "      <td>JF281272</td>\n",
       "      <td>0.6382</td>\n",
       "      <td>0.4277</td>\n",
       "    </tr>\n",
       "    <tr>\n",
       "      <th>4</th>\n",
       "      <td>JF281271</td>\n",
       "      <td>0.6382</td>\n",
       "      <td>0.4277</td>\n",
       "    </tr>\n",
       "    <tr>\n",
       "      <th>5</th>\n",
       "      <td>JF281270</td>\n",
       "      <td>0.6301</td>\n",
       "      <td>0.4298</td>\n",
       "    </tr>\n",
       "    <tr>\n",
       "      <th>6</th>\n",
       "      <td>JF281269</td>\n",
       "      <td>0.6382</td>\n",
       "      <td>0.4277</td>\n",
       "    </tr>\n",
       "    <tr>\n",
       "      <th>7</th>\n",
       "      <td>JF281268</td>\n",
       "      <td>0.6223</td>\n",
       "      <td>0.4319</td>\n",
       "    </tr>\n",
       "    <tr>\n",
       "      <th>8</th>\n",
       "      <td>JF281267</td>\n",
       "      <td>0.6223</td>\n",
       "      <td>0.4319</td>\n",
       "    </tr>\n",
       "    <tr>\n",
       "      <th>9</th>\n",
       "      <td>JF281266</td>\n",
       "      <td>0.6146</td>\n",
       "      <td>0.4340</td>\n",
       "    </tr>\n",
       "  </tbody>\n",
       "</table>\n",
       "</div>"
      ],
      "text/plain": [
       "         id     CpG      CG\n",
       "0  JF281275  0.6146  0.4340\n",
       "1  JF281274  0.6382  0.4277\n",
       "2  JF281273  0.6382  0.4277\n",
       "3  JF281272  0.6382  0.4277\n",
       "4  JF281271  0.6382  0.4277\n",
       "5  JF281270  0.6301  0.4298\n",
       "6  JF281269  0.6382  0.4277\n",
       "7  JF281268  0.6223  0.4319\n",
       "8  JF281267  0.6223  0.4319\n",
       "9  JF281266  0.6146  0.4340"
      ]
     },
     "execution_count": 29,
     "metadata": {},
     "output_type": "execute_result"
    }
   ],
   "source": [
    "records = DataFrame({'id':record_id, 'CpG':record_cpg, 'CG':record_cg})\n",
    "records"
   ]
  },
  {
   "cell_type": "code",
   "execution_count": 30,
   "metadata": {},
   "outputs": [
    {
     "data": {
      "text/html": [
       "<div>\n",
       "<style scoped>\n",
       "    .dataframe tbody tr th:only-of-type {\n",
       "        vertical-align: middle;\n",
       "    }\n",
       "\n",
       "    .dataframe tbody tr th {\n",
       "        vertical-align: top;\n",
       "    }\n",
       "\n",
       "    .dataframe thead th {\n",
       "        text-align: right;\n",
       "    }\n",
       "</style>\n",
       "<table border=\"1\" class=\"dataframe\">\n",
       "  <thead>\n",
       "    <tr style=\"text-align: right;\">\n",
       "      <th></th>\n",
       "      <th>CpG</th>\n",
       "      <th>CG</th>\n",
       "    </tr>\n",
       "  </thead>\n",
       "  <tbody>\n",
       "    <tr>\n",
       "      <th>count</th>\n",
       "      <td>10.000000</td>\n",
       "      <td>10.000000</td>\n",
       "    </tr>\n",
       "    <tr>\n",
       "      <th>mean</th>\n",
       "      <td>0.629490</td>\n",
       "      <td>0.430010</td>\n",
       "    </tr>\n",
       "    <tr>\n",
       "      <th>std</th>\n",
       "      <td>0.010146</td>\n",
       "      <td>0.002702</td>\n",
       "    </tr>\n",
       "    <tr>\n",
       "      <th>min</th>\n",
       "      <td>0.614600</td>\n",
       "      <td>0.427700</td>\n",
       "    </tr>\n",
       "    <tr>\n",
       "      <th>25%</th>\n",
       "      <td>0.622300</td>\n",
       "      <td>0.427700</td>\n",
       "    </tr>\n",
       "    <tr>\n",
       "      <th>50%</th>\n",
       "      <td>0.634150</td>\n",
       "      <td>0.428750</td>\n",
       "    </tr>\n",
       "    <tr>\n",
       "      <th>75%</th>\n",
       "      <td>0.638200</td>\n",
       "      <td>0.431900</td>\n",
       "    </tr>\n",
       "    <tr>\n",
       "      <th>max</th>\n",
       "      <td>0.638200</td>\n",
       "      <td>0.434000</td>\n",
       "    </tr>\n",
       "  </tbody>\n",
       "</table>\n",
       "</div>"
      ],
      "text/plain": [
       "             CpG         CG\n",
       "count  10.000000  10.000000\n",
       "mean    0.629490   0.430010\n",
       "std     0.010146   0.002702\n",
       "min     0.614600   0.427700\n",
       "25%     0.622300   0.427700\n",
       "50%     0.634150   0.428750\n",
       "75%     0.638200   0.431900\n",
       "max     0.638200   0.434000"
      ]
     },
     "execution_count": 30,
     "metadata": {},
     "output_type": "execute_result"
    }
   ],
   "source": [
    "records.describe()"
   ]
  },
  {
   "cell_type": "code",
   "execution_count": 28,
   "metadata": {},
   "outputs": [],
   "source": [
    "records.to_csv('./Desktop/data/Hrufescens_mtDNASequence.csv')"
   ]
  },
  {
   "cell_type": "code",
   "execution_count": 31,
   "metadata": {},
   "outputs": [
    {
     "data": {
      "image/png": "[encoded data removed]",
      "text/plain": [
       "<matplotlib.figure.Figure at 0x7f3751dc5748>"
      ]
     },
     "metadata": {},
     "output_type": "display_data"
    }
   ],
   "source": [
    "ax = plt.gca()\n",
    "# the histogram of the data\n",
    "ax.hist(records['CpG'],bins=20, color='r')\n",
    "\n",
    "ax.set_xlabel('CpG')\n",
    "ax.set_ylabel('Frequency')\n",
    "ax.set_title(r'Histogram' )\n",
    "plt.show()"
   ]
  },
  {
   "cell_type": "code",
   "execution_count": 32,
   "metadata": {},
   "outputs": [
    {
     "data": {
      "image/png": "[encoded data removed]",
      "text/plain": [
       "<matplotlib.figure.Figure at 0x7f3751cbff98>"
      ]
     },
     "metadata": {},
     "output_type": "display_data"
    }
   ],
   "source": [
    "ax = plt.gca()\n",
    "# the histogram of the data\n",
    "ax.hist(records['CG'],bins=20, color='r')\n",
    "\n",
    "ax.set_xlabel('CG')\n",
    "ax.set_ylabel('Frequency')\n",
    "ax.set_title(r'Histogram' )\n",
    "plt.show()"
   ]
  },
  {
   "cell_type": "code",
   "execution_count": 33,
   "metadata": {},
   "outputs": [
    {
     "data": {
      "image/png": "[encoded data removed]",
      "text/plain": [
       "<matplotlib.figure.Figure at 0x7f3751be49b0>"
      ]
     },
     "metadata": {},
     "output_type": "display_data"
    }
   ],
   "source": [
    "boxplot(records['CpG'],)\n",
    "show()"
   ]
  },
  {
   "cell_type": "code",
   "execution_count": 34,
   "metadata": {},
   "outputs": [
    {
     "data": {
      "image/png": "[encoded data removed]",
      "text/plain": [
       "<matplotlib.figure.Figure at 0x7f3751e83ac8>"
      ]
     },
     "metadata": {},
     "output_type": "display_data"
    }
   ],
   "source": [
    "hist(records['CpG'])\n",
    "show()"
   ]
  },
  {
   "cell_type": "code",
   "execution_count": 77,
   "metadata": {},
   "outputs": [
    {
     "data": {
      "image/png": "[encoded data removed]",
      "text/plain": [
       "<matplotlib.figure.Figure at 0x7f030048da58>"
      ]
     },
     "metadata": {},
     "output_type": "display_data"
    }
   ],
   "source": [
    "boxplot(records['CpG'])\n",
    "show()"
   ]
  },
  {
   "cell_type": "code",
   "execution_count": 1,
   "metadata": {
    "scrolled": false
   },
   "outputs": [
    {
     "name": "stdout",
     "output_type": "stream",
     "text": [
      "USAGE\r\n",
      "  blastn [-h] [-help] [-import_search_strategy filename]\r\n",
      "    [-export_search_strategy filename] [-task task_name] [-db database_name]\r\n",
      "    [-dbsize num_letters] [-gilist filename] [-seqidlist filename]\r\n",
      "    [-negative_gilist filename] [-entrez_query entrez_query]\r\n",
      "    [-db_soft_mask filtering_algorithm] [-db_hard_mask filtering_algorithm]\r\n",
      "    [-subject subject_input_file] [-subject_loc range] [-query input_file]\r\n",
      "    [-out output_file] [-evalue evalue] [-word_size int_value]\r\n",
      "    [-gapopen open_penalty] [-gapextend extend_penalty]\r\n",
      "    [-perc_identity float_value] [-qcov_hsp_perc float_value]\r\n",
      "    [-max_hsps int_value] [-xdrop_ungap float_value] [-xdrop_gap float_value]\r\n",
      "    [-xdrop_gap_final float_value] [-searchsp int_value]\r\n",
      "    [-sum_stats bool_value] [-penalty penalty] [-reward reward] [-no_greedy]\r\n",
      "    [-min_raw_gapped_score int_value] [-template_type type]\r\n",
      "    [-template_length int_value] [-dust DUST_options]\r\n",
      "    [-filtering_db filtering_database]\r\n",
      "    [-window_masker_taxid window_masker_taxid]\r\n",
      "    [-window_masker_db window_masker_db] [-soft_masking soft_masking]\r\n",
      "    [-ungapped] [-culling_limit int_value] [-best_hit_overhang float_value]\r\n",
      "    [-best_hit_score_edge float_value] [-window_size int_value]\r\n",
      "    [-off_diagonal_range int_value] [-use_index boolean] [-index_name string]\r\n",
      "    [-lcase_masking] [-query_loc range] [-strand strand] [-parse_deflines]\r\n",
      "    [-outfmt format] [-show_gis] [-num_descriptions int_value]\r\n",
      "    [-num_alignments int_value] [-line_length line_length] [-html]\r\n",
      "    [-max_target_seqs num_sequences] [-num_threads int_value] [-remote]\r\n",
      "    [-version]\r\n",
      "\r\n",
      "DESCRIPTION\r\n",
      "   Nucleotide-Nucleotide BLAST 2.6.0+\r\n",
      "\r\n",
      "OPTIONAL ARGUMENTS\r\n",
      " -h\r\n",
      "   Print USAGE and DESCRIPTION;  ignore all other parameters\r\n",
      " -help\r\n",
      "   Print USAGE, DESCRIPTION and ARGUMENTS; ignore all other parameters\r\n",
      " -version\r\n",
      "   Print version number;  ignore other arguments\r\n",
      "\r\n",
      " *** Input query options\r\n",
      " -query <File_In>\r\n",
      "   Input file name\r\n",
      "   Default = `-'\r\n",
      " -query_loc <String>\r\n",
      "   Location on the query sequence in 1-based offsets (Format: start-stop)\r\n",
      " -strand <String, `both', `minus', `plus'>\r\n",
      "   Query strand(s) to search against database/subject\r\n",
      "   Default = `both'\r\n",
      "\r\n",
      " *** General search options\r\n",
      " -task <String, Permissible values: 'blastn' 'blastn-short' 'dc-megablast'\r\n",
      "                'megablast' 'rmblastn' >\r\n",
      "   Task to execute\r\n",
      "   Default = `megablast'\r\n",
      " -db <String>\r\n",
      "   BLAST database name\r\n",
      "    * Incompatible with:  subject, subject_loc\r\n",
      " -out <File_Out>\r\n",
      "   Output file name\r\n",
      "   Default = `-'\r\n",
      " -evalue <Real>\r\n",
      "   Expectation value (E) threshold for saving hits \r\n",
      "   Default = `10'\r\n",
      " -word_size <Integer, >=4>\r\n",
      "   Word size for wordfinder algorithm (length of best perfect match)\r\n",
      " -gapopen <Integer>\r\n",
      "   Cost to open a gap\r\n",
      " -gapextend <Integer>\r\n",
      "   Cost to extend a gap\r\n",
      " -penalty <Integer, <=0>\r\n",
      "   Penalty for a nucleotide mismatch\r\n",
      " -reward <Integer, >=0>\r\n",
      "   Reward for a nucleotide match\r\n",
      " -use_index <Boolean>\r\n",
      "   Use MegaBLAST database index\r\n",
      "   Default = `false'\r\n",
      " -index_name <String>\r\n",
      "   MegaBLAST database index name (deprecated; use only for old style indices)\r\n",
      "\r\n",
      " *** BLAST-2-Sequences options\r\n",
      " -subject <File_In>\r\n",
      "   Subject sequence(s) to search\r\n",
      "    * Incompatible with:  db, gilist, seqidlist, negative_gilist,\r\n",
      "   db_soft_mask, db_hard_mask\r\n",
      " -subject_loc <String>\r\n",
      "   Location on the subject sequence in 1-based offsets (Format: start-stop)\r\n",
      "    * Incompatible with:  db, gilist, seqidlist, negative_gilist,\r\n",
      "   db_soft_mask, db_hard_mask, remote\r\n",
      "\r\n",
      " *** Formatting options\r\n",
      " -outfmt <String>\r\n",
      "   alignment view options:\r\n",
      "     0 = Pairwise,\r\n",
      "     1 = Query-anchored showing identities,\r\n",
      "     2 = Query-anchored no identities,\r\n",
      "     3 = Flat query-anchored showing identities,\r\n",
      "     4 = Flat query-anchored no identities,\r\n",
      "     5 = BLAST XML,\r\n",
      "     6 = Tabular,\r\n",
      "     7 = Tabular with comment lines,\r\n",
      "     8 = Seqalign (Text ASN.1),\r\n",
      "     9 = Seqalign (Binary ASN.1),\r\n",
      "    10 = Comma-separated values,\r\n",
      "    11 = BLAST archive (ASN.1),\r\n",
      "    12 = Seqalign (JSON),\r\n",
      "    13 = Multiple-file BLAST JSON,\r\n",
      "    14 = Multiple-file BLAST XML2,\r\n",
      "    15 = Single-file BLAST JSON,\r\n",
      "    16 = Single-file BLAST XML2,\r\n",
      "    17 = Sequence Alignment/Map (SAM),\r\n",
      "    18 = Organism Report\r\n",
      "   \r\n",
      "   Options 6, 7, 10 and 17 can be additionally configured to produce\r\n",
      "   a custom format specified by space delimited format specifiers.\r\n",
      "   The supported format specifiers for options 6, 7 and 10 are:\r\n",
      "   \t    qseqid means Query Seq-id\r\n",
      "   \t       qgi means Query GI\r\n",
      "   \t      qacc means Query accesion\r\n",
      "   \t   qaccver means Query accesion.version\r\n",
      "   \t      qlen means Query sequence length\r\n",
      "   \t    sseqid means Subject Seq-id\r\n",
      "   \t sallseqid means All subject Seq-id(s), separated by a ';'\r\n",
      "   \t       sgi means Subject GI\r\n",
      "   \t    sallgi means All subject GIs\r\n",
      "   \t      sacc means Subject accession\r\n",
      "   \t   saccver means Subject accession.version\r\n",
      "   \t   sallacc means All subject accessions\r\n",
      "   \t      slen means Subject sequence length\r\n",
      "   \t    qstart means Start of alignment in query\r\n",
      "   \t      qend means End of alignment in query\r\n",
      "   \t    sstart means Start of alignment in subject\r\n",
      "   \t      send means End of alignment in subject\r\n",
      "   \t      qseq means Aligned part of query sequence\r\n",
      "   \t      sseq means Aligned part of subject sequence\r\n",
      "   \t    evalue means Expect value\r\n",
      "   \t  bitscore means Bit score\r\n",
      "   \t     score means Raw score\r\n",
      "   \t    length means Alignment length\r\n",
      "   \t    pident means Percentage of identical matches\r\n",
      "   \t    nident means Number of identical matches\r\n",
      "   \t  mismatch means Number of mismatches\r\n",
      "   \t  positive means Number of positive-scoring matches\r\n",
      "   \t   gapopen means Number of gap openings\r\n",
      "   \t      gaps means Total number of gaps\r\n",
      "   \t      ppos means Percentage of positive-scoring matches\r\n",
      "   \t    frames means Query and subject frames separated by a '/'\r\n",
      "   \t    qframe means Query frame\r\n",
      "   \t    sframe means Subject frame\r\n",
      "   \t      btop means Blast traceback operations (BTOP)\r\n",
      "   \t    staxid means Subject Taxonomy ID\r\n",
      "   \t  ssciname means Subject Scientific Name\r\n",
      "   \t  scomname means Subject Common Name\r\n",
      "   \tsblastname means Subject Blast Name\r\n",
      "   \t sskingdom means Subject Super Kingdom\r\n",
      "   \t   staxids means unique Subject Taxonomy ID(s), separated by a ';'\r\n",
      "   \t\t\t (in numerical order)\r\n",
      "   \t sscinames means unique Subject Scientific Name(s), separated by a ';'\r\n",
      "   \t scomnames means unique Subject Common Name(s), separated by a ';'\r\n",
      "   \tsblastnames means unique Subject Blast Name(s), separated by a ';'\r\n",
      "   \t\t\t (in alphabetical order)\r\n",
      "   \tsskingdoms means unique Subject Super Kingdom(s), separated by a ';'\r\n",
      "   \t\t\t (in alphabetical order) \r\n",
      "   \t    stitle means Subject Title\r\n",
      "   \tsalltitles means All Subject Title(s), separated by a '<>'\r\n",
      "   \t   sstrand means Subject Strand\r\n",
      "   \t     qcovs means Query Coverage Per Subject\r\n",
      "   \t   qcovhsp means Query Coverage Per HSP\r\n",
      "   \t    qcovus means Query Coverage Per Unique Subject (blastn only)\r\n",
      "   When not provided, the default value is:\r\n",
      "   'qaccver saccver pident length mismatch gapopen qstart qend sstart send\r\n",
      "   evalue bitscore', which is equivalent to the keyword 'std'\r\n",
      "   The supported format specifier for option 17 is:\r\n",
      "   \t        SQ means Include Sequence Data\r\n",
      "   \t        SR means Subject as Reference Seq\r\n",
      "   Default = `0'\r\n",
      " -show_gis\r\n",
      "   Show NCBI GIs in deflines?\r\n",
      " -num_descriptions <Integer, >=0>\r\n",
      "   Number of database sequences to show one-line descriptions for\r\n",
      "   Not applicable for outfmt > 4\r\n",
      "   Default = `500'\r\n",
      "    * Incompatible with:  max_target_seqs\r\n",
      " -num_alignments <Integer, >=0>\r\n",
      "   Number of database sequences to show alignments for\r\n",
      "   Default = `250'\r\n",
      "    * Incompatible with:  max_target_seqs\r\n",
      " -line_length <Integer, >=1>\r\n",
      "   Line length for formatting alignments\r\n",
      "   Not applicable for outfmt > 4\r\n",
      "   Default = `60'\r\n",
      " -html\r\n",
      "   Produce HTML output?\r\n",
      "\r\n",
      " *** Query filtering options\r\n",
      " -dust <String>\r\n",
      "   Filter query sequence with DUST (Format: 'yes', 'level window linker', or\r\n",
      "   'no' to disable)\r\n",
      "   Default = `20 64 1'\r\n",
      " -filtering_db <String>\r\n",
      "   BLAST database containing filtering elements (i.e.: repeats)\r\n",
      " -window_masker_taxid <Integer>\r\n",
      "   Enable WindowMasker filtering using a Taxonomic ID\r\n",
      " -window_masker_db <String>\r\n",
      "   Enable WindowMasker filtering using this repeats database.\r\n",
      " -soft_masking <Boolean>\r\n",
      "   Apply filtering locations as soft masks\r\n",
      "   Default = `true'\r\n",
      " -lcase_masking\r\n",
      "   Use lower case filtering in query and subject sequence(s)?\r\n",
      "\r\n",
      " *** Restrict search or results\r\n",
      " -gilist <String>\r\n",
      "   Restrict search of database to list of GI's\r\n",
      "    * Incompatible with:  negative_gilist, seqidlist, remote, subject,\r\n",
      "   subject_loc\r\n",
      " -seqidlist <String>\r\n",
      "   Restrict search of database to list of SeqId's\r\n",
      "    * Incompatible with:  gilist, negative_gilist, remote, subject,\r\n",
      "   subject_loc\r\n",
      " -negative_gilist <String>\r\n",
      "   Restrict search of database to everything except the listed GIs\r\n",
      "    * Incompatible with:  gilist, seqidlist, remote, subject, subject_loc\r\n",
      " -entrez_query <String>\r\n",
      "   Restrict search with the given Entrez query\r\n",
      "    * Requires:  remote\r\n",
      " -db_soft_mask <String>\r\n",
      "   Filtering algorithm ID to apply to the BLAST database as soft masking\r\n",
      "    * Incompatible with:  db_hard_mask, subject, subject_loc\r\n",
      " -db_hard_mask <String>\r\n",
      "   Filtering algorithm ID to apply to the BLAST database as hard masking\r\n",
      "    * Incompatible with:  db_soft_mask, subject, subject_loc\r\n",
      " -perc_identity <Real, 0..100>\r\n",
      "   Percent identity\r\n",
      " -qcov_hsp_perc <Real, 0..100>\r\n",
      "   Percent query coverage per hsp\r\n",
      " -max_hsps <Integer, >=1>\r\n",
      "   Set maximum number of HSPs per subject sequence to save for each query\r\n",
      " -culling_limit <Integer, >=0>\r\n",
      "   If the query range of a hit is enveloped by that of at least this many\r\n",
      "   higher-scoring hits, delete the hit\r\n",
      "    * Incompatible with:  best_hit_overhang, best_hit_score_edge\r\n",
      " -best_hit_overhang <Real, (>0 and <0.5)>\r\n",
      "   Best Hit algorithm overhang value (recommended value: 0.1)\r\n",
      "    * Incompatible with:  culling_limit\r\n",
      " -best_hit_score_edge <Real, (>0 and <0.5)>\r\n",
      "   Best Hit algorithm score edge value (recommended value: 0.1)\r\n",
      "    * Incompatible with:  culling_limit\r\n",
      " -max_target_seqs <Integer, >=1>\r\n",
      "   Maximum number of aligned sequences to keep \r\n",
      "   Not applicable for outfmt <= 4\r\n",
      "   Default = `500'\r\n",
      "    * Incompatible with:  num_descriptions, num_alignments\r\n",
      "\r\n",
      " *** Discontiguous MegaBLAST options\r\n",
      " -template_type <String, `coding', `coding_and_optimal', `optimal'>\r\n",
      "   Discontiguous MegaBLAST template type\r\n",
      "    * Requires:  template_length\r\n",
      " -template_length <Integer, Permissible values: '16' '18' '21' >\r\n",
      "   Discontiguous MegaBLAST template length\r\n",
      "    * Requires:  template_type\r\n",
      "\r\n",
      " *** Statistical options\r\n",
      " -dbsize <Int8>\r\n",
      "   Effective length of the database \r\n",
      " -searchsp <Int8, >=0>\r\n",
      "   Effective length of the search space\r\n",
      " -sum_stats <Boolean>\r\n",
      "   Use sum statistics\r\n",
      "\r\n",
      " *** Search strategy options\r\n",
      " -import_search_strategy <File_In>\r\n",
      "   Search strategy to use\r\n",
      "    * Incompatible with:  export_search_strategy\r\n",
      " -export_search_strategy <File_Out>\r\n",
      "   File name to record the search strategy used\r\n",
      "    * Incompatible with:  import_search_strategy\r\n",
      "\r\n",
      " *** Extension options\r\n",
      " -xdrop_ungap <Real>\r\n",
      "   X-dropoff value (in bits) for ungapped extensions\r\n",
      " -xdrop_gap <Real>\r\n",
      "   X-dropoff value (in bits) for preliminary gapped extensions\r\n",
      " -xdrop_gap_final <Real>\r\n",
      "   X-dropoff value (in bits) for final gapped alignment\r\n",
      " -no_greedy\r\n",
      "   Use non-greedy dynamic programming extension\r\n",
      " -min_raw_gapped_score <Integer>\r\n",
      "   Minimum raw gapped score to keep an alignment in the preliminary gapped and\r\n",
      "   traceback stages\r\n",
      " -ungapped\r\n",
      "   Perform ungapped alignment only?\r\n",
      " -window_size <Integer, >=0>\r\n",
      "   Multiple hits window size, use 0 to specify 1-hit algorithm\r\n",
      " -off_diagonal_range <Integer, >=0>\r\n",
      "   Number of off-diagonals to search for the 2nd hit, use 0 to turn off\r\n",
      "   Default = `0'\r\n",
      "\r\n",
      " *** Miscellaneous options\r\n",
      " -parse_deflines\r\n",
      "   Should the query and subject defline(s) be parsed?\r\n",
      " -num_threads <Integer, >=1>\r\n",
      "   Number of threads (CPUs) to use in the BLAST search\r\n",
      "   Default = `1'\r\n",
      "    * Incompatible with:  remote\r\n",
      " -remote\r\n",
      "   Execute search remotely?\r\n",
      "    * Incompatible with:  gilist, seqidlist, negative_gilist, subject_loc,\r\n",
      "   num_threads\r\n",
      "\r\n"
     ]
    }
   ],
   "source": [
    "!blastn -help\n"
   ]
  },
  {
   "cell_type": "code",
   "execution_count": 3,
   "metadata": {},
   "outputs": [
    {
     "name": "stdout",
     "output_type": "stream",
     "text": [
      "/bin/sh: 1: trinotator: not found\r\n"
     ]
    }
   ],
   "source": [
    "!trinotator -help"
   ]
  },
  {
   "cell_type": "code",
   "execution_count": null,
   "metadata": {},
   "outputs": [],
   "source": []
  }
 ],
 "metadata": {
  "kernelspec": {
   "display_name": "Python 3",
   "language": "python",
   "name": "python3"
  },
  "language_info": {
   "codemirror_mode": {
    "name": "ipython",
    "version": 3
   },
   "file_extension": ".py",
   "mimetype": "text/x-python",
   "name": "python",
   "nbconvert_exporter": "python",
   "pygments_lexer": "ipython3",
   "version": "3.6.3"
  }
 },
 "nbformat": 4,
 "nbformat_minor": 1
}
