{
 "cells": [
  {
   "cell_type": "markdown",
   "metadata": {},
   "source": [
    "# Bitácora para manejo de archivos y sistema operativo"
   ]
  },
  {
   "cell_type": "code",
   "execution_count": 1,
   "metadata": {},
   "outputs": [
    {
     "data": {
      "text/plain": [
       "'C:\\\\Users\\\\SALA GRAL\\\\Desktop\\\\bioinformatica_aplicada\\\\jupyter'"
      ]
     },
     "execution_count": 1,
     "metadata": {},
     "output_type": "execute_result"
    }
   ],
   "source": [
    "pwd # directorio de trabajo"
   ]
  },
  {
   "cell_type": "markdown",
   "metadata": {
    "collapsed": true
   },
   "source": [
    "#### cambio de directorio al \"home\""
   ]
  },
  {
   "cell_type": "code",
   "execution_count": 2,
   "metadata": {},
   "outputs": [
    {
     "name": "stdout",
     "output_type": "stream",
     "text": [
      "C:\\Users\\SALA GRAL\n"
     ]
    }
   ],
   "source": [
    "cd"
   ]
  },
  {
   "cell_type": "code",
   "execution_count": 3,
   "metadata": {},
   "outputs": [
    {
     "name": "stdout",
     "output_type": "stream",
     "text": [
      "C:\\Users\\SALA GRAL\\Desktop\n"
     ]
    }
   ],
   "source": [
    "cd Desktop/"
   ]
  },
  {
   "cell_type": "code",
   "execution_count": 4,
   "metadata": {},
   "outputs": [
    {
     "name": "stdout",
     "output_type": "stream",
     "text": [
      " El volumen de la unidad C no tiene etiqueta.\n",
      " El número de serie del volumen es: B09C-5CE4\n",
      "\n",
      " Directorio de C:\\Users\\SALA GRAL\\Desktop\n",
      "\n",
      "09/01/2018  10:48 a. m.    <DIR>          .\n",
      "09/01/2018  10:48 a. m.    <DIR>          ..\n",
      "09/01/2018  01:51 p. m.    <DIR>          bioinformatica_aplicada\n",
      "26/07/2017  05:50 p. m.             2,171 ESET Endpoint Antivirus.lnk\n",
      "26/07/2017  06:24 p. m.             2,648 Excel 2016.lnk\n",
      "09/01/2018  10:48 a. m.             2,441 GitHub Desktop.lnk\n",
      "08/01/2018  09:00 a. m.    <DIR>          Lupita Mtto\n",
      "11/09/2017  04:30 p. m.             1,638 Photoshop - Acceso directo.lnk\n",
      "26/07/2017  06:25 p. m.             2,642 PowerPoint 2016.lnk\n",
      "09/01/2018  09:48 a. m.    <DIR>          presentaciones\n",
      "26/07/2017  06:24 p. m.             2,656 Word 2016.lnk\n",
      "               6 archivos         14,196 bytes\n",
      "               5 dirs   9,541,787,648 bytes libres\n"
     ]
    }
   ],
   "source": [
    "ls"
   ]
  },
  {
   "cell_type": "markdown",
   "metadata": {},
   "source": [
    "## Describir comandos\n",
    "### pwd cd ls\n"
   ]
  },
  {
   "cell_type": "markdown",
   "metadata": {},
   "source": [
    "#### crear un directorio nuevo"
   ]
  },
  {
   "cell_type": "raw",
   "metadata": {
    "collapsed": true
   },
   "source": [
    "mkdir bioinformatica_aplicada"
   ]
  },
  {
   "cell_type": "markdown",
   "metadata": {},
   "source": [
    "### listado de archivos en el directorio"
   ]
  },
  {
   "cell_type": "code",
   "execution_count": 6,
   "metadata": {},
   "outputs": [
    {
     "name": "stdout",
     "output_type": "stream",
     "text": [
      " El volumen de la unidad C no tiene etiqueta.\n",
      " El número de serie del volumen es: B09C-5CE4\n",
      "\n",
      " Directorio de C:\\Users\\SALA GRAL\\Desktop\n",
      "\n",
      "09/01/2018  10:48 a. m.    <DIR>          .\n",
      "09/01/2018  10:48 a. m.    <DIR>          ..\n",
      "09/01/2018  01:51 p. m.    <DIR>          bioinformatica_aplicada\n",
      "26/07/2017  05:50 p. m.             2,171 ESET Endpoint Antivirus.lnk\n",
      "26/07/2017  06:24 p. m.             2,648 Excel 2016.lnk\n",
      "09/01/2018  10:48 a. m.             2,441 GitHub Desktop.lnk\n",
      "08/01/2018  09:00 a. m.    <DIR>          Lupita Mtto\n",
      "11/09/2017  04:30 p. m.             1,638 Photoshop - Acceso directo.lnk\n",
      "26/07/2017  06:25 p. m.             2,642 PowerPoint 2016.lnk\n",
      "09/01/2018  09:48 a. m.    <DIR>          presentaciones\n",
      "26/07/2017  06:24 p. m.             2,656 Word 2016.lnk\n",
      "               6 archivos         14,196 bytes\n",
      "               5 dirs   9,541,447,680 bytes libres\n"
     ]
    }
   ],
   "source": [
    "ls"
   ]
  },
  {
   "cell_type": "code",
   "execution_count": null,
   "metadata": {
    "collapsed": true
   },
   "outputs": [],
   "source": [
    "cd bioinformatica_aplicada"
   ]
  },
  {
   "cell_type": "raw",
   "metadata": {},
   "source": [
    "mkdir data"
   ]
  },
  {
   "cell_type": "code",
   "execution_count": 7,
   "metadata": {},
   "outputs": [
    {
     "name": "stdout",
     "output_type": "stream",
     "text": [
      "C:\\Users\\SALA GRAL\\Desktop\\bioinformatica_aplicada\\data\n"
     ]
    }
   ],
   "source": [
    "cd bioinformatica_aplicada/data/"
   ]
  },
  {
   "cell_type": "markdown",
   "metadata": {},
   "source": [
    "## Cambio de directorio data que se encuentra en bioinformatica aplicada"
   ]
  },
  {
   "cell_type": "code",
   "execution_count": 8,
   "metadata": {},
   "outputs": [
    {
     "name": "stdout",
     "output_type": "stream",
     "text": [
      " El volumen de la unidad C no tiene etiqueta.\n",
      " El número de serie del volumen es: B09C-5CE4\n",
      "\n",
      " Directorio de C:\\Users\\SALA GRAL\\Desktop\\bioinformatica_aplicada\\data\n",
      "\n",
      "08/01/2018  12:59 p. m.    <DIR>          .\n",
      "08/01/2018  12:59 p. m.    <DIR>          ..\n",
      "08/01/2018  04:43 p. m.    <DIR>          ab1\n",
      "15/11/2017  11:16 a. m.         1,453,116 ab1.zip\n",
      "14/12/2017  10:39 a. m.    <DIR>          ab1_2\n",
      "10/10/2017  01:01 p. m.               823 bacteria_NR_043902.fa\n",
      "08/01/2018  12:59 p. m.    <DIR>          ejercicio1\n",
      "08/01/2018  03:23 p. m.    <DIR>          fasta\n",
      "04/01/2018  12:44 p. m.    <DIR>          genbank\n",
      "14/12/2017  11:45 a. m.    <DIR>          img\n",
      "04/01/2018  01:07 p. m.    <DIR>          secmas\n",
      "14/12/2017  10:39 a. m.    <DIR>          secuencias\n",
      "14/12/2017  11:48 a. m.    <DIR>          seq\n",
      "15/11/2017  11:13 a. m.            13,894 seq.zip\n",
      "               3 archivos      1,467,833 bytes\n",
      "              11 dirs   9,541,251,072 bytes libres\n"
     ]
    }
   ],
   "source": [
    "ls"
   ]
  },
  {
   "cell_type": "code",
   "execution_count": 9,
   "metadata": {},
   "outputs": [
    {
     "data": {
      "text/plain": [
       "'C:\\\\Users\\\\SALA GRAL\\\\Desktop\\\\bioinformatica_aplicada\\\\data'"
      ]
     },
     "execution_count": 9,
     "metadata": {},
     "output_type": "execute_result"
    }
   ],
   "source": [
    "pwd"
   ]
  },
  {
   "cell_type": "markdown",
   "metadata": {},
   "source": [
    "### cambiar a un directorio superior (regresar a un directorio)"
   ]
  },
  {
   "cell_type": "code",
   "execution_count": 10,
   "metadata": {},
   "outputs": [
    {
     "name": "stdout",
     "output_type": "stream",
     "text": [
      "C:\\Users\\SALA GRAL\\Desktop\\bioinformatica_aplicada\n"
     ]
    }
   ],
   "source": [
    "cd .."
   ]
  },
  {
   "cell_type": "code",
   "execution_count": 11,
   "metadata": {},
   "outputs": [
    {
     "name": "stdout",
     "output_type": "stream",
     "text": [
      "C:\\Users\\SALA GRAL\\Desktop\n"
     ]
    }
   ],
   "source": [
    "cd .."
   ]
  },
  {
   "cell_type": "code",
   "execution_count": 12,
   "metadata": {},
   "outputs": [
    {
     "name": "stdout",
     "output_type": "stream",
     "text": [
      "C:\\Users\\SALA GRAL\\Desktop\\bioinformatica_aplicada\n"
     ]
    }
   ],
   "source": [
    "cd bioinformatica_aplicada/"
   ]
  },
  {
   "cell_type": "code",
   "execution_count": 13,
   "metadata": {},
   "outputs": [
    {
     "name": "stdout",
     "output_type": "stream",
     "text": [
      " El volumen de la unidad C no tiene etiqueta.\n",
      " El número de serie del volumen es: B09C-5CE4\n",
      "\n",
      " Directorio de C:\\Users\\SALA GRAL\\Desktop\\bioinformatica_aplicada\n",
      "\n",
      "09/01/2018  01:51 p. m.    <DIR>          .\n",
      "09/01/2018  01:51 p. m.    <DIR>          ..\n",
      "09/01/2018  01:51 p. m.    <DIR>          articulos_pdf\n",
      "04/01/2018  12:39 p. m.    <DIR>          bigdata\n",
      "08/01/2018  12:28 p. m.    <DIR>          bioinformatica_aplicada\n",
      "08/01/2018  12:59 p. m.    <DIR>          data\n",
      "09/01/2018  10:53 a. m.    <DIR>          github\n",
      "14/12/2017  10:38 a. m.    <DIR>          img\n",
      "09/01/2018  04:24 p. m.    <DIR>          jupyter\n",
      "08/01/2018  03:10 p. m.    <DIR>          programas\n",
      "14/12/2017  11:37 a. m.    <DIR>          sistema_operativo\n",
      "               0 archivos              0 bytes\n",
      "              11 dirs   9,540,714,496 bytes libres\n"
     ]
    }
   ],
   "source": [
    "ls"
   ]
  },
  {
   "cell_type": "markdown",
   "metadata": {},
   "source": [
    "### dirección relativa"
   ]
  },
  {
   "cell_type": "code",
   "execution_count": 14,
   "metadata": {},
   "outputs": [
    {
     "name": "stdout",
     "output_type": "stream",
     "text": [
      " El volumen de la unidad C no tiene etiqueta.\n",
      " El número de serie del volumen es: B09C-5CE4\n",
      "\n",
      " Directorio de C:\\Users\\SALA GRAL\\Desktop\n",
      "\n",
      "09/01/2018  10:48 a. m.    <DIR>          .\n",
      "09/01/2018  10:48 a. m.    <DIR>          ..\n",
      "09/01/2018  01:51 p. m.    <DIR>          bioinformatica_aplicada\n",
      "26/07/2017  05:50 p. m.             2,171 ESET Endpoint Antivirus.lnk\n",
      "26/07/2017  06:24 p. m.             2,648 Excel 2016.lnk\n",
      "09/01/2018  10:48 a. m.             2,441 GitHub Desktop.lnk\n",
      "08/01/2018  09:00 a. m.    <DIR>          Lupita Mtto\n",
      "11/09/2017  04:30 p. m.             1,638 Photoshop - Acceso directo.lnk\n",
      "26/07/2017  06:25 p. m.             2,642 PowerPoint 2016.lnk\n",
      "09/01/2018  09:48 a. m.    <DIR>          presentaciones\n",
      "26/07/2017  06:24 p. m.             2,656 Word 2016.lnk\n",
      "               6 archivos         14,196 bytes\n",
      "               5 dirs   9,540,583,424 bytes libres\n"
     ]
    }
   ],
   "source": [
    "ls .."
   ]
  },
  {
   "cell_type": "code",
   "execution_count": 15,
   "metadata": {},
   "outputs": [
    {
     "name": "stdout",
     "output_type": "stream",
     "text": [
      "C:\\Users\\SALA GRAL\\Desktop\\bioinformatica_aplicada\\bioinformatica_aplicada\\data\n"
     ]
    }
   ],
   "source": [
    "cd bioinformatica_aplicada/data/"
   ]
  },
  {
   "cell_type": "code",
   "execution_count": 16,
   "metadata": {},
   "outputs": [
    {
     "name": "stdout",
     "output_type": "stream",
     "text": [
      " El volumen de la unidad C no tiene etiqueta.\n",
      " El número de serie del volumen es: B09C-5CE4\n",
      "\n",
      " Directorio de C:\\Users\\SALA GRAL\\Desktop\\bioinformatica_aplicada\\bioinformatica_aplicada\\data\n",
      "\n",
      "08/01/2018  12:28 p. m.    <DIR>          .\n",
      "08/01/2018  12:28 p. m.    <DIR>          ..\n",
      "08/01/2018  12:28 p. m.            10,244 .DS_Store\n",
      "08/01/2018  12:28 p. m.    <DIR>          fasta\n",
      "08/01/2018  12:28 p. m.    <DIR>          genbank\n",
      "08/01/2018  12:28 p. m.               276 README.md\n",
      "               2 archivos         10,520 bytes\n",
      "               4 dirs   9,539,534,848 bytes libres\n"
     ]
    }
   ],
   "source": [
    "ls"
   ]
  },
  {
   "cell_type": "code",
   "execution_count": 19,
   "metadata": {},
   "outputs": [
    {
     "name": "stdout",
     "output_type": "stream",
     "text": [
      "C:\\Users\\SALA GRAL\\Desktop\\bioinformatica_aplicada\n"
     ]
    }
   ],
   "source": [
    "cd .."
   ]
  },
  {
   "cell_type": "code",
   "execution_count": 20,
   "metadata": {},
   "outputs": [
    {
     "name": "stdout",
     "output_type": "stream",
     "text": [
      " El volumen de la unidad C no tiene etiqueta.\n",
      " El número de serie del volumen es: B09C-5CE4\n",
      "\n",
      " Directorio de C:\\Users\\SALA GRAL\\Desktop\\bioinformatica_aplicada\n",
      "\n",
      "09/01/2018  01:51 p. m.    <DIR>          .\n",
      "09/01/2018  01:51 p. m.    <DIR>          ..\n",
      "09/01/2018  01:51 p. m.    <DIR>          articulos_pdf\n",
      "04/01/2018  12:39 p. m.    <DIR>          bigdata\n",
      "08/01/2018  12:28 p. m.    <DIR>          bioinformatica_aplicada\n",
      "08/01/2018  12:59 p. m.    <DIR>          data\n",
      "09/01/2018  10:53 a. m.    <DIR>          github\n",
      "14/12/2017  10:38 a. m.    <DIR>          img\n",
      "09/01/2018  04:28 p. m.    <DIR>          jupyter\n",
      "08/01/2018  03:10 p. m.    <DIR>          programas\n",
      "14/12/2017  11:37 a. m.    <DIR>          sistema_operativo\n",
      "               0 archivos              0 bytes\n",
      "              11 dirs   9,539,518,464 bytes libres\n"
     ]
    }
   ],
   "source": [
    "ls "
   ]
  },
  {
   "cell_type": "code",
   "execution_count": 23,
   "metadata": {},
   "outputs": [
    {
     "name": "stdout",
     "output_type": "stream",
     "text": [
      "[WinError 2] El sistema no puede encontrar el archivo especificado: 'img/'\n",
      "C:\\Users\\SALA GRAL\\Desktop\\bioinformatica_aplicada\\img\n"
     ]
    }
   ],
   "source": [
    "cd img/"
   ]
  },
  {
   "cell_type": "markdown",
   "metadata": {},
   "source": [
    "### cambiar a un directorio con dirección relativa"
   ]
  },
  {
   "cell_type": "code",
   "execution_count": 25,
   "metadata": {},
   "outputs": [
    {
     "name": "stdout",
     "output_type": "stream",
     "text": [
      "C:\\Users\\SALA GRAL\\Desktop\\bioinformatica_aplicada\\data\\ab1\n"
     ]
    }
   ],
   "source": [
    "cd ../data/ab1/"
   ]
  },
  {
   "cell_type": "markdown",
   "metadata": {
    "collapsed": true
   },
   "source": [
    "#### cambiar directorio con direccion absoluta"
   ]
  },
  {
   "cell_type": "code",
   "execution_count": 26,
   "metadata": {},
   "outputs": [
    {
     "name": "stdout",
     "output_type": "stream",
     "text": [
      "C:\\Users\\SALA GRAL\\Desktop\\bioinformatica_aplicada\\data\n"
     ]
    }
   ],
   "source": [
    "cd /Users/SALA GRAL/Desktop/bioinformatica_aplicada/data"
   ]
  },
  {
   "cell_type": "code",
   "execution_count": 27,
   "metadata": {},
   "outputs": [
    {
     "name": "stdout",
     "output_type": "stream",
     "text": [
      "C:\\Users\\SALA GRAL\\Desktop\\bioinformatica_aplicada\n"
     ]
    }
   ],
   "source": [
    "cd ~/Desktop/bioinformatica_aplicada/"
   ]
  },
  {
   "cell_type": "code",
   "execution_count": 28,
   "metadata": {},
   "outputs": [
    {
     "name": "stdout",
     "output_type": "stream",
     "text": [
      "C:\\Users\\SALA GRAL\n"
     ]
    }
   ],
   "source": [
    "cd"
   ]
  },
  {
   "cell_type": "markdown",
   "metadata": {},
   "source": [
    "### Utilice Markdown y explique en la siguiente celda para qué sirve la virgulilla \"~\" al inicio de una cadena de directorios y archivo?"
   ]
  },
  {
   "cell_type": "code",
   "execution_count": 29,
   "metadata": {},
   "outputs": [
    {
     "name": "stdout",
     "output_type": "stream",
     "text": [
      "C:\\Users\\SALA GRAL\n"
     ]
    }
   ],
   "source": [
    "cd ~"
   ]
  },
  {
   "cell_type": "code",
   "execution_count": 30,
   "metadata": {},
   "outputs": [
    {
     "name": "stdout",
     "output_type": "stream",
     "text": [
      "C:\\Users\\SALA GRAL\\Desktop\n"
     ]
    }
   ],
   "source": [
    "cd \"C:/Users/SALA GRAL/Desktop\""
   ]
  },
  {
   "cell_type": "code",
   "execution_count": 33,
   "metadata": {},
   "outputs": [
    {
     "name": "stdout",
     "output_type": "stream",
     "text": [
      " El volumen de la unidad C no tiene etiqueta.\n",
      " El número de serie del volumen es: B09C-5CE4\n",
      "\n",
      " Directorio de C:\\Users\\SALA GRAL\\Desktop\\bioinformatica_aplicada\\data\\ab1\n",
      "\n",
      "08/01/2018  04:43 p. m.    <DIR>          .\n",
      "08/01/2018  04:43 p. m.    <DIR>          ..\n",
      "27/08/2014  10:55 a. m.           185,080 Nav1.2_(B9)-DG7A_E12_010.ab1\n",
      "27/08/2014  10:37 a. m.           184,346 Nav1.2_(D10)-RW01_F03_011.ab1\n",
      "27/08/2014  10:55 a. m.           184,570 Nav1.8_(B11)-DG7A_G12_014.ab1\n",
      "27/08/2014  10:37 a. m.           185,174 Nav1.8_(D12)-RW01_H03_015.ab1\n",
      "27/08/2014  10:55 a. m.           184,581 Nav2.2_(B10)-DG7A_F12_012.ab1\n",
      "27/08/2014  10:37 a. m.           186,928 Nav2.2_(D11)-RW01_G03_013.ab1\n",
      "08/01/2018  05:11 p. m.            37,776 PET1.2_(A1)-DG7A.scf\n",
      "27/08/2014  10:52 a. m.           212,099 PET1.2_(A1)-DG7A_A10_002.ab1\n",
      "08/01/2018  05:10 p. m.            37,124 PET1.2_(C2)-RW01.scf\n",
      "27/08/2014  10:58 a. m.           184,666 PET1.2_(C2)-RW01_B01_003.ab1\n",
      "27/08/2014  10:55 a. m.           184,420 PET1.8_(A12)-DG7A_D11_007.ab1\n",
      "27/08/2014  10:58 a. m.           184,578 PET1.8_(D1)-RW01_E02_010.ab1\n",
      "27/08/2014  10:52 a. m.           212,255 PET2.2_(A2)-DG7A_B10_004.ab1\n",
      "27/08/2014  10:58 a. m.           184,745 PET2.2_(C3)-RW01_C01_005.ab1\n",
      "27/08/2014  10:55 a. m.           184,838 PET2.8_(B1)-DG7A_E11_009.ab1\n",
      "27/08/2014  10:58 a. m.           184,853 PET2.8_(D2)-RW01_F02_012.ab1\n",
      "27/08/2014  10:52 a. m.           212,206 PETsn1.2_(A3)-DG7A_C10_006.ab1\n",
      "27/08/2014  10:58 a. m.           184,707 PETsn1.2_(C4)-RW01_D01_007.ab1\n",
      "27/08/2014  10:55 a. m.           185,018 PETsn1.8_(B2)-DG7A_F11_011.ab1\n",
      "27/08/2014  10:58 a. m.           187,081 PETsn1.8_(D3)-RW01_G02_014.ab1\n",
      "27/08/2014  10:52 a. m.           208,401 PHBb1.2_(A8)-DG7A_H10_016.ab1\n",
      "27/08/2014  10:58 a. m.           182,902 PHBb1.2_(C9)-RW01_A02_002.ab1\n",
      "08/01/2018  05:20 p. m.    <DIR>          secuencias_consenso\n",
      "              22 archivos      3,878,348 bytes\n",
      "               3 dirs   9,562,337,280 bytes libres\n"
     ]
    }
   ],
   "source": [
    "ls \"bioinformatica_aplicada/data/ab1/\""
   ]
  },
  {
   "cell_type": "code",
   "execution_count": null,
   "metadata": {
    "collapsed": true
   },
   "outputs": [],
   "source": [
    "\"\" '' \"''\""
   ]
  },
  {
   "cell_type": "markdown",
   "metadata": {
    "collapsed": true
   },
   "source": [
    "### directorio de trabajo"
   ]
  },
  {
   "cell_type": "code",
   "execution_count": 34,
   "metadata": {},
   "outputs": [
    {
     "data": {
      "text/plain": [
       "'C:\\\\Users\\\\SALA GRAL\\\\Desktop'"
      ]
     },
     "execution_count": 34,
     "metadata": {},
     "output_type": "execute_result"
    }
   ],
   "source": [
    "pwd"
   ]
  },
  {
   "cell_type": "code",
   "execution_count": 35,
   "metadata": {},
   "outputs": [
    {
     "name": "stdout",
     "output_type": "stream",
     "text": [
      "C:\\Users\\SALA GRAL\\Desktop\\bioinformatica_aplicada\\data\\ab1\n"
     ]
    }
   ],
   "source": [
    "cd bioinformatica_aplicada/data/ab1/"
   ]
  },
  {
   "cell_type": "code",
   "execution_count": 36,
   "metadata": {},
   "outputs": [
    {
     "name": "stdout",
     "output_type": "stream",
     "text": [
      " El volumen de la unidad C no tiene etiqueta.\n",
      " El número de serie del volumen es: B09C-5CE4\n",
      "\n",
      " Directorio de C:\\Users\\SALA GRAL\\Desktop\\bioinformatica_aplicada\\data\\ab1\n",
      "\n",
      "08/01/2018  04:43 p. m.    <DIR>          .\n",
      "08/01/2018  04:43 p. m.    <DIR>          ..\n",
      "27/08/2014  10:55 a. m.           185,080 Nav1.2_(B9)-DG7A_E12_010.ab1\n",
      "27/08/2014  10:37 a. m.           184,346 Nav1.2_(D10)-RW01_F03_011.ab1\n",
      "27/08/2014  10:55 a. m.           184,570 Nav1.8_(B11)-DG7A_G12_014.ab1\n",
      "27/08/2014  10:37 a. m.           185,174 Nav1.8_(D12)-RW01_H03_015.ab1\n",
      "27/08/2014  10:55 a. m.           184,581 Nav2.2_(B10)-DG7A_F12_012.ab1\n",
      "27/08/2014  10:37 a. m.           186,928 Nav2.2_(D11)-RW01_G03_013.ab1\n",
      "08/01/2018  05:11 p. m.            37,776 PET1.2_(A1)-DG7A.scf\n",
      "27/08/2014  10:52 a. m.           212,099 PET1.2_(A1)-DG7A_A10_002.ab1\n",
      "08/01/2018  05:10 p. m.            37,124 PET1.2_(C2)-RW01.scf\n",
      "27/08/2014  10:58 a. m.           184,666 PET1.2_(C2)-RW01_B01_003.ab1\n",
      "27/08/2014  10:55 a. m.           184,420 PET1.8_(A12)-DG7A_D11_007.ab1\n",
      "27/08/2014  10:58 a. m.           184,578 PET1.8_(D1)-RW01_E02_010.ab1\n",
      "27/08/2014  10:52 a. m.           212,255 PET2.2_(A2)-DG7A_B10_004.ab1\n",
      "27/08/2014  10:58 a. m.           184,745 PET2.2_(C3)-RW01_C01_005.ab1\n",
      "27/08/2014  10:55 a. m.           184,838 PET2.8_(B1)-DG7A_E11_009.ab1\n",
      "27/08/2014  10:58 a. m.           184,853 PET2.8_(D2)-RW01_F02_012.ab1\n",
      "27/08/2014  10:52 a. m.           212,206 PETsn1.2_(A3)-DG7A_C10_006.ab1\n",
      "27/08/2014  10:58 a. m.           184,707 PETsn1.2_(C4)-RW01_D01_007.ab1\n",
      "27/08/2014  10:55 a. m.           185,018 PETsn1.8_(B2)-DG7A_F11_011.ab1\n",
      "27/08/2014  10:58 a. m.           187,081 PETsn1.8_(D3)-RW01_G02_014.ab1\n",
      "27/08/2014  10:52 a. m.           208,401 PHBb1.2_(A8)-DG7A_H10_016.ab1\n",
      "27/08/2014  10:58 a. m.           182,902 PHBb1.2_(C9)-RW01_A02_002.ab1\n",
      "08/01/2018  05:20 p. m.    <DIR>          secuencias_consenso\n",
      "              22 archivos      3,878,348 bytes\n",
      "               3 dirs   9,559,277,568 bytes libres\n"
     ]
    }
   ],
   "source": [
    "ls"
   ]
  },
  {
   "cell_type": "code",
   "execution_count": 37,
   "metadata": {},
   "outputs": [
    {
     "name": "stdout",
     "output_type": "stream",
     "text": [
      "C:\\Users\\SALA GRAL\\Desktop\n"
     ]
    }
   ],
   "source": [
    "cd \"C:/Users/SALA GRAL/Desktop\""
   ]
  },
  {
   "cell_type": "code",
   "execution_count": 38,
   "metadata": {},
   "outputs": [
    {
     "name": "stdout",
     "output_type": "stream",
     "text": [
      "C:\\Users\\SALA GRAL\\Desktop\\bioinformatica_aplicada\\data\n"
     ]
    }
   ],
   "source": [
    "cd bioinformatica_aplicada/data/"
   ]
  },
  {
   "cell_type": "code",
   "execution_count": 39,
   "metadata": {},
   "outputs": [
    {
     "name": "stdout",
     "output_type": "stream",
     "text": [
      " El volumen de la unidad C no tiene etiqueta.\n",
      " El número de serie del volumen es: B09C-5CE4\n",
      "\n",
      " Directorio de C:\\Users\\SALA GRAL\\Desktop\\bioinformatica_aplicada\\data\\fasta\n",
      "\n",
      "08/01/2018  03:23 p. m.    <DIR>          .\n",
      "08/01/2018  03:23 p. m.    <DIR>          ..\n",
      "08/01/2018  03:18 p. m.                46 DG74.fa.txt\n",
      "08/01/2018  03:23 p. m.             1,629 J01859_Escherichia_coli16S.fasta\n",
      "04/01/2018  11:21 a. m.               347 Nav1.2_(B9)-DG7A_E12_010.fasta\n",
      "04/01/2018  11:21 a. m.               346 Nav1.2_(D10)-RW01_F03_011.fasta\n",
      "04/01/2018  11:19 a. m.               347 Nav1.2F.fa\n",
      "15/11/2017  02:36 p. m.               323 Nav1.2F.fasta\n",
      "15/11/2017  02:36 p. m.               321 Nav1.2R.fasta\n",
      "04/01/2018  11:21 a. m.               349 Nav1.8_(B11)-DG7A_G12_014.fasta\n",
      "04/01/2018  11:21 a. m.               343 Nav1.8_(D12)-RW01_H03_015.fasta\n",
      "15/11/2017  02:36 p. m.               324 Nav1.8F.fasta\n",
      "15/11/2017  02:36 p. m.               318 Nav1.8R.fasta\n",
      "04/01/2018  11:21 a. m.               363 Nav2.2_(B10)-DG7A_F12_012.fasta\n",
      "04/01/2018  11:21 a. m.               344 Nav2.2_(D11)-RW01_G03_013.fasta\n",
      "15/11/2017  02:36 p. m.               338 Nav2.2F.fasta\n",
      "15/11/2017  02:36 p. m.               319 Nav2.2R.fasta\n",
      "04/01/2018  11:21 a. m.               345 PET1.2_(A1)-DG7A_A10_002.fasta\n",
      "04/01/2018  11:21 a. m.               351 PET1.2_(C2)-RW01_B01_003.fasta\n",
      "15/11/2017  02:36 p. m.               321 PET1.2F.fasta\n",
      "15/11/2017  02:36 p. m.               327 PET1.2R.fasta\n",
      "04/01/2018  11:21 a. m.               343 PET1.8_(A12)-DG7A_D11_007.fasta\n",
      "04/01/2018  11:21 a. m.               370 PET1.8_(D1)-RW01_E02_010.fasta\n",
      "15/11/2017  02:36 p. m.               318 PET1.8F.fasta\n",
      "15/11/2017  02:36 p. m.               346 PET1.8R.fasta\n",
      "04/01/2018  11:21 a. m.               364 PET2.2_(A2)-DG7A_B10_004.fasta\n",
      "04/01/2018  11:21 a. m.               336 PET2.2_(C3)-RW01_C01_005.fasta\n",
      "15/11/2017  02:36 p. m.               340 PET2.2F.fasta\n",
      "15/11/2017  02:36 p. m.               313 PET2.2R.fasta\n",
      "04/01/2018  11:21 a. m.               362 PET2.8_(B1)-DG7A_E11_009.fasta\n",
      "04/01/2018  11:21 a. m.               343 PET2.8_(D2)-RW01_F02_012.fasta\n",
      "15/11/2017  02:36 p. m.               338 PET2.8F.fasta\n",
      "15/11/2017  02:36 p. m.               319 PET2.8R.fasta\n",
      "04/01/2018  11:21 a. m.               345 PETsn1.2_(A3)-DG7A_C10_006.fasta\n",
      "04/01/2018  11:21 a. m.               347 PETsn1.2_(C4)-RW01_D01_007.fasta\n",
      "15/11/2017  02:36 p. m.               321 PETsn1.2F.fasta\n",
      "15/11/2017  02:36 p. m.               323 PETsn1.2R.fasta\n",
      "04/01/2018  11:21 a. m.               385 PETsn1.8_(B2)-DG7A_F11_011.fasta\n",
      "04/01/2018  11:21 a. m.               343 PETsn1.8_(D3)-RW01_G02_014.fasta\n",
      "15/11/2017  02:36 p. m.               361 PETsn1.8F.fasta\n",
      "15/11/2017  02:36 p. m.               319 PETsn1.8R.fasta\n",
      "04/01/2018  11:21 a. m.               327 PHBb1.2_(A8)-DG7A_H10_016.fasta\n",
      "04/01/2018  11:21 a. m.               331 PHBb1.2_(C9)-RW01_A02_002.fasta\n",
      "15/11/2017  02:36 p. m.               304 PHBb1.2F.fasta\n",
      "15/11/2017  02:36 p. m.               308 PHBb1.2R.fasta\n",
      "08/01/2018  03:21 p. m.                48 RW01.fa\n",
      "04/01/2018  11:27 a. m.             7,220 secuencias.fasta\n",
      "03/01/2018  04:01 p. m.            25,181 secuencias.tab\n",
      "04/01/2018  11:33 a. m.            10,641 secuencias_alinear.aln\n",
      "04/01/2018  11:33 a. m.               626 secuencias_alinear.dnd\n",
      "27/11/2017  12:39 p. m.             6,626 secuencias_alinear.fasta\n",
      "04/01/2018  11:06 a. m.               971 secuencias_especies.csv\n",
      "              50 archivos         66,820 bytes\n",
      "               2 dirs   9,558,138,880 bytes libres\n"
     ]
    }
   ],
   "source": [
    "ls \"fasta/\""
   ]
  },
  {
   "cell_type": "markdown",
   "metadata": {},
   "source": [
    "### Explique qué hizo el comando anterior. Dé formato a su texto, use itálicas, negritas, encabezado y subrayado  "
   ]
  },
  {
   "cell_type": "markdown",
   "metadata": {
    "collapsed": true
   },
   "source": []
  },
  {
   "cell_type": "code",
   "execution_count": null,
   "metadata": {
    "collapsed": true
   },
   "outputs": [],
   "source": [
    "cd fasta/"
   ]
  },
  {
   "cell_type": "code",
   "execution_count": null,
   "metadata": {
    "collapsed": true
   },
   "outputs": [],
   "source": [
    "ls ../seq/"
   ]
  },
  {
   "cell_type": "code",
   "execution_count": null,
   "metadata": {
    "collapsed": true
   },
   "outputs": [],
   "source": [
    "ls \"../seq/\""
   ]
  },
  {
   "cell_type": "code",
   "execution_count": null,
   "metadata": {
    "collapsed": true
   },
   "outputs": [],
   "source": [
    "cd .."
   ]
  },
  {
   "cell_type": "code",
   "execution_count": null,
   "metadata": {
    "collapsed": true
   },
   "outputs": [],
   "source": [
    "ls"
   ]
  },
  {
   "cell_type": "code",
   "execution_count": null,
   "metadata": {
    "collapsed": true
   },
   "outputs": [],
   "source": [
    "cd .."
   ]
  },
  {
   "cell_type": "markdown",
   "metadata": {},
   "source": [
    "### crear el directorio \"sistema_operativo\""
   ]
  },
  {
   "cell_type": "raw",
   "metadata": {
    "collapsed": true
   },
   "source": [
    "mkdir sistema_operativo"
   ]
  },
  {
   "cell_type": "code",
   "execution_count": null,
   "metadata": {
    "collapsed": true,
    "scrolled": true
   },
   "outputs": [],
   "source": [
    "ls"
   ]
  },
  {
   "cell_type": "code",
   "execution_count": null,
   "metadata": {
    "collapsed": true
   },
   "outputs": [],
   "source": [
    "cd sistema_operativo/"
   ]
  },
  {
   "cell_type": "markdown",
   "metadata": {},
   "source": [
    "### copia archivos entre directorios"
   ]
  },
  {
   "cell_type": "code",
   "execution_count": null,
   "metadata": {
    "collapsed": true
   },
   "outputs": [],
   "source": [
    "ls \"../data/seq/\""
   ]
  },
  {
   "cell_type": "code",
   "execution_count": null,
   "metadata": {
    "collapsed": true
   },
   "outputs": [],
   "source": [
    "pwd"
   ]
  },
  {
   "cell_type": "code",
   "execution_count": null,
   "metadata": {
    "collapsed": true
   },
   "outputs": [],
   "source": [
    "ls"
   ]
  },
  {
   "cell_type": "code",
   "execution_count": null,
   "metadata": {
    "collapsed": true
   },
   "outputs": [],
   "source": []
  },
  {
   "cell_type": "markdown",
   "metadata": {
    "collapsed": true
   },
   "source": [
    "### verificar que el archivo no se borró "
   ]
  },
  {
   "cell_type": "code",
   "execution_count": null,
   "metadata": {
    "collapsed": true,
    "scrolled": false
   },
   "outputs": [],
   "source": [
    "ls \"../data/seq/\""
   ]
  },
  {
   "cell_type": "markdown",
   "metadata": {},
   "source": [
    "# Otros ejercicios"
   ]
  },
  {
   "cell_type": "markdown",
   "metadata": {},
   "source": [
    "### cambio de nombre de archivos ab1"
   ]
  },
  {
   "cell_type": "code",
   "execution_count": null,
   "metadata": {
    "collapsed": true
   },
   "outputs": [],
   "source": [
    "import os, sys"
   ]
  },
  {
   "cell_type": "code",
   "execution_count": null,
   "metadata": {
    "collapsed": true
   },
   "outputs": [],
   "source": [
    "cd \"C:/Users/SALA GRAL/Desktop/bioinformatica_aplicada/\""
   ]
  },
  {
   "cell_type": "code",
   "execution_count": null,
   "metadata": {
    "collapsed": true
   },
   "outputs": [],
   "source": [
    "pwd"
   ]
  },
  {
   "cell_type": "code",
   "execution_count": null,
   "metadata": {
    "collapsed": true
   },
   "outputs": [],
   "source": [
    "ls \"data/ab1/\""
   ]
  },
  {
   "cell_type": "code",
   "execution_count": null,
   "metadata": {
    "collapsed": true
   },
   "outputs": [],
   "source": [
    "lista = os.listdir(path =\"data/ab1/\")\n",
    "lista"
   ]
  },
  {
   "cell_type": "code",
   "execution_count": null,
   "metadata": {
    "collapsed": true
   },
   "outputs": [],
   "source": [
    "#proceso para cambiar todos los archivos de subsubdirectorios a un subdirectorio\n",
    "# Se verifica con la impresion que son los archivos que se desean cambiar\n",
    "# entonces se elimina el simbolo de \"#\" de la linea \"os.rename (nom1, row1)\" para ejecutar el proceso\n",
    "n=0\n",
    "print (\"renaming             \",\"      \\t\",\"        to\" )\n",
    "\n",
    "for row in lista:\n",
    "    if row[0]==\".\":\n",
    "        continue\n",
    "    nom=row[:row.find(\"_\")]\n",
    "    if n%2!=0:\n",
    "        nom1=\"data/seq/\" +nom+\"R\"+row[-4:]\n",
    "    else:\n",
    "        nom1=\"data/seq/\" +nom+\"F\"+row[-4:]\n",
    "\n",
    "    #row = row.replace(\"(\", \"\\(\")\n",
    "    #row = row.replace(\")\", \"\\)\")\n",
    "    row = \"data/ab1/\"+row\n",
    "    print (row, \"      \\t\", nom1)\n",
    "    #os.rename (row, nom1)\n",
    "    n+=1\n",
    "print(\"finished\", n, \"files\")"
   ]
  },
  {
   "cell_type": "code",
   "execution_count": null,
   "metadata": {
    "collapsed": true,
    "scrolled": false
   },
   "outputs": [],
   "source": [
    "ls \"data/ab1/\""
   ]
  },
  {
   "cell_type": "code",
   "execution_count": null,
   "metadata": {
    "collapsed": true
   },
   "outputs": [],
   "source": [
    "ls \"data/seq/\""
   ]
  },
  {
   "cell_type": "markdown",
   "metadata": {},
   "source": [
    "### Describa qué ocurrió en los directorios \"data/ab1/\" y \"data/seq\""
   ]
  },
  {
   "cell_type": "code",
   "execution_count": null,
   "metadata": {
    "collapsed": true
   },
   "outputs": [],
   "source": []
  },
  {
   "cell_type": "code",
   "execution_count": null,
   "metadata": {
    "collapsed": true
   },
   "outputs": [],
   "source": []
  },
  {
   "cell_type": "code",
   "execution_count": null,
   "metadata": {
    "collapsed": true
   },
   "outputs": [],
   "source": [
    "ls"
   ]
  },
  {
   "cell_type": "code",
   "execution_count": null,
   "metadata": {
    "collapsed": true
   },
   "outputs": [],
   "source": []
  },
  {
   "cell_type": "code",
   "execution_count": null,
   "metadata": {
    "collapsed": true
   },
   "outputs": [],
   "source": [
    "from IPython.display import Image"
   ]
  },
  {
   "cell_type": "markdown",
   "metadata": {
    "collapsed": true
   },
   "source": [
    "# Manejo de archivos"
   ]
  },
  {
   "cell_type": "markdown",
   "metadata": {
    "collapsed": true
   },
   "source": [
    "## desafortunadamente Windows tiene otra forma de realizar el manejo de archivos, por lo que se utilizará la opción de bash para los siguientes ejercicios"
   ]
  },
  {
   "cell_type": "markdown",
   "metadata": {},
   "source": [
    "<center><img src=\"C:/Users/SALA GRAL/Desktop/bioinformatica_aplicada/data/img/git_bash.png\"/ width = 35%></center> \n"
   ]
  },
  {
   "cell_type": "code",
   "execution_count": null,
   "metadata": {
    "collapsed": true
   },
   "outputs": [],
   "source": [
    "cd \"C:/Users/SALA GRAL/Desktop/bioinformatica_aplicada/\""
   ]
  },
  {
   "cell_type": "code",
   "execution_count": null,
   "metadata": {
    "collapsed": true,
    "scrolled": false
   },
   "outputs": [],
   "source": [
    "Image(\"data/img/git_bash.png\")"
   ]
  },
  {
   "cell_type": "code",
   "execution_count": null,
   "metadata": {
    "collapsed": true
   },
   "outputs": [],
   "source": [
    "pwd\n"
   ]
  },
  {
   "cell_type": "code",
   "execution_count": null,
   "metadata": {
    "collapsed": true
   },
   "outputs": [],
   "source": [
    "ls \"C:/Users/SALA GRAL/Desktop/bioinformatica_aplicada/data/img/\""
   ]
  },
  {
   "cell_type": "code",
   "execution_count": null,
   "metadata": {
    "collapsed": true
   },
   "outputs": [],
   "source": [
    "pwd"
   ]
  },
  {
   "cell_type": "code",
   "execution_count": null,
   "metadata": {
    "collapsed": true
   },
   "outputs": [],
   "source": [
    "ls \"data/seq/\""
   ]
  },
  {
   "cell_type": "code",
   "execution_count": null,
   "metadata": {
    "collapsed": true
   },
   "outputs": [],
   "source": [
    "ls\n"
   ]
  },
  {
   "cell_type": "code",
   "execution_count": null,
   "metadata": {
    "collapsed": true
   },
   "outputs": [],
   "source": [
    "cd data"
   ]
  },
  {
   "cell_type": "code",
   "execution_count": null,
   "metadata": {
    "collapsed": true
   },
   "outputs": [],
   "source": [
    "# conteo de lineas del archivo"
   ]
  },
  {
   "cell_type": "code",
   "execution_count": null,
   "metadata": {
    "collapsed": true
   },
   "outputs": [],
   "source": [
    "!wc bacteria_NR_043902.fa"
   ]
  },
  {
   "cell_type": "code",
   "execution_count": null,
   "metadata": {
    "collapsed": true,
    "scrolled": false
   },
   "outputs": [],
   "source": [
    "!man wc"
   ]
  },
  {
   "cell_type": "code",
   "execution_count": null,
   "metadata": {
    "collapsed": true
   },
   "outputs": [],
   "source": [
    "!wc -l bacteria_NR_043902.fa # conteo de lineas"
   ]
  },
  {
   "cell_type": "code",
   "execution_count": null,
   "metadata": {
    "collapsed": true
   },
   "outputs": [],
   "source": [
    "!wc -w bacteria_NR_043902.fa # conteo de palabras"
   ]
  },
  {
   "cell_type": "code",
   "execution_count": null,
   "metadata": {
    "collapsed": true
   },
   "outputs": [],
   "source": [
    "!wc -c bacteria_NR_043902.fa # conteo de caracteres"
   ]
  },
  {
   "cell_type": "code",
   "execution_count": null,
   "metadata": {
    "collapsed": true
   },
   "outputs": [],
   "source": [
    "!grep \">\" bacteria_NR_043902.fa"
   ]
  },
  {
   "cell_type": "code",
   "execution_count": null,
   "metadata": {
    "collapsed": true
   },
   "outputs": [],
   "source": [
    "!grep \"A\" bacteria_NR_043902.fa| wc -c"
   ]
  },
  {
   "cell_type": "code",
   "execution_count": null,
   "metadata": {
    "collapsed": true,
    "scrolled": false
   },
   "outputs": [],
   "source": [
    "!man grep"
   ]
  },
  {
   "cell_type": "markdown",
   "metadata": {},
   "source": [
    "# Construcción de un archivo fasta con varias secuencias"
   ]
  },
  {
   "cell_type": "code",
   "execution_count": null,
   "metadata": {
    "collapsed": true
   },
   "outputs": [],
   "source": [
    "lista = os.listdir(path =\"seq/\")\n",
    "lista"
   ]
  },
  {
   "cell_type": "code",
   "execution_count": null,
   "metadata": {
    "collapsed": true,
    "scrolled": false
   },
   "outputs": [],
   "source": [
    "secuencias=[]    # crea una variable \n",
    "for row in lista:\n",
    "    if row[0]==\".\" or row[-3:]==\"ab1\":   # si el inicio de la linea es punto, pasa a la siguiente linea\n",
    "        continue\n",
    "    archivo = \"seq/\"+row\n",
    "    secuencia = \"\"\n",
    "    with open(archivo, 'r') as f:\n",
    "        for arc in f.readlines():  # lee lineas\n",
    "            secuencia += arc.strip()\n",
    "    linea = row,secuencia\n",
    "    secuencias.append(linea)    # agrega \n",
    "\n",
    "secuencias[:2]  "
   ]
  },
  {
   "cell_type": "code",
   "execution_count": null,
   "metadata": {
    "collapsed": true
   },
   "outputs": [],
   "source": [
    "for row in secuencias:\n",
    "    print (row[0], row[1][:20])"
   ]
  },
  {
   "cell_type": "markdown",
   "metadata": {},
   "source": [
    "# archivo fasta"
   ]
  },
  {
   "cell_type": "markdown",
   "metadata": {},
   "source": [
    "#### describa las caracteristicas de un archivo fasta"
   ]
  },
  {
   "cell_type": "code",
   "execution_count": null,
   "metadata": {
    "collapsed": true
   },
   "outputs": [],
   "source": []
  },
  {
   "cell_type": "code",
   "execution_count": null,
   "metadata": {
    "collapsed": true
   },
   "outputs": [],
   "source": [
    "for row in secuencias:\n",
    "    print (\">\" +row[0], \"\\n\"+ row[1][:20])"
   ]
  },
  {
   "cell_type": "code",
   "execution_count": null,
   "metadata": {
    "collapsed": true,
    "scrolled": false
   },
   "outputs": [],
   "source": [
    "f_out= open(\"secuencias.fasta\",'w')\n",
    "for row in secuencias:\n",
    "    lineas = \">\" +row[0]+ \"\\n\"+ row[1]+ \"\\n\"\n",
    "    print (lineas)\n",
    "    f_out.write(lineas)\n",
    "f_out.close()"
   ]
  },
  {
   "cell_type": "code",
   "execution_count": null,
   "metadata": {
    "collapsed": true
   },
   "outputs": [],
   "source": [
    "!more secuencias.fasta"
   ]
  },
  {
   "cell_type": "code",
   "execution_count": null,
   "metadata": {
    "collapsed": true
   },
   "outputs": [],
   "source": [
    "# correr en el bash\n",
    "#!grep \">\" secuencias.fasta"
   ]
  },
  {
   "cell_type": "code",
   "execution_count": null,
   "metadata": {
    "collapsed": true
   },
   "outputs": [],
   "source": [
    "# contar el numero de secuencias en el archivo"
   ]
  },
  {
   "cell_type": "raw",
   "metadata": {},
   "source": [
    "!grep \">\" secuencias.fasta |wc -l"
   ]
  },
  {
   "cell_type": "markdown",
   "metadata": {
    "collapsed": true
   },
   "source": [
    "# describa qué hace grep y wc"
   ]
  },
  {
   "cell_type": "code",
   "execution_count": null,
   "metadata": {
    "collapsed": true
   },
   "outputs": [],
   "source": []
  }
 ],
 "metadata": {
  "kernelspec": {
   "display_name": "Python 3",
   "language": "python",
   "name": "python3"
  },
  "language_info": {
   "codemirror_mode": {
    "name": "ipython",
    "version": 3
   },
   "file_extension": ".py",
   "mimetype": "text/x-python",
   "name": "python",
   "nbconvert_exporter": "python",
   "pygments_lexer": "ipython3",
   "version": "3.6.3"
  }
 },
 "nbformat": 4,
 "nbformat_minor": 2
}
