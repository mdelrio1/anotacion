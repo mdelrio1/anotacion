{
 "cells": [
  {
   "cell_type": "markdown",
   "metadata": {},
   "source": [
    "# Bitacora para el manejo de secuencias ensambladas y búsqueda con *Blastx*"
   ]
  },
  {
   "cell_type": "markdown",
   "metadata": {},
   "source": [
    "## Para el siguiente ejercicio es necesario tener el Blast+ instalado en la computadora\n",
    "https://www.ncbi.nlm.nih.gov/guide/data-software/"
   ]
  },
  {
   "cell_type": "markdown",
   "metadata": {},
   "source": [
    "## Se utilizarán los contigs formados por el ensamblaje que se localizan en \n",
    "`/home/user1/Desktop/data/chaetoceros/Contigs_Calcitrans-T_mapping_subset.fa`"
   ]
  },
  {
   "cell_type": "code",
   "execution_count": null,
   "metadata": {},
   "outputs": [],
   "source": [
    "from pandas import Series, DataFrame\n",
    "import pandas as pd\n",
    "from Bio import SeqIO, AlignIO, SeqRecord\n",
    "from Bio.SeqRecord import SeqRecord\n",
    "from Bio.Seq import Seq\n",
    "import matplotlib.pyplot as plt \n",
    "import os\n",
    "from matplotlib_venn import venn3_unweighted"
   ]
  },
  {
   "cell_type": "code",
   "execution_count": 2,
   "metadata": {},
   "outputs": [
    {
     "name": "stdout",
     "output_type": "stream",
     "text": [
      "/home/user1/Desktop/data/chaetoceros\n"
     ]
    }
   ],
   "source": [
    "cd ~/Desktop/data/chaetoceros/"
   ]
  },
  {
   "cell_type": "code",
   "execution_count": 3,
   "metadata": {},
   "outputs": [
    {
     "name": "stdout",
     "output_type": "stream",
     "text": [
      "'Contigs_Calcitrans-T mapping subset.fa'\r\n"
     ]
    }
   ],
   "source": [
    "ls "
   ]
  },
  {
   "cell_type": "code",
   "execution_count": 6,
   "metadata": {},
   "outputs": [],
   "source": [
    "os.makedirs('img',exist_ok=True)"
   ]
  },
  {
   "cell_type": "code",
   "execution_count": 7,
   "metadata": {},
   "outputs": [
    {
     "name": "stdout",
     "output_type": "stream",
     "text": [
      "22468\r\n"
     ]
    }
   ],
   "source": [
    "!grep \">\" Contigs_Calcitrans-T_mapping_subset.fa |wc -l"
   ]
  },
  {
   "cell_type": "markdown",
   "metadata": {},
   "source": [
    "# Se analizarán con blastx los contigs obtenidos a la base de datos *Swissprot*"
   ]
  },
  {
   "cell_type": "code",
   "execution_count": 9,
   "metadata": {},
   "outputs": [
    {
     "name": "stdout",
     "output_type": "stream",
     "text": [
      "Thu Aug 16 18:29:36 UTC 2018\n",
      "Sat Aug 18 04:00:30 UTC 2018\n"
     ]
    },
    {
     "name": "stderr",
     "output_type": "stream",
     "text": [
      "\n",
      "real\t2010m53.266s\n",
      "user\t3932m21.880s\n",
      "sys\t4m45.303s\n"
     ]
    }
   ],
   "source": [
    "%%bash\n",
    "export BLASTDB=/home/user1/DATA/swiss/\n",
    "\n",
    "date  \n",
    "time blastx -query Contigs_Calcitrans-T_mapping_subset.fa -db /home/user1/DATA/swiss/swissprot \\\n",
    "-out Contigs_Calcitrans-T_mapping_subset.tab -evalue 1E-6 -max_target_seqs 1 \\\n",
    "-num_threads 2 -outfmt \"6 std stitle\" \n",
    "date"
   ]
  },
  {
   "cell_type": "code",
   "execution_count": 10,
   "metadata": {},
   "outputs": [
    {
     "name": "stdout",
     "output_type": "stream",
     "text": [
      "Sat Aug 18 04:00:30 UTC 2018\r\n"
     ]
    }
   ],
   "source": [
    "!date"
   ]
  },
  {
   "cell_type": "code",
   "execution_count": null,
   "metadata": {},
   "outputs": [],
   "source": []
  },
  {
   "cell_type": "markdown",
   "metadata": {},
   "source": [
    "# Se analizarán con blastx los contigs obtenidos a la base de datos *Uniprot*"
   ]
  },
  {
   "cell_type": "code",
   "execution_count": 11,
   "metadata": {},
   "outputs": [
    {
     "name": "stdout",
     "output_type": "stream",
     "text": [
      "Sat Aug 18 04:00:30 UTC 2018\r\n"
     ]
    }
   ],
   "source": [
    "!date"
   ]
  },
  {
   "cell_type": "code",
   "execution_count": 12,
   "metadata": {},
   "outputs": [
    {
     "name": "stdout",
     "output_type": "stream",
     "text": [
      "Sat Aug 18 04:00:30 UTC 2018\n",
      "Sat Aug 18 04:00:30 UTC 2018\n"
     ]
    },
    {
     "name": "stderr",
     "output_type": "stream",
     "text": [
      "BLAST Database error: No alias or index file found for protein database [/home/user1/Desktop/data/uniprot/uniprot.fasta] in search path [/home/user1/Desktop/data/chaetoceros:/home/user1/Desktop/data/uniprot:]\n",
      "\n",
      "real\t0m0.078s\n",
      "user\t0m0.007s\n",
      "sys\t0m0.007s\n"
     ]
    }
   ],
   "source": [
    "%%bash\n",
    "export BLASTDB=/home/user1/Desktop/data/uniprot/\n",
    "\n",
    "date  \n",
    "time blastx -query Contigs_Calcitrans-T_mapping_subset.fa -db /home/user1/Desktop/bigdata/uniprot/uniprot.fasta \\\n",
    "-out Contigs_Calcitrans-T_mapping_subset_blastxuniprot.tab -evalue 1E-6 -max_target_seqs 1 \\\n",
    "-num_threads 2 -outfmt \"6 std stitle\" \n",
    "date"
   ]
  },
  {
   "cell_type": "code",
   "execution_count": 13,
   "metadata": {},
   "outputs": [
    {
     "name": "stdout",
     "output_type": "stream",
     "text": [
      "Sat Aug 18 04:00:30 UTC 2018\r\n"
     ]
    }
   ],
   "source": [
    "!date"
   ]
  },
  {
   "cell_type": "code",
   "execution_count": 19,
   "metadata": {},
   "outputs": [
    {
     "name": "stdout",
     "output_type": "stream",
     "text": [
      "uniprot.fasta      uniprot.fasta.pin  uniprot.fasta.psd  uniprot.fasta.psq\r\n",
      "uniprot.fasta.phr  uniprot.fasta.pog  uniprot.fasta.psi\r\n"
     ]
    }
   ],
   "source": [
    "ls /home/user1/Desktop/bigdata/uniprot/"
   ]
  },
  {
   "cell_type": "code",
   "execution_count": 16,
   "metadata": {},
   "outputs": [
    {
     "data": {
      "text/plain": [
       "'/home/user1/Desktop/data/chaetoceros'"
      ]
     },
     "execution_count": 16,
     "metadata": {},
     "output_type": "execute_result"
    }
   ],
   "source": [
    "pwd"
   ]
  },
  {
   "cell_type": "code",
   "execution_count": null,
   "metadata": {},
   "outputs": [],
   "source": []
  },
  {
   "cell_type": "code",
   "execution_count": null,
   "metadata": {},
   "outputs": [],
   "source": []
  },
  {
   "cell_type": "code",
   "execution_count": null,
   "metadata": {},
   "outputs": [],
   "source": []
  },
  {
   "cell_type": "code",
   "execution_count": null,
   "metadata": {},
   "outputs": [],
   "source": []
  },
  {
   "cell_type": "code",
   "execution_count": null,
   "metadata": {},
   "outputs": [],
   "source": []
  },
  {
   "cell_type": "code",
   "execution_count": null,
   "metadata": {},
   "outputs": [],
   "source": [
    "## en terminal Mac\n",
    "%%bash\n",
    "export BLASTDB=~/Desktop/data/uniprot/\n",
    "\n",
    "date  \n",
    "time blastx -query Contigs_Calcitrans-T_mapping_subset.fa -db ~/Desktop/bigdata/uniprot \\\n",
    "-out Contigs_Calcitrans-T_mapping_subset_blastxuniprot.tab -evalue 1E-6 -max_target_seqs 1 \\\n",
    "-num_threads 6 -outfmt \"6 std stitle\" \n",
    "date"
   ]
  },
  {
   "cell_type": "code",
   "execution_count": null,
   "metadata": {},
   "outputs": [],
   "source": []
  },
  {
   "cell_type": "code",
   "execution_count": null,
   "metadata": {},
   "outputs": [],
   "source": []
  },
  {
   "cell_type": "code",
   "execution_count": null,
   "metadata": {},
   "outputs": [],
   "source": [
    "!head -2 Contigs_Calcitrans-T_mapping_subset.tab"
   ]
  },
  {
   "cell_type": "code",
   "execution_count": null,
   "metadata": {},
   "outputs": [],
   "source": [
    "mv Contigs_Calcitrans-T_mapping_subset.tab Contigs_Calcitrans-T_mapping_subset_blastx.tab"
   ]
  },
  {
   "cell_type": "code",
   "execution_count": null,
   "metadata": {},
   "outputs": [],
   "source": [
    "encabezado =(\"qseqid\", \"sseqid\", \"pident\", \"length\", \"mismatch\", \"gapopen\",\"qstart\", \n",
    "             \"qend\", \"sstart\",\"send\", \"evalue\", \"bitscore\", \"stitle\")"
   ]
  },
  {
   "cell_type": "code",
   "execution_count": null,
   "metadata": {
    "scrolled": false
   },
   "outputs": [],
   "source": [
    "ftab=pd.read_table(\"Contigs_Calcitrans-T_mapping_subset_blastx.tab\", header=None , names= encabezado)\n",
    "ftab.head()"
   ]
  },
  {
   "cell_type": "code",
   "execution_count": null,
   "metadata": {},
   "outputs": [],
   "source": [
    "ftab[\"uniprotid\"]=ftab[\"sseqid\"].astype(str).str[:6]\n",
    "ftab.head(2)"
   ]
  },
  {
   "cell_type": "code",
   "execution_count": null,
   "metadata": {},
   "outputs": [],
   "source": [
    "!date"
   ]
  },
  {
   "cell_type": "code",
   "execution_count": null,
   "metadata": {},
   "outputs": [],
   "source": [
    "fspid = pd.read_csv('/home/user1/DATA/spidgo.csv')\n",
    "fspid.head(2)"
   ]
  },
  {
   "cell_type": "code",
   "execution_count": null,
   "metadata": {},
   "outputs": [],
   "source": [
    "!date"
   ]
  },
  {
   "cell_type": "code",
   "execution_count": null,
   "metadata": {},
   "outputs": [],
   "source": [
    "f2=pd.merge(ftab,fspid, on =\"uniprotid\" , how='inner')\n",
    "f2.head(2)"
   ]
  },
  {
   "cell_type": "code",
   "execution_count": null,
   "metadata": {},
   "outputs": [],
   "source": [
    "fspid = ''\n",
    "fspid"
   ]
  },
  {
   "cell_type": "code",
   "execution_count": null,
   "metadata": {},
   "outputs": [],
   "source": [
    "!date"
   ]
  },
  {
   "cell_type": "code",
   "execution_count": null,
   "metadata": {},
   "outputs": [],
   "source": [
    "fgo = pd.read_csv('~/Desktop/bigdata/go_to_goslim.csv')\n",
    "fgo.head(2)"
   ]
  },
  {
   "cell_type": "code",
   "execution_count": null,
   "metadata": {},
   "outputs": [],
   "source": [
    "!date"
   ]
  },
  {
   "cell_type": "code",
   "execution_count": null,
   "metadata": {},
   "outputs": [],
   "source": [
    "f3=pd.merge(f2,fgo, on =\"GO_id\" , how='inner')\n",
    "f3.head()"
   ]
  },
  {
   "cell_type": "code",
   "execution_count": null,
   "metadata": {},
   "outputs": [],
   "source": [
    "f4=f3.drop_duplicates(subset = ('qseqid', \"aspect\"), inplace = False)\n",
    "f4.describe()[['length','evalue']]"
   ]
  },
  {
   "cell_type": "code",
   "execution_count": null,
   "metadata": {},
   "outputs": [],
   "source": [
    "f4.to_csv(\"8_S356_contigs_blastx_goslim.csv\", index =  None)"
   ]
  },
  {
   "cell_type": "code",
   "execution_count": null,
   "metadata": {},
   "outputs": [],
   "source": [
    "f4 = pd.read_csv('8_S356_contigs_blastx_goslim.csv')\n",
    "f4.head(2)"
   ]
  },
  {
   "cell_type": "code",
   "execution_count": null,
   "metadata": {},
   "outputs": [],
   "source": [
    "ftabpivot = f4.pivot_table(values=\"uniprotid\" , index=[\"qseqid\"], aggfunc=len, columns=\"aspect\")\n",
    "ftabpivot.describe()"
   ]
  },
  {
   "cell_type": "markdown",
   "metadata": {},
   "source": [
    "# Proceso para generar el diagama de Venn con la información de \n",
    "## Componentes celulares, funciones biologicas y procesos biologicos, C, F y P, respectivamente"
   ]
  },
  {
   "cell_type": "code",
   "execution_count": null,
   "metadata": {},
   "outputs": [],
   "source": [
    "lineaC =[] # data from C\n",
    "lineaF =[] # data from F\n",
    "lineaP =[] # data from P\n",
    "linea = \"\"\n",
    "n=1\n",
    "for row in ftabpivot.index:\n",
    "    row2=ftabpivot.loc[row]\n",
    "    if str(row2[\"C\"])==\"nan\" and str(row2[\"F\"])==\"nan\" and str(row2[\"P\"])==\"nan\" :\n",
    "        continue    \n",
    "    else:        \n",
    "        if str(row2[\"C\"]) !=\"nan\":\n",
    "            linea = row\n",
    "        else:\n",
    "            linea = \"\"\n",
    "        lineaC.append(linea)\n",
    "        if str(row2[\"F\"]) !=\"nan\":\n",
    "            linea = row\n",
    "        else:\n",
    "            linea = \"\"\n",
    "        lineaF.append(linea)\n",
    "\n",
    "        if str(row2[\"P\"]) !=\"nan\":\n",
    "            linea = row\n",
    "        else:\n",
    "            linea = \"\"\n",
    "        lineaP.append(linea)\n",
    "\n",
    "        n+=1\n",
    "        #if n==1000:\n",
    "        #    break\n",
    "\n",
    "len(lineaC), len(lineaF), len(lineaP)"
   ]
  },
  {
   "cell_type": "code",
   "execution_count": null,
   "metadata": {},
   "outputs": [],
   "source": [
    "lineaC = set(lineaC)\n",
    "lineaF = set(lineaF)\n",
    "lineaP = set(lineaP)\n",
    "venn3_unweighted([lineaC, lineaF, lineaP], ('C', 'F', 'P'))\n",
    "#plt.savefig(\"710_transcritos_venn3_1.png\", dpi=400, bbox_inches='tight')\n",
    "#plt.savefig(\"710_transcritos_venn3_1.pdf\", dpi=400, bbox_inches='tight')\n",
    "plt.show()"
   ]
  },
  {
   "cell_type": "code",
   "execution_count": null,
   "metadata": {},
   "outputs": [],
   "source": [
    "from matplotlib_venn import venn3"
   ]
  },
  {
   "cell_type": "code",
   "execution_count": null,
   "metadata": {},
   "outputs": [],
   "source": [
    "lineaC = set(lineaC)\n",
    "lineaF = set(lineaF)\n",
    "lineaP = set(lineaP)\n",
    "venn3([lineaC, lineaF, lineaP], ('C', 'F', 'P'))\n",
    "#plt.savefig(\"710_transcritos_venn3_1.png\", dpi=400, bbox_inches='tight')\n",
    "#plt.savefig(\"710_transcritos_venn3_1.pdf\", dpi=400, bbox_inches='tight')\n",
    "plt.show()"
   ]
  },
  {
   "cell_type": "code",
   "execution_count": null,
   "metadata": {},
   "outputs": [],
   "source": []
  },
  {
   "cell_type": "code",
   "execution_count": null,
   "metadata": {},
   "outputs": [],
   "source": [
    "fgo=f4.groupby(['GOSlim_bin', 'aspect'])[\"qseqid\"].count()\n",
    "#fgo\n",
    "\n",
    "fgo.sort_values(inplace = True, ascending=False)\n",
    "#fgo\n",
    "\n",
    "linea10=fgo[0:10]\n",
    "linea11=fgo[10:]\n",
    "#linea10\n",
    "\n",
    "#linea11\n",
    "otro=sum (linea11)\n",
    "#otro\n",
    "otros = pd.DataFrame({0:otro}, index=[\"Other\"])\n",
    "#otros\n",
    "linea10=linea10.append(otros)\n",
    "#linea10\n",
    "linea10.plot(kind='barh', color=list('ybg'))\n",
    "plt.axis([-1, max(linea10[0]+5), -1, 11], label=None)\n",
    "plt.xlabel(\"Count\")\n",
    "plt.ylabel(\"GOSlim bin\")\n",
    "plt.legend().set_visible(False)\n",
    "yes=\"n\"\n",
    "yes = input(\"save figure? \")\n",
    "if yes==\"y\":\n",
    "    plt.savefig(\"img/8_S356_contigs_blastx_GObar.png\", dpi=400, bbox_inches='tight')\n",
    "\n",
    "plt.show()"
   ]
  },
  {
   "cell_type": "code",
   "execution_count": null,
   "metadata": {},
   "outputs": [],
   "source": []
  },
  {
   "cell_type": "code",
   "execution_count": null,
   "metadata": {},
   "outputs": [],
   "source": []
  },
  {
   "cell_type": "code",
   "execution_count": null,
   "metadata": {},
   "outputs": [],
   "source": []
  }
 ],
 "metadata": {
  "kernelspec": {
   "display_name": "mplvenn",
   "language": "python",
   "name": "mplvenn"
  },
  "language_info": {
   "codemirror_mode": {
    "name": "ipython",
    "version": 3
   },
   "file_extension": ".py",
   "mimetype": "text/x-python",
   "name": "python",
   "nbconvert_exporter": "python",
   "pygments_lexer": "ipython3",
   "version": "3.6.5"
  }
 },
 "nbformat": 4,
 "nbformat_minor": 2
}
