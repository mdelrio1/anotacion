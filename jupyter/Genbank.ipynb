{
 "cells": [
  {
   "cell_type": "markdown",
   "metadata": {},
   "source": [
    "# Bitacora electronica para descargar secuencias del Genbank (NCBI)"
   ]
  },
  {
   "cell_type": "markdown",
   "metadata": {},
   "source": [
    "# para descargar una sola secuencia"
   ]
  },
  {
   "cell_type": "markdown",
   "metadata": {},
   "source": [
    "es necesario cargar las bibliotecas de Biopython "
   ]
  },
  {
   "cell_type": "code",
   "execution_count": 1,
   "metadata": {},
   "outputs": [],
   "source": [
    "from Bio import SeqIO, Entrez"
   ]
  },
  {
   "cell_type": "markdown",
   "metadata": {},
   "source": [
    "la variable \"lista\" contendra los números de acceso de las secuencias a descargar"
   ]
  },
  {
   "cell_type": "markdown",
   "metadata": {},
   "source": [
    "En este caso sera una sola secuencia"
   ]
  },
  {
   "cell_type": "code",
   "execution_count": 2,
   "metadata": {},
   "outputs": [],
   "source": [
    "lista = \"HZ391319.1\""
   ]
  },
  {
   "cell_type": "markdown",
   "metadata": {},
   "source": [
    "### es indispensable dar el correo electronico para identificarse en el Genbank"
   ]
  },
  {
   "cell_type": "code",
   "execution_count": 3,
   "metadata": {},
   "outputs": [
    {
     "name": "stdout",
     "output_type": "stream",
     "text": [
      "HZ391319.1 JP 2015186454-A/3: Abalone vasa gene marker and Method for producing a sterilized abalone \n",
      "with 1 features\n"
     ]
    }
   ],
   "source": [
    "Entrez.email = \"mdelrio@xanum.uam.mx\"\n",
    "handle = Entrez.efetch(db=\"nucleotide\", rettype=\"gb\", retmode=\"text\", id=lista)\n",
    "seq_record = SeqIO.read(handle, \"genbank\")\n",
    "SeqIO.write(seq_record, \"./Desktop/data/Abalone_vasa_HZ391319.gb\", \"genbank\")\n",
    "SeqIO.write(seq_record, \"./Desktop/data/Abalone_vasa_HZ391319.fa\", \"fasta\")\n",
    "handle.close()\n",
    "print(\"%s %s \\nwith %i features\" % (seq_record.id, seq_record.description, len(seq_record.features)))\n",
    "\n"
   ]
  },
  {
   "cell_type": "markdown",
   "metadata": {},
   "source": [
    "Con lo anterior se han creado dos archivo en el directorio ```Desktop/data```"
   ]
  },
  {
   "cell_type": "code",
   "execution_count": 1,
   "metadata": {},
   "outputs": [
    {
     "name": "stdout",
     "output_type": "stream",
     "text": [
      "Abalone_vasa_HZ391319.fa              argonautas.gb\r\n",
      "Abalone_vasa_HZ391319.gb              argos.fas\r\n",
      "Hrufescens_mtDNASequence.csv          argos.gb\r\n",
      "Hrufescens_mtDNASequences_NCBI.fasta  idt014contig20.fasta\r\n",
      "argonautas.fasta\r\n"
     ]
    }
   ],
   "source": [
    "ls ./Desktop/data/"
   ]
  },
  {
   "cell_type": "code",
   "execution_count": 2,
   "metadata": {},
   "outputs": [
    {
     "name": "stdout",
     "output_type": "stream",
     "text": [
      ">HZ391319.1 JP 2015186454-A/3: Abalone vasa gene marker and Method for producing a sterilized abalone\r\n",
      "AGACAGCTCTGGCAAAGAGGATCGGCCACCCCCATACATTCCTCCTGCACTGACAGAGAA\r\n",
      "CGAAGACGAGATATTCCAGTCCATAGAGAAGGGCATAAACTTTGACAAATATGACAATAT\r\n",
      "CAGTGTGGAAGTGAGTGGGAGAGACCCTGTTGGTTTCATCAGCTGTTTTGAGGAAGCTGG\r\n",
      "TCTTTATCCTACGTTTTTGAAGAATGTTCGGAAGGCAAAGTACGAGAAACCAACACCTGT\r\n",
      "ACAGAAGTATTCTATTCCTATTATTGGCGCTGGTCGGGACCTGATGGCATGTGCCCAGAC\r\n",
      "AGGATCGGGCAAAACGGCTGCCTTCTTGTTGCCGACATTAACCTGTATGGTGAAGGAAGG\r\n",
      "ATTGACTACCAGTCAGTTCTCGGAGGTACAGGAGCCTCAAGCCATCATTGTGGCCCCTAC\r\n",
      "CAGGGAGCTGGTGGTGCAGATCCACTCTGATGCTCGCAAGTTCTCCTGGGGGACGGAGGT\r\n",
      "TCGCCCCGTGGTGGTGTATGGGGGGACGTCTGTGGGGCATCAGCTGAGGGAGGTGGAGAG\r\n"
     ]
    }
   ],
   "source": [
    "!head Desktop/data/Abalone_vasa_HZ391319.fa"
   ]
  },
  {
   "cell_type": "code",
   "execution_count": 3,
   "metadata": {},
   "outputs": [
    {
     "name": "stdout",
     "output_type": "stream",
     "text": [
      "LOCUS       HZ391319                 709 bp    DNA     linear   PAT 27-JAN-2016\r\n",
      "DEFINITION  JP 2015186454-A/3: Abalone vasa gene marker and Method for producing\r\n",
      "            a sterilized abalone.\r\n",
      "ACCESSION   HZ391319\r\n",
      "VERSION     HZ391319.1\r\n",
      "KEYWORDS    JP 2015186454-A/3.\r\n",
      "SOURCE      Haliotis discus discus (disc abalone)\r\n",
      "  ORGANISM  Haliotis discus discus\r\n",
      "            Eukaryota; Metazoa; Lophotrochozoa; Mollusca; Gastropoda;\r\n",
      "            Vetigastropoda; Haliotoidea; Haliotidae; Haliotis.\r\n"
     ]
    }
   ],
   "source": [
    "!head ./Desktop/data/Abalone_vasa_HZ391319.gb"
   ]
  },
  {
   "cell_type": "markdown",
   "metadata": {},
   "source": [
    "## para descargar varias secuencias se usa la siguiente opcion"
   ]
  },
  {
   "cell_type": "code",
   "execution_count": 7,
   "metadata": {},
   "outputs": [],
   "source": [
    "# Secuencias de argonautas, nucleotidos\n",
    "lista =\"AB191108, AY545104, HQ846022, HQ846036, KF017606, EU071435, JN800401, JN800402, AF369112, AF299267, AF299270, HM104247, AF299266\"\n"
   ]
  },
  {
   "cell_type": "code",
   "execution_count": 8,
   "metadata": {},
   "outputs": [
    {
     "name": "stdout",
     "output_type": "stream",
     "text": [
      "AB191108.1 Argonauta argo gene for 16S rRNA, partial sequence...\n",
      "Sequence length 503, 2 features, from: Argonauta argo\n",
      "AY545104.1 Argonauta nodosa 16S ribosomal RNA gene, partial s...\n",
      "Sequence length 497, 2 features, from: mitochondrion Argonauta nodosa\n",
      "HQ846022.1 Cistopus chinensis isolate L6 16S ribosomal RNA ge...\n",
      "Sequence length 514, 2 features, from: mitochondrion Cistopus chinensis\n",
      "HQ846036.1 Cistopus chinensis isolate P3 16S ribosomal RNA ge...\n",
      "Sequence length 514, 2 features, from: mitochondrion Cistopus chinensis\n",
      "KF017606.1 Cistopus chinensis mitochondrion, complete genome...\n",
      "Sequence length 15706, 53 features, from: mitochondrion Cistopus chinensis\n",
      "EU071435.1 Graneledone boreopacifica 16S ribosomal RNA gene, ...\n",
      "Sequence length 509, 2 features, from: mitochondrion Graneledone boreopacifica\n",
      "JN800401.1 Graneledone sp. CMI-2012 isolate A 16S ribosomal R...\n",
      "Sequence length 557, 2 features, from: mitochondrion Graneledone sp. CMI-2012\n",
      "JN800402.1 Graneledone sp. CMI-2012 isolate B 16S ribosomal R...\n",
      "Sequence length 557, 2 features, from: mitochondrion Graneledone sp. CMI-2012\n",
      "AF369112.1 Octopus variabilis 16S ribosomal RNA gene, partial...\n",
      "Sequence length 510, 2 features, from: mitochondrion Octopus variabilis\n",
      "AF299267.1 Pareledone charcoti 16S ribosomal RNA gene, partia...\n",
      "Sequence length 502, 2 features, from: mitochondrion Pareledone charcoti\n",
      "AF299270.1 Pareledone turqueti 16S ribosomal RNA gene, partia...\n",
      "Sequence length 502, 2 features, from: mitochondrion Pareledone turqueti\n",
      "HM104247.1 Praealtus paralbida 16S ribosomal RNA gene, partia...\n",
      "Sequence length 510, 2 features, from: mitochondrion Praealtus paralbida\n",
      "AF299266.1 Thaumeledone gunteri 16S ribosomal RNA gene, parti...\n",
      "Sequence length 501, 2 features, from: mitochondrion Thaumeledone gunteri\n"
     ]
    }
   ],
   "source": [
    "#nucleotidos\n",
    "secuencias= []\n",
    "Entrez.email = \"mdelrio@cicese.mx\"\n",
    "handle = Entrez.efetch(db=\"nucleotide\", rettype=\"gb\", retmode=\"text\", id=lista)\n",
    "for seq_record in SeqIO.parse(handle, \"gb\"):\n",
    "    print(\"%s %s...\" % (seq_record.id, seq_record.description[:50]))\n",
    "    print(\"Sequence length %i, %i features, from: %s\"\n",
    "          % (len(seq_record), len(seq_record.features), seq_record.annotations[\"source\"]))\n",
    "    secuencias.append(seq_record)\n",
    "\n",
    "handle.close()"
   ]
  },
  {
   "cell_type": "markdown",
   "metadata": {},
   "source": [
    "### si se desea guardar la informacion se puede guardar en el formato deseado, solo hay que quitar \"#\" de la linea con el formato"
   ]
  },
  {
   "cell_type": "code",
   "execution_count": 9,
   "metadata": {},
   "outputs": [
    {
     "data": {
      "text/plain": [
       "13"
      ]
     },
     "execution_count": 9,
     "metadata": {},
     "output_type": "execute_result"
    }
   ],
   "source": [
    "SeqIO.write(secuencias, \"./Desktop/data/argonautas.gb\", \"genbank\")\n",
    "SeqIO.write(secuencias, \"./Desktop/data/argonautas.fasta\", \"fasta\")"
   ]
  },
  {
   "cell_type": "code",
   "execution_count": 5,
   "metadata": {},
   "outputs": [
    {
     "name": "stdout",
     "output_type": "stream",
     "text": [
      "Abalone_vasa_HZ391319.fa              argonautas.gb\r\n",
      "Abalone_vasa_HZ391319.gb              argos.fas\r\n",
      "Hrufescens_mtDNASequence.csv          argos.gb\r\n",
      "Hrufescens_mtDNASequences_NCBI.fasta  idt014contig20.fasta\r\n",
      "argonautas.fasta\r\n"
     ]
    }
   ],
   "source": [
    "ls Desktop/data/"
   ]
  },
  {
   "cell_type": "code",
   "execution_count": 4,
   "metadata": {},
   "outputs": [
    {
     "name": "stdout",
     "output_type": "stream",
     "text": [
      ">AB191108.1 Argonauta argo gene for 16S rRNA, partial sequence\r\n",
      "GTCTCTTTGAGTGAAGATAATAAAGAGTTGGGCCTGCTCGGTGAATAAATTTTAACAGCT\r\n",
      "GCGGTTTAATATCTGTACTAAGGTAGCATAATAATTTGTCTTATAAATTGAGACTAGAAT\r\n",
      "GAATGGTTTGACGAAAATTATACTGTCTCTATTATATTTTTTTGAAATTAATTTTTAAAG\r\n",
      "TGAAAAAGCTTAAATTTTTTAAAGGGACGAGAAGACCCTATTGAGCTTATATTAATAAGA\r\n",
      "TAATATAATAAATTTATTATTTTTTTTTAATTTTGGTTGGGGTGATCAAGGAAATAAAAA\r\n",
      "TAAATAACTTCCTTAATTATATTTATCTGTTAGGATAATAAACAAAATGTATTTCTTTTA\r\n",
      "TGATAAGTTACCATAGGGATAACAGCGTAATTTCTTTTGAGAGTTCTTATTAAAAAAGAA\r\n",
      "GATTGCGACCTCGATGTTGGATTAAAATTAACCTTAAGGTGGAGAAGCTTTATTTGGTAA\r\n",
      "ATCTGTTCGATTTTTAAAATTTT\r\n",
      ">AY545104.1 Argonauta nodosa 16S ribosomal RNA gene, partial sequence; mitochondrial\r\n",
      "GTCTCTTTGATTTTTATAATAAAGAGTTGGGCCTGCTCAGTGATGAATTTAACAGCTGCG\r\n",
      "GTTAATAACTGTACTAAGGTAGCATAATAAATTGTCTTATAAATTGAGACTAGAATGAAT\r\n",
      "GGTTTGACGAAAGTTATACTGTCTCTATTATATTTTTTTGAAATTAATTTTTATAGTGAA\r\n",
      "AAAGCTTAAATTTTTTAAAGGGACGAAAAGACCCTATTGAGCTTTATATTAATAATTGAT\r\n",
      "AATTGAAAATTTATTATATTATTATTTTTAATTTTGGTTGGGGTGATCGAGGAATAAAAA\r\n",
      "AGAGATTAATAACTTCCTTAAATAGATTTCTTTTAGGTTAATAAACAAATATTTTTCTTT\r\n",
      "TATGATAAGTTACCATAGGGATAACAGCGTAATTTCTTTTGAGAGTTCTTATTAAAAAAG\r\n",
      "AAGATTGCGACCTCGATGTTGGATTAAAATTAACCTTAAGGTGGAGAAGCTTTATTTGGT\r\n",
      "AAATCTGTTCGATTTTT\r\n"
     ]
    }
   ],
   "source": [
    "!head -20 Desktop/data/argonautas.fasta"
   ]
  },
  {
   "cell_type": "code",
   "execution_count": null,
   "metadata": {},
   "outputs": [],
   "source": []
  }
 ],
 "metadata": {
  "kernelspec": {
   "display_name": "Python 3",
   "language": "python",
   "name": "python3"
  },
  "language_info": {
   "codemirror_mode": {
    "name": "ipython",
    "version": 3
   },
   "file_extension": ".py",
   "mimetype": "text/x-python",
   "name": "python",
   "nbconvert_exporter": "python",
   "pygments_lexer": "ipython3",
   "version": "3.6.3"
  }
 },
 "nbformat": 4,
 "nbformat_minor": 2
}
