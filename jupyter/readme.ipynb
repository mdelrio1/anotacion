{
 "cells": [
  {
   "cell_type": "markdown",
   "metadata": {},
   "source": [
    "# Material del curso"
   ]
  },
  {
   "cell_type": "markdown",
   "metadata": {},
   "source": [
    "# <div style=\"text-align: center\">Secuenciación masiva: \n",
    "# <div style=\"text-align: center\">anotación de genes nucleares y genomas mitocondriales. </div>\n",
    "## <div style=\"text-align: center\">*UAM Iztapalapa* </div>"
   ]
  },
  {
   "cell_type": "markdown",
   "metadata": {},
   "source": [
    "## <div style=\"text-align: right\">  Impartido por:</div>\n",
    "## <div style=\"text-align: right\"> Dr. Miguel Angel del Río Portilla </div>\n",
    "## <div style=\"text-align: right\"> M. en C. Eduardo Zúñiga León </div>\n",
    "## <div style=\"text-align: right\"> Ing. Biotec. Diamanda Tapia Gallardo</div>"
   ]
  },
  {
   "cell_type": "code",
   "execution_count": null,
   "metadata": {},
   "outputs": [],
   "source": []
  }
 ],
 "metadata": {
  "kernelspec": {
   "display_name": "Python [default]",
   "language": "python",
   "name": "python3"
  },
  "language_info": {
   "codemirror_mode": {
    "name": "ipython",
    "version": 3
   },
   "file_extension": ".py",
   "mimetype": "text/x-python",
   "name": "python",
   "nbconvert_exporter": "python",
   "pygments_lexer": "ipython3",
   "version": "3.5.5"
  }
 },
 "nbformat": 4,
 "nbformat_minor": 2
}
