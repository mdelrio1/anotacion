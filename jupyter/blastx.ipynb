{
 "cells": [
  {
   "cell_type": "code",
   "execution_count": null,
   "metadata": {
    "collapsed": true
   },
   "outputs": [],
   "source": [
    "export BLASTDB= /Users/apple/Desktop/bigdata\n",
    "blastx \\\n",
    "-query ../../../data/Contig17Ccalcitrans_Tmapping10x.fa \\\n",
    "-db ../../../bigdata/uniprot_sprot \\\n",
    "-out ../../../data/Contig17Ccalcitrans_Tmapping10x_2.tab \\\n",
    "-evalue 1E-10 \\\n",
    "-max_target_seqs 5 \\\n",
    "-num_threads 3 \\\n",
    "-outfmt \"6 std stitle\""
   ]
  },
  {
   "cell_type": "code",
   "execution_count": 4,
   "metadata": {},
   "outputs": [
    {
     "data": {
      "text/plain": [
       "'/Users/apple/Desktop/analisis/jupyter/diamanda'"
      ]
     },
     "execution_count": 4,
     "metadata": {},
     "output_type": "execute_result"
    }
   ],
   "source": [
    "pwd\n"
   ]
  },
  {
   "cell_type": "code",
   "execution_count": null,
   "metadata": {
    "collapsed": true
   },
   "outputs": [],
   "source": []
  }
 ],
 "metadata": {
  "kernelspec": {
   "display_name": "Python 3",
   "language": "python",
   "name": "python3"
  },
  "language_info": {
   "codemirror_mode": {
    "name": "ipython",
    "version": 3
   },
   "file_extension": ".py",
   "mimetype": "text/x-python",
   "name": "python",
   "nbconvert_exporter": "python",
   "pygments_lexer": "ipython3",
   "version": "3.6.3"
  }
 },
 "nbformat": 4,
 "nbformat_minor": 2
}
