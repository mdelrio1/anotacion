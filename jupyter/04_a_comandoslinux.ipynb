{
 "cells": [
  {
   "cell_type": "markdown",
   "metadata": {},
   "source": [
    "# Bitácora para manejo de archivos y sistema operativo\n",
    "\n",
    "# <center> Comandos de *Linux* en Jupyter</center>"
   ]
  },
  {
   "cell_type": "markdown",
   "metadata": {
    "collapsed": true
   },
   "source": [
    "# Comandos de linux en Jupyter"
   ]
  },
  {
   "cell_type": "markdown",
   "metadata": {},
   "source": [
    "Todos los sistemas operativos tiene una opción de manejo a través de la línea de comando\n",
    "### <center>*Windows*</center>\n",
    " <center><img src= \"img/cmd_windows.png\" width = 50%></center>\n",
    "###  <center>*Terminal de Jupyter*</center>\n",
    " <center><img src= \"img/jupyter_terminal.png\" width = 50%></center>\n",
    "###  <center>*iOS*</center>\n",
    " <center><img src= \"img/iOS.png\" width = 50%></center>"
   ]
  },
  {
   "cell_type": "markdown",
   "metadata": {},
   "source": [
    "# Comandos básicos del sistema operativo en la terminal (bash o cdm)"
   ]
  },
  {
   "cell_type": "markdown",
   "metadata": {},
   "source": [
    "|operación | linux/unix/iOS|Windows|\n",
    "|:----------:|:---------------|-------:|\n",
    "|lista de archivos|`ls` |`dir`|\n",
    "|cambio de directorio| `cd` nombre_del_diectorio| `cd` nombre_del_diectorio|\n",
    "|cd directorio por omisión (home)| `cd` |`cd` *|\n",
    "|crear un nuevo directorio| `mkdir` nombre del directorio| `md` nombre_del_directorio|\n",
    "|borrar un directorio | `rmdir` nombre_del_directorio (debe estar vacío)| `del` nombre_del_directorio|\n",
    "|copiar archivos|`cp` nombre_del_archivo lugar_a_donde_se_va_a_copiar|`copy` nombre_del_archivo lugar_a_donde_se_va_a_copiar|\n",
    "\n",
    "\n",
    "* solo dentro de jupyter, en caso de usar el `cmd` entonces el directorio por omisión es raíz `C:\\`"
   ]
  },
  {
   "cell_type": "markdown",
   "metadata": {},
   "source": [
    "# Comandos en linux útiles en el manejo de secuencias"
   ]
  },
  {
   "cell_type": "markdown",
   "metadata": {},
   "source": [
    "Comando|descripción|opciones|\n",
    "-------|-----------|--------|\n",
    "`wc -l`|conteo de lineas del archivo|  líneas|\n",
    "`grep`|búsqueda de un grupo de caracteres| -c contar|\n"
   ]
  },
  {
   "cell_type": "markdown",
   "metadata": {},
   "source": [
    "## Desplegar líneas de un archivo específico"
   ]
  },
  {
   "cell_type": "code",
   "execution_count": 1,
   "metadata": {},
   "outputs": [
    {
     "name": "stdout",
     "output_type": "stream",
     "text": [
      ">Nav1.2F.seq\r\n",
      "GTGCTTCGACTTCCCCCAATCATCTGTCCCACCTTCGGCGGCTGGCTCCATAAAGGTTACCTCACCGACTTCGGGTGTTACAAACTCTCGTGGTGTGACGGGCGGTGTGTACAAGGCCCGGGAACGTATTCACCGCGGCATGCTGATCCGCAATTACAACCGATTCCAGCTTCACGCATTCAAGTTGCAAACTGCAATCCGAACTGAAAACAGATTTGTGGAATTGGCTTAACCTCCCGGTTTCCCTGCCCTTTGTTCTGTCCATTGTACCACGTGTGTACCCCAGGTCATAAGGGGCATGATGATTTGACGTCATCCCCATTCCCTCCAGTAA\r\n",
      ">Nav1.2R.seq\r\n",
      "TTATGCCATTTGACCTGGGCTACCACGTGCTACATGGACAGAACAAGGGCATCGAAACCGCGAGGTTAAGCCAATCCCACAAATCTGTTCTCAATTCGGATCGCAATCTGCAACTCGACTGCGTGAAGCTGGAATCGCTAGTAATCGCGGATCAGCATGCCGCGGTGAATACGTTCCCGGGCCTTGTACACACCGCCCGTCACACCACGAGAGTTTGTAACACCCGAAGTCGGTGAGGTAACCTTTATGGAGCCAGCCGCCGAAGGTGGGACAGATGATTGGGGTGAAGTCGTAACAAGGTAGCCGTATCGGAAGGTGCGGTAAACCCCCCTCCTA\r\n",
      ">Nav1.8F.seq\r\n",
      "NGATTTTGGCTACGACTTCCCCCAATCATCTGTCCCACCTTAGGCGGCTGGCTCCAAAAGGTTACCTCACCGACTTCGGGTGTTACAAACTCTCGTGGTGTGACGGGCGGTGTGTACAAGGCCCGGGAACGTATTCACCGCGGCATGCTGATCCGCGATTACTAGCGATTCCAACTTCATGTAGGCGAGTTGCAGCCTACAATCCGAACTGAGAACGGTTTTATGGGATTGGCTAAACCTCGCGGTCTTGCTGCCCTTTGTACCGTCCATTGTAGCACGTGTGTAGCCCAAGTCATAAGGGGCATGATGATTTGACGTCATCCCCACCTCCCTCCCGTTA\r\n",
      ">Nav1.8R.seq\r\n",
      "GGCCACCTTATGACCTGGGCTACACACGTGCTACAATGGACGGTACAAAGGGCAGCAAGACCGCGAGGTTTAGCCAATCCCATAAAACCGTTCTCAGTTCGGATTGTAAGCTGCAACTCGCCTACATGAAGCTGGAATCGCTAGTAATCGCGGATCAGCATGCCGCGGTGAATACGTTCCCGGGCCTTGTACACACCGCCCGTCACACCACGAGAGTTTGTAACACCCGAAGTCGGTGAGGTAACCTTTTGGAGCCAGCCGCCTAAGGTGGGACAGATGATTGGGGTGAAGTCGTAACAAGGTAACCGTATCGGAAGGTGCGGTTAGATCACCTCCTAA\r\n",
      ">Nav2.2F.seq\r\n",
      "CGACCTATCGCTTCGACTTCCCCCTTTCATGAAACACAAAGTGGTAATCGTCCTCCCGAAGGTTAGACTAACTACTTCTTTTGCATCCCACTCCCATGGTGTGACGGGCGGTGTGTACAAGGCCCGGGAACGTATTCACCGCAGTATTCTGACCTGCGATTACTAGCGATTCCGACTTCATGGAGTCGAGTTGCAGACTCCAATCCGGACTACGACATTCTTTAAGGGGTCCGCTCCACATCACTGTCTCGCTTCCCTCTGTAAATGCCATTGTAGCACGTGTGTAGCCCTACACGTAAGGGCCATGATGACTTGACGTCATCCCCACTTCCCTCCAGTTAAA\r\n"
     ]
    }
   ],
   "source": [
    "!head /home/user1/Desktop/data/fasta/secuencias.fasta"
   ]
  },
  {
   "cell_type": "markdown",
   "metadata": {},
   "source": [
    "# conteo de lineas del archivo"
   ]
  },
  {
   "cell_type": "code",
   "execution_count": 1,
   "metadata": {},
   "outputs": [
    {
     "name": "stdout",
     "output_type": "stream",
     "text": [
      "  40   40 7153 ../data/fasta/secuencias.fasta\r\n"
     ]
    }
   ],
   "source": [
    "!wc ../data/fasta/secuencias.fasta"
   ]
  },
  {
   "cell_type": "code",
   "execution_count": 2,
   "metadata": {},
   "outputs": [
    {
     "name": "stdout",
     "output_type": "stream",
     "text": [
      "40 ../data/fasta/secuencias.fasta\r\n"
     ]
    }
   ],
   "source": [
    "!wc -l ../data/fasta/secuencias.fasta"
   ]
  },
  {
   "cell_type": "code",
   "execution_count": 3,
   "metadata": {},
   "outputs": [
    {
     "name": "stdout",
     "output_type": "stream",
     "text": [
      "40 ../data/fasta/secuencias.fasta\r\n"
     ]
    }
   ],
   "source": [
    "!wc -w ../data/fasta/secuencias.fasta # conteo de palabras"
   ]
  },
  {
   "cell_type": "code",
   "execution_count": 4,
   "metadata": {},
   "outputs": [
    {
     "name": "stdout",
     "output_type": "stream",
     "text": [
      "7153 ../data/fasta/secuencias.fasta\r\n"
     ]
    }
   ],
   "source": [
    "!wc -c ../data/fasta/secuencias.fasta # conteo de caracteres"
   ]
  },
  {
   "cell_type": "code",
   "execution_count": 5,
   "metadata": {},
   "outputs": [
    {
     "name": "stdout",
     "output_type": "stream",
     "text": [
      ">Nav1.2F.seq\r\n",
      ">Nav1.2R.seq\r\n",
      ">Nav1.8F.seq\r\n",
      ">Nav1.8R.seq\r\n",
      ">Nav2.2F.seq\r\n",
      ">Nav2.2R.seq\r\n",
      ">PET1.2F.seq\r\n",
      ">PET1.2R.seq\r\n",
      ">PET1.8F.seq\r\n",
      ">PET1.8R.seq\r\n",
      ">PET2.2F.seq\r\n",
      ">PET2.2R.seq\r\n",
      ">PET2.8F.seq\r\n",
      ">PET2.8R.seq\r\n",
      ">PETsn1.2F.seq\r\n",
      ">PETsn1.2R.seq\r\n",
      ">PETsn1.8F.seq\r\n",
      ">PETsn1.8R.seq\r\n",
      ">PHBb1.2F.seq\r\n",
      ">PHBb1.2R.seq\r\n"
     ]
    }
   ],
   "source": [
    "!grep \">\" ../data/fasta/secuencias.fasta"
   ]
  },
  {
   "cell_type": "markdown",
   "metadata": {},
   "source": [
    "### Los comandos se pueden enlazar unos con otros para formar una línea de comandos también conocida como *pipeline*"
   ]
  },
  {
   "cell_type": "code",
   "execution_count": 6,
   "metadata": {},
   "outputs": [
    {
     "name": "stdout",
     "output_type": "stream",
     "text": [
      "20\r\n"
     ]
    }
   ],
   "source": [
    "!grep \">\" ../data/fasta/secuencias.fasta| wc -l"
   ]
  },
  {
   "cell_type": "markdown",
   "metadata": {},
   "source": [
    "### De manera similar se pueden contar los caracteres con el fin de conocer cuántas letras hay"
   ]
  },
  {
   "cell_type": "code",
   "execution_count": 7,
   "metadata": {},
   "outputs": [
    {
     "name": "stdout",
     "output_type": "stream",
     "text": [
      "6883\r\n"
     ]
    }
   ],
   "source": [
    "!grep \"A\" ../data/fasta/secuencias.fasta| wc -c"
   ]
  },
  {
   "cell_type": "markdown",
   "metadata": {
    "collapsed": true
   },
   "source": [
    "# Describa qué hace grep y wc"
   ]
  },
  {
   "cell_type": "code",
   "execution_count": null,
   "metadata": {},
   "outputs": [],
   "source": []
  },
  {
   "cell_type": "markdown",
   "metadata": {},
   "source": [
    "# Puede utilizar \"ls\" desde la terminal? "
   ]
  },
  {
   "cell_type": "code",
   "execution_count": null,
   "metadata": {},
   "outputs": [],
   "source": []
  },
  {
   "cell_type": "markdown",
   "metadata": {},
   "source": [
    "# qué opciones tiene?"
   ]
  },
  {
   "cell_type": "code",
   "execution_count": null,
   "metadata": {},
   "outputs": [],
   "source": []
  },
  {
   "cell_type": "code",
   "execution_count": null,
   "metadata": {},
   "outputs": [],
   "source": []
  },
  {
   "cell_type": "code",
   "execution_count": null,
   "metadata": {},
   "outputs": [],
   "source": []
  },
  {
   "cell_type": "markdown",
   "metadata": {},
   "source": [
    "# Escriba qué es lo que aprendió en esta bitácora y en qué le podría ayudar en su trabajo, sea tan explícito como le sea posible"
   ]
  },
  {
   "cell_type": "code",
   "execution_count": null,
   "metadata": {},
   "outputs": [],
   "source": []
  },
  {
   "cell_type": "code",
   "execution_count": null,
   "metadata": {},
   "outputs": [],
   "source": []
  }
 ],
 "metadata": {
  "kernelspec": {
   "display_name": "Python 3",
   "language": "python",
   "name": "python3"
  },
  "language_info": {
   "codemirror_mode": {
    "name": "ipython",
    "version": 3
   },
   "file_extension": ".py",
   "mimetype": "text/x-python",
   "name": "python",
   "nbconvert_exporter": "python",
   "pygments_lexer": "ipython3",
   "version": "3.6.4"
  }
 },
 "nbformat": 4,
 "nbformat_minor": 2
}
