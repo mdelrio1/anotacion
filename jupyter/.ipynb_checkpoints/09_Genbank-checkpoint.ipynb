{
 "cells": [
  {
   "cell_type": "markdown",
   "metadata": {},
   "source": [
    "# Bitacora electronica para descargar secuencias del Genbank (NCBI)"
   ]
  },
  {
   "cell_type": "markdown",
   "metadata": {},
   "source": [
    "# para descargar una sola secuencia"
   ]
  },
  {
   "cell_type": "markdown",
   "metadata": {},
   "source": [
    "es necesario cargar las bibliotecas de Biopython "
   ]
  },
  {
   "cell_type": "code",
   "execution_count": 1,
   "metadata": {},
   "outputs": [],
   "source": [
    "from Bio import SeqIO, Entrez"
   ]
  },
  {
   "cell_type": "markdown",
   "metadata": {},
   "source": [
    "la variable \"lista\" contendra los números de acceso de las secuencias a descargar"
   ]
  },
  {
   "cell_type": "markdown",
   "metadata": {},
   "source": [
    "En este caso sera una sola secuencia"
   ]
  },
  {
   "cell_type": "code",
   "execution_count": 2,
   "metadata": {},
   "outputs": [],
   "source": [
    "lista = \"HZ391319.1\""
   ]
  },
  {
   "cell_type": "markdown",
   "metadata": {},
   "source": [
    "### es indispensable dar el correo electronico para identificarse en el Genbank"
   ]
  },
  {
   "cell_type": "code",
   "execution_count": 3,
   "metadata": {},
   "outputs": [
    {
     "name": "stdout",
     "output_type": "stream",
     "text": [
      "HZ391319.1 JP 2015186454-A/3: Abalone vasa gene marker and Method for producing a sterilized abalone \n",
      "with 1 features\n"
     ]
    }
   ],
   "source": [
    "Entrez.email = \"mdelrio@xanum.uam.mx\"\n",
    "handle = Entrez.efetch(db=\"nucleotide\", rettype=\"gb\", retmode=\"text\", id=lista)\n",
    "seq_record = SeqIO.read(handle, \"genbank\")\n",
    "SeqIO.write(seq_record, \"./Desktop/data/Abalone_vasa_HZ391319.gb\", \"genbank\")\n",
    "SeqIO.write(seq_record, \"./Desktop/data/Abalone_vasa_HZ391319.fa\", \"fasta\")\n",
    "handle.close()\n",
    "print(\"%s %s \\nwith %i features\" % (seq_record.id, seq_record.description, len(seq_record.features)))\n",
    "\n"
   ]
  },
  {
   "cell_type": "markdown",
   "metadata": {},
   "source": [
    "Con lo anterior se han creado dos archivo en el directorio ```Desktop/data```"
   ]
  },
  {
   "cell_type": "code",
   "execution_count": 1,
   "metadata": {},
   "outputs": [
    {
     "name": "stdout",
     "output_type": "stream",
     "text": [
      "Abalone_vasa_HZ391319.fa              argonautas.gb\r\n",
      "Abalone_vasa_HZ391319.gb              argos.fas\r\n",
      "Hrufescens_mtDNASequence.csv          argos.gb\r\n",
      "Hrufescens_mtDNASequences_NCBI.fasta  idt014contig20.fasta\r\n",
      "argonautas.fasta\r\n"
     ]
    }
   ],
   "source": [
    "ls ./Desktop/data/"
   ]
  },
  {
   "cell_type": "code",
   "execution_count": 2,
   "metadata": {},
   "outputs": [
    {
     "name": "stdout",
     "output_type": "stream",
     "text": [
      ">HZ391319.1 JP 2015186454-A/3: Abalone vasa gene marker and Method for producing a sterilized abalone\r\n",
      "AGACAGCTCTGGCAAAGAGGATCGGCCACCCCCATACATTCCTCCTGCACTGACAGAGAA\r\n",
      "CGAAGACGAGATATTCCAGTCCATAGAGAAGGGCATAAACTTTGACAAATATGACAATAT\r\n",
      "CAGTGTGGAAGTGAGTGGGAGAGACCCTGTTGGTTTCATCAGCTGTTTTGAGGAAGCTGG\r\n",
      "TCTTTATCCTACGTTTTTGAAGAATGTTCGGAAGGCAAAGTACGAGAAACCAACACCTGT\r\n",
      "ACAGAAGTATTCTATTCCTATTATTGGCGCTGGTCGGGACCTGATGGCATGTGCCCAGAC\r\n",
      "AGGATCGGGCAAAACGGCTGCCTTCTTGTTGCCGACATTAACCTGTATGGTGAAGGAAGG\r\n",
      "ATTGACTACCAGTCAGTTCTCGGAGGTACAGGAGCCTCAAGCCATCATTGTGGCCCCTAC\r\n",
      "CAGGGAGCTGGTGGTGCAGATCCACTCTGATGCTCGCAAGTTCTCCTGGGGGACGGAGGT\r\n",
      "TCGCCCCGTGGTGGTGTATGGGGGGACGTCTGTGGGGCATCAGCTGAGGGAGGTGGAGAG\r\n"
     ]
    }
   ],
   "source": [
    "!head Desktop/data/Abalone_vasa_HZ391319.fa"
   ]
  },
  {
   "cell_type": "code",
   "execution_count": 3,
   "metadata": {},
   "outputs": [
    {
     "name": "stdout",
     "output_type": "stream",
     "text": [
      "LOCUS       HZ391319                 709 bp    DNA     linear   PAT 27-JAN-2016\r\n",
      "DEFINITION  JP 2015186454-A/3: Abalone vasa gene marker and Method for producing\r\n",
      "            a sterilized abalone.\r\n",
      "ACCESSION   HZ391319\r\n",
      "VERSION     HZ391319.1\r\n",
      "KEYWORDS    JP 2015186454-A/3.\r\n",
      "SOURCE      Haliotis discus discus (disc abalone)\r\n",
      "  ORGANISM  Haliotis discus discus\r\n",
      "            Eukaryota; Metazoa; Lophotrochozoa; Mollusca; Gastropoda;\r\n",
      "            Vetigastropoda; Haliotoidea; Haliotidae; Haliotis.\r\n"
     ]
    }
   ],
   "source": [
    "!head ./Desktop/data/Abalone_vasa_HZ391319.gb"
   ]
  },
  {
   "cell_type": "markdown",
   "metadata": {},
   "source": [
    "## para descargar varias secuencias se usa la siguiente opcion"
   ]
  },
  {
   "cell_type": "code",
   "execution_count": 7,
   "metadata": {},
   "outputs": [],
   "source": [
    "# Secuencias de argonautas, nucleotidos\n",
    "lista =\"AB191108, AY545104, HQ846022, HQ846036, KF017606, EU071435, JN800401, JN800402, AF369112, AF299267, AF299270, HM104247, AF299266\"\n"
   ]
  },
  {
   "cell_type": "markdown",
   "metadata": {},
   "source": [
    "Del artículo \n",
    "\n",
    "López-Wilchis, R. M. Á. Del Río-Portilla y L M Guevara-Chumacero. 2017. Mitochondrial genome of *Pteronotus personatus* (Chiroptera: Mormoopidae): comparison with selected bats and phylogenetic considerations. Genetica. 145:27–35. DOI 10.1007/s10709-016-9943-9\n",
    "\n",
    "https://link.springer.com/article/10.1007%2Fs10709-016-9943-9\n",
    "\n",
    "se descargan las secuencias:\n",
    "\n",
    "*Tonatia saurophila* (HG003315), *Carollia perspicillata* (HG003309), *Micronycteris megalotis* (HF947304), *Nyctalus noctula* (NC_027237), *Eptesicus serotinus* (NC_022474), *Rhinolophus sinicus* (KR106992), *Rhinolophus macrotis* (NC_026460), *Hipposideros armiger* (NC_018540), *Pteropus vampyrus* (NC_026542), *Pteropus alecto* (NC_023122), *Rousettus aegyptiacus* (KC702803), and *Epomophorus gambianus* (KT963027)"
   ]
  },
  {
   "cell_type": "code",
   "execution_count": 2,
   "metadata": {},
   "outputs": [],
   "source": [
    "lista = \"HG003315, HG003309, HF947304), NC_027237, NC_022474, KR106992, NC_026460, NC_018540, NC_026542, NC_023122, KC702803, KT963027\""
   ]
  },
  {
   "cell_type": "code",
   "execution_count": 3,
   "metadata": {},
   "outputs": [
    {
     "name": "stdout",
     "output_type": "stream",
     "text": [
      "HG003315.1 Tonatia saurophila complete mitochondrial genome...\n",
      "Sequence length 16629, 77 features, from: mitochondrion Tonatia saurophila (stripe-headed round-eared bat)\n",
      "HG003309.1 Carollia perspicillata complete mitochondrial geno...\n",
      "Sequence length 16711, 77 features, from: mitochondrion Carollia perspicillata (Seba's short-tailed bat)\n",
      "NC_027237.1 Nyctalus noctula mitochondrion, complete genome...\n",
      "Sequence length 17478, 77 features, from: mitochondrion Nyctalus noctula (noctule)\n",
      "NC_022474.1 Eptesicus serotinus mitochondrion, complete genome...\n",
      "Sequence length 16673, 53 features, from: mitochondrion Eptesicus serotinus (Common serotine)\n",
      "KR106992.1 Rhinolophus sinicus sinicus isolate GZ0860 mitocho...\n",
      "Sequence length 16868, 53 features, from: mitochondrion Rhinolophus sinicus sinicus\n",
      "NC_026460.1 Rhinolophus macrotis voucher Gz-07-64 mitochondrio...\n",
      "Sequence length 16848, 53 features, from: mitochondrion Rhinolophus macrotis (Big-eared Horseshoe Bat)\n",
      "NC_018540.1 Hipposideros armiger mitochondrion, complete genom...\n",
      "Sequence length 16784, 52 features, from: mitochondrion Hipposideros armiger (great roundleaf bat)\n",
      "NC_026542.1 Pteropus vampyrus mitochondrion, complete genome...\n",
      "Sequence length 16554, 75 features, from: mitochondrion Pteropus vampyrus (large flying fox)\n",
      "NC_023122.1 Pteropus alecto mitochondrion, complete genome...\n",
      "Sequence length 16739, 76 features, from: mitochondrion Pteropus alecto (black flying fox)\n",
      "KC702803.1 Rousettus aegyptiacus mitochondrion, partial genom...\n",
      "Sequence length 16704, 54 features, from: mitochondrion Rousettus aegyptiacus (Egyptian rousette)\n",
      "KT963027.1 Epomophorus gambianus mitochondrion, complete geno...\n",
      "Sequence length 16702, 75 features, from: mitochondrion Epomophorus gambianus (Gambian epauletted fruit bat)\n"
     ]
    }
   ],
   "source": [
    "#nucleotidos\n",
    "secuencias= []\n",
    "Entrez.email = \"mdelrio@cicese.mx\"\n",
    "handle = Entrez.efetch(db=\"nucleotide\", rettype=\"gb\", retmode=\"text\", id=lista)\n",
    "for seq_record in SeqIO.parse(handle, \"gb\"):\n",
    "    print(\"%s %s...\" % (seq_record.id, seq_record.description[:50]))\n",
    "    print(\"Sequence length %i, %i features, from: %s\"\n",
    "          % (len(seq_record), len(seq_record.features), seq_record.annotations[\"source\"]))\n",
    "    secuencias.append(seq_record)\n",
    "\n",
    "handle.close()"
   ]
  },
  {
   "cell_type": "markdown",
   "metadata": {},
   "source": [
    "### si se desea guardar la informacion se puede guardar en el formato deseado, solo hay que quitar \"#\" de la linea con el formato"
   ]
  },
  {
   "cell_type": "code",
   "execution_count": 12,
   "metadata": {},
   "outputs": [
    {
     "name": "stdout",
     "output_type": "stream",
     "text": [
      "HG003315.1 \t Tonatia saurophila complete mitochondrial genome\n",
      "HG003309.1 \t Carollia perspicillata complete mitochondrial genome\n",
      "NC_027237.1 \t Nyctalus noctula mitochondrion, complete genome\n",
      "NC_022474.1 \t Eptesicus serotinus mitochondrion, complete genome\n",
      "KR106992.1 \t Rhinolophus sinicus sinicus isolate GZ0860 mitochondrion, complete genome\n",
      "NC_026460.1 \t Rhinolophus macrotis voucher Gz-07-64 mitochondrion, complete genome\n",
      "NC_018540.1 \t Hipposideros armiger mitochondrion, complete genome\n",
      "NC_026542.1 \t Pteropus vampyrus mitochondrion, complete genome\n",
      "NC_023122.1 \t Pteropus alecto mitochondrion, complete genome\n",
      "KC702803.1 \t Rousettus aegyptiacus mitochondrion, partial genome\n",
      "KT963027.1 \t Epomophorus gambianus mitochondrion, complete genome\n"
     ]
    }
   ],
   "source": [
    "for rec in secuencias:\n",
    "    print (rec.id, \"\\t\", rec.description)"
   ]
  },
  {
   "cell_type": "code",
   "execution_count": 15,
   "metadata": {},
   "outputs": [
    {
     "data": {
      "text/plain": [
       "11"
      ]
     },
     "execution_count": 15,
     "metadata": {},
     "output_type": "execute_result"
    }
   ],
   "source": [
    "SeqIO.write(secuencias, \"/Users/migueldelrio/Desktop/data/murcielagos.gb\", \"genbank\")\n",
    "SeqIO.write(secuencias, \"/Users/migueldelrio/Desktop/data/murcielagos.fasta\", \"fasta\")"
   ]
  },
  {
   "cell_type": "code",
   "execution_count": 17,
   "metadata": {},
   "outputs": [
    {
     "name": "stdout",
     "output_type": "stream",
     "text": [
      ">HG003315.1 Tonatia saurophila complete mitochondrial genome\r\n",
      "GTTAATGTAGCTTAACCTACAAAGCAAGGCACTGAAAATGCCTAGATGAGTCTACAATAC\r\n",
      "TCCATAAACACACAGGTTTGGTCCCAGCCTTCCTATTAGTTGTTAGCAAAACTACACATG\r\n",
      "CAAGTATCAGCATCCCAGTGAGAATGCCCTATAAGTCATCATATCCCGACAAAAAGGAGC\r\n",
      "AGGCATCAAGCACACTCCAAGTAGCTCACAACGCCTTGCTCAACCACACCCCCACGGGTA\r\n",
      "AACAGCAGTGATAAAAATTAAGCAATAAACGAAAGTTCGACTAAGTTATGCTAACCAAGG\r\n",
      "GTTGGTAAATTTCGTGCCAGCCACCGCGGTCATACGATTAACCCTAACTAATAGACCCAC\r\n",
      "GGCGTAAAACGTGTTTAAGAACATTAAATAATTAAAGCCAAACTACAACTACGCTGTAAA\r\n",
      "AAGCCCTAGTCACTGTAAGCCCCACTACGAAAGTAGCTTTAAATCCTCTGAATACACGAC\r\n",
      "AGCTAAGACCCAAACTGGGATTAGATACCCCACTATACTTAGCCATAAACCCAAAGAATT\r\n",
      "AACACAACAAGATTCTTCGCCAGAGTACTACTAGCCAAAGCTTAAAACTCAAAGGACTTG\r\n",
      "GCGGTGCTTCACATCCTTCTAGAGGAGCCTGTTCTATAATCGATAAACCCCGATAAACCT\r\n",
      "CACCAACTCTTGCTAACTCAGCCTATATACCGCCATCTTCAGCAAACCCTAAAAAGGAAC\r\n",
      "CACAGTAAGCCCAACCATAATACATAAAAACGTTAGGTCAAGGTGTAGCCTATGAGTTGG\r\n",
      "AAAGAAATGGGCTACATTTCCTACAACTAGGTCATTTACAATCTTTTACACGAAAGCTCC\r\n",
      "CGTGAAATCAGGATCTAAAGGTGGATTTAGCAGTAAGCTAAGAATAGAGTGCTTAGCTGA\r\n",
      "ATTAGGCCATGAAGCACGCACACACCGCCCGTCACCCTCCTCAAATAATCTAATGTTAAC\r\n",
      "CCCTAAACCTATTAACTCAAACCACATACTACTAGAGGAGACAAGTCGTAACAAGGTAAG\r\n",
      "CGTACTGGAAAGTGCGCTTGGATAACCCAAAGTATAGCTTAACCTAAAGCATCTAGCTTA\r\n",
      "CACCTAGAAGATATCATTTACAATGACTACTTTGAGCCGTACCTAGCCCCAAACCTAACA\r\n"
     ]
    }
   ],
   "source": [
    "!head -20 /Users/migueldelrio/Desktop/data/murcielagos.fasta"
   ]
  },
  {
   "cell_type": "code",
   "execution_count": null,
   "metadata": {},
   "outputs": [],
   "source": []
  }
 ],
 "metadata": {
  "kernelspec": {
   "display_name": "Python 3",
   "language": "python",
   "name": "python3"
  },
  "language_info": {
   "codemirror_mode": {
    "name": "ipython",
    "version": 3
   },
   "file_extension": ".py",
   "mimetype": "text/x-python",
   "name": "python",
   "nbconvert_exporter": "python",
   "pygments_lexer": "ipython3",
   "version": "3.6.5"
  }
 },
 "nbformat": 4,
 "nbformat_minor": 2
}
