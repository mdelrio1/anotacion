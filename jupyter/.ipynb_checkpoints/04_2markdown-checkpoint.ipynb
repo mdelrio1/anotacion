{
 "cells": [
  {
   "cell_type": "markdown",
   "metadata": {},
   "source": [
    "# [Markdown](https://github.com/adam-p/markdown-here/wiki/Markdown-Cheatsheet) \n",
    "Es un lenguaje marcado de escritura breve para la publicación de texto en html. Se puede utilizar para la publicación de manera consistente en [internet](https://markdown.es).\n",
    "Existen diferentes versiones de *Markdown* por lo que no hay un estándar. A pesar de esto se darán unos comandos básicos para su uso.\n",
    "### A continuación se dan unos comandos, se recomienda consultar la página https://github.com/adam-p/markdown-here/wiki/Markdown-Cheatsheet para más información  "
   ]
  },
  {
   "cell_type": "markdown",
   "metadata": {},
   "source": [
    "# Encabezados"
   ]
  },
  {
   "cell_type": "raw",
   "metadata": {},
   "source": [
    "# E1\n",
    "## E2\n",
    "### E3\n",
    "#### E4\n",
    "##### E5\n",
    "###### E6"
   ]
  },
  {
   "cell_type": "markdown",
   "metadata": {},
   "source": [
    "# E1\n",
    "## E2\n",
    "### E3\n",
    "#### E4\n",
    "##### E5\n",
    "###### E6"
   ]
  },
  {
   "cell_type": "markdown",
   "metadata": {},
   "source": [
    "# Enfasis"
   ]
  },
  {
   "cell_type": "raw",
   "metadata": {},
   "source": [
    "Enfasis, también conocido como cursiva o italica se hace on *asteriscos* o _guión bajo_.\n",
    "\n",
    "Enfasis fuerte o negritas, con **asteriscos** or __guiones bajos__.\n",
    "\n",
    "Enfasis combinado con **asteriscos and _guión bajo_**.\n",
    "\n",
    "Texo tachado usa dos virgulillas. ~~texo tachado.~~"
   ]
  },
  {
   "cell_type": "markdown",
   "metadata": {},
   "source": [
    "Enfasis, también conocido como cursiva o italica se hace on *asteriscos* o _guión bajo_.\n",
    "\n",
    "Enfasis fuerte o negritas, con **asteriscos** or __guiones bajos__.\n",
    "\n",
    "Enfasis combinado con **asteriscos and _guión bajo_**.\n",
    "\n",
    "Texo tachado usa dos virgulillas. ~~texo tachado.~~"
   ]
  },
  {
   "cell_type": "markdown",
   "metadata": {},
   "source": [
    "# Listas"
   ]
  },
  {
   "cell_type": "raw",
   "metadata": {},
   "source": [
    "1. Primer ítem en la lista\n",
    "2. Segundo ítem\n",
    "  * Sublista no ordenada. \n",
    "1. No importa el número, se continua la lista\n",
    "  1. Sublista ordenada\n",
    "4. Otro ítem.\n",
    "\n",
    "   Se pueden identar los párrafors dentro de las listas. Note la línea en blanco antes de este texto y los espacios al inicio (por lo menos uno, pero se usan tres en este caso) del párrafo.\n",
    "\n",
    "   Para tener un punto y aparte, es necesario utilizar al menos dos espacios al final.  \n",
    "   Observe que esta línea está separada, pero dentro del mismo párrafo.  \n",
    "   Por el contrario, si no se usan espacios al final, no se observa la lína de separación\n",
    "\n",
    "\n",
    "* Para una lista no ordenada, use asteriscos \n",
    "- menos\n",
    "+ o mas"
   ]
  },
  {
   "cell_type": "markdown",
   "metadata": {},
   "source": [
    "1. Primer ítem en la lista\n",
    "2. Segundo ítem\n",
    "  * Sublista no ordenada. \n",
    "1. No importa el número, se continua la lista\n",
    "  1. Sublista ordenada\n",
    "4. Otro ítem.\n",
    "\n",
    "   Se pueden identar los párrafors dentro de las listas. Note la línea en blanco antes de este texto y los espacios al inicio (por lo menos uno, pero se usan tres en este caso) del párrafo.\n",
    "\n",
    "   Para tener un punto y aparte, es necesario utilizar al menos dos espacios al final.  \n",
    "   Observe que esta línea está separada, pero dentro del mismo párrafo.  \n",
    "   Por el contrario, si no se usan espacios al final, no se observa la lína de separación\n",
    "\n",
    "\n",
    "* Para una lista no ordenada, use asteriscos \n",
    "- menos\n",
    "+ o mas"
   ]
  },
  {
   "cell_type": "markdown",
   "metadata": {},
   "source": [
    "# Enlaces a páginas de internet"
   ]
  },
  {
   "cell_type": "raw",
   "metadata": {},
   "source": [
    "Se puede poner un [enlace en línea](https://www.ncbi.nlm.nih.gov)\n",
    "\n",
    "o dejar el enlace como tal cual https://www.ncbi.nlm.nih.gov\n"
   ]
  },
  {
   "cell_type": "markdown",
   "metadata": {},
   "source": [
    "Se puede poner un [enlace en línea](https://www.ncbi.nlm.nih.gov)\n",
    "\n",
    "o dejar el enlace como tal cual https://www.ncbi.nlm.nih.gov\n"
   ]
  },
  {
   "cell_type": "markdown",
   "metadata": {},
   "source": [
    "# Imágenes"
   ]
  },
  {
   "cell_type": "raw",
   "metadata": {},
   "source": [
    "En línea con el texto <img src=\"https://www.cicese.edu.mx/assets/img/cicese45.png\" width = 10%>\n",
    "\n",
    "Centrado \n",
    "<p align=\"center\"><img src=\"https://www.cicese.edu.mx/assets/img/cicese45.png\" width = 10%></p>"
   ]
  },
  {
   "cell_type": "markdown",
   "metadata": {},
   "source": [
    "En línea con el texto <img src=\"https://www.cicese.edu.mx/assets/img/cicese45.png\" width = 10%>\n",
    "\n",
    "Centrado \n",
    "<p align=\"center\"><img src=\"https://www.cicese.edu.mx/assets/img/cicese45.png\" width = 10%></p>"
   ]
  },
  {
   "cell_type": "markdown",
   "metadata": {},
   "source": [
    "# Código en el texto"
   ]
  },
  {
   "cell_type": "raw",
   "metadata": {},
   "source": [
    "Markdown se usa para usar bloques de código. Estos se utiliza la tilde grave para señalar un `bloque de código`"
   ]
  },
  {
   "cell_type": "markdown",
   "metadata": {},
   "source": [
    "Markdown se usa para usar bloques de código. Estos se utiliza la tilde grave para señalar un `bloque de código`\n"
   ]
  },
  {
   "cell_type": "markdown",
   "metadata": {},
   "source": [
    "# Tablas"
   ]
  },
  {
   "cell_type": "raw",
   "metadata": {},
   "source": [
    "|operación | linux/unix/iOS|Windows|\n",
    "|:----------:|:---------------|-------:|\n",
    "|lista de archivos|`ls` |`dir`|\n",
    "|cambio de directorio| `cd` nombre_del_diectorio| `cd` nombre_del_diectorio|\n",
    "|cd directorio por omisión (home)| `cd` |`cd` *|\n",
    "|crear un nuevo directorio| `mkdir` nombre del directorio| `md` nombre_del_directorio|\n",
    "|borrar un directorio | `rmdir` nombre_del_directorio (debe estar vacío)| `del` nombre_del_directorio|\n",
    "|copiar archivos|`cp` nombre_del_archivo lugar_a_donde_se_va_a_copiar|`copy` nombre_del_archivo lugar_a_donde_se_va_a_copiar|\n",
    "\n",
    "\n"
   ]
  },
  {
   "cell_type": "markdown",
   "metadata": {},
   "source": [
    "|operación | linux/unix/iOS|Windows|\n",
    "|:----------:|:---------------|-------:|\n",
    "|lista de archivos|`ls` |`dir`|\n",
    "|cambio de directorio| `cd` nombre_del_diectorio| `cd` nombre_del_diectorio|\n",
    "|cd directorio por omisión (home)| `cd` |`cd` *|\n",
    "|crear un nuevo directorio| `mkdir` nombre del directorio| `md` nombre_del_directorio|\n",
    "|borrar un directorio | `rmdir` nombre_del_directorio (debe estar vacío)| `del` nombre_del_directorio|\n",
    "|copiar archivos|`cp` nombre_del_archivo lugar_a_donde_se_va_a_copiar|`copy` nombre_del_archivo lugar_a_donde_se_va_a_copiar|\n",
    "\n",
    "\n"
   ]
  },
  {
   "cell_type": "markdown",
   "metadata": {},
   "source": [
    "# Líneas horizontales"
   ]
  },
  {
   "cell_type": "raw",
   "metadata": {},
   "source": [
    "Se pueden utilizar\n",
    "tres o mas\n",
    "\n",
    "guiones\n",
    "\n",
    "---\n",
    "\n",
    "asteriscos\n",
    "\n",
    "***\n",
    "\n",
    "guión bajo\n",
    "___\n"
   ]
  },
  {
   "cell_type": "markdown",
   "metadata": {},
   "source": [
    "Se pueden utilizar\n",
    "tres o mas\n",
    "\n",
    "guiones\n",
    "\n",
    "---\n",
    "\n",
    "asteriscos\n",
    "\n",
    "***\n",
    "\n",
    "guión bajo\n",
    "___\n"
   ]
  },
  {
   "cell_type": "markdown",
   "metadata": {},
   "source": [
    "### Más información en \n",
    "https://github.com/adam-p/markdown-here/wiki/Markdown-Cheatsheet"
   ]
  },
  {
   "cell_type": "code",
   "execution_count": null,
   "metadata": {},
   "outputs": [],
   "source": []
  }
 ],
 "metadata": {
  "kernelspec": {
   "display_name": "Python 3",
   "language": "python",
   "name": "python3"
  },
  "language_info": {
   "codemirror_mode": {
    "name": "ipython",
    "version": 3
   },
   "file_extension": ".py",
   "mimetype": "text/x-python",
   "name": "python",
   "nbconvert_exporter": "python",
   "pygments_lexer": "ipython3",
   "version": "3.6.5"
  }
 },
 "nbformat": 4,
 "nbformat_minor": 2
}
