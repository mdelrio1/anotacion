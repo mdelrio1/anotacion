{
 "cells": [
  {
   "cell_type": "markdown",
   "metadata": {},
   "source": [
    "# Actualización de las bases de datos del NCBI"
   ]
  },
  {
   "cell_type": "markdown",
   "metadata": {},
   "source": [
    "### Se requiere tener instalado el blast\n",
    "https://blast.ncbi.nlm.nih.gov/Blast.cgi?CMD=Web&PAGE_TYPE=BlastDocs&DOC_TYPE=Download\n",
    "ejecutar en el cmd\n",
    "blastn -version\n",
    "\n",
    "### se requiere tener instalado el lenguaje perl\n",
    "https://www.perl.org\n",
    "ejecutar en el cmd\n",
    "perl -version \n",
    "\n"
   ]
  },
  {
   "cell_type": "markdown",
   "metadata": {},
   "source": [
    "### se actualiza la base de datos utilizando un comando de perl"
   ]
  },
  {
   "cell_type": "code",
   "execution_count": 1,
   "metadata": {},
   "outputs": [
    {
     "name": "stdout",
     "output_type": "stream",
     "text": [
      "C:\\Users\\SalaD26\\Desktop\\curso\\bigdata\n"
     ]
    }
   ],
   "source": [
    "cd \"~/Desktop/curso/bigdata/\""
   ]
  },
  {
   "cell_type": "markdown",
   "metadata": {},
   "source": [
    "## verificar que está el archivo\n",
    "`update_blastdb.pl`\n"
   ]
  },
  {
   "cell_type": "code",
   "execution_count": 2,
   "metadata": {
    "scrolled": false
   },
   "outputs": [
    {
     "name": "stdout",
     "output_type": "stream",
     "text": [
      " El volumen de la unidad C no tiene etiqueta.\n",
      " El número de serie del volumen es: 4C69-5113\n",
      "\n",
      " Directorio de C:\\Program Files\\NCBI\\blast2_7\\bin\n",
      "\n",
      "18/10/2017  07:40 p. m.            12,488 update_blastdb.pl\n",
      "               1 archivos         12,488 bytes\n",
      "               0 dirs  85,613,461,504 bytes libres\n"
     ]
    }
   ],
   "source": [
    "!dir \"C:\\Program Files\\NCBI\\blast2_7\\bin\\update*.*\""
   ]
  },
  {
   "cell_type": "code",
   "execution_count": 5,
   "metadata": {},
   "outputs": [
    {
     "name": "stdout",
     "output_type": "stream",
     "text": [
      "Connected to NCBI\n",
      "Downloading 16SMicrobial.tar.gz... [OK]\n"
     ]
    }
   ],
   "source": [
    "!perl \"C:\\Program Files\\NCBI\\blast2_7\\bin\\update_blastdb.pl\" --passive 16SMicrobial\n"
   ]
  },
  {
   "cell_type": "code",
   "execution_count": 6,
   "metadata": {},
   "outputs": [
    {
     "name": "stdout",
     "output_type": "stream",
     "text": [
      " El volumen de la unidad C no tiene etiqueta.\n",
      " El número de serie del volumen es: 4C69-5113\n",
      "\n",
      " Directorio de C:\\Users\\SalaD26\\Desktop\\curso\\bigdata\n",
      "\n",
      "18/07/2018  12:31 p. m.    <DIR>          .\n",
      "18/07/2018  12:31 p. m.    <DIR>          ..\n",
      "18/07/2018  12:31 p. m.        29,864,795 16SMicrobial.tar.gz\n",
      "18/07/2018  12:31 p. m.                54 16SMicrobial.tar.gz.md5\n",
      "               2 archivos     29,864,849 bytes\n",
      "               2 dirs  85,575,901,184 bytes libres\n"
     ]
    }
   ],
   "source": [
    "ls"
   ]
  },
  {
   "cell_type": "code",
   "execution_count": 7,
   "metadata": {},
   "outputs": [],
   "source": [
    "mkdir 16SMicrobial"
   ]
  },
  {
   "cell_type": "code",
   "execution_count": 8,
   "metadata": {},
   "outputs": [
    {
     "name": "stdout",
     "output_type": "stream",
     "text": [
      " El volumen de la unidad C no tiene etiqueta.\n",
      " El número de serie del volumen es: 4C69-5113\n",
      "\n",
      " Directorio de C:\\Users\\SalaD26\\Desktop\\curso\\bigdata\n",
      "\n",
      "18/07/2018  12:43 p. m.    <DIR>          16SMicrobial\n",
      "18/07/2018  12:31 p. m.        29,864,795 16SMicrobial.tar.gz\n",
      "18/07/2018  12:31 p. m.                54 16SMicrobial.tar.gz.md5\n",
      "               2 archivos     29,864,849 bytes\n",
      "               1 dirs  85,707,366,400 bytes libres\n"
     ]
    }
   ],
   "source": [
    "ls 16*"
   ]
  },
  {
   "cell_type": "markdown",
   "metadata": {},
   "source": [
    "## Ejecutar en el \"gitbash\""
   ]
  },
  {
   "cell_type": "markdown",
   "metadata": {
    "collapsed": true
   },
   "source": [
    "`cd ~/Desktop/curso/bigdata/\n",
    "mv 16SMicrobial.tar.gz 16SMicrobial/\n",
    "cd 16SMicrobial\n",
    "gunzip 16SMicrobial.tar.gz\n",
    "tar xvf  16SMicrobial.tar`"
   ]
  },
  {
   "cell_type": "code",
   "execution_count": 9,
   "metadata": {},
   "outputs": [
    {
     "name": "stdout",
     "output_type": "stream",
     "text": [
      " El volumen de la unidad C no tiene etiqueta.\n",
      " El número de serie del volumen es: 4C69-5113\n",
      "\n",
      " Directorio de C:\\Users\\SalaD26\\Desktop\\curso\\bigdata\n",
      "\n",
      "\n",
      " Directorio de C:\\Users\\SalaD26\\Desktop\\curso\\bigdata\n",
      "\n",
      "18/07/2018  02:38 p. m.    <DIR>          16SMicrobial\n",
      "18/07/2018  12:31 p. m.                54 16SMicrobial.tar.gz.md5\n",
      "               1 archivos             54 bytes\n",
      "               1 dirs  84,801,105,920 bytes libres\n"
     ]
    }
   ],
   "source": [
    "ls -lh 16*"
   ]
  },
  {
   "cell_type": "code",
   "execution_count": 10,
   "metadata": {},
   "outputs": [
    {
     "name": "stdout",
     "output_type": "stream",
     "text": [
      "C:\\Users\\SalaD26\\Desktop\\curso\\bigdata\\16SMicrobial\n"
     ]
    }
   ],
   "source": [
    "cd 16SMicrobial/"
   ]
  },
  {
   "cell_type": "code",
   "execution_count": 11,
   "metadata": {},
   "outputs": [
    {
     "name": "stdout",
     "output_type": "stream",
     "text": [
      " El volumen de la unidad C no tiene etiqueta.\n",
      " El número de serie del volumen es: 4C69-5113\n",
      "\n",
      " Directorio de C:\\Users\\SalaD26\\Desktop\\curso\\bigdata\\16SMicrobial\n",
      "\n",
      "18/07/2018  02:38 p. m.    <DIR>          .\n",
      "18/07/2018  02:38 p. m.    <DIR>          ..\n",
      "14/07/2018  11:05 p. m.         3,248,539 16SMicrobial.nhr\n",
      "14/07/2018  11:05 p. m.           241,304 16SMicrobial.nin\n",
      "14/07/2018  11:05 p. m.           163,032 16SMicrobial.nnd\n",
      "14/07/2018  11:05 p. m.               684 16SMicrobial.nni\n",
      "14/07/2018  11:05 p. m.            80,436 16SMicrobial.nog\n",
      "14/07/2018  11:05 p. m.           670,258 16SMicrobial.nsd\n",
      "14/07/2018  11:05 p. m.            14,978 16SMicrobial.nsi\n",
      "14/07/2018  11:05 p. m.         7,421,058 16SMicrobial.nsq\n",
      "18/07/2018  12:31 p. m.       140,605,440 16SMicrobial.tar\n",
      "14/07/2018  11:05 p. m.       116,338,352 taxdb.btd\n",
      "14/07/2018  11:05 p. m.        12,410,936 taxdb.bti\n",
      "              11 archivos    281,195,017 bytes\n",
      "               2 dirs  84,801,040,384 bytes libres\n"
     ]
    }
   ],
   "source": [
    "ls"
   ]
  },
  {
   "cell_type": "code",
   "execution_count": 12,
   "metadata": {},
   "outputs": [
    {
     "name": "stdout",
     "output_type": "stream",
     "text": [
      "C:\\Users\\SalaD26\\Desktop\\curso\\bigdata\n"
     ]
    }
   ],
   "source": [
    "cd .."
   ]
  },
  {
   "cell_type": "markdown",
   "metadata": {},
   "source": [
    "### Cómo sería el comando para descargar la base de datos taxonómica (taxdb)"
   ]
  },
  {
   "cell_type": "code",
   "execution_count": 19,
   "metadata": {},
   "outputs": [
    {
     "name": "stdout",
     "output_type": "stream",
     "text": [
      "Connected to NCBI\n",
      "Downloading taxdb.tar.gz... [OK]\n"
     ]
    }
   ],
   "source": [
    "!perl \"C:/Program Files/NCBI/blast/bin/update_blastdb.pl\" --passive taxdb"
   ]
  },
  {
   "cell_type": "markdown",
   "metadata": {},
   "source": [
    "## Ejecutar en el \"git bash\""
   ]
  },
  {
   "cell_type": "raw",
   "metadata": {
    "collapsed": true
   },
   "source": [
    "cd ~/Desktop/curso/bigdata/\n",
    "gunzip taxdb.tar.gz\n",
    "tar xvf  taxdb.tar"
   ]
  },
  {
   "cell_type": "markdown",
   "metadata": {},
   "source": [
    "### Cómo serían los comandos para descargar y descomprimir las proteinas de referencia (swissprot)?\n"
   ]
  },
  {
   "cell_type": "code",
   "execution_count": 20,
   "metadata": {},
   "outputs": [
    {
     "name": "stdout",
     "output_type": "stream",
     "text": [
      "Connected to NCBI\n",
      "Downloading swissprot.tar.gz... [OK]\n"
     ]
    }
   ],
   "source": [
    "!perl \"C:/Program Files/NCBI/blast/bin/update_blastdb.pl\" --passive swissprot"
   ]
  },
  {
   "cell_type": "raw",
   "metadata": {
    "collapsed": true
   },
   "source": [
    "#cd ~/Desktop/bioinformatica_aplicada/bigdata/ #opcional\n",
    "gunzip swissprot.tar.gz\n",
    "tar xvf  swissprot.tar"
   ]
  },
  {
   "cell_type": "code",
   "execution_count": null,
   "metadata": {
    "collapsed": true
   },
   "outputs": [],
   "source": []
  }
 ],
 "metadata": {
  "kernelspec": {
   "display_name": "Python 3",
   "language": "python",
   "name": "python3"
  },
  "language_info": {
   "codemirror_mode": {
    "name": "ipython",
    "version": 3
   },
   "file_extension": ".py",
   "mimetype": "text/x-python",
   "name": "python",
   "nbconvert_exporter": "python",
   "pygments_lexer": "ipython3",
   "version": "3.6.5"
  }
 },
 "nbformat": 4,
 "nbformat_minor": 2
}
