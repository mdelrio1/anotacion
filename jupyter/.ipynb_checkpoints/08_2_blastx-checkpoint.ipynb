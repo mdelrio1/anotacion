{
 "cells": [
  {
   "cell_type": "markdown",
   "metadata": {},
   "source": [
    "# Bitacora para el manejo de secuencias ensambladas y búsqueda con *Blastx*"
   ]
  },
  {
   "cell_type": "markdown",
   "metadata": {},
   "source": [
    "## Para el siguiente ejercicio es necesario tener el Blast+ instalado en la computadora\n",
    "https://www.ncbi.nlm.nih.gov/guide/data-software/"
   ]
  },
  {
   "cell_type": "markdown",
   "metadata": {},
   "source": [
    "## Se utilizarán los contigs formados por el ensamblaje que se localizan en \n",
    "`~/Desktop/data/ejercicio_ensamblaje/8_S356_contigs.fa`"
   ]
  },
  {
   "cell_type": "code",
   "execution_count": 1,
   "metadata": {},
   "outputs": [],
   "source": [
    "from pandas import Series, DataFrame\n",
    "import pandas as pd\n",
    "from Bio import SeqIO, AlignIO, SeqRecord\n",
    "from Bio.SeqRecord import SeqRecord\n",
    "from Bio.Seq import Seq\n",
    "import matplotlib.pyplot as plt \n",
    "import os\n",
    "from matplotlib_venn import venn3_unweighted"
   ]
  },
  {
   "cell_type": "code",
   "execution_count": 4,
   "metadata": {},
   "outputs": [
    {
     "name": "stdout",
     "output_type": "stream",
     "text": [
      "/home/user1/Desktop/data/ejercicio_ensamblaje\n"
     ]
    }
   ],
   "source": [
    "cd ~/Desktop/data/ejercicio_ensamblaje/"
   ]
  },
  {
   "cell_type": "code",
   "execution_count": 3,
   "metadata": {},
   "outputs": [
    {
     "name": "stdout",
     "output_type": "stream",
     "text": [
      "8_S356_contigs.fa          8_S356_contigs_blastx.tab         \u001b[0m\u001b[01;34mtrinity\u001b[0m/\r\n",
      "8_S356_contigs.tab         8_S356_contigs_blastx_goslim.csv\r\n",
      "8_S356_contigs_blastn.csv  \u001b[01;34mimg\u001b[0m/\r\n"
     ]
    }
   ],
   "source": [
    "ls "
   ]
  },
  {
   "cell_type": "code",
   "execution_count": 4,
   "metadata": {},
   "outputs": [],
   "source": [
    "os.makedirs('img',exist_ok=True)"
   ]
  },
  {
   "cell_type": "code",
   "execution_count": 5,
   "metadata": {},
   "outputs": [
    {
     "name": "stdout",
     "output_type": "stream",
     "text": [
      "321\r\n"
     ]
    }
   ],
   "source": [
    "!grep \">\" 8_S356_contigs.fa |wc -l"
   ]
  },
  {
   "cell_type": "markdown",
   "metadata": {},
   "source": [
    "# Se analizarán con blastx los contigs obtenidos a la base de datos *Swissprot*"
   ]
  },
  {
   "cell_type": "code",
   "execution_count": 6,
   "metadata": {},
   "outputs": [
    {
     "name": "stdout",
     "output_type": "stream",
     "text": [
      "Thu Aug  2 17:16:43 UTC 2018\n",
      "Thu Aug  2 17:20:51 UTC 2018\n"
     ]
    },
    {
     "name": "stderr",
     "output_type": "stream",
     "text": [
      "\n",
      "real\t4m7.935s\n",
      "user\t8m0.967s\n",
      "sys\t0m1.220s\n"
     ]
    }
   ],
   "source": [
    "%%bash\n",
    "export BLASTDB=~/DATA/swiss/\n",
    "\n",
    "date  \n",
    "time blastx -query 8_S356_contigs.fa  -db ~/DATA/swiss/swissprot \\\n",
    "-out 8_S356_contigs_blastx.tab -evalue 1E-6 -max_target_seqs 1 \\\n",
    "-num_threads 2 -outfmt \"6 std stitle\" \n",
    "date"
   ]
  },
  {
   "cell_type": "code",
   "execution_count": 7,
   "metadata": {},
   "outputs": [
    {
     "name": "stdout",
     "output_type": "stream",
     "text": [
      "Thu Aug  2 17:20:51 UTC 2018\r\n"
     ]
    }
   ],
   "source": [
    "!date"
   ]
  },
  {
   "cell_type": "code",
   "execution_count": 6,
   "metadata": {},
   "outputs": [
    {
     "name": "stdout",
     "output_type": "stream",
     "text": [
      "8_S356_contig000023\tO00370.1\t27.848\t158\t109\t3\t96\t557\t615\t771\t3.21e-12\t68.2\tRecName: Full=LINE-1 retrotransposable element ORF2 protein; Short=ORF2p; Includes: RecName: Full=Reverse transcriptase; Includes: RecName: Full=Endonuclease\r\n",
      "8_S356_contig000027\tP03934.1\t41.860\t86\t50\t0\t102\t359\t45\t130\t1.62e-13\t67.8\tRecName: Full=Transposable element Tc1 transposase\r\n"
     ]
    }
   ],
   "source": [
    "!head -2 8_S356_contigs_blastx.tab"
   ]
  },
  {
   "cell_type": "code",
   "execution_count": 7,
   "metadata": {},
   "outputs": [],
   "source": [
    "encabezado =(\"qseqid\", \"sseqid\", \"pident\", \"length\", \"mismatch\", \"gapopen\",\"qstart\", \n",
    "             \"qend\", \"sstart\",\"send\", \"evalue\", \"bitscore\", \"stitle\")"
   ]
  },
  {
   "cell_type": "code",
   "execution_count": 8,
   "metadata": {
    "scrolled": false
   },
   "outputs": [
    {
     "data": {
      "text/html": [
       "<div>\n",
       "<style scoped>\n",
       "    .dataframe tbody tr th:only-of-type {\n",
       "        vertical-align: middle;\n",
       "    }\n",
       "\n",
       "    .dataframe tbody tr th {\n",
       "        vertical-align: top;\n",
       "    }\n",
       "\n",
       "    .dataframe thead th {\n",
       "        text-align: right;\n",
       "    }\n",
       "</style>\n",
       "<table border=\"1\" class=\"dataframe\">\n",
       "  <thead>\n",
       "    <tr style=\"text-align: right;\">\n",
       "      <th></th>\n",
       "      <th>qseqid</th>\n",
       "      <th>sseqid</th>\n",
       "      <th>pident</th>\n",
       "      <th>length</th>\n",
       "      <th>mismatch</th>\n",
       "      <th>gapopen</th>\n",
       "      <th>qstart</th>\n",
       "      <th>qend</th>\n",
       "      <th>sstart</th>\n",
       "      <th>send</th>\n",
       "      <th>evalue</th>\n",
       "      <th>bitscore</th>\n",
       "      <th>stitle</th>\n",
       "    </tr>\n",
       "  </thead>\n",
       "  <tbody>\n",
       "    <tr>\n",
       "      <th>0</th>\n",
       "      <td>8_S356_contig000023</td>\n",
       "      <td>O00370.1</td>\n",
       "      <td>27.848</td>\n",
       "      <td>158</td>\n",
       "      <td>109</td>\n",
       "      <td>3</td>\n",
       "      <td>96</td>\n",
       "      <td>557</td>\n",
       "      <td>615</td>\n",
       "      <td>771</td>\n",
       "      <td>3.210000e-12</td>\n",
       "      <td>68.2</td>\n",
       "      <td>RecName: Full=LINE-1 retrotransposable element...</td>\n",
       "    </tr>\n",
       "    <tr>\n",
       "      <th>1</th>\n",
       "      <td>8_S356_contig000027</td>\n",
       "      <td>P03934.1</td>\n",
       "      <td>41.860</td>\n",
       "      <td>86</td>\n",
       "      <td>50</td>\n",
       "      <td>0</td>\n",
       "      <td>102</td>\n",
       "      <td>359</td>\n",
       "      <td>45</td>\n",
       "      <td>130</td>\n",
       "      <td>1.620000e-13</td>\n",
       "      <td>67.8</td>\n",
       "      <td>RecName: Full=Transposable element Tc1 transpo...</td>\n",
       "    </tr>\n",
       "    <tr>\n",
       "      <th>2</th>\n",
       "      <td>8_S356_contig000064</td>\n",
       "      <td>P16423.1</td>\n",
       "      <td>22.650</td>\n",
       "      <td>468</td>\n",
       "      <td>335</td>\n",
       "      <td>13</td>\n",
       "      <td>246</td>\n",
       "      <td>1625</td>\n",
       "      <td>310</td>\n",
       "      <td>758</td>\n",
       "      <td>4.230000e-18</td>\n",
       "      <td>92.4</td>\n",
       "      <td>RecName: Full=Retrovirus-related Pol polyprote...</td>\n",
       "    </tr>\n",
       "    <tr>\n",
       "      <th>3</th>\n",
       "      <td>8_S356_contig000067</td>\n",
       "      <td>Q04202.1</td>\n",
       "      <td>32.258</td>\n",
       "      <td>217</td>\n",
       "      <td>135</td>\n",
       "      <td>5</td>\n",
       "      <td>634</td>\n",
       "      <td>5</td>\n",
       "      <td>49</td>\n",
       "      <td>260</td>\n",
       "      <td>2.350000e-20</td>\n",
       "      <td>92.0</td>\n",
       "      <td>RecName: Full=Transposable element Tcb2 transp...</td>\n",
       "    </tr>\n",
       "    <tr>\n",
       "      <th>4</th>\n",
       "      <td>8_S356_contig000071</td>\n",
       "      <td>Q95SX7.1</td>\n",
       "      <td>25.622</td>\n",
       "      <td>402</td>\n",
       "      <td>282</td>\n",
       "      <td>8</td>\n",
       "      <td>1422</td>\n",
       "      <td>256</td>\n",
       "      <td>441</td>\n",
       "      <td>838</td>\n",
       "      <td>1.520000e-20</td>\n",
       "      <td>99.0</td>\n",
       "      <td>RecName: Full=Probable RNA-directed DNA polyme...</td>\n",
       "    </tr>\n",
       "  </tbody>\n",
       "</table>\n",
       "</div>"
      ],
      "text/plain": [
       "                qseqid    sseqid  pident  length  mismatch  gapopen  qstart  \\\n",
       "0  8_S356_contig000023  O00370.1  27.848     158       109        3      96   \n",
       "1  8_S356_contig000027  P03934.1  41.860      86        50        0     102   \n",
       "2  8_S356_contig000064  P16423.1  22.650     468       335       13     246   \n",
       "3  8_S356_contig000067  Q04202.1  32.258     217       135        5     634   \n",
       "4  8_S356_contig000071  Q95SX7.1  25.622     402       282        8    1422   \n",
       "\n",
       "   qend  sstart  send        evalue  bitscore  \\\n",
       "0   557     615   771  3.210000e-12      68.2   \n",
       "1   359      45   130  1.620000e-13      67.8   \n",
       "2  1625     310   758  4.230000e-18      92.4   \n",
       "3     5      49   260  2.350000e-20      92.0   \n",
       "4   256     441   838  1.520000e-20      99.0   \n",
       "\n",
       "                                              stitle  \n",
       "0  RecName: Full=LINE-1 retrotransposable element...  \n",
       "1  RecName: Full=Transposable element Tc1 transpo...  \n",
       "2  RecName: Full=Retrovirus-related Pol polyprote...  \n",
       "3  RecName: Full=Transposable element Tcb2 transp...  \n",
       "4  RecName: Full=Probable RNA-directed DNA polyme...  "
      ]
     },
     "execution_count": 8,
     "metadata": {},
     "output_type": "execute_result"
    }
   ],
   "source": [
    "ftab=pd.read_table(\"8_S356_contigs_blastx.tab\", header=None , names= encabezado)\n",
    "ftab.head()"
   ]
  },
  {
   "cell_type": "code",
   "execution_count": 9,
   "metadata": {},
   "outputs": [
    {
     "data": {
      "text/html": [
       "<div>\n",
       "<style scoped>\n",
       "    .dataframe tbody tr th:only-of-type {\n",
       "        vertical-align: middle;\n",
       "    }\n",
       "\n",
       "    .dataframe tbody tr th {\n",
       "        vertical-align: top;\n",
       "    }\n",
       "\n",
       "    .dataframe thead th {\n",
       "        text-align: right;\n",
       "    }\n",
       "</style>\n",
       "<table border=\"1\" class=\"dataframe\">\n",
       "  <thead>\n",
       "    <tr style=\"text-align: right;\">\n",
       "      <th></th>\n",
       "      <th>qseqid</th>\n",
       "      <th>sseqid</th>\n",
       "      <th>pident</th>\n",
       "      <th>length</th>\n",
       "      <th>mismatch</th>\n",
       "      <th>gapopen</th>\n",
       "      <th>qstart</th>\n",
       "      <th>qend</th>\n",
       "      <th>sstart</th>\n",
       "      <th>send</th>\n",
       "      <th>evalue</th>\n",
       "      <th>bitscore</th>\n",
       "      <th>stitle</th>\n",
       "      <th>uniprotid</th>\n",
       "    </tr>\n",
       "  </thead>\n",
       "  <tbody>\n",
       "    <tr>\n",
       "      <th>0</th>\n",
       "      <td>8_S356_contig000023</td>\n",
       "      <td>O00370.1</td>\n",
       "      <td>27.848</td>\n",
       "      <td>158</td>\n",
       "      <td>109</td>\n",
       "      <td>3</td>\n",
       "      <td>96</td>\n",
       "      <td>557</td>\n",
       "      <td>615</td>\n",
       "      <td>771</td>\n",
       "      <td>3.210000e-12</td>\n",
       "      <td>68.2</td>\n",
       "      <td>RecName: Full=LINE-1 retrotransposable element...</td>\n",
       "      <td>O00370</td>\n",
       "    </tr>\n",
       "    <tr>\n",
       "      <th>1</th>\n",
       "      <td>8_S356_contig000027</td>\n",
       "      <td>P03934.1</td>\n",
       "      <td>41.860</td>\n",
       "      <td>86</td>\n",
       "      <td>50</td>\n",
       "      <td>0</td>\n",
       "      <td>102</td>\n",
       "      <td>359</td>\n",
       "      <td>45</td>\n",
       "      <td>130</td>\n",
       "      <td>1.620000e-13</td>\n",
       "      <td>67.8</td>\n",
       "      <td>RecName: Full=Transposable element Tc1 transpo...</td>\n",
       "      <td>P03934</td>\n",
       "    </tr>\n",
       "  </tbody>\n",
       "</table>\n",
       "</div>"
      ],
      "text/plain": [
       "                qseqid    sseqid  pident  length  mismatch  gapopen  qstart  \\\n",
       "0  8_S356_contig000023  O00370.1  27.848     158       109        3      96   \n",
       "1  8_S356_contig000027  P03934.1  41.860      86        50        0     102   \n",
       "\n",
       "   qend  sstart  send        evalue  bitscore  \\\n",
       "0   557     615   771  3.210000e-12      68.2   \n",
       "1   359      45   130  1.620000e-13      67.8   \n",
       "\n",
       "                                              stitle uniprotid  \n",
       "0  RecName: Full=LINE-1 retrotransposable element...    O00370  \n",
       "1  RecName: Full=Transposable element Tc1 transpo...    P03934  "
      ]
     },
     "execution_count": 9,
     "metadata": {},
     "output_type": "execute_result"
    }
   ],
   "source": [
    "ftab[\"uniprotid\"]=ftab[\"sseqid\"].astype(str).str[:6]\n",
    "ftab.head(2)"
   ]
  },
  {
   "cell_type": "code",
   "execution_count": 10,
   "metadata": {},
   "outputs": [
    {
     "name": "stdout",
     "output_type": "stream",
     "text": [
      "Mon Aug 13 19:09:41 UTC 2018\r\n"
     ]
    }
   ],
   "source": [
    "!date"
   ]
  },
  {
   "cell_type": "code",
   "execution_count": 11,
   "metadata": {},
   "outputs": [
    {
     "data": {
      "text/html": [
       "<div>\n",
       "<style scoped>\n",
       "    .dataframe tbody tr th:only-of-type {\n",
       "        vertical-align: middle;\n",
       "    }\n",
       "\n",
       "    .dataframe tbody tr th {\n",
       "        vertical-align: top;\n",
       "    }\n",
       "\n",
       "    .dataframe thead th {\n",
       "        text-align: right;\n",
       "    }\n",
       "</style>\n",
       "<table border=\"1\" class=\"dataframe\">\n",
       "  <thead>\n",
       "    <tr style=\"text-align: right;\">\n",
       "      <th></th>\n",
       "      <th>uniprotid</th>\n",
       "      <th>GO_id</th>\n",
       "    </tr>\n",
       "  </thead>\n",
       "  <tbody>\n",
       "    <tr>\n",
       "      <th>0</th>\n",
       "      <td>A0A000</td>\n",
       "      <td>GO:0003824</td>\n",
       "    </tr>\n",
       "    <tr>\n",
       "      <th>1</th>\n",
       "      <td>A0A000</td>\n",
       "      <td>GO:0003824</td>\n",
       "    </tr>\n",
       "  </tbody>\n",
       "</table>\n",
       "</div>"
      ],
      "text/plain": [
       "  uniprotid       GO_id\n",
       "0    A0A000  GO:0003824\n",
       "1    A0A000  GO:0003824"
      ]
     },
     "execution_count": 11,
     "metadata": {},
     "output_type": "execute_result"
    }
   ],
   "source": [
    "fspid = pd.read_csv('~/DATA/spidgo.csv')\n",
    "fspid.head(2)"
   ]
  },
  {
   "cell_type": "code",
   "execution_count": 12,
   "metadata": {},
   "outputs": [
    {
     "name": "stdout",
     "output_type": "stream",
     "text": [
      "Mon Aug 13 19:10:46 UTC 2018\r\n"
     ]
    }
   ],
   "source": [
    "!date"
   ]
  },
  {
   "cell_type": "code",
   "execution_count": 13,
   "metadata": {},
   "outputs": [
    {
     "data": {
      "text/html": [
       "<div>\n",
       "<style scoped>\n",
       "    .dataframe tbody tr th:only-of-type {\n",
       "        vertical-align: middle;\n",
       "    }\n",
       "\n",
       "    .dataframe tbody tr th {\n",
       "        vertical-align: top;\n",
       "    }\n",
       "\n",
       "    .dataframe thead th {\n",
       "        text-align: right;\n",
       "    }\n",
       "</style>\n",
       "<table border=\"1\" class=\"dataframe\">\n",
       "  <thead>\n",
       "    <tr style=\"text-align: right;\">\n",
       "      <th></th>\n",
       "      <th>qseqid</th>\n",
       "      <th>sseqid</th>\n",
       "      <th>pident</th>\n",
       "      <th>length</th>\n",
       "      <th>mismatch</th>\n",
       "      <th>gapopen</th>\n",
       "      <th>qstart</th>\n",
       "      <th>qend</th>\n",
       "      <th>sstart</th>\n",
       "      <th>send</th>\n",
       "      <th>evalue</th>\n",
       "      <th>bitscore</th>\n",
       "      <th>stitle</th>\n",
       "      <th>uniprotid</th>\n",
       "      <th>GO_id</th>\n",
       "    </tr>\n",
       "  </thead>\n",
       "  <tbody>\n",
       "    <tr>\n",
       "      <th>0</th>\n",
       "      <td>8_S356_contig000023</td>\n",
       "      <td>O00370.1</td>\n",
       "      <td>27.848</td>\n",
       "      <td>158</td>\n",
       "      <td>109</td>\n",
       "      <td>3</td>\n",
       "      <td>96</td>\n",
       "      <td>557</td>\n",
       "      <td>615</td>\n",
       "      <td>771</td>\n",
       "      <td>3.210000e-12</td>\n",
       "      <td>68.2</td>\n",
       "      <td>RecName: Full=LINE-1 retrotransposable element...</td>\n",
       "      <td>O00370</td>\n",
       "      <td>GO:0003723</td>\n",
       "    </tr>\n",
       "    <tr>\n",
       "      <th>1</th>\n",
       "      <td>8_S356_contig000023</td>\n",
       "      <td>O00370.1</td>\n",
       "      <td>27.848</td>\n",
       "      <td>158</td>\n",
       "      <td>109</td>\n",
       "      <td>3</td>\n",
       "      <td>96</td>\n",
       "      <td>557</td>\n",
       "      <td>615</td>\n",
       "      <td>771</td>\n",
       "      <td>3.210000e-12</td>\n",
       "      <td>68.2</td>\n",
       "      <td>RecName: Full=LINE-1 retrotransposable element...</td>\n",
       "      <td>O00370</td>\n",
       "      <td>GO:0003964</td>\n",
       "    </tr>\n",
       "  </tbody>\n",
       "</table>\n",
       "</div>"
      ],
      "text/plain": [
       "                qseqid    sseqid  pident  length  mismatch  gapopen  qstart  \\\n",
       "0  8_S356_contig000023  O00370.1  27.848     158       109        3      96   \n",
       "1  8_S356_contig000023  O00370.1  27.848     158       109        3      96   \n",
       "\n",
       "   qend  sstart  send        evalue  bitscore  \\\n",
       "0   557     615   771  3.210000e-12      68.2   \n",
       "1   557     615   771  3.210000e-12      68.2   \n",
       "\n",
       "                                              stitle uniprotid       GO_id  \n",
       "0  RecName: Full=LINE-1 retrotransposable element...    O00370  GO:0003723  \n",
       "1  RecName: Full=LINE-1 retrotransposable element...    O00370  GO:0003964  "
      ]
     },
     "execution_count": 13,
     "metadata": {},
     "output_type": "execute_result"
    }
   ],
   "source": [
    "f2=pd.merge(ftab,fspid, on =\"uniprotid\" , how='inner')\n",
    "f2.head(2)"
   ]
  },
  {
   "cell_type": "code",
   "execution_count": 14,
   "metadata": {},
   "outputs": [
    {
     "data": {
      "text/plain": [
       "''"
      ]
     },
     "execution_count": 14,
     "metadata": {},
     "output_type": "execute_result"
    }
   ],
   "source": [
    "fspid = ''\n",
    "fspid"
   ]
  },
  {
   "cell_type": "code",
   "execution_count": 15,
   "metadata": {},
   "outputs": [
    {
     "name": "stdout",
     "output_type": "stream",
     "text": [
      "Mon Aug 13 19:11:46 UTC 2018\r\n"
     ]
    }
   ],
   "source": [
    "!date"
   ]
  },
  {
   "cell_type": "code",
   "execution_count": 16,
   "metadata": {},
   "outputs": [
    {
     "data": {
      "text/html": [
       "<div>\n",
       "<style scoped>\n",
       "    .dataframe tbody tr th:only-of-type {\n",
       "        vertical-align: middle;\n",
       "    }\n",
       "\n",
       "    .dataframe tbody tr th {\n",
       "        vertical-align: top;\n",
       "    }\n",
       "\n",
       "    .dataframe thead th {\n",
       "        text-align: right;\n",
       "    }\n",
       "</style>\n",
       "<table border=\"1\" class=\"dataframe\">\n",
       "  <thead>\n",
       "    <tr style=\"text-align: right;\">\n",
       "      <th></th>\n",
       "      <th>GO_id</th>\n",
       "      <th>term</th>\n",
       "      <th>GOSlim_bin</th>\n",
       "      <th>aspect</th>\n",
       "      <th>clean</th>\n",
       "    </tr>\n",
       "  </thead>\n",
       "  <tbody>\n",
       "    <tr>\n",
       "      <th>0</th>\n",
       "      <td>GO:0000001</td>\n",
       "      <td>mitochondrion inheritance</td>\n",
       "      <td>cell organization and biogenesis</td>\n",
       "      <td>P</td>\n",
       "      <td>1</td>\n",
       "    </tr>\n",
       "    <tr>\n",
       "      <th>1</th>\n",
       "      <td>GO:0000002</td>\n",
       "      <td>mitochondrial genome maintenance</td>\n",
       "      <td>cell organization and biogenesis</td>\n",
       "      <td>P</td>\n",
       "      <td>1</td>\n",
       "    </tr>\n",
       "  </tbody>\n",
       "</table>\n",
       "</div>"
      ],
      "text/plain": [
       "        GO_id                              term  \\\n",
       "0  GO:0000001         mitochondrion inheritance   \n",
       "1  GO:0000002  mitochondrial genome maintenance   \n",
       "\n",
       "                         GOSlim_bin aspect  clean  \n",
       "0  cell organization and biogenesis      P      1  \n",
       "1  cell organization and biogenesis      P      1  "
      ]
     },
     "execution_count": 16,
     "metadata": {},
     "output_type": "execute_result"
    }
   ],
   "source": [
    "fgo = pd.read_csv('~/Desktop/bigdata/go_to_goslim.csv')\n",
    "fgo.head(2)"
   ]
  },
  {
   "cell_type": "code",
   "execution_count": 17,
   "metadata": {},
   "outputs": [
    {
     "name": "stdout",
     "output_type": "stream",
     "text": [
      "Mon Aug 13 19:11:46 UTC 2018\r\n"
     ]
    }
   ],
   "source": [
    "!date"
   ]
  },
  {
   "cell_type": "code",
   "execution_count": 18,
   "metadata": {},
   "outputs": [
    {
     "data": {
      "text/html": [
       "<div>\n",
       "<style scoped>\n",
       "    .dataframe tbody tr th:only-of-type {\n",
       "        vertical-align: middle;\n",
       "    }\n",
       "\n",
       "    .dataframe tbody tr th {\n",
       "        vertical-align: top;\n",
       "    }\n",
       "\n",
       "    .dataframe thead th {\n",
       "        text-align: right;\n",
       "    }\n",
       "</style>\n",
       "<table border=\"1\" class=\"dataframe\">\n",
       "  <thead>\n",
       "    <tr style=\"text-align: right;\">\n",
       "      <th></th>\n",
       "      <th>qseqid</th>\n",
       "      <th>sseqid</th>\n",
       "      <th>pident</th>\n",
       "      <th>length</th>\n",
       "      <th>mismatch</th>\n",
       "      <th>gapopen</th>\n",
       "      <th>qstart</th>\n",
       "      <th>qend</th>\n",
       "      <th>sstart</th>\n",
       "      <th>send</th>\n",
       "      <th>evalue</th>\n",
       "      <th>bitscore</th>\n",
       "      <th>stitle</th>\n",
       "      <th>uniprotid</th>\n",
       "      <th>GO_id</th>\n",
       "      <th>term</th>\n",
       "      <th>GOSlim_bin</th>\n",
       "      <th>aspect</th>\n",
       "      <th>clean</th>\n",
       "    </tr>\n",
       "  </thead>\n",
       "  <tbody>\n",
       "    <tr>\n",
       "      <th>0</th>\n",
       "      <td>8_S356_contig000023</td>\n",
       "      <td>O00370.1</td>\n",
       "      <td>27.848</td>\n",
       "      <td>158</td>\n",
       "      <td>109</td>\n",
       "      <td>3</td>\n",
       "      <td>96</td>\n",
       "      <td>557</td>\n",
       "      <td>615</td>\n",
       "      <td>771</td>\n",
       "      <td>3.210000e-12</td>\n",
       "      <td>68.2</td>\n",
       "      <td>RecName: Full=LINE-1 retrotransposable element...</td>\n",
       "      <td>O00370</td>\n",
       "      <td>GO:0003723</td>\n",
       "      <td>RNA binding</td>\n",
       "      <td>nucleic acid binding activity</td>\n",
       "      <td>F</td>\n",
       "      <td>1</td>\n",
       "    </tr>\n",
       "    <tr>\n",
       "      <th>1</th>\n",
       "      <td>8_S356_contig000099</td>\n",
       "      <td>O00370.1</td>\n",
       "      <td>29.469</td>\n",
       "      <td>207</td>\n",
       "      <td>142</td>\n",
       "      <td>2</td>\n",
       "      <td>139</td>\n",
       "      <td>759</td>\n",
       "      <td>6</td>\n",
       "      <td>208</td>\n",
       "      <td>4.140000e-21</td>\n",
       "      <td>95.5</td>\n",
       "      <td>RecName: Full=LINE-1 retrotransposable element...</td>\n",
       "      <td>O00370</td>\n",
       "      <td>GO:0003723</td>\n",
       "      <td>RNA binding</td>\n",
       "      <td>nucleic acid binding activity</td>\n",
       "      <td>F</td>\n",
       "      <td>1</td>\n",
       "    </tr>\n",
       "    <tr>\n",
       "      <th>2</th>\n",
       "      <td>8_S356_contig000064</td>\n",
       "      <td>P16423.1</td>\n",
       "      <td>22.650</td>\n",
       "      <td>468</td>\n",
       "      <td>335</td>\n",
       "      <td>13</td>\n",
       "      <td>246</td>\n",
       "      <td>1625</td>\n",
       "      <td>310</td>\n",
       "      <td>758</td>\n",
       "      <td>4.230000e-18</td>\n",
       "      <td>92.4</td>\n",
       "      <td>RecName: Full=Retrovirus-related Pol polyprote...</td>\n",
       "      <td>P16423</td>\n",
       "      <td>GO:0003723</td>\n",
       "      <td>RNA binding</td>\n",
       "      <td>nucleic acid binding activity</td>\n",
       "      <td>F</td>\n",
       "      <td>1</td>\n",
       "    </tr>\n",
       "    <tr>\n",
       "      <th>3</th>\n",
       "      <td>8_S356_contig000071</td>\n",
       "      <td>Q95SX7.1</td>\n",
       "      <td>25.622</td>\n",
       "      <td>402</td>\n",
       "      <td>282</td>\n",
       "      <td>8</td>\n",
       "      <td>1422</td>\n",
       "      <td>256</td>\n",
       "      <td>441</td>\n",
       "      <td>838</td>\n",
       "      <td>1.520000e-20</td>\n",
       "      <td>99.0</td>\n",
       "      <td>RecName: Full=Probable RNA-directed DNA polyme...</td>\n",
       "      <td>Q95SX7</td>\n",
       "      <td>GO:0003723</td>\n",
       "      <td>RNA binding</td>\n",
       "      <td>nucleic acid binding activity</td>\n",
       "      <td>F</td>\n",
       "      <td>1</td>\n",
       "    </tr>\n",
       "    <tr>\n",
       "      <th>4</th>\n",
       "      <td>8_S356_contig000084</td>\n",
       "      <td>Q95SX7.1</td>\n",
       "      <td>26.415</td>\n",
       "      <td>159</td>\n",
       "      <td>108</td>\n",
       "      <td>2</td>\n",
       "      <td>109</td>\n",
       "      <td>558</td>\n",
       "      <td>616</td>\n",
       "      <td>774</td>\n",
       "      <td>3.470000e-11</td>\n",
       "      <td>66.2</td>\n",
       "      <td>RecName: Full=Probable RNA-directed DNA polyme...</td>\n",
       "      <td>Q95SX7</td>\n",
       "      <td>GO:0003723</td>\n",
       "      <td>RNA binding</td>\n",
       "      <td>nucleic acid binding activity</td>\n",
       "      <td>F</td>\n",
       "      <td>1</td>\n",
       "    </tr>\n",
       "  </tbody>\n",
       "</table>\n",
       "</div>"
      ],
      "text/plain": [
       "                qseqid    sseqid  pident  length  mismatch  gapopen  qstart  \\\n",
       "0  8_S356_contig000023  O00370.1  27.848     158       109        3      96   \n",
       "1  8_S356_contig000099  O00370.1  29.469     207       142        2     139   \n",
       "2  8_S356_contig000064  P16423.1  22.650     468       335       13     246   \n",
       "3  8_S356_contig000071  Q95SX7.1  25.622     402       282        8    1422   \n",
       "4  8_S356_contig000084  Q95SX7.1  26.415     159       108        2     109   \n",
       "\n",
       "   qend  sstart  send        evalue  bitscore  \\\n",
       "0   557     615   771  3.210000e-12      68.2   \n",
       "1   759       6   208  4.140000e-21      95.5   \n",
       "2  1625     310   758  4.230000e-18      92.4   \n",
       "3   256     441   838  1.520000e-20      99.0   \n",
       "4   558     616   774  3.470000e-11      66.2   \n",
       "\n",
       "                                              stitle uniprotid       GO_id  \\\n",
       "0  RecName: Full=LINE-1 retrotransposable element...    O00370  GO:0003723   \n",
       "1  RecName: Full=LINE-1 retrotransposable element...    O00370  GO:0003723   \n",
       "2  RecName: Full=Retrovirus-related Pol polyprote...    P16423  GO:0003723   \n",
       "3  RecName: Full=Probable RNA-directed DNA polyme...    Q95SX7  GO:0003723   \n",
       "4  RecName: Full=Probable RNA-directed DNA polyme...    Q95SX7  GO:0003723   \n",
       "\n",
       "          term                     GOSlim_bin aspect  clean  \n",
       "0  RNA binding  nucleic acid binding activity      F      1  \n",
       "1  RNA binding  nucleic acid binding activity      F      1  \n",
       "2  RNA binding  nucleic acid binding activity      F      1  \n",
       "3  RNA binding  nucleic acid binding activity      F      1  \n",
       "4  RNA binding  nucleic acid binding activity      F      1  "
      ]
     },
     "execution_count": 18,
     "metadata": {},
     "output_type": "execute_result"
    }
   ],
   "source": [
    "f3=pd.merge(f2,fgo, on =\"GO_id\" , how='inner')\n",
    "f3.head()"
   ]
  },
  {
   "cell_type": "code",
   "execution_count": 19,
   "metadata": {},
   "outputs": [
    {
     "data": {
      "text/html": [
       "<div>\n",
       "<style scoped>\n",
       "    .dataframe tbody tr th:only-of-type {\n",
       "        vertical-align: middle;\n",
       "    }\n",
       "\n",
       "    .dataframe tbody tr th {\n",
       "        vertical-align: top;\n",
       "    }\n",
       "\n",
       "    .dataframe thead th {\n",
       "        text-align: right;\n",
       "    }\n",
       "</style>\n",
       "<table border=\"1\" class=\"dataframe\">\n",
       "  <thead>\n",
       "    <tr style=\"text-align: right;\">\n",
       "      <th></th>\n",
       "      <th>length</th>\n",
       "      <th>evalue</th>\n",
       "    </tr>\n",
       "  </thead>\n",
       "  <tbody>\n",
       "    <tr>\n",
       "      <th>count</th>\n",
       "      <td>63.000000</td>\n",
       "      <td>6.300000e+01</td>\n",
       "    </tr>\n",
       "    <tr>\n",
       "      <th>mean</th>\n",
       "      <td>161.365079</td>\n",
       "      <td>1.456939e-08</td>\n",
       "    </tr>\n",
       "    <tr>\n",
       "      <th>std</th>\n",
       "      <td>117.224943</td>\n",
       "      <td>5.503168e-08</td>\n",
       "    </tr>\n",
       "    <tr>\n",
       "      <th>min</th>\n",
       "      <td>23.000000</td>\n",
       "      <td>2.320000e-50</td>\n",
       "    </tr>\n",
       "    <tr>\n",
       "      <th>25%</th>\n",
       "      <td>70.000000</td>\n",
       "      <td>1.780000e-22</td>\n",
       "    </tr>\n",
       "    <tr>\n",
       "      <th>50%</th>\n",
       "      <td>146.000000</td>\n",
       "      <td>6.140000e-20</td>\n",
       "    </tr>\n",
       "    <tr>\n",
       "      <th>75%</th>\n",
       "      <td>223.000000</td>\n",
       "      <td>2.225000e-11</td>\n",
       "    </tr>\n",
       "    <tr>\n",
       "      <th>max</th>\n",
       "      <td>468.000000</td>\n",
       "      <td>3.080000e-07</td>\n",
       "    </tr>\n",
       "  </tbody>\n",
       "</table>\n",
       "</div>"
      ],
      "text/plain": [
       "           length        evalue\n",
       "count   63.000000  6.300000e+01\n",
       "mean   161.365079  1.456939e-08\n",
       "std    117.224943  5.503168e-08\n",
       "min     23.000000  2.320000e-50\n",
       "25%     70.000000  1.780000e-22\n",
       "50%    146.000000  6.140000e-20\n",
       "75%    223.000000  2.225000e-11\n",
       "max    468.000000  3.080000e-07"
      ]
     },
     "execution_count": 19,
     "metadata": {},
     "output_type": "execute_result"
    }
   ],
   "source": [
    "f4=f3.drop_duplicates(subset = ('qseqid', \"aspect\"), inplace = False)\n",
    "f4.describe()[['length','evalue']]"
   ]
  },
  {
   "cell_type": "code",
   "execution_count": 20,
   "metadata": {},
   "outputs": [],
   "source": [
    "f4.to_csv(\"8_S356_contigs_blastx_goslim.csv\", index =  None)"
   ]
  },
  {
   "cell_type": "code",
   "execution_count": 5,
   "metadata": {},
   "outputs": [
    {
     "data": {
      "text/html": [
       "<div>\n",
       "<style scoped>\n",
       "    .dataframe tbody tr th:only-of-type {\n",
       "        vertical-align: middle;\n",
       "    }\n",
       "\n",
       "    .dataframe tbody tr th {\n",
       "        vertical-align: top;\n",
       "    }\n",
       "\n",
       "    .dataframe thead th {\n",
       "        text-align: right;\n",
       "    }\n",
       "</style>\n",
       "<table border=\"1\" class=\"dataframe\">\n",
       "  <thead>\n",
       "    <tr style=\"text-align: right;\">\n",
       "      <th></th>\n",
       "      <th>qseqid</th>\n",
       "      <th>sseqid</th>\n",
       "      <th>pident</th>\n",
       "      <th>length</th>\n",
       "      <th>mismatch</th>\n",
       "      <th>gapopen</th>\n",
       "      <th>qstart</th>\n",
       "      <th>qend</th>\n",
       "      <th>sstart</th>\n",
       "      <th>send</th>\n",
       "      <th>evalue</th>\n",
       "      <th>bitscore</th>\n",
       "      <th>stitle</th>\n",
       "      <th>uniprotid</th>\n",
       "      <th>GO_id</th>\n",
       "      <th>term</th>\n",
       "      <th>GOSlim_bin</th>\n",
       "      <th>aspect</th>\n",
       "      <th>clean</th>\n",
       "    </tr>\n",
       "  </thead>\n",
       "  <tbody>\n",
       "    <tr>\n",
       "      <th>0</th>\n",
       "      <td>8_S356_contig000023</td>\n",
       "      <td>O00370.1</td>\n",
       "      <td>27.848</td>\n",
       "      <td>158</td>\n",
       "      <td>109</td>\n",
       "      <td>3</td>\n",
       "      <td>96</td>\n",
       "      <td>557</td>\n",
       "      <td>615</td>\n",
       "      <td>771</td>\n",
       "      <td>3.210000e-12</td>\n",
       "      <td>68.2</td>\n",
       "      <td>RecName: Full=LINE-1 retrotransposable element...</td>\n",
       "      <td>O00370</td>\n",
       "      <td>GO:0003723</td>\n",
       "      <td>RNA binding</td>\n",
       "      <td>nucleic acid binding activity</td>\n",
       "      <td>F</td>\n",
       "      <td>1</td>\n",
       "    </tr>\n",
       "    <tr>\n",
       "      <th>1</th>\n",
       "      <td>8_S356_contig000099</td>\n",
       "      <td>O00370.1</td>\n",
       "      <td>29.469</td>\n",
       "      <td>207</td>\n",
       "      <td>142</td>\n",
       "      <td>2</td>\n",
       "      <td>139</td>\n",
       "      <td>759</td>\n",
       "      <td>6</td>\n",
       "      <td>208</td>\n",
       "      <td>4.140000e-21</td>\n",
       "      <td>95.5</td>\n",
       "      <td>RecName: Full=LINE-1 retrotransposable element...</td>\n",
       "      <td>O00370</td>\n",
       "      <td>GO:0003723</td>\n",
       "      <td>RNA binding</td>\n",
       "      <td>nucleic acid binding activity</td>\n",
       "      <td>F</td>\n",
       "      <td>1</td>\n",
       "    </tr>\n",
       "  </tbody>\n",
       "</table>\n",
       "</div>"
      ],
      "text/plain": [
       "                qseqid    sseqid  pident  length  mismatch  gapopen  qstart  \\\n",
       "0  8_S356_contig000023  O00370.1  27.848     158       109        3      96   \n",
       "1  8_S356_contig000099  O00370.1  29.469     207       142        2     139   \n",
       "\n",
       "   qend  sstart  send        evalue  bitscore  \\\n",
       "0   557     615   771  3.210000e-12      68.2   \n",
       "1   759       6   208  4.140000e-21      95.5   \n",
       "\n",
       "                                              stitle uniprotid       GO_id  \\\n",
       "0  RecName: Full=LINE-1 retrotransposable element...    O00370  GO:0003723   \n",
       "1  RecName: Full=LINE-1 retrotransposable element...    O00370  GO:0003723   \n",
       "\n",
       "          term                     GOSlim_bin aspect  clean  \n",
       "0  RNA binding  nucleic acid binding activity      F      1  \n",
       "1  RNA binding  nucleic acid binding activity      F      1  "
      ]
     },
     "execution_count": 5,
     "metadata": {},
     "output_type": "execute_result"
    }
   ],
   "source": [
    "f4 = pd.read_csv('8_S356_contigs_blastx_goslim.csv')\n",
    "f4.head(2)"
   ]
  },
  {
   "cell_type": "code",
   "execution_count": 6,
   "metadata": {},
   "outputs": [
    {
     "data": {
      "text/html": [
       "<div>\n",
       "<style scoped>\n",
       "    .dataframe tbody tr th:only-of-type {\n",
       "        vertical-align: middle;\n",
       "    }\n",
       "\n",
       "    .dataframe tbody tr th {\n",
       "        vertical-align: top;\n",
       "    }\n",
       "\n",
       "    .dataframe thead th {\n",
       "        text-align: right;\n",
       "    }\n",
       "</style>\n",
       "<table border=\"1\" class=\"dataframe\">\n",
       "  <thead>\n",
       "    <tr style=\"text-align: right;\">\n",
       "      <th>aspect</th>\n",
       "      <th>C</th>\n",
       "      <th>F</th>\n",
       "      <th>P</th>\n",
       "    </tr>\n",
       "  </thead>\n",
       "  <tbody>\n",
       "    <tr>\n",
       "      <th>count</th>\n",
       "      <td>18.0</td>\n",
       "      <td>22.0</td>\n",
       "      <td>23.0</td>\n",
       "    </tr>\n",
       "    <tr>\n",
       "      <th>mean</th>\n",
       "      <td>1.0</td>\n",
       "      <td>1.0</td>\n",
       "      <td>1.0</td>\n",
       "    </tr>\n",
       "    <tr>\n",
       "      <th>std</th>\n",
       "      <td>0.0</td>\n",
       "      <td>0.0</td>\n",
       "      <td>0.0</td>\n",
       "    </tr>\n",
       "    <tr>\n",
       "      <th>min</th>\n",
       "      <td>1.0</td>\n",
       "      <td>1.0</td>\n",
       "      <td>1.0</td>\n",
       "    </tr>\n",
       "    <tr>\n",
       "      <th>25%</th>\n",
       "      <td>1.0</td>\n",
       "      <td>1.0</td>\n",
       "      <td>1.0</td>\n",
       "    </tr>\n",
       "    <tr>\n",
       "      <th>50%</th>\n",
       "      <td>1.0</td>\n",
       "      <td>1.0</td>\n",
       "      <td>1.0</td>\n",
       "    </tr>\n",
       "    <tr>\n",
       "      <th>75%</th>\n",
       "      <td>1.0</td>\n",
       "      <td>1.0</td>\n",
       "      <td>1.0</td>\n",
       "    </tr>\n",
       "    <tr>\n",
       "      <th>max</th>\n",
       "      <td>1.0</td>\n",
       "      <td>1.0</td>\n",
       "      <td>1.0</td>\n",
       "    </tr>\n",
       "  </tbody>\n",
       "</table>\n",
       "</div>"
      ],
      "text/plain": [
       "aspect     C     F     P\n",
       "count   18.0  22.0  23.0\n",
       "mean     1.0   1.0   1.0\n",
       "std      0.0   0.0   0.0\n",
       "min      1.0   1.0   1.0\n",
       "25%      1.0   1.0   1.0\n",
       "50%      1.0   1.0   1.0\n",
       "75%      1.0   1.0   1.0\n",
       "max      1.0   1.0   1.0"
      ]
     },
     "execution_count": 6,
     "metadata": {},
     "output_type": "execute_result"
    }
   ],
   "source": [
    "ftabpivot = f4.pivot_table(values=\"uniprotid\" , index=[\"qseqid\"], aggfunc=len, columns=\"aspect\")\n",
    "ftabpivot.describe()"
   ]
  },
  {
   "cell_type": "markdown",
   "metadata": {},
   "source": [
    "# Proceso para generar el diagama de Venn con la información de \n",
    "## Componentes celulares, funciones biologicas y procesos biologicos, C, F y P, respectivamente"
   ]
  },
  {
   "cell_type": "code",
   "execution_count": 7,
   "metadata": {},
   "outputs": [
    {
     "data": {
      "text/plain": [
       "(23, 23, 23)"
      ]
     },
     "execution_count": 7,
     "metadata": {},
     "output_type": "execute_result"
    }
   ],
   "source": [
    "lineaC =[] # data from C\n",
    "lineaF =[] # data from F\n",
    "lineaP =[] # data from P\n",
    "linea = \"\"\n",
    "n=1\n",
    "for row in ftabpivot.index:\n",
    "    row2=ftabpivot.loc[row]\n",
    "    if str(row2[\"C\"])==\"nan\" and str(row2[\"F\"])==\"nan\" and str(row2[\"P\"])==\"nan\" :\n",
    "        continue    \n",
    "    else:        \n",
    "        if str(row2[\"C\"]) !=\"nan\":\n",
    "            linea = row\n",
    "        else:\n",
    "            linea = \"\"\n",
    "        lineaC.append(linea)\n",
    "        if str(row2[\"F\"]) !=\"nan\":\n",
    "            linea = row\n",
    "        else:\n",
    "            linea = \"\"\n",
    "        lineaF.append(linea)\n",
    "\n",
    "        if str(row2[\"P\"]) !=\"nan\":\n",
    "            linea = row\n",
    "        else:\n",
    "            linea = \"\"\n",
    "        lineaP.append(linea)\n",
    "\n",
    "        n+=1\n",
    "        #if n==1000:\n",
    "        #    break\n",
    "\n",
    "len(lineaC), len(lineaF), len(lineaP)"
   ]
  },
  {
   "cell_type": "code",
   "execution_count": 8,
   "metadata": {},
   "outputs": [
    {
     "data": {
      "image/png": "[encoded data removed]",
      "text/plain": [
       "<Figure size 432x288 with 1 Axes>"
      ]
     },
     "metadata": {},
     "output_type": "display_data"
    }
   ],
   "source": [
    "lineaC = set(lineaC)\n",
    "lineaF = set(lineaF)\n",
    "lineaP = set(lineaP)\n",
    "venn3_unweighted([lineaC, lineaF, lineaP], ('C', 'F', 'P'))\n",
    "#plt.savefig(\"710_transcritos_venn3_1.png\", dpi=400, bbox_inches='tight')\n",
    "#plt.savefig(\"710_transcritos_venn3_1.pdf\", dpi=400, bbox_inches='tight')\n",
    "plt.show()"
   ]
  },
  {
   "cell_type": "code",
   "execution_count": 13,
   "metadata": {},
   "outputs": [],
   "source": [
    "from matplotlib_venn import venn3"
   ]
  },
  {
   "cell_type": "code",
   "execution_count": 14,
   "metadata": {},
   "outputs": [
    {
     "data": {
      "image/png": "[encoded data removed]",
      "text/plain": [
       "<Figure size 432x288 with 1 Axes>"
      ]
     },
     "metadata": {},
     "output_type": "display_data"
    }
   ],
   "source": [
    "lineaC = set(lineaC)\n",
    "lineaF = set(lineaF)\n",
    "lineaP = set(lineaP)\n",
    "venn3([lineaC, lineaF, lineaP], ('C', 'F', 'P'))\n",
    "#plt.savefig(\"710_transcritos_venn3_1.png\", dpi=400, bbox_inches='tight')\n",
    "#plt.savefig(\"710_transcritos_venn3_1.pdf\", dpi=400, bbox_inches='tight')\n",
    "plt.show()"
   ]
  },
  {
   "cell_type": "code",
   "execution_count": null,
   "metadata": {},
   "outputs": [],
   "source": []
  },
  {
   "cell_type": "code",
   "execution_count": 15,
   "metadata": {},
   "outputs": [
    {
     "name": "stdout",
     "output_type": "stream",
     "text": [
      "save figure? \n"
     ]
    },
    {
     "data": {
      "image/png": "[encoded data removed]",
      "text/plain": [
       "<Figure size 432x288 with 1 Axes>"
      ]
     },
     "metadata": {},
     "output_type": "display_data"
    }
   ],
   "source": [
    "fgo=f4.groupby(['GOSlim_bin', 'aspect'])[\"qseqid\"].count()\n",
    "#fgo\n",
    "\n",
    "fgo.sort_values(inplace = True, ascending=False)\n",
    "#fgo\n",
    "\n",
    "linea10=fgo[0:10]\n",
    "linea11=fgo[10:]\n",
    "#linea10\n",
    "\n",
    "#linea11\n",
    "otro=sum (linea11)\n",
    "#otro\n",
    "otros = pd.DataFrame({0:otro}, index=[\"Other\"])\n",
    "#otros\n",
    "linea10=linea10.append(otros)\n",
    "#linea10\n",
    "linea10.plot(kind='barh', color=list('ybg'))\n",
    "plt.axis([-1, max(linea10[0]+5), -1, 11], label=None)\n",
    "plt.xlabel(\"Count\")\n",
    "plt.ylabel(\"GOSlim bin\")\n",
    "plt.legend().set_visible(False)\n",
    "yes=\"n\"\n",
    "yes = input(\"save figure? \")\n",
    "if yes==\"y\":\n",
    "    plt.savefig(\"img/8_S356_contigs_blastx_GObar.png\", dpi=400, bbox_inches='tight')\n",
    "\n",
    "plt.show()"
   ]
  },
  {
   "cell_type": "code",
   "execution_count": null,
   "metadata": {},
   "outputs": [],
   "source": []
  },
  {
   "cell_type": "code",
   "execution_count": null,
   "metadata": {},
   "outputs": [],
   "source": []
  },
  {
   "cell_type": "code",
   "execution_count": null,
   "metadata": {},
   "outputs": [],
   "source": []
  }
 ],
 "metadata": {
  "kernelspec": {
   "display_name": "mplvenn",
   "language": "python",
   "name": "mplvenn"
  },
  "language_info": {
   "codemirror_mode": {
    "name": "ipython",
    "version": 3
   },
   "file_extension": ".py",
   "mimetype": "text/x-python",
   "name": "python",
   "nbconvert_exporter": "python",
   "pygments_lexer": "ipython3",
   "version": "3.6.5"
  }
 },
 "nbformat": 4,
 "nbformat_minor": 2
}
