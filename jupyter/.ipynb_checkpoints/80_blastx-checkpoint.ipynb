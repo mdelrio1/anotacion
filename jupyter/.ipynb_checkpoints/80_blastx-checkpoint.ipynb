{
 "cells": [
  {
   "cell_type": "markdown",
   "metadata": {},
   "source": [
    "# Bitacora para el manejo de secuencias fasta y búsqueda basica de *Blastx*"
   ]
  },
  {
   "cell_type": "markdown",
   "metadata": {},
   "source": [
    "## Para el siguiente ejercicio es necesario tener el Blast+ instalado en la computadora\n",
    "https://www.ncbi.nlm.nih.gov/guide/data-software/"
   ]
  },
  {
   "cell_type": "markdown",
   "metadata": {},
   "source": [
    "## Se utilizarán los contigs formados por el ensamblaje que se localizan en \n",
    "`~/Desktop/data/ejercicio_ensamblaje/trinity/Trinity.fasta`"
   ]
  },
  {
   "cell_type": "code",
   "execution_count": 2,
   "metadata": {},
   "outputs": [
    {
     "name": "stdout",
     "output_type": "stream",
     "text": [
      "/home/user1/Desktop/data/ejercicio_ensamblaje/trinity/Trinity.fasta\r\n",
      "/home/user1/Desktop/data/ejercicio_ensamblaje/trinity/Trinity.fasta.gene_trans_map\r\n",
      "/home/user1/Desktop/data/ejercicio_ensamblaje/trinity/Trinity.timing\r\n"
     ]
    }
   ],
   "source": [
    "ls ~/Desktop/data/ejercicio_ensamblaje/trinity/T*"
   ]
  },
  {
   "cell_type": "code",
   "execution_count": 3,
   "metadata": {},
   "outputs": [
    {
     "name": "stdout",
     "output_type": "stream",
     "text": [
      "/home/user1/Desktop/data/ejercicio_ensamblaje/trinity\n"
     ]
    }
   ],
   "source": [
    "cd ~/Desktop/data/ejercicio_ensamblaje/trinity/"
   ]
  },
  {
   "cell_type": "code",
   "execution_count": 4,
   "metadata": {},
   "outputs": [
    {
     "name": "stdout",
     "output_type": "stream",
     "text": [
      "321\r\n"
     ]
    }
   ],
   "source": [
    "!grep \">\" Trinity.fasta |wc -l"
   ]
  },
  {
   "cell_type": "code",
   "execution_count": 29,
   "metadata": {},
   "outputs": [],
   "source": [
    "from pandas import Series, DataFrame\n",
    "import pandas as pd\n",
    "from Bio import SeqIO, AlignIO, SeqRecord\n",
    "from Bio.SeqRecord import SeqRecord\n",
    "from Bio.Seq import Seq"
   ]
  },
  {
   "cell_type": "markdown",
   "metadata": {},
   "source": [
    "# Procedimiento para cambiar de nombre a los contigs\n",
    "## se pondrá de `8_S356_contig000001` en adelante"
   ]
  },
  {
   "cell_type": "code",
   "execution_count": 35,
   "metadata": {},
   "outputs": [
    {
     "name": "stdout",
     "output_type": "stream",
     "text": [
      "8_S356_contig000001 \t TRINITY_DN2_c1_g1_i2 ATATACAGAG\n",
      "8_S356_contig000002 \t TRINITY_DN43_c0_g1_i AGGGTATATA\n",
      "8_S356_contig000003 \t TRINITY_DN43_c0_g1_i AGGGTATATA\n",
      "8_S356_contig000004 \t TRINITY_DN61_c0_g1_i GTGCAACGTT\n",
      "8_S356_contig000005 \t TRINITY_DN60_c0_g1_i CATAACTACA\n",
      "8_S356_contig000006 \t TRINITY_DN60_c0_g2_i GGTATATATG\n",
      "8_S356_contig000007 \t TRINITY_DN60_c0_g2_i GGAGAGGCCA\n",
      "8_S356_contig000008 \t TRINITY_DN33_c0_g1_i GTCAGGAAGG\n",
      "8_S356_contig000009 \t TRINITY_DN25_c0_g1_i ATGCTTGTGA\n",
      "8_S356_contig000010 \t TRINITY_DN19_c0_g1_i CTATCAAATA\n",
      "8_S356_contig000011 \t TRINITY_DN78_c0_g1_i GAATGCGTGT\n",
      "8_S356_contig000012 \t TRINITY_DN48_c0_g1_i GTATATAAAA\n",
      "8_S356_contig000013 \t TRINITY_DN29_c0_g1_i GCTCTGTTCT\n",
      "8_S356_contig000014 \t TRINITY_DN45_c0_g1_i GTCCCTTGCC\n",
      "8_S356_contig000015 \t TRINITY_DN45_c1_g1_i GTTGACTCAT\n",
      "8_S356_contig000016 \t TRINITY_DN45_c1_g1_i GTTGACTCAT\n",
      "8_S356_contig000017 \t TRINITY_DN45_c1_g1_i ATATAAGCCT\n",
      "8_S356_contig000018 \t TRINITY_DN47_c0_g1_i GTGTTTTTCA\n",
      "8_S356_contig000019 \t TRINITY_DN91_c0_g1_i GTTAACCCTC\n",
      "8_S356_contig000020 \t TRINITY_DN58_c0_g2_i GCCCAATAGG\n",
      "8_S356_contig000021 \t TRINITY_DN58_c1_g1_i GAGTTATGTG\n",
      "8_S356_contig000022 \t TRINITY_DN58_c1_g1_i AACCAGATGG\n",
      "8_S356_contig000023 \t TRINITY_DN58_c1_g2_i ATTTGAGTGT\n",
      "8_S356_contig000024 \t TRINITY_DN56_c0_g1_i GACTGCCATT\n",
      "8_S356_contig000025 \t TRINITY_DN56_c1_g1_i GGACAGCATT\n",
      "8_S356_contig000026 \t TRINITY_DN56_c2_g1_i ATCTGAAGCT\n",
      "8_S356_contig000027 \t TRINITY_DN20_c0_g1_i GGGCAGAGGT\n",
      "8_S356_contig000028 \t TRINITY_DN40_c0_g1_i TGTCCAAAGG\n",
      "8_S356_contig000029 \t TRINITY_DN18_c1_g1_i GATGTAGACG\n",
      "8_S356_contig000030 \t TRINITY_DN16_c0_g1_i GAACAGAAGA\n",
      "8_S356_contig000031 \t TRINITY_DN16_c1_g1_i GTATAATGCC\n",
      "8_S356_contig000032 \t TRINITY_DN59_c1_g1_i ATACACAGTG\n",
      "8_S356_contig000033 \t TRINITY_DN55_c0_g1_i TACTTGTGTA\n",
      "8_S356_contig000034 \t TRINITY_DN57_c0_g1_i GCCCTGGGCT\n",
      "8_S356_contig000035 \t TRINITY_DN57_c0_g1_i AGCAAGAATA\n",
      "8_S356_contig000036 \t TRINITY_DN64_c0_g1_i CAAGCGCAGT\n",
      "8_S356_contig000037 \t TRINITY_DN64_c0_g1_i CTTCAATCTC\n",
      "8_S356_contig000038 \t TRINITY_DN64_c0_g1_i CAAGCGCAGT\n",
      "8_S356_contig000039 \t TRINITY_DN64_c0_g1_i CTTCAATCTC\n",
      "8_S356_contig000040 \t TRINITY_DN64_c0_g1_i CAAGCGCAGT\n",
      "8_S356_contig000041 \t TRINITY_DN64_c0_g1_i CAAGCGCAGT\n",
      "8_S356_contig000042 \t TRINITY_DN64_c0_g1_i CCCATGCTTC\n",
      "8_S356_contig000043 \t TRINITY_DN71_c0_g1_i TAATATTACA\n",
      "8_S356_contig000044 \t TRINITY_DN5_c0_g1_i1 TTTCTCTTCA\n",
      "8_S356_contig000045 \t TRINITY_DN37_c0_g1_i GTGCCAGCCA\n",
      "8_S356_contig000046 \t TRINITY_DN14_c0_g1_i AGAATGTAAA\n",
      "8_S356_contig000047 \t TRINITY_DN14_c0_g1_i AGAATGTAAA\n",
      "8_S356_contig000048 \t TRINITY_DN8_c0_g1_i1 GTATTTTAGG\n",
      "8_S356_contig000049 \t TRINITY_DN62_c0_g1_i AAAATGGTTT\n",
      "8_S356_contig000050 \t TRINITY_DN62_c0_g1_i TATGTACACT\n",
      "8_S356_contig000051 \t TRINITY_DN62_c0_g2_i CACTTATACT\n",
      "8_S356_contig000052 \t TRINITY_DN36_c0_g1_i GAATTAAACC\n",
      "8_S356_contig000053 \t TRINITY_DN97_c0_g1_i GAGCGCTGGC\n",
      "8_S356_contig000054 \t TRINITY_DN52_c0_g1_i ATGTTACACT\n",
      "8_S356_contig000055 \t TRINITY_DN0_c0_g1_i1 ATACTTGTGT\n",
      "8_S356_contig000056 \t TRINITY_DN28_c0_g1_i GCATAACAAT\n",
      "8_S356_contig000057 \t TRINITY_DN28_c0_g2_i GATCCAAAAT\n",
      "8_S356_contig000058 \t TRINITY_DN21_c0_g1_i GTGATCATCT\n",
      "8_S356_contig000059 \t TRINITY_DN21_c0_g2_i GATTTACACG\n",
      "8_S356_contig000060 \t TRINITY_DN24_c0_g1_i AACAATCAGA\n",
      "8_S356_contig000061 \t TRINITY_DN24_c0_g1_i CAGGTGCACT\n",
      "8_S356_contig000062 \t TRINITY_DN10_c0_g1_i CAATCACAGA\n",
      "8_S356_contig000063 \t TRINITY_DN10_c0_g1_i CCCTACAAAC\n",
      "8_S356_contig000064 \t TRINITY_DN53_c0_g1_i CAACTCATTC\n",
      "8_S356_contig000065 \t TRINITY_DN23_c0_g1_i AATTAGTAAA\n",
      "8_S356_contig000066 \t TRINITY_DN23_c0_g1_i CATCACTGCA\n",
      "8_S356_contig000067 \t TRINITY_DN54_c0_g1_i CCCTACAATG\n",
      "8_S356_contig000068 \t TRINITY_DN26_c0_g1_i GGTTTTAGGA\n",
      "8_S356_contig000069 \t TRINITY_DN12_c0_g1_i CCAACATAGC\n",
      "8_S356_contig000070 \t TRINITY_DN13_c0_g1_i CCTATAATCT\n",
      "8_S356_contig000071 \t TRINITY_DN46_c0_g1_i GTATTATTTA\n",
      "8_S356_contig000072 \t TRINITY_DN30_c0_g1_i CATGCACACA\n",
      "8_S356_contig000073 \t TRINITY_DN30_c0_g2_i GCTCAACAGT\n",
      "8_S356_contig000074 \t TRINITY_DN38_c0_g1_i TTGAAGGACA\n",
      "8_S356_contig000075 \t TRINITY_DN65_c1_g1_i GAAGAAGAAG\n",
      "8_S356_contig000076 \t TRINITY_DN65_c1_g2_i ATTCAATTCA\n",
      "8_S356_contig000077 \t TRINITY_DN65_c1_g2_i ATTCAATTCA\n",
      "8_S356_contig000078 \t TRINITY_DN65_c2_g1_i AGCATTTTGG\n",
      "8_S356_contig000079 \t TRINITY_DN65_c2_g1_i AGCATTTTGG\n",
      "8_S356_contig000080 \t TRINITY_DN65_c2_g1_i GTAGACCCCA\n",
      "8_S356_contig000081 \t TRINITY_DN65_c2_g1_i ACTGCAGGCC\n",
      "8_S356_contig000082 \t TRINITY_DN65_c2_g2_i CTTCATATAC\n",
      "8_S356_contig000083 \t TRINITY_DN4_c0_g1_i1 AGGTTGGGCT\n",
      "8_S356_contig000084 \t TRINITY_DN27_c0_g1_i GTCATGTTCT\n",
      "8_S356_contig000085 \t TRINITY_DN63_c0_g1_i AGATAGATGA\n",
      "8_S356_contig000086 \t TRINITY_DN50_c0_g1_i CCTTCCCCAC\n",
      "8_S356_contig000087 \t TRINITY_DN50_c0_g1_i GTGCAGGGAA\n",
      "8_S356_contig000088 \t TRINITY_DN42_c0_g1_i AAGCGGCAGA\n",
      "8_S356_contig000089 \t TRINITY_DN49_c0_g1_i ACCTTACACT\n",
      "8_S356_contig000090 \t TRINITY_DN49_c1_g1_i AGCTGCTATA\n",
      "8_S356_contig000091 \t TRINITY_DN80_c0_g1_i ATAAACACGT\n",
      "8_S356_contig000092 \t TRINITY_DN15_c0_g1_i GATGAACACA\n",
      "8_S356_contig000093 \t TRINITY_DN86_c0_g1_i CACCAGGCTG\n",
      "8_S356_contig000094 \t TRINITY_DN9_c0_g1_i1 GAATAAGATC\n",
      "8_S356_contig000095 \t TRINITY_DN17_c0_g1_i GCTCTTTTCC\n",
      "8_S356_contig000096 \t TRINITY_DN106_c0_g1_ ACTCAGAATC\n",
      "8_S356_contig000097 \t TRINITY_DN135_c0_g1_ AAATAGTGTT\n",
      "8_S356_contig000098 \t TRINITY_DN103_c0_g1_ TGTTTACACA\n",
      "8_S356_contig000099 \t TRINITY_DN158_c0_g1_ GATACCAACA\n",
      "8_S356_contig000100 \t TRINITY_DN130_c0_g1_ GGACACATGC\n",
      "8_S356_contig000101 \t TRINITY_DN197_c0_g1_ GGACAATGGA\n",
      "8_S356_contig000102 \t TRINITY_DN116_c0_g1_ CACAAACACA\n",
      "8_S356_contig000103 \t TRINITY_DN120_c0_g1_ ATCATGGGCA\n",
      "8_S356_contig000104 \t TRINITY_DN122_c0_g1_ GGGCAGCTGT\n",
      "8_S356_contig000105 \t TRINITY_DN172_c0_g1_ ATTCAGCCCT\n",
      "8_S356_contig000106 \t TRINITY_DN174_c0_g1_ TTAATTACAT\n",
      "8_S356_contig000107 \t TRINITY_DN147_c0_g1_ GAACACAAGA\n",
      "8_S356_contig000108 \t TRINITY_DN183_c0_g1_ ATGACACTGT\n",
      "8_S356_contig000109 \t TRINITY_DN156_c0_g1_ ACCTCAGTCA\n",
      "8_S356_contig000110 \t TRINITY_DN128_c0_g1_ GGAAAAATAA\n",
      "8_S356_contig000111 \t TRINITY_DN159_c0_g1_ CACTCAAAGC\n",
      "8_S356_contig000112 \t TRINITY_DN133_c0_g1_ TATATATACA\n",
      "8_S356_contig000113 \t TRINITY_DN169_c0_g1_ GTGTAGCCAT\n",
      "8_S356_contig000114 \t TRINITY_DN180_c0_g1_ TCCTGCGTGC\n",
      "8_S356_contig000115 \t TRINITY_DN270_c0_g1_ GAAATGATAG\n",
      "8_S356_contig000116 \t TRINITY_DN266_c0_g1_ GAGTTGTTGT\n",
      "8_S356_contig000117 \t TRINITY_DN276_c0_g1_ CACGTGTCAC\n",
      "8_S356_contig000118 \t TRINITY_DN285_c0_g1_ ACTTAATGCA\n",
      "8_S356_contig000119 \t TRINITY_DN248_c0_g1_ ACGTTTGTTA\n",
      "8_S356_contig000120 \t TRINITY_DN296_c0_g1_ GATGGAAGAA\n",
      "8_S356_contig000121 \t TRINITY_DN282_c0_g1_ ATTACACACC\n",
      "8_S356_contig000122 \t TRINITY_DN294_c0_g1_ GGAAGACACA\n",
      "8_S356_contig000123 \t TRINITY_DN271_c0_g1_ ATCTTATACA\n",
      "8_S356_contig000124 \t TRINITY_DN242_c0_g1_ ATGATAGAGT\n",
      "8_S356_contig000125 \t TRINITY_DN262_c0_g1_ ATATTAATAT\n",
      "8_S356_contig000126 \t TRINITY_DN261_c0_g1_ GTGGGACTCG\n",
      "8_S356_contig000127 \t TRINITY_DN269_c0_g1_ GTTCATGGTC\n",
      "8_S356_contig000128 \t TRINITY_DN205_c0_g1_ ATGTCATGGA\n",
      "8_S356_contig000129 \t TRINITY_DN231_c0_g1_ AAATTTATCA\n",
      "8_S356_contig000130 \t TRINITY_DN277_c1_g1_ ATCCAGTGTG\n",
      "8_S356_contig000131 \t TRINITY_DN277_c1_g2_ GGCAAGCATT\n",
      "8_S356_contig000132 \t TRINITY_DN219_c0_g1_ GTTCAGGGTG\n",
      "8_S356_contig000133 \t TRINITY_DN268_c0_g1_ CTTCACCACA\n",
      "8_S356_contig000134 \t TRINITY_DN244_c0_g1_ ATTGTAGACA\n",
      "8_S356_contig000135 \t TRINITY_DN298_c0_g1_ ATATATTCCT\n",
      "8_S356_contig000136 \t TRINITY_DN214_c0_g1_ ATGTCATCCA\n",
      "8_S356_contig000137 \t TRINITY_DN212_c0_g1_ GTTGCACCAC\n",
      "8_S356_contig000138 \t TRINITY_DN287_c0_g1_ GTTATACTGT\n",
      "8_S356_contig000139 \t TRINITY_DN391_c0_g1_ GAATTTCCAC\n",
      "8_S356_contig000140 \t TRINITY_DN387_c0_g1_ ATACATTATT\n",
      "8_S356_contig000141 \t TRINITY_DN356_c0_g1_ ATATTAACCA\n",
      "8_S356_contig000142 \t TRINITY_DN347_c0_g1_ TCTGCAAACT\n",
      "8_S356_contig000143 \t TRINITY_DN348_c0_g1_ GACCAGAGCT\n",
      "8_S356_contig000144 \t TRINITY_DN331_c0_g1_ GTATTTATTC\n",
      "8_S356_contig000145 \t TRINITY_DN390_c0_g1_ ACTTGGTGGA\n",
      "8_S356_contig000146 \t TRINITY_DN398_c0_g1_ AAGCAATTAT\n",
      "8_S356_contig000147 \t TRINITY_DN319_c0_g1_ ATGAAAGGTC\n",
      "8_S356_contig000148 \t TRINITY_DN364_c0_g1_ AACCCTGCAA\n",
      "8_S356_contig000149 \t TRINITY_DN360_c0_g1_ TGGCTATCTC\n",
      "8_S356_contig000150 \t TRINITY_DN355_c0_g1_ AAATAAAACC\n",
      "8_S356_contig000151 \t TRINITY_DN375_c0_g1_ AGTCACTCAT\n",
      "8_S356_contig000152 \t TRINITY_DN350_c0_g1_ AACTACTTCA\n",
      "8_S356_contig000153 \t TRINITY_DN320_c0_g1_ GTCTGCATTC\n",
      "8_S356_contig000154 \t TRINITY_DN335_c0_g1_ ATACAGGATG\n",
      "8_S356_contig000155 \t TRINITY_DN338_c0_g1_ GACTAAAGGC\n",
      "8_S356_contig000156 \t TRINITY_DN311_c0_g1_ GACGGGGGTC\n",
      "8_S356_contig000157 \t TRINITY_DN496_c0_g1_ TTCTTGGGGG\n",
      "8_S356_contig000158 \t TRINITY_DN403_c0_g1_ TGTCTACACA\n",
      "8_S356_contig000159 \t TRINITY_DN482_c0_g1_ AGGAGCGGCC\n",
      "8_S356_contig000160 \t TRINITY_DN462_c0_g1_ GCTCCCTGTG\n",
      "8_S356_contig000161 \t TRINITY_DN449_c0_g1_ CTAGATGTGA\n",
      "8_S356_contig000162 \t TRINITY_DN400_c0_g1_ GCGATGAACG\n",
      "8_S356_contig000163 \t TRINITY_DN431_c0_g1_ TCTTAATAGT\n",
      "8_S356_contig000164 \t TRINITY_DN466_c0_g1_ CTGCTGAGAC\n",
      "8_S356_contig000165 \t TRINITY_DN467_c0_g1_ TGTAAATACA\n",
      "8_S356_contig000166 \t TRINITY_DN458_c0_g1_ GCTCTACTCT\n",
      "8_S356_contig000167 \t TRINITY_DN589_c0_g1_ ATTTTTCATA\n",
      "8_S356_contig000168 \t TRINITY_DN557_c0_g1_ ATAAAAAACA\n",
      "8_S356_contig000169 \t TRINITY_DN506_c0_g1_ ACATAACAGA\n",
      "8_S356_contig000170 \t TRINITY_DN532_c0_g1_ GATCACTGCA\n",
      "8_S356_contig000171 \t TRINITY_DN511_c0_g1_ GGGTTGCTGT\n",
      "8_S356_contig000172 \t TRINITY_DN513_c0_g1_ ATACATTATT\n",
      "8_S356_contig000173 \t TRINITY_DN594_c0_g1_ GTGGAGGTCA\n",
      "8_S356_contig000174 \t TRINITY_DN521_c0_g1_ GTATGGAAAT\n",
      "8_S356_contig000175 \t TRINITY_DN597_c0_g1_ ATATTATTCG\n",
      "8_S356_contig000176 \t TRINITY_DN556_c0_g1_ GTATTGATTT\n",
      "8_S356_contig000177 \t TRINITY_DN508_c0_g1_ GACTTTAAGA\n",
      "8_S356_contig000178 \t TRINITY_DN547_c0_g1_ GACCAAATGC\n",
      "8_S356_contig000179 \t TRINITY_DN570_c0_g1_ AAGGTAAAGT\n",
      "8_S356_contig000180 \t TRINITY_DN579_c0_g1_ CCTCTGATAG\n",
      "8_S356_contig000181 \t TRINITY_DN672_c0_g1_ AAGGTGTACT\n",
      "8_S356_contig000182 \t TRINITY_DN638_c0_g1_ CATCTTTATA\n",
      "8_S356_contig000183 \t TRINITY_DN615_c0_g1_ ACGTATGCAT\n",
      "8_S356_contig000184 \t TRINITY_DN669_c0_g1_ CTTATATATC\n",
      "8_S356_contig000185 \t TRINITY_DN660_c0_g1_ ATTCTGTCCT\n",
      "8_S356_contig000186 \t TRINITY_DN650_c0_g1_ ATTTTATGTC\n",
      "8_S356_contig000187 \t TRINITY_DN659_c0_g1_ ACCGTGATGT\n",
      "8_S356_contig000188 \t TRINITY_DN688_c0_g1_ GCATGCATCC\n",
      "8_S356_contig000189 \t TRINITY_DN675_c0_g1_ GTTCAGTAGG\n",
      "8_S356_contig000190 \t TRINITY_DN635_c0_g1_ GGCTGAGCTG\n",
      "8_S356_contig000191 \t TRINITY_DN611_c0_g1_ GCATAGATGA\n",
      "8_S356_contig000192 \t TRINITY_DN627_c0_g1_ TTTCTTGGCA\n",
      "8_S356_contig000193 \t TRINITY_DN623_c0_g1_ GTGGAGGAGT\n",
      "8_S356_contig000194 \t TRINITY_DN608_c0_g1_ TGTTAGGTGT\n",
      "8_S356_contig000195 \t TRINITY_DN697_c0_g1_ TGCCTATAGA\n",
      "8_S356_contig000196 \t TRINITY_DN694_c0_g1_ CTGCAGGCTG\n",
      "8_S356_contig000197 \t TRINITY_DN674_c0_g1_ ATGGAAGAGA\n",
      "8_S356_contig000198 \t TRINITY_DN652_c0_g1_ TAAAGGGCCT\n",
      "8_S356_contig000199 \t TRINITY_DN741_c0_g1_ TCTCCGCACT\n",
      "8_S356_contig000200 \t TRINITY_DN702_c0_g1_ GTACTGTATC\n",
      "8_S356_contig000201 \t TRINITY_DN782_c0_g1_ GTTCTTCTGC\n",
      "8_S356_contig000202 \t TRINITY_DN753_c0_g1_ GGTTTTACTG\n",
      "8_S356_contig000203 \t TRINITY_DN739_c0_g1_ ATGTTGAACT\n",
      "8_S356_contig000204 \t TRINITY_DN765_c0_g1_ GGAGGGACGG\n",
      "8_S356_contig000205 \t TRINITY_DN744_c0_g1_ GCGTAGTGGC\n",
      "8_S356_contig000206 \t TRINITY_DN725_c0_g1_ CACACGTGGC\n",
      "8_S356_contig000207 \t TRINITY_DN784_c0_g1_ GAATAAGAGA\n",
      "8_S356_contig000208 \t TRINITY_DN752_c0_g1_ GGAAGACACG\n",
      "8_S356_contig000209 \t TRINITY_DN734_c0_g1_ CACAGATGCT\n",
      "8_S356_contig000210 \t TRINITY_DN734_c0_g2_ CACAGATGCT\n",
      "8_S356_contig000211 \t TRINITY_DN755_c0_g1_ GCTGAGTGTA\n",
      "8_S356_contig000212 \t TRINITY_DN730_c0_g1_ AACGGTAGCT\n",
      "8_S356_contig000213 \t TRINITY_DN795_c0_g1_ GTTGGAGACA\n",
      "8_S356_contig000214 \t TRINITY_DN874_c0_g1_ TGTGTGAACT\n",
      "8_S356_contig000215 \t TRINITY_DN867_c0_g1_ CAAATCCACA\n",
      "8_S356_contig000216 \t TRINITY_DN851_c0_g1_ AAGGCTGGTG\n",
      "8_S356_contig000217 \t TRINITY_DN806_c0_g1_ TCTAAATATT\n",
      "8_S356_contig000218 \t TRINITY_DN837_c0_g1_ AACGTATATC\n",
      "8_S356_contig000219 \t TRINITY_DN871_c0_g1_ GGTAATAGGA\n",
      "8_S356_contig000220 \t TRINITY_DN813_c0_g1_ TACTGTCCCT\n",
      "8_S356_contig000221 \t TRINITY_DN862_c0_g1_ ATATGTATGT\n",
      "8_S356_contig000222 \t TRINITY_DN882_c0_g1_ AATCTGACAC\n",
      "8_S356_contig000223 \t TRINITY_DN832_c0_g1_ GCACATAGTT\n",
      "8_S356_contig000224 \t TRINITY_DN834_c0_g1_ CGTCACATAC\n",
      "8_S356_contig000225 \t TRINITY_DN824_c0_g1_ GCCTGTAATT\n",
      "8_S356_contig000226 \t TRINITY_DN801_c0_g1_ GGAAATATTC\n",
      "8_S356_contig000227 \t TRINITY_DN857_c0_g1_ GTATATACAC\n",
      "8_S356_contig000228 \t TRINITY_DN853_c0_g1_ CCTCTGGCCT\n",
      "8_S356_contig000229 \t TRINITY_DN911_c0_g1_ GCATTAAAAA\n",
      "8_S356_contig000230 \t TRINITY_DN964_c0_g1_ CGAAGGGTCG\n",
      "8_S356_contig000231 \t TRINITY_DN940_c0_g1_ GTGTGGGAGT\n",
      "8_S356_contig000232 \t TRINITY_DN902_c0_g1_ GGATTCCACA\n",
      "8_S356_contig000233 \t TRINITY_DN990_c0_g1_ ATTGTATCAA\n",
      "8_S356_contig000234 \t TRINITY_DN958_c0_g1_ GATAAGCGCT\n",
      "8_S356_contig000235 \t TRINITY_DN939_c0_g1_ GTTGAGCAGC\n",
      "8_S356_contig000236 \t TRINITY_DN986_c0_g1_ ATATAAGAAT\n",
      "8_S356_contig000237 \t TRINITY_DN968_c0_g1_ ATGCATGACA\n",
      "8_S356_contig000238 \t TRINITY_DN910_c0_g1_ AAATGTTCAC\n",
      "8_S356_contig000239 \t TRINITY_DN981_c0_g1_ GCCTCTGCAG\n",
      "8_S356_contig000240 \t TRINITY_DN976_c0_g1_ AGTGGGCTCT\n",
      "8_S356_contig000241 \t TRINITY_DN946_c0_g1_ GGTCTTTAAC\n",
      "8_S356_contig000242 \t TRINITY_DN936_c0_g1_ GTGAAGACCA\n",
      "8_S356_contig000243 \t TRINITY_DN945_c0_g1_ ACCCTAATCA\n",
      "8_S356_contig000244 \t TRINITY_DN934_c0_g1_ GTGTAAACAG\n",
      "8_S356_contig000245 \t TRINITY_DN959_c0_g1_ GTGCGGTCCT\n",
      "8_S356_contig000246 \t TRINITY_DN988_c0_g1_ GGGCGGGCGC\n",
      "8_S356_contig000247 \t TRINITY_DN997_c0_g1_ ATGTTAGACA\n",
      "8_S356_contig000248 \t TRINITY_DN961_c0_g1_ GTGTTGGGAA\n",
      "8_S356_contig000249 \t TRINITY_DN943_c0_g1_ ATGCAGATGT\n",
      "8_S356_contig000250 \t TRINITY_DN969_c0_g1_ AGTCTAGCCT\n",
      "8_S356_contig000251 \t TRINITY_DN928_c0_g1_ GAAAAATACT\n",
      "8_S356_contig000252 \t TRINITY_DN996_c0_g1_ GTGTGATAGT\n",
      "8_S356_contig000253 \t TRINITY_DN904_c0_g1_ CCCATGTCCG\n",
      "8_S356_contig000254 \t TRINITY_DN994_c0_g1_ CTTGGAATGC\n",
      "8_S356_contig000255 \t TRINITY_DN1013_c0_g1 GCGTAGATGT\n",
      "8_S356_contig000256 \t TRINITY_DN1041_c0_g1 GACTGTGAAG\n",
      "8_S356_contig000257 \t TRINITY_DN1095_c0_g1 GGTAGGACAT\n",
      "8_S356_contig000258 \t TRINITY_DN1051_c0_g1 GTATAAAACT\n",
      "8_S356_contig000259 \t TRINITY_DN1022_c0_g1 TCTTTGAGTA\n",
      "8_S356_contig000260 \t TRINITY_DN1023_c0_g1 ACTCCCTGCT\n",
      "8_S356_contig000261 \t TRINITY_DN1052_c0_g1 GTTACTAGGC\n",
      "8_S356_contig000262 \t TRINITY_DN1014_c0_g1 GGAAAACACA\n",
      "8_S356_contig000263 \t TRINITY_DN1064_c0_g1 ACTACATGCT\n",
      "8_S356_contig000264 \t TRINITY_DN1009_c0_g1 TCAGTACAGG\n",
      "8_S356_contig000265 \t TRINITY_DN1094_c0_g1 ATATATTCCT\n",
      "8_S356_contig000266 \t TRINITY_DN1080_c0_g1 GGTGTGCATG\n",
      "8_S356_contig000267 \t TRINITY_DN1099_c0_g1 TGTGAGGTTT\n",
      "8_S356_contig000268 \t TRINITY_DN1046_c0_g1 CAAATTTTAT\n",
      "8_S356_contig000269 \t TRINITY_DN1010_c0_g1 TAAATGACAT\n",
      "8_S356_contig000270 \t TRINITY_DN1081_c0_g1 ATGTAGTCCA\n",
      "8_S356_contig000271 \t TRINITY_DN1197_c0_g1 AATTAGCTGT\n",
      "8_S356_contig000272 \t TRINITY_DN1196_c0_g1 GTATATATGC\n",
      "8_S356_contig000273 \t TRINITY_DN1154_c0_g1 GTGCTGGACC\n",
      "8_S356_contig000274 \t TRINITY_DN1153_c0_g1 GCTTTAGCTT\n",
      "8_S356_contig000275 \t TRINITY_DN1178_c0_g1 CACTGAAGAG\n",
      "8_S356_contig000276 \t TRINITY_DN1106_c0_g1 ATAAAAGCAT\n",
      "8_S356_contig000277 \t TRINITY_DN1189_c0_g1 AGCGAGAAAA\n",
      "8_S356_contig000278 \t TRINITY_DN1110_c0_g1 ACAGGAAGGA\n",
      "8_S356_contig000279 \t TRINITY_DN1147_c0_g1 GAGCGCCTCC\n",
      "8_S356_contig000280 \t TRINITY_DN1163_c0_g1 ACACATTTCT\n",
      "8_S356_contig000281 \t TRINITY_DN1186_c0_g1 GGGTTACAGA\n",
      "8_S356_contig000282 \t TRINITY_DN1193_c0_g1 CATTAGTGCT\n",
      "8_S356_contig000283 \t TRINITY_DN1152_c0_g1 TTTTAACTCA\n",
      "8_S356_contig000284 \t TRINITY_DN1164_c0_g1 GTTTTATCTG\n",
      "8_S356_contig000285 \t TRINITY_DN1145_c0_g1 TTTGCCCATT\n",
      "8_S356_contig000286 \t TRINITY_DN1129_c0_g1 GTTCAATAGC\n",
      "8_S356_contig000287 \t TRINITY_DN1141_c0_g1 CATAATAACA\n",
      "8_S356_contig000288 \t TRINITY_DN1115_c0_g1 ATTAAAAATT\n",
      "8_S356_contig000289 \t TRINITY_DN1136_c0_g1 TTTCTCAAGA\n",
      "8_S356_contig000290 \t TRINITY_DN1146_c0_g1 GTAAAATCAG\n",
      "8_S356_contig000291 \t TRINITY_DN1237_c0_g1 CTGTCGTACA\n",
      "8_S356_contig000292 \t TRINITY_DN1260_c0_g1 GGACCAACAC\n",
      "8_S356_contig000293 \t TRINITY_DN1236_c0_g1 TAGTTACACT\n",
      "8_S356_contig000294 \t TRINITY_DN1219_c1_g1 GTTTACAGAA\n",
      "8_S356_contig000295 \t TRINITY_DN1219_c1_g2 GCGCAAAGAG\n",
      "8_S356_contig000296 \t TRINITY_DN1287_c0_g1 GTTTAACAGC\n",
      "8_S356_contig000297 \t TRINITY_DN1232_c0_g1 TGTGAGGAGT\n",
      "8_S356_contig000298 \t TRINITY_DN1294_c0_g1 GCCTTGTGCA\n",
      "8_S356_contig000299 \t TRINITY_DN1258_c0_g1 CTGCATTTGC\n",
      "8_S356_contig000300 \t TRINITY_DN1296_c0_g1 TAATAATACT\n",
      "8_S356_contig000301 \t TRINITY_DN1244_c0_g1 GTGTATAATT\n",
      "8_S356_contig000302 \t TRINITY_DN1386_c0_g1 ACATTTATCC\n",
      "8_S356_contig000303 \t TRINITY_DN1306_c0_g1 GTACTGCGCT\n",
      "8_S356_contig000304 \t TRINITY_DN1384_c0_g1 ATGTTAAGGC\n",
      "8_S356_contig000305 \t TRINITY_DN1348_c0_g1 TGTTAGGAGA\n",
      "8_S356_contig000306 \t TRINITY_DN1321_c0_g1 GGATCTTATG\n",
      "8_S356_contig000307 \t TRINITY_DN1313_c0_g1 GATAGCAAAG\n",
      "8_S356_contig000308 \t TRINITY_DN1392_c0_g1 ATGTCTTCCA\n",
      "8_S356_contig000309 \t TRINITY_DN1354_c0_g1 GCAGAAAGAT\n",
      "8_S356_contig000310 \t TRINITY_DN1312_c0_g1 CCTCAACACA\n",
      "8_S356_contig000311 \t TRINITY_DN1383_c0_g1 ACTCTAACCT\n",
      "8_S356_contig000312 \t TRINITY_DN1345_c0_g1 ATGTGGAACT\n",
      "8_S356_contig000313 \t TRINITY_DN1396_c0_g1 GAGCTGCAGA\n",
      "8_S356_contig000314 \t TRINITY_DN1379_c0_g1 CATTTAGGGA\n",
      "8_S356_contig000315 \t TRINITY_DN1370_c0_g1 ATGTGGCTCG\n",
      "8_S356_contig000316 \t TRINITY_DN1364_c0_g1 ATTAACTAAC\n",
      "8_S356_contig000317 \t TRINITY_DN1411_c0_g1 TTTTTCCCTT\n",
      "8_S356_contig000318 \t TRINITY_DN1418_c0_g1 GGTAAACGTC\n",
      "8_S356_contig000319 \t TRINITY_DN1404_c0_g1 ATATAAAGGT\n",
      "8_S356_contig000320 \t TRINITY_DN1423_c0_g1 CAATTTCACG\n",
      "8_S356_contig000321 \t TRINITY_DN1407_c0_g1 GAATATATTG\n"
     ]
    }
   ],
   "source": [
    "n=0\n",
    "secuencias = []\n",
    "\n",
    "f = open(\"Trinity.fasta\", \"r\")\n",
    "for rec in SeqIO.parse(f, \"fasta\"):\n",
    "    n+=1\n",
    "    n1 =str(n).zfill(6)\n",
    "    sec = rec.seq\n",
    "    linea =SeqRecord(sec, id=\"8_S356_contig\"+ n1, description=rec.description)\n",
    "    print (linea.id, \"\\t\", linea.description[:20], linea.seq[:10])\n",
    "    secuencias.append(linea)\n"
   ]
  },
  {
   "cell_type": "code",
   "execution_count": 36,
   "metadata": {},
   "outputs": [
    {
     "data": {
      "text/plain": [
       "321"
      ]
     },
     "execution_count": 36,
     "metadata": {},
     "output_type": "execute_result"
    }
   ],
   "source": [
    "SeqIO.write(secuencias, '../8_S356_contigs.fa', 'fasta')"
   ]
  },
  {
   "cell_type": "markdown",
   "metadata": {},
   "source": [
    "## Abra el archivo `../8_S356_contigs.fa` desde el navegador de Jupyter y observe los cambios"
   ]
  },
  {
   "cell_type": "markdown",
   "metadata": {},
   "source": [
    "## De qué otra forma podría observar los cambios?"
   ]
  },
  {
   "cell_type": "code",
   "execution_count": null,
   "metadata": {},
   "outputs": [],
   "source": []
  },
  {
   "cell_type": "markdown",
   "metadata": {},
   "source": [
    "### Cómo se podría cambiar el comando para usar\n",
    "### `8_S356_contig001` en adelante?"
   ]
  },
  {
   "cell_type": "code",
   "execution_count": null,
   "metadata": {},
   "outputs": [],
   "source": []
  },
  {
   "cell_type": "code",
   "execution_count": 40,
   "metadata": {},
   "outputs": [
    {
     "name": "stdout",
     "output_type": "stream",
     "text": [
      "/home/user1/Desktop/data/ejercicio_ensamblaje\n"
     ]
    }
   ],
   "source": [
    "cd .."
   ]
  },
  {
   "cell_type": "markdown",
   "metadata": {},
   "source": [
    "# se analizarán con blastx los contigs obtenidos"
   ]
  },
  {
   "cell_type": "code",
   "execution_count": null,
   "metadata": {},
   "outputs": [],
   "source": [
    "%%bash\n",
    "export BLASTDB=/home/user1/DATA/swiss/\n",
    "\n",
    "date  \n",
    "time blastx -query 8_S356_contigs.fa  -db /home/user1/DATA/swiss/swissprot \\\n",
    "-out 8_S356_contigs.tab -evalue 1E-6 -max_target_seqs 1 \\\n",
    "-num_threads 2 -outfmt \"6 std stitle\" \n",
    "date"
   ]
  },
  {
   "cell_type": "code",
   "execution_count": null,
   "metadata": {},
   "outputs": [],
   "source": [
    "!date"
   ]
  },
  {
   "cell_type": "code",
   "execution_count": null,
   "metadata": {},
   "outputs": [],
   "source": [
    "!head sequence_transcriptome.tab"
   ]
  },
  {
   "cell_type": "code",
   "execution_count": null,
   "metadata": {},
   "outputs": [],
   "source": [
    "encabezado =(\"qseqid\", \"sseqid\", \"pident\", \"length\", \"mismatch\", \"gapopen\",\"qstart\", \n",
    "             \"qend\", \"sstart\",\"send\", \"evalue\", \"bitscore\", \"stitle\")"
   ]
  },
  {
   "cell_type": "code",
   "execution_count": null,
   "metadata": {
    "scrolled": false
   },
   "outputs": [],
   "source": [
    "ftab=pd.read_table(\"sequence_transcriptome.tab\", header=None , names= encabezado)\n",
    "ftab.head()"
   ]
  },
  {
   "cell_type": "code",
   "execution_count": null,
   "metadata": {
    "scrolled": false
   },
   "outputs": [],
   "source": [
    "ftab1= ftab.groupby(\"stitle\")[\"qseqid\"].count()\n",
    "ftab1 = DataFrame(ftab1)\n",
    "ftab1"
   ]
  },
  {
   "cell_type": "code",
   "execution_count": null,
   "metadata": {},
   "outputs": [],
   "source": [
    "n=0\n",
    "for rec in ftab[\"stitle\"]:\n",
    "    print (rec)\n",
    "    n+=1\n",
    "    if n==20:\n",
    "        break"
   ]
  },
  {
   "cell_type": "code",
   "execution_count": null,
   "metadata": {},
   "outputs": [],
   "source": []
  }
 ],
 "metadata": {
  "kernelspec": {
   "display_name": "Python 3",
   "language": "python",
   "name": "python3"
  },
  "language_info": {
   "codemirror_mode": {
    "name": "ipython",
    "version": 3
   },
   "file_extension": ".py",
   "mimetype": "text/x-python",
   "name": "python",
   "nbconvert_exporter": "python",
   "pygments_lexer": "ipython3",
   "version": "3.6.5"
  }
 },
 "nbformat": 4,
 "nbformat_minor": 2
}
