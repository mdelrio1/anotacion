{
 "cells": [
  {
   "cell_type": "markdown",
   "metadata": {},
   "source": [
    "# Bitácora para manejo de archivos y sistema operativo\n",
    "\n",
    "# <center> Comandos de *Python* en Jupyter</center>"
   ]
  },
  {
   "cell_type": "markdown",
   "metadata": {},
   "source": [
    "# Comandos básicos del sistema operativo con python"
   ]
  },
  {
   "cell_type": "markdown",
   "metadata": {},
   "source": [
    "## Directorio de trabajo"
   ]
  },
  {
   "cell_type": "code",
   "execution_count": 1,
   "metadata": {},
   "outputs": [
    {
     "data": {
      "text/plain": [
       "'/Users/migueldelrio/Desktop/curso/jupyter'"
      ]
     },
     "execution_count": 1,
     "metadata": {},
     "output_type": "execute_result"
    }
   ],
   "source": [
    "pwd"
   ]
  },
  {
   "cell_type": "markdown",
   "metadata": {},
   "source": [
    "## Cambio de directorio"
   ]
  },
  {
   "cell_type": "code",
   "execution_count": 2,
   "metadata": {},
   "outputs": [
    {
     "name": "stdout",
     "output_type": "stream",
     "text": [
      "/Users/migueldelrio/Desktop/data\n"
     ]
    }
   ],
   "source": [
    "cd ~/Desktop/data"
   ]
  },
  {
   "cell_type": "markdown",
   "metadata": {},
   "source": [
    "## Listado de archivos del directorio"
   ]
  },
  {
   "cell_type": "code",
   "execution_count": 4,
   "metadata": {},
   "outputs": [
    {
     "name": "stdout",
     "output_type": "stream",
     "text": [
      "\u001b[31m1Hcorrugataassembly-blastx-coma.csv\u001b[m\u001b[m*\r\n",
      "\u001b[31m1Hcorrugataassembly-blastx-coma2.csv\u001b[m\u001b[m*\r\n",
      "\u001b[31m1Hcorrugataassembly-blastx.tab\u001b[m\u001b[m*\r\n",
      "\u001b[31m1Hcorrugataassembly-blastx2.csv\u001b[m\u001b[m*\r\n",
      "1Hcorrugataassembly.fas\r\n",
      "\u001b[31m2Hcracherodii_blast_go.csv\u001b[m\u001b[m*\r\n",
      "\u001b[31m8SnuttalliTblastx.csv\u001b[m\u001b[m*\r\n",
      "\u001b[31m8SnuttalliTblastx.txt\u001b[m\u001b[m*\r\n",
      "\u001b[31m8SnuttalliTblastx.xlsx\u001b[m\u001b[m*\r\n",
      "\u001b[31m8SnuttalliTblastxespecies.xlsx\u001b[m\u001b[m*\r\n",
      "\u001b[31m8Snuttalliblastn.tab\u001b[m\u001b[m*\r\n",
      "\u001b[31m8Snuttalliblastn.tab 2\u001b[m\u001b[m*\r\n",
      "\u001b[31m8Snuttalliblastn_tab.xlsx\u001b[m\u001b[m*\r\n",
      "\u001b[31mBlastColumnsNames.xlsx\u001b[m\u001b[m*\r\n",
      "\u001b[31mBlastX_progreso.xlsx\u001b[m\u001b[m*\r\n",
      "\u001b[31mBlastX_progresoMsqualida.xlsx\u001b[m\u001b[m*\r\n",
      "\u001b[31mBlastn_progreso.xlsx\u001b[m\u001b[m*\r\n",
      "\u001b[31mContigNmexicanusmapping_n.csv\u001b[m\u001b[m*\r\n",
      "\u001b[31mContigNmexicanusmapping_n.tab\u001b[m\u001b[m*\r\n",
      "\u001b[31mContigNmexicanusmapping_n.xlsx\u001b[m\u001b[m*\r\n",
      "\u001b[31mContigNmexicanusmapping_x.csv\u001b[m\u001b[m*\r\n",
      "\u001b[31mContigNmexicanusmapping_x.tab\u001b[m\u001b[m*\r\n",
      "ContigNmexicanusmappingx_parasql.csv\r\n",
      "\u001b[31mContigPpersonatusmapping_n.tab\u001b[m\u001b[m*\r\n",
      "\u001b[31mContigPpersonatusmapping_x.csv\u001b[m\u001b[m*\r\n",
      "\u001b[31mContigPpersonatusmapping_x.tab\u001b[m\u001b[m*\r\n",
      "\u001b[31mContigPpersonatusmapping_x.xlsx\u001b[m\u001b[m*\r\n",
      "\u001b[31mFissurellidae.gb\u001b[m\u001b[m*\r\n",
      "\u001b[31mGeoduck-transcriptome-v2-1.csv\u001b[m\u001b[m*\r\n",
      "\u001b[31mGeoduck-transcriptome-v2-1.xlsx\u001b[m\u001b[m*\r\n",
      "\u001b[31mGeoduck-transcriptome-v2-11.csv\u001b[m\u001b[m*\r\n",
      "\u001b[31mGeoduck-transcriptome-v2-len.tab.txt\u001b[m\u001b[m*\r\n",
      "\u001b[31mGeoduck-transcriptome-v2-r-1.csv\u001b[m\u001b[m*\r\n",
      "\u001b[31mGeoduck-transcriptome-v2-r.csv\u001b[m\u001b[m*\r\n",
      "\u001b[31mGeoduck-transcriptome-v2.csv\u001b[m\u001b[m*\r\n",
      "\u001b[31mGeoduck-transcriptome-v2.fasta\u001b[m\u001b[m*\r\n",
      "\u001b[31mGeoduck-transcriptome-v2.xlsx\u001b[m\u001b[m*\r\n",
      "\u001b[31mGeoduck-transcriptome-v3.fa\u001b[m\u001b[m*\r\n",
      "\u001b[31mGeoduck-transcriptome-v3.tab 5\u001b[m\u001b[m*\r\n",
      "\u001b[31mGeoduck-transcriptome-v3a-f.csv\u001b[m\u001b[m*\r\n",
      "\u001b[31mGeoduck-transcriptome-v3a-r.csv\u001b[m\u001b[m*\r\n",
      "\u001b[31mGeoduck-transcriptome-v3a.fa\u001b[m\u001b[m*\r\n",
      "\u001b[31mHaliotidae_mtDNA20160115.fasta\u001b[m\u001b[m*\r\n",
      "\u001b[31mHaliotidae_mtDNA20160115.gb\u001b[m\u001b[m*\r\n",
      "\u001b[31mHaliotis16s.fas\u001b[m\u001b[m*\r\n",
      "\u001b[31mHfulgensmicros_NCBI.gb\u001b[m\u001b[m*\r\n",
      "\u001b[31mHfulgensmicros_NCBI20160507.gb\u001b[m\u001b[m*\r\n",
      "\u001b[31mHrufescens_mtDNASequence.csv\u001b[m\u001b[m*\r\n",
      "\u001b[31mHrufescens_mtDNASequence.xlsx\u001b[m\u001b[m*\r\n",
      "\u001b[31mHrufescens_mtDNASequences from NCBI.fasta\u001b[m\u001b[m*\r\n",
      "\u001b[31mNcbi-colNames.xlsx\u001b[m\u001b[m*\r\n",
      "\u001b[31mStichopodidaemtDNA.mas\u001b[m\u001b[m*\r\n",
      "\u001b[31mStichopodidaemtDNA20160510.fasta\u001b[m\u001b[m*\r\n",
      "\u001b[31mStichopodidaemtDNA20160510.gb\u001b[m\u001b[m*\r\n",
      "\u001b[34mab1\u001b[m\u001b[m/\r\n",
      "\u001b[34mbioinformatica_aplicada\u001b[m\u001b[m/\r\n",
      "\u001b[34mblast\u001b[m\u001b[m/\r\n",
      "\u001b[31mbrain_size.csv\u001b[m\u001b[m*\r\n",
      "\u001b[31mbrain_size.xlsx\u001b[m\u001b[m*\r\n",
      "\u001b[31mbrainsize.csv\u001b[m\u001b[m*\r\n",
      "\u001b[34mconchos\u001b[m\u001b[m/\r\n",
      "\u001b[31mdatosborrador.csv\u001b[m\u001b[m*\r\n",
      "\u001b[34mdorada\u001b[m\u001b[m/\r\n",
      "\u001b[34mejercicio_fastaq\u001b[m\u001b[m/\r\n",
      "\u001b[31mgastropoda_mtDNA20170714.gb\u001b[m\u001b[m*\r\n",
      "\u001b[31mgastropoda_mtDNA_ref_20170714.gb\u001b[m\u001b[m*\r\n",
      "gastropoda_mtdna20170714.csv\r\n",
      "\u001b[34mgenbank\u001b[m\u001b[m/\r\n",
      "\u001b[31mhaliotidemtdna.gb\u001b[m\u001b[m*\r\n",
      "\u001b[31mhaliotidemtdnaproteins.fasta\u001b[m\u001b[m*\r\n",
      "\u001b[34mimg\u001b[m\u001b[m/\r\n",
      "\u001b[31misostichopusfuscus.gb\u001b[m\u001b[m*\r\n",
      "\u001b[34mmicroalgas\u001b[m\u001b[m/\r\n",
      "murcielagos.fasta\r\n",
      "murcielagos.gb\r\n",
      "\u001b[34mpepinodemar\u001b[m\u001b[m/\r\n",
      "\u001b[34mpezblanco\u001b[m\u001b[m/\r\n",
      "\u001b[34mpulposirene\u001b[m\u001b[m/\r\n",
      "\u001b[34mseguimiento\u001b[m\u001b[m/\r\n",
      "\u001b[34mtotoaba\u001b[m\u001b[m/\r\n",
      "totoaba2CFP.csv\r\n",
      "totoaba2CFP.xlsx\r\n",
      "\u001b[31mtotoabacontiglist.fa\u001b[m\u001b[m*\r\n",
      "totoabacontiglist2.fa\r\n",
      "totoabacontiglist2_blastx.csv\r\n",
      "totoabacontiglist2_blastx.tab\r\n",
      "totoabacontiglist2_blastx.xlsx\r\n",
      "\u001b[31mtotoabacontiglist2_blastx_query_results.csv\u001b[m\u001b[m*\r\n",
      "totoabacontiglist2_blastxespecie.csv\r\n",
      "totoabacontiglist2_blastxespecie_ref.csv\r\n",
      "totoabacontiglist2_opr.faa\r\n",
      "totoabacontiglist_blastn.csv\r\n",
      "totoabacontiglist_blastn.tab\r\n",
      "\u001b[31mtotoabacontiglist_blastn.xlsx\u001b[m\u001b[m*\r\n",
      "totoabacontiglist_blastnsigno.csv\r\n",
      "\u001b[31mtotoabacontiglist_blastnsigno.xlsx\u001b[m\u001b[m*\r\n",
      "\u001b[31mtotoabacontiglist_blastx.csv\u001b[m\u001b[m*\r\n",
      "\u001b[31mtotoabacontiglist_blastx.tab\u001b[m\u001b[m*\r\n",
      "\u001b[31mtotoabacontiglist_blastxespecie.csv\u001b[m\u001b[m*\r\n",
      "\u001b[31mvetigastropoda_mtDNA20160505.fasta\u001b[m\u001b[m*\r\n",
      "\u001b[31mvetigastropoda_mtDNA20170714.gb\u001b[m\u001b[m*\r\n",
      "\u001b[31mvetigastropoda_rrna.fasta\u001b[m\u001b[m*\r\n",
      "\u001b[31mvetigastropodamtdna20160505.gb\u001b[m\u001b[m*\r\n"
     ]
    }
   ],
   "source": [
    "ls"
   ]
  },
  {
   "cell_type": "markdown",
   "metadata": {},
   "source": [
    "## Listado de archivos de un directorio específico"
   ]
  },
  {
   "cell_type": "code",
   "execution_count": 5,
   "metadata": {},
   "outputs": [
    {
     "name": "stdout",
     "output_type": "stream",
     "text": [
      "ls: /Users/migueldelrio/Desktop/jupyter/: No such file or directory\r\n"
     ]
    }
   ],
   "source": [
    "ls ~/Desktop/jupyter/"
   ]
  },
  {
   "cell_type": "code",
   "execution_count": 9,
   "metadata": {},
   "outputs": [
    {
     "name": "stdout",
     "output_type": "stream",
     "text": [
      "\u001b[0m\u001b[01;34mimg\u001b[0m/              secuencias_anotadas.aln  secuencias_anotadas.fasta\r\n",
      "secuencias.fasta  secuencias_anotadas.dnd  secuencias_comp.fas\r\n"
     ]
    }
   ],
   "source": [
    "ls fasta"
   ]
  },
  {
   "cell_type": "code",
   "execution_count": null,
   "metadata": {},
   "outputs": [],
   "source": []
  },
  {
   "cell_type": "code",
   "execution_count": null,
   "metadata": {},
   "outputs": [],
   "source": []
  },
  {
   "cell_type": "code",
   "execution_count": null,
   "metadata": {},
   "outputs": [],
   "source": []
  },
  {
   "cell_type": "markdown",
   "metadata": {},
   "source": [
    "# importación de paquetes"
   ]
  },
  {
   "cell_type": "markdown",
   "metadata": {},
   "source": [
    "#### Paquete para manejo del sistema operativo"
   ]
  },
  {
   "cell_type": "code",
   "execution_count": 7,
   "metadata": {},
   "outputs": [],
   "source": [
    "import os"
   ]
  },
  {
   "cell_type": "code",
   "execution_count": 10,
   "metadata": {},
   "outputs": [],
   "source": [
    "?os"
   ]
  },
  {
   "cell_type": "markdown",
   "metadata": {},
   "source": [
    "### para saber si existe una ruta determinada"
   ]
  },
  {
   "cell_type": "code",
   "execution_count": 11,
   "metadata": {},
   "outputs": [
    {
     "data": {
      "text/plain": [
       "True"
      ]
     },
     "execution_count": 11,
     "metadata": {},
     "output_type": "execute_result"
    }
   ],
   "source": [
    "os.path.exists(\"/home/user1/Desktop/data/\")"
   ]
  },
  {
   "cell_type": "markdown",
   "metadata": {},
   "source": [
    "### para saber el directorio de trabajo"
   ]
  },
  {
   "cell_type": "code",
   "execution_count": 15,
   "metadata": {},
   "outputs": [
    {
     "data": {
      "text/plain": [
       "'/home/user1/Desktop/jupyter'"
      ]
     },
     "execution_count": 15,
     "metadata": {},
     "output_type": "execute_result"
    }
   ],
   "source": [
    "os.getcwd()"
   ]
  },
  {
   "cell_type": "markdown",
   "metadata": {},
   "source": [
    "### cambio de directorio "
   ]
  },
  {
   "cell_type": "code",
   "execution_count": 19,
   "metadata": {},
   "outputs": [],
   "source": [
    "os.chdir(\"/home/user1/Desktop/data/\")"
   ]
  },
  {
   "cell_type": "code",
   "execution_count": 20,
   "metadata": {},
   "outputs": [
    {
     "data": {
      "text/plain": [
       "'/home/user1/Desktop/data'"
      ]
     },
     "execution_count": 20,
     "metadata": {},
     "output_type": "execute_result"
    }
   ],
   "source": [
    "os.getcwd()"
   ]
  },
  {
   "cell_type": "markdown",
   "metadata": {},
   "source": [
    "### informacion sobre *sysname*, *nodename*, *release*, *version* y *maquina*"
   ]
  },
  {
   "cell_type": "code",
   "execution_count": 21,
   "metadata": {},
   "outputs": [
    {
     "data": {
      "text/plain": [
       "posix.uname_result(sysname='Linux', nodename='jupyter02', release='3.10.0-862.6.3.el7.x86_64', version='#1 SMP Tue Jun 26 16:32:21 UTC 2018', machine='x86_64')"
      ]
     },
     "execution_count": 21,
     "metadata": {},
     "output_type": "execute_result"
    }
   ],
   "source": [
    "os.uname()"
   ]
  },
  {
   "cell_type": "markdown",
   "metadata": {},
   "source": [
    "### para conocer el tiempo que toma un proceso"
   ]
  },
  {
   "cell_type": "code",
   "execution_count": 25,
   "metadata": {},
   "outputs": [
    {
     "name": "stdout",
     "output_type": "stream",
     "text": [
      "hola posix.times_result(user=0.95, system=0.33, children_user=0.0, children_system=0.01, elapsed=6732802.78)\n"
     ]
    }
   ],
   "source": [
    "tiempo =os.times()\n",
    "\n",
    "print(\"hola\", tiempo)"
   ]
  },
  {
   "cell_type": "markdown",
   "metadata": {},
   "source": [
    "# Variables"
   ]
  },
  {
   "cell_type": "code",
   "execution_count": 27,
   "metadata": {},
   "outputs": [],
   "source": [
    "hola = \"Hola mundo\""
   ]
  },
  {
   "cell_type": "code",
   "execution_count": 28,
   "metadata": {},
   "outputs": [
    {
     "name": "stdout",
     "output_type": "stream",
     "text": [
      "Hola mundo\n"
     ]
    }
   ],
   "source": [
    "print (hola)"
   ]
  },
  {
   "cell_type": "code",
   "execution_count": 29,
   "metadata": {},
   "outputs": [
    {
     "name": "stdout",
     "output_type": "stream",
     "text": [
      "Como te llamas?Miguel\n",
      "Hola Miguel espero que estés bien\n"
     ]
    }
   ],
   "source": [
    "nombre = input(\"Como te llamas? \")\n",
    "print (\"Hola\", nombre, \"espero que estés bien.\")"
   ]
  },
  {
   "cell_type": "markdown",
   "metadata": {},
   "source": [
    "### impresión de segmentos de variables"
   ]
  },
  {
   "cell_type": "code",
   "execution_count": 30,
   "metadata": {},
   "outputs": [
    {
     "name": "stdout",
     "output_type": "stream",
     "text": [
      "Ho\n"
     ]
    }
   ],
   "source": [
    "print(hola[:2])"
   ]
  },
  {
   "cell_type": "code",
   "execution_count": 31,
   "metadata": {},
   "outputs": [
    {
     "name": "stdout",
     "output_type": "stream",
     "text": [
      "la mundo\n"
     ]
    }
   ],
   "source": [
    "print(hola[2:])"
   ]
  },
  {
   "cell_type": "markdown",
   "metadata": {},
   "source": [
    "### asignación numérica"
   ]
  },
  {
   "cell_type": "code",
   "execution_count": 33,
   "metadata": {},
   "outputs": [
    {
     "name": "stdout",
     "output_type": "stream",
     "text": [
      "0\n"
     ]
    }
   ],
   "source": [
    "n=0\n",
    "print (n)"
   ]
  },
  {
   "cell_type": "markdown",
   "metadata": {},
   "source": [
    "### incremento a variable numérica"
   ]
  },
  {
   "cell_type": "code",
   "execution_count": 34,
   "metadata": {},
   "outputs": [
    {
     "name": "stdout",
     "output_type": "stream",
     "text": [
      "1\n"
     ]
    }
   ],
   "source": [
    "n+=1\n",
    "print (n)"
   ]
  },
  {
   "cell_type": "markdown",
   "metadata": {},
   "source": [
    "### concatenación de texto"
   ]
  },
  {
   "cell_type": "code",
   "execution_count": 3,
   "metadata": {},
   "outputs": [
    {
     "name": "stdout",
     "output_type": "stream",
     "text": [
      "Migueldel Río\n"
     ]
    }
   ],
   "source": [
    "nombre = \"Miguel\"\n",
    "apellido = \"del Río\"\n",
    "nombre_completo= nombre+apellido\n",
    "print (nombre_completo)"
   ]
  },
  {
   "cell_type": "markdown",
   "metadata": {},
   "source": [
    "### corrija el código anterior para que imprima adecuadamente el nombre y apellido con espacio entre ellos "
   ]
  },
  {
   "cell_type": "markdown",
   "metadata": {},
   "source": [
    "### Utilizando los ejemplos anteriores escriba unos comandos para que pida su nombre, su apellido y lo escriba de la siguiente forma\n",
    "1. nombre y apellido\n",
    "2. apellido, coma y nombre"
   ]
  },
  {
   "cell_type": "code",
   "execution_count": 7,
   "metadata": {},
   "outputs": [
    {
     "name": "stdout",
     "output_type": "stream",
     "text": [
      "Cuál es su nombre? Miguel\n",
      "Cuál es su apellido? del Río\n",
      "1. Miguel del Río\n",
      "2. del Río , Miguel\n"
     ]
    }
   ],
   "source": [
    "nombre = input(\"Cuál es su nombre? \")\n",
    "apellido = input(\"Cuál es su apellido? \")\n",
    "print (\"1.\", nombre, apellido)\n",
    "print(\"2.\", apellido, \",\", nombre)"
   ]
  },
  {
   "cell_type": "code",
   "execution_count": 9,
   "metadata": {},
   "outputs": [
    {
     "name": "stdout",
     "output_type": "stream",
     "text": [
      "Cuál es su nombre? Miguel \n",
      "Cuál es su apellido? del Rio\n",
      "1. Miguel  del Rio\n",
      "2. del Rio, Miguel \n"
     ]
    }
   ],
   "source": [
    "nombre = input(\"Cuál es su nombre? \")\n",
    "apellido = input(\"Cuál es su apellido? \")\n",
    "print (\"1. \"+ nombre+\" \"+ apellido)\n",
    "print(\"2. \"+ apellido+ \", \"+ nombre)"
   ]
  },
  {
   "cell_type": "markdown",
   "metadata": {},
   "source": [
    "# igualdades"
   ]
  },
  {
   "cell_type": "code",
   "execution_count": 10,
   "metadata": {},
   "outputs": [],
   "source": [
    "nombre = \"Miguel\""
   ]
  },
  {
   "cell_type": "code",
   "execution_count": 11,
   "metadata": {},
   "outputs": [
    {
     "data": {
      "text/plain": [
       "True"
      ]
     },
     "execution_count": 11,
     "metadata": {},
     "output_type": "execute_result"
    }
   ],
   "source": [
    "nombre==\"Miguel\""
   ]
  },
  {
   "cell_type": "markdown",
   "metadata": {},
   "source": [
    "# Explique las diferencias entres las dos celdas anteriores"
   ]
  },
  {
   "cell_type": "code",
   "execution_count": null,
   "metadata": {},
   "outputs": [],
   "source": []
  },
  {
   "cell_type": "code",
   "execution_count": 12,
   "metadata": {},
   "outputs": [
    {
     "data": {
      "text/plain": [
       "False"
      ]
     },
     "execution_count": 12,
     "metadata": {},
     "output_type": "execute_result"
    }
   ],
   "source": [
    "nombre == \"Angel\""
   ]
  },
  {
   "cell_type": "code",
   "execution_count": null,
   "metadata": {},
   "outputs": [],
   "source": []
  },
  {
   "cell_type": "code",
   "execution_count": null,
   "metadata": {},
   "outputs": [],
   "source": []
  },
  {
   "cell_type": "markdown",
   "metadata": {},
   "source": [
    "# Ciclos (loops)"
   ]
  },
  {
   "cell_type": "markdown",
   "metadata": {},
   "source": [
    "## Los ciclos se utilizan para repetir instrucciones"
   ]
  },
  {
   "cell_type": "markdown",
   "metadata": {},
   "source": [
    "# *For*"
   ]
  },
  {
   "cell_type": "markdown",
   "metadata": {},
   "source": [
    "En este caso `rec` se está utilizando una variable temporal (en algunas ocasiones llamada \"dummy variable\")."
   ]
  },
  {
   "cell_type": "code",
   "execution_count": 35,
   "metadata": {},
   "outputs": [
    {
     "name": "stdout",
     "output_type": "stream",
     "text": [
      "H\n",
      "o\n",
      "l\n",
      "a\n",
      " \n",
      "m\n",
      "u\n",
      "n\n",
      "d\n",
      "o\n"
     ]
    }
   ],
   "source": [
    "for rec in hola:\n",
    "    print (rec)"
   ]
  },
  {
   "cell_type": "markdown",
   "metadata": {},
   "source": [
    "### observe y describa lo que realizó la celda anterior"
   ]
  },
  {
   "cell_type": "code",
   "execution_count": null,
   "metadata": {},
   "outputs": [],
   "source": []
  },
  {
   "cell_type": "markdown",
   "metadata": {},
   "source": [
    "# *While*"
   ]
  },
  {
   "cell_type": "markdown",
   "metadata": {},
   "source": [
    "### escriba los comandos para imprimir del número 0 al 10. Asigne "
   ]
  },
  {
   "cell_type": "code",
   "execution_count": 39,
   "metadata": {},
   "outputs": [
    {
     "name": "stdout",
     "output_type": "stream",
     "text": [
      "0\t1\t2\t3\t4\t5\t6\t7\t8\t9\t10\t"
     ]
    }
   ],
   "source": [
    "n=0\n",
    "while n <=10:\n",
    "    print(n, end=\"\\t\")\n",
    "    n+=1"
   ]
  },
  {
   "cell_type": "markdown",
   "metadata": {},
   "source": [
    "### Como modificaria los comandos para que el incremento fuera de 2 en 2?"
   ]
  },
  {
   "cell_type": "code",
   "execution_count": 40,
   "metadata": {},
   "outputs": [
    {
     "name": "stdout",
     "output_type": "stream",
     "text": [
      "0\t2\t4\t6\t8\t10\t"
     ]
    }
   ],
   "source": [
    "n=0\n",
    "while n <=10:\n",
    "    print(n, end=\"\\t\")\n",
    "    n+=2"
   ]
  },
  {
   "cell_type": "markdown",
   "metadata": {},
   "source": [
    "# Rangos"
   ]
  },
  {
   "cell_type": "code",
   "execution_count": 44,
   "metadata": {},
   "outputs": [
    {
     "name": "stdout",
     "output_type": "stream",
     "text": [
      "range(0, 10)\n"
     ]
    }
   ],
   "source": [
    "lista = range(0,10)\n",
    "print (lista)"
   ]
  },
  {
   "cell_type": "markdown",
   "metadata": {},
   "source": [
    "### Explique que está pasando"
   ]
  },
  {
   "cell_type": "code",
   "execution_count": null,
   "metadata": {},
   "outputs": [],
   "source": []
  },
  {
   "cell_type": "code",
   "execution_count": 45,
   "metadata": {},
   "outputs": [
    {
     "name": "stdout",
     "output_type": "stream",
     "text": [
      "0\n",
      "1\n",
      "2\n",
      "3\n",
      "4\n",
      "5\n",
      "6\n",
      "7\n",
      "8\n",
      "9\n"
     ]
    }
   ],
   "source": [
    "for rec in lista:\n",
    "    print(rec)"
   ]
  },
  {
   "cell_type": "code",
   "execution_count": 46,
   "metadata": {},
   "outputs": [],
   "source": [
    "?range"
   ]
  },
  {
   "cell_type": "markdown",
   "metadata": {},
   "source": [
    "### Como asignaría a la variable lista el rango de 0 a 100 de 10 en 10"
   ]
  },
  {
   "cell_type": "markdown",
   "metadata": {},
   "source": [
    "`lista = range(0,100,10)\n",
    "for rec in lista:\n",
    "    print (rec, end=\"\\t\")`"
   ]
  },
  {
   "cell_type": "code",
   "execution_count": null,
   "metadata": {},
   "outputs": [],
   "source": []
  },
  {
   "cell_type": "markdown",
   "metadata": {},
   "source": [
    "# pandas \n",
    "# Python Data Analysis Library"
   ]
  },
  {
   "cell_type": "code",
   "execution_count": 1,
   "metadata": {},
   "outputs": [],
   "source": [
    "# se importan partes específicas de la biblioteca\n",
    "from pandas import Series, DataFrame"
   ]
  },
  {
   "cell_type": "code",
   "execution_count": 2,
   "metadata": {},
   "outputs": [],
   "source": [
    "# se importa pandas como pd, simplemente para no escribir `pandas` todo el tiempo que se requeira\n",
    "import pandas as pd"
   ]
  },
  {
   "cell_type": "markdown",
   "metadata": {},
   "source": [
    "# listas"
   ]
  },
  {
   "cell_type": "code",
   "execution_count": 22,
   "metadata": {},
   "outputs": [],
   "source": [
    "listado = [\"secuencia\", \"nucleotido\", \"datos\", \"parametros\"]"
   ]
  },
  {
   "cell_type": "code",
   "execution_count": 23,
   "metadata": {},
   "outputs": [
    {
     "name": "stdout",
     "output_type": "stream",
     "text": [
      "secuencia\n",
      "nucleotido\n",
      "datos\n",
      "parametros\n"
     ]
    }
   ],
   "source": [
    "for rec in listado:\n",
    "    print (rec)"
   ]
  },
  {
   "cell_type": "code",
   "execution_count": 24,
   "metadata": {},
   "outputs": [
    {
     "data": {
      "text/plain": [
       "'datos'"
      ]
     },
     "execution_count": 24,
     "metadata": {},
     "output_type": "execute_result"
    }
   ],
   "source": [
    "listado[2]"
   ]
  },
  {
   "cell_type": "markdown",
   "metadata": {},
   "source": [
    "# tuplas"
   ]
  },
  {
   "cell_type": "code",
   "execution_count": 25,
   "metadata": {},
   "outputs": [],
   "source": [
    "tupla = (\"secuencia\", \"nucleotido\", \"datos\", \"parametros\")"
   ]
  },
  {
   "cell_type": "code",
   "execution_count": 26,
   "metadata": {},
   "outputs": [
    {
     "name": "stdout",
     "output_type": "stream",
     "text": [
      "secuencia\n",
      "nucleotido\n",
      "datos\n",
      "parametros\n"
     ]
    }
   ],
   "source": [
    "for rec in tupla:\n",
    "    print (rec)"
   ]
  },
  {
   "cell_type": "code",
   "execution_count": 28,
   "metadata": {},
   "outputs": [
    {
     "data": {
      "text/plain": [
       "'datos'"
      ]
     },
     "execution_count": 28,
     "metadata": {},
     "output_type": "execute_result"
    }
   ],
   "source": [
    "tupla[2]"
   ]
  },
  {
   "cell_type": "markdown",
   "metadata": {},
   "source": [
    "### La diferencia puede decirse que las listas son dinámicas, mientras que las tuplas son estáticas.\n",
    "https://recursospython.com/guias-y-manuales/listas-y-tuplas/"
   ]
  },
  {
   "cell_type": "code",
   "execution_count": 29,
   "metadata": {},
   "outputs": [
    {
     "data": {
      "text/plain": [
       "['secuencia', 'nucleotido', 'datos', 'parametros', 'secuenciacion masiva']"
      ]
     },
     "execution_count": 29,
     "metadata": {},
     "output_type": "execute_result"
    }
   ],
   "source": [
    "listado.append(\"secuenciacion masiva\")\n",
    "listado"
   ]
  },
  {
   "cell_type": "code",
   "execution_count": 30,
   "metadata": {},
   "outputs": [
    {
     "ename": "AttributeError",
     "evalue": "'tuple' object has no attribute 'append'",
     "output_type": "error",
     "traceback": [
      "\u001b[0;31m---------------------------------------------------------------------------\u001b[0m",
      "\u001b[0;31mAttributeError\u001b[0m                            Traceback (most recent call last)",
      "\u001b[0;32m<ipython-input-30-15591c87118b>\u001b[0m in \u001b[0;36m<module>\u001b[0;34m()\u001b[0m\n\u001b[0;32m----> 1\u001b[0;31m \u001b[0mtupla\u001b[0m\u001b[0;34m.\u001b[0m\u001b[0mappend\u001b[0m\u001b[0;34m(\u001b[0m\u001b[0;34m\"secuenciacion masiva\"\u001b[0m\u001b[0;34m)\u001b[0m\u001b[0;34m\u001b[0m\u001b[0m\n\u001b[0m",
      "\u001b[0;31mAttributeError\u001b[0m: 'tuple' object has no attribute 'append'"
     ]
    }
   ],
   "source": [
    "tupla.append(\"secuenciacion masiva\")"
   ]
  },
  {
   "cell_type": "code",
   "execution_count": null,
   "metadata": {},
   "outputs": [],
   "source": []
  }
 ],
 "metadata": {
  "kernelspec": {
   "display_name": "Python 3",
   "language": "python",
   "name": "python3"
  },
  "language_info": {
   "codemirror_mode": {
    "name": "ipython",
    "version": 3
   },
   "file_extension": ".py",
   "mimetype": "text/x-python",
   "name": "python",
   "nbconvert_exporter": "python",
   "pygments_lexer": "ipython3",
   "version": "3.6.5"
  }
 },
 "nbformat": 4,
 "nbformat_minor": 2
}
