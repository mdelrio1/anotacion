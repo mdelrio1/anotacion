{
 "cells": [
  {
   "cell_type": "markdown",
   "metadata": {},
   "source": [
    "## IV. Jupyter\n",
    "1. Creación de bitácoras electrónicas\n",
    "2. Markdown\n",
    "3. Ejecución de comandos en línea\n",
    "     1. Linux\n",
    "     2. Python\n",
    "     3. R"
   ]
  },
  {
   "cell_type": "markdown",
   "metadata": {},
   "source": [
    "# [Bitácoras electrónicas o cuadernos electrónicos](https://jupyter-notebook.readthedocs.io/en/stable/notebook.html).\n",
    "<p align=\"center\"><img src=\"https://jupyter.org/assets/jupyterpreview.png\" width=\"50%\"></p>  \n",
    "\n",
    "Extienden la aproximación básica de la consola (terminal) a un cómputo interactivo en una nueva dirección cualitativamente hablando. Proveen una aplicación basada en un navegador de la web que permite capturar todo el proceso de cómputo: desarrollo, documentación y código de ejecución, así como una comunicación con los resultados.\n",
    "\n",
    "Jupyter combina dos componentes:\n",
    "* Una aplicación web: una herramienta basada en los navegadores para una guía interactiva de documentos que combina texto explicativo, matemáticas, computación y un medio de salida rico en formato.  \n",
    "* Los documentos tipo bitácoras (o cuaderno de trabajo): una representación de todo el contenido visible en una aplicación web, incluyendo entradas y salidas de computación, texto explicativo, matemáticas, imágenes, y representaciones en medio (texto) rico de objetos."
   ]
  },
  {
   "cell_type": "markdown",
   "metadata": {},
   "source": [
    "Los documentos tipo bitácoras electrónicas contienen entradas y salidas de una sesión interactiva, así como texto adicional que acompaña el código, pero que no es para ejecutarlo. De esta manera los archivos de las bitácoras pueden servir como un registro computacional completo de una sesión, intercalando codigo a ejecutar con texto explicativo, matemáticas y representaciones en texto rico (rich text format) de los resultados obtenidos. Estos documentos son de manera interna archivos [JSON](https://json.org) (JavaScript Object Notation), esto es archivos con notación objeto en JavaScript que tienen un formato de intercambio de datos ligero. Estos archivos se guardan con la terminación [.ipynb](https://ipython.org/ipython-doc/1/interactive/notebook.html). Debido a que los archivo en JSON están escritos en formato de texto, se puede controlar la versión y compartir con los colegas."
   ]
  },
  {
   "cell_type": "markdown",
   "metadata": {},
   "source": [
    "Las [bitácoras](https://jupyter-notebook.readthedocs.io/en/stable/examples/Notebook/What%20is%20the%20Jupyter%20Notebook.html#Kernels) es un ambiente de cómputo interactivo que perminte al usuario producir cuadernos de trabajo que incluyan: Código en vivo, \"artilugios\" interactivos, gráficas, texto narrativo, ecuaciones, imágenes y video.\n",
    "Estos documentos proveen un registro completo y autocontenido de un proceso computacional que puede ser convertido en diferentes formatos y compartido con otros usuarios utilizando email, dropbox, entre otros.\n"
   ]
  },
  {
   "cell_type": "markdown",
   "metadata": {},
   "source": [
    "### Componentes \n",
    "Las bitácoras del Jupyter tienen tres componentes:\n",
    "* Cuaderno de trabajo tipo página web: es una aplicación interactiva (web) para escribir y ejecutar código de manera interactiva produciendo documentos completos.\n",
    "* Núcleo (kernel): intérprete de procesos separado por la aplicación web del cuaderno de trabajo que ejecuta el código del usuario en un lenguaje dado y devuelve la salida del código en el cuaderno de trabajo. El núcleo también maneja los procesos computacionales interactivos, como completar comandos al presionar `*tab*` y revisión de sintaxis.\n",
    "* Documentos tipo registo: Documentos completosque contienen una representación de todo el contenido visible de la aplicación web, incluyendo entradas y salidas de los cálculos computacionales, texto narrativo, ecuaciones, imágenes, representaciones de medio enriquecido de objetos. Cada bitácora tiene su propio núcleo."
   ]
  },
  {
   "cell_type": "markdown",
   "metadata": {},
   "source": [
    "### Aplicación web de la bitácora  \n",
    "El cuaderno de trabajo tipo web (aplicación web) permite al usuario:\n",
    "* Editar el código en el navegador, con una escritura sobresaltada (delineada) de sintaxis automática, identación y compleción/revisión por el tabulador (*tab*).  \n",
    "* Ejecución del código en el navegador, con los resultados del cómputo anexo al código que lo generó.\n",
    "* Observar los resultados computacionales con representación enriquecida, tales como HTML, LaTeX, PNG, SVG, PDF, etc.\n",
    "* Crear y usar \"artilugios\" de JavaScript de manera interactiva, los cuales permiten el control de la interfase del usuario de manera interactiva y las visualizaciones de los procesos computacionales.\n",
    "* Texto narrativo del autor utilizando el lenguaje Markdown\n",
    "* Permite el uso de ecuaciones matemáticas utilizando la sintaxis de LaTex en Markdown, las cuales son reproducidas en el navegador mediante [MathJax](https://www.mathjax.org) (lenguaje JavaScript para escribir ecuaciones matemáticas en un navegador)"
   ]
  },
  {
   "cell_type": "markdown",
   "metadata": {},
   "source": [
    "### Núcleos (*Kernels*)\n",
    "Las bitácoras de Jupyter pueden ejecutar diferentes lenguajes de programación. Pero, para cada bitácora se define un núcleo, el cual permite la ejecución de un solo lenguaje de programación. Existen diferentes núcleos en Jupyter que ejecutan los siguientes lenguajes de programación:\n",
    "- Python(https://github.com/ipython/ipython)\n",
    "- Julia (https://github.com/JuliaLang/IJulia.jl)\n",
    "- R (https://github.com/IRkernel/IRkernel)\n",
    "- Ruby (https://github.com/minrk/iruby)\n",
    "- Haskell (https://github.com/gibiansky/IHaskell)\n",
    "- Scala (https://github.com/Bridgewater/scala-notebook)\n",
    "- node.js (https://gist.github.com/Carreau/4279371)\n",
    "- Go (https://github.com/takluyver/igo)\n",
    "\n",
    "Cada uno de estos núcleos deben ser instalados de manera independiente. Una vez instalados al inciar un documento nuevo, el Jupyter dará la opción de inciar con un núcleo específico.  \n",
    "El núcleo por omisión usa código Python. La bitácora, también, permite cambiar el núcleo después de haber abierto el documento.  \n",
    "Cada uno de estos núcleos se comunican con la aplicación web y se utiliza el protocolo JSON sobre ZeroMQ/WebSockets. La mayoría de los usuarios no requieren conocer los detalles, pero sirve para entender que el \"núcleo ejecuta el código\".\n"
   ]
  },
  {
   "cell_type": "markdown",
   "metadata": {},
   "source": [
    "\n",
    "Notebook documents contain the inputs and outputs of an interactive session as well as narrative text that accompanies the code but is not meant for execution. Rich output generated by running code, including HTML, images, video, and plots, is embeddeed in the notebook, which makes it a complete and self-contained record of a computation.\n",
    "\n",
    "When you run the notebook web application on your computer, notebook documents are just files on your local filesystem with a ``.ipynb`` extension. This allows you to use familiar workflows for organizing your notebooks into folders and sharing them with others.\n",
    "\n",
    "Notebooks consist of a linear sequence of cells. There are four basic cell types:\n",
    "\n",
    "Code cells: Input and output of live code that is run in the kernel\n",
    "Markdown cells: Narrative text with embedded LaTeX equations\n",
    "Heading cells: 6 levels of hierarchical organization and formatting\n",
    "Raw cells: Unformatted text that is included, without modification, when notebooks are converted to different formats using nbconvert"
   ]
  },
  {
   "cell_type": "code",
   "execution_count": null,
   "metadata": {},
   "outputs": [],
   "source": []
  },
  {
   "cell_type": "markdown",
   "metadata": {},
   "source": []
  }
 ],
 "metadata": {
  "kernelspec": {
   "display_name": "Python 3",
   "language": "python",
   "name": "python3"
  },
  "language_info": {
   "codemirror_mode": {
    "name": "ipython",
    "version": 3
   },
   "file_extension": ".py",
   "mimetype": "text/x-python",
   "name": "python",
   "nbconvert_exporter": "python",
   "pygments_lexer": "ipython3",
   "version": "3.6.5"
  }
 },
 "nbformat": 4,
 "nbformat_minor": 2
}
