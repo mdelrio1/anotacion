{
 "cells": [
  {
   "cell_type": "markdown",
   "metadata": {},
   "source": [
    "## III. Lenguajes para el análisis de secuencias\n",
    "1. Linux\n",
    "2. Python \n",
    "3. R\n",
    "4. Instalación de programas"
   ]
  },
  {
   "cell_type": "markdown",
   "metadata": {},
   "source": [
    "# 1. Linux\n",
    "\n",
    "## Unix\n",
    "El sistema operativo Unix tiene sus inicios en 1969 en los laboratorio Bell de AT&T. Ken Thompson lo desarrolló y posteriormente, colaboró con Dennis Ritchie, creador del lenguaje C, para hacerlo un sistema operativo transportable. Con el paso del tiempo se hizo un sistema independiente y de [libre acceso](http://histinf.blogs.upv.es/2011/12/23/historia-de-linux/)\n",
    "Es ampliamente utilizado en los servidores y supercomputadoras, independientemente que cada fabricante de computadoras tiene su propio sistema operativo. \n",
    "\n",
    "\n",
    "## Software libre\n",
    "\n",
    "La implementación de programas o software libre o sin costo tiene una historia larga. \n",
    "\n",
    "El movimiento de sorftware libre surgió como un medio para no someterse al poder de los desarrolladores del software. Es un movimiento que busca la libertad del usuario de cómputo y cuenta con su página en The Free Software Foundation [(FSF)](https://www.fsf.org). Esta fundación se dedica a que [no haya restricciones sobre la copia, redistribución, entendimiento, y modificación de programas de computadoras](https://es.wikipedia.org/wiki/Portal:Software_libre). \n",
    "\n",
    "Asimismo está el licenciamiento de los programas para que el usuario sea capaz de modificarlo a sus necesidades. Esta licencia se encuentra en términos generales por [Creative Commons](https://creativecommons.org/licenses/by-sa/4.0/) \n",
    "\n",
    "Esto requiere un sistema operativo y un núcleo o core para su funcionamiento.\n",
    "\n",
    "## [Gnu](http://www.gnu.org) (ñu) \n",
    "<p align=\"center\"><img src=\"http://www.gnu.org/graphics/heckert_gnu.transp.small.png\" width=10%></p>\n",
    "\n",
    "Es un sistema operativo que no tiene costo y permite que el usuario tenga el control de lo que se instala en su computadora. \n",
    "## [Linux](https://www.linux.org)\n",
    "<p align=\"center\"><img src=\"http://histinf.blogs.upv.es/files/2011/12/21.png\" width = 10%></p>\n",
    "\n",
    "Es el núcleo o kernel general que utiliza sintaxis similar a Unix en las computadoras personales y como un movimiento en contra del monopolio de Windows.\n",
    "<p align=\"center\"><img src=\"http://histinf.blogs.upv.es/files/2011/12/23.png\" width = 10%></p>\n",
    "\n",
    "\n",
    "## [Gnu/Linux](http://www.gnu.org/distros/free-distros.html)\n",
    "<p align=\"center\"><img src=\"http://www.gnu.org/graphics/gnu-and-penguin-color-300x276.jpg\" width = 30%></p>\n",
    "Es el sistema más utilizado para las computadoras personales de uso personal con software libre. En la mayoría de las ocasiones es conocido solo como **Linux**\n"
   ]
  },
  {
   "cell_type": "markdown",
   "metadata": {},
   "source": [
    "# 2. Python\n",
    "![](https://www.python.org/static/img/python-logo.png)\n",
    "[Es un leguaje de programación tipo intérprete, interactivo y orientado a objetos](https://docs.python.org/3/faq/general.html#what-is-python), que incorpora módulos, excepciones, escritura dinámica, tipos de datos dinámicos a un nivel elevado. Combina un gran pocer y una sintaxis clara. Tiene interfaces a muchos sistemas y muchas bibliotecas, así como a sistemas de ventanas. Se puede hacer extensible a códigos de C o C++. Así como un lenguaje de extensión para aplicaciones que requieren de una interfase programable. Se puede ejecutar en muchas variantes de Unix, en los iOS (Mac) y en Windows 2000 en adelante.\n",
    "Fue creado por Guido van Rossum y se rige por una [filosofía](http://www.thezenofpython.com).\n",
    "\n",
    "1. Lindo es mejor que feo.\n",
    "2. Explícito es mejor que implícito.\n",
    "3. Simple es mejor que complejo.\n",
    "4. Complejo es mejor que complicado.\n",
    "5. Plano es mejor que anidado.\n",
    "6. Espaciado es mejor que denso.\n",
    "7. La legibilidad es importante.\n",
    "8. Los casos especiales no son lo suficientemente especiales como para romper las reglas.\n",
    "9. Sin embargo la practicidad le gana a la pureza.\n",
    "10. Los errores nunca deberían pasar silenciosamente.\n",
    "11. A menos que se silencien explícitamente.\n",
    "12. Frente a la ambigüedad, evitá la tentación de adivinar.\n",
    "13. Debería haber una, y solamente una, manera obvia de hacerlo.\n",
    "14. A pesar de que no sea obvio a menos que seas Holandés (como GvR)\n",
    "15. Ahora es mejor que nunca.\n",
    "16. A pesar de que nunca es muchas veces mejor que justo ahora.\n",
    "17. Si la implementación es dificil de explicar, es una mala idea.\n",
    "18. Si la implementación es fácil de explicar, quizás sea una buena idea.\n",
    "19. Los espacios de nombres son una gran idea, ¡tengamos más de esas!\n",
    "\n",
    "(https://es.wikipedia.org/wiki/Zen_de_Python)"
   ]
  },
  {
   "cell_type": "code",
   "execution_count": 1,
   "metadata": {},
   "outputs": [
    {
     "name": "stdout",
     "output_type": "stream",
     "text": [
      "The Zen of Python, by Tim Peters\n",
      "\n",
      "Beautiful is better than ugly.\n",
      "Explicit is better than implicit.\n",
      "Simple is better than complex.\n",
      "Complex is better than complicated.\n",
      "Flat is better than nested.\n",
      "Sparse is better than dense.\n",
      "Readability counts.\n",
      "Special cases aren't special enough to break the rules.\n",
      "Although practicality beats purity.\n",
      "Errors should never pass silently.\n",
      "Unless explicitly silenced.\n",
      "In the face of ambiguity, refuse the temptation to guess.\n",
      "There should be one-- and preferably only one --obvious way to do it.\n",
      "Although that way may not be obvious at first unless you're Dutch.\n",
      "Now is better than never.\n",
      "Although never is often better than *right* now.\n",
      "If the implementation is hard to explain, it's a bad idea.\n",
      "If the implementation is easy to explain, it may be a good idea.\n",
      "Namespaces are one honking great idea -- let's do more of those!\n"
     ]
    }
   ],
   "source": [
    "# Easter Egg\n",
    "# esta filosofía se puede invocar desde python con el siguiente comando\n",
    "import this"
   ]
  },
  {
   "cell_type": "markdown",
   "metadata": {},
   "source": [
    "(https://github.com/python/peps/blob/master/pep-0020.txt)"
   ]
  },
  {
   "cell_type": "markdown",
   "metadata": {},
   "source": [
    "Se considera que python es un lenguaje de propósito general. Se le usa desde la elaboración de códigos muy sencillos hasta en servidores que ofrecen servicios 24/7. Asimismo, debido a que es relativamente sencillo de aprender, es ampliamente aceptado por científicos y por niños que empiezan a programar.\n",
    "Su historia se remota a fines de los 80s y principios de los [90s](https://es.wikipedia.org/wiki/Historia_de_Python)."
   ]
  },
  {
   "cell_type": "markdown",
   "metadata": {},
   "source": [
    "### Derivaciones de *Python*"
   ]
  },
  {
   "cell_type": "markdown",
   "metadata": {},
   "source": [
    "Muchos personas han desarrollado diferetes formas de hacer más fácil el uso de python. Por ejemplo: \n",
    "### [IPython](https://es.wikipedia.org/wiki/IPython) \n",
    "<p align=\"center\"><img src=\"https://ipython.org/_static/IPy_header.png\" width=20%></p>\n",
    "\n",
    "es una terminal(shell) que permite una actividad interactiva que agrega ciertas  funcionalidades al modo interactivo incluido con Python. Estas funcionalidades son, entre otras: resaltado de líneas y errores mediante colores, una sintaxis adicional para la terminal, autocompletado mediante tabulador de variables, módulos y atributos; entre otras funcionalidades. Es un componente del paquete SciPy, el cual ha sido desarrollado para apoyo a aspectos científicos.\n",
    "### [Jupyter](https://jupyter.org/about)\n",
    "<p align=\"center\"><img src=\"https://jupyter.org/assets/nav_logo.svg\" width=20%></p>\n",
    "\n",
    "El proyecto Jupyter es derivado del Ipython y es una proyecto libre de lucro y de código abierto. Está considerado como de soporte para el cómputo científico interactivo para todos los lenguajes de programación. Se dice que Jupyter siempre será un software 100% de código abierto. Se implementó a partir del lenguaje [Julia](https://julialang.org) para navegar en la red, [Python](https://www.python.org) y [R](https://cran.r-project.org).\n",
    "\n",
    "### [Bitácora electrónica Jypyter](https://jupyter-notebook.readthedocs.io/en/stable/)\n",
    "<p align=\"center\"><img src=\"https://jupyter.org/assets/jupyterpreview.png\" width=\"30%\"></p>\n",
    "es una aplicación que se ejecuta en el navegador de la red (web) y que permite hacer un seguimiento de los comandos utilizados. El lenguaje por omisión suele ser Python 3, por lo que en este curso es el lenguaje por omisión. Inicialmente se utilizaban núcleos (kernels) de Python y R, pero en la actualidad existe ya núcleos para otros lenguajes\n",
    "\n",
    "### [Anaconda](https://www.anaconda.com)\n",
    "<p align=\"center\"><img src=\"https://www.anaconda.com/wp-content/themes/anaconda/images/logo-dark.png\" width=25%></p>\n",
    "Es una plataforma de distribución de Python y R. Dentro de Anaconda está Anaconda Cloud \n",
    "<p align=\"center\"><img src=\"https://binstar-static-prod.s3.amazonaws.com/latest/img/AnacondaCloud_logo_green.png\" width=30%></p>\n",
    "que es una plataforma para que los científicos compartan su trabajo y datos. En esta plataforma se comparten programas en diferentes lenguajes que pueden ser \"invocados\" dentro de Jupyter.\n",
    "\n",
    "### [Biopython](https://biopython.org)\n",
    "<p align=\"center\"><img src=\"https://biopython.org/assets/images/biopython_logo_white.png\" width=\"25%\"></p>\n",
    "Es un juego de herramientas gratuitas para realizar el cómputo con datos biológicos, está escrito en Python por un grupo internacional de desarrolladores.\n"
   ]
  },
  {
   "cell_type": "markdown",
   "metadata": {},
   "source": [
    "# 3. R\n",
    "<p align=\"center\"><img src=\"https://cran.r-project.org/Rlogo.svg\" width = 10%></p>\n",
    "Es un lenguaje de programación enfocado principalmente a cómputo estadístico y gráfico que es soportado por la [*R Foundation for Statistical Computing*](https://cran.r-project.org/doc/FAQ/R-FAQ.html#What-is-R_003f). Se ha desarrollado para ejecutarse en sistemas compatibles con Unix, Windows y Mac(iOS).\n",
    "Es un paquete que se rige por las características de programas de código abierto (Gnu).\n",
    "\n",
    "Una de sus características primordiales es su ejecución en línea de comandos. Sin embargo existen ambientes desarrollo integrales (integrated development environment, o IDE)) como [RStudio](https://github.com/rstudio/rstudio) \n",
    "<p align=\"center\"><img src=\"https://avatars0.githubusercontent.com/u/513560?s=200&v=4\" width = 5%></p>\n",
    "que permite una interface gráfica con todas las herramientas para trabajar con R en un solo lugar (consola, fuentes, gráficas, área de trabajo, ayuda e historial). Además permite observar la edición de los comandos sobresaltada, ejecutar directamente desde el editor, entre otras características."
   ]
  },
  {
   "cell_type": "markdown",
   "metadata": {},
   "source": [
    "### Por qué usar R?\n",
    "()\n",
    "+ La mayoría de los paquetes estadísticos"
   ]
  },
  {
   "cell_type": "markdown",
   "metadata": {},
   "source": [
    "### Derivaciones de *R*"
   ]
  },
  {
   "cell_type": "markdown",
   "metadata": {},
   "source": [
    "### [Bioconductor](http://www.bioconductor.org)\n",
    "<p align=\"center\"><img src=\"http://www.bioconductor.org/images/logo_bioconductor.gif\" width=\"25%\"></p>\n",
    "Es un proyecto de programación de gratuito y de código y fuentes abiertos, para el análisis de datos genómicos. Se basa principalmente en lenguaje R y, muy poco, en otros lenguajes de programación.\n"
   ]
  },
  {
   "cell_type": "markdown",
   "metadata": {},
   "source": [
    "# 4. Instalación de programas"
   ]
  },
  {
   "cell_type": "markdown",
   "metadata": {},
   "source": [
    "Cada uno de los programas arriba indicados se puede instalar de manera independiente en las computadoras personales.\n",
    "1. [Linux](https://www.linux.org/pages/download/)\n",
    "2. [Python](https://www.python.org/downloads/)\n",
    "\n",
    " 2.1 [Anaconda](https://www.anaconda.com)\n",
    " \n",
    " 2.2 [Biopython](https://biopython.org)\n",
    "3. [R](https://cran.r-project.org)\n",
    "\n",
    " 3.1 [RStudio](https://www.rstudio.com/products/rstudio/download/)\n",
    "La mayoría de estos lugares ofrecen tutoriales o instrucciones básicas para la instalación de los diferentes programas.\n"
   ]
  },
  {
   "cell_type": "markdown",
   "metadata": {},
   "source": [
    "### Sin embargo, se recomienda instalar [Anaconda](https://www.anaconda.com), ya que con esta plataforma se podrán instalar Python, Biopython, R, RStudio y otros programas que se utilizarán a lo largo del curso"
   ]
  },
  {
   "cell_type": "code",
   "execution_count": null,
   "metadata": {},
   "outputs": [],
   "source": []
  }
 ],
 "metadata": {
  "kernelspec": {
   "display_name": "Python 3",
   "language": "python",
   "name": "python3"
  },
  "language_info": {
   "codemirror_mode": {
    "name": "ipython",
    "version": 3
   },
   "file_extension": ".py",
   "mimetype": "text/x-python",
   "name": "python",
   "nbconvert_exporter": "python",
   "pygments_lexer": "ipython3",
   "version": "3.6.5"
  }
 },
 "nbformat": 4,
 "nbformat_minor": 2
}
