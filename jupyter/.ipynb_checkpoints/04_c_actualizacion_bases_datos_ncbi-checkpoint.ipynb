{
 "cells": [
  {
   "cell_type": "markdown",
   "metadata": {},
   "source": [
    "# Actualización de las bases de datos del NCBI"
   ]
  },
  {
   "cell_type": "markdown",
   "metadata": {},
   "source": [
    "### Se requiere tener instalado el blast\n",
    "https://blast.ncbi.nlm.nih.gov/Blast.cgi?CMD=Web&PAGE_TYPE=BlastDocs&DOC_TYPE=Download\n",
    "ejecutar en el cmd\n",
    "blastn -version\n",
    "\n",
    "### se requiere tener instalado el lenguaje perl\n",
    "https://www.perl.org\n",
    "ejecutar en el cmd\n",
    "perl -version \n",
    "\n"
   ]
  },
  {
   "cell_type": "markdown",
   "metadata": {},
   "source": [
    "### se actualiza la base de datos utilizando un comando de perl"
   ]
  },
  {
   "cell_type": "code",
   "execution_count": 1,
   "metadata": {},
   "outputs": [],
   "source": [
    "import os"
   ]
  },
  {
   "cell_type": "code",
   "execution_count": 2,
   "metadata": {},
   "outputs": [
    {
     "name": "stdout",
     "output_type": "stream",
     "text": [
      "/home/user1/Desktop/bigdata\n"
     ]
    }
   ],
   "source": [
    "cd ~/Desktop/bigdata/"
   ]
  },
  {
   "cell_type": "markdown",
   "metadata": {},
   "source": [
    "## verificar que está el archivo\n",
    "`update_blastdb.pl`\n"
   ]
  },
  {
   "cell_type": "markdown",
   "metadata": {},
   "source": [
    "### En el servidor está en \n",
    "### `/home/jupyter/miniconda3/bin`\n",
    "#### para buscar un archivo se usa\n",
    "`which update_blastdb.pl`\n",
    "`whereis update_blastdb.pl`"
   ]
  },
  {
   "cell_type": "code",
   "execution_count": 9,
   "metadata": {
    "scrolled": false
   },
   "outputs": [
    {
     "name": "stdout",
     "output_type": "stream",
     "text": [
      "update_blastdb.pl\r\n"
     ]
    }
   ],
   "source": [
    "ls /home/user1/aplicaciones/"
   ]
  },
  {
   "cell_type": "code",
   "execution_count": 10,
   "metadata": {},
   "outputs": [],
   "source": [
    "os.makedirs('16SMicrobial',exist_ok=True)"
   ]
  },
  {
   "cell_type": "code",
   "execution_count": 11,
   "metadata": {},
   "outputs": [
    {
     "name": "stdout",
     "output_type": "stream",
     "text": [
      "/home/user1/Desktop/bigdata/16SMicrobial\n"
     ]
    }
   ],
   "source": [
    "cd ~/Desktop/bigdata/16SMicrobial"
   ]
  },
  {
   "cell_type": "code",
   "execution_count": 12,
   "metadata": {},
   "outputs": [
    {
     "name": "stdout",
     "output_type": "stream",
     "text": [
      "Connected to NCBI\n",
      "Downloading 16SMicrobial.tar.gz... [OK]\n"
     ]
    }
   ],
   "source": [
    "!perl ~/aplicaciones/update_blastdb.pl --passive 16SMicrobial"
   ]
  },
  {
   "cell_type": "code",
   "execution_count": 13,
   "metadata": {},
   "outputs": [
    {
     "name": "stdout",
     "output_type": "stream",
     "text": [
      "total 299M\r\n",
      "drwxrwxr-x 2 user1 user1    6 Jul 30 19:59 \u001b[0m\u001b[01;34m16SMicrobial\u001b[0m/\r\n",
      "-rw-rw-r-- 1 user1 user1 3.1M Jul 22 04:05 16SMicrobial.nhr\r\n",
      "-rw-rw-r-- 1 user1 user1 236K Jul 22 04:05 16SMicrobial.nin\r\n",
      "-rw-rw-r-- 1 user1 user1 160K Jul 22 04:05 16SMicrobial.nnd\r\n",
      "-rw-rw-r-- 1 user1 user1  684 Jul 22 04:05 16SMicrobial.nni\r\n",
      "-rw-rw-r-- 1 user1 user1  79K Jul 22 04:05 16SMicrobial.nog\r\n",
      "-rw-rw-r-- 1 user1 user1 655K Jul 22 04:05 16SMicrobial.nsd\r\n",
      "-rw-rw-r-- 1 user1 user1  15K Jul 22 04:05 16SMicrobial.nsi\r\n",
      "-rw-rw-r-- 1 user1 user1 7.1M Jul 22 04:05 16SMicrobial.nsq\r\n",
      "-rw-rw-r-- 1 user1 user1 135M Jul 26 19:35 16SMicrobial.tar\r\n",
      "-rw-rw-r-- 1 user1 user1  29M Jul 30 19:59 16SMicrobial.tar.gz\r\n",
      "-rw-rw-r-- 1 user1 user1   54 Jul 30 19:59 16SMicrobial.tar.gz.md5\r\n",
      "-rw-rw-r-- 1 user1 user1 112M Jul 22 04:05 taxdb.btd\r\n",
      "-rw-rw-r-- 1 user1 user1  12M Jul 22 04:05 taxdb.bti\r\n"
     ]
    }
   ],
   "source": [
    "ls -lh"
   ]
  },
  {
   "cell_type": "code",
   "execution_count": 16,
   "metadata": {},
   "outputs": [
    {
     "name": "stdout",
     "output_type": "stream",
     "text": [
      "16SMicrobial.nhr\n",
      "16SMicrobial.nin\n",
      "16SMicrobial.nnd\n",
      "16SMicrobial.nni\n",
      "16SMicrobial.nog\n",
      "16SMicrobial.nsd\n",
      "16SMicrobial.nsi\n",
      "16SMicrobial.nsq\n",
      "taxdb.btd\n",
      "taxdb.bti\n"
     ]
    }
   ],
   "source": [
    "%%bash\n",
    "gunzip 16SMicrobial.tar.gz\n",
    "tar xvf  16SMicrobial.tar"
   ]
  },
  {
   "cell_type": "code",
   "execution_count": 15,
   "metadata": {},
   "outputs": [
    {
     "name": "stdout",
     "output_type": "stream",
     "text": [
      "total 299M\r\n",
      "-rw-rw-r-- 1 user1 user1 3.1M Jul 22 04:05 16SMicrobial.nhr\r\n",
      "-rw-rw-r-- 1 user1 user1 236K Jul 22 04:05 16SMicrobial.nin\r\n",
      "-rw-rw-r-- 1 user1 user1 160K Jul 22 04:05 16SMicrobial.nnd\r\n",
      "-rw-rw-r-- 1 user1 user1  684 Jul 22 04:05 16SMicrobial.nni\r\n",
      "-rw-rw-r-- 1 user1 user1  79K Jul 22 04:05 16SMicrobial.nog\r\n",
      "-rw-rw-r-- 1 user1 user1 655K Jul 22 04:05 16SMicrobial.nsd\r\n",
      "-rw-rw-r-- 1 user1 user1  15K Jul 22 04:05 16SMicrobial.nsi\r\n",
      "-rw-rw-r-- 1 user1 user1 7.1M Jul 22 04:05 16SMicrobial.nsq\r\n",
      "-rw-rw-r-- 1 user1 user1 135M Jul 26 19:35 16SMicrobial.tar\r\n",
      "-rw-rw-r-- 1 user1 user1  29M Jul 30 19:59 16SMicrobial.tar.gz\r\n",
      "-rw-rw-r-- 1 user1 user1   54 Jul 30 19:59 16SMicrobial.tar.gz.md5\r\n",
      "-rw-rw-r-- 1 user1 user1 112M Jul 22 04:05 taxdb.btd\r\n",
      "-rw-rw-r-- 1 user1 user1  12M Jul 22 04:05 taxdb.bti\r\n"
     ]
    }
   ],
   "source": [
    "ls -lh"
   ]
  },
  {
   "cell_type": "code",
   "execution_count": 18,
   "metadata": {},
   "outputs": [],
   "source": [
    "rm 16SMicrobial.tar.gz.md5"
   ]
  },
  {
   "cell_type": "code",
   "execution_count": 19,
   "metadata": {},
   "outputs": [
    {
     "name": "stdout",
     "output_type": "stream",
     "text": [
      "total 273M\r\n",
      "-rw-rw-r-- 1 user1 user1 3.1M Jul 29 04:05 16SMicrobial.nhr\r\n",
      "-rw-rw-r-- 1 user1 user1 236K Jul 29 04:05 16SMicrobial.nin\r\n",
      "-rw-rw-r-- 1 user1 user1 160K Jul 29 04:05 16SMicrobial.nnd\r\n",
      "-rw-rw-r-- 1 user1 user1  684 Jul 29 04:05 16SMicrobial.nni\r\n",
      "-rw-rw-r-- 1 user1 user1  79K Jul 29 04:05 16SMicrobial.nog\r\n",
      "-rw-rw-r-- 1 user1 user1 655K Jul 29 04:05 16SMicrobial.nsd\r\n",
      "-rw-rw-r-- 1 user1 user1  15K Jul 29 04:05 16SMicrobial.nsi\r\n",
      "-rw-rw-r-- 1 user1 user1 7.1M Jul 29 04:05 16SMicrobial.nsq\r\n",
      "-rw-rw-r-- 1 user1 user1 137M Jul 30 19:59 16SMicrobial.tar\r\n",
      "-rw-rw-r-- 1 user1 user1 113M Jul 29 04:06 taxdb.btd\r\n",
      "-rw-rw-r-- 1 user1 user1  13M Jul 29 04:06 taxdb.bti\r\n"
     ]
    }
   ],
   "source": [
    "ls -lh"
   ]
  },
  {
   "cell_type": "code",
   "execution_count": 20,
   "metadata": {},
   "outputs": [
    {
     "name": "stdout",
     "output_type": "stream",
     "text": [
      "/home/user1/Desktop/bigdata\n"
     ]
    }
   ],
   "source": [
    "cd .."
   ]
  },
  {
   "cell_type": "markdown",
   "metadata": {},
   "source": [
    "### Cómo sería el comando para descargar la base de datos taxonómica (taxdb)"
   ]
  },
  {
   "cell_type": "code",
   "execution_count": 21,
   "metadata": {},
   "outputs": [
    {
     "name": "stdout",
     "output_type": "stream",
     "text": [
      "/home/user1/Desktop/bigdata\n"
     ]
    }
   ],
   "source": [
    "cd ~/Desktop/bigdata/"
   ]
  },
  {
   "cell_type": "code",
   "execution_count": null,
   "metadata": {},
   "outputs": [],
   "source": [
    "!perl ~/aplicaciones/update_blastdb.pl --passive taxdb"
   ]
  },
  {
   "cell_type": "code",
   "execution_count": null,
   "metadata": {},
   "outputs": [],
   "source": [
    "%%bash\n",
    "gunzip taxdb.tar.gz\n",
    "tar xvf  taxdb.tar"
   ]
  },
  {
   "cell_type": "code",
   "execution_count": 23,
   "metadata": {},
   "outputs": [
    {
     "name": "stdout",
     "output_type": "stream",
     "text": [
      "total 250M\r\n",
      "drwxrwxr-x 3 user1 user1  282 Jul 30 20:02 \u001b[0m\u001b[01;34m16SMicrobial\u001b[0m/\r\n",
      "drwxrwxr-x 2 user1 user1 4.0K Jul 26 21:27 \u001b[01;34mswissprot\u001b[0m/\r\n",
      "-rw-r--r-- 1 user1 user1 113M Jul 29 11:17 taxdb.btd\r\n",
      "-rw-r--r-- 1 user1 user1  13M Jul 29 11:17 taxdb.bti\r\n",
      "-rw-rw-r-- 1 user1 user1 125M Jul 30 20:04 taxdb.tar\r\n",
      "-rw-rw-r-- 1 user1 user1   47 Jul 30 20:04 taxdb.tar.gz.md5\r\n"
     ]
    }
   ],
   "source": [
    "ls -lh"
   ]
  },
  {
   "cell_type": "code",
   "execution_count": 25,
   "metadata": {},
   "outputs": [
    {
     "name": "stdout",
     "output_type": "stream",
     "text": [
      "/home/user1\n"
     ]
    }
   ],
   "source": [
    "cd "
   ]
  },
  {
   "cell_type": "markdown",
   "metadata": {},
   "source": [
    "### Cómo serían los comandos para descargar y descomprimir las proteinas de referencia (swissprot)?\n"
   ]
  },
  {
   "cell_type": "code",
   "execution_count": 24,
   "metadata": {},
   "outputs": [
    {
     "name": "stdout",
     "output_type": "stream",
     "text": [
      "/home/user1/Desktop/bigdata\n"
     ]
    }
   ],
   "source": [
    "cd ~/Desktop/bigdata/"
   ]
  },
  {
   "cell_type": "code",
   "execution_count": 25,
   "metadata": {},
   "outputs": [
    {
     "name": "stdout",
     "output_type": "stream",
     "text": [
      "\u001b[0m\u001b[01;34m16SMicrobial\u001b[0m/  \u001b[01;34mswissprot\u001b[0m/  taxdb.btd  taxdb.bti  taxdb.tar  taxdb.tar.gz.md5\r\n"
     ]
    }
   ],
   "source": [
    "ls"
   ]
  },
  {
   "cell_type": "code",
   "execution_count": null,
   "metadata": {},
   "outputs": [],
   "source": [
    "os.makedirs('swissprot',exist_ok=True)"
   ]
  },
  {
   "cell_type": "code",
   "execution_count": null,
   "metadata": {},
   "outputs": [],
   "source": [
    "%%bash\n",
    "cd ~/Desktop/bigdata/swissprot\n",
    "perl ~/aplicaciones/update_blastdb.pl --passive swissprot"
   ]
  },
  {
   "cell_type": "markdown",
   "metadata": {},
   "source": [
    "#### Si se descarga una actualización ejecutar la siguiente celda, no hacerlo si la base de datos está actualizada"
   ]
  },
  {
   "cell_type": "code",
   "execution_count": null,
   "metadata": {},
   "outputs": [],
   "source": [
    "%%bash\n",
    "cd ~/Desktop/bigdata/swissprot\n",
    "gunzip swissprot.tar.gz\n",
    "tar xvf  swissprot.tar"
   ]
  },
  {
   "cell_type": "code",
   "execution_count": 30,
   "metadata": {},
   "outputs": [
    {
     "name": "stdout",
     "output_type": "stream",
     "text": [
      "total 396M\r\n",
      "drwxrwxr-x 2 user1 user1  256 Jul 26 19:37 \u001b[0m\u001b[01;34m16SMicrobial\u001b[0m/\r\n",
      "-rw-rw-r-- 1 user1 user1 3.1M Jul 22 04:05 16SMicrobial.nhr\r\n",
      "-rw-rw-r-- 1 user1 user1 236K Jul 22 04:05 16SMicrobial.nin\r\n",
      "-rw-rw-r-- 1 user1 user1 160K Jul 22 04:05 16SMicrobial.nnd\r\n",
      "-rw-rw-r-- 1 user1 user1  684 Jul 22 04:05 16SMicrobial.nni\r\n",
      "-rw-rw-r-- 1 user1 user1  79K Jul 22 04:05 16SMicrobial.nog\r\n",
      "-rw-rw-r-- 1 user1 user1 655K Jul 22 04:05 16SMicrobial.nsd\r\n",
      "-rw-rw-r-- 1 user1 user1  15K Jul 22 04:05 16SMicrobial.nsi\r\n",
      "-rw-rw-r-- 1 user1 user1 7.1M Jul 22 04:05 16SMicrobial.nsq\r\n",
      "-rw-rw-r-- 1 user1 user1 135M Jul 26 21:23 16SMicrobial.tar\r\n",
      "drwxrwxr-x 2 user1 user1 4.0K Jul 26 21:27 \u001b[01;34mswissprot\u001b[0m/\r\n",
      "-rw-r--r-- 1 user1 user1 113M Jul 25 04:33 taxdb.btd\r\n",
      "-rw-r--r-- 1 user1 user1  13M Jul 25 04:33 taxdb.bti\r\n",
      "-rw-rw-r-- 1 user1 user1 125M Jul 26 21:27 taxdb.tar\r\n",
      "-rw-rw-r-- 1 user1 user1   47 Jul 26 21:27 taxdb.tar.gz.md5\r\n"
     ]
    }
   ],
   "source": [
    "ls -lh"
   ]
  },
  {
   "cell_type": "code",
   "execution_count": null,
   "metadata": {},
   "outputs": [],
   "source": []
  },
  {
   "cell_type": "code",
   "execution_count": null,
   "metadata": {},
   "outputs": [],
   "source": []
  }
 ],
 "metadata": {
  "kernelspec": {
   "display_name": "Python 3",
   "language": "python",
   "name": "python3"
  },
  "language_info": {
   "codemirror_mode": {
    "name": "ipython",
    "version": 3
   },
   "file_extension": ".py",
   "mimetype": "text/x-python",
   "name": "python",
   "nbconvert_exporter": "python",
   "pygments_lexer": "ipython3",
   "version": "3.6.5"
  }
 },
 "nbformat": 4,
 "nbformat_minor": 2
}
