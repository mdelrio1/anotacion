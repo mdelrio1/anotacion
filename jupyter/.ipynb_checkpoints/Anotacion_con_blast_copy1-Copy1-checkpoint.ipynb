{
 "cells": [
  {
   "cell_type": "code",
   "execution_count": 1,
   "metadata": {
    "collapsed": true
   },
   "outputs": [],
   "source": [
    "## Importamos modulos requeridos\n",
    "from urllib.request import urlopen\n",
    "from bs4 import BeautifulSoup\n",
    "import requests\n",
    "from tqdm import tqdm\n",
    "tqdm.monitor_interval = 0\n",
    "import shutil, os\n",
    "from pandas import Series, DataFrame \n",
    "import pandas as pd\n",
    "import pathlib\n",
    "pd.set_option('max_rows',100000)\n",
    "pd.set_option('max_colwidth',100000)\n",
    "import urllib.request\n",
    "import webbrowser\n",
    "import re\n",
    "import numpy as np\n",
    "from time import sleep\n",
    "import subprocess\n",
    "from subprocess import Popen, PIPE, STDOUT\n",
    "import shutil\n",
    "from IPython.display import Image\n",
    "from IPython.core.display import HTML"
   ]
  },
  {
   "attachments": {
    "image.png": {
     "image/png": "[encoded data removed]"
    }
   },
   "cell_type": "markdown",
   "metadata": {},
   "source": [
    "![image.png](attachment:image.png)"
   ]
  },
  {
   "cell_type": "markdown",
   "metadata": {},
   "source": [
    "# 1. Anotacion de transcritos\n",
    "# 2. Gráficos en R<br/>"
   ]
  },
  {
   "attachments": {
    "image.png": {
     "image/png": "[encoded data removed]"
    }
   },
   "cell_type": "markdown",
   "metadata": {},
   "source": [
    "![image.png](attachment:image.png)"
   ]
  },
  {
   "cell_type": "markdown",
   "metadata": {},
   "source": [
    "# IMPORTANTE\n",
    "## Requerimientos para la Ontologia \n",
    ">### 1.- go.obo\n",
    ">### 2.- OWLTools (Map2Slim)\n",
    ">### 3.- GO slim (goslim_generic)\n",
    ">### 4.- Proteoma en estudio (IDs Uniprot)\n",
    ">### 5.- Archivo en formato GAF (Gene Association Format, GOC)\n",
    ">### 6.- Transcritos\n",
    ">### 7.- Blast"
   ]
  },
  {
   "cell_type": "code",
   "execution_count": 2,
   "metadata": {},
   "outputs": [
    {
     "name": "stdout",
     "output_type": "stream",
     "text": [
      "C:\\Users\\SalaD26\\Desktop\\data\\exp710\n"
     ]
    }
   ],
   "source": [
    "cd ~/Desktop/data/exp710"
   ]
  },
  {
   "cell_type": "code",
   "execution_count": 3,
   "metadata": {
    "collapsed": true
   },
   "outputs": [],
   "source": [
    "## creamos dos directorios, uno para las descargas y otro para los resultados\n",
    "os.makedirs('data',exist_ok=True)\n",
    "os.makedirs('results',exist_ok=True)\n",
    "os.makedirs('programs',exist_ok=True)"
   ]
  },
  {
   "cell_type": "markdown",
   "metadata": {},
   "source": [
    "# 1.- Descargas (go.obo, OWLTools, GO slim y pseudo-GAF)<br/>"
   ]
  },
  {
   "cell_type": "code",
   "execution_count": 7,
   "metadata": {},
   "outputs": [
    {
     "name": "stdout",
     "output_type": "stream",
     "text": [
      "■■■ El archivo go.obo ya existe, no se descargará de la red\n"
     ]
    },
    {
     "ename": "ValueError",
     "evalue": "close_fds is not supported on Windows platforms if you redirect stdin/stdout/stderr",
     "output_type": "error",
     "traceback": [
      "\u001b[1;31m---------------------------------------------------------------------------\u001b[0m",
      "\u001b[1;31mValueError\u001b[0m                                Traceback (most recent call last)",
      "\u001b[1;32m<ipython-input-7-aae91b6546e8>\u001b[0m in \u001b[0;36m<module>\u001b[1;34m()\u001b[0m\n\u001b[0;32m      6\u001b[0m         \u001b[1;31m## este aschivo sirve para generar un GAF nuevo\u001b[0m\u001b[1;33m\u001b[0m\u001b[1;33m\u001b[0m\u001b[0m\n\u001b[0;32m      7\u001b[0m         output4=Popen(\"grep -e '^id: GO:' -e '^name: ' -e '^namespace: ' -e '.Typedef.' ./data/go.obo | sed 's/id:/#id:/g' | perl -p -e 's/\\n/\\t/g' | sed 's/.Typedef.*//g' | perl -p -e 's/#/\\n/g' | sed 's/id: //g; s/name: //g; s/namespace: //g' | sed '/^$/d' | sed 's/\\t$//g' | sed 's/biological_process/P/g; s/molecular_function/F/g; s/cellular_component/C/g' | grep -v -e '\\tC\\tC' -v -e '\\tF\\tF' -v -e '\\tP\\tP' > ./data/all_go.txt\",\n\u001b[1;32m----> 8\u001b[1;33m               shell=True, stdin=PIPE, stdout=PIPE, stderr=STDOUT, close_fds=True).stdout.read()        \n\u001b[0m\u001b[0;32m      9\u001b[0m \u001b[1;32melse\u001b[0m\u001b[1;33m:\u001b[0m\u001b[1;33m\u001b[0m\u001b[0m\n\u001b[0;32m     10\u001b[0m     \u001b[1;31m## descarga de la ontologia de genes\u001b[0m\u001b[1;33m\u001b[0m\u001b[1;33m\u001b[0m\u001b[0m\n",
      "\u001b[1;32m~\\Anaconda3\\lib\\subprocess.py\u001b[0m in \u001b[0;36m__init__\u001b[1;34m(self, args, bufsize, executable, stdin, stdout, stderr, preexec_fn, close_fds, shell, cwd, env, universal_newlines, startupinfo, creationflags, restore_signals, start_new_session, pass_fds, encoding, errors)\u001b[0m\n\u001b[0;32m    622\u001b[0m             \u001b[1;32melif\u001b[0m \u001b[0mclose_fds\u001b[0m \u001b[1;32mand\u001b[0m \u001b[0many_stdio_set\u001b[0m\u001b[1;33m:\u001b[0m\u001b[1;33m\u001b[0m\u001b[0m\n\u001b[0;32m    623\u001b[0m                 raise ValueError(\n\u001b[1;32m--> 624\u001b[1;33m                         \u001b[1;34m\"close_fds is not supported on Windows platforms\"\u001b[0m\u001b[1;33m\u001b[0m\u001b[0m\n\u001b[0m\u001b[0;32m    625\u001b[0m                         \" if you redirect stdin/stdout/stderr\")\n\u001b[0;32m    626\u001b[0m         \u001b[1;32melse\u001b[0m\u001b[1;33m:\u001b[0m\u001b[1;33m\u001b[0m\u001b[0m\n",
      "\u001b[1;31mValueError\u001b[0m: close_fds is not supported on Windows platforms if you redirect stdin/stdout/stderr"
     ]
    }
   ],
   "source": [
    "if os.path.exists(\"./data/go.obo\"): \n",
    "    print ('■■■ El archivo go.obo ya existe, no se descargará de la red')\n",
    "    if os.path.exists(\"./data/all_go.txt\"):\n",
    "        print('■■■ El archivo all_go.txt ya existe')\n",
    "    else:\n",
    "        ## este aschivo sirve para generar un GAF nuevo\n",
    "        output4=Popen(\"grep -e '^id: GO:' -e '^name: ' -e '^namespace: ' -e '.Typedef.' ./data/go.obo | sed 's/id:/#id:/g' | perl -p -e 's/\\n/\\t/g' | sed 's/.Typedef.*//g' | perl -p -e 's/#/\\n/g' | sed 's/id: //g; s/name: //g; s/namespace: //g' | sed '/^$/d' | sed 's/\\t$//g' | sed 's/biological_process/P/g; s/molecular_function/F/g; s/cellular_component/C/g' | grep -v -e '\\tC\\tC' -v -e '\\tF\\tF' -v -e '\\tP\\tP' > ./data/all_go.txt\",\n",
    "              shell=True, stdin=PIPE, stdout=PIPE, stderr=STDOUT, close_fds=True).stdout.read()        \n",
    "else:\n",
    "    ## descarga de la ontologia de genes\n",
    "    output1=urllib.request.urlretrieve('http://snapshot.geneontology.org/ontology/go.obo','./data/go.obo')\n",
    "    if os.path.exists(\"./data/all_go.txt\"):\n",
    "        print('■■■ El archivo all_go.txt ya existe')\n",
    "    else:\n",
    "        ## este aschivo sirve para generar un GAF nuevo\n",
    "        output4=Popen(\"grep -e '^id: GO:' -e '^name: ' -e '^namespace: ' -e '.Typedef.' ./data/go.obo | sed 's/id:/#id:/g' | perl -p -e 's/\\n/\\t/g' | sed 's/.Typedef.*//g' | perl -p -e 's/#/\\n/g' | sed 's/id: //g; s/name: //g; s/namespace: //g' | sed '/^$/d' | sed 's/\\t$//g' | sed 's/biological_process/P/g; s/molecular_function/F/g; s/cellular_component/C/g' | grep -v -e '\\tC\\tC' -v -e '\\tF\\tF' -v -e '\\tP\\tP' > ./data/all_go.txt\", shell=True, stdin=PIPE, stdout=PIPE, stderr=STDOUT, close_fds=True).stdout.read()"
   ]
  },
  {
   "cell_type": "code",
   "execution_count": 8,
   "metadata": {},
   "outputs": [
    {
     "name": "stdout",
     "output_type": "stream",
     "text": [
      "■■■ El programa owltools ya existe, no se descargará de la red\n"
     ]
    }
   ],
   "source": [
    "if os.path.exists(\"./programs/owltools\"):\n",
    "    print ('■■■ El programa owltools ya existe, no se descargará de la red')\n",
    "else: \n",
    "    ## descarga de owltools, una herramienta multitarea, una de ellas es hacer GO_slim\n",
    "    output2=urllib.request.urlretrieve('http://build.berkeleybop.org/userContent/owltools/owltools','./programs/owltools')\n",
    "    !chmod +x ./programs/owltools"
   ]
  },
  {
   "cell_type": "code",
   "execution_count": 9,
   "metadata": {},
   "outputs": [
    {
     "ename": "ValueError",
     "evalue": "close_fds is not supported on Windows platforms if you redirect stdin/stdout/stderr",
     "output_type": "error",
     "traceback": [
      "\u001b[1;31m---------------------------------------------------------------------------\u001b[0m",
      "\u001b[1;31mValueError\u001b[0m                                Traceback (most recent call last)",
      "\u001b[1;32m<ipython-input-9-d0c832102605>\u001b[0m in \u001b[0;36m<module>\u001b[1;34m()\u001b[0m\n\u001b[0;32m      6\u001b[0m     \u001b[1;31m## Ahora le hacemos una ligera edicion para obtener tres columnas: GO ID, término y aspecto\u001b[0m\u001b[1;33m\u001b[0m\u001b[1;33m\u001b[0m\u001b[0m\n\u001b[0;32m      7\u001b[0m     output4=Popen(\"grep -e '^id: GO:' -e '^name: ' -e '^namespace: ' -e '.Typedef.' ./data/goslim_generic.obo | sed 's/id:/#id:/g' | perl -p -e 's/\\n/\\t/g' | sed 's/.Typedef.*//g' | perl -p -e 's/#/\\n/g' | sed 's/id: //g; s/name: //g; s/namespace: //g' | sed '/^$/d' | sed 's/\\t$//g' | sed 's/biological_process/P/g; s/molecular_function/F/g; s/cellular_component/C/g' | grep -v -e '\\tC\\tC' -v -e '\\tF\\tF' -v -e '\\tP\\tP'  > ./data/goslim_generic.txt\",\n\u001b[1;32m----> 8\u001b[1;33m               shell=True, stdin=PIPE, stdout=PIPE, stderr=STDOUT, close_fds=True).stdout.read()\n\u001b[0m\u001b[0;32m      9\u001b[0m     \u001b[1;32mif\u001b[0m \u001b[0mos\u001b[0m\u001b[1;33m.\u001b[0m\u001b[0mpath\u001b[0m\u001b[1;33m.\u001b[0m\u001b[0mexists\u001b[0m\u001b[1;33m(\u001b[0m\u001b[1;34m\"./data/goslim_generic.obo\"\u001b[0m\u001b[1;33m)\u001b[0m\u001b[1;33m:\u001b[0m \u001b[0mos\u001b[0m\u001b[1;33m.\u001b[0m\u001b[0mremove\u001b[0m\u001b[1;33m(\u001b[0m\u001b[1;34m\"./data/goslim_generic.obo\"\u001b[0m\u001b[1;33m)\u001b[0m\u001b[1;33m\u001b[0m\u001b[0m\n",
      "\u001b[1;32m~\\Anaconda3\\lib\\subprocess.py\u001b[0m in \u001b[0;36m__init__\u001b[1;34m(self, args, bufsize, executable, stdin, stdout, stderr, preexec_fn, close_fds, shell, cwd, env, universal_newlines, startupinfo, creationflags, restore_signals, start_new_session, pass_fds, encoding, errors)\u001b[0m\n\u001b[0;32m    622\u001b[0m             \u001b[1;32melif\u001b[0m \u001b[0mclose_fds\u001b[0m \u001b[1;32mand\u001b[0m \u001b[0many_stdio_set\u001b[0m\u001b[1;33m:\u001b[0m\u001b[1;33m\u001b[0m\u001b[0m\n\u001b[0;32m    623\u001b[0m                 raise ValueError(\n\u001b[1;32m--> 624\u001b[1;33m                         \u001b[1;34m\"close_fds is not supported on Windows platforms\"\u001b[0m\u001b[1;33m\u001b[0m\u001b[0m\n\u001b[0m\u001b[0;32m    625\u001b[0m                         \" if you redirect stdin/stdout/stderr\")\n\u001b[0;32m    626\u001b[0m         \u001b[1;32melse\u001b[0m\u001b[1;33m:\u001b[0m\u001b[1;33m\u001b[0m\u001b[0m\n",
      "\u001b[1;31mValueError\u001b[0m: close_fds is not supported on Windows platforms if you redirect stdin/stdout/stderr"
     ]
    }
   ],
   "source": [
    "if os.path.exists(\"./data/goslim_generic.txt\"):\n",
    "    print ('■■■ El archivo goslim_generic.txt ya existe, no se descargará de la red')\n",
    "else:\n",
    "    ## descargamos el go-slim desde el Gene Ontology Consortium\n",
    "    output3=urllib.request.urlretrieve('ftp://ftp.geneontology.org/go/GO_slims/goslim_generic.obo','./data/goslim_generic.obo')\n",
    "    ## Ahora le hacemos una ligera edicion para obtener tres columnas: GO ID, término y aspecto\n",
    "    output4=Popen(\"grep -e '^id: GO:' -e '^name: ' -e '^namespace: ' -e '.Typedef.' ./data/goslim_generic.obo | sed 's/id:/#id:/g' | perl -p -e 's/\\n/\\t/g' | sed 's/.Typedef.*//g' | perl -p -e 's/#/\\n/g' | sed 's/id: //g; s/name: //g; s/namespace: //g' | sed '/^$/d' | sed 's/\\t$//g' | sed 's/biological_process/P/g; s/molecular_function/F/g; s/cellular_component/C/g' | grep -v -e '\\tC\\tC' -v -e '\\tF\\tF' -v -e '\\tP\\tP'  > ./data/goslim_generic.txt\",\n",
    "              shell=True, stdin=PIPE, stdout=PIPE, stderr=STDOUT, close_fds=True).stdout.read()\n",
    "    if os.path.exists(\"./data/goslim_generic.obo\"): os.remove(\"./data/goslim_generic.obo\")"
   ]
  },
  {
   "cell_type": "code",
   "execution_count": 10,
   "metadata": {
    "collapsed": true
   },
   "outputs": [],
   "source": [
    "if os.path.exists(\"./programs//pseudo-GAF.pl\"):\n",
    "    ## El programa pseudo-GAF crea un archivo en formato GAF para que sea reconodido por OWLTools\n",
    "    print ('■■■ El programa pseudo-GAF.pl ya existe, no se descargará de la red')\n",
    "else: \n",
    "    ## descarga de owltools, una herramienta multitarea, una de ellas es hacer GO_slim\n",
    "    output2=urllib.request.urlretrieve('https://raw.githubusercontent.com/eduardo1011/Programas/master/pseudo-GAF.pl','./programs/pseudo-GAF.pl')"
   ]
  },
  {
   "cell_type": "code",
   "execution_count": null,
   "metadata": {
    "collapsed": true
   },
   "outputs": [],
   "source": []
  },
  {
   "cell_type": "markdown",
   "metadata": {},
   "source": [
    "# 2.- Transcriptoma en estudio (fasta) \n",
    ">## La lista de transcritos se obtuvo del siguiente articulo (*Calanus finmarchicus*)\n",
    "http://journals.plos.org/plosone/article?id=10.1371/journal.pone.0088589#s2"
   ]
  },
  {
   "cell_type": "code",
   "execution_count": 11,
   "metadata": {},
   "outputs": [
    {
     "data": {
      "text/html": [
       "<img src=\"https://raw.githubusercontent.com/eduardo1011/Programas/master/trasncriptoma.png\"/>"
      ],
      "text/plain": [
       "<IPython.core.display.Image object>"
      ]
     },
     "execution_count": 11,
     "metadata": {},
     "output_type": "execute_result"
    }
   ],
   "source": [
    "Image(url= \"https://raw.githubusercontent.com/eduardo1011/Programas/master/trasncriptoma.png\")"
   ]
  },
  {
   "cell_type": "code",
   "execution_count": null,
   "metadata": {
    "collapsed": true
   },
   "outputs": [],
   "source": [
    "!sed -i 's/>gi|/>/g; s/|gb|/ /g' 710_trasnscritos.fasta"
   ]
  },
  {
   "cell_type": "code",
   "execution_count": 13,
   "metadata": {},
   "outputs": [
    {
     "name": "stderr",
     "output_type": "stream",
     "text": [
      "\"head\" no se reconoce como un comando interno o externo,\n",
      "programa o archivo por lotes ejecutable.\n"
     ]
    }
   ],
   "source": [
    "!head 710_transcritos.fasta"
   ]
  },
  {
   "cell_type": "markdown",
   "metadata": {},
   "source": [
    "# 3.- Blastx (traduce nucleotidos a proteinas)"
   ]
  },
  {
   "cell_type": "code",
   "execution_count": 14,
   "metadata": {
    "collapsed": true
   },
   "outputs": [],
   "source": [
    "## Nombre de cada columna del resultado del blastx\n",
    "header=(\"qacc\",\"Protein_id\",\"qlen\",\"slen\",\"length\",\"score\",\"bitscore\",\"evalue\",\"pident\",\"nident\",\n",
    "                  \"mismatch\",\"positive\",\"gaps\",\"gapopen\",\"stitle\")"
   ]
  },
  {
   "cell_type": "code",
   "execution_count": 22,
   "metadata": {
    "collapsed": true
   },
   "outputs": [],
   "source": [
    "## Ejecutando el programa blastx\n",
    "!blastx -db C:/Users/SalaD26/Desktop/bigdata/swissprot \\\n",
    "-query 710_transcritos.fasta -evalue 1E-30 \\\n",
    "-outfmt 6 \\\n",
    "-max_target_seqs 1 -max_hsps 1 -out ./results/blastx"
   ]
  },
  {
   "cell_type": "code",
   "execution_count": null,
   "metadata": {
    "collapsed": true
   },
   "outputs": [],
   "source": [
    "## Ejecutando el programa blastx\n",
    "!blastx -db C:/Users/SalaD26/Desktop/bigdata/swissprot \\\n",
    "-query 710_transcritos.fasta -evalue 1E-30 \\\n",
    "-outfmt \"6 qacc sacc qlen slen length score bitscore evalue pident nident mismatch positive gaps gapopen stitle\" \\\n",
    "-max_target_seqs 1 -max_hsps 1 -out ./results/blastx_borrar.tab"
   ]
  },
  {
   "cell_type": "code",
   "execution_count": null,
   "metadata": {
    "collapsed": true
   },
   "outputs": [],
   "source": []
  },
  {
   "cell_type": "code",
   "execution_count": null,
   "metadata": {
    "collapsed": true
   },
   "outputs": [],
   "source": []
  },
  {
   "cell_type": "raw",
   "metadata": {},
   "source": [
    "## Ejecutando el programa blastx\n",
    "!blastx -db C:/Users/SalaD26/Desktop/bigdata/swissprot \\\n",
    "-query 710_transcritos.fasta -evalue 1E-30 \\\n",
    "-outfmt  \\\n",
    "-max_target_seqs 1 -max_hsps 1 -out ./results/blastx"
   ]
  },
  {
   "cell_type": "code",
   "execution_count": 7,
   "metadata": {
    "scrolled": true
   },
   "outputs": [
    {
     "data": {
      "text/html": [
       "<div>\n",
       "<style>\n",
       "    .dataframe thead tr:only-child th {\n",
       "        text-align: right;\n",
       "    }\n",
       "\n",
       "    .dataframe thead th {\n",
       "        text-align: left;\n",
       "    }\n",
       "\n",
       "    .dataframe tbody tr th {\n",
       "        vertical-align: top;\n",
       "    }\n",
       "</style>\n",
       "<table border=\"1\" class=\"dataframe\">\n",
       "  <thead>\n",
       "    <tr style=\"text-align: right;\">\n",
       "      <th></th>\n",
       "      <th>qacc</th>\n",
       "      <th>Protein_id</th>\n",
       "      <th>qlen</th>\n",
       "      <th>slen</th>\n",
       "      <th>length</th>\n",
       "      <th>score</th>\n",
       "      <th>bitscore</th>\n",
       "      <th>evalue</th>\n",
       "      <th>pident</th>\n",
       "      <th>nident</th>\n",
       "      <th>mismatch</th>\n",
       "      <th>positive</th>\n",
       "      <th>gaps</th>\n",
       "      <th>gapopen</th>\n",
       "      <th>stitle</th>\n",
       "    </tr>\n",
       "  </thead>\n",
       "  <tbody>\n",
       "    <tr>\n",
       "      <th>0</th>\n",
       "      <td>1001070759</td>\n",
       "      <td>L1IYN9</td>\n",
       "      <td>347</td>\n",
       "      <td>147</td>\n",
       "      <td>113</td>\n",
       "      <td>546</td>\n",
       "      <td>214</td>\n",
       "      <td>3.000000e-69</td>\n",
       "      <td>98.23</td>\n",
       "      <td>111</td>\n",
       "      <td>2</td>\n",
       "      <td>113</td>\n",
       "      <td>0</td>\n",
       "      <td>0</td>\n",
       "      <td>Uncharacterized protein OS=Guillardia theta CCMP2712 OX=905079 GN=GUITHDRAFT_75159 PE=3 SV=1</td>\n",
       "    </tr>\n",
       "    <tr>\n",
       "      <th>1</th>\n",
       "      <td>1001070755</td>\n",
       "      <td>T1IST0</td>\n",
       "      <td>1937</td>\n",
       "      <td>400</td>\n",
       "      <td>79</td>\n",
       "      <td>431</td>\n",
       "      <td>170</td>\n",
       "      <td>1.000000e-43</td>\n",
       "      <td>96.20</td>\n",
       "      <td>76</td>\n",
       "      <td>3</td>\n",
       "      <td>77</td>\n",
       "      <td>0</td>\n",
       "      <td>0</td>\n",
       "      <td>Uncharacterized protein OS=Strigamia maritima OX=126957 PE=3 SV=1</td>\n",
       "    </tr>\n",
       "    <tr>\n",
       "      <th>2</th>\n",
       "      <td>1001070753</td>\n",
       "      <td>W5KHW2</td>\n",
       "      <td>1527</td>\n",
       "      <td>512</td>\n",
       "      <td>404</td>\n",
       "      <td>630</td>\n",
       "      <td>247</td>\n",
       "      <td>1.000000e-71</td>\n",
       "      <td>36.88</td>\n",
       "      <td>149</td>\n",
       "      <td>233</td>\n",
       "      <td>234</td>\n",
       "      <td>22</td>\n",
       "      <td>11</td>\n",
       "      <td>Uncharacterized protein OS=Astyanax mexicanus OX=7994 PE=3 SV=1</td>\n",
       "    </tr>\n",
       "  </tbody>\n",
       "</table>\n",
       "</div>"
      ],
      "text/plain": [
       "         qacc Protein_id  qlen  slen  length  score  bitscore        evalue  \\\n",
       "0  1001070759     L1IYN9   347   147     113    546       214  3.000000e-69   \n",
       "1  1001070755     T1IST0  1937   400      79    431       170  1.000000e-43   \n",
       "2  1001070753     W5KHW2  1527   512     404    630       247  1.000000e-71   \n",
       "\n",
       "   pident  nident  mismatch  positive  gaps  gapopen  \\\n",
       "0   98.23     111         2       113     0        0   \n",
       "1   96.20      76         3        77     0        0   \n",
       "2   36.88     149       233       234    22       11   \n",
       "\n",
       "                                                                                         stitle  \n",
       "0  Uncharacterized protein OS=Guillardia theta CCMP2712 OX=905079 GN=GUITHDRAFT_75159 PE=3 SV=1  \n",
       "1                             Uncharacterized protein OS=Strigamia maritima OX=126957 PE=3 SV=1  \n",
       "2                               Uncharacterized protein OS=Astyanax mexicanus OX=7994 PE=3 SV=1  "
      ]
     },
     "execution_count": 7,
     "metadata": {},
     "output_type": "execute_result"
    }
   ],
   "source": [
    "## Abrimos el resultado del blastx\n",
    "blastx=pd.read_csv('./results/blastx',sep='\\t',names=header)\n",
    "blastx.head(3)"
   ]
  },
  {
   "cell_type": "markdown",
   "metadata": {},
   "source": [
    "# 4.- Obtencion de informacion funcional desde QuickGO"
   ]
  },
  {
   "cell_type": "code",
   "execution_count": 8,
   "metadata": {},
   "outputs": [
    {
     "name": "stdout",
     "output_type": "stream",
     "text": [
      "\n",
      " L1IYN9%2CT1IST0%2CW5KHW2%2CA0A067RA22%2CA0A067RA22%2CA0A2J7R232%2CA0A067RA22%2CA0A2J7Q2W5%2CT1JCR2%2CK1RQW3%2CT1JCR2%2CW5KHR1%2CA0A1L8FIC4%2CT1KGR1%2CA0A2G8KHZ1%2CA0A0P5ZCT5%2CU3J9J1%2CU3J9J1%2CA0A023EI18%2CE1ZYH4%2CA0A067RGE7%2CA0A0T6BCM0%2CA0A0T6BCM0\n"
     ]
    }
   ],
   "source": [
    "## Extraemos el \"ID subject\" del blastx y creamos una cadena\n",
    "ids_blastx=Popen(\"cut -f2 ./results/blastx | perl -p -e 's/\\n/%2C/g' | sed 's/%2C$//g'\",\n",
    "          shell=True, stdin=PIPE, stdout=PIPE, stderr=STDOUT, close_fds=True).stdout.read().decode()\n",
    "print('\\n',ids_blastx)"
   ]
  },
  {
   "cell_type": "code",
   "execution_count": 9,
   "metadata": {},
   "outputs": [
    {
     "data": {
      "text/html": [
       "<div>\n",
       "<style>\n",
       "    .dataframe thead tr:only-child th {\n",
       "        text-align: right;\n",
       "    }\n",
       "\n",
       "    .dataframe thead th {\n",
       "        text-align: left;\n",
       "    }\n",
       "\n",
       "    .dataframe tbody tr th {\n",
       "        vertical-align: top;\n",
       "    }\n",
       "</style>\n",
       "<table border=\"1\" class=\"dataframe\">\n",
       "  <thead>\n",
       "    <tr style=\"text-align: right;\">\n",
       "      <th></th>\n",
       "      <th>GENE PRODUCT DB</th>\n",
       "      <th>GENE PRODUCT ID</th>\n",
       "      <th>SYMBOL</th>\n",
       "      <th>QUALIFIER</th>\n",
       "      <th>GO TERM</th>\n",
       "      <th>GO ASPECT</th>\n",
       "      <th>ECO ID</th>\n",
       "      <th>GO EVIDENCE CODE</th>\n",
       "      <th>REFERENCE</th>\n",
       "      <th>WITH/FROM</th>\n",
       "      <th>TAXON ID</th>\n",
       "      <th>ASSIGNED BY</th>\n",
       "      <th>ANNOTATION EXTENSION</th>\n",
       "      <th>DATE</th>\n",
       "    </tr>\n",
       "  </thead>\n",
       "  <tbody>\n",
       "    <tr>\n",
       "      <th>0</th>\n",
       "      <td>UniProtKB</td>\n",
       "      <td>A0A023EI18</td>\n",
       "      <td>109414702</td>\n",
       "      <td>enables</td>\n",
       "      <td>GO:0000166</td>\n",
       "      <td>F</td>\n",
       "      <td>ECO:0000323</td>\n",
       "      <td>IEA</td>\n",
       "      <td>GO_REF:0000038</td>\n",
       "      <td>UniProtKB-KW:KW-0547</td>\n",
       "      <td>7160</td>\n",
       "      <td>UniProt</td>\n",
       "      <td>NaN</td>\n",
       "      <td>20180714</td>\n",
       "    </tr>\n",
       "    <tr>\n",
       "      <th>1</th>\n",
       "      <td>UniProtKB</td>\n",
       "      <td>A0A023EI18</td>\n",
       "      <td>109414702</td>\n",
       "      <td>enables</td>\n",
       "      <td>GO:0005524</td>\n",
       "      <td>F</td>\n",
       "      <td>ECO:0000323</td>\n",
       "      <td>IEA</td>\n",
       "      <td>GO_REF:0000038</td>\n",
       "      <td>UniProtKB-KW:KW-0067</td>\n",
       "      <td>7160</td>\n",
       "      <td>UniProt</td>\n",
       "      <td>NaN</td>\n",
       "      <td>20180714</td>\n",
       "    </tr>\n",
       "    <tr>\n",
       "      <th>2</th>\n",
       "      <td>UniProtKB</td>\n",
       "      <td>A0A023EI18</td>\n",
       "      <td>109414702</td>\n",
       "      <td>enables</td>\n",
       "      <td>GO:0005524</td>\n",
       "      <td>F</td>\n",
       "      <td>ECO:0000256</td>\n",
       "      <td>IEA</td>\n",
       "      <td>GO_REF:0000104</td>\n",
       "      <td>UniRule:UR000141827</td>\n",
       "      <td>7160</td>\n",
       "      <td>UniProt</td>\n",
       "      <td>NaN</td>\n",
       "      <td>20180714</td>\n",
       "    </tr>\n",
       "  </tbody>\n",
       "</table>\n",
       "</div>"
      ],
      "text/plain": [
       "  GENE PRODUCT DB GENE PRODUCT ID     SYMBOL QUALIFIER     GO TERM GO ASPECT  \\\n",
       "0       UniProtKB      A0A023EI18  109414702   enables  GO:0000166         F   \n",
       "1       UniProtKB      A0A023EI18  109414702   enables  GO:0005524         F   \n",
       "2       UniProtKB      A0A023EI18  109414702   enables  GO:0005524         F   \n",
       "\n",
       "        ECO ID GO EVIDENCE CODE       REFERENCE             WITH/FROM  \\\n",
       "0  ECO:0000323              IEA  GO_REF:0000038  UniProtKB-KW:KW-0547   \n",
       "1  ECO:0000323              IEA  GO_REF:0000038  UniProtKB-KW:KW-0067   \n",
       "2  ECO:0000256              IEA  GO_REF:0000104   UniRule:UR000141827   \n",
       "\n",
       "   TAXON ID ASSIGNED BY  ANNOTATION EXTENSION      DATE  \n",
       "0      7160     UniProt                   NaN  20180714  \n",
       "1      7160     UniProt                   NaN  20180714  \n",
       "2      7160     UniProt                   NaN  20180714  "
      ]
     },
     "execution_count": 9,
     "metadata": {},
     "output_type": "execute_result"
    }
   ],
   "source": [
    "## Extraemos informacion funcional de los productos de genes desde QuickGO\n",
    "out=Popen(\"curl -X GET --header 'Accept:text/tsv' 'https://www.ebi.ac.uk/QuickGO/services/annotation/downloadSearch?geneProductId=\"+ids_blastx+\"' > ./results/quickgo\",\n",
    "          shell=True, stdin=PIPE, stdout=PIPE, stderr=STDOUT, close_fds=True).stdout.read()\n",
    "## Abrimos el archivo descargado extraemos las columnas: entry GO-id\n",
    "go_quickgo=pd.read_csv('./results/quickgo',sep='\\t')\n",
    "go_quickgo.head(3)"
   ]
  },
  {
   "cell_type": "code",
   "execution_count": 10,
   "metadata": {},
   "outputs": [
    {
     "data": {
      "text/html": [
       "<div>\n",
       "<style>\n",
       "    .dataframe thead tr:only-child th {\n",
       "        text-align: right;\n",
       "    }\n",
       "\n",
       "    .dataframe thead th {\n",
       "        text-align: left;\n",
       "    }\n",
       "\n",
       "    .dataframe tbody tr th {\n",
       "        vertical-align: top;\n",
       "    }\n",
       "</style>\n",
       "<table border=\"1\" class=\"dataframe\">\n",
       "  <thead>\n",
       "    <tr style=\"text-align: right;\">\n",
       "      <th></th>\n",
       "      <th>qacc</th>\n",
       "      <th>GO</th>\n",
       "    </tr>\n",
       "  </thead>\n",
       "  <tbody>\n",
       "    <tr>\n",
       "      <th>0</th>\n",
       "      <td>1001070759</td>\n",
       "      <td>GO:0000166</td>\n",
       "    </tr>\n",
       "    <tr>\n",
       "      <th>1</th>\n",
       "      <td>1001070759</td>\n",
       "      <td>GO:0005524</td>\n",
       "    </tr>\n",
       "    <tr>\n",
       "      <th>3</th>\n",
       "      <td>1001070759</td>\n",
       "      <td>GO:0016740</td>\n",
       "    </tr>\n",
       "    <tr>\n",
       "      <th>4</th>\n",
       "      <td>1001070755</td>\n",
       "      <td>GO:0003677</td>\n",
       "    </tr>\n",
       "    <tr>\n",
       "      <th>8</th>\n",
       "      <td>1001070755</td>\n",
       "      <td>GO:0003700</td>\n",
       "    </tr>\n",
       "  </tbody>\n",
       "</table>\n",
       "</div>"
      ],
      "text/plain": [
       "         qacc          GO\n",
       "0  1001070759  GO:0000166\n",
       "1  1001070759  GO:0005524\n",
       "3  1001070759  GO:0016740\n",
       "4  1001070755  GO:0003677\n",
       "8  1001070755  GO:0003700"
      ]
     },
     "execution_count": 10,
     "metadata": {},
     "output_type": "execute_result"
    }
   ],
   "source": [
    "## Con un merge asignamos los GO-id a cada transcriito\n",
    "subject_id=go_quickgo[['GENE PRODUCT ID','GO TERM']].rename(columns={'GENE PRODUCT ID':'Protein_id','GO TERM':'GO'})\n",
    "transcrito_go=blastx.merge(subject_id,on='Protein_id',how='left')[['qacc','GO']].drop_duplicates()\n",
    "transcrito_go.head()"
   ]
  },
  {
   "cell_type": "code",
   "execution_count": null,
   "metadata": {
    "collapsed": true
   },
   "outputs": [],
   "source": []
  },
  {
   "cell_type": "code",
   "execution_count": 30,
   "metadata": {},
   "outputs": [
    {
     "data": {
      "text/plain": [
       "True"
      ]
     },
     "execution_count": 30,
     "metadata": {},
     "output_type": "execute_result"
    }
   ],
   "source": [
    "## Una forma de ver esta anotación funcional en QuickGO\n",
    "quickgo_browser=Popen(\"cut -f2 ./results/blastx | perl -p -e 's/\\n/,/g' | sed 's/,$//g'\",\n",
    "          shell=True, stdin=PIPE, stdout=PIPE, stderr=STDOUT, close_fds=True).stdout.read().decode()\n",
    "#output = Popen(\"https://www.ebi.ac.uk/QuickGO/annotations?geneProductId=\"+quickgo_browser+\"\", shell=True, stdin=PIPE, stdout=PIPE, stderr=STDOUT, close_fds=True).stdout.read()\n",
    "webbrowser.open_new(\"https://www.ebi.ac.uk/QuickGO/annotations?geneProductId=\"+quickgo_browser+\"\")"
   ]
  },
  {
   "cell_type": "markdown",
   "metadata": {},
   "source": [
    "# 5.- Creamos un archivo pseudo-GAF compatible con OWLTools (en este paso cada transcrito ya tiene asignado un GO term)"
   ]
  },
  {
   "cell_type": "code",
   "execution_count": 12,
   "metadata": {},
   "outputs": [
    {
     "data": {
      "text/html": [
       "<div>\n",
       "<style>\n",
       "    .dataframe thead tr:only-child th {\n",
       "        text-align: right;\n",
       "    }\n",
       "\n",
       "    .dataframe thead th {\n",
       "        text-align: left;\n",
       "    }\n",
       "\n",
       "    .dataframe tbody tr th {\n",
       "        vertical-align: top;\n",
       "    }\n",
       "</style>\n",
       "<table border=\"1\" class=\"dataframe\">\n",
       "  <thead>\n",
       "    <tr style=\"text-align: right;\">\n",
       "      <th></th>\n",
       "      <th>qacc</th>\n",
       "      <th>GO</th>\n",
       "    </tr>\n",
       "  </thead>\n",
       "  <tbody>\n",
       "    <tr>\n",
       "      <th>0</th>\n",
       "      <td>1001070713</td>\n",
       "      <td>GO:0006338;GO:0070603;</td>\n",
       "    </tr>\n",
       "    <tr>\n",
       "      <th>1</th>\n",
       "      <td>1001070714</td>\n",
       "      <td>GO:0006338;GO:0070603;</td>\n",
       "    </tr>\n",
       "    <tr>\n",
       "      <th>2</th>\n",
       "      <td>1001070715</td>\n",
       "      <td>GO:0000166;GO:0004672;GO:0004674;GO:0004707;GO:0005524;GO:0016301;GO:0016740;GO:0000165;GO:0006468;GO:0016310;GO:0005622;</td>\n",
       "    </tr>\n",
       "  </tbody>\n",
       "</table>\n",
       "</div>"
      ],
      "text/plain": [
       "         qacc  \\\n",
       "0  1001070713   \n",
       "1  1001070714   \n",
       "2  1001070715   \n",
       "\n",
       "                                                                                                                          GO  \n",
       "0                                                                                                     GO:0006338;GO:0070603;  \n",
       "1                                                                                                     GO:0006338;GO:0070603;  \n",
       "2  GO:0000166;GO:0004672;GO:0004674;GO:0004707;GO:0005524;GO:0016301;GO:0016740;GO:0000165;GO:0006468;GO:0016310;GO:0005622;  "
      ]
     },
     "execution_count": 12,
     "metadata": {},
     "output_type": "execute_result"
    }
   ],
   "source": [
    "## Para crear un archivo en formato GAF es necesario tener un archivo \"gene association\"\n",
    "## Creamos un archivo \"gene association\" con el siguiente formato\n",
    "df1=transcrito_go.pivot_table(values='GO',index=['qacc'],aggfunc=sum).reset_index()\n",
    "df2=df1[['GO']].replace({'GO':';GO'},regex=True).replace({'$':';'},regex=True).replace({'^;':''},regex=True)\n",
    "df3=pd.concat([df1[['qacc']],df2[['GO']]],axis=1,join='outer')\n",
    "df3.to_csv('./data/Gene_association.txt',sep='\\t',header=None,index=None)\n",
    "df3.head(3)    "
   ]
  },
  {
   "cell_type": "code",
   "execution_count": 13,
   "metadata": {
    "scrolled": true
   },
   "outputs": [
    {
     "data": {
      "text/html": [
       "<div>\n",
       "<style>\n",
       "    .dataframe thead tr:only-child th {\n",
       "        text-align: right;\n",
       "    }\n",
       "\n",
       "    .dataframe thead th {\n",
       "        text-align: left;\n",
       "    }\n",
       "\n",
       "    .dataframe tbody tr th {\n",
       "        vertical-align: top;\n",
       "    }\n",
       "</style>\n",
       "<table border=\"1\" class=\"dataframe\">\n",
       "  <thead>\n",
       "    <tr style=\"text-align: right;\">\n",
       "      <th></th>\n",
       "      <th>0</th>\n",
       "      <th>1</th>\n",
       "      <th>2</th>\n",
       "      <th>3</th>\n",
       "      <th>4</th>\n",
       "      <th>5</th>\n",
       "      <th>6</th>\n",
       "      <th>7</th>\n",
       "      <th>8</th>\n",
       "      <th>9</th>\n",
       "      <th>10</th>\n",
       "      <th>11</th>\n",
       "      <th>12</th>\n",
       "      <th>13</th>\n",
       "      <th>14</th>\n",
       "      <th>15</th>\n",
       "      <th>16</th>\n",
       "    </tr>\n",
       "  </thead>\n",
       "  <tbody>\n",
       "    <tr>\n",
       "      <th>0</th>\n",
       "      <td>DB</td>\n",
       "      <td>1001070737</td>\n",
       "      <td>1001070737</td>\n",
       "      <td></td>\n",
       "      <td>GO:0004197</td>\n",
       "      <td>PMID:foo</td>\n",
       "      <td>TAS</td>\n",
       "      <td></td>\n",
       "      <td>F</td>\n",
       "      <td>1001070737</td>\n",
       "      <td></td>\n",
       "      <td>protein</td>\n",
       "      <td>taxon:1000</td>\n",
       "      <td>20184820</td>\n",
       "      <td>DB</td>\n",
       "      <td></td>\n",
       "      <td></td>\n",
       "    </tr>\n",
       "    <tr>\n",
       "      <th>1</th>\n",
       "      <td>DB</td>\n",
       "      <td>1001070737</td>\n",
       "      <td>1001070737</td>\n",
       "      <td></td>\n",
       "      <td>GO:0008233</td>\n",
       "      <td>PMID:foo</td>\n",
       "      <td>TAS</td>\n",
       "      <td></td>\n",
       "      <td>F</td>\n",
       "      <td>1001070737</td>\n",
       "      <td></td>\n",
       "      <td>protein</td>\n",
       "      <td>taxon:1000</td>\n",
       "      <td>20184820</td>\n",
       "      <td>DB</td>\n",
       "      <td></td>\n",
       "      <td></td>\n",
       "    </tr>\n",
       "    <tr>\n",
       "      <th>2</th>\n",
       "      <td>DB</td>\n",
       "      <td>1001070737</td>\n",
       "      <td>1001070737</td>\n",
       "      <td></td>\n",
       "      <td>GO:0008234</td>\n",
       "      <td>PMID:foo</td>\n",
       "      <td>TAS</td>\n",
       "      <td></td>\n",
       "      <td>F</td>\n",
       "      <td>1001070737</td>\n",
       "      <td></td>\n",
       "      <td>protein</td>\n",
       "      <td>taxon:1000</td>\n",
       "      <td>20184820</td>\n",
       "      <td>DB</td>\n",
       "      <td></td>\n",
       "      <td></td>\n",
       "    </tr>\n",
       "    <tr>\n",
       "      <th>3</th>\n",
       "      <td>DB</td>\n",
       "      <td>1001070737</td>\n",
       "      <td>1001070737</td>\n",
       "      <td></td>\n",
       "      <td>GO:0016787</td>\n",
       "      <td>PMID:foo</td>\n",
       "      <td>TAS</td>\n",
       "      <td></td>\n",
       "      <td>F</td>\n",
       "      <td>1001070737</td>\n",
       "      <td></td>\n",
       "      <td>protein</td>\n",
       "      <td>taxon:1000</td>\n",
       "      <td>20184820</td>\n",
       "      <td>DB</td>\n",
       "      <td></td>\n",
       "      <td></td>\n",
       "    </tr>\n",
       "    <tr>\n",
       "      <th>4</th>\n",
       "      <td>DB</td>\n",
       "      <td>1001070737</td>\n",
       "      <td>1001070737</td>\n",
       "      <td></td>\n",
       "      <td>GO:0097200</td>\n",
       "      <td>PMID:foo</td>\n",
       "      <td>TAS</td>\n",
       "      <td></td>\n",
       "      <td>F</td>\n",
       "      <td>1001070737</td>\n",
       "      <td></td>\n",
       "      <td>protein</td>\n",
       "      <td>taxon:1000</td>\n",
       "      <td>20184820</td>\n",
       "      <td>DB</td>\n",
       "      <td></td>\n",
       "      <td></td>\n",
       "    </tr>\n",
       "  </tbody>\n",
       "</table>\n",
       "</div>"
      ],
      "text/plain": [
       "   0           1           2  3           4         5    6  7  8           9   \\\n",
       "0  DB  1001070737  1001070737     GO:0004197  PMID:foo  TAS     F  1001070737   \n",
       "1  DB  1001070737  1001070737     GO:0008233  PMID:foo  TAS     F  1001070737   \n",
       "2  DB  1001070737  1001070737     GO:0008234  PMID:foo  TAS     F  1001070737   \n",
       "3  DB  1001070737  1001070737     GO:0016787  PMID:foo  TAS     F  1001070737   \n",
       "4  DB  1001070737  1001070737     GO:0097200  PMID:foo  TAS     F  1001070737   \n",
       "\n",
       "  10       11          12        13  14 15 16  \n",
       "0     protein  taxon:1000  20184820  DB        \n",
       "1     protein  taxon:1000  20184820  DB        \n",
       "2     protein  taxon:1000  20184820  DB        \n",
       "3     protein  taxon:1000  20184820  DB        \n",
       "4     protein  taxon:1000  20184820  DB        "
      ]
     },
     "execution_count": 13,
     "metadata": {},
     "output_type": "execute_result"
    }
   ],
   "source": [
    "## Creamos un archivo pseudo-gaf \n",
    "output4=Popen(\"perl ./programs/pseudo-GAF.pl ./data/all_go.txt ./data/Gene_association.txt > ./data/pseudo_gaf_Transcritos.gaf\",\n",
    "              shell=True, stdin=PIPE, stdout=PIPE, stderr=STDOUT, close_fds=True).stdout.read()\n",
    "pseudo_gaf=pd.read_csv('./data/pseudo_gaf_Transcritos.gaf',sep='\\t',header=None)\n",
    "pseudo_gaf.head()"
   ]
  },
  {
   "cell_type": "markdown",
   "metadata": {
    "scrolled": true
   },
   "source": [
    " ## 6.- Creando un GO slim usando Map2Slim: una opcion de OWLTools\n",
    ">### Map2slim usa un fichero GO slim y un fichero .GAF, el script mapea los terminos del .GAF (anotacion completa) en los terminos del  GO slim creando una version corta de la ontologia."
   ]
  },
  {
   "cell_type": "code",
   "execution_count": 14,
   "metadata": {
    "collapsed": true,
    "scrolled": true
   },
   "outputs": [],
   "source": [
    "## ejecutamos owltools\n",
    "!./programs/owltools ./data/go.obo --gaf ./data/pseudo_gaf_Transcritos.gaf --map2slim --idfile ./data/goslim_generic.txt --write-gaf ./data/my_transcritos.gaf > progress\n",
    "!rm progress"
   ]
  },
  {
   "cell_type": "code",
   "execution_count": 15,
   "metadata": {
    "scrolled": true
   },
   "outputs": [
    {
     "name": "stdout",
     "output_type": "stream",
     "text": [
      "Entry    66\n",
      "GO       66\n",
      "dtype: int64 \n",
      "\n",
      "        Entry          GO\n",
      "1  1001070737  GO:0007165\n",
      "2  1001070737  GO:0008219\n",
      "3  1001070737  GO:0022607\n",
      "4  1001070751  GO:0016301\n",
      "5  1001070751  GO:0006464\n",
      "6  1001070751  GO:0043167\n",
      "7  1001070735  GO:0043167\n",
      "8  1001070738  GO:0016491\n",
      "9  1001070738  GO:0043167\n"
     ]
    }
   ],
   "source": [
    "## filtramos filas sin ! (caracteristico de ficheros GAF) y extraemos las columnas 2 y 5 con qacc y GO\n",
    "output7 = Popen(\"grep -v '!' ./data/my_transcritos.gaf | cut -f2,5 > ./data/slim_transcritos\", shell=True,\n",
    "                stdin=PIPE, stdout=PIPE, stderr=STDOUT, close_fds=True).stdout.read()\n",
    "## abrimos el fichero slim y lo asignamos\n",
    "my_trans_gaf_goslim=pd.read_table('./data/slim_transcritos', names=['Entry','GO']).drop_duplicates().reset_index(drop=True)\n",
    "print(my_trans_gaf_goslim.count(),'\\n')\n",
    "print(my_trans_gaf_goslim[1:10])"
   ]
  },
  {
   "cell_type": "code",
   "execution_count": 16,
   "metadata": {},
   "outputs": [
    {
     "data": {
      "text/html": [
       "<div>\n",
       "<style>\n",
       "    .dataframe thead tr:only-child th {\n",
       "        text-align: right;\n",
       "    }\n",
       "\n",
       "    .dataframe thead th {\n",
       "        text-align: left;\n",
       "    }\n",
       "\n",
       "    .dataframe tbody tr th {\n",
       "        vertical-align: top;\n",
       "    }\n",
       "</style>\n",
       "<table border=\"1\" class=\"dataframe\">\n",
       "  <thead>\n",
       "    <tr style=\"text-align: right;\">\n",
       "      <th></th>\n",
       "      <th>GO</th>\n",
       "      <th>Term</th>\n",
       "      <th>Aspect</th>\n",
       "    </tr>\n",
       "  </thead>\n",
       "  <tbody>\n",
       "    <tr>\n",
       "      <th>0</th>\n",
       "      <td>GO:0000003</td>\n",
       "      <td>reproduction</td>\n",
       "      <td>P</td>\n",
       "    </tr>\n",
       "    <tr>\n",
       "      <th>1</th>\n",
       "      <td>GO:0000228</td>\n",
       "      <td>nuclear chromosome</td>\n",
       "      <td>C</td>\n",
       "    </tr>\n",
       "    <tr>\n",
       "      <th>2</th>\n",
       "      <td>GO:0000229</td>\n",
       "      <td>cytoplasmic chromosome</td>\n",
       "      <td>C</td>\n",
       "    </tr>\n",
       "    <tr>\n",
       "      <th>3</th>\n",
       "      <td>GO:0000278</td>\n",
       "      <td>mitotic cell cycle</td>\n",
       "      <td>P</td>\n",
       "    </tr>\n",
       "    <tr>\n",
       "      <th>4</th>\n",
       "      <td>GO:0000902</td>\n",
       "      <td>cell morphogenesis</td>\n",
       "      <td>P</td>\n",
       "    </tr>\n",
       "  </tbody>\n",
       "</table>\n",
       "</div>"
      ],
      "text/plain": [
       "           GO                    Term Aspect\n",
       "0  GO:0000003            reproduction      P\n",
       "1  GO:0000228      nuclear chromosome      C\n",
       "2  GO:0000229  cytoplasmic chromosome      C\n",
       "3  GO:0000278      mitotic cell cycle      P\n",
       "4  GO:0000902      cell morphogenesis      P"
      ]
     },
     "execution_count": 16,
     "metadata": {},
     "output_type": "execute_result"
    }
   ],
   "source": [
    "## abrimos el GO slim especifico (yeast en este caso)y lo asignamos\n",
    "goslim_specific=pd.read_table('./data/goslim_generic.txt',names=['GO','Term','Aspect'])\n",
    "goslim_specific.head()"
   ]
  },
  {
   "cell_type": "markdown",
   "metadata": {},
   "source": [
    "### Ahora le asignaremos el termino a cada transcrito"
   ]
  },
  {
   "cell_type": "code",
   "execution_count": 17,
   "metadata": {
    "scrolled": true
   },
   "outputs": [
    {
     "data": {
      "text/html": [
       "<div>\n",
       "<style>\n",
       "    .dataframe thead tr:only-child th {\n",
       "        text-align: right;\n",
       "    }\n",
       "\n",
       "    .dataframe thead th {\n",
       "        text-align: left;\n",
       "    }\n",
       "\n",
       "    .dataframe tbody tr th {\n",
       "        vertical-align: top;\n",
       "    }\n",
       "</style>\n",
       "<table border=\"1\" class=\"dataframe\">\n",
       "  <thead>\n",
       "    <tr style=\"text-align: right;\">\n",
       "      <th></th>\n",
       "      <th>Entry</th>\n",
       "      <th>GO</th>\n",
       "      <th>Term</th>\n",
       "      <th>Aspect</th>\n",
       "    </tr>\n",
       "  </thead>\n",
       "  <tbody>\n",
       "    <tr>\n",
       "      <th>0</th>\n",
       "      <td>1001070737</td>\n",
       "      <td>GO:0008233</td>\n",
       "      <td>peptidase activity</td>\n",
       "      <td>F</td>\n",
       "    </tr>\n",
       "    <tr>\n",
       "      <th>1</th>\n",
       "      <td>1001070737</td>\n",
       "      <td>GO:0007165</td>\n",
       "      <td>signal transduction</td>\n",
       "      <td>P</td>\n",
       "    </tr>\n",
       "    <tr>\n",
       "      <th>2</th>\n",
       "      <td>1001070737</td>\n",
       "      <td>GO:0008219</td>\n",
       "      <td>cell death</td>\n",
       "      <td>P</td>\n",
       "    </tr>\n",
       "    <tr>\n",
       "      <th>3</th>\n",
       "      <td>1001070737</td>\n",
       "      <td>GO:0022607</td>\n",
       "      <td>cellular component assembly</td>\n",
       "      <td>P</td>\n",
       "    </tr>\n",
       "    <tr>\n",
       "      <th>4</th>\n",
       "      <td>1001070751</td>\n",
       "      <td>GO:0016301</td>\n",
       "      <td>kinase activity</td>\n",
       "      <td>F</td>\n",
       "    </tr>\n",
       "  </tbody>\n",
       "</table>\n",
       "</div>"
      ],
      "text/plain": [
       "        Entry          GO                         Term Aspect\n",
       "0  1001070737  GO:0008233           peptidase activity      F\n",
       "1  1001070737  GO:0007165          signal transduction      P\n",
       "2  1001070737  GO:0008219                   cell death      P\n",
       "3  1001070737  GO:0022607  cellular component assembly      P\n",
       "4  1001070751  GO:0016301              kinase activity      F"
      ]
     },
     "execution_count": 17,
     "metadata": {},
     "output_type": "execute_result"
    }
   ],
   "source": [
    "## asignacion de terminos y aspecto a cada proteina del proteoma en estudio\n",
    "transcritos_go_term=pd.merge(my_trans_gaf_goslim,goslim_specific,on=\"GO\",how='left').drop_duplicates()#.fillna('N')\n",
    "transcritos_go_term.head()"
   ]
  },
  {
   "cell_type": "markdown",
   "metadata": {},
   "source": [
    "# Resultados\n",
    "### Ahora extraemos extraemos transcritos y sus categorias<br/>"
   ]
  },
  {
   "cell_type": "markdown",
   "metadata": {},
   "source": [
    "## Funcion molecular"
   ]
  },
  {
   "cell_type": "code",
   "execution_count": 18,
   "metadata": {},
   "outputs": [
    {
     "data": {
      "text/html": [
       "<div>\n",
       "<style>\n",
       "    .dataframe thead tr:only-child th {\n",
       "        text-align: right;\n",
       "    }\n",
       "\n",
       "    .dataframe thead th {\n",
       "        text-align: left;\n",
       "    }\n",
       "\n",
       "    .dataframe tbody tr th {\n",
       "        vertical-align: top;\n",
       "    }\n",
       "</style>\n",
       "<table border=\"1\" class=\"dataframe\">\n",
       "  <thead>\n",
       "    <tr style=\"text-align: right;\">\n",
       "      <th></th>\n",
       "      <th>GO</th>\n",
       "      <th>Molecular Function</th>\n",
       "      <th>Entry</th>\n",
       "      <th>Value</th>\n",
       "    </tr>\n",
       "  </thead>\n",
       "  <tbody>\n",
       "    <tr>\n",
       "      <th>0</th>\n",
       "      <td>GO:0043167</td>\n",
       "      <td>ion binding</td>\n",
       "      <td>13</td>\n",
       "      <td>13</td>\n",
       "    </tr>\n",
       "    <tr>\n",
       "      <th>1</th>\n",
       "      <td>GO:0016301</td>\n",
       "      <td>kinase activity</td>\n",
       "      <td>5</td>\n",
       "      <td>5</td>\n",
       "    </tr>\n",
       "    <tr>\n",
       "      <th>2</th>\n",
       "      <td>GO:0003677</td>\n",
       "      <td>DNA binding</td>\n",
       "      <td>3</td>\n",
       "      <td>3</td>\n",
       "    </tr>\n",
       "    <tr>\n",
       "      <th>3</th>\n",
       "      <td>GO:0003700</td>\n",
       "      <td>DNA-binding transcription factor activity</td>\n",
       "      <td>3</td>\n",
       "      <td>3</td>\n",
       "    </tr>\n",
       "    <tr>\n",
       "      <th>4</th>\n",
       "      <td>GO:0016491</td>\n",
       "      <td>oxidoreductase activity</td>\n",
       "      <td>2</td>\n",
       "      <td>2</td>\n",
       "    </tr>\n",
       "  </tbody>\n",
       "</table>\n",
       "</div>"
      ],
      "text/plain": [
       "           GO                         Molecular Function  Entry  Value\n",
       "0  GO:0043167                                ion binding     13     13\n",
       "1  GO:0016301                            kinase activity      5      5\n",
       "2  GO:0003677                                DNA binding      3      3\n",
       "3  GO:0003700  DNA-binding transcription factor activity      3      3\n",
       "4  GO:0016491                    oxidoreductase activity      2      2"
      ]
     },
     "execution_count": 18,
     "metadata": {},
     "output_type": "execute_result"
    }
   ],
   "source": [
    "## Molecular Function\n",
    "func=transcritos_go_term[['Entry','GO','Term','Aspect']].groupby(['Aspect']).get_group('F')\n",
    "function=func.groupby(['GO','Term']).count().reset_index().rename(columns={\"Term\": \"Molecular Function\",\"Aspect\": \"Value\"}).sort_values(by ='Value',ascending=False).reset_index(drop=True)\n",
    "function.to_csv('./results/Molecular_Function.csv',index=None)\n",
    "function.head()"
   ]
  },
  {
   "cell_type": "code",
   "execution_count": 19,
   "metadata": {},
   "outputs": [
    {
     "data": {
      "text/html": [
       "<div>\n",
       "<style>\n",
       "    .dataframe thead tr:only-child th {\n",
       "        text-align: right;\n",
       "    }\n",
       "\n",
       "    .dataframe thead th {\n",
       "        text-align: left;\n",
       "    }\n",
       "\n",
       "    .dataframe tbody tr th {\n",
       "        vertical-align: top;\n",
       "    }\n",
       "</style>\n",
       "<table border=\"1\" class=\"dataframe\">\n",
       "  <thead>\n",
       "    <tr style=\"text-align: right;\">\n",
       "      <th>GO</th>\n",
       "      <th>Entry</th>\n",
       "      <th>GO:0003677</th>\n",
       "      <th>GO:0003700</th>\n",
       "      <th>GO:0008233</th>\n",
       "      <th>GO:0016301</th>\n",
       "      <th>GO:0016491</th>\n",
       "      <th>GO:0019899</th>\n",
       "      <th>GO:0043167</th>\n",
       "    </tr>\n",
       "  </thead>\n",
       "  <tbody>\n",
       "    <tr>\n",
       "      <th>0</th>\n",
       "      <td>1001070715</td>\n",
       "      <td>0</td>\n",
       "      <td>0</td>\n",
       "      <td>0</td>\n",
       "      <td>1</td>\n",
       "      <td>0</td>\n",
       "      <td>0</td>\n",
       "      <td>1</td>\n",
       "    </tr>\n",
       "    <tr>\n",
       "      <th>1</th>\n",
       "      <td>1001070719</td>\n",
       "      <td>1</td>\n",
       "      <td>1</td>\n",
       "      <td>0</td>\n",
       "      <td>0</td>\n",
       "      <td>0</td>\n",
       "      <td>0</td>\n",
       "      <td>0</td>\n",
       "    </tr>\n",
       "    <tr>\n",
       "      <th>2</th>\n",
       "      <td>1001070730</td>\n",
       "      <td>0</td>\n",
       "      <td>0</td>\n",
       "      <td>0</td>\n",
       "      <td>0</td>\n",
       "      <td>0</td>\n",
       "      <td>0</td>\n",
       "      <td>1</td>\n",
       "    </tr>\n",
       "    <tr>\n",
       "      <th>3</th>\n",
       "      <td>1001070731</td>\n",
       "      <td>0</td>\n",
       "      <td>0</td>\n",
       "      <td>0</td>\n",
       "      <td>0</td>\n",
       "      <td>0</td>\n",
       "      <td>1</td>\n",
       "      <td>1</td>\n",
       "    </tr>\n",
       "    <tr>\n",
       "      <th>4</th>\n",
       "      <td>1001070732</td>\n",
       "      <td>0</td>\n",
       "      <td>0</td>\n",
       "      <td>0</td>\n",
       "      <td>0</td>\n",
       "      <td>0</td>\n",
       "      <td>1</td>\n",
       "      <td>1</td>\n",
       "    </tr>\n",
       "  </tbody>\n",
       "</table>\n",
       "</div>"
      ],
      "text/plain": [
       "GO       Entry GO:0003677 GO:0003700 GO:0008233 GO:0016301 GO:0016491  \\\n",
       "0   1001070715          0          0          0          1          0   \n",
       "1   1001070719          1          1          0          0          0   \n",
       "2   1001070730          0          0          0          0          0   \n",
       "3   1001070731          0          0          0          0          0   \n",
       "4   1001070732          0          0          0          0          0   \n",
       "\n",
       "GO GO:0019899 GO:0043167  \n",
       "0           0          1  \n",
       "1           0          0  \n",
       "2           0          1  \n",
       "3           1          1  \n",
       "4           1          1  "
      ]
     },
     "execution_count": 19,
     "metadata": {},
     "output_type": "execute_result"
    }
   ],
   "source": [
    "## matriz para ver intersecciones entre terminos\n",
    "up_function=transcritos_go_term[transcritos_go_term.Aspect.str.contains(\"F\")==True]\n",
    "upset_function=up_function.pivot_table(values=\"Term\",index=[\"Entry\"],aggfunc=len,columns=\"GO\").fillna('0').reset_index()\n",
    "upset_function.to_csv('./results/Molecular_Function_matrix.csv',index=None)\n",
    "upset_function.head()"
   ]
  },
  {
   "cell_type": "markdown",
   "metadata": {},
   "source": [
    "## Proceso biologico"
   ]
  },
  {
   "cell_type": "code",
   "execution_count": 20,
   "metadata": {},
   "outputs": [
    {
     "data": {
      "text/html": [
       "<div>\n",
       "<style>\n",
       "    .dataframe thead tr:only-child th {\n",
       "        text-align: right;\n",
       "    }\n",
       "\n",
       "    .dataframe thead th {\n",
       "        text-align: left;\n",
       "    }\n",
       "\n",
       "    .dataframe tbody tr th {\n",
       "        vertical-align: top;\n",
       "    }\n",
       "</style>\n",
       "<table border=\"1\" class=\"dataframe\">\n",
       "  <thead>\n",
       "    <tr style=\"text-align: right;\">\n",
       "      <th></th>\n",
       "      <th>GO</th>\n",
       "      <th>Biological Process</th>\n",
       "      <th>Entry</th>\n",
       "      <th>Value</th>\n",
       "    </tr>\n",
       "  </thead>\n",
       "  <tbody>\n",
       "    <tr>\n",
       "      <th>0</th>\n",
       "      <td>GO:0006464</td>\n",
       "      <td>cellular protein modification process</td>\n",
       "      <td>7</td>\n",
       "      <td>7</td>\n",
       "    </tr>\n",
       "    <tr>\n",
       "      <th>1</th>\n",
       "      <td>GO:0009058</td>\n",
       "      <td>biosynthetic process</td>\n",
       "      <td>3</td>\n",
       "      <td>3</td>\n",
       "    </tr>\n",
       "    <tr>\n",
       "      <th>2</th>\n",
       "      <td>GO:0034641</td>\n",
       "      <td>cellular nitrogen compound metabolic process</td>\n",
       "      <td>3</td>\n",
       "      <td>3</td>\n",
       "    </tr>\n",
       "    <tr>\n",
       "      <th>3</th>\n",
       "      <td>GO:0006259</td>\n",
       "      <td>DNA metabolic process</td>\n",
       "      <td>2</td>\n",
       "      <td>2</td>\n",
       "    </tr>\n",
       "    <tr>\n",
       "      <th>4</th>\n",
       "      <td>GO:0006950</td>\n",
       "      <td>response to stress</td>\n",
       "      <td>2</td>\n",
       "      <td>2</td>\n",
       "    </tr>\n",
       "  </tbody>\n",
       "</table>\n",
       "</div>"
      ],
      "text/plain": [
       "           GO                            Biological Process  Entry  Value\n",
       "0  GO:0006464         cellular protein modification process      7      7\n",
       "1  GO:0009058                          biosynthetic process      3      3\n",
       "2  GO:0034641  cellular nitrogen compound metabolic process      3      3\n",
       "3  GO:0006259                         DNA metabolic process      2      2\n",
       "4  GO:0006950                            response to stress      2      2"
      ]
     },
     "execution_count": 20,
     "metadata": {},
     "output_type": "execute_result"
    }
   ],
   "source": [
    "## Biological Process\n",
    "pros=transcritos_go_term[['Entry','GO','Term','Aspect']].groupby(['Aspect']).get_group('P')\n",
    "process=pros.groupby(['GO','Term']).count().reset_index().rename(columns={\"Term\": \"Biological Process\",\"Aspect\": \"Value\"}).sort_values(by ='Value',ascending=False).reset_index(drop=True)\n",
    "process.to_csv('./results/Biological_Process.csv',index=None)\n",
    "process.head()"
   ]
  },
  {
   "cell_type": "code",
   "execution_count": 21,
   "metadata": {},
   "outputs": [
    {
     "data": {
      "text/html": [
       "<div>\n",
       "<style>\n",
       "    .dataframe thead tr:only-child th {\n",
       "        text-align: right;\n",
       "    }\n",
       "\n",
       "    .dataframe thead th {\n",
       "        text-align: left;\n",
       "    }\n",
       "\n",
       "    .dataframe tbody tr th {\n",
       "        vertical-align: top;\n",
       "    }\n",
       "</style>\n",
       "<table border=\"1\" class=\"dataframe\">\n",
       "  <thead>\n",
       "    <tr style=\"text-align: right;\">\n",
       "      <th>GO</th>\n",
       "      <th>Entry</th>\n",
       "      <th>GO:0006259</th>\n",
       "      <th>GO:0006464</th>\n",
       "      <th>GO:0006950</th>\n",
       "      <th>GO:0007165</th>\n",
       "      <th>GO:0008219</th>\n",
       "      <th>GO:0009058</th>\n",
       "      <th>GO:0022607</th>\n",
       "      <th>GO:0034641</th>\n",
       "      <th>GO:0048856</th>\n",
       "      <th>GO:0051276</th>\n",
       "    </tr>\n",
       "  </thead>\n",
       "  <tbody>\n",
       "    <tr>\n",
       "      <th>0</th>\n",
       "      <td>1001070713</td>\n",
       "      <td>0</td>\n",
       "      <td>0</td>\n",
       "      <td>0</td>\n",
       "      <td>0</td>\n",
       "      <td>0</td>\n",
       "      <td>0</td>\n",
       "      <td>0</td>\n",
       "      <td>0</td>\n",
       "      <td>0</td>\n",
       "      <td>1</td>\n",
       "    </tr>\n",
       "    <tr>\n",
       "      <th>1</th>\n",
       "      <td>1001070714</td>\n",
       "      <td>0</td>\n",
       "      <td>0</td>\n",
       "      <td>0</td>\n",
       "      <td>0</td>\n",
       "      <td>0</td>\n",
       "      <td>0</td>\n",
       "      <td>0</td>\n",
       "      <td>0</td>\n",
       "      <td>0</td>\n",
       "      <td>1</td>\n",
       "    </tr>\n",
       "    <tr>\n",
       "      <th>2</th>\n",
       "      <td>1001070715</td>\n",
       "      <td>0</td>\n",
       "      <td>1</td>\n",
       "      <td>0</td>\n",
       "      <td>1</td>\n",
       "      <td>0</td>\n",
       "      <td>0</td>\n",
       "      <td>0</td>\n",
       "      <td>0</td>\n",
       "      <td>0</td>\n",
       "      <td>0</td>\n",
       "    </tr>\n",
       "    <tr>\n",
       "      <th>3</th>\n",
       "      <td>1001070719</td>\n",
       "      <td>0</td>\n",
       "      <td>0</td>\n",
       "      <td>0</td>\n",
       "      <td>0</td>\n",
       "      <td>0</td>\n",
       "      <td>1</td>\n",
       "      <td>0</td>\n",
       "      <td>1</td>\n",
       "      <td>0</td>\n",
       "      <td>0</td>\n",
       "    </tr>\n",
       "    <tr>\n",
       "      <th>4</th>\n",
       "      <td>1001070731</td>\n",
       "      <td>1</td>\n",
       "      <td>1</td>\n",
       "      <td>1</td>\n",
       "      <td>0</td>\n",
       "      <td>0</td>\n",
       "      <td>0</td>\n",
       "      <td>0</td>\n",
       "      <td>0</td>\n",
       "      <td>0</td>\n",
       "      <td>0</td>\n",
       "    </tr>\n",
       "  </tbody>\n",
       "</table>\n",
       "</div>"
      ],
      "text/plain": [
       "GO       Entry GO:0006259 GO:0006464 GO:0006950 GO:0007165 GO:0008219  \\\n",
       "0   1001070713          0          0          0          0          0   \n",
       "1   1001070714          0          0          0          0          0   \n",
       "2   1001070715          0          1          0          1          0   \n",
       "3   1001070719          0          0          0          0          0   \n",
       "4   1001070731          1          1          1          0          0   \n",
       "\n",
       "GO GO:0009058 GO:0022607 GO:0034641 GO:0048856 GO:0051276  \n",
       "0           0          0          0          0          1  \n",
       "1           0          0          0          0          1  \n",
       "2           0          0          0          0          0  \n",
       "3           1          0          1          0          0  \n",
       "4           0          0          0          0          0  "
      ]
     },
     "execution_count": 21,
     "metadata": {},
     "output_type": "execute_result"
    }
   ],
   "source": [
    "## matriz para ver intersecciones entre terminos\n",
    "up_process=transcritos_go_term[transcritos_go_term.Aspect.str.contains(\"P\")==True]\n",
    "upset_process=up_process.pivot_table(values=\"Term\",index=[\"Entry\"],aggfunc=len,columns=\"GO\").fillna('0').reset_index()\n",
    "upset_process.to_csv('./results/Biological_Process_matrix.csv',index=None)\n",
    "upset_process.head()"
   ]
  },
  {
   "cell_type": "markdown",
   "metadata": {},
   "source": [
    "## Componente celular"
   ]
  },
  {
   "cell_type": "code",
   "execution_count": 22,
   "metadata": {},
   "outputs": [
    {
     "data": {
      "text/html": [
       "<div>\n",
       "<style>\n",
       "    .dataframe thead tr:only-child th {\n",
       "        text-align: right;\n",
       "    }\n",
       "\n",
       "    .dataframe thead th {\n",
       "        text-align: left;\n",
       "    }\n",
       "\n",
       "    .dataframe tbody tr th {\n",
       "        vertical-align: top;\n",
       "    }\n",
       "</style>\n",
       "<table border=\"1\" class=\"dataframe\">\n",
       "  <thead>\n",
       "    <tr style=\"text-align: right;\">\n",
       "      <th></th>\n",
       "      <th>GO</th>\n",
       "      <th>Cellular Component</th>\n",
       "      <th>Entry</th>\n",
       "      <th>Value</th>\n",
       "    </tr>\n",
       "  </thead>\n",
       "  <tbody>\n",
       "    <tr>\n",
       "      <th>0</th>\n",
       "      <td>GO:0005634</td>\n",
       "      <td>nucleus</td>\n",
       "      <td>5</td>\n",
       "      <td>5</td>\n",
       "    </tr>\n",
       "    <tr>\n",
       "      <th>1</th>\n",
       "      <td>GO:0000228</td>\n",
       "      <td>nuclear chromosome</td>\n",
       "      <td>2</td>\n",
       "      <td>2</td>\n",
       "    </tr>\n",
       "    <tr>\n",
       "      <th>2</th>\n",
       "      <td>GO:0005730</td>\n",
       "      <td>nucleolus</td>\n",
       "      <td>2</td>\n",
       "      <td>2</td>\n",
       "    </tr>\n",
       "    <tr>\n",
       "      <th>3</th>\n",
       "      <td>GO:0032991</td>\n",
       "      <td>protein-containing complex</td>\n",
       "      <td>2</td>\n",
       "      <td>2</td>\n",
       "    </tr>\n",
       "    <tr>\n",
       "      <th>4</th>\n",
       "      <td>GO:0005622</td>\n",
       "      <td>intracellular</td>\n",
       "      <td>1</td>\n",
       "      <td>1</td>\n",
       "    </tr>\n",
       "  </tbody>\n",
       "</table>\n",
       "</div>"
      ],
      "text/plain": [
       "           GO          Cellular Component  Entry  Value\n",
       "0  GO:0005634                     nucleus      5      5\n",
       "1  GO:0000228          nuclear chromosome      2      2\n",
       "2  GO:0005730                   nucleolus      2      2\n",
       "3  GO:0032991  protein-containing complex      2      2\n",
       "4  GO:0005622               intracellular      1      1"
      ]
     },
     "execution_count": 22,
     "metadata": {},
     "output_type": "execute_result"
    }
   ],
   "source": [
    "## Cellular Component\n",
    "comp=transcritos_go_term[['Entry','GO','Term','Aspect']].groupby(['Aspect']).get_group('C')\n",
    "component=comp.groupby(['GO','Term']).count().reset_index().rename(columns={\"Term\": \"Cellular Component\",\"Aspect\": \"Value\"}).sort_values(by ='Value',ascending=False).reset_index(drop=True)\n",
    "component.to_csv('./results/Cellular_Component.csv',index=None)\n",
    "component.head()"
   ]
  },
  {
   "cell_type": "code",
   "execution_count": 23,
   "metadata": {},
   "outputs": [
    {
     "data": {
      "text/html": [
       "<div>\n",
       "<style>\n",
       "    .dataframe thead tr:only-child th {\n",
       "        text-align: right;\n",
       "    }\n",
       "\n",
       "    .dataframe thead th {\n",
       "        text-align: left;\n",
       "    }\n",
       "\n",
       "    .dataframe tbody tr th {\n",
       "        vertical-align: top;\n",
       "    }\n",
       "</style>\n",
       "<table border=\"1\" class=\"dataframe\">\n",
       "  <thead>\n",
       "    <tr style=\"text-align: right;\">\n",
       "      <th>GO</th>\n",
       "      <th>Entry</th>\n",
       "      <th>GO:0000228</th>\n",
       "      <th>GO:0005622</th>\n",
       "      <th>GO:0005634</th>\n",
       "      <th>GO:0005730</th>\n",
       "      <th>GO:0005737</th>\n",
       "      <th>GO:0032991</th>\n",
       "    </tr>\n",
       "  </thead>\n",
       "  <tbody>\n",
       "    <tr>\n",
       "      <th>0</th>\n",
       "      <td>1001070713</td>\n",
       "      <td>1</td>\n",
       "      <td>0</td>\n",
       "      <td>0</td>\n",
       "      <td>0</td>\n",
       "      <td>0</td>\n",
       "      <td>1</td>\n",
       "    </tr>\n",
       "    <tr>\n",
       "      <th>1</th>\n",
       "      <td>1001070714</td>\n",
       "      <td>1</td>\n",
       "      <td>0</td>\n",
       "      <td>0</td>\n",
       "      <td>0</td>\n",
       "      <td>0</td>\n",
       "      <td>1</td>\n",
       "    </tr>\n",
       "    <tr>\n",
       "      <th>2</th>\n",
       "      <td>1001070715</td>\n",
       "      <td>0</td>\n",
       "      <td>1</td>\n",
       "      <td>0</td>\n",
       "      <td>0</td>\n",
       "      <td>0</td>\n",
       "      <td>0</td>\n",
       "    </tr>\n",
       "    <tr>\n",
       "      <th>3</th>\n",
       "      <td>1001070719</td>\n",
       "      <td>0</td>\n",
       "      <td>0</td>\n",
       "      <td>1</td>\n",
       "      <td>0</td>\n",
       "      <td>0</td>\n",
       "      <td>0</td>\n",
       "    </tr>\n",
       "    <tr>\n",
       "      <th>4</th>\n",
       "      <td>1001070731</td>\n",
       "      <td>0</td>\n",
       "      <td>0</td>\n",
       "      <td>1</td>\n",
       "      <td>1</td>\n",
       "      <td>0</td>\n",
       "      <td>0</td>\n",
       "    </tr>\n",
       "  </tbody>\n",
       "</table>\n",
       "</div>"
      ],
      "text/plain": [
       "GO       Entry GO:0000228 GO:0005622 GO:0005634 GO:0005730 GO:0005737  \\\n",
       "0   1001070713          1          0          0          0          0   \n",
       "1   1001070714          1          0          0          0          0   \n",
       "2   1001070715          0          1          0          0          0   \n",
       "3   1001070719          0          0          1          0          0   \n",
       "4   1001070731          0          0          1          1          0   \n",
       "\n",
       "GO GO:0032991  \n",
       "0           1  \n",
       "1           1  \n",
       "2           0  \n",
       "3           0  \n",
       "4           0  "
      ]
     },
     "execution_count": 23,
     "metadata": {},
     "output_type": "execute_result"
    }
   ],
   "source": [
    "## matriz para ver intersecciones entre terminos\n",
    "up_component=transcritos_go_term[transcritos_go_term.Aspect.str.contains(\"C\")==True]\n",
    "upset_component=up_component.pivot_table(values=\"Term\",index=[\"Entry\"],aggfunc=len,columns=\"GO\").fillna('0').reset_index()\n",
    "upset_component.to_csv('./results/Cellular_Component_matrix.csv',index=None)\n",
    "upset_component.head()"
   ]
  },
  {
   "cell_type": "markdown",
   "metadata": {},
   "source": [
    "## 5.- Transcritos anotados y no anotados"
   ]
  },
  {
   "cell_type": "code",
   "execution_count": 24,
   "metadata": {
    "collapsed": true
   },
   "outputs": [],
   "source": [
    "all_go=pd.read_csv('./data/all_go.txt',sep='\\t',names=['GO','Term','Aspect'])\n",
    "transcritos_anotados=pd.merge(transcrito_go,all_go,on=\"GO\",how='left').drop_duplicates()"
   ]
  },
  {
   "cell_type": "code",
   "execution_count": 25,
   "metadata": {
    "scrolled": true
   },
   "outputs": [
    {
     "name": "stdout",
     "output_type": "stream",
     "text": [
      "Transcritos no anotados:  4 \n",
      "\n",
      "         qacc\n",
      "0  1001070746\n",
      "1  1001070743\n",
      "2  1001070741\n",
      "3  1001070733\n"
     ]
    }
   ],
   "source": [
    "## de todas las proteinas sabemos cuantas tienen anotacion en Uniprot\n",
    "nan=transcritos_anotados[transcritos_anotados['GO'].isnull()].reset_index(drop=True) ## proteinas que no tienen GO\n",
    "print('Transcritos no anotados: ',nan['qacc'].drop_duplicates().count(),'\\n')\n",
    "print(nan[['qacc']].head())"
   ]
  },
  {
   "cell_type": "code",
   "execution_count": 26,
   "metadata": {},
   "outputs": [
    {
     "name": "stdout",
     "output_type": "stream",
     "text": [
      "Transcritos anotados:  19 \n",
      "\n",
      "         qacc\n",
      "0  1001070759\n",
      "1  1001070759\n",
      "2  1001070759\n",
      "3  1001070755\n",
      "4  1001070755 \n",
      ".......\n"
     ]
    }
   ],
   "source": [
    "## solo las proteinas que tienen GO\n",
    "no_nan=transcritos_anotados[transcritos_anotados['GO'].notnull()].reset_index(drop=True) \n",
    "print('Transcritos anotados: ',no_nan['qacc'].drop_duplicates().count(),'\\n')\n",
    "print(no_nan[['qacc']].head(),'\\n.......')"
   ]
  },
  {
   "cell_type": "code",
   "execution_count": 27,
   "metadata": {},
   "outputs": [
    {
     "data": {
      "text/plain": [
       "Without GO     4\n",
       "Whith GO      19\n",
       "dtype: int64"
      ]
     },
     "execution_count": 27,
     "metadata": {},
     "output_type": "execute_result"
    }
   ],
   "source": [
    "sin_con=[nan['qacc'].drop_duplicates().reset_index(drop=True).rename(),no_nan['qacc'].drop_duplicates().reset_index(drop=True).rename()]\n",
    "singo_congo=pd.concat(sin_con, axis=1,ignore_index=False).rename(columns={0:'Without GO',1:'Whith GO'},index=str, inplace=False)\n",
    "singo_congo.count().to_csv('./results//Anotadas.csv')\n",
    "singo_congo[['Without GO','Whith GO']].count()"
   ]
  },
  {
   "cell_type": "code",
   "execution_count": 28,
   "metadata": {},
   "outputs": [
    {
     "name": "stdout",
     "output_type": "stream",
     "text": [
      "Total de terminos por categoria\n",
      "\n",
      "Aspect\n",
      "F    17\n",
      "C    10\n",
      "P    15\n",
      "dtype: int64\n"
     ]
    }
   ],
   "source": [
    "sin_nan=transcritos_anotados[['qacc','GO','Term','Aspect']].drop_duplicates()\n",
    "frec=sin_nan.pivot_table(values=\"GO\",index=[\"qacc\"],aggfunc=len,columns=\"Aspect\").reset_index()\n",
    "frec#.to_csv('./results/Categories_frequences.csv',header=True,index=None)\n",
    "frec[['F','C','P']].count().to_csv('./results/Total_categories_CFP.csv',header=None)\n",
    "print('Total de terminos por categoria\\n')\n",
    "print(frec[['F','C','P']].count())"
   ]
  },
  {
   "cell_type": "code",
   "execution_count": null,
   "metadata": {
    "collapsed": true
   },
   "outputs": [],
   "source": []
  },
  {
   "cell_type": "code",
   "execution_count": 29,
   "metadata": {},
   "outputs": [
    {
     "data": {
      "text/html": [
       "<div>\n",
       "<style>\n",
       "    .dataframe thead tr:only-child th {\n",
       "        text-align: right;\n",
       "    }\n",
       "\n",
       "    .dataframe thead th {\n",
       "        text-align: left;\n",
       "    }\n",
       "\n",
       "    .dataframe tbody tr th {\n",
       "        vertical-align: top;\n",
       "    }\n",
       "</style>\n",
       "<table border=\"1\" class=\"dataframe\">\n",
       "  <thead>\n",
       "    <tr style=\"text-align: right;\">\n",
       "      <th></th>\n",
       "      <th>Process</th>\n",
       "      <th>Function</th>\n",
       "      <th>Component</th>\n",
       "    </tr>\n",
       "  </thead>\n",
       "  <tbody>\n",
       "    <tr>\n",
       "      <th>0</th>\n",
       "      <td>NaN</td>\n",
       "      <td>1.001071e+09</td>\n",
       "      <td>NaN</td>\n",
       "    </tr>\n",
       "    <tr>\n",
       "      <th>1</th>\n",
       "      <td>NaN</td>\n",
       "      <td>1.001071e+09</td>\n",
       "      <td>NaN</td>\n",
       "    </tr>\n",
       "    <tr>\n",
       "      <th>2</th>\n",
       "      <td>NaN</td>\n",
       "      <td>1.001071e+09</td>\n",
       "      <td>NaN</td>\n",
       "    </tr>\n",
       "    <tr>\n",
       "      <th>3</th>\n",
       "      <td>NaN</td>\n",
       "      <td>1.001071e+09</td>\n",
       "      <td>NaN</td>\n",
       "    </tr>\n",
       "    <tr>\n",
       "      <th>4</th>\n",
       "      <td>NaN</td>\n",
       "      <td>1.001071e+09</td>\n",
       "      <td>NaN</td>\n",
       "    </tr>\n",
       "  </tbody>\n",
       "</table>\n",
       "</div>"
      ],
      "text/plain": [
       "   Process      Function  Component\n",
       "0      NaN  1.001071e+09        NaN\n",
       "1      NaN  1.001071e+09        NaN\n",
       "2      NaN  1.001071e+09        NaN\n",
       "3      NaN  1.001071e+09        NaN\n",
       "4      NaN  1.001071e+09        NaN"
      ]
     },
     "execution_count": 29,
     "metadata": {},
     "output_type": "execute_result"
    }
   ],
   "source": [
    "## Archivo para generar un diagrama de Venn, intersecciones entre categorias, total de proteinas por categoria\n",
    "ff=transcritos_anotados[transcritos_anotados.Aspect.str.contains(\"F\")==True]\n",
    "pp=transcritos_anotados[transcritos_anotados.Aspect.str.contains(\"P\")==True]\n",
    "cc=transcritos_anotados[transcritos_anotados.Aspect.str.contains(\"C\")==True]\n",
    "cats=[pp[['qacc']],ff[['qacc']],cc[['qacc']]]\n",
    "categorias=pd.concat(cats, axis=1, ignore_index=True).rename(columns={0:\"Process\",1:'Function',2:'Component'},index=str).reset_index(drop=True)\n",
    "categorias.to_csv('./results/cats.csv',index=None) \n",
    "categorias.head()"
   ]
  },
  {
   "cell_type": "code",
   "execution_count": null,
   "metadata": {
    "collapsed": true
   },
   "outputs": [],
   "source": []
  },
  {
   "cell_type": "code",
   "execution_count": null,
   "metadata": {
    "collapsed": true
   },
   "outputs": [],
   "source": []
  },
  {
   "cell_type": "code",
   "execution_count": null,
   "metadata": {
    "collapsed": true
   },
   "outputs": [],
   "source": []
  },
  {
   "cell_type": "code",
   "execution_count": null,
   "metadata": {
    "collapsed": true
   },
   "outputs": [],
   "source": []
  }
 ],
 "metadata": {
  "kernelspec": {
   "display_name": "Python [default]",
   "language": "python",
   "name": "python3"
  },
  "language_info": {
   "codemirror_mode": {
    "name": "ipython",
    "version": 3
   },
   "file_extension": ".py",
   "mimetype": "text/x-python",
   "name": "python",
   "nbconvert_exporter": "python",
   "pygments_lexer": "ipython3",
   "version": "3.5.3"
  }
 },
 "nbformat": 4,
 "nbformat_minor": 2
}
