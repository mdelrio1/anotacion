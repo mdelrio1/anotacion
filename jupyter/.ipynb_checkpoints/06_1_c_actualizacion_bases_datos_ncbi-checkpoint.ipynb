{
 "cells": [
  {
   "cell_type": "markdown",
   "metadata": {},
   "source": [
    "# Actualización de las bases de datos del NCBI"
   ]
  },
  {
   "cell_type": "markdown",
   "metadata": {},
   "source": [
    "### Se requiere tener instalado el blast\n",
    "https://blast.ncbi.nlm.nih.gov/Blast.cgi?CMD=Web&PAGE_TYPE=BlastDocs&DOC_TYPE=Download\n",
    "ejecutar en el cmd\n",
    "blastn -version\n",
    "\n",
    "### se requiere tener instalado el lenguaje perl\n",
    "https://www.perl.org\n",
    "ejecutar en el cmd\n",
    "perl -version \n",
    "\n"
   ]
  },
  {
   "cell_type": "markdown",
   "metadata": {},
   "source": [
    "### se actualiza la base de datos utilizando un comando de perl"
   ]
  },
  {
   "cell_type": "code",
   "execution_count": 1,
   "metadata": {},
   "outputs": [],
   "source": [
    "import os"
   ]
  },
  {
   "cell_type": "code",
   "execution_count": 2,
   "metadata": {},
   "outputs": [
    {
     "name": "stdout",
     "output_type": "stream",
     "text": [
      "/Users/migueldelrio/Desktop/bigdata\n"
     ]
    }
   ],
   "source": [
    "cd ~/Desktop/bigdata/"
   ]
  },
  {
   "cell_type": "markdown",
   "metadata": {},
   "source": [
    "## verificar que está el archivo\n",
    "`update_blastdb.pl`\n"
   ]
  },
  {
   "cell_type": "markdown",
   "metadata": {},
   "source": [
    "### En el servidor está en \n",
    "### `/home/jupyter/miniconda3/bin`\n",
    "#### para buscar un archivo se usa\n",
    "`which update_blastdb.pl`\n",
    "`whereis update_blastdb.pl`"
   ]
  },
  {
   "cell_type": "code",
   "execution_count": 3,
   "metadata": {},
   "outputs": [
    {
     "name": "stdout",
     "output_type": "stream",
     "text": [
      "\u001b[34m16SMicrobial\u001b[m\u001b[m/                      onco.nog\r\n",
      "\u001b[34mAnoplopoma_fimbria_genome\u001b[m\u001b[m/         onco.nsd\r\n",
      "Oncorhynchus_mykiss20170228.fasta  onco.nsi\r\n",
      "UniProtKB_completo.pdf             onco.nsq\r\n",
      "UniProtKB_completo20180912.pdf     spidgo.csv\r\n",
      "UniProtKB_completo20180912.txt.gz  \u001b[34mswissprot\u001b[m\u001b[m/\r\n",
      "UniProtKB_completo_base.pdf        taxdb.btd\r\n",
      "UniProtKB_default.pdf              taxdb.bti\r\n",
      "UniProtKB_default_base.pdf         \u001b[34mtruchasbigdata\u001b[m\u001b[m/\r\n",
      "\u001b[34mb_platifrons\u001b[m\u001b[m/                      uniprot-reviewed.tab.txt\r\n",
      "\u001b[34mbacalao_genoma\u001b[m\u001b[m/                    uniprot-reviewed.txt\r\n",
      "ec-5.4.2.2.txt                     uniprot-semicompleto.tab.gz\r\n",
      "\u001b[31mgo_to_goslim.csv\u001b[m\u001b[m*                  uniprot.fasta\r\n",
      "keywlist.txt                       uniprot.txt\r\n",
      "\u001b[34mm_galloprovincialis\u001b[m\u001b[m/               uniprot_completo.tab.gz\r\n",
      "\u001b[34mm_menidia\u001b[m\u001b[m/                         uniprot_sprot.dat.gz\r\n",
      "\u001b[34mm_philippinarum\u001b[m\u001b[m/                   uniprot_sprot.phr\r\n",
      "\u001b[34mnt\u001b[m\u001b[m/                                uniprot_sprot.pin\r\n",
      "\u001b[34mo_bimaculoides\u001b[m\u001b[m/                    uniprot_sprot.psq\r\n",
      "onco.nhr                           uniprot_tab.xlsx\r\n",
      "onco.nin                           uniprotkb_completo.xml.gz\r\n"
     ]
    }
   ],
   "source": [
    "ls"
   ]
  },
  {
   "cell_type": "code",
   "execution_count": 4,
   "metadata": {
    "scrolled": false
   },
   "outputs": [
    {
     "name": "stdout",
     "output_type": "stream",
     "text": [
      "\u001b[31m/Users/migueldelrio/anaconda3/pkgs/blast-2.6.0-boost1.64_2/bin/update_blastdb.pl\u001b[m\u001b[m*\r\n"
     ]
    }
   ],
   "source": [
    "ls /Users/migueldelrio/anaconda3/pkgs/blast-2.6.0-boost1.64_2/bin/up*"
   ]
  },
  {
   "cell_type": "code",
   "execution_count": 5,
   "metadata": {},
   "outputs": [],
   "source": [
    "os.makedirs('16SMicrobial',exist_ok=True)"
   ]
  },
  {
   "cell_type": "code",
   "execution_count": 1,
   "metadata": {},
   "outputs": [
    {
     "name": "stdout",
     "output_type": "stream",
     "text": [
      "/Users/migueldelrio/Desktop/bigdata/16SMicrobial\n"
     ]
    }
   ],
   "source": [
    "cd ~/Desktop/bigdata/16SMicrobial"
   ]
  },
  {
   "cell_type": "raw",
   "metadata": {},
   "source": [
    "!perl ~/aplicaciones/update_blastdb.pl --passive 16SMicrobial"
   ]
  },
  {
   "cell_type": "code",
   "execution_count": 2,
   "metadata": {},
   "outputs": [
    {
     "name": "stdout",
     "output_type": "stream",
     "text": [
      "Can't locate List/MoreUtils.pm in @INC (you may need to install the List::MoreUtils module) (@INC contains: /Users/migueldelrio/anaconda3/lib/site_perl/5.26.2/darwin-thread-multi-2level /Users/migueldelrio/anaconda3/lib/site_perl/5.26.2 /Users/migueldelrio/anaconda3/lib/5.26.2/darwin-thread-multi-2level /Users/migueldelrio/anaconda3/lib/5.26.2 .) at /Users/migueldelrio/anaconda3/pkgs/blast-2.6.0-boost1.64_2/bin/update_blastdb.pl line 43.\r\n",
      "BEGIN failed--compilation aborted at /Users/migueldelrio/anaconda3/pkgs/blast-2.6.0-boost1.64_2/bin/update_blastdb.pl line 43.\r\n"
     ]
    }
   ],
   "source": [
    "!perl /Users/migueldelrio/anaconda3/pkgs/blast-2.6.0-boost1.64_2/bin/update_blastdb.pl --passive 16SMicrobial"
   ]
  },
  {
   "cell_type": "markdown",
   "metadata": {},
   "source": [
    "En caso de no poder instalar mediante el `update_blastdb.pl` se descarga el archivo directamente desde la página del NCBI"
   ]
  },
  {
   "cell_type": "markdown",
   "metadata": {},
   "source": [
    "![](/Users/migueldelrio/Desktop/curso/jupyter/img/ncbi_descarga_bd.png)"
   ]
  },
  {
   "cell_type": "markdown",
   "metadata": {},
   "source": [
    "![](/Users/migueldelrio/Desktop/analisis/img/Gel.jpg)"
   ]
  },
  {
   "cell_type": "code",
   "execution_count": 3,
   "metadata": {},
   "outputs": [
    {
     "name": "stdout",
     "output_type": "stream",
     "text": [
      "/Users/migueldelrio/Desktop/curso/jupyter/img/ncbi_descarga_bd.png\r\n"
     ]
    }
   ],
   "source": [
    "ls /Users/migueldelrio/Desktop/curso/jupyter/img/n*"
   ]
  },
  {
   "cell_type": "code",
   "execution_count": 17,
   "metadata": {},
   "outputs": [
    {
     "name": "stdout",
     "output_type": "stream",
     "text": [
      "16SMicrobial.nhr         16SMicrobial.nog         16SMicrobial.tar.gz\r\n",
      "16SMicrobial.nin         16SMicrobial.nsd         16SMicrobial.tar.gz.md5\r\n",
      "16SMicrobial.nnd         16SMicrobial.nsi         taxdb.btd\r\n",
      "16SMicrobial.nni         16SMicrobial.nsq         taxdb.bti\r\n"
     ]
    }
   ],
   "source": [
    "ls /Users/migueldelrio/Desktop/bigdata/16SMicrobial/"
   ]
  },
  {
   "cell_type": "code",
   "execution_count": 18,
   "metadata": {},
   "outputs": [
    {
     "name": "stderr",
     "output_type": "stream",
     "text": [
      "x 16SMicrobial.nhr\n",
      "x 16SMicrobial.nin\n",
      "x 16SMicrobial.nnd\n",
      "x 16SMicrobial.nni\n",
      "x 16SMicrobial.nog\n",
      "x 16SMicrobial.nsd\n",
      "x 16SMicrobial.nsi\n",
      "x 16SMicrobial.nsq\n",
      "x taxdb.btd\n",
      "x taxdb.bti\n"
     ]
    }
   ],
   "source": [
    "%%bash\n",
    "gunzip 16SMicrobial.tar.gz\n",
    "tar xvf  16SMicrobial.tar"
   ]
  },
  {
   "cell_type": "code",
   "execution_count": 19,
   "metadata": {},
   "outputs": [
    {
     "name": "stdout",
     "output_type": "stream",
     "text": [
      "total 580784\r\n",
      "-rw-r--r--  1 migueldelrio  staff   3.2M Oct  6 23:05 16SMicrobial.nhr\r\n",
      "-rw-r--r--  1 migueldelrio  staff   240K Oct  6 23:05 16SMicrobial.nin\r\n",
      "-rw-r--r--  1 migueldelrio  staff   162K Oct  6 23:05 16SMicrobial.nnd\r\n",
      "-rw-r--r--  1 migueldelrio  staff   700B Oct  6 23:05 16SMicrobial.nni\r\n",
      "-rw-r--r--  1 migueldelrio  staff    80K Oct  6 23:05 16SMicrobial.nog\r\n",
      "-rw-r--r--  1 migueldelrio  staff   667K Oct  6 23:05 16SMicrobial.nsd\r\n",
      "-rw-r--r--  1 migueldelrio  staff    15K Oct  6 23:05 16SMicrobial.nsi\r\n",
      "-rw-r--r--  1 migueldelrio  staff   7.2M Oct  6 23:05 16SMicrobial.nsq\r\n",
      "-r--------  1 migueldelrio  staff   142M Oct  7 04:05 16SMicrobial.tar\r\n",
      "-r--------@ 1 migueldelrio  staff    54B Oct  7 04:06 16SMicrobial.tar.gz.md5\r\n",
      "-rw-r--r--  1 migueldelrio  staff   118M Oct  6 23:05 taxdb.btd\r\n",
      "-rw-r--r--  1 migueldelrio  staff    13M Oct  6 23:05 taxdb.bti\r\n"
     ]
    }
   ],
   "source": [
    "ls -lh"
   ]
  },
  {
   "cell_type": "code",
   "execution_count": 21,
   "metadata": {},
   "outputs": [
    {
     "name": "stdout",
     "output_type": "stream",
     "text": [
      "override r--------  migueldelrio/staff for 16SMicrobial.tar.gz.md5? ^C\n"
     ]
    }
   ],
   "source": [
    "!rm 16SMicrobial.tar.gz.md5"
   ]
  },
  {
   "cell_type": "code",
   "execution_count": 22,
   "metadata": {},
   "outputs": [
    {
     "name": "stdout",
     "output_type": "stream",
     "text": [
      "total 580784\r\n",
      "-rw-r--r--  1 migueldelrio  staff   3.2M Oct  6 23:05 16SMicrobial.nhr\r\n",
      "-rw-r--r--  1 migueldelrio  staff   240K Oct  6 23:05 16SMicrobial.nin\r\n",
      "-rw-r--r--  1 migueldelrio  staff   162K Oct  6 23:05 16SMicrobial.nnd\r\n",
      "-rw-r--r--  1 migueldelrio  staff   700B Oct  6 23:05 16SMicrobial.nni\r\n",
      "-rw-r--r--  1 migueldelrio  staff    80K Oct  6 23:05 16SMicrobial.nog\r\n",
      "-rw-r--r--  1 migueldelrio  staff   667K Oct  6 23:05 16SMicrobial.nsd\r\n",
      "-rw-r--r--  1 migueldelrio  staff    15K Oct  6 23:05 16SMicrobial.nsi\r\n",
      "-rw-r--r--  1 migueldelrio  staff   7.2M Oct  6 23:05 16SMicrobial.nsq\r\n",
      "-r--------  1 migueldelrio  staff   142M Oct  7 04:05 16SMicrobial.tar\r\n",
      "-r--------@ 1 migueldelrio  staff    54B Oct  7 04:06 16SMicrobial.tar.gz.md5\r\n",
      "-rw-r--r--  1 migueldelrio  staff   118M Oct  6 23:05 taxdb.btd\r\n",
      "-rw-r--r--  1 migueldelrio  staff    13M Oct  6 23:05 taxdb.bti\r\n"
     ]
    }
   ],
   "source": [
    "ls -lh"
   ]
  },
  {
   "cell_type": "code",
   "execution_count": 23,
   "metadata": {},
   "outputs": [
    {
     "name": "stdout",
     "output_type": "stream",
     "text": [
      "/Users/migueldelrio/Desktop/bigdata\n"
     ]
    }
   ],
   "source": [
    "cd .."
   ]
  },
  {
   "cell_type": "markdown",
   "metadata": {},
   "source": [
    "### Cómo sería el comando para descargar la base de datos taxonómica (taxdb)"
   ]
  },
  {
   "cell_type": "code",
   "execution_count": 21,
   "metadata": {},
   "outputs": [
    {
     "name": "stdout",
     "output_type": "stream",
     "text": [
      "/home/user1/Desktop/bigdata\n"
     ]
    }
   ],
   "source": [
    "cd ~/Desktop/bigdata/"
   ]
  },
  {
   "cell_type": "code",
   "execution_count": null,
   "metadata": {},
   "outputs": [],
   "source": [
    "!perl ~/aplicaciones/update_blastdb.pl --passive taxdb"
   ]
  },
  {
   "cell_type": "code",
   "execution_count": null,
   "metadata": {},
   "outputs": [],
   "source": [
    "%%bash\n",
    "gunzip taxdb.tar.gz\n",
    "tar xvf  taxdb.tar"
   ]
  },
  {
   "cell_type": "code",
   "execution_count": 23,
   "metadata": {},
   "outputs": [
    {
     "name": "stdout",
     "output_type": "stream",
     "text": [
      "total 250M\r\n",
      "drwxrwxr-x 3 user1 user1  282 Jul 30 20:02 \u001b[0m\u001b[01;34m16SMicrobial\u001b[0m/\r\n",
      "drwxrwxr-x 2 user1 user1 4.0K Jul 26 21:27 \u001b[01;34mswissprot\u001b[0m/\r\n",
      "-rw-r--r-- 1 user1 user1 113M Jul 29 11:17 taxdb.btd\r\n",
      "-rw-r--r-- 1 user1 user1  13M Jul 29 11:17 taxdb.bti\r\n",
      "-rw-rw-r-- 1 user1 user1 125M Jul 30 20:04 taxdb.tar\r\n",
      "-rw-rw-r-- 1 user1 user1   47 Jul 30 20:04 taxdb.tar.gz.md5\r\n"
     ]
    }
   ],
   "source": [
    "ls -lh"
   ]
  },
  {
   "cell_type": "code",
   "execution_count": 25,
   "metadata": {},
   "outputs": [
    {
     "name": "stdout",
     "output_type": "stream",
     "text": [
      "/home/user1\n"
     ]
    }
   ],
   "source": [
    "cd "
   ]
  },
  {
   "cell_type": "markdown",
   "metadata": {},
   "source": [
    "### Cómo serían los comandos para descargar y descomprimir las proteinas de referencia (swissprot)?\n"
   ]
  },
  {
   "cell_type": "code",
   "execution_count": 15,
   "metadata": {},
   "outputs": [
    {
     "name": "stdout",
     "output_type": "stream",
     "text": [
      "/home/user1/Desktop/bigdata\n"
     ]
    }
   ],
   "source": [
    "cd ~/Desktop/bigdata/"
   ]
  },
  {
   "cell_type": "code",
   "execution_count": 25,
   "metadata": {},
   "outputs": [
    {
     "name": "stdout",
     "output_type": "stream",
     "text": [
      "\u001b[0m\u001b[01;34m16SMicrobial\u001b[0m/  \u001b[01;34mswissprot\u001b[0m/  taxdb.btd  taxdb.bti  taxdb.tar  taxdb.tar.gz.md5\r\n"
     ]
    }
   ],
   "source": [
    "ls"
   ]
  },
  {
   "cell_type": "code",
   "execution_count": 16,
   "metadata": {},
   "outputs": [],
   "source": [
    "os.makedirs('swissprot',exist_ok=True)"
   ]
  },
  {
   "cell_type": "code",
   "execution_count": 17,
   "metadata": {},
   "outputs": [
    {
     "name": "stdout",
     "output_type": "stream",
     "text": [
      "Connected to NCBI\n",
      "Downloading swissprot.tar.gz... [OK]\n"
     ]
    }
   ],
   "source": [
    "%%bash\n",
    "cd ~/Desktop/bigdata/swissprot\n",
    "perl ~/aplicaciones/update_blastdb.pl --passive swissprot"
   ]
  },
  {
   "cell_type": "markdown",
   "metadata": {},
   "source": [
    "#### Si se descarga una actualización ejecutar la siguiente celda, no hacerlo si la base de datos está actualizada"
   ]
  },
  {
   "cell_type": "code",
   "execution_count": 20,
   "metadata": {},
   "outputs": [
    {
     "name": "stdout",
     "output_type": "stream",
     "text": [
      "swissprot.pal\n",
      "swissprot.00.pin\n",
      "swissprot.00.phr\n",
      "swissprot.00.psq\n",
      "swissprot.00.pni\n",
      "swissprot.00.pnd\n",
      "swissprot.00.psi\n",
      "swissprot.00.psd\n",
      "swissprot.00.ppi\n",
      "swissprot.00.ppd\n",
      "swissprot.00.pog\n",
      "taxdb.btd\n",
      "taxdb.bti\n"
     ]
    }
   ],
   "source": [
    "%%bash\n",
    "cd ~/Desktop/bigdata/swissprot\n",
    "gunzip swissprot.tar.gz\n",
    "tar xvf  swissprot.tar"
   ]
  },
  {
   "cell_type": "code",
   "execution_count": 21,
   "metadata": {},
   "outputs": [
    {
     "name": "stdout",
     "output_type": "stream",
     "text": [
      "total 904M\r\n",
      "-rw-r--r-- 1 user1 user1 119M Jul 31 06:56 swissprot.00.phr\r\n",
      "-rw-r--r-- 1 user1 user1 3.6M Jul 31 06:56 swissprot.00.pin\r\n",
      "-rw-r--r-- 1 user1 user1 4.3M Jul 31 06:56 swissprot.00.pnd\r\n",
      "-rw-r--r-- 1 user1 user1  18K Jul 31 06:56 swissprot.00.pni\r\n",
      "-rw-r--r-- 1 user1 user1 1.8M Jul 31 06:56 swissprot.00.pog\r\n",
      "-rw-r--r-- 1 user1 user1 3.6M Jul 31 06:56 swissprot.00.ppd\r\n",
      "-rw-r--r-- 1 user1 user1  15K Jul 31 06:56 swissprot.00.ppi\r\n",
      "-rw-r--r-- 1 user1 user1  26M Jul 31 06:56 swissprot.00.psd\r\n",
      "-rw-r--r-- 1 user1 user1 606K Jul 31 06:56 swissprot.00.psi\r\n",
      "-rw-r--r-- 1 user1 user1 170M Jul 31 06:56 swissprot.00.psq\r\n",
      "-rw-r--r-- 1 user1 user1   31 Jul 31 06:56 swissprot.pal\r\n",
      "-rw-rw-r-- 1 user1 user1 452M Aug  2 01:22 swissprot.tar\r\n",
      "-rw-rw-r-- 1 user1 user1   51 Aug  2 01:22 swissprot.tar.gz.md5\r\n",
      "-rw-rw-r-- 1 user1 user1 113M Aug  1 04:00 taxdb.btd\r\n",
      "-rw-rw-r-- 1 user1 user1  13M Aug  1 04:00 taxdb.bti\r\n"
     ]
    }
   ],
   "source": [
    "ls -lh swissprot/"
   ]
  },
  {
   "cell_type": "code",
   "execution_count": 23,
   "metadata": {},
   "outputs": [],
   "source": [
    "!rm swissprot/swissprot.tar.gz.md5\n",
    "!rm swissprot/swissprot.tar"
   ]
  },
  {
   "cell_type": "markdown",
   "metadata": {},
   "source": [
    "# Hay algunas diferencias entre la base de datos que hay en el NCBI con respecto a la de Uniprot, por lo que será necesario descargar la base de datos original (Uniprot)\n",
    "https://www.uniprot.org/\n",
    "En el recuadro azul del lado izquierdo donde dice *Manually annotated and reviewed*"
   ]
  },
  {
   "cell_type": "markdown",
   "metadata": {},
   "source": [
    "<img src=\"img/uniprot_1.png\">"
   ]
  },
  {
   "cell_type": "markdown",
   "metadata": {},
   "source": [
    "# Mover el cursor a *Download* y dar clic"
   ]
  },
  {
   "cell_type": "markdown",
   "metadata": {},
   "source": [
    "<img src=\"img/uniprot_2.png\">"
   ]
  },
  {
   "cell_type": "markdown",
   "metadata": {},
   "source": [
    "# Descargar el archivo Fasta sin comprimir, si se tiene una conexión con cable, si es por inalámbrico, descargarlo comprimido"
   ]
  },
  {
   "cell_type": "markdown",
   "metadata": {},
   "source": [
    "<img src=\"img/uniprot_3.png\">"
   ]
  },
  {
   "cell_type": "markdown",
   "metadata": {},
   "source": [
    "## Una vez que se ha descargado el archivo, se necesita dar un formato para que blastx lo pueda interpretar adecuadamente"
   ]
  },
  {
   "cell_type": "markdown",
   "metadata": {},
   "source": [
    "# Para la creación de una base de datos a partir de un archivo fasta para la búsqueda con blast, se utiliza el comando\n",
    "`makeblastdb –in mydb.fsa –dbtype nucl –parse_seqids`\n",
    "\n",
    "donde `makeblastdb` es el comando para la creación de la base de datos, `–in` el archivo de entrada, en este caso `mydb.fsa`, `–dbtype` indica el tipo de base de datos, en este caso nucleótidos `nucl` y `–parse_seqids` es el indicador para que utilice los identificadores.\n"
   ]
  },
  {
   "cell_type": "code",
   "execution_count": 3,
   "metadata": {},
   "outputs": [
    {
     "name": "stdout",
     "output_type": "stream",
     "text": [
      "/home/user1/Desktop/bigdata/uniprot\n"
     ]
    }
   ],
   "source": [
    "cd uniprot/"
   ]
  },
  {
   "cell_type": "code",
   "execution_count": 4,
   "metadata": {},
   "outputs": [
    {
     "name": "stdout",
     "output_type": "stream",
     "text": [
      "uniprot.fasta\r\n"
     ]
    }
   ],
   "source": [
    "ls"
   ]
  },
  {
   "cell_type": "code",
   "execution_count": 5,
   "metadata": {},
   "outputs": [
    {
     "name": "stdout",
     "output_type": "stream",
     "text": [
      ">sp|Q12181|NDOR1_YEAST NADPH-dependent diflavin oxidoreductase 1 OS=Saccharomyces cerevisiae (strain ATCC 204508 / S288c) OX=559292 GN=TAH18 PE=1 SV=1\r\n",
      "MSSSKKIVILYGSETGNAHDFATILSHRLHRWHFSHTFCSIGDYDPQDILKCRYLFIICS\r\n",
      "TTGQGELPRNVNALKGERPVTFWSFLKRKNLPSNLLNHIQTAMLGLGDSSYPKFNYGIRK\r\n",
      "LHQRIVTQLGANELFDRLEADDQAMAGSNKGTGLGIESVYFEYEKKVLSFLLSKYPNRKV\r\n",
      "NGQIIKREELDPEVYLEPASYLQLSDEHANEKFTSTKVIFEGDESLKVGRVNINKRITSE\r\n",
      "GHFQDVRQFKFSNVDKIQENYEPGDTVTIYPCNTDEDVSRFLANQSHWLEIADKPLNFTS\r\n",
      "GVPNDLKDGGLVRPMTLRNLLKYHCDFMSIPRTSFFLKIWTFATDVTKMERGQEQLNDQR\r\n",
      "EKLRQFATDQDMQDLYDYCNRPRRSILEVLEDFISVKLPWKYVLDYLPIIKPRYYSISSG\r\n",
      "PGDPNIELTVAIVKYKTILRKIRRGICTNYIARLQEGEQIRYKLQNNHIIKKEFLNKPMI\r\n",
      "LVGPGVGLAPLLSVVKAEISKDIKLLFGCRYKDKDYIYKDMLEDWFRKGKIALHSSFSRD\r\n"
     ]
    }
   ],
   "source": [
    "!head uniprot.fasta"
   ]
  },
  {
   "cell_type": "markdown",
   "metadata": {},
   "source": [
    "# Qué tipo de secuencias contiene el archivo uniprot.fasta?"
   ]
  },
  {
   "cell_type": "markdown",
   "metadata": {},
   "source": [
    "# Corrija el siguiente comando de acuerdo a su respuesta"
   ]
  },
  {
   "cell_type": "code",
   "execution_count": null,
   "metadata": {},
   "outputs": [],
   "source": [
    "%%bash\n",
    "makeblastdb –in uniprot.fasta –dbtype nucl –parse_seqids"
   ]
  },
  {
   "cell_type": "code",
   "execution_count": null,
   "metadata": {},
   "outputs": [],
   "source": []
  },
  {
   "cell_type": "code",
   "execution_count": null,
   "metadata": {},
   "outputs": [],
   "source": []
  },
  {
   "cell_type": "markdown",
   "metadata": {},
   "source": [
    "# Si hay unos errores, verifique su comandos y explique qué pasó"
   ]
  },
  {
   "cell_type": "raw",
   "metadata": {},
   "source": [
    "%%bash\n",
    "makeblastdb -in uniprot.fasta -dbtype prot -parse_seqids"
   ]
  },
  {
   "cell_type": "code",
   "execution_count": 8,
   "metadata": {},
   "outputs": [
    {
     "name": "stdout",
     "output_type": "stream",
     "text": [
      "uniprot.fasta      uniprot.fasta.pin  uniprot.fasta.psd  uniprot.fasta.psq\r\n",
      "uniprot.fasta.phr  uniprot.fasta.pog  uniprot.fasta.psi\r\n"
     ]
    }
   ],
   "source": [
    "ls"
   ]
  },
  {
   "cell_type": "code",
   "execution_count": null,
   "metadata": {},
   "outputs": [],
   "source": []
  }
 ],
 "metadata": {
  "kernelspec": {
   "display_name": "Python 3",
   "language": "python",
   "name": "python3"
  },
  "language_info": {
   "codemirror_mode": {
    "name": "ipython",
    "version": 3
   },
   "file_extension": ".py",
   "mimetype": "text/x-python",
   "name": "python",
   "nbconvert_exporter": "python",
   "pygments_lexer": "ipython3",
   "version": "3.6.5"
  }
 },
 "nbformat": 4,
 "nbformat_minor": 2
}
