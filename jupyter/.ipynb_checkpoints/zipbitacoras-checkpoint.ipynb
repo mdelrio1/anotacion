{
 "cells": [
  {
   "cell_type": "markdown",
   "metadata": {},
   "source": [
    "# Procedimiento para comprimir las bitácoras de jupyter y poder descargar el archivo del servidor facilmente."
   ]
  },
  {
   "cell_type": "code",
   "execution_count": 1,
   "metadata": {},
   "outputs": [],
   "source": [
    "import os, zipfile"
   ]
  },
  {
   "cell_type": "code",
   "execution_count": 2,
   "metadata": {},
   "outputs": [
    {
     "data": {
      "text/plain": [
       "'/home/user1/Desktop/jupyter'"
      ]
     },
     "execution_count": 2,
     "metadata": {},
     "output_type": "execute_result"
    }
   ],
   "source": [
    "pwd"
   ]
  },
  {
   "cell_type": "code",
   "execution_count": 3,
   "metadata": {},
   "outputs": [
    {
     "name": "stdout",
     "output_type": "stream",
     "text": [
      "00temario.ipynb\n",
      "03_0_lenguajes.ipynb\n",
      "03_descripcion_de_secuencias_tamano_GC_CpG.ipynb\n",
      "03actualizacion_bases_datos_ncbi.ipynb\n",
      "03sistema_operativo_basico.ipynb\n",
      "04_0_jupyter.ipynb\n",
      "04_a_comandoslinux.ipynb\n",
      "04_b_comandospython.ipynb\n",
      "04_blast_secuencias.ipynb\n",
      "04_c_comandosR.ipynb\n",
      "05_1alineamiento.ipynb\n",
      "05_Python.ipynb\n",
      "06_0_biopython.ipynb\n",
      "07_0_secuenciacionmasiva.ipynb\n",
      "07_1_calidad_fastqc_trimming.ipynb\n",
      "07_1_cambio_nombre_contigs.ipynb\n",
      "07_2_ensamblaje.ipynb\n",
      "09_1_blastn.ipynb\n",
      "09_2_blastx.ipynb\n",
      "09_blastx-710.ipynb\n",
      "Untitled.ipynb\n",
      "blastn.ipynb\n",
      "zipbitacoras.ipynb\n",
      "zipfiles.ipynb\n"
     ]
    }
   ],
   "source": [
    "names = !ls *.ipynb\n",
    "\n",
    "for name in names:\n",
    "    print(name)"
   ]
  },
  {
   "cell_type": "markdown",
   "metadata": {},
   "source": [
    "### Se comprimirán los archivos que tiene la extensión con \".ipynb\""
   ]
  },
  {
   "cell_type": "code",
   "execution_count": 4,
   "metadata": {},
   "outputs": [],
   "source": [
    "with zipfile.ZipFile('zip_jupyter_ipynb.zip', 'w') as myzip:\n",
    "    for name in names:\n",
    "        myzip.write(name)"
   ]
  },
  {
   "cell_type": "code",
   "execution_count": 5,
   "metadata": {},
   "outputs": [
    {
     "name": "stdout",
     "output_type": "stream",
     "text": [
      "File Name                                             Modified             Size\n",
      "00temario.ipynb                                2018-08-03 13:09:26         5221\n",
      "03_0_lenguajes.ipynb                           2018-08-03 12:35:18          777\n",
      "03_descripcion_de_secuencias_tamano_GC_CpG.ipynb 2018-08-01 16:48:16        41465\n",
      "03actualizacion_bases_datos_ncbi.ipynb         2018-08-02 01:24:42        11966\n",
      "03sistema_operativo_basico.ipynb               2018-07-26 20:04:50        15519\n",
      "04_0_jupyter.ipynb                             2018-08-03 12:46:32          834\n",
      "04_a_comandoslinux.ipynb                       2018-08-14 02:14:52         8890\n",
      "04_b_comandospython.ipynb                      2018-08-14 04:11:48        20998\n",
      "04_blast_secuencias.ipynb                      2018-08-01 21:36:06       137659\n",
      "04_c_comandosR.ipynb                           2018-08-03 12:42:50          897\n",
      "05_1alineamiento.ipynb                         2018-08-14 04:04:54        34762\n",
      "05_Python.ipynb                                2018-08-03 12:48:58         2151\n",
      "06_0_biopython.ipynb                           2018-08-14 03:41:06         2456\n",
      "07_0_secuenciacionmasiva.ipynb                 2018-08-03 12:53:34         1098\n",
      "07_1_calidad_fastqc_trimming.ipynb             2018-08-01 17:01:04        23919\n",
      "07_1_cambio_nombre_contigs.ipynb               2018-08-02 14:32:20         7157\n",
      "07_2_ensamblaje.ipynb                          2018-08-02 18:17:04       394186\n",
      "09_1_blastn.ipynb                              2018-08-14 04:05:00       136545\n",
      "09_2_blastx.ipynb                              2018-08-14 01:52:06        90890\n",
      "09_blastx-710.ipynb                            2018-08-14 01:51:44        44741\n",
      "Untitled.ipynb                                 2018-08-02 02:05:30         2862\n",
      "blastn.ipynb                                   2018-07-24 14:32:16         4627\n",
      "zipbitacoras.ipynb                             2018-08-01 21:37:48        15936\n",
      "zipfiles.ipynb                                 2018-07-30 17:14:56        14416\n"
     ]
    }
   ],
   "source": [
    "z = zipfile.ZipFile(\"zip_jupyter_ipynb.zip\", \"r\")\n",
    "z.printdir()"
   ]
  },
  {
   "cell_type": "markdown",
   "metadata": {},
   "source": [
    "### Vaya al navegador de jupyter y descargue el archivo `zip_jupyter_ipynb.zip` del servidor a su computadora"
   ]
  },
  {
   "cell_type": "code",
   "execution_count": null,
   "metadata": {},
   "outputs": [],
   "source": []
  },
  {
   "cell_type": "code",
   "execution_count": null,
   "metadata": {},
   "outputs": [],
   "source": []
  },
  {
   "cell_type": "code",
   "execution_count": null,
   "metadata": {},
   "outputs": [],
   "source": []
  },
  {
   "cell_type": "code",
   "execution_count": null,
   "metadata": {},
   "outputs": [],
   "source": []
  },
  {
   "cell_type": "code",
   "execution_count": null,
   "metadata": {},
   "outputs": [],
   "source": []
  },
  {
   "cell_type": "code",
   "execution_count": null,
   "metadata": {},
   "outputs": [],
   "source": []
  },
  {
   "cell_type": "code",
   "execution_count": null,
   "metadata": {},
   "outputs": [],
   "source": []
  },
  {
   "cell_type": "code",
   "execution_count": null,
   "metadata": {},
   "outputs": [],
   "source": []
  },
  {
   "cell_type": "code",
   "execution_count": 1,
   "metadata": {},
   "outputs": [],
   "source": [
    "import shutil"
   ]
  },
  {
   "cell_type": "code",
   "execution_count": 2,
   "metadata": {},
   "outputs": [
    {
     "name": "stdout",
     "output_type": "stream",
     "text": [
      "/home/user1/Desktop\n"
     ]
    }
   ],
   "source": [
    "cd .."
   ]
  },
  {
   "cell_type": "code",
   "execution_count": 3,
   "metadata": {},
   "outputs": [
    {
     "data": {
      "text/plain": [
       "'/home/user1/Desktop/zip_jupyter.zip'"
      ]
     },
     "execution_count": 3,
     "metadata": {},
     "output_type": "execute_result"
    }
   ],
   "source": [
    "shutil.make_archive(\"zip_jupyter\", 'zip', \"jupyter\")"
   ]
  },
  {
   "cell_type": "code",
   "execution_count": 4,
   "metadata": {},
   "outputs": [
    {
     "name": "stdout",
     "output_type": "stream",
     "text": [
      "\u001b[0m\u001b[01;34marticulos_y_manuales\u001b[0m/  \u001b[01;34mbigdata\u001b[0m/  \u001b[01;34mdata\u001b[0m/  \u001b[01;34mjupyter\u001b[0m/  zip_jupyter.zip\r\n"
     ]
    }
   ],
   "source": [
    "ls"
   ]
  },
  {
   "cell_type": "code",
   "execution_count": null,
   "metadata": {},
   "outputs": [],
   "source": []
  },
  {
   "cell_type": "code",
   "execution_count": null,
   "metadata": {},
   "outputs": [],
   "source": []
  },
  {
   "cell_type": "markdown",
   "metadata": {},
   "source": [
    "# Vaya al navegador de jupyter, señale el archivo y descarguelo a su computadora"
   ]
  },
  {
   "cell_type": "code",
   "execution_count": null,
   "metadata": {},
   "outputs": [],
   "source": []
  },
  {
   "cell_type": "markdown",
   "metadata": {},
   "source": [
    "### Para comprimir y posteriormente descargar el directorio data"
   ]
  },
  {
   "cell_type": "code",
   "execution_count": 4,
   "metadata": {},
   "outputs": [
    {
     "data": {
      "text/plain": [
       "'/home/user1/Desktop/zip_data.zip'"
      ]
     },
     "execution_count": 4,
     "metadata": {},
     "output_type": "execute_result"
    }
   ],
   "source": [
    "shutil.make_archive(\"zip_data\", 'zip', \"data\")"
   ]
  },
  {
   "cell_type": "code",
   "execution_count": null,
   "metadata": {},
   "outputs": [],
   "source": []
  },
  {
   "cell_type": "markdown",
   "metadata": {},
   "source": [
    "# Verificando los archivos"
   ]
  },
  {
   "cell_type": "code",
   "execution_count": 5,
   "metadata": {},
   "outputs": [],
   "source": [
    "import zipfile"
   ]
  },
  {
   "cell_type": "code",
   "execution_count": 6,
   "metadata": {},
   "outputs": [
    {
     "name": "stdout",
     "output_type": "stream",
     "text": [
      "File Name                                             Modified             Size\n",
      ".ipynb_checkpoints/                            2018-07-30 16:21:34            0\n",
      "img/                                           2018-07-30 02:07:22            0\n",
      "03sistema_operativo_basico.ipynb               2018-07-26 20:04:50        15519\n",
      "00temario.ipynb                                2018-07-23 21:29:20         5221\n",
      "03actualizacion_bases_datos_ncbi.ipynb         2018-07-26 21:28:00        16832\n",
      "04_blast_secuencias.ipynb                      2018-07-27 18:14:22       144708\n",
      "03_CpG.ipynb                                   2018-07-27 18:22:20        38293\n",
      "blastn.ipynb                                   2018-07-24 14:32:16         4627\n",
      "07_5fastqc_trimming.ipynb                      2018-07-30 15:30:44        23920\n",
      "08_ensamblaje.ipynb                            2018-07-30 16:14:36         6926\n",
      "02_comandoslinux.ipynb                         2018-07-30 02:18:22       406700\n",
      "05_1alineamiento.ipynb                         2018-07-30 16:09:52        34762\n",
      "zipfiles.ipynb                                 2018-07-30 16:54:56         7540\n",
      ".ipynb_checkpoints/03sistema_operativo_basico-checkpoint.ipynb 2018-07-26 20:04:50        15519\n",
      ".ipynb_checkpoints/00temario-checkpoint.ipynb  2018-07-23 21:29:20         5221\n",
      ".ipynb_checkpoints/03actualizacion_bases_datos_ncbi-checkpoint.ipynb 2018-07-26 20:03:12        12816\n",
      ".ipynb_checkpoints/04_blast_secuencias-checkpoint.ipynb 2018-07-27 18:14:22       144708\n",
      ".ipynb_checkpoints/03_CpG-checkpoint.ipynb     2018-07-27 18:22:20        38293\n",
      ".ipynb_checkpoints/blastn-checkpoint.ipynb     2018-07-24 14:32:16         4627\n",
      ".ipynb_checkpoints/07_5fastqc_trimming-checkpoint.ipynb 2018-07-30 15:30:44        23920\n",
      ".ipynb_checkpoints/08_ensamblaje-checkpoint.ipynb 2018-07-30 16:14:36         6926\n",
      ".ipynb_checkpoints/02_comandoslinux-checkpoint.ipynb 2018-07-30 02:18:22       406700\n",
      ".ipynb_checkpoints/05_1alineamiento-checkpoint.ipynb 2018-07-30 16:09:52        34762\n",
      ".ipynb_checkpoints/zipfiles-checkpoint.ipynb   2018-07-30 16:54:56         7540\n",
      "img/tab.png                                    2018-07-23 20:18:56         7310\n",
      "img/trim_galore.png                            2018-07-23 20:24:30       175248\n",
      "img/trim_galore2.png                           2018-07-23 20:24:30       214980\n",
      "img/fastqc2.png                                2018-07-23 20:28:08       148406\n",
      "img/fastqc1.png                                2018-07-23 20:28:10       129047\n",
      "img/trim_galore3.png                           2018-07-23 20:28:12       165903\n",
      "img/cmd_windows.png                            2018-07-30 02:07:02         8567\n",
      "img/gitbash.png                                2018-07-30 02:07:20       294861\n",
      "img/iOS.png                                    2018-07-30 02:07:20        30855\n",
      "img/jupyter_terminal.png                       2018-07-30 02:07:22        92958\n"
     ]
    }
   ],
   "source": [
    "z = zipfile.ZipFile(\"zip_jupyter.zip\", \"r\")\n",
    "z.printdir()"
   ]
  },
  {
   "cell_type": "markdown",
   "metadata": {},
   "source": [
    "### también se puede usar este procedimiento"
   ]
  },
  {
   "cell_type": "code",
   "execution_count": 7,
   "metadata": {},
   "outputs": [
    {
     "name": "stdout",
     "output_type": "stream",
     "text": [
      ".ipynb_checkpoints/\n",
      "img/\n",
      "03sistema_operativo_basico.ipynb\n",
      "00temario.ipynb\n",
      "03actualizacion_bases_datos_ncbi.ipynb\n",
      "04_blast_secuencias.ipynb\n",
      "03_CpG.ipynb\n",
      "blastn.ipynb\n",
      "07_5fastqc_trimming.ipynb\n",
      "08_ensamblaje.ipynb\n",
      "02_comandoslinux.ipynb\n",
      "05_1alineamiento.ipynb\n",
      "zipfiles.ipynb\n",
      ".ipynb_checkpoints/03sistema_operativo_basico-checkpoint.ipynb\n",
      ".ipynb_checkpoints/00temario-checkpoint.ipynb\n",
      ".ipynb_checkpoints/03actualizacion_bases_datos_ncbi-checkpoint.ipynb\n",
      ".ipynb_checkpoints/04_blast_secuencias-checkpoint.ipynb\n",
      ".ipynb_checkpoints/03_CpG-checkpoint.ipynb\n",
      ".ipynb_checkpoints/blastn-checkpoint.ipynb\n",
      ".ipynb_checkpoints/07_5fastqc_trimming-checkpoint.ipynb\n",
      ".ipynb_checkpoints/08_ensamblaje-checkpoint.ipynb\n",
      ".ipynb_checkpoints/02_comandoslinux-checkpoint.ipynb\n",
      ".ipynb_checkpoints/05_1alineamiento-checkpoint.ipynb\n",
      ".ipynb_checkpoints/zipfiles-checkpoint.ipynb\n",
      "img/tab.png\n",
      "img/trim_galore.png\n",
      "img/trim_galore2.png\n",
      "img/fastqc2.png\n",
      "img/fastqc1.png\n",
      "img/trim_galore3.png\n",
      "img/cmd_windows.png\n",
      "img/gitbash.png\n",
      "img/iOS.png\n",
      "img/jupyter_terminal.png\n"
     ]
    }
   ],
   "source": [
    "z = zipfile.ZipFile('zip_jupyter.zip', 'r')\n",
    "names = z.namelist()\n",
    "for name in names:\n",
    "    print (name)"
   ]
  },
  {
   "cell_type": "code",
   "execution_count": null,
   "metadata": {},
   "outputs": [],
   "source": []
  },
  {
   "cell_type": "code",
   "execution_count": null,
   "metadata": {},
   "outputs": [],
   "source": []
  },
  {
   "cell_type": "code",
   "execution_count": null,
   "metadata": {},
   "outputs": [],
   "source": []
  },
  {
   "cell_type": "code",
   "execution_count": null,
   "metadata": {},
   "outputs": [],
   "source": []
  },
  {
   "cell_type": "markdown",
   "metadata": {},
   "source": [
    "## Para comprimir solo unos archivos se puede usar el siguiente procedimiento"
   ]
  },
  {
   "cell_type": "code",
   "execution_count": null,
   "metadata": {},
   "outputs": [],
   "source": [
    "import os, zipfile"
   ]
  },
  {
   "cell_type": "code",
   "execution_count": null,
   "metadata": {},
   "outputs": [],
   "source": [
    "cd jupyter/"
   ]
  },
  {
   "cell_type": "code",
   "execution_count": null,
   "metadata": {},
   "outputs": [],
   "source": [
    "ls 0*"
   ]
  },
  {
   "cell_type": "code",
   "execution_count": null,
   "metadata": {},
   "outputs": [],
   "source": [
    "names = !ls  0*\n",
    "\n",
    "for name in names:\n",
    "    print(name)"
   ]
  },
  {
   "cell_type": "markdown",
   "metadata": {},
   "source": [
    "### Se comprimirán los archivos que inician con \"0\""
   ]
  },
  {
   "cell_type": "code",
   "execution_count": null,
   "metadata": {},
   "outputs": [],
   "source": [
    "with zipfile.ZipFile('zip_jupyter_0.zip', 'w') as myzip:\n",
    "    for name in names:\n",
    "        myzip.write(name)"
   ]
  },
  {
   "cell_type": "code",
   "execution_count": null,
   "metadata": {},
   "outputs": [],
   "source": [
    "ls"
   ]
  },
  {
   "cell_type": "code",
   "execution_count": null,
   "metadata": {},
   "outputs": [],
   "source": []
  },
  {
   "cell_type": "code",
   "execution_count": null,
   "metadata": {},
   "outputs": [],
   "source": [
    "ls 0*"
   ]
  },
  {
   "cell_type": "code",
   "execution_count": null,
   "metadata": {},
   "outputs": [],
   "source": [
    "names = !ls  *.ipynb\n",
    "\n",
    "for name in names:\n",
    "    print(name)"
   ]
  },
  {
   "cell_type": "markdown",
   "metadata": {},
   "source": [
    "### Se comprimirán los archivos que tiene la extensión con \".ipynb\""
   ]
  },
  {
   "cell_type": "code",
   "execution_count": null,
   "metadata": {},
   "outputs": [],
   "source": [
    "with zipfile.ZipFile('zip_jupyter_ipynb.zip', 'w') as myzip:\n",
    "    for name in names:\n",
    "        myzip.write(name)"
   ]
  },
  {
   "cell_type": "code",
   "execution_count": null,
   "metadata": {},
   "outputs": [],
   "source": [
    "ls"
   ]
  },
  {
   "cell_type": "code",
   "execution_count": null,
   "metadata": {},
   "outputs": [],
   "source": []
  }
 ],
 "metadata": {
  "kernelspec": {
   "display_name": "Python 3",
   "language": "python",
   "name": "python3"
  },
  "language_info": {
   "codemirror_mode": {
    "name": "ipython",
    "version": 3
   },
   "file_extension": ".py",
   "mimetype": "text/x-python",
   "name": "python",
   "nbconvert_exporter": "python",
   "pygments_lexer": "ipython3",
   "version": "3.6.5"
  }
 },
 "nbformat": 4,
 "nbformat_minor": 2
}
