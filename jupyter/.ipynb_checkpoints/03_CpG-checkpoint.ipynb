{
 "cells": [
  {
   "cell_type": "markdown",
   "metadata": {},
   "source": [
    "# Bitácora para describir archivos con secuencias después del ensamblaje"
   ]
  },
  {
   "cell_type": "code",
   "execution_count": 2,
   "metadata": {},
   "outputs": [
    {
     "name": "stdout",
     "output_type": "stream",
     "text": [
      "/Users/migueldelrio/Desktop/data/fasta\n"
     ]
    }
   ],
   "source": [
    "cd  ~/Desktop/data/fasta/"
   ]
  },
  {
   "cell_type": "code",
   "execution_count": 3,
   "metadata": {
    "collapsed": true
   },
   "outputs": [],
   "source": [
    "from Bio import SeqIO\n",
    "from pandas import DataFrame\n",
    "import pandas as pd\n",
    "from Bio.SeqUtils import GC\n",
    "import pylab as pl\n",
    "from pylab import *"
   ]
  },
  {
   "cell_type": "code",
   "execution_count": 4,
   "metadata": {
    "collapsed": true
   },
   "outputs": [],
   "source": [
    "def cpg(secuencia):\n",
    "    g= secuencia.count(\"G\")\n",
    "    c= secuencia.count(\"C\")\n",
    "    cg= secuencia.count(\"CG\")\n",
    "    lar= len(secuencia)\n",
    "    cpG=0\n",
    "    try:\n",
    "        g*c==0\n",
    "    except:\n",
    "        cpG=0\n",
    "    else:\n",
    "        if g == 0 or c== 0:\n",
    "            cpG =0\n",
    "        else:\n",
    "            cpG=(round(cg/(g*c)*(lar**2/(lar-1)) ,8))\n",
    "    return (cpG)"
   ]
  },
  {
   "cell_type": "code",
   "execution_count": 5,
   "metadata": {},
   "outputs": [
    {
     "data": {
      "text/html": [
       "<div>\n",
       "<style scoped>\n",
       "    .dataframe tbody tr th:only-of-type {\n",
       "        vertical-align: middle;\n",
       "    }\n",
       "\n",
       "    .dataframe tbody tr th {\n",
       "        vertical-align: top;\n",
       "    }\n",
       "\n",
       "    .dataframe thead th {\n",
       "        text-align: right;\n",
       "    }\n",
       "</style>\n",
       "<table border=\"1\" class=\"dataframe\">\n",
       "  <thead>\n",
       "    <tr style=\"text-align: right;\">\n",
       "      <th></th>\n",
       "      <th>contigs</th>\n",
       "      <th>length</th>\n",
       "      <th>GC</th>\n",
       "      <th>CpG</th>\n",
       "    </tr>\n",
       "  </thead>\n",
       "  <tbody>\n",
       "    <tr>\n",
       "      <th>0</th>\n",
       "      <td>Nav1_2_B_halotolerans</td>\n",
       "      <td>333</td>\n",
       "      <td>52.2523</td>\n",
       "      <td>0.941738</td>\n",
       "    </tr>\n",
       "    <tr>\n",
       "      <th>1</th>\n",
       "      <td>Nav1_8_B_aquimaris</td>\n",
       "      <td>332</td>\n",
       "      <td>53.0120</td>\n",
       "      <td>1.033235</td>\n",
       "    </tr>\n",
       "  </tbody>\n",
       "</table>\n",
       "</div>"
      ],
      "text/plain": [
       "                 contigs  length       GC       CpG\n",
       "0  Nav1_2_B_halotolerans     333  52.2523  0.941738\n",
       "1     Nav1_8_B_aquimaris     332  53.0120  1.033235"
      ]
     },
     "execution_count": 5,
     "metadata": {},
     "output_type": "execute_result"
    }
   ],
   "source": [
    "f = open('secuencias_anotadas.fasta', 'r')\n",
    "sizes = [(rec.name, len(rec), round(GC(rec.seq),4), cpg(rec.seq)) for rec in SeqIO.parse(f, \"fasta\")]\n",
    "sizes = DataFrame(sizes,columns= [\"contigs\", \"length\", \"GC\", \"CpG\"])\n",
    "sizes.head(2)"
   ]
  },
  {
   "cell_type": "code",
   "execution_count": 6,
   "metadata": {},
   "outputs": [
    {
     "data": {
      "image/png": "[encoded data removed]",
      "text/plain": [
       "<Figure size 432x288 with 1 Axes>"
      ]
     },
     "metadata": {},
     "output_type": "display_data"
    }
   ],
   "source": [
    "pl.hist(sizes['length'], bins=20)\n",
    "pl.title(\"%i secuencias_anotadas.fasta\\nLengths %i to %i\" \\\n",
    "            % (len(sizes[\"length\"]),min(sizes['length']),max(sizes['length'])))\n",
    "pl.xlabel(\"Sequence length (bp)\")\n",
    "pl.ylabel(\"Count\")\n",
    "#pl.legend().set_visible(False)\n",
    "pl.show()"
   ]
  },
  {
   "cell_type": "code",
   "execution_count": 7,
   "metadata": {},
   "outputs": [
    {
     "data": {
      "image/png": "[encoded data removed]",
      "text/plain": [
       "<Figure size 432x288 with 1 Axes>"
      ]
     },
     "metadata": {},
     "output_type": "display_data"
    }
   ],
   "source": [
    "pl.hist(sizes['GC'], bins=20)\n",
    "pl.title(\"%i secuencias_anotadas.fasta\\nGC %i to %i\" \\\n",
    "            % (len(sizes[\"length\"]),min(sizes['length']),max(sizes['length'])))\n",
    "pl.xlabel(\"GC content (%)\")\n",
    "pl.ylabel(\"Count\")\n",
    "#pl.legend().set_visible(False)\n",
    "pl.show()"
   ]
  },
  {
   "cell_type": "code",
   "execution_count": 8,
   "metadata": {},
   "outputs": [
    {
     "data": {
      "image/png": "[encoded data removed]",
      "text/plain": [
       "<Figure size 432x288 with 1 Axes>"
      ]
     },
     "metadata": {},
     "output_type": "display_data"
    }
   ],
   "source": [
    "pl.hist(sizes['CpG'], bins=20)\n",
    "pl.title(\"%i secuencias_anotadas.fasta\\nCpG %i to %i\" \\\n",
    "            % (len(sizes[\"length\"]),min(sizes['length']),max(sizes['length'])))\n",
    "pl.xlabel(\"CpG content\")\n",
    "pl.ylabel(\"Count\")\n",
    "#pl.legend().set_visible(False)\n",
    "pl.show()"
   ]
  },
  {
   "cell_type": "code",
   "execution_count": 9,
   "metadata": {},
   "outputs": [
    {
     "data": {
      "text/plain": [
       "(-0.001, 100.0]     0\n",
       "(100.0, 200.0]      0\n",
       "(200.0, 300.0]      0\n",
       "(300.0, 400.0]     10\n",
       "Name: length, dtype: int64"
      ]
     },
     "execution_count": 9,
     "metadata": {},
     "output_type": "execute_result"
    }
   ],
   "source": [
    "sizes1 = sizes['length'].value_counts(normalize=False, sort=False, ascending=False, \n",
    "                                  bins=range(0,sizes['length'].max()+100,100), dropna=True)\n",
    "sizes1"
   ]
  },
  {
   "cell_type": "code",
   "execution_count": 10,
   "metadata": {},
   "outputs": [
    {
     "data": {
      "text/plain": [
       "(-0.001, 10.0]     0\n",
       "(10.0, 20.0]       0\n",
       "(20.0, 30.0]       0\n",
       "(30.0, 40.0]       0\n",
       "(40.0, 50.0]       0\n",
       "(50.0, 60.0]      10\n",
       "Name: GC, dtype: int64"
      ]
     },
     "execution_count": 10,
     "metadata": {},
     "output_type": "execute_result"
    }
   ],
   "source": [
    "sizesgc = sizes['GC'].value_counts(normalize=False, sort=False, ascending=False, \n",
    "                                  bins=range(0,int(sizes['GC'].max()+10),10), dropna=True)\n",
    "sizesgc"
   ]
  },
  {
   "cell_type": "code",
   "execution_count": null,
   "metadata": {
    "collapsed": true
   },
   "outputs": [],
   "source": []
  },
  {
   "cell_type": "code",
   "execution_count": null,
   "metadata": {
    "collapsed": true
   },
   "outputs": [],
   "source": []
  }
 ],
 "metadata": {
  "kernelspec": {
   "display_name": "Python [default]",
   "language": "python",
   "name": "python3"
  },
  "language_info": {
   "codemirror_mode": {
    "name": "ipython",
    "version": 3
   },
   "file_extension": ".py",
   "mimetype": "text/x-python",
   "name": "python",
   "nbconvert_exporter": "python",
   "pygments_lexer": "ipython3",
   "version": "3.5.3"
  }
 },
 "nbformat": 4,
 "nbformat_minor": 2
}
