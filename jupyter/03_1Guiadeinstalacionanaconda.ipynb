{
 "cells": [
  {
   "cell_type": "markdown",
   "metadata": {},
   "source": [
    "# <p align=\"center\">*Instalando:*</p>\n",
    "<p align=\"center\"><img src=\"https://www.anaconda.com/wp-content/themes/anaconda/images/logo-dark.png\" width=35%></p>"
   ]
  },
  {
   "cell_type": "markdown",
   "metadata": {},
   "source": [
    "<p align=\"center\">Por: _Diamanda Tapia_ y _Miguel Angel del Río_  </p>"
   ]
  },
  {
   "cell_type": "markdown",
   "metadata": {},
   "source": [
    "### Anaconda es el ecosistema de ciencia de datos más popular en el mundo, innovando en el desarrollo en proyectos de codigo abierto que son el fundamento de la ciencia moderna.\n",
    "\n",
    "----------------------------------------------------------------------------------------------------------------------"
   ]
  },
  {
   "cell_type": "markdown",
   "metadata": {},
   "source": [
    "\n",
    "## ***Guía de Instalación***\n",
    "\n",
    "* _Búsqueda de software_\n",
    "* Selección de software\n",
    "* Ejecución de instalador\n",
    "* Proceso de instalación\n",
    "* Abrir navegador\n",
    "* Seleccionar programa de interés"
   ]
  },
  {
   "cell_type": "markdown",
   "metadata": {},
   "source": [
    "## 1. Búsqueda de software\n",
    "### <center> Ingresar desde tu navegador a la pagina oficial https://www.anaconda.com"
   ]
  },
  {
   "cell_type": "markdown",
   "metadata": {},
   "source": [
    "<img src=\"img/presentacion.png\" width = 50%>"
   ]
  },
  {
   "cell_type": "markdown",
   "metadata": {},
   "source": [
    "### Ingresar a la pagina seleccionar la version de interes apara su computadora"
   ]
  },
  {
   "cell_type": "markdown",
   "metadata": {},
   "source": [
    "## 2. Selección de software\n",
    "\n",
    " ####  Al ingresar a la página seleccionar su versión de interés de acuerdo a las características de la computadora \n",
    "\n",
    "####  Se recomienda la instalación de la versión más reciente debido a características mejoradas"
   ]
  },
  {
   "cell_type": "markdown",
   "metadata": {},
   "source": [
    "\n",
    "<img src=\"img/presentacion2.png\" width = 50%>\n",
    "\n",
    "\n"
   ]
  },
  {
   "cell_type": "markdown",
   "metadata": {},
   "source": [
    "## 3. Ejecución de instalador"
   ]
  },
  {
   "cell_type": "markdown",
   "metadata": {},
   "source": [
    "<center><img src=\"img/anaconda5.png\" width = 70%> <center>"
   ]
  },
  {
   "cell_type": "markdown",
   "metadata": {},
   "source": [
    "##### Mostrará una serie de pasos para su posterior instalación"
   ]
  },
  {
   "cell_type": "markdown",
   "metadata": {
    "collapsed": true
   },
   "source": [
    "##  4.Proceso de instalación\n",
    "\n",
    "\n",
    "\t\n",
    "<img src=\"img/presentacion3.png\" width = 70%>\n",
    "<img src=\"img/presentacion4.png\" width = 70%>\n",
    "\n",
    "\n",
    "\n",
    "\n"
   ]
  },
  {
   "cell_type": "markdown",
   "metadata": {},
   "source": [
    "## 5. Abrir navegador\n",
    "\n",
    "#### Cerrar ventana de culminación de instalación\n",
    "  "
   ]
  },
  {
   "cell_type": "markdown",
   "metadata": {},
   "source": [
    "<img src=\"img/presentacion5.png\" width = 50%>"
   ]
  },
  {
   "cell_type": "markdown",
   "metadata": {},
   "source": [
    "## 6. Seleccionar programa de interés\n",
    "\n",
    "### _Ejemplo_"
   ]
  },
  {
   "cell_type": "markdown",
   "metadata": {},
   "source": [
    "<center><img src=\"img/anaconda16.png\" width = 40%> <center>"
   ]
  },
  {
   "cell_type": "markdown",
   "metadata": {},
   "source": [
    "# ¡Listo para navegar !"
   ]
  }
 ],
 "metadata": {
  "kernelspec": {
   "display_name": "Python 3",
   "language": "python",
   "name": "python3"
  },
  "language_info": {
   "codemirror_mode": {
    "name": "ipython",
    "version": 3
   },
   "file_extension": ".py",
   "mimetype": "text/x-python",
   "name": "python",
   "nbconvert_exporter": "python",
   "pygments_lexer": "ipython3",
   "version": "3.6.5"
  }
 },
 "nbformat": 4,
 "nbformat_minor": 2
}
