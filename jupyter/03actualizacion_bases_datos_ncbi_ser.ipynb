{
 "cells": [
  {
   "cell_type": "markdown",
   "metadata": {},
   "source": [
    "# Actualización de las bases de datos del NCBI"
   ]
  },
  {
   "cell_type": "markdown",
   "metadata": {},
   "source": [
    "### Se requiere tener instalado el blast\n",
    "https://blast.ncbi.nlm.nih.gov/Blast.cgi?CMD=Web&PAGE_TYPE=BlastDocs&DOC_TYPE=Download\n",
    "ejecutar en el cmd\n",
    "blastn -version\n",
    "\n",
    "### se requiere tener instalado el lenguaje perl\n",
    "https://www.perl.org\n",
    "ejecutar en el cmd\n",
    "perl -version \n",
    "\n"
   ]
  },
  {
   "cell_type": "markdown",
   "metadata": {},
   "source": [
    "### se actualiza la base de datos utilizando un comando de perl"
   ]
  },
  {
   "cell_type": "code",
   "execution_count": 1,
   "metadata": {},
   "outputs": [
    {
     "name": "stdout",
     "output_type": "stream",
     "text": [
      "/home/user1/Desktop/bigdata\n"
     ]
    }
   ],
   "source": [
    "cd ~/Desktop/bigdata/"
   ]
  },
  {
   "cell_type": "markdown",
   "metadata": {},
   "source": [
    "## verificar que está el archivo\n",
    "`update_blastdb.pl`\n"
   ]
  },
  {
   "cell_type": "code",
   "execution_count": 6,
   "metadata": {
    "scrolled": false
   },
   "outputs": [
    {
     "name": "stdout",
     "output_type": "stream",
     "text": [
      "update_blastdb.pl\r\n"
     ]
    }
   ],
   "source": [
    "ls /home/user1/aplicaciones/"
   ]
  },
  {
   "cell_type": "code",
   "execution_count": 7,
   "metadata": {},
   "outputs": [
    {
     "name": "stdout",
     "output_type": "stream",
     "text": [
      "Connected to NCBI\n",
      "Downloading 16SMicrobial.tar.gz... [OK]\n"
     ]
    }
   ],
   "source": [
    "!perl ~/aplicaciones/update_blastdb.pl --passive 16SMicrobial"
   ]
  },
  {
   "cell_type": "code",
   "execution_count": 8,
   "metadata": {},
   "outputs": [
    {
     "name": "stdout",
     "output_type": "stream",
     "text": [
      "total 29M\r\n",
      "-rw-rw-r-- 1 user1 user1 29M Jul 26 19:35 16SMicrobial.tar.gz\r\n",
      "-rw-rw-r-- 1 user1 user1  54 Jul 26 19:35 16SMicrobial.tar.gz.md5\r\n"
     ]
    }
   ],
   "source": [
    "ls -lh"
   ]
  },
  {
   "cell_type": "code",
   "execution_count": 8,
   "metadata": {},
   "outputs": [],
   "source": [
    "mkdir 16SMicrobial"
   ]
  },
  {
   "cell_type": "code",
   "execution_count": 9,
   "metadata": {},
   "outputs": [
    {
     "name": "stdout",
     "output_type": "stream",
     "text": [
      "16SMicrobial.tar.gz  16SMicrobial.tar.gz.md5\r\n"
     ]
    }
   ],
   "source": [
    "ls 16*"
   ]
  },
  {
   "cell_type": "code",
   "execution_count": 10,
   "metadata": {},
   "outputs": [],
   "source": [
    "!gunzip 16SMicrobial.tar.gz"
   ]
  },
  {
   "cell_type": "markdown",
   "metadata": {},
   "source": [
    "Verificando archivo"
   ]
  },
  {
   "cell_type": "code",
   "execution_count": 11,
   "metadata": {},
   "outputs": [
    {
     "name": "stdout",
     "output_type": "stream",
     "text": [
      "total 135M\r\n",
      "-rw-rw-r-- 1 user1 user1 135M Jul 26 19:35 16SMicrobial.tar\r\n",
      "-rw-rw-r-- 1 user1 user1   54 Jul 26 19:35 16SMicrobial.tar.gz.md5\r\n"
     ]
    }
   ],
   "source": [
    "ls -lh"
   ]
  },
  {
   "cell_type": "markdown",
   "metadata": {},
   "source": [
    "descompresión del archivo `.tar`"
   ]
  },
  {
   "cell_type": "code",
   "execution_count": 13,
   "metadata": {},
   "outputs": [
    {
     "name": "stdout",
     "output_type": "stream",
     "text": [
      "16SMicrobial.nhr\n",
      "16SMicrobial.nin\n",
      "16SMicrobial.nnd\n",
      "16SMicrobial.nni\n",
      "16SMicrobial.nog\n",
      "16SMicrobial.nsd\n",
      "16SMicrobial.nsi\n",
      "16SMicrobial.nsq\n",
      "taxdb.btd\n",
      "taxdb.bti\n"
     ]
    }
   ],
   "source": [
    "!tar xvf  16SMicrobial.tar"
   ]
  },
  {
   "cell_type": "code",
   "execution_count": 14,
   "metadata": {},
   "outputs": [
    {
     "name": "stdout",
     "output_type": "stream",
     "text": [
      "total 270M\r\n",
      "-rw-rw-r-- 1 user1 user1 3.1M Jul 22 04:05 16SMicrobial.nhr\r\n",
      "-rw-rw-r-- 1 user1 user1 236K Jul 22 04:05 16SMicrobial.nin\r\n",
      "-rw-rw-r-- 1 user1 user1 160K Jul 22 04:05 16SMicrobial.nnd\r\n",
      "-rw-rw-r-- 1 user1 user1  684 Jul 22 04:05 16SMicrobial.nni\r\n",
      "-rw-rw-r-- 1 user1 user1  79K Jul 22 04:05 16SMicrobial.nog\r\n",
      "-rw-rw-r-- 1 user1 user1 655K Jul 22 04:05 16SMicrobial.nsd\r\n",
      "-rw-rw-r-- 1 user1 user1  15K Jul 22 04:05 16SMicrobial.nsi\r\n",
      "-rw-rw-r-- 1 user1 user1 7.1M Jul 22 04:05 16SMicrobial.nsq\r\n",
      "-rw-rw-r-- 1 user1 user1 135M Jul 26 19:35 16SMicrobial.tar\r\n",
      "-rw-rw-r-- 1 user1 user1   54 Jul 26 19:35 16SMicrobial.tar.gz.md5\r\n",
      "-rw-rw-r-- 1 user1 user1 112M Jul 22 04:05 taxdb.btd\r\n",
      "-rw-rw-r-- 1 user1 user1  12M Jul 22 04:05 taxdb.bti\r\n"
     ]
    }
   ],
   "source": [
    "ls -lh"
   ]
  },
  {
   "cell_type": "code",
   "execution_count": 15,
   "metadata": {},
   "outputs": [],
   "source": [
    "rm 16SMicrobial.tar.gz.md5"
   ]
  },
  {
   "cell_type": "code",
   "execution_count": 17,
   "metadata": {},
   "outputs": [
    {
     "name": "stdout",
     "output_type": "stream",
     "text": [
      "total 270M\r\n",
      "-rw-rw-r-- 1 user1 user1 3.1M Jul 22 04:05 16SMicrobial.nhr\r\n",
      "-rw-rw-r-- 1 user1 user1 236K Jul 22 04:05 16SMicrobial.nin\r\n",
      "-rw-rw-r-- 1 user1 user1 160K Jul 22 04:05 16SMicrobial.nnd\r\n",
      "-rw-rw-r-- 1 user1 user1  684 Jul 22 04:05 16SMicrobial.nni\r\n",
      "-rw-rw-r-- 1 user1 user1  79K Jul 22 04:05 16SMicrobial.nog\r\n",
      "-rw-rw-r-- 1 user1 user1 655K Jul 22 04:05 16SMicrobial.nsd\r\n",
      "-rw-rw-r-- 1 user1 user1  15K Jul 22 04:05 16SMicrobial.nsi\r\n",
      "-rw-rw-r-- 1 user1 user1 7.1M Jul 22 04:05 16SMicrobial.nsq\r\n",
      "-rw-rw-r-- 1 user1 user1 135M Jul 26 19:35 16SMicrobial.tar\r\n",
      "-rw-rw-r-- 1 user1 user1 112M Jul 22 04:05 taxdb.btd\r\n",
      "-rw-rw-r-- 1 user1 user1  12M Jul 22 04:05 taxdb.bti\r\n"
     ]
    }
   ],
   "source": [
    "ls -lh"
   ]
  },
  {
   "cell_type": "code",
   "execution_count": 18,
   "metadata": {},
   "outputs": [
    {
     "name": "stdout",
     "output_type": "stream",
     "text": [
      "/home/user1/Desktop/bigdata\n"
     ]
    }
   ],
   "source": [
    "cd .."
   ]
  },
  {
   "cell_type": "markdown",
   "metadata": {},
   "source": [
    "### Cómo sería el comando para descargar la base de datos taxonómica (taxdb)"
   ]
  },
  {
   "cell_type": "code",
   "execution_count": 20,
   "metadata": {},
   "outputs": [
    {
     "name": "stdout",
     "output_type": "stream",
     "text": [
      "/home/user1/Desktop/bigdata\n"
     ]
    }
   ],
   "source": [
    "cd ~/Desktop/bigdata/"
   ]
  },
  {
   "cell_type": "code",
   "execution_count": 16,
   "metadata": {},
   "outputs": [
    {
     "name": "stdout",
     "output_type": "stream",
     "text": [
      "Connected to NCBI\n",
      "Downloading taxdb.tar.gz... [OK]\n"
     ]
    }
   ],
   "source": [
    "!perl ~/aplicaciones/update_blastdb.pl --passive taxdb"
   ]
  },
  {
   "cell_type": "code",
   "execution_count": 22,
   "metadata": {},
   "outputs": [
    {
     "name": "stdout",
     "output_type": "stream",
     "text": [
      "\u001b[0m\u001b[01;34m16SMicrobial\u001b[0m/  taxdb.tar.gz\r\n"
     ]
    }
   ],
   "source": [
    "ls "
   ]
  },
  {
   "cell_type": "code",
   "execution_count": 23,
   "metadata": {},
   "outputs": [],
   "source": [
    "!gunzip taxdb.tar.gz"
   ]
  },
  {
   "cell_type": "markdown",
   "metadata": {},
   "source": [
    "Verificando archivo"
   ]
  },
  {
   "cell_type": "code",
   "execution_count": 24,
   "metadata": {},
   "outputs": [
    {
     "name": "stdout",
     "output_type": "stream",
     "text": [
      "total 125M\r\n",
      "drwxrwxr-x 2 user1 user1  256 Jul 26 19:37 \u001b[0m\u001b[01;34m16SMicrobial\u001b[0m/\r\n",
      "-rw-rw-r-- 1 user1 user1 125M Jul 26 18:18 taxdb.tar\r\n"
     ]
    }
   ],
   "source": [
    "ls -lh"
   ]
  },
  {
   "cell_type": "markdown",
   "metadata": {},
   "source": [
    "descompresión del archivo `.tar`"
   ]
  },
  {
   "cell_type": "code",
   "execution_count": 25,
   "metadata": {},
   "outputs": [
    {
     "name": "stdout",
     "output_type": "stream",
     "text": [
      "taxdb.btd\n",
      "taxdb.bti\n"
     ]
    }
   ],
   "source": [
    "!tar xvf  taxdb.tar"
   ]
  },
  {
   "cell_type": "code",
   "execution_count": 26,
   "metadata": {},
   "outputs": [
    {
     "name": "stdout",
     "output_type": "stream",
     "text": [
      "total 250M\r\n",
      "drwxrwxr-x 2 user1 user1  256 Jul 26 19:37 \u001b[0m\u001b[01;34m16SMicrobial\u001b[0m/\r\n",
      "-rw-r--r-- 1 user1 user1 113M Jul 25 04:33 taxdb.btd\r\n",
      "-rw-r--r-- 1 user1 user1  13M Jul 25 04:33 taxdb.bti\r\n",
      "-rw-rw-r-- 1 user1 user1 125M Jul 26 18:18 taxdb.tar\r\n"
     ]
    }
   ],
   "source": [
    "ls -lh"
   ]
  },
  {
   "cell_type": "code",
   "execution_count": 27,
   "metadata": {},
   "outputs": [
    {
     "name": "stdout",
     "output_type": "stream",
     "text": [
      "/home/user1\n"
     ]
    }
   ],
   "source": [
    "cd "
   ]
  },
  {
   "cell_type": "markdown",
   "metadata": {},
   "source": [
    "### Cómo serían los comandos para descargar y descomprimir las proteinas de referencia (swissprot)?\n"
   ]
  },
  {
   "cell_type": "code",
   "execution_count": 28,
   "metadata": {},
   "outputs": [
    {
     "name": "stdout",
     "output_type": "stream",
     "text": [
      "/home/user1/Desktop/bigdata\n"
     ]
    }
   ],
   "source": [
    "cd ~/Desktop/bigdata/"
   ]
  },
  {
   "cell_type": "code",
   "execution_count": 29,
   "metadata": {},
   "outputs": [
    {
     "name": "stdout",
     "output_type": "stream",
     "text": [
      "\u001b[0m\u001b[01;34m16SMicrobial\u001b[0m/  taxdb.btd  taxdb.bti  taxdb.tar\r\n"
     ]
    }
   ],
   "source": [
    "ls"
   ]
  },
  {
   "cell_type": "code",
   "execution_count": 30,
   "metadata": {},
   "outputs": [],
   "source": [
    "mkdir swissprot"
   ]
  },
  {
   "cell_type": "code",
   "execution_count": 33,
   "metadata": {},
   "outputs": [
    {
     "name": "stdout",
     "output_type": "stream",
     "text": [
      "swissprot.pal\n",
      "swissprot.00.pin\n",
      "swissprot.00.phr\n",
      "swissprot.00.psq\n",
      "swissprot.00.pni\n",
      "swissprot.00.pnd\n",
      "swissprot.00.psi\n",
      "swissprot.00.psd\n",
      "swissprot.00.ppi\n",
      "swissprot.00.ppd\n",
      "swissprot.00.pog\n",
      "taxdb.btd\n",
      "taxdb.bti\n"
     ]
    }
   ],
   "source": [
    "%%bash\n",
    "cd ~/Desktop/bigdata/swissprot\n",
    "perl ~/aplicaciones/update_blastdb.pl --passive swissprot\n",
    "gunzip swissprot.tar.gz\n",
    "tar xvf  swissprot.tar"
   ]
  },
  {
   "cell_type": "code",
   "execution_count": 34,
   "metadata": {},
   "outputs": [
    {
     "name": "stdout",
     "output_type": "stream",
     "text": [
      "total 904M\r\n",
      "-rw-r--r-- 1 user1 user1 119M Jul 25 06:21 swissprot.00.phr\r\n",
      "-rw-r--r-- 1 user1 user1 3.6M Jul 25 06:21 swissprot.00.pin\r\n",
      "-rw-r--r-- 1 user1 user1 4.3M Jul 25 06:21 swissprot.00.pnd\r\n",
      "-rw-r--r-- 1 user1 user1  18K Jul 25 06:21 swissprot.00.pni\r\n",
      "-rw-r--r-- 1 user1 user1 1.8M Jul 25 06:21 swissprot.00.pog\r\n",
      "-rw-r--r-- 1 user1 user1 3.6M Jul 25 06:21 swissprot.00.ppd\r\n",
      "-rw-r--r-- 1 user1 user1  15K Jul 25 06:21 swissprot.00.ppi\r\n",
      "-rw-r--r-- 1 user1 user1  26M Jul 25 06:21 swissprot.00.psd\r\n",
      "-rw-r--r-- 1 user1 user1 606K Jul 25 06:21 swissprot.00.psi\r\n",
      "-rw-r--r-- 1 user1 user1 170M Jul 25 06:21 swissprot.00.psq\r\n",
      "-rw-r--r-- 1 user1 user1   31 Jul 25 06:21 swissprot.pal\r\n",
      "-rw-rw-r-- 1 user1 user1 452M Jul 26 19:43 swissprot.tar\r\n",
      "-rw-rw-r-- 1 user1 user1   51 Jul 26 19:43 swissprot.tar.gz.md5\r\n",
      "-rw-rw-r-- 1 user1 user1 113M Jul 26 04:01 taxdb.btd\r\n",
      "-rw-rw-r-- 1 user1 user1  13M Jul 26 04:01 taxdb.bti\r\n"
     ]
    }
   ],
   "source": [
    "ls -lh"
   ]
  },
  {
   "cell_type": "code",
   "execution_count": null,
   "metadata": {},
   "outputs": [],
   "source": []
  }
 ],
 "metadata": {
  "kernelspec": {
   "display_name": "Python 3",
   "language": "python",
   "name": "python3"
  },
  "language_info": {
   "codemirror_mode": {
    "name": "ipython",
    "version": 3
   },
   "file_extension": ".py",
   "mimetype": "text/x-python",
   "name": "python",
   "nbconvert_exporter": "python",
   "pygments_lexer": "ipython3",
   "version": "3.6.4"
  }
 },
 "nbformat": 4,
 "nbformat_minor": 2
}
